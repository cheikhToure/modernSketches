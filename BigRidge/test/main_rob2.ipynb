{
 "cells": [
  {
   "cell_type": "markdown",
   "metadata": {},
   "source": [
    "The main solving big ridge regression problems"
   ]
  },
  {
   "cell_type": "code",
   "execution_count": null,
   "metadata": {
    "collapsed": true
   },
   "outputs": [],
   "source": [
    "workspace()"
   ]
  },
  {
   "cell_type": "code",
   "execution_count": null,
   "metadata": {},
   "outputs": [],
   "source": [
    "using Plots"
   ]
  },
  {
   "cell_type": "code",
   "execution_count": 81,
   "metadata": {},
   "outputs": [
    {
     "name": "stderr",
     "output_type": "stream",
     "text": [
      "WARNING: Method definition (::Type{Main.MyOptions})(Int64, AbstractString, Float64, Float64, Int64, Int64, Float64, Bool, Bool, Array{Float64, N<:Any}) in module Main at /home/local/rgower/modernSketches/BigRidge/src/BigRidge.jl:13 overwritten at /home/local/rgower/modernSketches/BigRidge/src/BigRidge.jl:13.\n",
      "WARNING: Method definition (::Type{Main.MyOptions})(Any, Any, Any, Any, Any, Any, Any, Any, Any, Any) in module Main at /home/local/rgower/modernSketches/BigRidge/src/BigRidge.jl:13 overwritten at /home/local/rgower/modernSketches/BigRidge/src/BigRidge.jl:13.\n",
      "WARNING: Method definition (::Type{Main.Prob})(Array{Float64, N<:Any}, Array{Float64, N<:Any}, Array{Float64, N<:Any}, Int64, Float64, AbstractString) in module Main at /home/local/rgower/modernSketches/BigRidge/src/BigRidge.jl:27 overwritten at /home/local/rgower/modernSketches/BigRidge/src/BigRidge.jl:27.\n",
      "WARNING: Method definition (::Type{Main.Prob})(Any, Any, Any, Any, Any, Any) in module Main at /home/local/rgower/modernSketches/BigRidge/src/BigRidge.jl:27 overwritten at /home/local/rgower/modernSketches/BigRidge/src/BigRidge.jl:27.\n",
      "WARNING: Method definition (::Type{Main.Method})(Int64, AbstractString, Function, Function, Array{Float64, N<:Any}) in module Main at /home/local/rgower/modernSketches/BigRidge/src/BigRidge.jl:36 overwritten at /home/local/rgower/modernSketches/BigRidge/src/BigRidge.jl:36.\n",
      "WARNING: Method definition (::Type{Main.Method})(Any, Any, Any, Any, Any) in module Main at /home/local/rgower/modernSketches/BigRidge/src/BigRidge.jl:36 overwritten at /home/local/rgower/modernSketches/BigRidge/src/BigRidge.jl:36.\n",
      "WARNING: Method definition (::Type{Main.CGMethod})(Int64, AbstractString, Function, Function, Array{Float64, N<:Any}, Array{Float64, N<:Any}, Float64) in module Main at /home/local/rgower/modernSketches/BigRidge/src/BigRidge.jl:44 overwritten at /home/local/rgower/modernSketches/BigRidge/src/BigRidge.jl:44.\n",
      "WARNING: Method definition (::Type{Main.CGMethod})(Any, Any, Any, Any, Any, Any, Any) in module Main at /home/local/rgower/modernSketches/BigRidge/src/BigRidge.jl:44 overwritten at /home/local/rgower/modernSketches/BigRidge/src/BigRidge.jl:44.\n",
      "WARNING: Method definition (::Type{Main.Output})(Int64, Int64, Array{Float64, N<:Any}, Array{Float64, N<:Any}, Array{Float64, N<:Any}, AbstractString, AbstractString) in module Main at /home/local/rgower/modernSketches/BigRidge/src/BigRidge.jl:56 overwritten at /home/local/rgower/modernSketches/BigRidge/src/BigRidge.jl:56.\n",
      "WARNING: Method definition (::Type{Main.Output})(Any, Any, Any, Any, Any, Any, Any) in module Main at /home/local/rgower/modernSketches/BigRidge/src/BigRidge.jl:56 overwritten at /home/local/rgower/modernSketches/BigRidge/src/BigRidge.jl:56.\n",
      "WARNING: Method definition solveRidge(Main.Prob, Any, Main.MyOptions) in module Main at /home/local/rgower/modernSketches/BigRidge/src/solveRidge.jl:5 overwritten at /home/local/rgower/modernSketches/BigRidge/src/solveRidge.jl:5.\n",
      "WARNING: Method definition boot_method(AbstractString, Any, Main.MyOptions) in module Main at /home/local/rgower/modernSketches/BigRidge/src/boot_method.jl:2 overwritten at /home/local/rgower/modernSketches/BigRidge/src/boot_method.jl:2.\n",
      "WARNING: Method definition initDetails() in module Main at /home/local/rgower/modernSketches/BigRidge/src/dataLoad.jl:26 overwritten at /home/local/rgower/modernSketches/BigRidge/src/dataLoad.jl:26.\n",
      "WARNING: Method definition transformDataJLD(Any) in module Main at /home/local/rgower/modernSketches/BigRidge/src/dataLoad.jl:31 overwritten at /home/local/rgower/modernSketches/BigRidge/src/dataLoad.jl:31.\n",
      "WARNING: Method definition loadDataset(Any) in module Main at /home/local/rgower/modernSketches/BigRidge/src/dataLoad.jl:40 overwritten at /home/local/rgower/modernSketches/BigRidge/src/dataLoad.jl:40.\n",
      "WARNING: Method definition showDetails(Any) in module Main at /home/local/rgower/modernSketches/BigRidge/src/dataLoad.jl:45 overwritten at /home/local/rgower/modernSketches/BigRidge/src/dataLoad.jl:45.\n",
      "WARNING: Method definition readLIBSVM(AbstractString, Bool) in module Main at /home/local/rgower/modernSketches/BigRidge/src/dataLoad.jl:51 overwritten at /home/local/rgower/modernSketches/BigRidge/src/dataLoad.jl:51.\n",
      "WARNING: Method definition defineProb(Any) in module Main at /home/local/rgower/modernSketches/BigRidge/src/defineProb.jl:3 overwritten at /home/local/rgower/modernSketches/BigRidge/src/defineProb.jl:3.\n",
      "WARNING: Method definition get_randProb(Int64) in module Main at /home/local/rgower/modernSketches/BigRidge/src/get_randProb.jl:3 overwritten at /home/local/rgower/modernSketches/BigRidge/src/get_randProb.jl:3.\n",
      "WARNING: Method definition boot_grad(Main.Prob, Main.MyOptions) in module Main at /home/local/rgower/modernSketches/BigRidge/src/grad.jl:4 overwritten at /home/local/rgower/modernSketches/BigRidge/src/grad.jl:4.\n",
      "WARNING: Method definition step_grad(Main.Prob, Array{Float64, N<:Any}, Main.MyOptions) in module Main at /home/local/rgower/modernSketches/BigRidge/src/grad.jl:15 overwritten at /home/local/rgower/modernSketches/BigRidge/src/grad.jl:15.\n",
      "WARNING: Method definition boot_CD(Main.Prob, Main.MyOptions) in module Main at /home/local/rgower/modernSketches/BigRidge/src/CD.jl:5 overwritten at /home/local/rgower/modernSketches/BigRidge/src/CD.jl:5.\n",
      "WARNING: Method definition step_CD(Main.Prob, Array{Float64, N<:Any}, Main.MyOptions, Main.Method) in module Main at /home/local/rgower/modernSketches/BigRidge/src/CD.jl:15 overwritten at /home/local/rgower/modernSketches/BigRidge/src/CD.jl:15.\n",
      "WARNING: Method definition boot_CG(Main.Prob, Main.MyOptions) in module Main at /home/local/rgower/modernSketches/BigRidge/src/CG.jl:5 overwritten at /home/local/rgower/modernSketches/BigRidge/src/CG.jl:5.\n",
      "WARNING: Method definition step_CG(Main.Prob, Array{Float64, N<:Any}, Main.MyOptions, Main.CGMethod) in module Main at /home/local/rgower/modernSketches/BigRidge/src/CG.jl:17 overwritten at /home/local/rgower/modernSketches/BigRidge/src/CG.jl:17.\n",
      "WARNING: Method definition hada(Any, Any) in module Main at /home/local/rgower/modernSketches/BigRidge/src/hada.jl:6 overwritten at /home/local/rgower/modernSketches/BigRidge/src/hada.jl:6.\n",
      "WARNING: Method definition boot_Hadamard(Main.Prob, Main.MyOptions) in module Main at /home/local/rgower/modernSketches/BigRidge/src/Hadamard.jl:4 overwritten at /home/local/rgower/modernSketches/BigRidge/src/Hadamard.jl:4.\n",
      "WARNING: Method definition step_Hadamard(Main.Prob, Array{Float64, N<:Any}, Main.MyOptions, Main.Method) in module Main at /home/local/rgower/modernSketches/BigRidge/src/Hadamard.jl:17 overwritten at /home/local/rgower/modernSketches/BigRidge/src/Hadamard.jl:17.\n",
      "WARNING: Method definition boot_rademacher(Main.Prob, Main.MyOptions) in module Main at /home/local/rgower/modernSketches/BigRidge/src/rademacher.jl:2 overwritten at /home/local/rgower/modernSketches/BigRidge/src/rademacher.jl:2.\n",
      "WARNING: Method definition step_rademacher_rho(Main.Prob, Array{Float64, N<:Any}, Main.MyOptions, Main.Method) in module Main at /home/local/rgower/modernSketches/BigRidge/src/rademacher.jl:31 overwritten at /home/local/rgower/modernSketches/BigRidge/src/rademacher.jl:31.\n",
      "WARNING: Method definition step_rademacher(Main.Prob, Array{Float64, N<:Any}, Main.MyOptions, Main.Method) in module Main at /home/local/rgower/modernSketches/BigRidge/src/rademacher.jl:55 overwritten at /home/local/rgower/modernSketches/BigRidge/src/rademacher.jl:55.\n",
      "WARNING: Method definition step_rademachertest(Main.Prob, Array{Float64, N<:Any}, Main.MyOptions, Main.Method) in module Main at /home/local/rgower/modernSketches/BigRidge/src/rademacher.jl:94 overwritten at /home/local/rgower/modernSketches/BigRidge/src/rademacher.jl:94.\n",
      "WARNING: Method definition boot_countmin(Main.Prob, Main.MyOptions) in module Main at /home/local/rgower/modernSketches/BigRidge/src/countmin.jl:4 overwritten at /home/local/rgower/modernSketches/BigRidge/src/countmin.jl:4.\n",
      "WARNING: Method definition step_countmin(Main.Prob, Array{Float64, N<:Any}, Main.MyOptions, Main.Method) in module Main at /home/local/rgower/modernSketches/BigRidge/src/countmin.jl:14 overwritten at /home/local/rgower/modernSketches/BigRidge/src/countmin.jl:14.\n",
      "WARNING: Method definition plot_outputs_Plots(Any, Any) in module Main at /home/local/rgower/modernSketches/BigRidge/src/plot_outputs_Plots.jl:3 overwritten at /home/local/rgower/modernSketches/BigRidge/src/plot_outputs_Plots.jl:3.\n"
     ]
    },
    {
     "data": {
      "text/plain": [
       "plot_outputs_Plots (generic function with 1 method)"
      ]
     },
     "execution_count": 81,
     "metadata": {},
     "output_type": "execute_result"
    }
   ],
   "source": [
    "using StatsBase\n",
    "using JLD  \n",
    "include(\"../src/BigRidge.jl\")"
   ]
  },
  {
   "cell_type": "code",
   "execution_count": 76,
   "metadata": {
    "collapsed": true
   },
   "outputs": [],
   "source": [
    "#Basic parameters\n",
    "## Basic parameters\n",
    "maxiter=1000;\n",
    "max_time = 100;\n",
    "max_epocs = 100;\n",
    "printiters = true;\n",
    "exacterror =true; \n",
    "tol = 10.0^(-5.0);\n",
    "restol = 10.0^(-5.0);\n",
    "skip_error_calculation = 25;   # number of iterations where error is not calculated (to save time!) ceil((m)^(1/2))"
   ]
  },
  {
   "cell_type": "code",
   "execution_count": 77,
   "metadata": {},
   "outputs": [
    {
     "name": "stdout",
     "output_type": "stream",
     "text": [
      "../data/mnist.scale.jld\n"
     ]
    },
    {
     "data": {
      "text/plain": [
       "Dict{Symbol,Any} with 3 entries:\n",
       "  :sparsity => 0.192183\n",
       "  :dims     => 780\n",
       "  :n        => 60000"
      ]
     },
     "execution_count": 77,
     "metadata": {},
     "output_type": "execute_result"
    }
   ],
   "source": [
    "dataset = \"mnist.scale\"   # mnist.scale  a9a  gisette_scale  rcv1_train.binary\n",
    "prob = defineProb(dataset);\n",
    "showDetails(dataset)"
   ]
  },
  {
   "cell_type": "code",
   "execution_count": 78,
   "metadata": {},
   "outputs": [
    {
     "data": {
      "text/plain": [
       "2.2461272716752256e-9"
      ]
     },
     "execution_count": 78,
     "metadata": {},
     "output_type": "execute_result"
    }
   ],
   "source": [
    "norm(prob.A*prob.xsol - prob.b)"
   ]
  },
  {
   "cell_type": "code",
   "execution_count": 82,
   "metadata": {
    "collapsed": true
   },
   "outputs": [],
   "source": [
    "options = MyOptions(0,\"uni\",tol,restol,maxiter,skip_error_calculation,max_time,printiters,exacterror,[]) \n",
    "OUTPUTS = [];"
   ]
  },
  {
   "cell_type": "code",
   "execution_count": 83,
   "metadata": {},
   "outputs": [
    {
     "name": "stdout",
     "output_type": "stream",
     "text": [
      "rademacher-10-1.0\n",
      "-------------------\n",
      "It   | Error% | Residual |  Time   \n",
      "-------------------\n",
      " 25  | 23.70  |  11.30  | 0.3510 \n",
      " 50  | 16.50  |  7.14  | 0.4629 \n",
      " 75  | 13.11  |  5.87  | 0.5924 \n",
      "100  | 10.65  |  5.65  | 0.7372 \n",
      "125  | 9.14  |  4.26  | 0.8709 \n",
      "150  | 7.55  |  3.95  | 1.0220 \n",
      "175  | 6.39  |  3.47  | 1.1614 \n",
      "200  | 5.69  |  3.22  | 1.2790 \n",
      "225  | 5.52  |  2.46  | 1.3963 \n",
      "250  | 4.91  |  2.60  | 1.5044 \n",
      "275  | 4.01  |  2.10  | 1.6112 \n",
      "300  | 4.05  |  1.92  | 1.7172 \n",
      "325  | 3.77  |  1.84  | 1.8219 \n",
      "350  | 3.52  |  1.74  | 1.9225 \n",
      "375  | 3.29  |  1.48  | 2.0273 \n",
      "400  | 3.10  |  1.48  | 2.1284 \n",
      "425  | 2.44  |  1.49  | 2.2287 \n",
      "450  | 2.49  |  1.29  | 2.3291 \n",
      "475  | 2.63  |  1.38  | 2.4390 \n",
      "500  | 2.46  |  1.14  | 2.5463 \n",
      "525  | 2.33  |  1.15  | 2.6528 \n",
      "550  | 2.22  |  1.17  | 2.7644 \n",
      "575  | 2.11  |  1.10  | 2.8758 \n",
      "600  | 2.24  |  1.11  | 2.9791 \n",
      "625  | 1.35  |  1.25  | 3.0854 \n",
      "650  | 1.54  |  0.81  | 3.1989 \n",
      "675  | 1.84  |  0.93  | 3.3304 \n",
      "700  | 1.15  |  0.83  | 3.4591 \n",
      "725  | 1.25  |  0.86  | 3.5636 \n",
      "750  | 1.59  |  0.73  | 3.6654 \n",
      "775  | 1.38  |  0.84  | 3.7711 \n",
      "800  | 1.42  |  0.74  | 3.8727 \n",
      "825  | 1.46  |  0.76  | 3.9743 \n",
      "850  | 1.40  |  0.67  | 4.0750 \n",
      "875  | 1.54  |  0.65  | 4.1779 \n",
      "900  | 1.57  |  0.71  | 4.2787 \n",
      "925  | 1.50  |  0.62  | 4.3795 \n",
      "950  | 1.27  |  0.55  | 4.4807 \n",
      "975  | 1.24  |  0.58  | 4.5815 \n",
      "1000  | 1.21  |  0.62  | 4.6821 \n",
      "  5.217919 seconds (1.07 M allocations: 9.447 GB, 10.19% gc time)\n"
     ]
    }
   ],
   "source": [
    "# Testing Rademarcher Sketch\n",
    "options.AUX = [1, 1]; # use sign flipping\n",
    "method_name = \"rademacher\";# ROS\n",
    "options.sketchsize =10;#Int(floor((prob.n)^(1/2)));\n",
    "@time   output= solveRidge(prob, method_name, options);\n",
    "OUTPUTS = [OUTPUTS ; output];"
   ]
  },
  {
   "cell_type": "code",
   "execution_count": 65,
   "metadata": {},
   "outputs": [
    {
     "name": "stderr",
     "output_type": "stream",
     "text": [
      "WARNING: Method definition mapitf(Array{Float64, N<:Any}, Any, Any) in module Main at In[64]:9 overwritten at In[65]:9.\n",
      "WARNING: Method definition loopitf(Array{Float64, N<:Any}, Any, Any) in module Main at In[64]:14 overwritten at In[65]:14.\n"
     ]
    },
    {
     "data": {
      "text/plain": [
       "1×780 Array{Float64,2}:\n",
       " -1.31195e5  -1.31195e5  -1.31195e5  …  -1.31273e5  -1.3128e5  -1.31212e5"
      ]
     },
     "execution_count": 65,
     "metadata": {},
     "output_type": "execute_result"
    }
   ],
   "source": [
    "    \n",
    "rho = Int(options.AUX[2]); # the density per row\n",
    "s = options.sketchsize;\n",
    "ind = sample(1:prob.n,rho*s,replace=false); # shuffle all indices\n",
    "ind =reshape(ind, s,rho);\n",
    "DATA = zeros(s,prob.n);\n",
    "\n",
    " function mapitf(A::Array{Float64}, ind, DATA)\n",
    " DATA = map( x-> sum(A[ind[x,:],:],1), 1:s)\n",
    " end\n",
    "\n",
    "function loopitf(A::Array{Float64}, ind, DATA)\n",
    "    for i =1:s\n",
    "        DATA[i,:] = sum(A[ind[i,:],:],1);\n",
    "    end\n",
    "end\n",
    "\n",
    "mapitf(prob.A,ind,DATA)\n",
    "\n",
    "#loopitf(prob.A,ind,DATA)\n",
    "#sum(prob.A[ind[1,:],:],1)\n",
    "#DATA"
   ]
  },
  {
   "cell_type": "code",
   "execution_count": 84,
   "metadata": {},
   "outputs": [
    {
     "name": "stdout",
     "output_type": "stream",
     "text": [
      "rademacher-10\n",
      "-------------------\n",
      "It   | Error% | Residual |  Time   \n",
      "-------------------\n",
      " 25  | 23.50  |  11.03  | 0.1448 \n",
      " 50  | 16.72  |  6.88  | 0.2610 \n",
      " 75  | 12.77  |  5.86  | 0.3802 \n",
      "100  | 10.27  |  5.51  | 0.4993 \n",
      "125  | 8.86  |  3.86  | 0.6161 \n",
      "150  | 7.77  |  3.36  | 0.7305 \n",
      "175  | 6.95  |  2.91  | 0.8327 \n",
      "200  | 6.24  |  2.95  | 0.9331 \n",
      "225  | 5.66  |  2.68  | 1.0379 \n",
      "250  | 5.18  |  2.26  | 1.1424 \n",
      "275  | 4.70  |  2.32  | 1.2536 \n",
      "300  | 4.84  |  2.00  | 1.3579 \n",
      "325  | 4.02  |  2.06  | 1.4581 \n",
      "350  | 3.72  |  1.77  | 1.5926 \n",
      "375  | 3.47  |  1.86  | 1.7295 \n",
      "400  | 3.19  |  1.53  | 1.8620 \n",
      "425  | 3.00  |  1.50  | 1.9960 \n",
      "450  | 2.85  |  1.28  | 2.1177 \n",
      "475  | 2.70  |  1.31  | 2.2545 \n",
      "500  | 2.36  |  1.24  | 2.3853 \n",
      "525  | 2.92  |  1.11  | 2.5120 \n",
      "550  | 2.31  |  1.25  | 2.6392 \n",
      "575  | 2.19  |  1.24  | 2.7704 \n",
      "600  | 2.10  |  0.96  | 2.8991 \n",
      "625  | 2.96  |  1.06  | 3.0011 \n",
      "650  | 1.03  |  1.16  | 3.1038 \n",
      "675  | 1.14  |  1.12  | 3.2069 \n",
      "700  | 1.86  |  0.96  | 3.3093 \n",
      "725  | 1.20  |  0.88  | 3.4126 \n",
      "750  | 1.64  |  0.88  | 3.5137 \n",
      "775  | 1.60  |  0.75  | 3.6148 \n",
      "800  | 1.35  |  0.78  | 3.7165 \n",
      "825  | 1.40  |  0.73  | 3.8177 \n",
      "850  | 1.45  |  0.69  | 3.9222 \n",
      "875  | 1.41  |  0.65  | 4.0265 \n",
      "900  | 1.38  |  0.76  | 4.1265 \n",
      "925  | 1.34  |  0.71  | 4.2278 \n",
      "950  | 1.30  |  0.63  | 4.3297 \n",
      "975  | 1.81  |  0.62  | 4.4328 \n",
      "1000  | 1.97  |  0.59  | 4.5438 \n",
      "  4.678438 seconds (764.43 k allocations: 9.437 GB, 12.08% gc time)\n"
     ]
    }
   ],
   "source": [
    "options.AUX = [0 10]; # don't use sign flipping and use a density of 10 per row\n",
    "method_name = \"rademacher\";# ROS\n",
    "options.sketchsize = 10; #floor((prob.n)^(1/2));\n",
    "@time   output= solveRidge(prob, method_name, options);\n",
    "OUTPUTS = [OUTPUTS ; output];"
   ]
  },
  {
   "cell_type": "code",
   "execution_count": null,
   "metadata": {},
   "outputs": [],
   "source": [
    "# Testing Hadamard Sketch\n",
    "method_name = \"Hadamard\";# ROS\n",
    "options.sketchsize =10; # Int(floor(log2(prob.n)));\n",
    "options.skip_error_calculation =25;\n",
    "@time  output= solveRidge(prob, method_name, options);\n",
    "OUTPUTS = [OUTPUTS ; output];"
   ]
  },
  {
   "cell_type": "code",
   "execution_count": null,
   "metadata": {},
   "outputs": [],
   "source": [
    "# Testing countmin \n",
    "options.sketchsize =10;#floor((prob.n)^(1/2));\n",
    "options.skip_error_calculation =25;\n",
    "method_name = \"countmin\";# gradient descent\n",
    "@time output= solveRidge(prob, method_name, options);\n",
    "OUTPUTS = [OUTPUTS ; output];"
   ]
  },
  {
   "cell_type": "code",
   "execution_count": null,
   "metadata": {},
   "outputs": [],
   "source": [
    "# Testing CG \n",
    "options.skip_error_calculation =25;\n",
    "method_name = \"CG\";# gradient descent\n",
    "@time output= solveRidge(prob, method_name, options);\n",
    "OUTPUTS = [OUTPUTS ; output];"
   ]
  },
  {
   "cell_type": "code",
   "execution_count": null,
   "metadata": {},
   "outputs": [],
   "source": [
    "# Testing CD \n",
    "method_name = \"CD\";# gradient descent\n",
    "options.sketchsize = 10;#floor((prob.n)^(1/2));\n",
    "@time output= solveRidge(prob, method_name, options);\n",
    "OUTPUTS = [OUTPUTS ; output];"
   ]
  },
  {
   "cell_type": "code",
   "execution_count": null,
   "metadata": {
    "collapsed": true
   },
   "outputs": [],
   "source": [
    "savename = replace(prob.name, r\"[\\/]\", \"-\");\n",
    "save(\"../data/$(savename)-OUTPUTS.jld\", \"OUTPUTS\", OUTPUTS)"
   ]
  },
  {
   "cell_type": "code",
   "execution_count": null,
   "metadata": {},
   "outputs": [],
   "source": [
    "#using GR\n",
    "using Plots\n",
    "pgfplots()\n",
    "plot_outputs_Plots(OUTPUTS,savename)"
   ]
  },
  {
   "cell_type": "code",
   "execution_count": null,
   "metadata": {
    "collapsed": true
   },
   "outputs": [],
   "source": [
    "# Loading saved problem data\n",
    "probname = \"w8a\"#\"gisette_scale-ridge\";  \n",
    "test = load(\"../data/$(probname)-OUTPUTS.jld\")\n",
    "OUTPUTS = test[\"OUTPUTS\"];"
   ]
  },
  {
   "cell_type": "code",
   "execution_count": null,
   "metadata": {
    "collapsed": true
   },
   "outputs": [],
   "source": []
  }
 ],
 "metadata": {
  "anaconda-cloud": {},
  "kernelspec": {
   "display_name": "Julia 0.5.2",
   "language": "julia",
   "name": "julia-0.5"
  },
  "language_info": {
   "file_extension": ".jl",
   "mimetype": "application/julia",
   "name": "julia",
   "version": "0.5.2"
  }
 },
 "nbformat": 4,
 "nbformat_minor": 1
}
