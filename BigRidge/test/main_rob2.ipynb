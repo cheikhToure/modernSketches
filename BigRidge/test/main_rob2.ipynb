{
 "cells": [
  {
   "cell_type": "markdown",
   "metadata": {},
   "source": [
    "The main solving big ridge regression problems"
   ]
  },
  {
   "cell_type": "code",
   "execution_count": 1,
   "metadata": {
    "collapsed": true
   },
   "outputs": [],
   "source": [
    "workspace()"
   ]
  },
  {
   "cell_type": "code",
   "execution_count": 2,
   "metadata": {},
   "outputs": [
    {
     "name": "stderr",
     "output_type": "stream",
     "text": [
      "WARNING: Method definition (::Type{Main.Base.LinearIndexing})(Type{#T<:Any}) in module Compat at /home/ROCQ/sierra/rgower/.julia/v0.5/Compat/src/Compat.jl:1430 overwritten in module Compat at /home/ROCQ/sierra/rgower/.julia/v0.5/Compat/src/Compat.jl:1430.\n",
      "WARNING: Method definition (::Type{Main.Base.LinearIndexing})(Any...) in module Compat at /home/ROCQ/sierra/rgower/.julia/v0.5/Compat/src/Compat.jl:1431 overwritten in module Compat at /home/ROCQ/sierra/rgower/.julia/v0.5/Compat/src/Compat.jl:1431.\n",
      "WARNING: Method definition unsafe_trunc(Type{#T<:Integer}, Integer) in module Compat at /home/ROCQ/sierra/rgower/.julia/v0.5/Compat/src/Compat.jl:1469 overwritten in module Compat at /home/ROCQ/sierra/rgower/.julia/v0.5/Compat/src/Compat.jl:1469.\n",
      "WARNING: Method definition convert(Type{Main.Base.Set{#T<:Any}}, Main.Base.Set{#T<:Any}) in module Compat at /home/ROCQ/sierra/rgower/.julia/v0.5/Compat/src/Compat.jl:1459 overwritten in module Compat at /home/ROCQ/sierra/rgower/.julia/v0.5/Compat/src/Compat.jl:1459.\n",
      "WARNING: Method definition convert(Type{Main.Base.Set{#T<:Any}}, Main.Base.Set) in module Compat at /home/ROCQ/sierra/rgower/.julia/v0.5/Compat/src/Compat.jl:1460 overwritten in module Compat at /home/ROCQ/sierra/rgower/.julia/v0.5/Compat/src/Compat.jl:1460.\n",
      "WARNING: Method definition bswap(Main.Base.Complex) in module Compat at /home/ROCQ/sierra/rgower/.julia/v0.5/Compat/src/Compat.jl:1474 overwritten in module Compat at /home/ROCQ/sierra/rgower/.julia/v0.5/Compat/src/Compat.jl:1474.\n",
      "WARNING: Method definition redirect_stderr(Function, Any) in module Compat at /home/ROCQ/sierra/rgower/.julia/v0.5/Compat/src/Compat.jl:1057 overwritten in module Compat at /home/ROCQ/sierra/rgower/.julia/v0.5/Compat/src/Compat.jl:1057.\n",
      "WARNING: Method definition take!(Task) in module Compat at /home/ROCQ/sierra/rgower/.julia/v0.5/Compat/src/Compat.jl:53 overwritten in module Compat at /home/ROCQ/sierra/rgower/.julia/v0.5/Compat/src/Compat.jl:53.\n",
      "WARNING: Method definition take!(Main.Base.AbstractIOBuffer) in module Compat at /home/ROCQ/sierra/rgower/.julia/v0.5/Compat/src/Compat.jl:1172 overwritten in module Compat at /home/ROCQ/sierra/rgower/.julia/v0.5/Compat/src/Compat.jl:1172.\n",
      "WARNING: Method definition macroexpand(Module, ANY<:Any) in module Compat at /home/ROCQ/sierra/rgower/.julia/v0.5/Compat/src/Compat.jl:1491 overwritten in module Compat at /home/ROCQ/sierra/rgower/.julia/v0.5/Compat/src/Compat.jl:1491.\n",
      "WARNING: Method definition isless(Union{Main.Base.Dates.Week, Main.Base.Dates.Hour, Main.Base.Dates.Minute, Main.Base.Dates.Day, Main.Base.Dates.Millisecond, Main.Base.Dates.Second}, Union{Main.Base.Dates.Year, Main.Base.Dates.Month}) in module Compat at /home/ROCQ/sierra/rgower/.julia/v0.5/Compat/src/Compat.jl:1529 overwritten in module Compat at /home/ROCQ/sierra/rgower/.julia/v0.5/Compat/src/Compat.jl:1529.\n",
      "WARNING: Method definition isless(Union{Main.Base.Dates.Year, Main.Base.Dates.Month}, Union{Main.Base.Dates.Week, Main.Base.Dates.Hour, Main.Base.Dates.Minute, Main.Base.Dates.Day, Main.Base.Dates.Millisecond, Main.Base.Dates.Second}) in module Compat at /home/ROCQ/sierra/rgower/.julia/v0.5/Compat/src/Compat.jl:1530 overwritten in module Compat at /home/ROCQ/sierra/rgower/.julia/v0.5/Compat/src/Compat.jl:1530.\n",
      "WARNING: Method definition isless(Main.Base.Dates.Period, Main.Base.Dates.Period) in module Compat at /home/ROCQ/sierra/rgower/.julia/v0.5/Compat/src/Compat.jl:1524 overwritten in module Compat at /home/ROCQ/sierra/rgower/.julia/v0.5/Compat/src/Compat.jl:1524.\n",
      "WARNING: Method definition broadcast(Any, Tuple{Vararg{T<:Any, #N<:Any}}, Tuple{Vararg{T<:Any, #N<:Any}}...) in module Compat at /home/ROCQ/sierra/rgower/.julia/v0.5/Compat/src/Compat.jl:1122 overwritten in module Compat at /home/ROCQ/sierra/rgower/.julia/v0.5/Compat/src/Compat.jl:1122.\n",
      "WARNING: Method definition redirect_stdout(Function, Any) in module Compat at /home/ROCQ/sierra/rgower/.julia/v0.5/Compat/src/Compat.jl:1057 overwritten in module Compat at /home/ROCQ/sierra/rgower/.julia/v0.5/Compat/src/Compat.jl:1057.\n",
      "WARNING: Method definition expand(Module, ANY<:Any) in module Compat at /home/ROCQ/sierra/rgower/.julia/v0.5/Compat/src/Compat.jl:1490 overwritten in module Compat at /home/ROCQ/sierra/rgower/.julia/v0.5/Compat/src/Compat.jl:1490.\n",
      "WARNING: Method definition redirect_stdin(Function, Any) in module Compat at /home/ROCQ/sierra/rgower/.julia/v0.5/Compat/src/Compat.jl:1057 overwritten in module Compat at /home/ROCQ/sierra/rgower/.julia/v0.5/Compat/src/Compat.jl:1057.\n",
      "WARNING: Method definition zeros(AbstractArray) in module Compat at /home/ROCQ/sierra/rgower/.julia/v0.5/Compat/src/Compat.jl:1440 overwritten in module Compat at /home/ROCQ/sierra/rgower/.julia/v0.5/Compat/src/Compat.jl:1440.\n",
      "WARNING: Method definition zeros(AbstractArray, Type) in module Compat at /home/ROCQ/sierra/rgower/.julia/v0.5/Compat/src/Compat.jl:1440 overwritten in module Compat at /home/ROCQ/sierra/rgower/.julia/v0.5/Compat/src/Compat.jl:1440.\n",
      "WARNING: Method definition zeros(AbstractArray, Type, Tuple) in module Compat at /home/ROCQ/sierra/rgower/.julia/v0.5/Compat/src/Compat.jl:1438 overwritten in module Compat at /home/ROCQ/sierra/rgower/.julia/v0.5/Compat/src/Compat.jl:1438.\n",
      "WARNING: Method definition zeros(AbstractArray, Type, Any...) in module Compat at /home/ROCQ/sierra/rgower/.julia/v0.5/Compat/src/Compat.jl:1439 overwritten in module Compat at /home/ROCQ/sierra/rgower/.julia/v0.5/Compat/src/Compat.jl:1439.\n",
      "WARNING: Method definition isassigned(Main.Base.RefValue) in module Compat at /home/ROCQ/sierra/rgower/.julia/v0.5/Compat/src/Compat.jl:1465 overwritten in module Compat at /home/ROCQ/sierra/rgower/.julia/v0.5/Compat/src/Compat.jl:1465.\n",
      "WARNING: Method definition include_string(Module, String, String) in module Compat at /home/ROCQ/sierra/rgower/.julia/v0.5/Compat/src/Compat.jl:1492 overwritten in module Compat at /home/ROCQ/sierra/rgower/.julia/v0.5/Compat/src/Compat.jl:1492.\n",
      "WARNING: Method definition include_string(Module, AbstractString) in module Compat at /home/ROCQ/sierra/rgower/.julia/v0.5/Compat/src/Compat.jl:1494 overwritten in module Compat at /home/ROCQ/sierra/rgower/.julia/v0.5/Compat/src/Compat.jl:1494.\n",
      "WARNING: Method definition include_string(Module, AbstractString, AbstractString) in module Compat at /home/ROCQ/sierra/rgower/.julia/v0.5/Compat/src/Compat.jl:1494 overwritten in module Compat at /home/ROCQ/sierra/rgower/.julia/v0.5/Compat/src/Compat.jl:1494.\n",
      "WARNING: Method definition !(Function) in module Compat at /home/ROCQ/sierra/rgower/.julia/v0.5/Compat/src/Compat.jl:1205 overwritten in module Compat at /home/ROCQ/sierra/rgower/.julia/v0.5/Compat/src/Compat.jl:1205.\n",
      "WARNING: Method definition ==(Union{Main.Base.Dates.Week, Main.Base.Dates.Hour, Main.Base.Dates.Minute, Main.Base.Dates.Day, Main.Base.Dates.Millisecond, Main.Base.Dates.Second}, Union{Main.Base.Dates.Year, Main.Base.Dates.Month}) in module Compat at /home/ROCQ/sierra/rgower/.julia/v0.5/Compat/src/Compat.jl:1527 overwritten in module Compat at /home/ROCQ/sierra/rgower/.julia/v0.5/Compat/src/Compat.jl:1527.\n",
      "WARNING: Method definition ==(Union{Main.Base.Dates.Year, Main.Base.Dates.Month}, Union{Main.Base.Dates.Week, Main.Base.Dates.Hour, Main.Base.Dates.Minute, Main.Base.Dates.Day, Main.Base.Dates.Millisecond, Main.Base.Dates.Second}) in module Compat at /home/ROCQ/sierra/rgower/.julia/v0.5/Compat/src/Compat.jl:1528 overwritten in module Compat at /home/ROCQ/sierra/rgower/.julia/v0.5/Compat/src/Compat.jl:1528.\n",
      "WARNING: Method definition ==(Main.Base.Dates.Period, Main.Base.Dates.Period) in module Compat at /home/ROCQ/sierra/rgower/.julia/v0.5/Compat/src/Compat.jl:1523 overwritten in module Compat at /home/ROCQ/sierra/rgower/.julia/v0.5/Compat/src/Compat.jl:1523.\n",
      "WARNING: Method definition ones(AbstractArray) in module Compat at /home/ROCQ/sierra/rgower/.julia/v0.5/Compat/src/Compat.jl:1440 overwritten in module Compat at /home/ROCQ/sierra/rgower/.julia/v0.5/Compat/src/Compat.jl:1440.\n",
      "WARNING: Method definition ones(AbstractArray, Type) in module Compat at /home/ROCQ/sierra/rgower/.julia/v0.5/Compat/src/Compat.jl:1440 overwritten in module Compat at /home/ROCQ/sierra/rgower/.julia/v0.5/Compat/src/Compat.jl:1440.\n",
      "WARNING: Method definition ones(AbstractArray, Type, Tuple) in module Compat at /home/ROCQ/sierra/rgower/.julia/v0.5/Compat/src/Compat.jl:1438 overwritten in module Compat at /home/ROCQ/sierra/rgower/.julia/v0.5/Compat/src/Compat.jl:1438.\n",
      "WARNING: Method definition ones(AbstractArray, Type, Any...) in module Compat at /home/ROCQ/sierra/rgower/.julia/v0.5/Compat/src/Compat.jl:1439 overwritten in module Compat at /home/ROCQ/sierra/rgower/.julia/v0.5/Compat/src/Compat.jl:1439.\n",
      "WARNING: Method definition isnull(Any) in module Compat at /home/ROCQ/sierra/rgower/.julia/v0.5/Compat/src/Compat.jl:1137 overwritten in module Compat at /home/ROCQ/sierra/rgower/.julia/v0.5/Compat/src/Compat.jl:1137.\n",
      "\u001b[1m\u001b[34mINFO: Recompiling stale cache file /home/ROCQ/sierra/rgower/.julia/lib/v0.5/FixedSizeArrays.ji for module FixedSizeArrays.\n"
     ]
    },
    {
     "name": "stderr",
     "output_type": "stream",
     "text": [
      "\u001b[0m\u001b[1m\u001b[34mINFO: Recompiling stale cache file /home/ROCQ/sierra/rgower/.julia/lib/v0.5/PlotUtils.ji for module PlotUtils.\n",
      "\u001b[0m\u001b[1m\u001b[34mINFO: Recompiling stale cache file /home/ROCQ/sierra/rgower/.julia/lib/v0.5/PlotThemes.ji for module PlotThemes.\n",
      "\u001b[0m\u001b[1m\u001b[34mINFO: Recompiling stale cache file /home/ROCQ/sierra/rgower/.julia/lib/v0.5/Showoff.ji for module Showoff.\n",
      "\u001b[0m\u001b[1m\u001b[34mINFO: Recompiling stale cache file /home/ROCQ/sierra/rgower/.julia/lib/v0.5/StatsBase.ji for module StatsBase.\n",
      "\u001b[0m\u001b[1m\u001b[34mINFO: Recompiling stale cache file /home/ROCQ/sierra/rgower/.julia/lib/v0.5/NaNMath.ji for module NaNMath.\n",
      "\u001b[0m\u001b[1m\u001b[34mINFO: Recompiling stale cache file /home/ROCQ/sierra/rgower/.julia/lib/v0.5/FileIO.ji for module FileIO.\n",
      "\u001b[0m"
     ]
    }
   ],
   "source": [
    "using Plots"
   ]
  },
  {
   "cell_type": "code",
   "execution_count": 30,
   "metadata": {},
   "outputs": [
    {
     "name": "stderr",
     "output_type": "stream",
     "text": [
      "WARNING: Method definition (::Type{Main.MyOptions})(Int64, AbstractString, Float64, Float64, Int64, Int64, Float64, Bool, Bool) in module Main at /home/local/rgower/modernSketches/BigRidge/src/BigRidge.jl:13 overwritten at /home/local/rgower/modernSketches/BigRidge/src/BigRidge.jl:13.\n",
      "WARNING: Method definition (::Type{Main.MyOptions})(Any, Any, Any, Any, Any, Any, Any, Any, Any) in module Main at /home/local/rgower/modernSketches/BigRidge/src/BigRidge.jl:13 overwritten at /home/local/rgower/modernSketches/BigRidge/src/BigRidge.jl:13.\n",
      "WARNING: Method definition (::Type{Main.Prob})(Array{Float64, N<:Any}, Array{Float64, N<:Any}, Array{Float64, N<:Any}, Int64, Float64, AbstractString) in module Main at /home/local/rgower/modernSketches/BigRidge/src/BigRidge.jl:26 overwritten at /home/local/rgower/modernSketches/BigRidge/src/BigRidge.jl:26.\n",
      "WARNING: Method definition (::Type{Main.Prob})(Any, Any, Any, Any, Any, Any) in module Main at /home/local/rgower/modernSketches/BigRidge/src/BigRidge.jl:26 overwritten at /home/local/rgower/modernSketches/BigRidge/src/BigRidge.jl:26.\n",
      "WARNING: Method definition (::Type{Main.Method})(Int64, AbstractString, Function, Function) in module Main at /home/local/rgower/modernSketches/BigRidge/src/BigRidge.jl:35 overwritten at /home/local/rgower/modernSketches/BigRidge/src/BigRidge.jl:35.\n",
      "WARNING: Method definition (::Type{Main.Method})(Any, Any, Any, Any) in module Main at /home/local/rgower/modernSketches/BigRidge/src/BigRidge.jl:35 overwritten at /home/local/rgower/modernSketches/BigRidge/src/BigRidge.jl:35.\n",
      "WARNING: Method definition (::Type{Main.CGMethod})(Int64, AbstractString, Function, Function, Array{Float64, N<:Any}, Array{Float64, N<:Any}, Float64) in module Main at /home/local/rgower/modernSketches/BigRidge/src/BigRidge.jl:42 overwritten at /home/local/rgower/modernSketches/BigRidge/src/BigRidge.jl:42.\n",
      "WARNING: Method definition (::Type{Main.CGMethod})(Any, Any, Any, Any, Any, Any, Any) in module Main at /home/local/rgower/modernSketches/BigRidge/src/BigRidge.jl:42 overwritten at /home/local/rgower/modernSketches/BigRidge/src/BigRidge.jl:42.\n",
      "WARNING: Method definition (::Type{Main.Output})(Int64, Int64, Array{Float64, N<:Any}, Array{Float64, N<:Any}, Array{Float64, N<:Any}, AbstractString, AbstractString) in module Main at /home/local/rgower/modernSketches/BigRidge/src/BigRidge.jl:54 overwritten at /home/local/rgower/modernSketches/BigRidge/src/BigRidge.jl:54.\n",
      "WARNING: Method definition (::Type{Main.Output})(Any, Any, Any, Any, Any, Any, Any) in module Main at /home/local/rgower/modernSketches/BigRidge/src/BigRidge.jl:54 overwritten at /home/local/rgower/modernSketches/BigRidge/src/BigRidge.jl:54.\n",
      "WARNING: Method definition solveRidge(Main.Prob, Any, Main.MyOptions) in module Main at /home/local/rgower/modernSketches/BigRidge/src/solveRidge.jl:5 overwritten at /home/local/rgower/modernSketches/BigRidge/src/solveRidge.jl:5.\n",
      "WARNING: Method definition boot_method(AbstractString, Any, Main.MyOptions) in module Main at /home/local/rgower/modernSketches/BigRidge/src/boot_method.jl:2 overwritten at /home/local/rgower/modernSketches/BigRidge/src/boot_method.jl:2.\n",
      "WARNING: Method definition initDetails() in module Main at /home/local/rgower/modernSketches/BigRidge/src/dataLoad.jl:26 overwritten at /home/local/rgower/modernSketches/BigRidge/src/dataLoad.jl:26.\n",
      "WARNING: Method definition transformDataJLD(Any) in module Main at /home/local/rgower/modernSketches/BigRidge/src/dataLoad.jl:31 overwritten at /home/local/rgower/modernSketches/BigRidge/src/dataLoad.jl:31.\n",
      "WARNING: Method definition loadDataset(Any) in module Main at /home/local/rgower/modernSketches/BigRidge/src/dataLoad.jl:40 overwritten at /home/local/rgower/modernSketches/BigRidge/src/dataLoad.jl:40.\n",
      "WARNING: Method definition showDetails(Any) in module Main at /home/local/rgower/modernSketches/BigRidge/src/dataLoad.jl:45 overwritten at /home/local/rgower/modernSketches/BigRidge/src/dataLoad.jl:45.\n",
      "WARNING: Method definition readLIBSVM(AbstractString, Bool) in module Main at /home/local/rgower/modernSketches/BigRidge/src/dataLoad.jl:51 overwritten at /home/local/rgower/modernSketches/BigRidge/src/dataLoad.jl:51.\n",
      "WARNING: Method definition defineProb(Any) in module Main at /home/local/rgower/modernSketches/BigRidge/src/defineProb.jl:4 overwritten at /home/local/rgower/modernSketches/BigRidge/src/defineProb.jl:4.\n",
      "WARNING: Method definition get_randProb(Int64) in module Main at /home/local/rgower/modernSketches/BigRidge/src/get_randProb.jl:3 overwritten at /home/local/rgower/modernSketches/BigRidge/src/get_randProb.jl:3.\n",
      "WARNING: Method definition boot_grad(Main.Prob, Main.MyOptions) in module Main at /home/local/rgower/modernSketches/BigRidge/src/grad.jl:4 overwritten at /home/local/rgower/modernSketches/BigRidge/src/grad.jl:4.\n",
      "WARNING: Method definition step_grad(Main.Prob, Array{Float64, N<:Any}, Main.MyOptions) in module Main at /home/local/rgower/modernSketches/BigRidge/src/grad.jl:15 overwritten at /home/local/rgower/modernSketches/BigRidge/src/grad.jl:15.\n",
      "WARNING: Method definition boot_CD(Main.Prob, Main.MyOptions) in module Main at /home/local/rgower/modernSketches/BigRidge/src/CD.jl:5 overwritten at /home/local/rgower/modernSketches/BigRidge/src/CD.jl:5.\n",
      "WARNING: Method definition step_CD(Main.Prob, Array{Float64, N<:Any}, Main.MyOptions) in module Main at /home/local/rgower/modernSketches/BigRidge/src/CD.jl:13 overwritten at /home/local/rgower/modernSketches/BigRidge/src/CD.jl:13.\n",
      "WARNING: Method definition boot_CG(Main.Prob, Main.MyOptions) in module Main at /home/local/rgower/modernSketches/BigRidge/src/CG.jl:5 overwritten at /home/local/rgower/modernSketches/BigRidge/src/CG.jl:5.\n",
      "WARNING: Method definition step_CG(Main.Prob, Array{Float64, N<:Any}, Main.MyOptions, Main.CGMethod) in module Main at /home/local/rgower/modernSketches/BigRidge/src/CG.jl:17 overwritten at /home/local/rgower/modernSketches/BigRidge/src/CG.jl:17.\n",
      "WARNING: Method definition hada(Any, Any) in module Main at /home/local/rgower/modernSketches/BigRidge/src/hada.jl:4 overwritten at /home/local/rgower/modernSketches/BigRidge/src/hada.jl:4.\n",
      "WARNING: Method definition boot_Hadamard(Main.Prob, Main.MyOptions) in module Main at /home/local/rgower/modernSketches/BigRidge/src/Hadamard.jl:4 overwritten at /home/local/rgower/modernSketches/BigRidge/src/Hadamard.jl:4.\n",
      "WARNING: Method definition step_Hadamard(Main.Prob, Array{Float64, N<:Any}, Main.MyOptions) in module Main at /home/local/rgower/modernSketches/BigRidge/src/Hadamard.jl:21 overwritten at /home/local/rgower/modernSketches/BigRidge/src/Hadamard.jl:21.\n",
      "WARNING: Method definition boot_rademacher(Main.Prob, Main.MyOptions) in module Main at /home/local/rgower/modernSketches/BigRidge/src/rademacher.jl:2 overwritten at /home/local/rgower/modernSketches/BigRidge/src/rademacher.jl:2.\n",
      "WARNING: Method definition step_rademacher(Main.Prob, Array{Float64, N<:Any}, Main.MyOptions) in module Main at /home/local/rgower/modernSketches/BigRidge/src/rademacher.jl:13 overwritten at /home/local/rgower/modernSketches/BigRidge/src/rademacher.jl:13.\n",
      "WARNING: Method definition Countstream(Any, Any) in module Main at /home/local/rgower/modernSketches/BigRidge/src/Countstream.jl:2 overwritten at /home/local/rgower/modernSketches/BigRidge/src/Countstream.jl:2.\n",
      "WARNING: Method definition boot_countmin(Main.Prob, Main.MyOptions) in module Main at /home/local/rgower/modernSketches/BigRidge/src/countmin.jl:4 overwritten at /home/local/rgower/modernSketches/BigRidge/src/countmin.jl:4.\n",
      "WARNING: Method definition step_countmin(Main.Prob, Array{Float64, N<:Any}, Main.MyOptions) in module Main at /home/local/rgower/modernSketches/BigRidge/src/countmin.jl:15 overwritten at /home/local/rgower/modernSketches/BigRidge/src/countmin.jl:15.\n",
      "WARNING: Method definition plot_outputs_Plots(Any, Any) in module Main at /home/local/rgower/modernSketches/BigRidge/src/plot_outputs_Plots.jl:3 overwritten at /home/local/rgower/modernSketches/BigRidge/src/plot_outputs_Plots.jl:3.\n"
     ]
    },
    {
     "data": {
      "text/plain": [
       "plot_outputs_Plots (generic function with 1 method)"
      ]
     },
     "execution_count": 30,
     "metadata": {},
     "output_type": "execute_result"
    }
   ],
   "source": [
    "using StatsBase\n",
    "using JLD  \n",
    "include(\"../src/BigRidge.jl\")"
   ]
  },
  {
   "cell_type": "code",
   "execution_count": 33,
   "metadata": {
    "collapsed": true
   },
   "outputs": [],
   "source": [
    "#Basic parameters\n",
    "## Basic parameters\n",
    "maxiter=10^8;\n",
    "max_time = 10;\n",
    "max_epocs = 100;\n",
    "printiters = true;\n",
    "exacterror =true; \n",
    "tol = 10.0^(-5.0);\n",
    "restol = 10.0^(-5.0);\n",
    "skip_error_calculation = 25;   # number of iterations where error is not calculated (to save time!) ceil((m)^(1/2))"
   ]
  },
  {
   "cell_type": "code",
   "execution_count": 34,
   "metadata": {},
   "outputs": [
    {
     "name": "stdout",
     "output_type": "stream",
     "text": [
      "../data/a9a.jld\n"
     ]
    }
   ],
   "source": [
    "dataset = \"a9a\"\n",
    "prob = defineProb(dataset);"
   ]
  },
  {
   "cell_type": "code",
   "execution_count": 35,
   "metadata": {},
   "outputs": [
    {
     "data": {
      "text/plain": [
       "4.459713089533306e-11"
      ]
     },
     "execution_count": 35,
     "metadata": {},
     "output_type": "execute_result"
    }
   ],
   "source": [
    "norm(prob.A*prob.xsol - prob.b)"
   ]
  },
  {
   "cell_type": "code",
   "execution_count": 36,
   "metadata": {
    "collapsed": true
   },
   "outputs": [],
   "source": [
    "options = MyOptions(0,\"uni\",tol,restol,maxiter,skip_error_calculation,max_time,printiters,exacterror) \n",
    "OUTPUTS = [];"
   ]
  },
  {
   "cell_type": "code",
   "execution_count": 37,
   "metadata": {},
   "outputs": [
    {
     "name": "stdout",
     "output_type": "stream",
     "text": [
      "rademacher\n",
      "-------------------\n",
      "It   | Error% | Residual |  Time   \n",
      "-------------------\n",
      " 25  | 4.01  |  5.23  | 0.1490 \n",
      " 50  | 1.31  |  2.27  | 0.1510 \n",
      " 75  | 0.52  |  1.06  | 0.1531 \n",
      "100  | 0.35  |  0.74  | 0.1551 \n"
     ]
    }
   ],
   "source": [
    "# Testing Rademarcher Sketch\n",
    "method_name = \"rademacher\";# ROS\n",
    "options.sketchsize =5;\n",
    "options.maxiter=100;\n",
    "output= solveRidge(prob, method_name, options);\n",
    "OUTPUTS = [OUTPUTS ; output];"
   ]
  },
  {
   "cell_type": "code",
   "execution_count": 20,
   "metadata": {},
   "outputs": [
    {
     "name": "stdout",
     "output_type": "stream",
     "text": [
      "flopsperiter: 1936758\n",
      "Hadamard\n",
      "-------------------\n",
      "It   | Error% | Residual |  Time   \n",
      "-------------------\n",
      "  6  | 6245.31  |  296.64  | 0.4259 \n",
      "  2  | 4029580.80  |  17196.10  | 0.5073 \n"
     ]
    }
   ],
   "source": [
    "# Testing Hadamard Sketch\n",
    "method_name = \"Hadamard\";# ROS\n",
    "options.sketchsize =prob.n; # Int(floor(log2(prob.n)));\n",
    "options.maxiter=100;\n",
    "options.skip_error_calculation =1;\n",
    "output= solveRidge(prob, method_name, options);\n",
    "OUTPUTS = [OUTPUTS ; output];"
   ]
  },
  {
   "cell_type": "code",
   "execution_count": 39,
   "metadata": {},
   "outputs": [
    {
     "name": "stdout",
     "output_type": "stream",
     "text": [
      "CG\n",
      "-------------------\n",
      "It   | Error% | Residual |  Time   \n",
      "-------------------\n",
      " 25  | 0.03  |  0.07  | 0.0362 \n",
      " 50  | 0.00  |  0.06  | 0.0368 \n",
      " 75  | 0.00  |  0.01  | 0.0372 \n"
     ]
    }
   ],
   "source": [
    "# Testing CG \n",
    "options.max_time = 2; options.restol = 10.0^(-8); \n",
    "options.skip_error_calculation =25;\n",
    "method_name = \"CG\";# gradient descent\n",
    "output= solveRidge(prob, method_name, options);\n",
    "OUTPUTS = [OUTPUTS ; output];"
   ]
  },
  {
   "cell_type": "code",
   "execution_count": 40,
   "metadata": {},
   "outputs": [
    {
     "name": "stdout",
     "output_type": "stream",
     "text": [
      "grad\n",
      "-------------------\n",
      "It   | Error% | Residual |  Time   \n",
      "-------------------\n",
      " 25  | 1.25  |  1.53  | 0.2588 \n",
      " 50  | 0.54  |  1.39  | 0.3030 \n",
      " 75  | 0.33  |  0.45  | 0.3055 \n",
      "100  | 0.23  |  0.61  | 0.3096 \n",
      "125  | 0.18  |  0.24  | 0.3113 \n",
      "150  | 0.16  |  0.36  | 0.3129 \n",
      "175  | 0.14  |  0.15  | 0.3145 \n",
      "200  | 0.12  |  0.26  | 0.3162 \n",
      "225  | 0.11  |  0.12  | 0.3178 \n",
      "250  | 0.11  |  0.21  | 0.3195 \n",
      "275  | 0.10  |  0.10  | 0.3211 \n",
      "300  | 0.09  |  0.18  | 0.3229 \n",
      "325  | 0.09  |  0.09  | 0.3246 \n",
      "350  | 0.08  |  0.16  | 0.3265 \n",
      "375  | 0.08  |  0.08  | 0.3283 \n",
      "400  | 0.08  |  0.15  | 0.3300 \n",
      "425  | 0.07  |  0.07  | 0.3318 \n",
      "450  | 0.07  |  0.14  | 0.3336 \n",
      "475  | 0.07  |  0.07  | 0.3355 \n",
      "500  | 0.06  |  0.13  | 0.3373 \n",
      "525  | 0.06  |  0.06  | 0.3392 \n",
      "550  | 0.06  |  0.12  | 0.3410 \n",
      "575  | 0.06  |  0.06  | 0.3429 \n",
      "600  | 0.05  |  0.11  | 0.3448 \n",
      "625  | 0.09  |  0.06  | 0.3466 \n",
      "650  | 0.05  |  0.10  | 0.3796 \n",
      "675  | 0.05  |  0.05  | 0.3816 \n",
      "700  | 0.05  |  0.10  | 0.3834 \n",
      "725  | 0.05  |  0.05  | 0.3853 \n",
      "750  | 0.04  |  0.09  | 0.3871 \n",
      "775  | 0.04  |  0.05  | 0.3890 \n",
      "800  | 0.04  |  0.09  | 0.3935 \n",
      "825  | 0.04  |  0.04  | 0.3954 \n",
      "850  | 0.04  |  0.08  | 0.3972 \n",
      "875  | 0.04  |  0.04  | 0.3991 \n",
      "900  | 0.04  |  0.08  | 0.4009 \n",
      "925  | 0.04  |  0.04  | 0.4027 \n",
      "950  | 0.03  |  0.08  | 0.4046 \n",
      "975  | 0.03  |  0.04  | 0.4065 \n",
      "1000  | 0.03  |  0.07  | 0.4084 \n"
     ]
    }
   ],
   "source": [
    "# Testing grad descent\n",
    "options.max_time = 2; options.restol = 10.0^(-8); options.maxiter=1000;\n",
    "method_name = \"grad\";# gradient descent\n",
    "output= solveRidge(prob, method_name, options);\n",
    "OUTPUTS = [OUTPUTS ; output];"
   ]
  },
  {
   "cell_type": "code",
   "execution_count": 41,
   "metadata": {},
   "outputs": [
    {
     "name": "stdout",
     "output_type": "stream",
     "text": [
      "CD\n",
      "-------------------\n",
      "It   | Error% | Residual |  Time   \n",
      "-------------------\n",
      " 25  | 1.37  |  1.99  | 0.0258 \n",
      " 50  | 0.34  |  0.61  | 0.0264 \n",
      " 75  | 0.20  |  0.36  | 0.0269 \n",
      "100  | 0.15  |  0.22  | 0.0273 \n",
      "125  | 0.12  |  0.17  | 0.0278 \n",
      "150  | 0.11  |  0.14  | 0.0283 \n",
      "175  | 0.10  |  0.16  | 0.0288 \n",
      "200  | 0.08  |  0.16  | 0.0293 \n",
      "225  | 0.08  |  0.14  | 0.0298 \n",
      "250  | 0.07  |  0.17  | 0.0302 \n",
      "275  | 0.06  |  0.12  | 0.0307 \n",
      "300  | 0.06  |  0.13  | 0.0311 \n",
      "325  | 0.05  |  0.10  | 0.0316 \n",
      "350  | 0.05  |  0.09  | 0.0320 \n",
      "375  | 0.04  |  0.11  | 0.0325 \n",
      "400  | 0.03  |  0.11  | 0.0329 \n",
      "425  | 0.03  |  0.11  | 0.0334 \n",
      "450  | 0.03  |  0.07  | 0.0395 \n",
      "475  | 0.02  |  0.10  | 0.0399 \n",
      "500  | 0.02  |  0.06  | 0.0404 \n",
      "525  | 0.02  |  0.06  | 0.0408 \n",
      "550  | 0.02  |  0.05  | 0.0413 \n",
      "575  | 0.02  |  0.05  | 0.0417 \n",
      "600  | 0.01  |  0.04  | 0.0422 \n",
      "625  | 0.01  |  0.06  | 0.0426 \n",
      "650  | 0.01  |  0.05  | 0.0431 \n",
      "675  | 0.01  |  0.05  | 0.0435 \n",
      "700  | 0.01  |  0.05  | 0.0440 \n",
      "725  | 0.01  |  0.04  | 0.0444 \n",
      "750  | 0.01  |  0.04  | 0.0449 \n",
      "775  | 0.01  |  0.06  | 0.0454 \n",
      "800  | 0.00  |  0.01  | 0.0459 \n",
      "825  | 0.00  |  0.01  | 0.0463 \n",
      "850  | 0.00  |  0.01  | 0.0468 \n",
      "875  | 0.00  |  0.01  | 0.0472 \n",
      "900  | 0.00  |  0.01  | 0.0477 \n",
      "925  | 0.00  |  0.01  | 0.0481 \n",
      "950  | 0.00  |  0.01  | 0.0486 \n",
      "975  | 0.00  |  0.01  | 0.0490 \n",
      "1000  | 0.00  |  0.01  | 0.0495 \n",
      "1025  | 0.00  |  0.01  | 0.0499 \n",
      "1050  | 0.00  |  0.01  | 0.0504 \n",
      "1075  | 0.00  |  0.01  | 0.0508 \n",
      "1100  | 0.00  |  0.01  | 0.0512 \n",
      "1125  | 0.00  |  0.01  | 0.0517 \n",
      "1150  | 0.00  |  0.01  | 0.0521 \n",
      "1175  | 0.00  |  0.01  | 0.0526 \n",
      "1200  | 0.00  |  0.01  | 0.0531 \n",
      "1225  | 0.00  |  0.01  | 0.0536 \n",
      "1250  | 0.00  |  0.01  | 0.0540 \n",
      "1275  | 0.00  |  0.01  | 0.0545 \n",
      "1300  | 0.00  |  0.01  | 0.0550 \n",
      "1325  | 0.00  |  0.01  | 0.0554 \n",
      "1350  | 0.00  |  0.01  | 0.0559 \n",
      "1375  | 0.00  |  0.01  | 0.0564 \n",
      "1400  | 0.00  |  0.01  | 0.0568 \n",
      "1425  | 0.00  |  0.01  | 0.0574 \n",
      "1450  | 0.00  |  0.01  | 0.0579 \n",
      "1475  | 0.00  |  0.01  | 0.0584 \n",
      "1500  | 0.00  |  0.01  | 0.0589 \n",
      "1525  | 0.00  |  0.01  | 0.0594 \n",
      "1550  | 0.00  |  0.01  | 0.0599 \n",
      "1575  | 0.00  |  0.01  | 0.0603 \n",
      "1600  | 0.00  |  0.01  | 0.0608 \n",
      "1625  | 0.00  |  0.01  | 0.0613 \n",
      "1650  | 0.00  |  0.01  | 0.0617 \n",
      "1675  | 0.00  |  0.01  | 0.0622 \n",
      "1700  | 0.00  |  0.01  | 0.0627 \n",
      "1725  | 0.00  |  0.01  | 0.0632 \n",
      "1750  | 0.00  |  0.01  | 0.0637 \n",
      "1775  | 0.00  |  0.00  | 0.0642 \n",
      "1800  | 0.00  |  0.01  | 0.0693 \n",
      "1825  | 0.00  |  0.01  | 0.0697 \n",
      "1850  | 0.00  |  0.01  | 0.0702 \n",
      "1875  | 0.00  |  0.01  | 0.0706 \n",
      "1900  | 0.00  |  0.01  | 0.0710 \n",
      "1925  | 0.00  |  0.01  | 0.0715 \n",
      "1950  | 0.00  |  0.01  | 0.0720 \n",
      "1975  | 0.00  |  0.01  | 0.0724 \n",
      "2000  | 0.00  |  0.01  | 0.0728 \n",
      "2025  | 0.00  |  0.01  | 0.0732 \n",
      "2050  | 0.00  |  0.01  | 0.0737 \n",
      "2075  | 0.00  |  0.01  | 0.0741 \n",
      "2100  | 0.00  |  0.01  | 0.0745 \n",
      "2125  | 0.00  |  0.00  | 0.0750 \n",
      "2150  | 0.00  |  0.01  | 0.0754 \n",
      "2175  | 0.00  |  0.01  | 0.0758 \n",
      "2200  | 0.00  |  0.01  | 0.0764 \n",
      "2225  | 0.00  |  0.00  | 0.0768 \n",
      "2250  | 0.00  |  0.00  | 0.0773 \n",
      "2275  | 0.00  |  0.00  | 0.0778 \n"
     ]
    }
   ],
   "source": [
    "# Testing CD \n",
    "options.max_time = 10; options.restol = 10.0^(-8); options.maxiter=10000;\n",
    "method_name = \"CD\";# gradient descent\n",
    "options.sketchsize = 11#floor((prob.n)^(1/2));\n",
    "output= solveRidge(prob, method_name, options);\n",
    "OUTPUTS = [OUTPUTS ; output];"
   ]
  },
  {
   "cell_type": "code",
   "execution_count": 42,
   "metadata": {
    "collapsed": true
   },
   "outputs": [],
   "source": [
    "savename = replace(prob.name, r\"[\\/]\", \"-\");\n",
    "save(\"../data/$(savename)-OUTPUTS.jld\", \"OUTPUTS\", OUTPUTS)"
   ]
  },
  {
   "cell_type": "code",
   "execution_count": 44,
   "metadata": {},
   "outputs": [
    {
     "name": "stdout",
     "output_type": "stream",
     "text": [
      "a9a\n"
     ]
    }
   ],
   "source": [
    "#using GR\n",
    "using Plots\n",
    "pgfplots()\n",
    "plot_outputs_Plots(OUTPUTS,savename)"
   ]
  },
  {
   "cell_type": "code",
   "execution_count": 29,
   "metadata": {
    "collapsed": true
   },
   "outputs": [],
   "source": [
    "# Loading saved problem data\n",
    "probname = \"w8a\"#\"gisette_scale-ridge\";  \n",
    "test = load(\"../data/$(probname)-OUTPUTS.jld\")\n",
    "OUTPUTS = test[\"OUTPUTS\"];"
   ]
  },
  {
   "cell_type": "code",
   "execution_count": null,
   "metadata": {
    "collapsed": true
   },
   "outputs": [],
   "source": []
  }
 ],
 "metadata": {
  "anaconda-cloud": {},
  "kernelspec": {
   "display_name": "Julia 0.5.2",
   "language": "julia",
   "name": "julia-0.5"
  },
  "language_info": {
   "file_extension": ".jl",
   "mimetype": "application/julia",
   "name": "julia",
   "version": "0.5.2"
  }
 },
 "nbformat": 4,
 "nbformat_minor": 1
}
