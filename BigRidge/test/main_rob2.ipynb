{
 "cells": [
  {
   "cell_type": "markdown",
   "metadata": {},
   "source": [
    "The main solving big ridge regression problems"
   ]
  },
  {
   "cell_type": "code",
   "execution_count": 1,
   "metadata": {
    "collapsed": true
   },
   "outputs": [],
   "source": [
    "workspace()"
   ]
  },
  {
   "cell_type": "code",
   "execution_count": 2,
   "metadata": {
    "collapsed": false
   },
   "outputs": [
    {
     "name": "stderr",
     "output_type": "stream",
     "text": [
      "WARNING: Method definition start(Main.Base.Cmd) in module Compat at /home/robert/.julia/v0.5/Compat/src/Compat.jl:608 overwritten in module Compat at /home/robert/.julia/v0.5/Compat/src/Compat.jl:608.\n",
      "WARNING: Method definition expand(Module, ANY<:Any) in module Compat at /home/robert/.julia/v0.5/Compat/src/Compat.jl:575 overwritten in module Compat at /home/robert/.julia/v0.5/Compat/src/Compat.jl:575.\n",
      "WARNING: Method definition isassigned(Main.Base.RefValue) in module Compat at /home/robert/.julia/v0.5/Compat/src/Compat.jl:550 overwritten in module Compat at /home/robert/.julia/v0.5/Compat/src/Compat.jl:550.\n",
      "WARNING: Method definition unsafe_trunc(Type{#T<:Integer}, Integer) in module Compat at /home/robert/.julia/v0.5/Compat/src/Compat.jl:554 overwritten in module Compat at /home/robert/.julia/v0.5/Compat/src/Compat.jl:554.\n",
      "WARNING: Method definition isnull(Any) in module Compat at /home/robert/.julia/v0.5/Compat/src/Compat.jl:410 overwritten in module Compat at /home/robert/.julia/v0.5/Compat/src/Compat.jl:410.\n",
      "WARNING: Method definition eachindex(Main.Base.Cmd) in module Compat at /home/robert/.julia/v0.5/Compat/src/Compat.jl:608 overwritten in module Compat at /home/robert/.julia/v0.5/Compat/src/Compat.jl:608.\n",
      "WARNING: Method definition redirect_stdout(Function, Any) in module Compat at /home/robert/.julia/v0.5/Compat/src/Compat.jl:340 overwritten in module Compat at /home/robert/.julia/v0.5/Compat/src/Compat.jl:340.\n",
      "WARNING: Method definition getindex(Main.Base.Cmd, Any) in module Compat at /home/robert/.julia/v0.5/Compat/src/Compat.jl:611 overwritten in module Compat at /home/robert/.julia/v0.5/Compat/src/Compat.jl:611.\n",
      "WARNING: Method definition redirect_stderr(Function, Any) in module Compat at /home/robert/.julia/v0.5/Compat/src/Compat.jl:340 overwritten in module Compat at /home/robert/.julia/v0.5/Compat/src/Compat.jl:340.\n",
      "WARNING: Method definition bswap(Main.Base.Complex) in module Compat at /home/robert/.julia/v0.5/Compat/src/Compat.jl:559 overwritten in module Compat at /home/robert/.julia/v0.5/Compat/src/Compat.jl:559.\n",
      "WARNING: Method definition redirect_stdin(Function, Any) in module Compat at /home/robert/.julia/v0.5/Compat/src/Compat.jl:340 overwritten in module Compat at /home/robert/.julia/v0.5/Compat/src/Compat.jl:340.\n",
      "WARNING: Method definition eltype(Main.Base.Cmd) in module Compat at /home/robert/.julia/v0.5/Compat/src/Compat.jl:608 overwritten in module Compat at /home/robert/.julia/v0.5/Compat/src/Compat.jl:608.\n",
      "WARNING: Method definition first(Main.Base.Cmd) in module Compat at /home/robert/.julia/v0.5/Compat/src/Compat.jl:608 overwritten in module Compat at /home/robert/.julia/v0.5/Compat/src/Compat.jl:608.\n",
      "WARNING: Method definition macroexpand(Module, ANY<:Any) in module Compat at /home/robert/.julia/v0.5/Compat/src/Compat.jl:576 overwritten in module Compat at /home/robert/.julia/v0.5/Compat/src/Compat.jl:576.\n",
      "WARNING: Method definition ones(AbstractArray) in module Compat at /home/robert/.julia/v0.5/Compat/src/Compat.jl:525 overwritten in module Compat at /home/robert/.julia/v0.5/Compat/src/Compat.jl:525.\n",
      "WARNING: Method definition ones(AbstractArray, Type) in module Compat at /home/robert/.julia/v0.5/Compat/src/Compat.jl:525 overwritten in module Compat at /home/robert/.julia/v0.5/Compat/src/Compat.jl:525.\n",
      "WARNING: Method definition ones(AbstractArray, Type, Tuple) in module Compat at /home/robert/.julia/v0.5/Compat/src/Compat.jl:523 overwritten in module Compat at /home/robert/.julia/v0.5/Compat/src/Compat.jl:523.\n",
      "WARNING: Method definition ones(AbstractArray, Type, Any...) in module Compat at /home/robert/.julia/v0.5/Compat/src/Compat.jl:524 overwritten in module Compat at /home/robert/.julia/v0.5/Compat/src/Compat.jl:524.\n",
      "WARNING: Method definition convert(Type{Main.Base.Set{#T<:Any}}, Main.Base.Set{#T<:Any}) in module Compat at /home/robert/.julia/v0.5/Compat/src/Compat.jl:544 overwritten in module Compat at /home/robert/.julia/v0.5/Compat/src/Compat.jl:544.\n",
      "WARNING: Method definition convert(Type{Main.Base.Set{#T<:Any}}, Main.Base.Set) in module Compat at /home/robert/.julia/v0.5/Compat/src/Compat.jl:545 overwritten in module Compat at /home/robert/.julia/v0.5/Compat/src/Compat.jl:545.\n",
      "WARNING: Method definition broadcast(Any, Tuple{Vararg{T<:Any, #N<:Any}}, Tuple{Vararg{T<:Any, #N<:Any}}...) in module Compat at /home/robert/.julia/v0.5/Compat/src/Compat.jl:395 overwritten in module Compat at /home/robert/.julia/v0.5/Compat/src/Compat.jl:395.\n",
      "WARNING: Method definition zeros(AbstractArray) in module Compat at /home/robert/.julia/v0.5/Compat/src/Compat.jl:525 overwritten in module Compat at /home/robert/.julia/v0.5/Compat/src/Compat.jl:525.\n",
      "WARNING: Method definition zeros(AbstractArray, Type) in module Compat at /home/robert/.julia/v0.5/Compat/src/Compat.jl:525 overwritten in module Compat at /home/robert/.julia/v0.5/Compat/src/Compat.jl:525.\n",
      "WARNING: Method definition zeros(AbstractArray, Type, Tuple) in module Compat at /home/robert/.julia/v0.5/Compat/src/Compat.jl:523 overwritten in module Compat at /home/robert/.julia/v0.5/Compat/src/Compat.jl:523.\n",
      "WARNING: Method definition zeros(AbstractArray, Type, Any...) in module Compat at /home/robert/.julia/v0.5/Compat/src/Compat.jl:524 overwritten in module Compat at /home/robert/.julia/v0.5/Compat/src/Compat.jl:524.\n",
      "WARNING: Method definition next(Main.Base.Cmd, Any) in module Compat at /home/robert/.julia/v0.5/Compat/src/Compat.jl:611 overwritten in module Compat at /home/robert/.julia/v0.5/Compat/src/Compat.jl:611.\n",
      "WARNING: Method definition isless(Union{Main.Base.Dates.Second, Main.Base.Dates.Week, Main.Base.Dates.Day, Main.Base.Dates.Minute, Main.Base.Dates.Hour, Main.Base.Dates.Millisecond}, Union{Main.Base.Dates.Month, Main.Base.Dates.Year}) in module Compat at /home/robert/.julia/v0.5/Compat/src/Compat.jl:625 overwritten in module Compat at /home/robert/.julia/v0.5/Compat/src/Compat.jl:625.\n",
      "WARNING: Method definition isless(Union{Main.Base.Dates.Month, Main.Base.Dates.Year}, Union{Main.Base.Dates.Second, Main.Base.Dates.Week, Main.Base.Dates.Day, Main.Base.Dates.Minute, Main.Base.Dates.Hour, Main.Base.Dates.Millisecond}) in module Compat at /home/robert/.julia/v0.5/Compat/src/Compat.jl:626 overwritten in module Compat at /home/robert/.julia/v0.5/Compat/src/Compat.jl:626.\n",
      "WARNING: Method definition isless(Main.Base.Dates.Period, Main.Base.Dates.Period) in module Compat at /home/robert/.julia/v0.5/Compat/src/Compat.jl:620 overwritten in module Compat at /home/robert/.julia/v0.5/Compat/src/Compat.jl:620.\n",
      "WARNING: Method definition endof(Main.Base.Cmd) in module Compat at /home/robert/.julia/v0.5/Compat/src/Compat.jl:608 overwritten in module Compat at /home/robert/.julia/v0.5/Compat/src/Compat.jl:608.\n",
      "WARNING: Method definition !(Function) in module Compat at /home/robert/.julia/v0.5/Compat/src/Compat.jl:452 overwritten in module Compat at /home/robert/.julia/v0.5/Compat/src/Compat.jl:452.\n",
      "WARNING: Method definition length(Main.Base.Cmd) in module Compat at /home/robert/.julia/v0.5/Compat/src/Compat.jl:608 overwritten in module Compat at /home/robert/.julia/v0.5/Compat/src/Compat.jl:608.\n",
      "WARNING: Method definition last(Main.Base.Cmd) in module Compat at /home/robert/.julia/v0.5/Compat/src/Compat.jl:608 overwritten in module Compat at /home/robert/.julia/v0.5/Compat/src/Compat.jl:608.\n",
      "WARNING: Method definition include_string(Module, String, String) in module Compat at /home/robert/.julia/v0.5/Compat/src/Compat.jl:577 overwritten in module Compat at /home/robert/.julia/v0.5/Compat/src/Compat.jl:577.\n",
      "WARNING: Method definition include_string(Module, AbstractString) in module Compat at /home/robert/.julia/v0.5/Compat/src/Compat.jl:579 overwritten in module Compat at /home/robert/.julia/v0.5/Compat/src/Compat.jl:579.\n",
      "WARNING: Method definition include_string(Module, AbstractString, AbstractString) in module Compat at /home/robert/.julia/v0.5/Compat/src/Compat.jl:579 overwritten in module Compat at /home/robert/.julia/v0.5/Compat/src/Compat.jl:579.\n",
      "WARNING: Method definition logdet(Any) in module Compat at /home/robert/.julia/v0.5/Compat/src/Compat.jl:638 overwritten in module Compat at /home/robert/.julia/v0.5/Compat/src/Compat.jl:638.\n",
      "WARNING: Method definition chol!(Main.Base.LinAlg.UniformScaling, Any) in module Compat at /home/robert/.julia/v0.5/Compat/src/Compat.jl:644 overwritten in module Compat at /home/robert/.julia/v0.5/Compat/src/Compat.jl:644.\n",
      "WARNING: Method definition chol(Main.Base.LinAlg.UniformScaling, Any...) in module Compat at /home/robert/.julia/v0.5/Compat/src/Compat.jl:645 overwritten in module Compat at /home/robert/.julia/v0.5/Compat/src/Compat.jl:645.\n",
      "WARNING: Method definition done(Main.Base.Cmd, Any) in module Compat at /home/robert/.julia/v0.5/Compat/src/Compat.jl:611 overwritten in module Compat at /home/robert/.julia/v0.5/Compat/src/Compat.jl:611.\n",
      "WARNING: Method definition take!(Task) in module Compat at /home/robert/.julia/v0.5/Compat/src/Compat.jl:11 overwritten in module Compat at /home/robert/.julia/v0.5/Compat/src/Compat.jl:11.\n",
      "WARNING: Method definition take!(Main.Base.AbstractIOBuffer) in module Compat at /home/robert/.julia/v0.5/Compat/src/Compat.jl:445 overwritten in module Compat at /home/robert/.julia/v0.5/Compat/src/Compat.jl:445.\n",
      "WARNING: Method definition ==(Union{Main.Base.Dates.Second, Main.Base.Dates.Week, Main.Base.Dates.Day, Main.Base.Dates.Minute, Main.Base.Dates.Hour, Main.Base.Dates.Millisecond}, Union{Main.Base.Dates.Month, Main.Base.Dates.Year}) in module Compat at /home/robert/.julia/v0.5/Compat/src/Compat.jl:623 overwritten in module Compat at /home/robert/.julia/v0.5/Compat/src/Compat.jl:623.\n",
      "WARNING: Method definition ==(Union{Main.Base.Dates.Month, Main.Base.Dates.Year}, Union{Main.Base.Dates.Second, Main.Base.Dates.Week, Main.Base.Dates.Day, Main.Base.Dates.Minute, Main.Base.Dates.Hour, Main.Base.Dates.Millisecond}) in module Compat at /home/robert/.julia/v0.5/Compat/src/Compat.jl:624 overwritten in module Compat at /home/robert/.julia/v0.5/Compat/src/Compat.jl:624.\n",
      "WARNING: Method definition ==(Main.Base.Dates.Period, Main.Base.Dates.Period) in module Compat at /home/robert/.julia/v0.5/Compat/src/Compat.jl:619 overwritten in module Compat at /home/robert/.julia/v0.5/Compat/src/Compat.jl:619.\n",
      "WARNING: Method definition (::Type{Main.Base.LinearIndexing})(Type{#T<:Any}) in module Compat at /home/robert/.julia/v0.5/Compat/src/Compat.jl:515 overwritten in module Compat at /home/robert/.julia/v0.5/Compat/src/Compat.jl:515.\n",
      "WARNING: Method definition (::Type{Main.Base.LinearIndexing})(Any...) in module Compat at /home/robert/.julia/v0.5/Compat/src/Compat.jl:516 overwritten in module Compat at /home/robert/.julia/v0.5/Compat/src/Compat.jl:516.\n",
      "WARNING: Method definition (::Type{Main.Base.Val})(Any) in module Compat at /home/robert/.julia/v0.5/Compat/src/Compat.jl:632 overwritten in module Compat at /home/robert/.julia/v0.5/Compat/src/Compat.jl:632.\n"
     ]
    }
   ],
   "source": [
    "using Plots"
   ]
  },
  {
   "cell_type": "code",
   "execution_count": 3,
   "metadata": {
    "collapsed": false
   },
   "outputs": [
    {
     "data": {
      "text/plain": [
       "plot_outputs_Plots (generic function with 1 method)"
      ]
     },
     "execution_count": 3,
     "metadata": {},
     "output_type": "execute_result"
    }
   ],
   "source": [
    "using StatsBase\n",
    "using JLD  \n",
    "include(\"../src/BigRidge.jl\")"
   ]
  },
  {
   "cell_type": "code",
   "execution_count": 4,
   "metadata": {
    "collapsed": true
   },
   "outputs": [],
   "source": [
    "## Basic parameters\n",
    "maxiter=2000;\n",
    "max_time = 200;\n",
    "max_epocs = 100;\n",
    "printiters = true;\n",
    "exacterror =true; \n",
    "tol = 10.0^(-5.0);\n",
    "restol = 10.0^(-5.0);\n",
    "skip_error_calculation = 25;   # number of iterations where error is not calculated (to save time!) ceil((m)^(1/2))"
   ]
  },
  {
   "cell_type": "code",
   "execution_count": 5,
   "metadata": {
    "collapsed": false
   },
   "outputs": [
    {
     "name": "stdout",
     "output_type": "stream",
     "text": [
      "../data/a9a.jld\n"
     ]
    }
   ],
   "source": [
    "dataset = \"a9a\"   # news20.binary  rcv1_train.multiclass rcv1_train.binary mnist.scale  a9a  gisette_scale \n",
    "prob = defineProb(dataset);\n",
    "showDetails(dataset)"
   ]
  },
  {
   "cell_type": "code",
   "execution_count": 6,
   "metadata": {
    "collapsed": false
   },
   "outputs": [
    {
     "data": {
      "text/plain": [
       "1.967333493545081e-11"
      ]
     },
     "execution_count": 6,
     "metadata": {},
     "output_type": "execute_result"
    }
   ],
   "source": [
    "norm(prob.A*prob.xsol - prob.b)"
   ]
  },
  {
   "cell_type": "code",
   "execution_count": 7,
   "metadata": {
    "collapsed": true
   },
   "outputs": [],
   "source": [
    "options = MyOptions(0,\"uni\",tol,restol,maxiter,skip_error_calculation,max_time,printiters,exacterror,[]) \n",
    "OUTPUTS = [];"
   ]
  },
  {
   "cell_type": "code",
   "execution_count": 8,
   "metadata": {
    "collapsed": false
   },
   "outputs": [
    {
     "name": "stdout",
     "output_type": "stream",
     "text": [
      "shuffle-11-2\n",
      "-------------------\n",
      "It   | Error% | Residual |  Time   \n",
      "-------------------\n",
      " 96  | 1.35  |  1.88  | 5.2036 \n",
      " 50  | 0.23  |  0.30  | 5.2143 \n",
      " 75  | 0.13  |  0.17  | 5.2230 \n",
      "100  | 0.09  |  0.14  | 5.2287 \n",
      "125  | 0.07  |  0.13  | 5.2600 \n",
      "150  | 0.06  |  0.10  | 5.2662 \n",
      "175  | 0.04  |  0.10  | 5.2759 \n",
      "200  | 0.03  |  0.07  | 5.2903 \n",
      "225  | 0.02  |  0.08  | 5.3010 \n",
      "250  | 0.02  |  0.06  | 5.3064 \n",
      "275  | 0.01  |  0.05  | 5.3483 \n",
      "300  | 0.01  |  0.06  | 5.3523 \n",
      "325  | 0.01  |  0.04  | 5.3712 \n",
      "350  | 0.01  |  0.03  | 5.3835 \n",
      "375  | 0.00  |  0.04  | 5.3883 \n",
      "400  | 0.00  |  0.02  | 5.3923 \n",
      "425  | 0.00  |  0.03  | 5.4100 \n",
      "450  | 0.00  |  0.02  | 5.4402 \n",
      "475  | 0.00  |  0.02  | 5.4507 \n",
      "500  | 0.00  |  0.02  | 5.4564 \n",
      "525  | 0.00  |  0.01  | 5.4831 \n",
      "550  | 0.00  |  0.01  | 5.4872 \n",
      "575  | 0.00  |  0.01  | 5.4947 \n",
      "  7.685103 seconds (3.97 M allocations: 194.988 MB, 1.62% gc time)\n",
      "change rho density to n/s: 2\n",
      "shuffle-50-5\n",
      "-------------------\n",
      "It   | Error% | Residual |  Time   \n",
      "-------------------\n",
      " 25  | 0.01  |  0.04  | 0.0427 \n",
      " 50  | 0.00  |  0.00  | 0.0917 \n",
      "  0.126779 seconds (70.92 k allocations: 15.098 MB, 11.05% gc time)\n",
      "shuffle-5-10\n",
      "-------------------\n",
      "It   | Error% | Residual |  Time   \n",
      "-------------------\n",
      " 25  | 7.01  |  3.86  | 0.0036 \n",
      " 50  | 2.72  |  1.94  | 0.0072 \n",
      " 75  | 1.86  |  1.06  | 0.0109 \n",
      "100  | 1.38  |  0.82  | 0.0145 \n",
      "125  | 1.10  |  0.59  | 0.0180 \n",
      "150  | 0.88  |  0.70  | 0.0217 \n",
      "175  | 0.74  |  0.44  | 0.0254 \n",
      "200  | 0.66  |  0.41  | 0.0290 \n",
      "225  | 0.59  |  0.41  | 0.0333 \n",
      "250  | 0.52  |  0.32  | 0.0441 \n",
      "275  | 0.48  |  0.29  | 0.0609 \n",
      "300  | 0.43  |  0.31  | 0.0775 \n",
      "325  | 0.40  |  0.27  | 0.0811 \n",
      "350  | 0.36  |  0.25  | 0.1065 \n",
      "375  | 0.33  |  0.20  | 0.1264 \n",
      "400  | 0.31  |  0.19  | 0.1316 \n",
      "425  | 0.29  |  0.18  | 0.1341 \n",
      "450  | 0.27  |  0.20  | 0.1457 \n",
      "475  | 0.26  |  0.18  | 0.1483 \n",
      "500  | 0.24  |  0.16  | 0.1509 \n",
      "525  | 0.23  |  0.14  | 0.1537 \n",
      "550  | 0.22  |  0.21  | 0.1563 \n",
      "575  | 0.21  |  0.17  | 0.1643 \n",
      "600  | 0.20  |  0.54  | 0.1668 \n",
      "625  | 0.19  |  0.14  | 0.1963 \n",
      "650  | 0.18  |  0.13  | 0.2086 \n",
      "675  | 0.17  |  0.13  | 0.2144 \n",
      "700  | 0.17  |  0.11  | 0.2169 \n",
      "725  | 0.16  |  0.11  | 0.2200 \n",
      "750  | 0.15  |  0.10  | 0.2223 \n",
      "775  | 0.14  |  0.12  | 0.2246 \n",
      "800  | 0.14  |  0.11  | 0.2363 \n",
      "825  | 0.13  |  0.10  | 0.2387 \n",
      "850  | 0.13  |  0.10  | 0.2411 \n",
      "875  | 0.13  |  0.10  | 0.2436 \n",
      "900  | 0.12  |  0.09  | 0.2490 \n",
      "925  | 0.12  |  0.12  | 0.2516 \n",
      "950  | 0.11  |  0.09  | 0.2541 \n",
      "975  | 0.64  |  0.12  | 0.2565 \n",
      "1000  | 0.10  |  0.09  | 0.2721 \n",
      "1025  | 0.10  |  0.09  | 0.2751 \n",
      "1050  | 0.09  |  0.09  | 0.2776 \n",
      "1075  | 0.09  |  0.09  | 0.2802 \n",
      "1100  | 0.09  |  0.08  | 0.2825 \n",
      "1125  | 0.08  |  0.09  | 0.2848 \n",
      "1150  | 0.08  |  0.07  | 0.2899 \n",
      "1175  | 0.08  |  0.07  | 0.2959 \n",
      "1200  | 0.08  |  0.07  | 0.2986 \n",
      "1225  | 0.07  |  0.07  | 0.3039 \n",
      "1250  | 0.07  |  0.08  | 0.3062 \n",
      "1275  | 0.07  |  0.07  | 0.3182 \n",
      "1300  | 0.07  |  0.07  | 0.3209 \n",
      "1325  | 0.07  |  0.06  | 0.3236 \n",
      "1350  | 0.06  |  0.06  | 0.3262 \n",
      "1375  | 0.06  |  0.08  | 0.3288 \n",
      "1400  | 0.06  |  0.05  | 0.3315 \n",
      "1425  | 0.06  |  0.06  | 0.3342 \n",
      "1450  | 0.06  |  0.05  | 0.3368 \n",
      "1475  | 0.07  |  0.06  | 0.3394 \n",
      "1500  | 0.05  |  0.05  | 0.3718 \n",
      "1525  | 0.05  |  0.05  | 0.4114 \n",
      "1550  | 0.05  |  0.05  | 0.4257 \n",
      "1575  | 0.08  |  0.05  | 0.4328 \n",
      "1600  | 0.05  |  0.05  | 0.4395 \n",
      "1625  | 0.05  |  0.05  | 0.4484 \n",
      "1650  | 0.05  |  0.05  | 0.4549 \n",
      "1675  | 0.04  |  0.06  | 0.4653 \n",
      "1700  | 0.04  |  0.05  | 0.4709 \n",
      "1725  | 0.04  |  0.05  | 0.4782 \n",
      "1750  | 0.04  |  0.05  | 0.4807 \n",
      "1775  | 0.04  |  0.04  | 0.4833 \n",
      "1800  | 0.04  |  0.04  | 0.4950 \n",
      "1825  | 0.04  |  0.05  | 0.4977 \n",
      "1850  | 0.04  |  0.05  | 0.5004 \n",
      "1875  | 0.03  |  0.05  | 0.5028 \n",
      "1900  | 0.03  |  0.04  | 0.5087 \n",
      "1925  | 0.03  |  0.04  | 0.5112 \n",
      "1950  | 0.03  |  0.04  | 0.5138 \n",
      "1975  | 0.03  |  0.04  | 0.5164 \n",
      "2000  | 0.03  |  0.04  | 0.5353 \n",
      "  0.630996 seconds (338.10 k allocations: 132.801 MB, 3.53% gc time)\n",
      "shuffle-2-50\n",
      "-------------------\n",
      "It   | Error% | Residual |  Time   \n",
      "-------------------\n",
      " 25  | 16.20  |  8.32  | 0.0039 \n",
      " 50  | 10.02  |  5.35  | 0.0063 \n",
      " 75  | 6.44  |  3.60  | 0.0125 \n",
      "100  | 5.20  |  3.17  | 0.0174 \n",
      "125  | 4.24  |  2.64  | 0.0236 \n",
      "150  | 3.31  |  2.22  | 0.0340 \n",
      "175  | 2.97  |  2.01  | 0.0382 \n",
      "200  | 2.70  |  2.02  | 0.0406 \n",
      "225  | 2.27  |  1.51  | 0.0429 \n",
      "250  | 1.85  |  1.36  | 0.0454 \n",
      "275  | 1.62  |  1.40  | 0.0476 \n",
      "300  | 1.49  |  1.20  | 0.0503 \n",
      "325  | 1.38  |  0.97  | 0.0547 \n",
      "350  | 1.28  |  1.00  | 0.0591 \n",
      "375  | 1.23  |  1.08  | 0.0613 \n",
      "400  | 1.15  |  0.91  | 0.0633 \n",
      "425  | 1.09  |  0.83  | 0.0654 \n",
      "450  | 1.00  |  0.72  | 0.0678 \n",
      "475  | 0.94  |  0.72  | 0.0717 \n",
      "500  | 0.88  |  0.60  | 0.0760 \n",
      "525  | 0.85  |  0.60  | 0.0793 \n",
      "550  | 0.81  |  0.58  | 0.0837 \n",
      "575  | 0.76  |  0.54  | 0.0859 \n",
      "600  | 0.72  |  0.50  | 0.0880 \n",
      "625  | 0.70  |  0.49  | 0.1195 \n",
      "650  | 0.68  |  0.42  | 0.1269 \n",
      "675  | 0.66  |  0.48  | 0.1293 \n",
      "700  | 0.63  |  0.40  | 0.1325 \n",
      "725  | 0.61  |  0.37  | 0.1350 \n",
      "750  | 0.27  |  0.36  | 0.2025 \n",
      "775  | 0.58  |  0.35  | 0.2213 \n",
      "800  | 0.57  |  0.34  | 0.2376 \n",
      "825  | 0.56  |  0.32  | 0.2528 \n",
      "850  | 0.55  |  0.33  | 0.2736 \n",
      "875  | 0.37  |  0.34  | 0.2889 \n",
      "900  | 0.53  |  0.37  | 0.2925 \n",
      "925  | 0.51  |  0.32  | 0.2957 \n",
      "950  | 0.50  |  0.32  | 0.3035 \n",
      "975  | 0.49  |  0.35  | 0.3100 \n",
      "1000  | 0.48  |  0.31  | 0.3134 \n",
      "1025  | 0.46  |  0.30  | 0.3168 \n",
      "1050  | 0.46  |  0.28  | 0.3200 \n",
      "1075  | 0.44  |  0.27  | 0.3236 \n",
      "1100  | 0.44  |  0.27  | 0.3272 \n",
      "1125  | 0.43  |  0.28  | 0.3304 \n",
      "1150  | 0.42  |  0.25  | 0.3411 \n",
      "1175  | 0.41  |  0.24  | 0.3445 \n",
      "1200  | 0.40  |  0.22  | 0.3480 \n",
      "1225  | 0.40  |  0.23  | 0.3512 \n",
      "1250  | 0.39  |  0.20  | 0.3584 \n",
      "1275  | 0.39  |  0.23  | 0.3618 \n",
      "1300  | 0.38  |  0.21  | 0.3659 \n",
      "1325  | 0.38  |  0.22  | 0.3691 \n",
      "1350  | 0.37  |  0.24  | 0.3859 \n",
      "1375  | 0.36  |  0.25  | 0.3952 \n",
      "1400  | 0.36  |  0.22  | 0.4166 \n",
      "1425  | 0.35  |  0.23  | 0.4232 \n",
      "1450  | 0.35  |  0.21  | 0.4289 \n",
      "1475  | 0.34  |  0.22  | 0.4343 \n",
      "1500  | 0.57  |  0.20  | 0.4397 \n",
      "1525  | 0.34  |  0.19  | 0.4520 \n",
      "1550  | 0.33  |  0.20  | 0.4751 \n",
      "1575  | 0.32  |  0.21  | 0.4815 \n",
      "1600  | 0.32  |  0.24  | 0.4877 \n",
      "1625  | 0.32  |  0.21  | 0.4932 \n",
      "1650  | 0.31  |  0.20  | 0.5002 \n",
      "1675  | 0.31  |  0.19  | 0.5097 \n",
      "1700  | 0.30  |  0.19  | 0.5165 \n",
      "1725  | 0.30  |  0.19  | 0.5200 \n",
      "1750  | 0.29  |  0.19  | 0.5247 \n",
      "1775  | 0.29  |  0.17  | 0.5271 \n",
      "1800  | 0.28  |  0.19  | 0.5306 \n",
      "1825  | 0.28  |  0.18  | 0.5346 \n",
      "1850  | 0.28  |  0.17  | 0.5372 \n",
      "1875  | 0.27  |  0.17  | 0.5406 \n",
      "1900  | 0.27  |  0.19  | 0.5433 \n",
      "1925  | 0.27  |  0.16  | 0.5452 \n",
      "1950  | 0.27  |  0.16  | 0.5485 \n",
      "1975  | 0.26  |  0.17  | 0.5513 \n",
      "2000  | 0.26  |  0.18  | 0.5578 \n",
      "  0.769309 seconds (185.69 k allocations: 217.716 MB, 6.03% gc time)\n"
     ]
    }
   ],
   "source": [
    "options.AUX = [0 2]; # don't use sign flipping and use a density of 10 per row\n",
    "method_name = \"shuffle\";# ROS\n",
    "options.sketchsize = floor((prob.n)^(1/2)); #\n",
    "@time   output= solveRidge(prob, method_name, options);\n",
    "OUTPUTS = [OUTPUTS ; output];\n",
    "options.AUX = [0 5]; # don't use sign flipping and use a density of 10 per row\n",
    "method_name = \"shuffle\";# ROS\n",
    "options.sketchsize = 50; #floor((prob.n)^(1/2));\n",
    "@time   output= solveRidge(prob, method_name, options);\n",
    "OUTPUTS = [OUTPUTS ; output];\n",
    "options.AUX = [0 10]; # don't use sign flipping and use a density of 10 per row\n",
    "method_name = \"shuffle\";# ROS\n",
    "options.sketchsize = 5; #floor((prob.n)^(1/2));\n",
    "@time   output= solveRidge(prob, method_name, options);\n",
    "OUTPUTS = [OUTPUTS ; output];\n",
    "options.AUX = [0 50]; # don't use sign flipping and use a density of 10 per row\n",
    "method_name = \"shuffle\";# ROS\n",
    "options.sketchsize = 2; #floor((prob.n)^(1/2));\n",
    "@time   output= solveRidge(prob, method_name, options);\n",
    "OUTPUTS = [OUTPUTS ; output];"
   ]
  },
  {
   "cell_type": "code",
   "execution_count": 9,
   "metadata": {
    "collapsed": true
   },
   "outputs": [],
   "source": [
    "# Testing Hadamard Sketch\n",
    "# method_name = \"Hadamard\";# ROS\n",
    "# options.sketchsize =10; # Int(floor(log2(prob.n)));\n",
    "# options.skip_error_calculation =25;\n",
    "# @time  output= solveRidge(prob, method_name, options);\n",
    "# OUTPUTS = [OUTPUTS ; output];"
   ]
  },
  {
   "cell_type": "code",
   "execution_count": 10,
   "metadata": {
    "collapsed": true
   },
   "outputs": [],
   "source": [
    "# Testing countmin \n",
    "# options.sketchsize =10;#floor((prob.n)^(1/2));\n",
    "# options.skip_error_calculation =25;\n",
    "# method_name = \"countmin\";# gradient descent\n",
    "# @time output= solveRidge(prob, method_name, options);\n",
    "# OUTPUTS = [OUTPUTS ; output];"
   ]
  },
  {
   "cell_type": "code",
   "execution_count": 11,
   "metadata": {
    "collapsed": false
   },
   "outputs": [
    {
     "name": "stdout",
     "output_type": "stream",
     "text": [
      "CG\n",
      "-------------------\n",
      "It   | Error% | Residual |  Time   \n",
      "-------------------\n",
      " 25  | 0.03  |  0.03  | 0.3748 \n",
      " 50  | 0.00  |  0.02  | 0.5884 \n",
      " 75  | 0.00  |  0.01  | 0.5889 \n",
      "  0.598565 seconds (445.43 k allocations: 16.520 MB, 1.86% gc time)\n"
     ]
    }
   ],
   "source": [
    "# Testing CG \n",
    "method_name = \"CG\";# gradient descent\n",
    "@time output= solveRidge(prob, method_name, options);\n",
    "OUTPUTS = [OUTPUTS ; output];"
   ]
  },
  {
   "cell_type": "code",
   "execution_count": 12,
   "metadata": {
    "collapsed": false,
    "scrolled": true
   },
   "outputs": [
    {
     "name": "stdout",
     "output_type": "stream",
     "text": [
      "CD-10\n",
      "-------------------\n",
      "It   | Error% | Residual |  Time   \n",
      "-------------------\n",
      " 50  | 0.68  |  0.76  | 0.2298 \n",
      "100  | 0.15  |  0.28  | 0.2322 \n",
      "150  | 0.11  |  0.30  | 0.2341 \n",
      "200  | 0.09  |  0.18  | 0.2365 \n",
      "250  | 0.06  |  0.22  | 0.2381 \n",
      "300  | 0.05  |  0.13  | 0.2396 \n",
      "350  | 0.04  |  0.09  | 0.2413 \n",
      "400  | 0.03  |  0.12  | 0.2428 \n",
      "450  | 0.02  |  0.08  | 0.2444 \n",
      "500  | 0.02  |  0.08  | 0.2460 \n",
      "550  | 0.01  |  0.07  | 0.2476 \n",
      "600  | 0.00  |  0.04  | 0.2492 \n",
      "650  | 0.00  |  0.03  | 0.2549 \n",
      "700  | 0.00  |  0.05  | 0.2566 \n",
      "750  | 0.00  |  0.01  | 0.2583 \n",
      "800  | 0.00  |  0.02  | 0.2608 \n",
      "  0.358588 seconds (108.22 k allocations: 14.951 MB)\n",
      "CD-50\n",
      "-------------------\n",
      "It   | Error% | Residual |  Time   \n",
      "-------------------\n",
      "  5  | 2.10  |  2.79  | 0.0060 \n",
      " 10  | 0.05  |  0.19  | 0.0092 \n",
      " 15  | 0.02  |  0.10  | 0.0152 \n",
      " 20  | 0.01  |  0.08  | 0.0221 \n",
      " 25  | 0.01  |  0.05  | 0.0261 \n",
      " 30  | 0.00  |  0.02  | 0.0317 \n",
      "  0.043070 seconds (4.04 k allocations: 2.901 MB)\n"
     ]
    }
   ],
   "source": [
    "# Testing CD \n",
    "options.maxiter=5000;\n",
    "options.skip_error_calculation = 50;\n",
    "method_name = \"CD\";# gradient descent\n",
    "options.sketchsize = 10;#floor((prob.n)^(1/2));\n",
    "@time output= solveRidge(prob, method_name, options);\n",
    "OUTPUTS = [OUTPUTS ; output];\n",
    "method_name = \"CD\";# gradient descent\n",
    "options.skip_error_calculation = 5;\n",
    "options.sketchsize = 50;\n",
    "@time output= solveRidge(prob, method_name, options);\n",
    "OUTPUTS = [OUTPUTS ; output];"
   ]
  },
  {
   "cell_type": "code",
   "execution_count": 13,
   "metadata": {
    "collapsed": true
   },
   "outputs": [],
   "source": [
    "savename = replace(prob.name, r\"[\\/]\", \"-\");\n",
    "save(\"../data/$(savename)-OUTPUTS.jld\", \"OUTPUTS\", OUTPUTS)"
   ]
  },
  {
   "cell_type": "code",
   "execution_count": 14,
   "metadata": {
    "collapsed": false
   },
   "outputs": [
    {
     "name": "stdout",
     "output_type": "stream",
     "text": [
      "a9a\n"
     ]
    },
    {
     "name": "stderr",
     "output_type": "stream",
     "text": [
      "WARNING: Method definition describe(AbstractArray) in module StatsBase at /home/robert/.julia/v0.5/StatsBase/src/scalarstats.jl:560 overwritten in module DataFrames at /home/robert/.julia/v0.5/DataFrames/src/abstractdataframe/abstractdataframe.jl:407.\n"
     ]
    }
   ],
   "source": [
    "#using GR\n",
    "using Plots\n",
    "pgfplots()\n",
    "plot_outputs_Plots(OUTPUTS,savename)"
   ]
  },
  {
   "cell_type": "code",
   "execution_count": null,
   "metadata": {
    "collapsed": true
   },
   "outputs": [],
   "source": []
  }
 ],
 "metadata": {
  "anaconda-cloud": {},
  "kernelspec": {
   "display_name": "Julia 0.5.2",
   "language": "julia",
   "name": "julia-0.5"
  },
  "language_info": {
   "file_extension": ".jl",
   "mimetype": "application/julia",
   "name": "julia",
   "version": "0.5.2"
  }
 },
 "nbformat": 4,
 "nbformat_minor": 1
}
