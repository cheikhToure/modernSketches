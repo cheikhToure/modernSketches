{
 "cells": [
  {
   "cell_type": "markdown",
   "metadata": {},
   "source": [
    "The main solving big ridge regression problems"
   ]
  },
  {
   "cell_type": "code",
   "execution_count": null,
   "metadata": {
    "collapsed": true
   },
   "outputs": [],
   "source": [
    "workspace()"
   ]
  },
  {
   "cell_type": "code",
   "execution_count": null,
   "metadata": {},
   "outputs": [],
   "source": [
    "using Plots"
   ]
  },
  {
   "cell_type": "code",
   "execution_count": 313,
   "metadata": {},
   "outputs": [
    {
     "name": "stderr",
     "output_type": "stream",
     "text": [
      "WARNING: Method definition (::Type{Main.MyOptions})(Int64, AbstractString, Float64, Float64, Int64, Int64, Float64, Bool, Bool, Array{Float64, N<:Any}) in module Main at /home/local/rgower/modernSketches/BigRidge/src/BigRidge.jl:13 overwritten at /home/local/rgower/modernSketches/BigRidge/src/BigRidge.jl:13.\n",
      "WARNING: Method definition (::Type{Main.MyOptions})(Any, Any, Any, Any, Any, Any, Any, Any, Any, Any) in module Main at /home/local/rgower/modernSketches/BigRidge/src/BigRidge.jl:13 overwritten at /home/local/rgower/modernSketches/BigRidge/src/BigRidge.jl:13.\n",
      "WARNING: Method definition (::Type{Main.Prob})(Array{Float64, N<:Any}, Array{Float64, N<:Any}, Array{Float64, N<:Any}, Int64, Float64, AbstractString) in module Main at /home/local/rgower/modernSketches/BigRidge/src/BigRidge.jl:27 overwritten at /home/local/rgower/modernSketches/BigRidge/src/BigRidge.jl:27.\n",
      "WARNING: Method definition (::Type{Main.Prob})(Any, Any, Any, Any, Any, Any) in module Main at /home/local/rgower/modernSketches/BigRidge/src/BigRidge.jl:27 overwritten at /home/local/rgower/modernSketches/BigRidge/src/BigRidge.jl:27.\n",
      "WARNING: Method definition (::Type{Main.SketchMethod})(Int64, AbstractString, Function, Function, Array{Float64, N<:Any}, Array{Float64, N<:Any}, Array{Float64, N<:Any}, Array{Int64, N<:Any}, Array{Int64, N<:Any}) in module Main at /home/local/rgower/modernSketches/BigRidge/src/BigRidge.jl:36 overwritten at /home/local/rgower/modernSketches/BigRidge/src/BigRidge.jl:36.\n",
      "WARNING: Method definition (::Type{Main.SketchMethod})(Any, Any, Any, Any, Any, Any, Any, Any, Any) in module Main at /home/local/rgower/modernSketches/BigRidge/src/BigRidge.jl:36 overwritten at /home/local/rgower/modernSketches/BigRidge/src/BigRidge.jl:36.\n",
      "WARNING: Method definition (::Type{Main.CGMethod})(Int64, AbstractString, Function, Function, Array{Float64, N<:Any}, Array{Float64, N<:Any}, Float64) in module Main at /home/local/rgower/modernSketches/BigRidge/src/BigRidge.jl:48 overwritten at /home/local/rgower/modernSketches/BigRidge/src/BigRidge.jl:48.\n",
      "WARNING: Method definition (::Type{Main.CGMethod})(Any, Any, Any, Any, Any, Any, Any) in module Main at /home/local/rgower/modernSketches/BigRidge/src/BigRidge.jl:48 overwritten at /home/local/rgower/modernSketches/BigRidge/src/BigRidge.jl:48.\n",
      "WARNING: Method definition (::Type{Main.Output})(Int64, Int64, Array{Float64, N<:Any}, Array{Float64, N<:Any}, Array{Float64, N<:Any}, AbstractString, AbstractString) in module Main at /home/local/rgower/modernSketches/BigRidge/src/BigRidge.jl:60 overwritten at /home/local/rgower/modernSketches/BigRidge/src/BigRidge.jl:60.\n",
      "WARNING: Method definition (::Type{Main.Output})(Any, Any, Any, Any, Any, Any, Any) in module Main at /home/local/rgower/modernSketches/BigRidge/src/BigRidge.jl:60 overwritten at /home/local/rgower/modernSketches/BigRidge/src/BigRidge.jl:60.\n",
      "WARNING: Method definition solveRidge(Main.Prob, Any, Main.MyOptions) in module Main at /home/local/rgower/modernSketches/BigRidge/src/solveRidge.jl:5 overwritten at /home/local/rgower/modernSketches/BigRidge/src/solveRidge.jl:5.\n",
      "WARNING: Method definition boot_method(AbstractString, Any, Main.MyOptions) in module Main at /home/local/rgower/modernSketches/BigRidge/src/boot_method.jl:2 overwritten at /home/local/rgower/modernSketches/BigRidge/src/boot_method.jl:2.\n",
      "WARNING: Method definition initDetails() in module Main at /home/local/rgower/modernSketches/BigRidge/src/dataLoad.jl:26 overwritten at /home/local/rgower/modernSketches/BigRidge/src/dataLoad.jl:26.\n",
      "WARNING: Method definition transformDataJLD(Any) in module Main at /home/local/rgower/modernSketches/BigRidge/src/dataLoad.jl:31 overwritten at /home/local/rgower/modernSketches/BigRidge/src/dataLoad.jl:31.\n",
      "WARNING: Method definition loadDataset(Any) in module Main at /home/local/rgower/modernSketches/BigRidge/src/dataLoad.jl:40 overwritten at /home/local/rgower/modernSketches/BigRidge/src/dataLoad.jl:40.\n",
      "WARNING: Method definition showDetails(Any) in module Main at /home/local/rgower/modernSketches/BigRidge/src/dataLoad.jl:45 overwritten at /home/local/rgower/modernSketches/BigRidge/src/dataLoad.jl:45.\n",
      "WARNING: Method definition readLIBSVM(AbstractString, Bool) in module Main at /home/local/rgower/modernSketches/BigRidge/src/dataLoad.jl:51 overwritten at /home/local/rgower/modernSketches/BigRidge/src/dataLoad.jl:51.\n",
      "WARNING: Method definition defineProb(Any) in module Main at /home/local/rgower/modernSketches/BigRidge/src/defineProb.jl:3 overwritten at /home/local/rgower/modernSketches/BigRidge/src/defineProb.jl:3.\n",
      "WARNING: Method definition get_randProb(Int64) in module Main at /home/local/rgower/modernSketches/BigRidge/src/get_randProb.jl:3 overwritten at /home/local/rgower/modernSketches/BigRidge/src/get_randProb.jl:3.\n",
      "WARNING: Method definition boot_grad(Main.Prob, Main.MyOptions) in module Main at /home/local/rgower/modernSketches/BigRidge/src/grad.jl:4 overwritten at /home/local/rgower/modernSketches/BigRidge/src/grad.jl:4.\n",
      "WARNING: Method definition step_grad(Main.Prob, Array{Float64, N<:Any}, Main.MyOptions) in module Main at /home/local/rgower/modernSketches/BigRidge/src/grad.jl:15 overwritten at /home/local/rgower/modernSketches/BigRidge/src/grad.jl:15.\n",
      "WARNING: Method definition boot_CD(Main.Prob, Main.MyOptions) in module Main at /home/local/rgower/modernSketches/BigRidge/src/CD.jl:5 overwritten at /home/local/rgower/modernSketches/BigRidge/src/CD.jl:5.\n",
      "WARNING: Method definition step_CD(Main.Prob, Array{Float64, N<:Any}, Main.MyOptions, Main.SketchMethod) in module Main at /home/local/rgower/modernSketches/BigRidge/src/CD.jl:15 overwritten at /home/local/rgower/modernSketches/BigRidge/src/CD.jl:15.\n",
      "WARNING: Method definition boot_CG(Main.Prob, Main.MyOptions) in module Main at /home/local/rgower/modernSketches/BigRidge/src/CG.jl:5 overwritten at /home/local/rgower/modernSketches/BigRidge/src/CG.jl:5.\n",
      "WARNING: Method definition step_CG(Main.Prob, Array{Float64, N<:Any}, Main.MyOptions, Main.CGMethod) in module Main at /home/local/rgower/modernSketches/BigRidge/src/CG.jl:17 overwritten at /home/local/rgower/modernSketches/BigRidge/src/CG.jl:17.\n",
      "WARNING: Method definition hada(Any, Any) in module Main at /home/local/rgower/modernSketches/BigRidge/src/hada.jl:6 overwritten at /home/local/rgower/modernSketches/BigRidge/src/hada.jl:6.\n",
      "WARNING: Method definition boot_Hadamard(Main.Prob, Main.MyOptions) in module Main at /home/local/rgower/modernSketches/BigRidge/src/Hadamard.jl:4 overwritten at /home/local/rgower/modernSketches/BigRidge/src/Hadamard.jl:4.\n",
      "WARNING: Method definition step_Hadamard(Main.Prob, Array{Float64, N<:Any}, Main.MyOptions, Main.Method) in module Main at /home/local/rgower/modernSketches/BigRidge/src/Hadamard.jl:17 overwritten at /home/local/rgower/modernSketches/BigRidge/src/Hadamard.jl:17.\n",
      "WARNING: Method definition boot_rademacher(Main.Prob, Main.MyOptions) in module Main at /home/local/rgower/modernSketches/BigRidge/src/rademacher.jl:2 overwritten at /home/local/rgower/modernSketches/BigRidge/src/rademacher.jl:2.\n",
      "WARNING: Method definition step_rademacher_sign_flip(Main.Prob, Array{Float64, N<:Any}, Main.MyOptions, Main.SketchMethod) in module Main at /home/local/rgower/modernSketches/BigRidge/src/rademacher.jl:32 overwritten at /home/local/rgower/modernSketches/BigRidge/src/rademacher.jl:32.\n",
      "WARNING: Method definition step_rademacher(Main.Prob, Array{Float64, N<:Any}, Main.MyOptions, Main.SketchMethod) in module Main at /home/local/rgower/modernSketches/BigRidge/src/rademacher.jl:55 overwritten at /home/local/rgower/modernSketches/BigRidge/src/rademacher.jl:55.\n",
      "WARNING: Method definition step_rademacher_full_indexed(Main.Prob, Array{Float64, N<:Any}, Main.MyOptions, Main.SketchMethod) in module Main at /home/local/rgower/modernSketches/BigRidge/src/rademacher.jl:75 overwritten at /home/local/rgower/modernSketches/BigRidge/src/rademacher.jl:75.\n",
      "WARNING: Method definition boot_countmin(Main.Prob, Main.MyOptions) in module Main at /home/local/rgower/modernSketches/BigRidge/src/countmin.jl:4 overwritten at /home/local/rgower/modernSketches/BigRidge/src/countmin.jl:4.\n",
      "WARNING: Method definition step_countmin(Main.Prob, Array{Float64, N<:Any}, Main.MyOptions, Main.Method) in module Main at /home/local/rgower/modernSketches/BigRidge/src/countmin.jl:14 overwritten at /home/local/rgower/modernSketches/BigRidge/src/countmin.jl:14.\n",
      "WARNING: Method definition plot_outputs_Plots(Any, Any) in module Main at /home/local/rgower/modernSketches/BigRidge/src/plot_outputs_Plots.jl:3 overwritten at /home/local/rgower/modernSketches/BigRidge/src/plot_outputs_Plots.jl:3.\n"
     ]
    },
    {
     "data": {
      "text/plain": [
       "plot_outputs_Plots (generic function with 1 method)"
      ]
     },
     "execution_count": 313,
     "metadata": {},
     "output_type": "execute_result"
    }
   ],
   "source": [
    "using StatsBase\n",
    "using JLD  \n",
    "include(\"../src/BigRidge.jl\")"
   ]
  },
  {
   "cell_type": "code",
   "execution_count": 314,
   "metadata": {
    "collapsed": true
   },
   "outputs": [],
   "source": [
    "#Basic parameters\n",
    "## Basic parameters\n",
    "maxiter=2000;\n",
    "max_time = 200;\n",
    "max_epocs = 100;\n",
    "printiters = true;\n",
    "exacterror =true; \n",
    "tol = 10.0^(-5.0);\n",
    "restol = 10.0^(-5.0);\n",
    "skip_error_calculation = 25;   # number of iterations where error is not calculated (to save time!) ceil((m)^(1/2))"
   ]
  },
  {
   "cell_type": "code",
   "execution_count": 317,
   "metadata": {},
   "outputs": [
    {
     "name": "stdout",
     "output_type": "stream",
     "text": [
      "../data/gisette_scale.jld\n",
      "ErrorException(\"File ../data/gisette_scale-xsol.jld cannot be found\")\n"
     ]
    }
   ],
   "source": [
    "dataset = \"gisette_scale\"   # news20.binary  rcv1_train.binary mnist.scale  a9a  gisette_scale  rcv1_train.binary\n",
    "prob = defineProb(dataset);"
   ]
  },
  {
   "cell_type": "code",
   "execution_count": 318,
   "metadata": {},
   "outputs": [
    {
     "ename": "LoadError",
     "evalue": "KeyError: key \"gisette_scale\" not found",
     "output_type": "error",
     "traceback": [
      "KeyError: key \"gisette_scale\" not found",
      "",
      " in getindex(::Dict{Any,Any}, ::String) at ./dict.jl:697",
      " in showDetails(::String) at /home/local/rgower/modernSketches/BigRidge/src/dataLoad.jl:45"
     ]
    }
   ],
   "source": [
    "norm(prob.A*prob.xsol - prob.b)\n",
    "showDetails(dataset)"
   ]
  },
  {
   "cell_type": "code",
   "execution_count": 319,
   "metadata": {},
   "outputs": [],
   "source": [
    "options = MyOptions(0,\"uni\",tol,restol,maxiter,skip_error_calculation,max_time,printiters,exacterror,[]) \n",
    "OUTPUTS = [];"
   ]
  },
  {
   "cell_type": "code",
   "execution_count": 320,
   "metadata": {},
   "outputs": [
    {
     "name": "stdout",
     "output_type": "stream",
     "text": [
      "rademacher-10-2\n",
      "-------------------\n",
      "It   | Error% | Residual |  Time   \n",
      "-------------------\n",
      " 25  | 42.30  |  12.36  | 0.1502 \n",
      " 50  | 37.37  |  9.59  | 0.8480 \n",
      " 75  | 33.85  |  8.56  | 0.9338 \n",
      "100  | 31.38  |  7.81  | 1.0168 \n",
      "125  | 28.83  |  6.52  | 1.1134 \n",
      "150  | 27.04  |  6.00  | 1.1821 \n",
      "175  | 25.72  |  5.71  | 1.2603 \n",
      "200  | 23.63  |  5.87  | 1.3353 \n",
      "225  | 21.11  |  4.75  | 1.4150 \n",
      "250  | 20.92  |  4.58  | 1.4986 \n",
      "275  | 19.75  |  4.52  | 1.5732 \n",
      "300  | 18.38  |  4.05  | 1.6471 \n",
      "325  | 17.70  |  3.95  | 1.7296 \n",
      "350  | 16.54  |  3.77  | 1.8070 \n",
      "375  | 16.20  |  3.51  | 1.8871 \n",
      "400  | 15.14  |  3.78  | 1.9652 \n",
      "425  | 14.89  |  3.30  | 2.0313 \n",
      "450  | 14.50  |  3.26  | 2.1003 \n",
      "475  | 14.05  |  2.97  | 2.1757 \n",
      "500  | 13.24  |  2.90  | 2.2627 \n",
      "525  | 12.86  |  2.86  | 2.3338 \n",
      "550  | 12.51  |  2.80  | 2.4032 \n",
      "575  | 12.10  |  2.65  | 2.4777 \n",
      "600  | 11.88  |  2.51  | 2.5526 \n",
      "625  | 11.49  |  2.54  | 2.6364 \n",
      "650  | 11.21  |  2.39  | 2.7112 \n",
      "675  | 10.92  |  2.32  | 2.7858 \n",
      "700  | 10.52  |  2.43  | 2.8610 \n",
      "725  | 10.47  |  2.69  | 2.9330 \n",
      "750  | 9.88  |  2.10  | 3.0117 \n",
      "775  | 9.35  |  2.01  | 3.1090 \n",
      "800  | 9.37  |  2.03  | 3.2371 \n",
      "825  | 9.13  |  1.98  | 3.3551 \n",
      "850  | 8.93  |  1.87  | 3.4499 \n",
      "875  | 8.71  |  1.75  | 3.5263 \n",
      "900  | 8.52  |  1.76  | 3.6086 \n",
      "925  | 8.39  |  1.70  | 3.6830 \n",
      "950  | 8.24  |  1.76  | 3.7579 \n",
      "975  | 8.10  |  1.71  | 3.8328 \n",
      "1000  | 7.85  |  1.66  | 3.9300 \n",
      "1025  | 7.18  |  1.59  | 4.0123 \n",
      "1050  | 7.70  |  1.61  | 4.0991 \n",
      "1075  | 7.57  |  1.53  | 4.1752 \n",
      "1100  | 7.46  |  1.59  | 4.2496 \n",
      "1125  | 7.37  |  1.53  | 4.3263 \n",
      "1150  | 7.21  |  1.46  | 4.4009 \n",
      "1175  | 7.09  |  1.45  | 4.4787 \n",
      "1200  | 7.00  |  1.41  | 4.5613 \n",
      "1225  | 6.04  |  1.48  | 4.6358 \n",
      "1250  | 6.87  |  1.35  | 4.7529 \n",
      "1275  | 6.23  |  1.37  | 4.8614 \n",
      "1300  | 6.48  |  1.34  | 4.9352 \n",
      "1325  | 6.04  |  1.29  | 5.0325 \n",
      "1350  | 6.56  |  1.45  | 5.1333 \n",
      "1375  | 6.72  |  1.28  | 5.2045 \n",
      "1400  | 6.01  |  1.22  | 5.2910 \n",
      "1425  | 6.16  |  1.16  | 5.4204 \n",
      "1450  | 6.05  |  1.19  | 5.4991 \n",
      "1475  | 5.98  |  1.16  | 5.5679 \n",
      "1500  | 5.89  |  1.19  | 5.7498 \n",
      "1525  | 5.81  |  1.12  | 5.8636 \n",
      "1550  | 5.37  |  1.10  | 5.9410 \n",
      "1575  | 5.66  |  1.14  | 6.0127 \n",
      "1600  | 5.59  |  1.05  | 6.0903 \n",
      "1625  | 5.53  |  1.08  | 6.1812 \n",
      "1650  | 5.46  |  1.04  | 6.3072 \n",
      "1675  | 5.39  |  1.10  | 6.4439 \n",
      "1700  | 5.89  |  1.02  | 6.5185 \n",
      "1725  | 5.12  |  0.98  | 6.5880 \n",
      "1750  | 5.20  |  1.01  | 6.6897 \n",
      "1775  | 5.53  |  1.07  | 6.7864 \n",
      "1800  | 5.38  |  0.98  | 6.8826 \n",
      "1825  | 5.68  |  1.11  | 6.9621 \n",
      "1850  | 4.89  |  0.96  | 7.0378 \n",
      "1875  | 4.58  |  0.92  | 7.1577 \n",
      "1900  | 4.04  |  0.92  | 7.2571 \n",
      "1925  | 4.25  |  0.86  | 7.3307 \n",
      "1950  | 4.18  |  0.89  | 7.4107 \n",
      "1975  | 4.29  |  0.94  | 7.5429 \n",
      "2000  | 4.14  |  0.87  | 7.6808 \n",
      " 11.865072 seconds (998.60 k allocations: 2.303 GB, 7.67% gc time)\n"
     ]
    }
   ],
   "source": [
    "options.AUX = [0 5]; # don't use sign flipping and use a density of 10 per row\n",
    "method_name = \"rademacher\";# ROS\n",
    "options.sketchsize = 100; #floor((prob.n)^(1/2));\n",
    "@time   output= solveRidge(prob, method_name, options);\n",
    "OUTPUTS = [OUTPUTS ; output];"
   ]
  },
  {
   "cell_type": "code",
   "execution_count": 276,
   "metadata": {},
   "outputs": [],
   "source": [
    "# Testing Hadamard Sketch\n",
    "# method_name = \"Hadamard\";# ROS\n",
    "# options.sketchsize =10; # Int(floor(log2(prob.n)));\n",
    "# options.skip_error_calculation =25;\n",
    "# @time  output= solveRidge(prob, method_name, options);\n",
    "# OUTPUTS = [OUTPUTS ; output];"
   ]
  },
  {
   "cell_type": "code",
   "execution_count": 277,
   "metadata": {},
   "outputs": [],
   "source": [
    "# Testing countmin \n",
    "# options.sketchsize =10;#floor((prob.n)^(1/2));\n",
    "# options.skip_error_calculation =25;\n",
    "# method_name = \"countmin\";# gradient descent\n",
    "# @time output= solveRidge(prob, method_name, options);\n",
    "# OUTPUTS = [OUTPUTS ; output];"
   ]
  },
  {
   "cell_type": "code",
   "execution_count": 321,
   "metadata": {},
   "outputs": [
    {
     "name": "stdout",
     "output_type": "stream",
     "text": [
      "CG\n",
      "-------------------\n",
      "It   | Error% | Residual |  Time   \n",
      "-------------------\n",
      " 25  | 3.89  |  1.53  | 0.6564 \n",
      " 50  | 1.76  |  0.67  | 1.2130 \n",
      " 75  | 1.10  |  0.49  | 1.7700 \n",
      "100  | 0.77  |  1.21  | 2.3274 \n",
      "125  | 0.57  |  0.25  | 2.8970 \n",
      "150  | 0.30  |  0.38  | 3.4821 \n",
      "175  | 0.92  |  0.18  | 4.0527 \n",
      "200  | 0.48  |  0.20  | 4.5608 \n",
      "225  | 0.23  |  0.13  | 5.0683 \n",
      "250  | 0.19  |  0.82  | 5.5513 \n",
      "275  | 0.16  |  0.22  | 6.0433 \n",
      "300  | 0.13  |  0.16  | 6.5322 \n",
      "325  | 0.11  |  0.22  | 7.0176 \n",
      "350  | 0.09  |  0.16  | 7.4789 \n",
      "375  | 0.02  |  0.10  | 7.9893 \n",
      "400  | 0.07  |  0.11  | 8.4833 \n",
      "425  | 0.05  |  0.29  | 8.9930 \n",
      "450  | 0.04  |  0.07  | 9.5145 \n",
      "475  | 0.04  |  0.07  | 10.0201 \n",
      "500  | 0.03  |  0.04  | 10.5416 \n",
      "525  | 0.03  |  0.04  | 11.0502 \n",
      "550  | 0.02  |  0.03  | 11.5566 \n",
      "575  | 0.02  |  0.08  | 12.0656 \n",
      "600  | 0.02  |  0.03  | 12.5730 \n",
      "625  | 0.09  |  0.03  | 13.2212 \n",
      "650  | 0.05  |  0.03  | 13.7721 \n",
      "675  | 0.06  |  0.03  | 14.2876 \n",
      "700  | 0.06  |  0.03  | 14.7978 \n",
      "725  | 0.01  |  0.70  | 15.3081 \n",
      "750  | 0.07  |  0.02  | 15.8264 \n",
      "775  | 0.02  |  0.03  | 16.3340 \n",
      "800  | 0.01  |  0.02  | 16.8351 \n",
      "825  | 0.01  |  0.02  | 17.3442 \n",
      "850  | 0.00  |  0.17  | 17.8491 \n",
      "875  | 0.00  |  0.03  | 18.3629 \n",
      "900  | 0.00  |  0.02  | 18.8682 \n",
      "925  | 0.00  |  0.02  | 19.3600 \n",
      "950  | 0.00  |  0.01  | 19.8444 \n",
      "975  | 0.00  |  0.14  | 20.3565 \n",
      "1000  | 0.00  |  0.01  | 20.9046 \n",
      "1025  | 0.00  |  0.15  | 21.4600 \n",
      "1050  | 0.00  |  0.01  | 21.9646 \n",
      "1075  | 0.00  |  0.01  | 22.4850 \n",
      "1100  | 0.00  |  0.02  | 22.9946 \n",
      "1125  | 0.00  |  0.01  | 23.4976 \n",
      " 25.642264 seconds (75.82 k allocations: 356.299 MB, 0.17% gc time)\n"
     ]
    }
   ],
   "source": [
    "# Testing CG \n",
    "method_name = \"CG\";# gradient descent\n",
    "@time output= solveRidge(prob, method_name, options);\n",
    "OUTPUTS = [OUTPUTS ; output];"
   ]
  },
  {
   "cell_type": "code",
   "execution_count": null,
   "metadata": {},
   "outputs": [
    {
     "name": "stdout",
     "output_type": "stream",
     "text": [
      "CD-200\n",
      "-------------------\n",
      "It   | Error% | Residual |  Time   \n",
      "-------------------\n",
      " 25  | 9.17  |  2.93  | 0.5781 \n",
      " 50  | 5.60  |  1.26  | 0.9956 \n",
      " 75  | 4.04  |  0.91  | 1.3728 \n",
      "100  | 3.14  |  0.69  | 1.7714 \n",
      "125  | 2.98  |  0.58  | 2.2041 \n",
      "150  | 2.01  |  0.50  | 2.5667 \n",
      "175  | 1.97  |  0.44  | 2.9538 \n",
      "200  | 1.73  |  0.39  | 3.3187 \n",
      "225  | 1.56  |  0.35  | 3.7083 \n",
      "250  | 1.42  |  0.31  | 4.0870 \n",
      "275  | 1.43  |  0.29  | 4.5077 \n",
      "300  | 1.30  |  0.25  | 4.8632 \n",
      "325"
     ]
    }
   ],
   "source": [
    "# Testing CD \n",
    "method_name = \"CD\";# gradient descent\n",
    "options.sketchsize = 200;#floor((prob.n)^(1/2));\n",
    "@time output= solveRidge(prob, method_name, options);\n",
    "OUTPUTS = [OUTPUTS ; output];"
   ]
  },
  {
   "cell_type": "code",
   "execution_count": 293,
   "metadata": {},
   "outputs": [
    {
     "name": "stdout",
     "output_type": "stream",
     "text": [
      "rademacher-10-10-sgn\n",
      "-------------------\n",
      "It   | Error% | Residual |  Time   \n",
      "-------------------\n",
      " 25  | 22.94  |  10.80  | 0.0881 \n",
      " 50  | 15.23  |  7.68  | 0.1183 \n",
      " 75  | 11.62  |  7.23  | 0.1505 \n",
      "100  | 9.47  |  4.28  | 0.1775 \n",
      "125  | 7.86  |  3.68  | 0.2122 \n",
      "150  | 6.90  |  3.49  | 0.2398 \n",
      "175  | 6.52  |  2.95  | 0.2746 \n",
      "200  | 5.38  |  2.47  | 0.3025 \n",
      "225  | 4.88  |  2.34  | 0.3327 \n",
      "250  | 4.47  |  2.43  | 0.3597 \n",
      "275  | 4.73  |  2.09  | 0.3896 \n",
      "300  | 3.74  |  1.73  | 0.4171 \n",
      "325  | 3.48  |  1.89  | 0.4473 \n",
      "350  | 3.26  |  1.47  | 0.4743 \n",
      "375  | 3.93  |  1.84  | 0.5042 \n",
      "400  | 2.87  |  1.85  | 0.5317 \n",
      "425  | 2.72  |  1.36  | 0.5617 \n",
      "450  | 2.57  |  1.23  | 0.5888 \n",
      "475  | 2.24  |  1.35  | 0.6186 \n",
      "500  | 2.32  |  1.52  | 0.6449 \n",
      "525  | 2.18  |  1.07  | 0.6730 \n",
      "550  | 2.08  |  0.96  | 0.6965 \n",
      "575  | 1.99  |  1.03  | 0.7226 \n",
      "600  | 1.90  |  1.01  | 0.7472 \n",
      "625  | 1.82  |  1.02  | 0.7737 \n",
      "650  | 1.75  |  0.86  | 0.7974 \n",
      "675  | 1.28  |  0.92  | 0.8234 \n",
      "700  | 1.64  |  0.80  | 0.8490 \n",
      "725  | 1.57  |  0.85  | 0.8750 \n",
      "750  | 1.51  |  0.77  | 0.8986 \n",
      "775  | 1.46  |  0.83  | 0.9245 \n",
      "800  | 1.41  |  0.85  | 0.9494 \n",
      "825  | 1.36  |  0.79  | 0.9757 \n",
      "850  | 1.32  |  0.66  | 0.9992 \n",
      "875  | 1.28  |  0.70  | 1.0251 \n",
      "900  | 1.24  |  0.66  | 1.0519 \n",
      "925  | 1.20  |  0.69  | 1.0814 \n",
      "950  | 1.18  |  0.66  | 1.1058 \n",
      "975  | 1.15  |  0.55  | 1.1328 \n",
      "1000  | 1.12  |  0.55  | 1.1670 \n",
      "  1.256677 seconds (669.15 k allocations: 1.285 GB, 12.80% gc time)\n",
      "rademacher-10-10\n",
      "-------------------\n",
      "It   | Error% | Residual |  Time   \n",
      "-------------------\n",
      " 25  | 23.45  |  11.11  | 0.0158 \n",
      " 50  | 16.32  |  7.21  | 0.0318 \n",
      " 75  | 13.34  |  6.11  | 0.0472 \n",
      "100  | 10.90  |  4.78  | 0.0630 \n",
      "125  | 9.14  |  3.89  | 0.0856 \n",
      "150  | 7.95  |  3.37  | 0.1061 \n",
      "175  | 7.07  |  3.27  | 0.1232 \n",
      "200  | 6.19  |  3.03  | 0.1386 \n",
      "225  | 5.57  |  2.60  | 0.1518 \n",
      "250  | 5.05  |  2.21  | 0.1681 \n",
      "275  | 4.57  |  2.14  | 0.1838 \n",
      "300  | 4.19  |  2.05  | 0.2004 \n",
      "325  | 3.92  |  2.03  | 0.2154 \n",
      "350  | 3.94  |  1.69  | 0.2292 \n",
      "375  | 3.40  |  1.53  | 0.2446 \n",
      "400  | 3.16  |  1.64  | 0.2598 \n",
      "425  | 2.98  |  1.38  | 0.2749 \n",
      "450  | 2.85  |  1.34  | 0.2863 \n",
      "475  | 2.71  |  1.28  | 0.2977 \n",
      "500  | 2.58  |  1.17  | 0.3090 \n",
      "525  | 2.99  |  1.16  | 0.3237 \n",
      "550  | 2.34  |  1.21  | 0.3402 \n",
      "575  | 2.23  |  1.15  | 0.3526 \n",
      "600  | 2.13  |  1.08  | 0.3679 \n",
      "625  | 2.04  |  1.04  | 0.3828 \n",
      "650  | 1.97  |  1.08  | 0.3979 \n",
      "675  | 1.14  |  0.93  | 0.4128 \n",
      "700  | 1.81  |  0.81  | 0.4255 \n",
      "725  | 1.75  |  0.88  | 0.4414 \n",
      "750  | 1.69  |  0.74  | 0.4563 \n",
      "775  | 1.64  |  0.77  | 0.4718 \n",
      "800  | 1.59  |  0.74  | 0.4870 \n",
      "825  | 1.55  |  0.72  | 0.4995 \n",
      "850  | 1.50  |  0.72  | 0.5148 \n",
      "875  | 1.46  |  0.71  | 0.5271 \n",
      "900  | 1.42  |  0.71  | 0.5403 \n",
      "925  | 1.38  |  0.71  | 0.5526 \n",
      "950  | 1.34  |  0.60  | 0.5674 \n",
      "975  | 1.31  |  0.66  | 0.5821 \n",
      "1000  | 1.27  |  0.64  | 0.5970 \n",
      "  0.722071 seconds (310.82 k allocations: 692.037 MB, 10.64% gc time)\n",
      "CG\n",
      "-------------------\n",
      "It   | Error% | Residual |  Time   \n",
      "-------------------\n",
      " 25  | 1.25  |  2.94  | 0.0019 \n",
      " 50  | 0.41  |  0.41  | 0.0039 \n",
      " 75  | 0.24  |  0.28  | 0.0105 \n",
      "100  | 0.18  |  0.47  | 0.0196 \n",
      "125  | 0.15  |  0.21  | 0.0215 \n",
      "150  | 0.12  |  0.11  | 0.0240 \n",
      "175  | 0.11  |  0.12  | 0.0275 \n",
      "200  | 0.10  |  0.09  | 0.0310 \n",
      "225  | 0.09  |  0.05  | 0.0337 \n",
      "250  | 0.08  |  0.09  | 0.0370 \n",
      "275  | 0.07  |  0.09  | 0.0689 \n",
      "300  | 0.07  |  0.09  | 0.1027 \n",
      "325  | 0.06  |  0.05  | 0.1630 \n",
      "350  | 0.06  |  0.05  | 0.1808 \n",
      "375  | 0.05  |  0.05  | 0.1857 \n",
      "400  | 0.05  |  0.04  | 0.1927 \n",
      "425  | 0.05  |  0.07  | 0.2006 \n",
      "450  | 0.04  |  0.05  | 0.2025 \n",
      "475  | 0.04  |  0.03  | 0.2044 \n",
      "500  | 0.04  |  0.04  | 0.2161 \n",
      "525  | 0.04  |  0.05  | 0.2192 \n",
      "550  | 0.03  |  0.10  | 0.2212 \n",
      "575  | 0.03  |  0.04  | 0.2232 \n",
      "600  | 0.03  |  0.03  | 0.2252 \n",
      "625  | 0.03  |  0.06  | 0.2326 \n",
      "650  | 0.03  |  0.06  | 0.2425 \n",
      "675  | 0.02  |  0.08  | 0.2447 \n",
      "700  | 0.02  |  0.03  | 0.2469 \n",
      "725  | 0.02  |  0.03  | 0.2498 \n",
      "750  | 0.02  |  0.03  | 0.2523 \n",
      "775  | 0.02  |  0.03  | 0.2549 \n",
      "800  | 0.02  |  0.03  | 0.2574 \n",
      "825  | 0.02  |  0.09  | 0.2599 \n",
      "850  | 0.02  |  0.02  | 0.2623 \n",
      "875  | 0.02  |  0.05  | 0.2648 \n",
      "900  | 0.01  |  0.02  | 0.2672 \n",
      "925  | 0.01  |  0.01  | 0.2698 \n",
      "950  | 0.01  |  0.03  | 0.2723 \n",
      "975  | 0.01  |  0.03  | 0.2748 \n",
      "1000  | 0.01  |  0.02  | 0.2775 \n",
      "  0.322747 seconds (38.14 k allocations: 51.359 MB, 1.68% gc time)\n",
      "CD-10\n",
      "-------------------\n",
      "It   | Error% | Residual |  Time   \n",
      "-------------------\n",
      " 25  | 26.62  |  16.60  | 0.0019 \n",
      " 50  | 17.27  |  10.61  | 0.0030 \n",
      " 75  | 13.77  |  8.14  | 0.0042 \n",
      "100  | 10.97  |  5.99  | 0.0053 \n",
      "125  | 9.17  |  5.61  | 0.0096 \n",
      "150  | 7.27  |  4.92  | 0.0108 \n",
      "175  | 6.37  |  3.87  | 0.0119 \n",
      "200  | 5.71  |  3.77  | 0.0131 \n",
      "225  | 4.94  |  3.29  | 0.0142 \n",
      "250  | 4.43  |  3.02  | 0.0154 \n",
      "275  | 3.90  |  2.77  | 0.0165 \n",
      "300  | 3.59  |  2.48  | 0.0177 \n",
      "325  | 3.32  |  2.16  | 0.0188 \n",
      "350  | 3.13  |  2.24  | 0.0199 \n",
      "375  | 2.89  |  1.85  | 0.0211 \n",
      "400  | 2.75  |  1.87  | 0.0222 \n",
      "425  | 2.53  |  1.78  | 0.0234 \n",
      "450  | 2.35  |  1.56  | 0.0278 \n",
      "475  | 2.16  |  1.91  | 0.0290 \n",
      "500  | 2.02  |  1.63  | 0.0301 \n",
      "525  | 1.89  |  1.58  | 0.0312 \n",
      "550  | 1.74  |  1.26  | 0.0323 \n",
      "575  | 1.65  |  1.22  | 0.0335 \n",
      "600  | 1.58  |  1.29  | 0.0346 \n",
      "625  | 1.52  |  1.19  | 0.0357 \n",
      "650  | 1.41  |  1.08  | 0.0369 \n",
      "675  | 1.31  |  1.15  | 0.0380 \n",
      "700  | 1.25  |  1.32  | 0.0392 \n",
      "725  | 1.17  |  1.03  | 0.0403 \n",
      "750  | 1.10  |  1.00  | 0.0414 \n",
      "775  | 1.05  |  1.20  | 0.0454 \n",
      "800  | 0.99  |  1.04  | 0.0466 \n",
      "825  | 0.94  |  0.90  | 0.0477 \n",
      "850  | 0.89  |  0.89  | 0.0488 \n",
      "875  | 0.84  |  0.89  | 0.0499 \n",
      "900  | 0.81  |  1.05  | 0.0510 \n",
      "925  | 0.77  |  0.82  | 0.0521 \n",
      "950  | 0.74  |  0.77  | 0.0533 \n",
      "975  | 0.70  |  0.76  | 0.0544 \n",
      "1000  | 0.66  |  0.74  | 0.0555 \n",
      "  0.094011 seconds (55.42 k allocations: 66.046 MB, 8.75% gc time)\n"
     ]
    },
    {
     "data": {
      "text/plain": [
       "4-element Array{Any,1}:\n",
       " LastMain.Output(1000,53085,[0.0 0.0880732 … 1.13277 1.16704],[1.0 0.229355 … 0.011472 0.0112244],[1.0 0.108 … 0.0054965 0.00548314],\"rademacher-10-10-sgn\",\"max_iter\") \n",
       " LastMain.Output(1000,53085,[0.0 0.0158351 … 0.582131 0.59705],[1.0 0.234526 … 0.0131045 0.0127203],[1.0 0.11109 … 0.00662151 0.00636297],\"rademacher-10-10\",\"max_iter\")\n",
       " LastMain.Output(1000,1222260,[0.0 0.00193524 … 0.274848 0.277471],[1.0 0.0124964 … 0.000123463 0.000118088],[1.0 0.0294147 … 0.000262751 0.000209458],\"CG\",\"max_iter\") \n",
       " LastMain.Output(1000,8820,[0.0 0.00185541 … 0.054431 0.0555454],[1.0 0.266163 … 0.00702874 0.00662517],[1.0 0.166018 … 0.00757432 0.00744022],\"CD-10\",\"max_iter\")      "
      ]
     },
     "execution_count": 293,
     "metadata": {},
     "output_type": "execute_result"
    }
   ],
   "source": [
    "OUTPUTS =[];\n",
    "include(\"../src/call_all_methods.jl\")"
   ]
  },
  {
   "cell_type": "code",
   "execution_count": 305,
   "metadata": {
    "collapsed": true
   },
   "outputs": [],
   "source": [
    "savename = replace(prob.name, r\"[\\/]\", \"-\");\n",
    "save(\"../data/$(savename)-OUTPUTS.jld\", \"OUTPUTS\", OUTPUTS)"
   ]
  },
  {
   "cell_type": "code",
   "execution_count": 306,
   "metadata": {},
   "outputs": [
    {
     "name": "stdout",
     "output_type": "stream",
     "text": [
      "rcv1_train.binary\n"
     ]
    }
   ],
   "source": [
    "#using GR\n",
    "using Plots\n",
    "pgfplots()\n",
    "plot_outputs_Plots(OUTPUTS,savename)"
   ]
  },
  {
   "cell_type": "code",
   "execution_count": null,
   "metadata": {
    "collapsed": true
   },
   "outputs": [],
   "source": [
    "# Loading saved problem data\n",
    "probname = \"w8a\"#\"gisette_scale-ridge\";  \n",
    "test = load(\"../data/$(probname)-OUTPUTS.jld\")\n",
    "OUTPUTS = test[\"OUTPUTS\"];"
   ]
  },
  {
   "cell_type": "code",
   "execution_count": null,
   "metadata": {
    "collapsed": true
   },
   "outputs": [],
   "source": []
  }
 ],
 "metadata": {
  "anaconda-cloud": {},
  "kernelspec": {
   "display_name": "Julia 0.5.2",
   "language": "julia",
   "name": "julia-0.5"
  },
  "language_info": {
   "file_extension": ".jl",
   "mimetype": "application/julia",
   "name": "julia",
   "version": "0.5.2"
  }
 },
 "nbformat": 4,
 "nbformat_minor": 1
}
