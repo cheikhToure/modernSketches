{
 "cells": [
  {
   "cell_type": "markdown",
   "metadata": {},
   "source": [
    "The main solving big ridge regression problems"
   ]
  },
  {
   "cell_type": "code",
   "execution_count": 1,
   "metadata": {},
   "outputs": [],
   "source": [
    "workspace()"
   ]
  },
  {
   "cell_type": "code",
   "execution_count": 2,
   "metadata": {},
   "outputs": [
    {
     "name": "stderr",
     "output_type": "stream",
     "text": [
      "WARNING: Method definition (::Type{Main.Base.LinearIndexing})(Type{#T<:Any}) in module Compat at /home/ROCQ/sierra/rgower/.julia/v0.5/Compat/src/Compat.jl:1430 overwritten in module Compat at /home/ROCQ/sierra/rgower/.julia/v0.5/Compat/src/Compat.jl:1430.\n",
      "WARNING: Method definition (::Type{Main.Base.LinearIndexing})(Any...) in module Compat at /home/ROCQ/sierra/rgower/.julia/v0.5/Compat/src/Compat.jl:1431 overwritten in module Compat at /home/ROCQ/sierra/rgower/.julia/v0.5/Compat/src/Compat.jl:1431.\n",
      "WARNING: Method definition unsafe_trunc(Type{#T<:Integer}, Integer) in module Compat at /home/ROCQ/sierra/rgower/.julia/v0.5/Compat/src/Compat.jl:1469 overwritten in module Compat at /home/ROCQ/sierra/rgower/.julia/v0.5/Compat/src/Compat.jl:1469.\n",
      "WARNING: Method definition convert(Type{Main.Base.Set{#T<:Any}}, Main.Base.Set{#T<:Any}) in module Compat at /home/ROCQ/sierra/rgower/.julia/v0.5/Compat/src/Compat.jl:1459 overwritten in module Compat at /home/ROCQ/sierra/rgower/.julia/v0.5/Compat/src/Compat.jl:1459.\n",
      "WARNING: Method definition convert(Type{Main.Base.Set{#T<:Any}}, Main.Base.Set) in module Compat at /home/ROCQ/sierra/rgower/.julia/v0.5/Compat/src/Compat.jl:1460 overwritten in module Compat at /home/ROCQ/sierra/rgower/.julia/v0.5/Compat/src/Compat.jl:1460.\n",
      "WARNING: Method definition bswap(Main.Base.Complex) in module Compat at /home/ROCQ/sierra/rgower/.julia/v0.5/Compat/src/Compat.jl:1474 overwritten in module Compat at /home/ROCQ/sierra/rgower/.julia/v0.5/Compat/src/Compat.jl:1474.\n",
      "WARNING: Method definition redirect_stderr(Function, Any) in module Compat at /home/ROCQ/sierra/rgower/.julia/v0.5/Compat/src/Compat.jl:1057 overwritten in module Compat at /home/ROCQ/sierra/rgower/.julia/v0.5/Compat/src/Compat.jl:1057.\n",
      "WARNING: Method definition take!(Task) in module Compat at /home/ROCQ/sierra/rgower/.julia/v0.5/Compat/src/Compat.jl:53 overwritten in module Compat at /home/ROCQ/sierra/rgower/.julia/v0.5/Compat/src/Compat.jl:53.\n",
      "WARNING: Method definition take!(Main.Base.AbstractIOBuffer) in module Compat at /home/ROCQ/sierra/rgower/.julia/v0.5/Compat/src/Compat.jl:1172 overwritten in module Compat at /home/ROCQ/sierra/rgower/.julia/v0.5/Compat/src/Compat.jl:1172.\n",
      "WARNING: Method definition macroexpand(Module, ANY<:Any) in module Compat at /home/ROCQ/sierra/rgower/.julia/v0.5/Compat/src/Compat.jl:1491 overwritten in module Compat at /home/ROCQ/sierra/rgower/.julia/v0.5/Compat/src/Compat.jl:1491.\n",
      "WARNING: Method definition isless(Union{Main.Base.Dates.Week, Main.Base.Dates.Hour, Main.Base.Dates.Minute, Main.Base.Dates.Day, Main.Base.Dates.Millisecond, Main.Base.Dates.Second}, Union{Main.Base.Dates.Year, Main.Base.Dates.Month}) in module Compat at /home/ROCQ/sierra/rgower/.julia/v0.5/Compat/src/Compat.jl:1529 overwritten in module Compat at /home/ROCQ/sierra/rgower/.julia/v0.5/Compat/src/Compat.jl:1529.\n",
      "WARNING: Method definition isless(Union{Main.Base.Dates.Year, Main.Base.Dates.Month}, Union{Main.Base.Dates.Week, Main.Base.Dates.Hour, Main.Base.Dates.Minute, Main.Base.Dates.Day, Main.Base.Dates.Millisecond, Main.Base.Dates.Second}) in module Compat at /home/ROCQ/sierra/rgower/.julia/v0.5/Compat/src/Compat.jl:1530 overwritten in module Compat at /home/ROCQ/sierra/rgower/.julia/v0.5/Compat/src/Compat.jl:1530.\n",
      "WARNING: Method definition isless(Main.Base.Dates.Period, Main.Base.Dates.Period) in module Compat at /home/ROCQ/sierra/rgower/.julia/v0.5/Compat/src/Compat.jl:1524 overwritten in module Compat at /home/ROCQ/sierra/rgower/.julia/v0.5/Compat/src/Compat.jl:1524.\n",
      "WARNING: Method definition broadcast(Any, Tuple{Vararg{T<:Any, #N<:Any}}, Tuple{Vararg{T<:Any, #N<:Any}}...) in module Compat at /home/ROCQ/sierra/rgower/.julia/v0.5/Compat/src/Compat.jl:1122 overwritten in module Compat at /home/ROCQ/sierra/rgower/.julia/v0.5/Compat/src/Compat.jl:1122.\n",
      "WARNING: Method definition redirect_stdout(Function, Any) in module Compat at /home/ROCQ/sierra/rgower/.julia/v0.5/Compat/src/Compat.jl:1057 overwritten in module Compat at /home/ROCQ/sierra/rgower/.julia/v0.5/Compat/src/Compat.jl:1057.\n",
      "WARNING: Method definition expand(Module, ANY<:Any) in module Compat at /home/ROCQ/sierra/rgower/.julia/v0.5/Compat/src/Compat.jl:1490 overwritten in module Compat at /home/ROCQ/sierra/rgower/.julia/v0.5/Compat/src/Compat.jl:1490.\n",
      "WARNING: Method definition redirect_stdin(Function, Any) in module Compat at /home/ROCQ/sierra/rgower/.julia/v0.5/Compat/src/Compat.jl:1057 overwritten in module Compat at /home/ROCQ/sierra/rgower/.julia/v0.5/Compat/src/Compat.jl:1057.\n",
      "WARNING: Method definition zeros(AbstractArray) in module Compat at /home/ROCQ/sierra/rgower/.julia/v0.5/Compat/src/Compat.jl:1440 overwritten in module Compat at /home/ROCQ/sierra/rgower/.julia/v0.5/Compat/src/Compat.jl:1440.\n",
      "WARNING: Method definition zeros(AbstractArray, Type) in module Compat at /home/ROCQ/sierra/rgower/.julia/v0.5/Compat/src/Compat.jl:1440 overwritten in module Compat at /home/ROCQ/sierra/rgower/.julia/v0.5/Compat/src/Compat.jl:1440.\n",
      "WARNING: Method definition zeros(AbstractArray, Type, Tuple) in module Compat at /home/ROCQ/sierra/rgower/.julia/v0.5/Compat/src/Compat.jl:1438 overwritten in module Compat at /home/ROCQ/sierra/rgower/.julia/v0.5/Compat/src/Compat.jl:1438.\n",
      "WARNING: Method definition zeros(AbstractArray, Type, Any...) in module Compat at /home/ROCQ/sierra/rgower/.julia/v0.5/Compat/src/Compat.jl:1439 overwritten in module Compat at /home/ROCQ/sierra/rgower/.julia/v0.5/Compat/src/Compat.jl:1439.\n",
      "WARNING: Method definition isassigned(Main.Base.RefValue) in module Compat at /home/ROCQ/sierra/rgower/.julia/v0.5/Compat/src/Compat.jl:1465 overwritten in module Compat at /home/ROCQ/sierra/rgower/.julia/v0.5/Compat/src/Compat.jl:1465.\n",
      "WARNING: Method definition include_string(Module, String, String) in module Compat at /home/ROCQ/sierra/rgower/.julia/v0.5/Compat/src/Compat.jl:1492 overwritten in module Compat at /home/ROCQ/sierra/rgower/.julia/v0.5/Compat/src/Compat.jl:1492.\n",
      "WARNING: Method definition include_string(Module, AbstractString) in module Compat at /home/ROCQ/sierra/rgower/.julia/v0.5/Compat/src/Compat.jl:1494 overwritten in module Compat at /home/ROCQ/sierra/rgower/.julia/v0.5/Compat/src/Compat.jl:1494.\n",
      "WARNING: Method definition include_string(Module, AbstractString, AbstractString) in module Compat at /home/ROCQ/sierra/rgower/.julia/v0.5/Compat/src/Compat.jl:1494 overwritten in module Compat at /home/ROCQ/sierra/rgower/.julia/v0.5/Compat/src/Compat.jl:1494.\n",
      "WARNING: Method definition !(Function) in module Compat at /home/ROCQ/sierra/rgower/.julia/v0.5/Compat/src/Compat.jl:1205 overwritten in module Compat at /home/ROCQ/sierra/rgower/.julia/v0.5/Compat/src/Compat.jl:1205.\n",
      "WARNING: Method definition ==(Union{Main.Base.Dates.Week, Main.Base.Dates.Hour, Main.Base.Dates.Minute, Main.Base.Dates.Day, Main.Base.Dates.Millisecond, Main.Base.Dates.Second}, Union{Main.Base.Dates.Year, Main.Base.Dates.Month}) in module Compat at /home/ROCQ/sierra/rgower/.julia/v0.5/Compat/src/Compat.jl:1527 overwritten in module Compat at /home/ROCQ/sierra/rgower/.julia/v0.5/Compat/src/Compat.jl:1527.\n",
      "WARNING: Method definition ==(Union{Main.Base.Dates.Year, Main.Base.Dates.Month}, Union{Main.Base.Dates.Week, Main.Base.Dates.Hour, Main.Base.Dates.Minute, Main.Base.Dates.Day, Main.Base.Dates.Millisecond, Main.Base.Dates.Second}) in module Compat at /home/ROCQ/sierra/rgower/.julia/v0.5/Compat/src/Compat.jl:1528 overwritten in module Compat at /home/ROCQ/sierra/rgower/.julia/v0.5/Compat/src/Compat.jl:1528.\n",
      "WARNING: Method definition ==(Main.Base.Dates.Period, Main.Base.Dates.Period) in module Compat at /home/ROCQ/sierra/rgower/.julia/v0.5/Compat/src/Compat.jl:1523 overwritten in module Compat at /home/ROCQ/sierra/rgower/.julia/v0.5/Compat/src/Compat.jl:1523.\n",
      "WARNING: Method definition ones(AbstractArray) in module Compat at /home/ROCQ/sierra/rgower/.julia/v0.5/Compat/src/Compat.jl:1440 overwritten in module Compat at /home/ROCQ/sierra/rgower/.julia/v0.5/Compat/src/Compat.jl:1440.\n",
      "WARNING: Method definition ones(AbstractArray, Type) in module Compat at /home/ROCQ/sierra/rgower/.julia/v0.5/Compat/src/Compat.jl:1440 overwritten in module Compat at /home/ROCQ/sierra/rgower/.julia/v0.5/Compat/src/Compat.jl:1440.\n",
      "WARNING: Method definition ones(AbstractArray, Type, Tuple) in module Compat at /home/ROCQ/sierra/rgower/.julia/v0.5/Compat/src/Compat.jl:1438 overwritten in module Compat at /home/ROCQ/sierra/rgower/.julia/v0.5/Compat/src/Compat.jl:1438.\n",
      "WARNING: Method definition ones(AbstractArray, Type, Any...) in module Compat at /home/ROCQ/sierra/rgower/.julia/v0.5/Compat/src/Compat.jl:1439 overwritten in module Compat at /home/ROCQ/sierra/rgower/.julia/v0.5/Compat/src/Compat.jl:1439.\n",
      "WARNING: Method definition isnull(Any) in module Compat at /home/ROCQ/sierra/rgower/.julia/v0.5/Compat/src/Compat.jl:1137 overwritten in module Compat at /home/ROCQ/sierra/rgower/.julia/v0.5/Compat/src/Compat.jl:1137.\n"
     ]
    }
   ],
   "source": [
    "using Plots"
   ]
  },
  {
   "cell_type": "code",
   "execution_count": 109,
   "metadata": {},
   "outputs": [
    {
     "name": "stderr",
     "output_type": "stream",
     "text": [
      "WARNING: Method definition (::Type{Main.MyOptions})(Int64, AbstractString, Float64, Float64, Int64, Int64, Float64, Bool, Bool, Array{Float64, N<:Any}) in module Main at /home/local/rgower/modernSketches/BigRidge/src/BigRidge.jl:13 overwritten at /home/local/rgower/modernSketches/BigRidge/src/BigRidge.jl:13.\n",
      "WARNING: Method definition (::Type{Main.MyOptions})(Any, Any, Any, Any, Any, Any, Any, Any, Any, Any) in module Main at /home/local/rgower/modernSketches/BigRidge/src/BigRidge.jl:13 overwritten at /home/local/rgower/modernSketches/BigRidge/src/BigRidge.jl:13.\n",
      "WARNING: Method definition (::Type{Main.Prob})(Array{Float64, N<:Any}, Array{Float64, N<:Any}, Array{Float64, N<:Any}, Int64, Float64, AbstractString) in module Main at /home/local/rgower/modernSketches/BigRidge/src/BigRidge.jl:27 overwritten at /home/local/rgower/modernSketches/BigRidge/src/BigRidge.jl:27.\n",
      "WARNING: Method definition (::Type{Main.Prob})(Any, Any, Any, Any, Any, Any) in module Main at /home/local/rgower/modernSketches/BigRidge/src/BigRidge.jl:27 overwritten at /home/local/rgower/modernSketches/BigRidge/src/BigRidge.jl:27.\n",
      "WARNING: Method definition (::Type{Main.SketchMethod})(Int64, AbstractString, Function, Function, Array{Float64, N<:Any}, Array{Float64, N<:Any}, Array{Float64, N<:Any}, Array{Int64, N<:Any}, Array{Int64, N<:Any}) in module Main at /home/local/rgower/modernSketches/BigRidge/src/BigRidge.jl:36 overwritten at /home/local/rgower/modernSketches/BigRidge/src/BigRidge.jl:36.\n",
      "WARNING: Method definition (::Type{Main.SketchMethod})(Any, Any, Any, Any, Any, Any, Any, Any, Any) in module Main at /home/local/rgower/modernSketches/BigRidge/src/BigRidge.jl:36 overwritten at /home/local/rgower/modernSketches/BigRidge/src/BigRidge.jl:36.\n",
      "WARNING: Method definition (::Type{Main.CGMethod})(Int64, AbstractString, Function, Function, Array{Float64, N<:Any}, Array{Float64, N<:Any}, Float64) in module Main at /home/local/rgower/modernSketches/BigRidge/src/BigRidge.jl:48 overwritten at /home/local/rgower/modernSketches/BigRidge/src/BigRidge.jl:48.\n",
      "WARNING: Method definition (::Type{Main.CGMethod})(Any, Any, Any, Any, Any, Any, Any) in module Main at /home/local/rgower/modernSketches/BigRidge/src/BigRidge.jl:48 overwritten at /home/local/rgower/modernSketches/BigRidge/src/BigRidge.jl:48.\n",
      "WARNING: Method definition (::Type{Main.Output})(Int64, Int64, Array{Float64, N<:Any}, Array{Float64, N<:Any}, Array{Float64, N<:Any}, AbstractString, AbstractString) in module Main at /home/local/rgower/modernSketches/BigRidge/src/BigRidge.jl:60 overwritten at /home/local/rgower/modernSketches/BigRidge/src/BigRidge.jl:60.\n",
      "WARNING: Method definition (::Type{Main.Output})(Any, Any, Any, Any, Any, Any, Any) in module Main at /home/local/rgower/modernSketches/BigRidge/src/BigRidge.jl:60 overwritten at /home/local/rgower/modernSketches/BigRidge/src/BigRidge.jl:60.\n",
      "WARNING: Method definition solveRidge(Main.Prob, Any, Main.MyOptions) in module Main at /home/local/rgower/modernSketches/BigRidge/src/solveRidge.jl:5 overwritten at /home/local/rgower/modernSketches/BigRidge/src/solveRidge.jl:5.\n",
      "WARNING: Method definition boot_method(AbstractString, Any, Main.MyOptions) in module Main at /home/local/rgower/modernSketches/BigRidge/src/boot_method.jl:2 overwritten at /home/local/rgower/modernSketches/BigRidge/src/boot_method.jl:2.\n",
      "WARNING: Method definition initDetails() in module Main at /home/local/rgower/modernSketches/BigRidge/src/dataLoad.jl:26 overwritten at /home/local/rgower/modernSketches/BigRidge/src/dataLoad.jl:26.\n",
      "WARNING: Method definition transformDataJLD(Any) in module Main at /home/local/rgower/modernSketches/BigRidge/src/dataLoad.jl:31 overwritten at /home/local/rgower/modernSketches/BigRidge/src/dataLoad.jl:31.\n",
      "WARNING: Method definition loadDataset(Any) in module Main at /home/local/rgower/modernSketches/BigRidge/src/dataLoad.jl:40 overwritten at /home/local/rgower/modernSketches/BigRidge/src/dataLoad.jl:40.\n",
      "WARNING: Method definition showDetails(Any) in module Main at /home/local/rgower/modernSketches/BigRidge/src/dataLoad.jl:45 overwritten at /home/local/rgower/modernSketches/BigRidge/src/dataLoad.jl:45.\n",
      "WARNING: Method definition readLIBSVM(AbstractString, Bool) in module Main at /home/local/rgower/modernSketches/BigRidge/src/dataLoad.jl:51 overwritten at /home/local/rgower/modernSketches/BigRidge/src/dataLoad.jl:51.\n",
      "WARNING: Method definition defineProb(Any) in module Main at /home/local/rgower/modernSketches/BigRidge/src/defineProb.jl:3 overwritten at /home/local/rgower/modernSketches/BigRidge/src/defineProb.jl:3.\n",
      "WARNING: Method definition get_randProb(Int64) in module Main at /home/local/rgower/modernSketches/BigRidge/src/get_randProb.jl:3 overwritten at /home/local/rgower/modernSketches/BigRidge/src/get_randProb.jl:3.\n",
      "WARNING: Method definition boot_grad(Main.Prob, Main.MyOptions) in module Main at /home/local/rgower/modernSketches/BigRidge/src/grad.jl:4 overwritten at /home/local/rgower/modernSketches/BigRidge/src/grad.jl:4.\n",
      "WARNING: Method definition step_grad(Main.Prob, Array{Float64, N<:Any}, Main.MyOptions) in module Main at /home/local/rgower/modernSketches/BigRidge/src/grad.jl:15 overwritten at /home/local/rgower/modernSketches/BigRidge/src/grad.jl:15.\n",
      "WARNING: Method definition boot_CD(Main.Prob, Main.MyOptions) in module Main at /home/local/rgower/modernSketches/BigRidge/src/CD.jl:5 overwritten at /home/local/rgower/modernSketches/BigRidge/src/CD.jl:5.\n",
      "WARNING: Method definition step_CD(Main.Prob, Array{Float64, N<:Any}, Main.MyOptions, Main.SketchMethod) in module Main at /home/local/rgower/modernSketches/BigRidge/src/CD.jl:15 overwritten at /home/local/rgower/modernSketches/BigRidge/src/CD.jl:15.\n",
      "WARNING: Method definition boot_CG(Main.Prob, Main.MyOptions) in module Main at /home/local/rgower/modernSketches/BigRidge/src/CG.jl:5 overwritten at /home/local/rgower/modernSketches/BigRidge/src/CG.jl:5.\n",
      "WARNING: Method definition step_CG(Main.Prob, Array{Float64, N<:Any}, Main.MyOptions, Main.CGMethod) in module Main at /home/local/rgower/modernSketches/BigRidge/src/CG.jl:17 overwritten at /home/local/rgower/modernSketches/BigRidge/src/CG.jl:17.\n",
      "WARNING: Method definition hada(Any, Any) in module Main at /home/local/rgower/modernSketches/BigRidge/src/hada.jl:6 overwritten at /home/local/rgower/modernSketches/BigRidge/src/hada.jl:6.\n",
      "WARNING: Method definition boot_Hadamard(Main.Prob, Main.MyOptions) in module Main at /home/local/rgower/modernSketches/BigRidge/src/Hadamard.jl:5 overwritten at /home/local/rgower/modernSketches/BigRidge/src/Hadamard.jl:5.\n",
      "WARNING: Method definition step_Hadamard(Main.Prob, Array{Float64, N<:Any}, Main.MyOptions, Main.SketchMethod) in module Main at /home/local/rgower/modernSketches/BigRidge/src/Hadamard.jl:28 overwritten at /home/local/rgower/modernSketches/BigRidge/src/Hadamard.jl:28.\n",
      "WARNING: Method definition boot_rademacher(Main.Prob, Main.MyOptions) in module Main at /home/local/rgower/modernSketches/BigRidge/src/rademacher.jl:2 overwritten at /home/local/rgower/modernSketches/BigRidge/src/rademacher.jl:2.\n",
      "WARNING: Method definition step_rademacher_sign_flip(Main.Prob, Array{Float64, N<:Any}, Main.MyOptions, Main.SketchMethod) in module Main at /home/local/rgower/modernSketches/BigRidge/src/rademacher.jl:31 overwritten at /home/local/rgower/modernSketches/BigRidge/src/rademacher.jl:31.\n",
      "WARNING: Method definition step_rademacher(Main.Prob, Array{Float64, N<:Any}, Main.MyOptions, Main.SketchMethod) in module Main at /home/local/rgower/modernSketches/BigRidge/src/rademacher.jl:54 overwritten at /home/local/rgower/modernSketches/BigRidge/src/rademacher.jl:54.\n",
      "WARNING: Method definition step_rademacher_full_indexed(Main.Prob, Array{Float64, N<:Any}, Main.MyOptions, Main.SketchMethod) in module Main at /home/local/rgower/modernSketches/BigRidge/src/rademacher.jl:74 overwritten at /home/local/rgower/modernSketches/BigRidge/src/rademacher.jl:74.\n",
      "WARNING: Method definition boot_countmin(Main.Prob, Main.MyOptions) in module Main at /home/local/rgower/modernSketches/BigRidge/src/countmin.jl:3 overwritten at /home/local/rgower/modernSketches/BigRidge/src/countmin.jl:3.\n",
      "WARNING: Method definition step_countmin(Main.Prob, Array{Float64, N<:Any}, Main.MyOptions, Main.SketchMethod) in module Main at /home/local/rgower/modernSketches/BigRidge/src/countmin.jl:28 overwritten at /home/local/rgower/modernSketches/BigRidge/src/countmin.jl:28.\n",
      "WARNING: Method definition plot_outputs_Plots(Any, Any) in module Main at /home/local/rgower/modernSketches/BigRidge/src/plot_outputs_Plots.jl:3 overwritten at /home/local/rgower/modernSketches/BigRidge/src/plot_outputs_Plots.jl:3.\n"
     ]
    },
    {
     "data": {
      "text/plain": [
       "plot_outputs_Plots (generic function with 1 method)"
      ]
     },
     "execution_count": 109,
     "metadata": {},
     "output_type": "execute_result"
    }
   ],
   "source": [
    "using StatsBase\n",
    "using JLD  \n",
    "include(\"../src/BigRidge.jl\")"
   ]
  },
  {
   "cell_type": "code",
   "execution_count": 114,
   "metadata": {
    "collapsed": true
   },
   "outputs": [],
   "source": [
    "## Basic parameters\n",
    "maxiter=2000;\n",
    "max_time = 200;\n",
    "max_epocs = 100;\n",
    "printiters = true;\n",
    "exacterror =true; \n",
    "tol = 10.0^(-5.0);\n",
    "restol = 10.0^(-5.0);\n",
    "skip_error_calculation = 25;   # number of iterations where error is not calculated (to save time!) ceil((m)^(1/2))"
   ]
  },
  {
   "cell_type": "code",
   "execution_count": 111,
   "metadata": {},
   "outputs": [
    {
     "name": "stdout",
     "output_type": "stream",
     "text": [
      "../data/rcv1_train.multiclass.jld\n",
      "ErrorException(\"File ../data/rcv1_train.multiclass-xsol.jld cannot be found\")\n"
     ]
    },
    {
     "data": {
      "text/plain": [
       "Dict{Symbol,Any} with 3 entries:\n",
       "  :sparsity => 0.00139868\n",
       "  :dims     => 47236\n",
       "  :n        => 15564"
      ]
     },
     "execution_count": 111,
     "metadata": {},
     "output_type": "execute_result"
    }
   ],
   "source": [
    "dataset = \"rcv1_train.multiclass\"   # news20.binary  rcv1_train.multiclass rcv1_train.binary mnist.scale  a9a  gisette_scale \n",
    "prob = defineProb(dataset);\n",
    "showDetails(dataset)"
   ]
  },
  {
   "cell_type": "code",
   "execution_count": 112,
   "metadata": {},
   "outputs": [
    {
     "data": {
      "text/plain": [
       "1.3382982495227205e-10"
      ]
     },
     "execution_count": 112,
     "metadata": {},
     "output_type": "execute_result"
    }
   ],
   "source": [
    "norm(prob.A*prob.xsol - prob.b)"
   ]
  },
  {
   "cell_type": "code",
   "execution_count": 113,
   "metadata": {
    "collapsed": true
   },
   "outputs": [],
   "source": [
    "options = MyOptions(0,\"uni\",tol,restol,maxiter,skip_error_calculation,max_time,printiters,exacterror,[]) \n",
    "OUTPUTS = [];"
   ]
  },
  {
   "cell_type": "code",
   "execution_count": 115,
   "metadata": {},
   "outputs": [
    {
     "name": "stdout",
     "output_type": "stream",
     "text": [
      "rademacher-217-2\n",
      "-------------------\n",
      "It   | Error% | Residual |  Time   \n",
      "-------------------\n",
      "  4  | 80.86  |  78.86  | 3.6481 \n",
      "  8.044802 seconds (377.96 k allocations: 1.017 GB, 7.07% gc time)\n",
      "rademacher-50-5\n",
      "-------------------\n",
      "It   | Error% | Residual |  Time   \n",
      "-------------------\n",
      " 10  | 75.67  |  58.89  | 3.8501 \n",
      "  8.151849 seconds (15.51 k allocations: 1.080 GB, 1.26% gc time)\n",
      "rademacher-5-10\n",
      "-------------------\n",
      "It   | Error% | Residual |  Time   \n",
      "-------------------\n",
      " 25  | 88.63  |  83.86  | 1.2977 \n",
      " 50  | 81.13  |  68.53  | 2.5685 \n",
      " 57  | 80.18  |  67.30  | 3.0520 \n",
      " 11.295594 seconds (12.43 k allocations: 1.114 GB, 0.87% gc time)\n",
      "rademacher-2-50\n",
      "-------------------\n",
      "It   | Error% | Residual |  Time   \n",
      "-------------------\n",
      " 25  | 89.50  |  84.04  | 2.0969 \n",
      " 35  | 87.94  |  79.75  | 3.0272 \n",
      "  9.340870 seconds (4.98 k allocations: 1.263 GB, 0.76% gc time)\n"
     ]
    }
   ],
   "source": [
    "options.AUX = [0 2]; # don't use sign flipping and use a density of 10 per row\n",
    "method_name = \"rademacher\";# ROS\n",
    "options.sketchsize = floor((prob.n)^(1/2)); #\n",
    "@time   output= solveRidge(prob, method_name, options);\n",
    "OUTPUTS = [OUTPUTS ; output];\n",
    "options.AUX = [0 5]; # don't use sign flipping and use a density of 10 per row\n",
    "method_name = \"rademacher\";# ROS\n",
    "options.sketchsize = 50; #floor((prob.n)^(1/2));\n",
    "@time   output= solveRidge(prob, method_name, options);\n",
    "OUTPUTS = [OUTPUTS ; output];\n",
    "options.AUX = [0 10]; # don't use sign flipping and use a density of 10 per row\n",
    "method_name = \"rademacher\";# ROS\n",
    "options.sketchsize = 5; #floor((prob.n)^(1/2));\n",
    "@time   output= solveRidge(prob, method_name, options);\n",
    "OUTPUTS = [OUTPUTS ; output];\n",
    "options.AUX = [0 50]; # don't use sign flipping and use a density of 10 per row\n",
    "method_name = \"rademacher\";# ROS\n",
    "options.sketchsize = 2; #floor((prob.n)^(1/2));\n",
    "@time   output= solveRidge(prob, method_name, options);\n",
    "OUTPUTS = [OUTPUTS ; output];"
   ]
  },
  {
   "cell_type": "code",
   "execution_count": 98,
   "metadata": {
    "collapsed": true
   },
   "outputs": [],
   "source": [
    "# Testing Hadamard Sketch\n",
    "# method_name = \"Hadamard\";# ROS\n",
    "# options.sketchsize =10; # Int(floor(log2(prob.n)));\n",
    "# options.skip_error_calculation =25;\n",
    "# @time  output= solveRidge(prob, method_name, options);\n",
    "# OUTPUTS = [OUTPUTS ; output];"
   ]
  },
  {
   "cell_type": "code",
   "execution_count": 99,
   "metadata": {
    "collapsed": true
   },
   "outputs": [],
   "source": [
    "# Testing countmin \n",
    "# options.sketchsize =10;#floor((prob.n)^(1/2));\n",
    "# options.skip_error_calculation =25;\n",
    "# method_name = \"countmin\";# gradient descent\n",
    "# @time output= solveRidge(prob, method_name, options);\n",
    "# OUTPUTS = [OUTPUTS ; output];"
   ]
  },
  {
   "cell_type": "code",
   "execution_count": 101,
   "metadata": {},
   "outputs": [
    {
     "name": "stdout",
     "output_type": "stream",
     "text": [
      "CG\n",
      "-------------------\n",
      "It   | Error% | Residual |  Time   \n",
      "-------------------\n",
      " 25  | 1.21  |  1.22  | 0.0042 \n",
      " 50  | 0.41  |  0.46  | 0.0084 \n",
      " 75  | 0.25  |  0.36  | 0.0123 \n",
      "100  | 0.18  |  0.17  | 0.0160 \n",
      "125  | 0.15  |  0.18  | 0.0199 \n",
      "150  | 0.12  |  0.13  | 0.0287 \n",
      "175  | 0.11  |  0.10  | 0.0321 \n",
      "200  | 0.10  |  0.09  | 0.0364 \n",
      "225  | 0.09  |  0.07  | 0.0397 \n",
      "250  | 0.08  |  0.07  | 0.0429 \n",
      "275  | 0.07  |  0.05  | 0.0460 \n",
      "300  | 0.07  |  0.10  | 0.0496 \n",
      "325  | 0.06  |  0.05  | 0.0531 \n",
      "350  | 0.06  |  0.06  | 0.0561 \n",
      "375  | 0.05  |  0.10  | 0.0730 \n",
      "400  | 0.05  |  0.08  | 0.0837 \n",
      "425  | 0.05  |  0.05  | 0.0866 \n",
      "450  | 0.04  |  0.03  | 0.0918 \n",
      "475  | 0.04  |  0.06  | 0.0947 \n",
      "500  | 0.04  |  0.05  | 0.1132 \n",
      "525  | 0.04  |  0.04  | 0.1155 \n",
      "550  | 0.03  |  0.06  | 0.1181 \n",
      "575  | 0.03  |  0.03  | 0.1301 \n",
      "600  | 0.03  |  0.03  | 0.1324 \n",
      "625  | 0.03  |  0.14  | 0.1360 \n",
      "650  | 0.03  |  0.05  | 0.1383 \n",
      "675  | 0.02  |  0.04  | 0.1405 \n",
      "700  | 0.02  |  0.04  | 0.1427 \n",
      "725  | 0.02  |  0.02  | 0.1452 \n",
      "750  | 0.02  |  0.02  | 0.1474 \n",
      "775  | 0.02  |  0.10  | 0.1496 \n",
      "800  | 0.02  |  0.03  | 0.1531 \n",
      "825  | 0.02  |  0.09  | 0.1553 \n",
      "850  | 0.06  |  0.07  | 0.1594 \n",
      "875  | 0.02  |  0.02  | 0.1897 \n",
      "900  | 0.01  |  0.02  | 0.1920 \n",
      "925  | 0.01  |  0.04  | 0.1942 \n",
      "950  | 0.01  |  0.02  | 0.1964 \n",
      "975  | 0.01  |  0.03  | 0.1986 \n",
      "1000  | 0.01  |  0.01  | 0.2050 \n",
      "1025  | 0.01  |  0.02  | 0.2092 \n",
      "1050  | 0.01  |  0.02  | 0.2114 \n",
      "1075  | 0.01  |  0.03  | 0.2136 \n",
      "1100  | 0.01  |  0.02  | 0.2158 \n",
      "1125  | 0.01  |  0.03  | 0.2181 \n",
      "1150  | 0.01  |  0.02  | 0.2202 \n",
      "1175  | 0.01  |  0.01  | 0.2225 \n",
      "1200  | 0.01  |  0.01  | 0.2258 \n",
      "1225  | 0.01  |  0.03  | 0.2281 \n",
      "1250  | 0.01  |  0.01  | 0.2303 \n",
      "1275  | 0.01  |  0.01  | 0.2325 \n",
      "1300  | 0.01  |  0.01  | 0.2347 \n",
      "1325  | 0.01  |  0.01  | 0.2369 \n",
      "1350  | 0.01  |  0.01  | 0.2396 \n",
      "1375  | 0.01  |  0.01  | 0.2418 \n",
      "1400  | 0.01  |  0.02  | 0.2441 \n",
      "1425  | 0.07  |  0.06  | 0.2570 \n",
      "1450  | 0.01  |  0.01  | 0.2867 \n",
      "1475  | 0.01  |  0.01  | 0.2922 \n",
      "1500  | 0.01  |  0.01  | 0.2944 \n",
      "1525  | 0.01  |  0.02  | 0.2966 \n",
      "1550  | 0.01  |  0.01  | 0.2988 \n",
      "1575  | 0.01  |  0.01  | 0.3011 \n",
      "1600  | 0.01  |  0.01  | 0.3033 \n",
      "1625  | 0.01  |  0.01  | 0.3093 \n",
      "1650  | 0.01  |  0.01  | 0.3117 \n",
      "1675  | 0.01  |  0.01  | 0.3141 \n",
      "1700  | 0.01  |  0.01  | 0.3163 \n",
      "1725  | 0.01  |  0.01  | 0.3185 \n",
      "1750  | 0.01  |  0.05  | 0.3207 \n",
      "1775  | 0.01  |  0.01  | 0.3229 \n",
      "1800  | 0.01  |  0.00  | 0.3251 \n",
      "1825  | 0.01  |  0.00  | 0.3286 \n",
      "1850  | 0.01  |  0.01  | 0.3309 \n",
      "1875  | 0.01  |  0.01  | 0.3331 \n",
      "1900  | 0.01  |  0.00  | 0.3353 \n",
      "1925  | 0.01  |  0.01  | 0.3376 \n",
      "1950  | 0.01  |  0.01  | 0.3705 \n",
      "1975  | 0.01  |  0.01  | 0.3737 \n",
      "2000  | 0.01  |  0.01  | 0.3759 \n",
      "  0.456604 seconds (74.31 k allocations: 101.707 MB, 4.68% gc time)\n"
     ]
    }
   ],
   "source": [
    "# Testing CG \n",
    "method_name = \"CG\";# gradient descent\n",
    "@time output= solveRidge(prob, method_name, options);\n",
    "OUTPUTS = [OUTPUTS ; output];"
   ]
  },
  {
   "cell_type": "code",
   "execution_count": 104,
   "metadata": {},
   "outputs": [
    {
     "name": "stdout",
     "output_type": "stream",
     "text": [
      "CD-10\n",
      "-------------------\n",
      "It   | Error% | Residual |  Time   \n",
      "-------------------\n",
      " 50  | 15.83  |  10.91  | 0.0060 \n",
      "100  | 8.60  |  4.83  | 0.0107 \n",
      "150  | 6.18  |  3.58  | 0.0152 \n",
      "200  | 5.06  |  2.86  | 0.0194 \n",
      "250  | 4.10  |  2.78  | 0.0235 \n",
      "300  | 3.06  |  2.42  | 0.0357 \n",
      "350  | 2.86  |  2.27  | 0.0394 \n",
      "400  | 2.33  |  1.64  | 0.0436 \n",
      "450  | 2.03  |  1.65  | 0.0476 \n",
      "500  | 1.79  |  1.36  | 0.0510 \n",
      "550  | 1.57  |  1.27  | 0.0542 \n",
      "600  | 1.36  |  1.23  | 0.0573 \n",
      "650  | 1.24  |  1.17  | 0.0642 \n",
      "700  | 1.11  |  1.07  | 0.0671 \n",
      "750  | 1.02  |  0.93  | 0.0699 \n",
      "800  | 0.93  |  0.90  | 0.0727 \n",
      "850  | 0.83  |  1.00  | 0.0754 \n",
      "900  | 0.77  |  0.86  | 0.0782 \n",
      "950  | 0.73  |  0.72  | 0.0809 \n",
      "1000  | 0.66  |  0.74  | 0.0874 \n",
      "1050  | 0.61  |  0.70  | 0.0900 \n",
      "1100  | 0.55  |  0.68  | 0.0926 \n",
      "1150  | 0.50  |  0.60  | 0.0952 \n",
      "1200  | 0.46  |  0.60  | 0.0978 \n",
      "1250  | 0.42  |  0.63  | 0.1004 \n",
      "1300  | 0.51  |  0.75  | 0.1062 \n",
      "1350  | 0.36  |  0.62  | 0.1089 \n",
      "1400  | 0.34  |  0.50  | 0.1120 \n",
      "1450  | 0.32  |  0.49  | 0.1147 \n",
      "1500  | 0.30  |  0.55  | 0.1173 \n",
      "1550  | 0.28  |  0.47  | 0.1199 \n",
      "1600  | 0.27  |  0.42  | 0.1225 \n",
      "1650  | 0.25  |  0.46  | 0.1285 \n",
      "1700  | 0.23  |  0.42  | 0.1310 \n",
      "1750  | 0.22  |  0.39  | 0.1336 \n",
      "1800  | 0.20  |  0.45  | 0.1362 \n",
      "1850  | 0.19  |  0.35  | 0.1387 \n",
      "1900  | 0.18  |  0.36  | 0.1414 \n",
      "1950  | 0.17  |  0.34  | 0.1440 \n",
      "2000  | 0.16  |  0.38  | 0.1499 \n",
      "2050  | 0.15  |  0.32  | 0.1525 \n",
      "2100  | 0.14  |  0.34  | 0.1550 \n",
      "2150  | 0.13  |  0.29  | 0.1575 \n",
      "2200  | 0.12  |  0.29  | 0.1601 \n",
      "2250  | 0.11  |  0.27  | 0.1627 \n",
      "2300  | 0.11  |  0.24  | 0.1653 \n",
      "2350  | 0.10  |  0.23  | 0.1712 \n",
      "2400  | 0.60  |  0.23  | 0.1738 \n",
      "2450  | 0.09  |  0.23  | 0.1764 \n",
      "2500  | 0.09  |  0.23  | 0.1800 \n",
      "2550  | 0.08  |  0.23  | 0.1827 \n",
      "2600  | 0.08  |  0.21  | 0.1853 \n",
      "2650  | 0.07  |  0.20  | 0.1913 \n",
      "2700  | 0.07  |  0.24  | 0.1941 \n",
      "2750  | 0.06  |  0.18  | 0.1966 \n",
      "2800  | 0.06  |  0.17  | 0.1992 \n",
      "2850  | 0.06  |  0.18  | 0.2018 \n",
      "2900  | 0.05  |  0.17  | 0.2044 \n",
      "2950  | 0.05  |  0.16  | 0.2070 \n",
      "3000  | 0.05  |  0.17  | 0.2129 \n",
      "3050  | 0.05  |  0.15  | 0.2155 \n",
      "3100  | 0.04  |  0.16  | 0.2181 \n",
      "3150  | 0.04  |  0.17  | 0.2207 \n",
      "3200  | 0.04  |  0.16  | 0.2232 \n",
      "3250  | 0.04  |  0.16  | 0.2258 \n",
      "3300  | 0.04  |  0.16  | 0.2283 \n",
      "3350  | 0.03  |  0.13  | 0.2342 \n",
      "3400  | 0.03  |  0.12  | 0.2369 \n",
      "3450  | 0.03  |  0.13  | 0.2399 \n",
      "3500  | 0.03  |  0.17  | 0.2425 \n",
      "3550  | 0.03  |  0.12  | 0.2451 \n",
      "3600  | 0.03  |  0.11  | 0.2476 \n",
      "3650  | 0.02  |  0.15  | 0.2502 \n",
      "3700  | 0.02  |  0.12  | 0.2562 \n",
      "3750  | 0.02  |  0.11  | 0.2587 \n",
      "3800  | 0.02  |  0.10  | 0.2612 \n",
      "3850  | 0.02  |  0.11  | 0.2638 \n",
      "3900  | 0.02  |  0.10  | 0.2664 \n",
      "3950  | 0.02  |  0.09  | 0.2690 \n",
      "4000  | 0.02  |  0.09  | 0.2716 \n",
      "4050  | 0.02  |  0.10  | 0.2775 \n",
      "4100  | 0.02  |  0.10  | 0.2800 \n",
      "4150  | 0.01  |  0.09  | 0.2826 \n",
      "4200  | 0.01  |  0.08  | 0.2852 \n",
      "4250  | 0.01  |  0.08  | 0.2878 \n",
      "4300  | 0.01  |  0.08  | 0.2903 \n",
      "4350  | 0.01  |  0.08  | 0.2961 \n",
      "4400  | 0.01  |  0.09  | 0.2987 \n",
      "4450  | 0.01  |  0.07  | 0.3013 \n",
      "4500  | 0.08  |  0.07  | 0.3039 \n",
      "4550  | 0.01  |  0.07  | 0.3065 \n",
      "4600  | 0.01  |  0.07  | 0.3094 \n",
      "4650  | 0.01  |  0.07  | 0.3124 \n",
      "4700  | 0.01  |  0.06  | 0.3194 \n",
      "4750  | 0.01  |  0.07  | 0.3221 \n",
      "4800  | 0.01  |  0.06  | 0.3246 \n",
      "4850  | 0.01  |  0.07  | 0.3278 \n",
      "4900  | 0.01  |  0.06  | 0.3304 \n",
      "4950  | 0.01  |  0.07  | 0.3330 \n",
      "5000  | 0.01  |  0.06  | 0.3356 \n",
      "  0.519653 seconds (234.15 k allocations: 323.310 MB, 8.91% gc time)\n",
      "CD-50\n",
      "-------------------\n",
      "It   | Error% | Residual |  Time   \n",
      "-------------------\n",
      " 50  | 2.74  |  2.07  | 0.0376 \n",
      "100  | 1.18  |  1.04  | 0.1121 \n",
      "150  | 0.19  |  0.73  | 0.1338 \n",
      "200  | 0.33  |  0.56  | 0.1847 \n",
      "250  | 0.18  |  0.34  | 0.2057 \n",
      "300  | 0.12  |  0.28  | 0.2318 \n",
      "350  | 0.07  |  0.21  | 0.2758 \n",
      "400  | 0.04  |  0.15  | 0.3065 \n",
      "450  | 0.02  |  0.12  | 0.3274 \n",
      "500  | 0.02  |  0.11  | 0.3701 \n",
      "550  | 0.01  |  0.08  | 0.3917 \n",
      "600  | 0.01  |  0.07  | 0.4085 \n",
      "650  | 0.03  |  0.05  | 0.4252 \n",
      "700  | 0.00  |  0.04  | 0.4777 \n",
      "750  | 0.00  |  0.04  | 0.5015 \n",
      "800  | 0.00  |  0.03  | 0.5218 \n",
      "850  | 0.00  |  0.03  | 0.5960 \n",
      "900  | 0.00  |  0.02  | 0.6148 \n",
      "  0.653844 seconds (42.12 k allocations: 313.510 MB, 5.31% gc time)\n"
     ]
    }
   ],
   "source": [
    "# Testing CD \n",
    "options.maxiter=5000;\n",
    "options.skip_error_calculation = 50;\n",
    "method_name = \"CD\";# gradient descent\n",
    "options.sketchsize = 10;#floor((prob.n)^(1/2));\n",
    "@time output= solveRidge(prob, method_name, options);\n",
    "OUTPUTS = [OUTPUTS ; output];\n",
    "method_name = \"CD\";# gradient descent\n",
    "options.sketchsize = 50;\n",
    "@time output= solveRidge(prob, method_name, options);\n",
    "OUTPUTS = [OUTPUTS ; output];"
   ]
  },
  {
   "cell_type": "code",
   "execution_count": 87,
   "metadata": {
    "collapsed": true
   },
   "outputs": [],
   "source": [
    "# OUTPUTS =[];\n",
    "# include(\"../src/call_all_methods.jl\")"
   ]
  },
  {
   "cell_type": "code",
   "execution_count": 105,
   "metadata": {
    "collapsed": true
   },
   "outputs": [],
   "source": [
    "savename = replace(prob.name, r\"[\\/]\", \"-\");\n",
    "save(\"../data/$(savename)-OUTPUTS.jld\", \"OUTPUTS\", OUTPUTS)"
   ]
  },
  {
   "cell_type": "code",
   "execution_count": 106,
   "metadata": {},
   "outputs": [
    {
     "name": "stdout",
     "output_type": "stream",
     "text": [
      "mnist.scale\n"
     ]
    }
   ],
   "source": [
    "#using GR\n",
    "using Plots\n",
    "pgfplots()\n",
    "plot_outputs_Plots(OUTPUTS,savename)"
   ]
  },
  {
   "cell_type": "code",
   "execution_count": 344,
   "metadata": {
    "collapsed": true
   },
   "outputs": [],
   "source": [
    "# Loading saved problem data\n",
    "probname = \"gisette_scale\"#\"gisette_scale\";  \n",
    "test = load(\"../data/$(probname)-OUTPUTS.jld\")\n",
    "OUTPUTS = test[\"OUTPUTS\"];"
   ]
  },
  {
   "cell_type": "code",
   "execution_count": 108,
   "metadata": {},
   "outputs": [
    {
     "name": "stdout",
     "output_type": "stream",
     "text": [
      "rademacher-27-2\n",
      "-------------------\n",
      "It   | Error% | Residual |  Time   \n",
      "-------------------\n",
      "100  | 2.01  |  1.63  | 0.1510 \n",
      "200  | 0.84  |  0.70  | 0.2824 \n",
      "300  | 0.36  |  0.43  | 0.4112 \n",
      "400  | 0.50  |  0.26  | 0.5403 \n",
      "500  | 0.64  |  0.19  | 0.6747 \n",
      "600  | 0.07  |  0.15  | 0.7942 \n",
      "700  | 0.05  |  0.12  | 0.9164 \n",
      "800  | 0.02  |  0.08  | 1.0451 \n",
      "900  | 0.01  |  0.06  | 1.1706 \n",
      "1000  | 0.02  |  0.04  | 1.2876 \n",
      "1100  | 0.03  |  0.04  | 1.4109 \n",
      "1200  | 0.05  |  0.03  | 1.5242 \n",
      "1300  | 0.06  |  0.02  | 1.6328 \n",
      "1400  | 0.07  |  0.02  | 1.7407 \n",
      "1500  | 0.08  |  0.01  | 1.8531 \n",
      "1600  | 0.09  |  0.01  | 1.9677 \n",
      "1700  | 0.07  |  0.01  | 2.0762 \n",
      "1800  | 0.01  |  0.01  | 2.1934 \n",
      "1900  | 0.02  |  0.01  | 2.2916 \n",
      "2000  | 0.00  |  0.01  | 2.4050 \n",
      "2100  | 0.00  |  0.00  | 2.5393 \n",
      "2200  | 0.00  |  0.00  | 2.7023 \n",
      "2300  | 0.00  |  0.00  | 2.9232 \n",
      "2361  | 0.00  |  0.00  | 3.0002 \n",
      "  3.077364 seconds (1.73 M allocations: 1.277 GB, 6.27% gc time)\n",
      "CG\n",
      "-------------------\n",
      "It   | Error% | Residual |  Time   \n",
      "-------------------\n",
      "100  | 0.18  |  0.17  | 0.0111 \n",
      "200  | 0.40  |  0.09  | 0.0194 \n",
      "300  | 0.07  |  0.10  | 0.0459 \n",
      "400  | 0.05  |  0.08  | 0.0548 \n",
      "500  | 0.04  |  0.05  | 0.0676 \n",
      "600  | 0.03  |  0.03  | 0.0756 \n",
      "700  | 0.02  |  0.04  | 0.0837 \n",
      "800  | 0.02  |  0.03  | 0.0917 \n",
      "900  | 0.01  |  0.02  | 0.1024 \n",
      "1000  | 0.01  |  0.01  | 0.1114 \n",
      "1100  | 0.01  |  0.02  | 0.1246 \n",
      "1200  | 0.01  |  0.01  | 0.1338 \n",
      "1300  | 0.01  |  0.01  | 0.1447 \n",
      "1400  | 0.01  |  0.02  | 0.1555 \n",
      "1500  | 0.01  |  0.01  | 0.1635 \n",
      "1600  | 0.01  |  0.01  | 0.1717 \n",
      "1700  | 0.01  |  0.01  | 0.1807 \n",
      "1800  | 0.01  |  0.00  | 0.1920 \n",
      "1900  | 0.02  |  0.00  | 0.1998 \n",
      "2000  | 0.01  |  0.01  | 0.2247 \n",
      "2100  | 0.01  |  0.01  | 0.2331 \n",
      "2200  | 0.00  |  0.01  | 0.2435 \n",
      "2300  | 0.00  |  0.01  | 0.2558 \n",
      "2400  | 0.00  |  0.01  | 0.2644 \n",
      "2500  | 0.00  |  0.01  | 0.2754 \n",
      "2600  | 0.00  |  0.01  | 0.2875 \n",
      "2700  | 0.00  |  0.01  | 0.3288 \n",
      "2800  | 0.00  |  0.01  | 0.3391 \n",
      "2900  | 0.00  |  0.01  | 0.3476 \n",
      "3000  | 0.00  |  0.01  | 0.3561 \n",
      "3100  | 0.00  |  0.01  | 0.3647 \n",
      "3200  | 0.00  |  0.00  | 0.3775 \n",
      "3300  | 0.00  |  0.00  | 0.3860 \n",
      "3400  | 0.00  |  0.00  | 0.4013 \n",
      "3500  | 0.00  |  0.00  | 0.4115 \n",
      "3600  | 0.00  |  0.00  | 0.4303 \n",
      "3700  | 0.00  |  0.00  | 0.4384 \n",
      "3800  | 0.00  |  0.01  | 0.4468 \n",
      "3900  | 0.00  |  0.00  | 0.4573 \n",
      "4000  | 0.00  |  0.00  | 0.4677 \n",
      "4100  | 0.00  |  0.01  | 0.4754 \n",
      "4200  | 0.00  |  0.02  | 0.4893 \n",
      "4300  | 0.00  |  0.00  | 0.4990 \n",
      "4400  | 0.00  |  0.00  | 0.5082 \n",
      "4500  | 0.00  |  0.00  | 0.5222 \n",
      "4600  | 0.00  |  0.00  | 0.5305 \n",
      "4700  | 0.00  |  0.01  | 0.5399 \n",
      "4800  | 0.00  |  0.01  | 0.5482 \n",
      "4900  | 0.00  |  0.00  | 0.5602 \n",
      "5000  | 0.00  |  0.00  | 0.5876 \n",
      "  0.675541 seconds (126.64 k allocations: 247.576 MB, 5.31% gc time)\n",
      "CD-10\n",
      "-------------------\n",
      "It   | Error% | Residual |  Time   \n",
      "-------------------\n",
      "100  | 10.11  |  7.08  | 0.0053 \n",
      "200  | 4.82  |  3.24  | 0.0098 \n",
      "300  | 3.11  |  2.08  | 0.0173 \n",
      "400  | 2.39  |  1.64  | 0.0218 \n",
      "500  | 1.80  |  1.35  | 0.0263 \n",
      "600  | 1.47  |  1.24  | 0.0335 \n",
      "700  | 1.17  |  1.10  | 0.0380 \n",
      "800  | 0.97  |  0.91  | 0.0424 \n",
      "900  | 0.81  |  0.90  | 0.0471 \n",
      "1000  | 0.66  |  0.76  | 0.0544 \n",
      "1100  | 0.57  |  0.67  | 0.0594 \n",
      "1200  | 0.48  |  0.53  | 0.0646 \n",
      "1300  | 0.42  |  0.51  | 0.0730 \n",
      "1400  | 0.36  |  0.63  | 0.0789 \n",
      "1500  | 0.32  |  0.43  | 0.0836 \n",
      "1600  | 0.27  |  0.47  | 0.0888 \n",
      "1700  | 0.23  |  0.40  | 0.0976 \n",
      "1800  | 0.21  |  0.35  | 0.1023 \n",
      "1900  | 0.18  |  0.36  | 0.1074 \n",
      "2000  | 0.16  |  0.29  | 0.1163 \n",
      "2100  | 0.14  |  0.29  | 0.1233 \n",
      "2200  | 0.12  |  0.29  | 0.1310 \n",
      "2300  | 0.11  |  0.28  | 0.1386 \n",
      "2400  | 0.10  |  0.24  | 0.1437 \n",
      "2500  | 0.09  |  0.25  | 0.1496 \n",
      "2600  | 0.07  |  0.23  | 0.1545 \n",
      "2700  | 0.07  |  0.18  | 0.1626 \n",
      "2800  | 0.06  |  0.19  | 0.1675 \n",
      "2900  | 0.05  |  0.16  | 0.1721 \n",
      "3000  | 0.09  |  0.15  | 0.1804 \n",
      "3100  | 0.04  |  0.14  | 0.1864 \n",
      "3200  | 0.04  |  0.13  | 0.1913 \n",
      "3300  | 0.04  |  0.13  | 0.1962 \n",
      "3400  | 0.03  |  0.13  | 0.2042 \n",
      "3500  | 0.03  |  0.12  | 0.2087 \n",
      "3600  | 0.03  |  0.12  | 0.2132 \n",
      "3700  | 0.02  |  0.11  | 0.2204 \n",
      "3800  | 0.02  |  0.10  | 0.2250 \n",
      "3900  | 0.02  |  0.10  | 0.2294 \n",
      "4000  | 0.02  |  0.09  | 0.2365 \n",
      "4100  | 0.02  |  0.09  | 0.2410 \n",
      "4200  | 0.01  |  0.08  | 0.2455 \n",
      "4300  | 0.01  |  0.08  | 0.2499 \n",
      "4400  | 0.09  |  0.07  | 0.2573 \n",
      "4500  | 0.01  |  0.07  | 0.2621 \n",
      "4600  | 0.01  |  0.08  | 0.2667 \n",
      "4700  | 0.01  |  0.07  | 0.2741 \n",
      "4800  | 0.01  |  0.06  | 0.2785 \n",
      "4900  | 0.01  |  0.06  | 0.2829 \n",
      "5000  | 0.01  |  0.06  | 0.2874 \n",
      "  0.445724 seconds (215.13 k allocations: 321.085 MB, 8.42% gc time)\n",
      "mnist.scale\n"
     ]
    }
   ],
   "source": [
    "# a9a\n",
    "OUTPUTS = []\n",
    "options.tol = 10.0^(-9.0);\n",
    "options.restol = 10.0^(-9.0);\n",
    "options.AUX = [0 2] # don't use sign flipping and use a density of 10 per row\n",
    "method_name = \"rademacher\";# ROS\n",
    "options.sketchsize = floor((prob.n)^(1/2)); #\n",
    "@time   output= solveRidge(prob, method_name, options);\n",
    "OUTPUTS = [OUTPUTS ; output];\n",
    "method_name = \"CG\";# gradient descent\n",
    "@time output= solveRidge(prob, method_name, options);\n",
    "OUTPUTS = [OUTPUTS ; output];\n",
    "options.maxiter=5000;\n",
    "options.skip_error_calculation = 100;\n",
    "method_name = \"CD\";# gradient descent\n",
    "options.sketchsize = 10;#floor((prob.n)^(1/2));\n",
    "@time output= solveRidge(prob, method_name, options);\n",
    "OUTPUTS = [OUTPUTS ; output];\n",
    "plot_outputs_Plots(OUTPUTS,savename)"
   ]
  },
  {
   "cell_type": "code",
   "execution_count": null,
   "metadata": {
    "collapsed": true
   },
   "outputs": [],
   "source": []
  }
 ],
 "metadata": {
  "anaconda-cloud": {},
  "kernelspec": {
   "display_name": "Julia 0.5.2",
   "language": "julia",
   "name": "julia-0.5"
  },
  "language_info": {
   "file_extension": ".jl",
   "mimetype": "application/julia",
   "name": "julia",
   "version": "0.5.2"
  }
 },
 "nbformat": 4,
 "nbformat_minor": 1
}
