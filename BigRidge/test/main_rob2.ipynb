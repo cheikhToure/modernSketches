{
 "cells": [
  {
   "cell_type": "markdown",
   "metadata": {},
   "source": [
    "The main solving big ridge regression problems"
   ]
  },
  {
   "cell_type": "code",
   "execution_count": 1,
   "metadata": {
    "collapsed": true
   },
   "outputs": [],
   "source": [
    "workspace()"
   ]
  },
  {
   "cell_type": "code",
   "execution_count": 2,
   "metadata": {
    "collapsed": false
   },
   "outputs": [
    {
     "name": "stderr",
     "output_type": "stream",
     "text": [
      "WARNING: Method definition start(Main.Base.Cmd) in module Compat at /home/robert/.julia/v0.5/Compat/src/Compat.jl:608 overwritten in module Compat at /home/robert/.julia/v0.5/Compat/src/Compat.jl:608.\n",
      "WARNING: Method definition expand(Module, ANY<:Any) in module Compat at /home/robert/.julia/v0.5/Compat/src/Compat.jl:575 overwritten in module Compat at /home/robert/.julia/v0.5/Compat/src/Compat.jl:575.\n",
      "WARNING: Method definition isassigned(Main.Base.RefValue) in module Compat at /home/robert/.julia/v0.5/Compat/src/Compat.jl:550 overwritten in module Compat at /home/robert/.julia/v0.5/Compat/src/Compat.jl:550.\n",
      "WARNING: Method definition unsafe_trunc(Type{#T<:Integer}, Integer) in module Compat at /home/robert/.julia/v0.5/Compat/src/Compat.jl:554 overwritten in module Compat at /home/robert/.julia/v0.5/Compat/src/Compat.jl:554.\n",
      "WARNING: Method definition isnull(Any) in module Compat at /home/robert/.julia/v0.5/Compat/src/Compat.jl:410 overwritten in module Compat at /home/robert/.julia/v0.5/Compat/src/Compat.jl:410.\n",
      "WARNING: Method definition eachindex(Main.Base.Cmd) in module Compat at /home/robert/.julia/v0.5/Compat/src/Compat.jl:608 overwritten in module Compat at /home/robert/.julia/v0.5/Compat/src/Compat.jl:608.\n",
      "WARNING: Method definition redirect_stdout(Function, Any) in module Compat at /home/robert/.julia/v0.5/Compat/src/Compat.jl:340 overwritten in module Compat at /home/robert/.julia/v0.5/Compat/src/Compat.jl:340.\n",
      "WARNING: Method definition getindex(Main.Base.Cmd, Any) in module Compat at /home/robert/.julia/v0.5/Compat/src/Compat.jl:611 overwritten in module Compat at /home/robert/.julia/v0.5/Compat/src/Compat.jl:611.\n",
      "WARNING: Method definition redirect_stderr(Function, Any) in module Compat at /home/robert/.julia/v0.5/Compat/src/Compat.jl:340 overwritten in module Compat at /home/robert/.julia/v0.5/Compat/src/Compat.jl:340.\n",
      "WARNING: Method definition bswap(Main.Base.Complex) in module Compat at /home/robert/.julia/v0.5/Compat/src/Compat.jl:559 overwritten in module Compat at /home/robert/.julia/v0.5/Compat/src/Compat.jl:559.\n",
      "WARNING: Method definition redirect_stdin(Function, Any) in module Compat at /home/robert/.julia/v0.5/Compat/src/Compat.jl:340 overwritten in module Compat at /home/robert/.julia/v0.5/Compat/src/Compat.jl:340.\n",
      "WARNING: Method definition eltype(Main.Base.Cmd) in module Compat at /home/robert/.julia/v0.5/Compat/src/Compat.jl:608 overwritten in module Compat at /home/robert/.julia/v0.5/Compat/src/Compat.jl:608.\n",
      "WARNING: Method definition first(Main.Base.Cmd) in module Compat at /home/robert/.julia/v0.5/Compat/src/Compat.jl:608 overwritten in module Compat at /home/robert/.julia/v0.5/Compat/src/Compat.jl:608.\n",
      "WARNING: Method definition macroexpand(Module, ANY<:Any) in module Compat at /home/robert/.julia/v0.5/Compat/src/Compat.jl:576 overwritten in module Compat at /home/robert/.julia/v0.5/Compat/src/Compat.jl:576.\n",
      "WARNING: Method definition ones(AbstractArray) in module Compat at /home/robert/.julia/v0.5/Compat/src/Compat.jl:525 overwritten in module Compat at /home/robert/.julia/v0.5/Compat/src/Compat.jl:525.\n",
      "WARNING: Method definition ones(AbstractArray, Type) in module Compat at /home/robert/.julia/v0.5/Compat/src/Compat.jl:525 overwritten in module Compat at /home/robert/.julia/v0.5/Compat/src/Compat.jl:525.\n",
      "WARNING: Method definition ones(AbstractArray, Type, Tuple) in module Compat at /home/robert/.julia/v0.5/Compat/src/Compat.jl:523 overwritten in module Compat at /home/robert/.julia/v0.5/Compat/src/Compat.jl:523.\n",
      "WARNING: Method definition ones(AbstractArray, Type, Any...) in module Compat at /home/robert/.julia/v0.5/Compat/src/Compat.jl:524 overwritten in module Compat at /home/robert/.julia/v0.5/Compat/src/Compat.jl:524.\n",
      "WARNING: Method definition convert(Type{Main.Base.Set{#T<:Any}}, Main.Base.Set{#T<:Any}) in module Compat at /home/robert/.julia/v0.5/Compat/src/Compat.jl:544 overwritten in module Compat at /home/robert/.julia/v0.5/Compat/src/Compat.jl:544.\n",
      "WARNING: Method definition convert(Type{Main.Base.Set{#T<:Any}}, Main.Base.Set) in module Compat at /home/robert/.julia/v0.5/Compat/src/Compat.jl:545 overwritten in module Compat at /home/robert/.julia/v0.5/Compat/src/Compat.jl:545.\n",
      "WARNING: Method definition broadcast(Any, Tuple{Vararg{T<:Any, #N<:Any}}, Tuple{Vararg{T<:Any, #N<:Any}}...) in module Compat at /home/robert/.julia/v0.5/Compat/src/Compat.jl:395 overwritten in module Compat at /home/robert/.julia/v0.5/Compat/src/Compat.jl:395.\n",
      "WARNING: Method definition zeros(AbstractArray) in module Compat at /home/robert/.julia/v0.5/Compat/src/Compat.jl:525 overwritten in module Compat at /home/robert/.julia/v0.5/Compat/src/Compat.jl:525.\n",
      "WARNING: Method definition zeros(AbstractArray, Type) in module Compat at /home/robert/.julia/v0.5/Compat/src/Compat.jl:525 overwritten in module Compat at /home/robert/.julia/v0.5/Compat/src/Compat.jl:525.\n",
      "WARNING: Method definition zeros(AbstractArray, Type, Tuple) in module Compat at /home/robert/.julia/v0.5/Compat/src/Compat.jl:523 overwritten in module Compat at /home/robert/.julia/v0.5/Compat/src/Compat.jl:523.\n",
      "WARNING: Method definition zeros(AbstractArray, Type, Any...) in module Compat at /home/robert/.julia/v0.5/Compat/src/Compat.jl:524 overwritten in module Compat at /home/robert/.julia/v0.5/Compat/src/Compat.jl:524.\n",
      "WARNING: Method definition next(Main.Base.Cmd, Any) in module Compat at /home/robert/.julia/v0.5/Compat/src/Compat.jl:611 overwritten in module Compat at /home/robert/.julia/v0.5/Compat/src/Compat.jl:611.\n",
      "WARNING: Method definition isless(Union{Main.Base.Dates.Second, Main.Base.Dates.Week, Main.Base.Dates.Day, Main.Base.Dates.Minute, Main.Base.Dates.Hour, Main.Base.Dates.Millisecond}, Union{Main.Base.Dates.Month, Main.Base.Dates.Year}) in module Compat at /home/robert/.julia/v0.5/Compat/src/Compat.jl:625 overwritten in module Compat at /home/robert/.julia/v0.5/Compat/src/Compat.jl:625.\n",
      "WARNING: Method definition isless(Union{Main.Base.Dates.Month, Main.Base.Dates.Year}, Union{Main.Base.Dates.Second, Main.Base.Dates.Week, Main.Base.Dates.Day, Main.Base.Dates.Minute, Main.Base.Dates.Hour, Main.Base.Dates.Millisecond}) in module Compat at /home/robert/.julia/v0.5/Compat/src/Compat.jl:626 overwritten in module Compat at /home/robert/.julia/v0.5/Compat/src/Compat.jl:626.\n",
      "WARNING: Method definition isless(Main.Base.Dates.Period, Main.Base.Dates.Period) in module Compat at /home/robert/.julia/v0.5/Compat/src/Compat.jl:620 overwritten in module Compat at /home/robert/.julia/v0.5/Compat/src/Compat.jl:620.\n",
      "WARNING: Method definition endof(Main.Base.Cmd) in module Compat at /home/robert/.julia/v0.5/Compat/src/Compat.jl:608 overwritten in module Compat at /home/robert/.julia/v0.5/Compat/src/Compat.jl:608.\n",
      "WARNING: Method definition !(Function) in module Compat at /home/robert/.julia/v0.5/Compat/src/Compat.jl:452 overwritten in module Compat at /home/robert/.julia/v0.5/Compat/src/Compat.jl:452.\n",
      "WARNING: Method definition length(Main.Base.Cmd) in module Compat at /home/robert/.julia/v0.5/Compat/src/Compat.jl:608 overwritten in module Compat at /home/robert/.julia/v0.5/Compat/src/Compat.jl:608.\n",
      "WARNING: Method definition last(Main.Base.Cmd) in module Compat at /home/robert/.julia/v0.5/Compat/src/Compat.jl:608 overwritten in module Compat at /home/robert/.julia/v0.5/Compat/src/Compat.jl:608.\n",
      "WARNING: Method definition include_string(Module, String, String) in module Compat at /home/robert/.julia/v0.5/Compat/src/Compat.jl:577 overwritten in module Compat at /home/robert/.julia/v0.5/Compat/src/Compat.jl:577.\n",
      "WARNING: Method definition include_string(Module, AbstractString) in module Compat at /home/robert/.julia/v0.5/Compat/src/Compat.jl:579 overwritten in module Compat at /home/robert/.julia/v0.5/Compat/src/Compat.jl:579.\n",
      "WARNING: Method definition include_string(Module, AbstractString, AbstractString) in module Compat at /home/robert/.julia/v0.5/Compat/src/Compat.jl:579 overwritten in module Compat at /home/robert/.julia/v0.5/Compat/src/Compat.jl:579.\n",
      "WARNING: Method definition logdet(Any) in module Compat at /home/robert/.julia/v0.5/Compat/src/Compat.jl:638 overwritten in module Compat at /home/robert/.julia/v0.5/Compat/src/Compat.jl:638.\n",
      "WARNING: Method definition chol!(Main.Base.LinAlg.UniformScaling, Any) in module Compat at /home/robert/.julia/v0.5/Compat/src/Compat.jl:644 overwritten in module Compat at /home/robert/.julia/v0.5/Compat/src/Compat.jl:644.\n",
      "WARNING: Method definition chol(Main.Base.LinAlg.UniformScaling, Any...) in module Compat at /home/robert/.julia/v0.5/Compat/src/Compat.jl:645 overwritten in module Compat at /home/robert/.julia/v0.5/Compat/src/Compat.jl:645.\n",
      "WARNING: Method definition done(Main.Base.Cmd, Any) in module Compat at /home/robert/.julia/v0.5/Compat/src/Compat.jl:611 overwritten in module Compat at /home/robert/.julia/v0.5/Compat/src/Compat.jl:611.\n",
      "WARNING: Method definition take!(Task) in module Compat at /home/robert/.julia/v0.5/Compat/src/Compat.jl:11 overwritten in module Compat at /home/robert/.julia/v0.5/Compat/src/Compat.jl:11.\n",
      "WARNING: Method definition take!(Main.Base.AbstractIOBuffer) in module Compat at /home/robert/.julia/v0.5/Compat/src/Compat.jl:445 overwritten in module Compat at /home/robert/.julia/v0.5/Compat/src/Compat.jl:445.\n",
      "WARNING: Method definition ==(Union{Main.Base.Dates.Second, Main.Base.Dates.Week, Main.Base.Dates.Day, Main.Base.Dates.Minute, Main.Base.Dates.Hour, Main.Base.Dates.Millisecond}, Union{Main.Base.Dates.Month, Main.Base.Dates.Year}) in module Compat at /home/robert/.julia/v0.5/Compat/src/Compat.jl:623 overwritten in module Compat at /home/robert/.julia/v0.5/Compat/src/Compat.jl:623.\n",
      "WARNING: Method definition ==(Union{Main.Base.Dates.Month, Main.Base.Dates.Year}, Union{Main.Base.Dates.Second, Main.Base.Dates.Week, Main.Base.Dates.Day, Main.Base.Dates.Minute, Main.Base.Dates.Hour, Main.Base.Dates.Millisecond}) in module Compat at /home/robert/.julia/v0.5/Compat/src/Compat.jl:624 overwritten in module Compat at /home/robert/.julia/v0.5/Compat/src/Compat.jl:624.\n",
      "WARNING: Method definition ==(Main.Base.Dates.Period, Main.Base.Dates.Period) in module Compat at /home/robert/.julia/v0.5/Compat/src/Compat.jl:619 overwritten in module Compat at /home/robert/.julia/v0.5/Compat/src/Compat.jl:619.\n",
      "WARNING: Method definition (::Type{Main.Base.LinearIndexing})(Type{#T<:Any}) in module Compat at /home/robert/.julia/v0.5/Compat/src/Compat.jl:515 overwritten in module Compat at /home/robert/.julia/v0.5/Compat/src/Compat.jl:515.\n",
      "WARNING: Method definition (::Type{Main.Base.LinearIndexing})(Any...) in module Compat at /home/robert/.julia/v0.5/Compat/src/Compat.jl:516 overwritten in module Compat at /home/robert/.julia/v0.5/Compat/src/Compat.jl:516.\n",
      "WARNING: Method definition (::Type{Main.Base.Val})(Any) in module Compat at /home/robert/.julia/v0.5/Compat/src/Compat.jl:632 overwritten in module Compat at /home/robert/.julia/v0.5/Compat/src/Compat.jl:632.\n"
     ]
    }
   ],
   "source": [
    "using Plots"
   ]
  },
  {
   "cell_type": "code",
   "execution_count": 3,
   "metadata": {
    "collapsed": false
   },
   "outputs": [
    {
     "data": {
      "text/plain": [
       "plot_outputs_Plots (generic function with 1 method)"
      ]
     },
     "execution_count": 3,
     "metadata": {},
     "output_type": "execute_result"
    }
   ],
   "source": [
    "using StatsBase\n",
    "using JLD  \n",
    "include(\"../src/BigRidge.jl\")"
   ]
  },
  {
   "cell_type": "code",
   "execution_count": 4,
   "metadata": {
    "collapsed": true
   },
   "outputs": [],
   "source": [
    "## Basic parameters\n",
    "maxiter=2000;\n",
    "max_time = 200;\n",
    "max_epocs = 100;\n",
    "printiters = true;\n",
    "exacterror =true; \n",
    "tol = 10.0^(-5.0);\n",
    "restol = 10.0^(-5.0);\n",
    "skip_error_calculation = 25;   # number of iterations where error is not calculated (to save time!) ceil((m)^(1/2))"
   ]
  },
  {
   "cell_type": "code",
   "execution_count": 23,
   "metadata": {
    "collapsed": false
   },
   "outputs": [
    {
     "name": "stdout",
     "output_type": "stream",
     "text": [
      "../data/a9a.jld\n",
      "ErrorException(\"File ../data/a9a-xsol.jld cannot be found\")\n"
     ]
    },
    {
     "data": {
      "text/plain": [
       "Dict{Symbol,Any} with 3 entries:\n",
       "  :sparsity => 0.112757\n",
       "  :dims     => 123\n",
       "  :n        => 32561"
      ]
     },
     "execution_count": 23,
     "metadata": {},
     "output_type": "execute_result"
    }
   ],
   "source": [
    "dataset = \"a9a\"   # news20.binary  rcv1_train.multiclass rcv1_train.binary mnist.scale  a9a  gisette_scale \n",
    "prob = defineProb(dataset);\n",
    "showDetails(dataset)"
   ]
  },
  {
   "cell_type": "code",
   "execution_count": 24,
   "metadata": {
    "collapsed": false
   },
   "outputs": [
    {
     "data": {
      "text/plain": [
       "1.967333493545081e-11"
      ]
     },
     "execution_count": 24,
     "metadata": {},
     "output_type": "execute_result"
    }
   ],
   "source": [
    "norm(prob.A*prob.xsol - prob.b)"
   ]
  },
  {
   "cell_type": "code",
   "execution_count": 33,
   "metadata": {
    "collapsed": true
   },
   "outputs": [],
   "source": [
    "options = MyOptions(0,\"uni\",tol,restol,maxiter,skip_error_calculation,max_time,printiters,exacterror,[]) \n",
    "OUTPUTS = [];"
   ]
  },
  {
   "cell_type": "code",
   "execution_count": 34,
   "metadata": {
    "collapsed": false
   },
   "outputs": [
    {
     "name": "stdout",
     "output_type": "stream",
     "text": [
      "rademacher-11-2\n",
      "-------------------\n",
      "It   | Error% | Residual |  Time   \n",
      "-------------------\n",
      " 25  | 1.05  |  1.22  | 0.0041 \n",
      " 50  | 0.28  |  0.39  | 0.0081 \n",
      " 75  | 0.12  |  0.18  | 0.0121 \n",
      "100  | 0.08  |  0.14  | 0.0208 \n",
      "125  | 0.04  |  0.08  | 0.0252 \n",
      "150  | 0.03  |  0.08  | 0.0300 \n",
      "175  | 0.02  |  0.06  | 0.0358 \n",
      "200  | 0.02  |  0.05  | 0.0419 \n",
      "225  | 0.01  |  0.04  | 0.0466 \n",
      "250  | 0.01  |  0.03  | 0.0512 \n",
      "275  | 0.01  |  0.04  | 0.0558 \n",
      "300  | 0.00  |  0.03  | 0.0598 \n",
      "325  | 0.00  |  0.03  | 0.0638 \n",
      "350  | 0.00  |  0.02  | 0.0676 \n",
      "375  | 0.00  |  0.02  | 0.0716 \n",
      "400  | 0.00  |  0.01  | 0.0781 \n",
      "425  | 0.00  |  0.02  | 0.0822 \n",
      "450  | 0.00  |  0.01  | 0.0862 \n",
      "  0.105009 seconds (146.70 k allocations: 24.021 MB, 4.10% gc time)\n",
      "change rho density to n/s: 2\n",
      "rademacher-50-5\n",
      "-------------------\n",
      "It   | Error% | Residual |  Time   \n",
      "-------------------\n",
      " 25  | 0.00  |  0.01  | 0.0243 \n",
      " 50  | 0.00  |  0.00  | 0.0458 \n",
      "  0.049736 seconds (67.52 k allocations: 14.899 MB, 9.41% gc time)\n",
      "rademacher-5-10\n",
      "-------------------\n",
      "It   | Error% | Residual |  Time   \n",
      "-------------------\n",
      " 25  | 8.12  |  3.65  | 0.0025 \n",
      " 50  | 3.37  |  2.30  | 0.0060 \n",
      " 75  | 2.04  |  1.24  | 0.0086 \n",
      "100  | 1.54  |  1.03  | 0.0112 \n",
      "125  | 1.08  |  0.74  | 0.0137 \n",
      "150  | 0.91  |  0.47  | 0.0204 \n",
      "175  | 0.79  |  0.48  | 0.0230 \n",
      "200  | 0.70  |  0.37  | 0.0255 \n",
      "225  | 0.63  |  0.43  | 0.0280 \n",
      "250  | 0.56  |  0.32  | 0.0304 \n",
      "275  | 0.52  |  0.28  | 0.0329 \n",
      "300  | 0.47  |  0.27  | 0.0354 \n",
      "325  | 0.43  |  0.23  | 0.0379 \n",
      "350  | 0.41  |  0.23  | 0.0404 \n",
      "375  | 0.38  |  0.26  | 0.0429 \n",
      "400  | 0.35  |  0.21  | 0.0516 \n",
      "425  | 0.33  |  0.18  | 0.0540 \n",
      "450  | 0.32  |  0.17  | 0.0566 \n",
      "475  | 0.30  |  0.18  | 0.0656 \n",
      "500  | 0.29  |  0.19  | 0.0683 \n",
      "525  | 0.27  |  0.16  | 0.0788 \n",
      "550  | 0.26  |  0.17  | 0.0815 \n",
      "575  | 0.24  |  0.16  | 0.0840 \n",
      "600  | 0.23  |  0.17  | 0.0865 \n",
      "625  | 0.22  |  0.15  | 0.0914 \n",
      "650  | 0.20  |  0.14  | 0.1079 \n",
      "675  | 0.20  |  0.15  | 0.1134 \n",
      "700  | 0.19  |  0.12  | 0.1188 \n",
      "725  | 0.18  |  0.12  | 0.1241 \n",
      "750  | 0.17  |  0.13  | 0.1294 \n",
      "775  | 0.16  |  0.10  | 0.1347 \n",
      "800  | 0.16  |  0.11  | 0.1464 \n",
      "825  | 0.13  |  0.10  | 0.1554 \n",
      "850  | 0.15  |  0.10  | 0.1615 \n",
      "875  | 0.14  |  0.09  | 0.1668 \n",
      "900  | 0.14  |  0.09  | 0.1721 \n",
      "925  | 0.13  |  0.10  | 0.1775 \n",
      "950  | 0.13  |  0.10  | 0.1834 \n",
      "975  | 0.12  |  0.09  | 0.1893 \n",
      "1000  | 0.12  |  0.08  | 0.1947 \n",
      "1025  | 0.12  |  0.09  | 0.2022 \n",
      "1050  | 0.11  |  0.08  | 0.2079 \n",
      "1075  | 0.11  |  0.07  | 0.2144 \n",
      "1100  | 0.10  |  0.08  | 0.2196 \n",
      "1125  | 0.10  |  0.08  | 0.2248 \n",
      "1150  | 0.10  |  0.07  | 0.2380 \n",
      "1175  | 0.10  |  0.07  | 0.2460 \n",
      "1200  | 0.09  |  0.06  | 0.2514 \n",
      "1225  | 0.09  |  0.07  | 0.2581 \n",
      "1250  | 0.09  |  0.07  | 0.2634 \n",
      "1275  | 0.09  |  0.07  | 0.2688 \n",
      "1300  | 0.08  |  0.06  | 0.2762 \n",
      "1325  | 0.08  |  0.06  | 0.2816 \n",
      "1350  | 0.08  |  0.07  | 0.2870 \n",
      "1375  | 0.08  |  0.06  | 0.2911 \n",
      "1400  | 0.07  |  0.07  | 0.2935 \n",
      "1425  | 0.07  |  0.06  | 0.2994 \n",
      "1450  | 0.07  |  0.05  | 0.3022 \n",
      "1475  | 0.07  |  0.06  | 0.3079 \n",
      "1500  | 0.07  |  0.08  | 0.3106 \n",
      "1525  | 0.06  |  0.05  | 0.3132 \n",
      "1550  | 0.06  |  0.05  | 0.3157 \n",
      "1575  | 0.06  |  0.06  | 0.3190 \n",
      "1600  | 0.06  |  0.05  | 0.3214 \n",
      "1625  | 0.06  |  0.06  | 0.3240 \n",
      "1650  | 0.06  |  0.05  | 0.3306 \n",
      "1675  | 0.06  |  0.06  | 0.3331 \n",
      "1700  | 0.05  |  0.06  | 0.3366 \n",
      "1725  | 0.05  |  0.06  | 0.3390 \n",
      "1750  | 0.05  |  0.05  | 0.3431 \n",
      "1775  | 0.05  |  0.05  | 0.3456 \n",
      "1800  | 0.05  |  0.05  | 0.3512 \n",
      "1825  | 0.05  |  0.05  | 0.3561 \n",
      "1850  | 0.05  |  0.04  | 0.3585 \n",
      "1875  | 0.05  |  0.05  | 0.3608 \n",
      "1900  | 0.04  |  0.05  | 0.3632 \n",
      "1925  | 0.04  |  0.04  | 0.3656 \n",
      "1950  | 0.04  |  0.04  | 0.3680 \n",
      "1975  | 0.04  |  0.04  | 0.3703 \n",
      "2000  | 0.04  |  0.04  | 0.3726 \n",
      "  0.451356 seconds (338.29 k allocations: 132.810 MB, 4.21% gc time)\n",
      "rademacher-2-50\n",
      "-------------------\n",
      "It   | Error% | Residual |  Time   \n",
      "-------------------\n",
      " 25  | 22.04  |  10.01  | 0.0021 \n",
      " 50  | 16.87  |  8.11  | 0.0043 \n",
      " 75  | 11.69  |  5.95  | 0.0094 \n",
      "100  | 9.31  |  4.81  | 0.0116 \n",
      "125  | 7.31  |  4.26  | 0.0137 \n",
      "150  | 5.66  |  3.38  | 0.0158 \n",
      "175  | 4.75  |  2.95  | 0.0183 \n",
      "200  | 3.63  |  2.23  | 0.0218 \n",
      "225  | 3.01  |  2.05  | 0.0243 \n",
      "250  | 2.64  |  1.87  | 0.0270 \n",
      "275  | 2.35  |  1.72  | 0.0319 \n",
      "300  | 2.03  |  1.52  | 0.0343 \n",
      "325  | 1.82  |  1.34  | 0.0378 \n",
      "350  | 1.63  |  1.10  | 0.0406 \n",
      "375  | 1.48  |  1.00  | 0.0427 \n",
      "400  | 1.41  |  0.99  | 0.0448 \n",
      "425  | 1.35  |  0.84  | 0.0469 \n",
      "450  | 1.24  |  0.82  | 0.0491 \n",
      "475  | 1.15  |  0.91  | 0.0537 \n",
      "500  | 1.09  |  0.81  | 0.0558 \n",
      "525  | 1.01  |  0.75  | 0.0579 \n",
      "550  | 0.96  |  0.71  | 0.0601 \n",
      "575  | 0.89  |  0.59  | 0.0622 \n",
      "600  | 0.85  |  0.57  | 0.0644 \n",
      "625  | 0.82  |  0.61  | 0.0665 \n",
      "650  | 0.77  |  0.58  | 0.0686 \n",
      "675  | 0.73  |  0.57  | 0.0732 \n",
      "700  | 0.70  |  0.52  | 0.0753 \n",
      "725  | 0.65  |  0.47  | 0.0774 \n",
      "750  | 0.62  |  0.47  | 0.0796 \n",
      "775  | 0.59  |  0.46  | 0.0831 \n",
      "800  | 0.53  |  0.43  | 0.0852 \n",
      "825  | 0.54  |  0.42  | 0.0876 \n",
      "850  | 0.53  |  0.39  | 0.0897 \n",
      "875  | 0.52  |  0.43  | 0.0947 \n",
      "900  | 0.50  |  0.35  | 0.0968 \n",
      "925  | 0.48  |  0.36  | 0.1006 \n",
      "950  | 0.45  |  0.33  | 0.1029 \n",
      "975  | 0.44  |  0.33  | 0.1050 \n",
      "1000  | 0.42  |  0.35  | 0.1071 \n",
      "1025  | 0.41  |  0.32  | 0.1092 \n",
      "1050  | 0.40  |  0.32  | 0.1114 \n",
      "1075  | 0.39  |  0.33  | 0.1135 \n",
      "1100  | 0.38  |  0.31  | 0.1217 \n",
      "1125  | 0.64  |  0.32  | 0.1289 \n",
      "1150  | 0.36  |  0.26  | 0.1351 \n",
      "1175  | 0.35  |  0.26  | 0.1488 \n",
      "1200  | 0.34  |  0.27  | 0.1528 \n",
      "1225  | 0.33  |  0.26  | 0.1608 \n",
      "1250  | 0.32  |  0.27  | 0.1691 \n",
      "1275  | 0.32  |  0.28  | 0.1713 \n",
      "1300  | 0.31  |  0.24  | 0.1766 \n",
      "1325  | 0.30  |  0.25  | 0.1787 \n",
      "1350  | 0.29  |  0.23  | 0.1809 \n",
      "1375  | 0.29  |  0.24  | 0.1843 \n",
      "1400  | 0.28  |  0.25  | 0.1866 \n",
      "1425  | 0.27  |  0.26  | 0.1887 \n",
      "1450  | 0.27  |  0.22  | 0.1927 \n",
      "1475  | 0.26  |  0.24  | 0.1953 \n",
      "1500  | 0.26  |  0.21  | 0.2016 \n",
      "1525  | 0.25  |  0.22  | 0.2037 \n",
      "1550  | 0.24  |  0.21  | 0.2059 \n",
      "1575  | 0.24  |  0.20  | 0.2080 \n",
      "1600  | 0.23  |  0.19  | 0.2101 \n",
      "1625  | 0.23  |  0.20  | 0.2123 \n",
      "1650  | 0.23  |  0.21  | 0.2144 \n",
      "1675  | 0.22  |  0.19  | 0.2166 \n",
      "1700  | 0.22  |  0.19  | 0.2213 \n",
      "1725  | 0.21  |  0.19  | 0.2235 \n",
      "1750  | 0.21  |  0.22  | 0.2256 \n",
      "1775  | 0.20  |  0.19  | 0.2299 \n",
      "1800  | 0.20  |  0.17  | 0.2321 \n",
      "1825  | 0.20  |  0.16  | 0.2342 \n",
      "1850  | 0.19  |  0.15  | 0.2380 \n",
      "1875  | 0.19  |  0.16  | 0.2402 \n",
      "1900  | 0.19  |  0.16  | 0.2451 \n",
      "1925  | 0.19  |  0.16  | 0.2475 \n",
      "1950  | 0.18  |  0.16  | 0.2559 \n",
      "1975  | 0.18  |  0.15  | 0.2644 \n",
      "2000  | 0.18  |  0.14  | 0.2742 \n",
      "  0.505495 seconds (184.96 k allocations: 217.646 MB, 5.33% gc time)\n"
     ]
    }
   ],
   "source": [
    "options.AUX = [0 2]; # don't use sign flipping and use a density of 10 per row\n",
    "method_name = \"rademacher\";# ROS\n",
    "options.sketchsize = floor((prob.n)^(1/2)); #\n",
    "@time   output= solveRidge(prob, method_name, options);\n",
    "OUTPUTS = [OUTPUTS ; output];\n",
    "options.AUX = [0 5]; # don't use sign flipping and use a density of 10 per row\n",
    "method_name = \"rademacher\";# ROS\n",
    "options.sketchsize = 50; #floor((prob.n)^(1/2));\n",
    "@time   output= solveRidge(prob, method_name, options);\n",
    "OUTPUTS = [OUTPUTS ; output];\n",
    "options.AUX = [0 10]; # don't use sign flipping and use a density of 10 per row\n",
    "method_name = \"rademacher\";# ROS\n",
    "options.sketchsize = 5; #floor((prob.n)^(1/2));\n",
    "@time   output= solveRidge(prob, method_name, options);\n",
    "OUTPUTS = [OUTPUTS ; output];\n",
    "options.AUX = [0 50]; # don't use sign flipping and use a density of 10 per row\n",
    "method_name = \"rademacher\";# ROS\n",
    "options.sketchsize = 2; #floor((prob.n)^(1/2));\n",
    "@time   output= solveRidge(prob, method_name, options);\n",
    "OUTPUTS = [OUTPUTS ; output];"
   ]
  },
  {
   "cell_type": "code",
   "execution_count": 35,
   "metadata": {
    "collapsed": true
   },
   "outputs": [],
   "source": [
    "# Testing Hadamard Sketch\n",
    "# method_name = \"Hadamard\";# ROS\n",
    "# options.sketchsize =10; # Int(floor(log2(prob.n)));\n",
    "# options.skip_error_calculation =25;\n",
    "# @time  output= solveRidge(prob, method_name, options);\n",
    "# OUTPUTS = [OUTPUTS ; output];"
   ]
  },
  {
   "cell_type": "code",
   "execution_count": 36,
   "metadata": {
    "collapsed": false
   },
   "outputs": [
    {
     "name": "stdout",
     "output_type": "stream",
     "text": [
      "countmin\n",
      "-------------------\n",
      "It   | Error% | Residual |  Time   \n",
      "-------------------\n",
      " 25  | 12.63  |  7.22  | 0.0401 \n",
      " 50  | 11.20  |  5.90  | 0.0834 \n",
      " 75  | 10.43  |  5.93  | 0.1198 \n",
      "100  | 9.92  |  5.30  | 0.1379 \n",
      "125  | 9.60  |  5.16  | 0.1659 \n",
      "150  | 9.30  |  5.07  | 0.1841 \n",
      "175  | 9.08  |  4.94  | 0.2040 \n",
      "200  | 8.87  |  4.80  | 0.2221 \n",
      "225  | 8.94  |  4.76  | 0.2402 \n",
      "250  | 8.53  |  4.89  | 0.2821 \n",
      "275  | 8.39  |  5.06  | 0.3020 \n",
      "300  | 8.26  |  4.94  | 0.3201 \n",
      "325  | 8.15  |  5.23  | 0.3382 \n",
      "350  | 8.01  |  5.23  | 0.3689 \n",
      "375  | 7.92  |  5.15  | 0.3916 \n",
      "400  | 7.81  |  4.95  | 0.4140 \n",
      "425  | 7.73  |  4.69  | 0.4322 \n",
      "450  | 7.15  |  4.16  | 0.4512 \n",
      "475  | 7.59  |  4.88  | 0.5159 \n",
      "500  | 7.42  |  4.52  | 0.5673 \n",
      "525  | 7.46  |  4.53  | 0.5942 \n",
      "550  | 7.41  |  4.47  | 0.6123 \n",
      "575  | 7.36  |  4.46  | 0.6318 \n",
      "600  | 7.30  |  4.41  | 0.6500 \n",
      "625  | 7.24  |  4.40  | 0.6690 \n",
      "650  | 7.19  |  4.39  | 0.7389 \n",
      "675  | 7.15  |  4.44  | 0.7819 \n",
      "700  | 7.10  |  4.42  | 0.8266 \n",
      "725  | 7.06  |  4.44  | 0.8449 \n",
      "750  | 7.03  |  4.40  | 0.8683 \n",
      "775  | 6.99  |  4.36  | 0.8870 \n",
      "800  | 6.95  |  4.36  | 0.9280 \n",
      "825  | 6.92  |  4.50  | 0.9495 \n",
      "850  | 6.87  |  4.52  | 0.9687 \n",
      "875  | 6.81  |  4.50  | 0.9868 \n",
      "900  | 6.81  |  4.52  | 1.0413 \n",
      "925  | 6.78  |  4.45  | 1.0642 \n",
      "950  | 6.74  |  4.49  | 1.0823 \n",
      "975  | 6.71  |  4.41  | 1.1252 \n",
      "1000  | 6.69  |  4.29  | 1.1460 \n",
      "1025  | 6.66  |  4.30  | 1.1663 \n",
      "1050  | 6.63  |  4.34  | 1.1844 \n",
      "1075  | 6.60  |  4.34  | 1.2275 \n",
      "1100  | 6.58  |  4.24  | 1.2468 \n",
      "1125  | 6.55  |  4.12  | 1.2668 \n",
      "1150  | 6.93  |  4.19  | 1.2850 \n",
      "1175  | 6.51  |  4.16  | 1.3311 \n",
      "1200  | 6.48  |  4.15  | 1.3566 \n",
      "1225  | 6.46  |  4.11  | 1.3834 \n",
      "1250  | 6.44  |  4.08  | 1.4314 \n",
      "1275  | 6.42  |  4.04  | 1.4560 \n",
      "1300  | 6.40  |  4.04  | 1.4743 \n",
      "1325  | 6.39  |  4.03  | 1.4926 \n",
      "1350  | 6.37  |  4.01  | 1.5752 \n",
      "1375  | 6.36  |  4.04  | 1.5964 \n",
      "1400  | 6.34  |  4.04  | 1.6171 \n",
      "1425  | 6.32  |  3.99  | 1.6426 \n",
      "1450  | 6.31  |  3.99  | 1.6634 \n",
      "1475  | 6.29  |  4.00  | 1.6853 \n",
      "1500  | 6.33  |  3.98  | 1.7060 \n",
      "1525  | 6.26  |  4.01  | 1.7248 \n",
      "1550  | 6.25  |  4.01  | 1.7746 \n",
      "1575  | 6.23  |  4.00  | 1.8457 \n",
      "1600  | 6.22  |  3.99  | 1.8994 \n",
      "1625  | 6.21  |  3.98  | 1.9329 \n",
      "1650  | 6.91  |  4.02  | 1.9510 \n",
      "1675  | 6.17  |  4.02  | 2.0095 \n",
      "1700  | 6.16  |  3.96  | 2.0699 \n",
      "1725  | 6.15  |  3.95  | 2.1376 \n",
      "1750  | 6.14  |  3.95  | 2.1809 \n",
      "1775  | 6.12  |  3.95  | 2.2225 \n",
      "1800  | 6.11  |  3.94  | 2.2714 \n",
      "1825  | 6.10  |  3.92  | 2.3009 \n",
      "1850  | 6.09  |  3.93  | 2.3696 \n",
      "1875  | 6.82  |  3.94  | 2.3904 \n",
      "1900  | 6.06  |  3.95  | 2.4274 \n",
      "1925  | 6.05  |  3.95  | 2.4750 \n",
      "1950  | 6.04  |  3.96  | 2.5458 \n",
      "1975  | 6.02  |  3.95  | 2.5904 \n",
      "2000  | 6.01  |  3.91  | 2.6353 \n",
      "  2.812936 seconds (4.47 M allocations: 1.751 GB, 8.81% gc time)\n"
     ]
    }
   ],
   "source": [
    "# Testing countmin \n",
    "options.sketchsize =10;#floor((prob.n)^(1/2));\n",
    "options.skip_error_calculation =25;\n",
    "method_name = \"countmin\";# gradient descent\n",
    "@time output= solveRidge(prob, method_name, options);\n",
    "OUTPUTS = [OUTPUTS ; output];"
   ]
  },
  {
   "cell_type": "code",
   "execution_count": 37,
   "metadata": {
    "collapsed": false
   },
   "outputs": [
    {
     "name": "stdout",
     "output_type": "stream",
     "text": [
      "CG\n",
      "-------------------\n",
      "It   | Error% | Residual |  Time   \n",
      "-------------------\n",
      " 25  | 0.03  |  0.06  | 0.0226 \n",
      " 50  | 0.00  |  0.02  | 0.0292 \n",
      " 75  | 0.00  |  0.01  | 0.0297 \n",
      "  0.040265 seconds (3.04 k allocations: 724.578 KB)\n"
     ]
    }
   ],
   "source": [
    "# Testing CG \n",
    "method_name = \"CG\";# gradient descent\n",
    "@time output= solveRidge(prob, method_name, options);\n",
    "OUTPUTS = [OUTPUTS ; output];"
   ]
  },
  {
   "cell_type": "code",
   "execution_count": 38,
   "metadata": {
    "collapsed": false
   },
   "outputs": [
    {
     "name": "stdout",
     "output_type": "stream",
     "text": [
      "CD-10\n",
      "-------------------\n",
      "It   | Error% | Residual |  Time   \n",
      "-------------------\n",
      "250  | 0.09  |  0.10  | 0.0462 \n",
      "500  | 0.00  |  0.04  | 0.0950 \n",
      "750  | 0.00  |  0.02  | 0.1434 \n",
      "1000  | 0.00  |  0.01  | 0.2084 \n",
      "  0.239952 seconds (36.45 k allocations: 14.408 MB, 1.82% gc time)\n",
      "CD-50\n",
      "-------------------\n",
      "It   | Error% | Residual |  Time   \n",
      "-------------------\n",
      "250  | 0.00  |  0.00  | 0.0611 \n",
      "  0.065304 seconds (10.11 k allocations: 22.947 MB, 5.74% gc time)\n"
     ]
    }
   ],
   "source": [
    "# Testing CD \n",
    "options.maxiter=5000;\n",
    "options.skip_error_calculation = 250;\n",
    "method_name = \"CD\";# gradient descent\n",
    "options.sketchsize = 10;#floor((prob.n)^(1/2));\n",
    "@time output= solveRidge(prob, method_name, options);\n",
    "OUTPUTS = [OUTPUTS ; output];\n",
    "method_name = \"CD\";# gradient descent\n",
    "options.sketchsize = 50;\n",
    "@time output= solveRidge(prob, method_name, options);\n",
    "OUTPUTS = [OUTPUTS ; output];"
   ]
  },
  {
   "cell_type": "code",
   "execution_count": 39,
   "metadata": {
    "collapsed": true
   },
   "outputs": [],
   "source": [
    "savename = replace(prob.name, r\"[\\/]\", \"-\");\n",
    "save(\"../data/$(savename)-OUTPUTS.jld\", \"OUTPUTS\", OUTPUTS)"
   ]
  },
  {
   "cell_type": "code",
   "execution_count": 40,
   "metadata": {
    "collapsed": false
   },
   "outputs": [
    {
     "name": "stdout",
     "output_type": "stream",
     "text": [
      "a9a\n"
     ]
    }
   ],
   "source": [
    "#using GR\n",
    "using Plots\n",
    "pgfplots()\n",
    "plot_outputs_Plots(OUTPUTS,savename)"
   ]
  },
  {
   "cell_type": "code",
   "execution_count": 344,
   "metadata": {
    "collapsed": true
   },
   "outputs": [],
   "source": [
    "# Loading saved problem data\n",
    "probname = \"gisette_scale\"#\"gisette_scale\";  \n",
    "test = load(\"../data/$(probname)-OUTPUTS.jld\")\n",
    "OUTPUTS = test[\"OUTPUTS\"];"
   ]
  },
  {
   "cell_type": "code",
   "execution_count": 125,
   "metadata": {
    "collapsed": false
   },
   "outputs": [
    {
     "name": "stdout",
     "output_type": "stream",
     "text": [
      "rademacher-20-4\n",
      "-------------------\n",
      "It   | Error% | Residual |  Time   \n",
      "-------------------\n",
      "100  | 53.59  |  32.15  | 9.8752 \n",
      "200  | 40.72  |  18.19  | 19.2877 \n",
      "300  | 32.43  |  13.76  | 29.8606 \n",
      "400  | 28.10  |  11.28  | 40.1743 \n",
      "500  | 24.14  |  9.74  | 50.1443 \n",
      "600  | 21.41  |  9.03  | 59.9515 \n",
      "700  | 18.70  |  7.48  | 70.1964 \n",
      "800  | 16.30  |  6.57  | 80.9024 \n",
      "900  | 14.79  |  5.97  | 90.2410 \n",
      "1000  | 13.84  |  5.52  | 100.5206 \n",
      "1100  | 12.65  |  5.12  | 111.2109 \n",
      "1200  | 11.32  |  4.75  | 124.0030 \n",
      "1300  | 10.26  |  4.41  | 134.7009 \n",
      "1400  | 9.48  |  4.12  | 144.6959 \n",
      "1500  | 8.78  |  3.86  | 154.1839 \n",
      "1600  | 8.19  |  3.61  | 163.3525 \n",
      "1700  | 7.66  |  3.52  | 172.9010 \n",
      "1800  | 7.64  |  3.28  | 183.0576 \n",
      "1900  | 6.19  |  3.11  | 194.0066 \n",
      "2000  | 6.48  |  2.90  | 203.9059 \n",
      "2100  | 5.89  |  2.71  | 214.1605 \n",
      "2200  | 5.55  |  2.52  | 224.1497 \n",
      "2300  | 5.23  |  2.51  | 233.8348 \n",
      "2400  | 4.98  |  2.34  | 243.3699 \n",
      "2500  | 4.72  |  2.25  | 253.3765 \n",
      "2600  | 4.49  |  2.14  | 263.1168 \n",
      "2700  | 4.28  |  2.01  | 272.9493 \n",
      "2800  | 4.09  |  1.87  | 282.6587 \n",
      "2900  | 3.93  |  1.82  | 293.1325 \n",
      "2971  | 3.82  |  1.76  | 300.1431 \n",
      "363.390124 seconds (1.77 M allocations: 104.773 GB, 2.74% gc time)\n",
      "CG\n",
      "-------------------\n",
      "It   | Error% | Residual |  Time   \n",
      "-------------------\n",
      " 25  | 3.39  |  4.19  | 23.3061 \n",
      " 50  | 1.12  |  1.00  | 47.5004 \n",
      " 75  | 0.60  |  0.55  | 72.3198 \n",
      " 83.156020 seconds (5.07 k allocations: 224.814 MB, 0.11% gc time)\n",
      "CD-10\n",
      "-------------------\n",
      "It   | Error% | Residual |  Time   \n",
      "-------------------\n",
      "250  | 66.48  |  60.90  | 2.3743 \n",
      "500  | 53.62  |  43.16  | 4.9295 \n",
      "750  | 43.40  |  27.57  | 7.1672 \n",
      "1000  | 37.58  |  21.64  | 9.3269 \n",
      "1250  | 32.69  |  18.99  | 11.3822 \n",
      "1500  | 29.00  |  16.71  | 13.7854 \n",
      "1750  | 25.60  |  13.49  | 16.2530 \n",
      "2000  | 23.58  |  12.65  | 18.4847 \n",
      "2250  | 21.65  |  11.55  | 20.9346 \n",
      "2500  | 20.03  |  10.78  | 23.3358 \n",
      "2750  | 18.37  |  9.89  | 25.8463 \n",
      "3000  | 16.96  |  9.83  | 28.2671 \n",
      "3250  | 15.89  |  8.53  | 30.3330 \n",
      "3500  | 14.63  |  8.02  | 33.6139 \n",
      "3750  | 14.54  |  7.71  | 35.9031 \n",
      "4000  | 13.78  |  7.50  | 37.9612 \n",
      "4250  | 12.46  |  7.10  | 40.6315 \n",
      "4500  | 11.17  |  6.82  | 43.7690 \n",
      "4750  | 11.04  |  6.44  | 45.9058 \n",
      "5000  | 10.51  |  6.02  | 49.2611 \n",
      " 93.822579 seconds (201.96 k allocations: 17.654 GB, 1.63% gc time)\n",
      "rcv1_train.multiclass\n"
     ]
    }
   ],
   "source": [
    "OUTPUTS = []\n",
    "options.tol = 10.0^(-2.0);\n",
    "options.restol = 10.0^(-2.0);\n",
    "options.maxiter=9000000;\n",
    "options.max_time = 300;\n",
    "options.skip_error_calculation = 100;\n",
    "options.AUX = [0 10] # don't use sign flipping and use a density of 5 per row\n",
    "method_name = \"rademacher\";# ROS\n",
    "options.sketchsize = 100; #\n",
    "@time   output= solveRidge(prob, method_name, options);\n",
    "OUTPUTS = [OUTPUTS ; output];\n",
    "options.skip_error_calculation = 10;\n",
    "method_name = \"CG\";# gradient descent\n",
    "@time output= solveRidge(prob, method_name, options);\n",
    "OUTPUTS = [OUTPUTS ; output];\n",
    "options.maxiter=5000;\n",
    "options.skip_error_calculation = 500;\n",
    "method_name = \"CD\";# gradient descent\n",
    "options.sketchsize = 100;#floor((prob.n)^(1/2));\n",
    "@time output= solveRidge(prob, method_name, options);\n",
    "OUTPUTS = [OUTPUTS ; output];\n",
    "plot_outputs_Plots(OUTPUTS,savename)"
   ]
  },
  {
   "cell_type": "code",
   "execution_count": 133,
   "metadata": {
    "collapsed": false
   },
   "outputs": [
    {
     "name": "stdout",
     "output_type": "stream",
     "text": [
      "rcv1_train.multiclass\n"
     ]
    }
   ],
   "source": [
    "plot_outputs_Plots(OUTPUTS,savename)"
   ]
  },
  {
   "cell_type": "code",
   "execution_count": null,
   "metadata": {
    "collapsed": false
   },
   "outputs": [
    {
     "name": "stdout",
     "output_type": "stream",
     "text": [
      "CD-100\n",
      "-------------------\n",
      "It   | Error% | Residual |  Time   \n",
      "-------------------\n",
      "500  | 9.33  |  5.29  | 45.1216 \n"
     ]
    }
   ],
   "source": [
    "options.maxiter=20000;\n",
    "options.skip_error_calculation = 500;\n",
    "method_name = \"CD\";# gradient descent\n",
    "options.sketchsize = 100;#floor((prob.n)^(1/2));\n",
    "@time output= solveRidge(prob, method_name, options);\n",
    "OUTPUTS = [OUTPUTS ; output];\n"
   ]
  },
  {
   "cell_type": "code",
   "execution_count": null,
   "metadata": {
    "collapsed": true
   },
   "outputs": [],
   "source": []
  }
 ],
 "metadata": {
  "anaconda-cloud": {},
  "kernelspec": {
   "display_name": "Julia 0.5.2",
   "language": "julia",
   "name": "julia-0.5"
  },
  "language_info": {
   "file_extension": ".jl",
   "mimetype": "application/julia",
   "name": "julia",
   "version": "0.5.2"
  }
 },
 "nbformat": 4,
 "nbformat_minor": 1
}
