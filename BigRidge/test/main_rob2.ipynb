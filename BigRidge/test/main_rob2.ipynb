{
 "cells": [
  {
   "cell_type": "markdown",
   "metadata": {},
   "source": [
    "The main solving big ridge regression problems"
   ]
  },
  {
   "cell_type": "code",
   "execution_count": 1,
   "metadata": {},
   "outputs": [],
   "source": [
    "workspace()"
   ]
  },
  {
   "cell_type": "code",
   "execution_count": 26,
   "metadata": {},
   "outputs": [],
   "source": [
    "using Plots"
   ]
  },
  {
   "cell_type": "code",
   "execution_count": 57,
   "metadata": {},
   "outputs": [
    {
     "name": "stderr",
     "output_type": "stream",
     "text": [
      "WARNING: Method definition (::Type{Main.MyOptions})(Int64, AbstractString, Float64, Float64, Int64, Int64, Float64, Bool, Bool) in module Main at /home/local/rgower/modernSketches/BigRidge/src/BigRidge.jl:13 overwritten at /home/local/rgower/modernSketches/BigRidge/src/BigRidge.jl:13.\n",
      "WARNING: Method definition (::Type{Main.MyOptions})(Any, Any, Any, Any, Any, Any, Any, Any, Any) in module Main at /home/local/rgower/modernSketches/BigRidge/src/BigRidge.jl:13 overwritten at /home/local/rgower/modernSketches/BigRidge/src/BigRidge.jl:13.\n",
      "WARNING: Method definition (::Type{Main.Prob})(Array{Float64, N<:Any}, Array{Float64, N<:Any}, Array{Float64, N<:Any}, Int64, Float64, AbstractString) in module Main at /home/local/rgower/modernSketches/BigRidge/src/BigRidge.jl:26 overwritten at /home/local/rgower/modernSketches/BigRidge/src/BigRidge.jl:26.\n",
      "WARNING: Method definition (::Type{Main.Prob})(Any, Any, Any, Any, Any, Any) in module Main at /home/local/rgower/modernSketches/BigRidge/src/BigRidge.jl:26 overwritten at /home/local/rgower/modernSketches/BigRidge/src/BigRidge.jl:26.\n",
      "WARNING: Method definition (::Type{Main.Method})(Int64, AbstractString, Function, Function, Array{Float64, N<:Any}) in module Main at /home/local/rgower/modernSketches/BigRidge/src/BigRidge.jl:35 overwritten at /home/local/rgower/modernSketches/BigRidge/src/BigRidge.jl:35.\n",
      "WARNING: Method definition (::Type{Main.Method})(Any, Any, Any, Any, Any) in module Main at /home/local/rgower/modernSketches/BigRidge/src/BigRidge.jl:35 overwritten at /home/local/rgower/modernSketches/BigRidge/src/BigRidge.jl:35.\n",
      "WARNING: Method definition (::Type{Main.CGMethod})(Int64, AbstractString, Function, Function, Array{Float64, N<:Any}, Array{Float64, N<:Any}, Float64) in module Main at /home/local/rgower/modernSketches/BigRidge/src/BigRidge.jl:43 overwritten at /home/local/rgower/modernSketches/BigRidge/src/BigRidge.jl:43.\n",
      "WARNING: Method definition (::Type{Main.CGMethod})(Any, Any, Any, Any, Any, Any, Any) in module Main at /home/local/rgower/modernSketches/BigRidge/src/BigRidge.jl:43 overwritten at /home/local/rgower/modernSketches/BigRidge/src/BigRidge.jl:43.\n",
      "WARNING: Method definition (::Type{Main.Output})(Int64, Int64, Array{Float64, N<:Any}, Array{Float64, N<:Any}, Array{Float64, N<:Any}, AbstractString, AbstractString) in module Main at /home/local/rgower/modernSketches/BigRidge/src/BigRidge.jl:55 overwritten at /home/local/rgower/modernSketches/BigRidge/src/BigRidge.jl:55.\n",
      "WARNING: Method definition (::Type{Main.Output})(Any, Any, Any, Any, Any, Any, Any) in module Main at /home/local/rgower/modernSketches/BigRidge/src/BigRidge.jl:55 overwritten at /home/local/rgower/modernSketches/BigRidge/src/BigRidge.jl:55.\n",
      "WARNING: Method definition solveRidge(Main.Prob, Any, Main.MyOptions) in module Main at /home/local/rgower/modernSketches/BigRidge/src/solveRidge.jl:5 overwritten at /home/local/rgower/modernSketches/BigRidge/src/solveRidge.jl:5.\n",
      "WARNING: Method definition boot_method(AbstractString, Any, Main.MyOptions) in module Main at /home/local/rgower/modernSketches/BigRidge/src/boot_method.jl:2 overwritten at /home/local/rgower/modernSketches/BigRidge/src/boot_method.jl:2.\n",
      "WARNING: Method definition initDetails() in module Main at /home/local/rgower/modernSketches/BigRidge/src/dataLoad.jl:26 overwritten at /home/local/rgower/modernSketches/BigRidge/src/dataLoad.jl:26.\n",
      "WARNING: Method definition transformDataJLD(Any) in module Main at /home/local/rgower/modernSketches/BigRidge/src/dataLoad.jl:31 overwritten at /home/local/rgower/modernSketches/BigRidge/src/dataLoad.jl:31.\n",
      "WARNING: Method definition loadDataset(Any) in module Main at /home/local/rgower/modernSketches/BigRidge/src/dataLoad.jl:40 overwritten at /home/local/rgower/modernSketches/BigRidge/src/dataLoad.jl:40.\n",
      "WARNING: Method definition showDetails(Any) in module Main at /home/local/rgower/modernSketches/BigRidge/src/dataLoad.jl:45 overwritten at /home/local/rgower/modernSketches/BigRidge/src/dataLoad.jl:45.\n",
      "WARNING: Method definition readLIBSVM(AbstractString, Bool) in module Main at /home/local/rgower/modernSketches/BigRidge/src/dataLoad.jl:51 overwritten at /home/local/rgower/modernSketches/BigRidge/src/dataLoad.jl:51.\n",
      "WARNING: Method definition defineProb(Any) in module Main at /home/local/rgower/modernSketches/BigRidge/src/defineProb.jl:7 overwritten at /home/local/rgower/modernSketches/BigRidge/src/defineProb.jl:7.\n",
      "WARNING: Method definition get_randProb(Int64) in module Main at /home/local/rgower/modernSketches/BigRidge/src/get_randProb.jl:3 overwritten at /home/local/rgower/modernSketches/BigRidge/src/get_randProb.jl:3.\n",
      "WARNING: Method definition boot_grad(Main.Prob, Main.MyOptions) in module Main at /home/local/rgower/modernSketches/BigRidge/src/grad.jl:4 overwritten at /home/local/rgower/modernSketches/BigRidge/src/grad.jl:4.\n",
      "WARNING: Method definition step_grad(Main.Prob, Array{Float64, N<:Any}, Main.MyOptions) in module Main at /home/local/rgower/modernSketches/BigRidge/src/grad.jl:15 overwritten at /home/local/rgower/modernSketches/BigRidge/src/grad.jl:15.\n",
      "WARNING: Method definition boot_CD(Main.Prob, Main.MyOptions) in module Main at /home/local/rgower/modernSketches/BigRidge/src/CD.jl:5 overwritten at /home/local/rgower/modernSketches/BigRidge/src/CD.jl:5.\n",
      "WARNING: Method definition step_CD(Main.Prob, Array{Float64, N<:Any}, Main.MyOptions, Main.Method) in module Main at /home/local/rgower/modernSketches/BigRidge/src/CD.jl:15 overwritten at /home/local/rgower/modernSketches/BigRidge/src/CD.jl:15.\n",
      "WARNING: Method definition boot_CG(Main.Prob, Main.MyOptions) in module Main at /home/local/rgower/modernSketches/BigRidge/src/CG.jl:5 overwritten at /home/local/rgower/modernSketches/BigRidge/src/CG.jl:5.\n",
      "WARNING: Method definition step_CG(Main.Prob, Array{Float64, N<:Any}, Main.MyOptions, Main.CGMethod) in module Main at /home/local/rgower/modernSketches/BigRidge/src/CG.jl:17 overwritten at /home/local/rgower/modernSketches/BigRidge/src/CG.jl:17.\n",
      "WARNING: Method definition hada(Any, Any) in module Main at /home/local/rgower/modernSketches/BigRidge/src/hada.jl:6 overwritten at /home/local/rgower/modernSketches/BigRidge/src/hada.jl:6.\n",
      "WARNING: Method definition boot_Hadamard(Main.Prob, Main.MyOptions) in module Main at /home/local/rgower/modernSketches/BigRidge/src/Hadamard.jl:4 overwritten at /home/local/rgower/modernSketches/BigRidge/src/Hadamard.jl:4.\n",
      "WARNING: Method definition step_Hadamard(Main.Prob, Array{Float64, N<:Any}, Main.MyOptions, Main.Method) in module Main at /home/local/rgower/modernSketches/BigRidge/src/Hadamard.jl:17 overwritten at /home/local/rgower/modernSketches/BigRidge/src/Hadamard.jl:17.\n",
      "WARNING: Method definition boot_rademacher(Main.Prob, Main.MyOptions) in module Main at /home/local/rgower/modernSketches/BigRidge/src/rademacher.jl:2 overwritten at /home/local/rgower/modernSketches/BigRidge/src/rademacher.jl:2.\n",
      "WARNING: Method definition step_rademacher(Main.Prob, Array{Float64, N<:Any}, Main.MyOptions, Main.Method) in module Main at /home/local/rgower/modernSketches/BigRidge/src/rademacher.jl:20 overwritten at /home/local/rgower/modernSketches/BigRidge/src/rademacher.jl:20.\n",
      "WARNING: Method definition Countstream(Any, Any, Any) in module Main at /home/local/rgower/modernSketches/BigRidge/src/Countstream.jl:3 overwritten at /home/local/rgower/modernSketches/BigRidge/src/Countstream.jl:3.\n",
      "WARNING: Method definition boot_countmin(Main.Prob, Main.MyOptions) in module Main at /home/local/rgower/modernSketches/BigRidge/src/countmin.jl:4 overwritten at /home/local/rgower/modernSketches/BigRidge/src/countmin.jl:4.\n",
      "WARNING: Method definition step_countmin(Main.Prob, Array{Float64, N<:Any}, Main.MyOptions, Main.Method) in module Main at /home/local/rgower/modernSketches/BigRidge/src/countmin.jl:14 overwritten at /home/local/rgower/modernSketches/BigRidge/src/countmin.jl:14.\n",
      "WARNING: Method definition plot_outputs_Plots(Any, Any) in module Main at /home/local/rgower/modernSketches/BigRidge/src/plot_outputs_Plots.jl:3 overwritten at /home/local/rgower/modernSketches/BigRidge/src/plot_outputs_Plots.jl:3.\n"
     ]
    },
    {
     "data": {
      "text/plain": [
       "plot_outputs_Plots (generic function with 1 method)"
      ]
     },
     "execution_count": 57,
     "metadata": {},
     "output_type": "execute_result"
    }
   ],
   "source": [
    "using StatsBase\n",
    "using JLD  \n",
    "include(\"../src/BigRidge.jl\")"
   ]
  },
  {
   "cell_type": "code",
   "execution_count": 107,
   "metadata": {
    "collapsed": true
   },
   "outputs": [],
   "source": [
    "#Basic parameters\n",
    "## Basic parameters\n",
    "maxiter=1000;\n",
    "max_time = 3;\n",
    "max_epocs = 100;\n",
    "printiters = true;\n",
    "exacterror =true; \n",
    "tol = 10.0^(-5.0);\n",
    "restol = 10.0^(-5.0);\n",
    "skip_error_calculation = 25;   # number of iterations where error is not calculated (to save time!) ceil((m)^(1/2))"
   ]
  },
  {
   "cell_type": "code",
   "execution_count": 108,
   "metadata": {},
   "outputs": [
    {
     "name": "stdout",
     "output_type": "stream",
     "text": [
      "../data/a9a.jld\n"
     ]
    }
   ],
   "source": [
    "dataset = \"a9a\"\n",
    "prob = defineProb(dataset);"
   ]
  },
  {
   "cell_type": "code",
   "execution_count": 109,
   "metadata": {},
   "outputs": [
    {
     "data": {
      "text/plain": [
       "4.459713089533306e-11"
      ]
     },
     "execution_count": 109,
     "metadata": {},
     "output_type": "execute_result"
    }
   ],
   "source": [
    "norm(prob.A*prob.xsol - prob.b)"
   ]
  },
  {
   "cell_type": "code",
   "execution_count": 110,
   "metadata": {
    "collapsed": true
   },
   "outputs": [],
   "source": [
    "options = MyOptions(0,\"uni\",tol,restol,maxiter,skip_error_calculation,max_time,printiters,exacterror) \n",
    "OUTPUTS = [];"
   ]
  },
  {
   "cell_type": "code",
   "execution_count": 111,
   "metadata": {},
   "outputs": [
    {
     "name": "stdout",
     "output_type": "stream",
     "text": [
      "rademacher-20\n",
      "-------------------\n",
      "It   | Error% | Residual |  Time   \n",
      "-------------------\n",
      " 25  | 0.46  |  0.42  | 0.0150 \n",
      " 50  | 0.27  |  0.20  | 0.0279 \n",
      " 75  | 0.18  |  0.15  | 0.0912 \n",
      "100  | 0.12  |  0.14  | 0.1034 \n",
      "125  | 0.04  |  0.11  | 0.2567 \n",
      "150  | 0.06  |  0.09  | 0.2701 \n",
      "175  | 0.05  |  0.07  | 0.2890 \n",
      "200  | 0.04  |  0.06  | 0.2997 \n",
      "225  | 0.03  |  0.06  | 0.3134 \n",
      "250  | 0.03  |  0.04  | 0.3239 \n",
      "275  | 0.02  |  0.03  | 0.3376 \n",
      "300  | 0.02  |  0.03  | 0.3481 \n",
      "325  | 0.05  |  0.03  | 0.3619 \n",
      "350  | 0.01  |  0.03  | 0.3746 \n",
      "375  | 0.01  |  0.02  | 0.3893 \n",
      "400  | 0.01  |  0.02  | 0.4032 \n",
      "425  | 0.01  |  0.02  | 0.4136 \n",
      "450  | 0.01  |  0.02  | 0.4273 \n",
      "475  | 0.01  |  0.02  | 0.4377 \n",
      "500  | 0.06  |  0.02  | 0.4514 \n",
      "525  | 0.00  |  0.02  | 0.4769 \n",
      "550  | 0.00  |  0.01  | 0.5002 \n",
      "575  | 0.00  |  0.01  | 0.5124 \n",
      "600  | 0.00  |  0.01  | 0.5299 \n",
      "625  | 0.00  |  0.01  | 0.5422 \n",
      "650  | 0.00  |  0.01  | 0.5602 \n",
      "675  | 0.00  |  0.01  | 0.5850 \n",
      "700  | 0.00  |  0.01  | 0.6048 \n",
      "725  | 0.00  |  0.01  | 0.6286 \n",
      "750  | 0.00  |  0.01  | 0.6390 \n",
      "775  | 0.00  |  0.01  | 0.6526 \n",
      "800  | 0.00  |  0.01  | 0.6635 \n",
      "825  | 0.00  |  0.01  | 0.6903 \n",
      "850  | 0.00  |  0.01  | 0.7012 \n",
      "875  | 0.00  |  0.01  | 0.7150 \n",
      "900  | 0.00  |  0.00  | 0.7254 \n",
      "925  | 0.00  |  0.00  | 0.7394 \n",
      "950  | 0.00  |  0.00  | 0.7499 \n",
      "975  | 0.00  |  0.00  | 0.7698 \n",
      "  0.825674 seconds (1.46 M allocations: 393.999 MB, 29.44% gc time)\n"
     ]
    }
   ],
   "source": [
    "# Testing Rademarcher Sketch\n",
    "method_name = \"rademacher\";# ROS\n",
    "options.sketchsize =20;\n",
    "@time   output= solveRidge(prob, method_name, options);\n",
    "OUTPUTS = [OUTPUTS ; output];"
   ]
  },
  {
   "cell_type": "code",
   "execution_count": 113,
   "metadata": {},
   "outputs": [
    {
     "name": "stdout",
     "output_type": "stream",
     "text": [
      "rademacher-11\n",
      "-------------------\n",
      "It   | Error% | Residual |  Time   \n",
      "-------------------\n",
      " 25  | 1.13  |  1.29  | 0.0145 \n",
      " 50  | 0.51  |  0.61  | 0.0278 \n",
      " 75  | 0.34  |  0.31  | 0.0435 \n",
      "100  | 0.25  |  0.19  | 0.0536 \n",
      "125  | 0.20  |  0.18  | 0.0694 \n",
      "150  | 0.17  |  0.17  | 0.0786 \n",
      "175  | 0.11  |  0.14  | 0.0911 \n",
      "200  | 0.12  |  0.14  | 0.0990 \n",
      "225  | 0.11  |  0.11  | 0.1067 \n",
      "250  | 0.10  |  0.10  | 0.1183 \n",
      "275  | 0.09  |  0.09  | 0.1261 \n",
      "300  | 0.07  |  0.08  | 0.1374 \n",
      "325  | 0.07  |  0.07  | 0.1448 \n",
      "350  | 0.06  |  0.06  | 0.1525 \n",
      "375  | 0.06  |  0.06  | 0.1635 \n",
      "400  | 0.05  |  0.06  | 0.1710 \n",
      "425  | 0.05  |  0.05  | 0.1822 \n",
      "450  | 0.02  |  0.06  | 0.1897 \n",
      "475  | 0.04  |  0.05  | 0.1974 \n",
      "500  | 0.04  |  0.05  | 0.2085 \n",
      "525  | 0.04  |  0.06  | 0.2162 \n",
      "550  | 0.04  |  0.04  | 0.2273 \n",
      "575  | 0.03  |  0.04  | 0.2349 \n",
      "600  | 0.03  |  0.05  | 0.2425 \n",
      "625  | 0.03  |  0.03  | 0.2535 \n",
      "650  | 0.03  |  0.04  | 0.2611 \n",
      "675  | 0.03  |  0.04  | 0.2726 \n",
      "700  | 0.03  |  0.04  | 0.2802 \n",
      "725  | 0.02  |  0.03  | 0.2914 \n",
      "750  | 0.02  |  0.03  | 0.2991 \n",
      "775  | 0.02  |  0.03  | 0.3068 \n",
      "800  | 0.02  |  0.03  | 0.3178 \n",
      "825  | 0.02  |  0.04  | 0.3253 \n",
      "850  | 0.02  |  0.03  | 0.3361 \n",
      "875  | 0.02  |  0.02  | 0.3434 \n",
      "900  | 0.02  |  0.03  | 0.3510 \n",
      "925  | 0.02  |  0.02  | 0.3615 \n",
      "950  | 0.01  |  0.02  | 0.3688 \n",
      "975  | 0.01  |  0.02  | 0.3794 \n",
      "1000  | 0.01  |  0.02  | 0.3885 \n",
      "  0.450347 seconds (879.75 k allocations: 358.539 MB, 12.66% gc time)\n"
     ]
    }
   ],
   "source": [
    "# Testing Rademarcher Sketch\n",
    "method_name = \"rademacher\";# ROS\n",
    "options.sketchsize =floor((prob.n)^(1/2));\n",
    "@time   output= solveRidge(prob, method_name, options);\n",
    "OUTPUTS = [OUTPUTS ; output];"
   ]
  },
  {
   "cell_type": "code",
   "execution_count": 82,
   "metadata": {},
   "outputs": [],
   "source": [
    "# Testing Hadamard Sketch\n",
    "# method_name = \"Hadamard\";# ROS\n",
    "# options.sketchsize =1; # Int(floor(log2(prob.n)));\n",
    "# options.maxiter=200;\n",
    "# options.skip_error_calculation =25;\n",
    "# @time  output= solveRidge(prob, method_name, options);\n",
    "# OUTPUTS = [OUTPUTS ; output];"
   ]
  },
  {
   "cell_type": "code",
   "execution_count": 114,
   "metadata": {},
   "outputs": [
    {
     "name": "stdout",
     "output_type": "stream",
     "text": [
      "countmin\n",
      "-------------------\n",
      "It   | Error% | Residual |  Time   \n",
      "-------------------\n",
      " 25  | 1.18  |  1.21  | 0.1490 \n",
      " 50  | 0.60  |  0.46  | 0.2051 \n",
      " 75  | 0.43  |  0.32  | 0.2266 \n",
      "100  | 0.34  |  0.24  | 0.2522 \n",
      "125  | 0.29  |  0.25  | 0.3156 \n",
      "150  | 0.26  |  0.20  | 0.3443 \n",
      "175  | 0.27  |  0.18  | 0.3658 \n",
      "200  | 0.19  |  0.15  | 0.4204 \n",
      "225  | 0.16  |  0.15  | 0.4456 \n",
      "250  | 0.37  |  0.13  | 0.4673 \n",
      "275  | 0.13  |  0.10  | 0.5178 \n",
      "300  | 0.12  |  0.12  | 0.5431 \n",
      "325  | 0.10  |  0.11  | 0.5676 \n",
      "350  | 0.09  |  0.09  | 0.6298 \n",
      "375  | 0.08  |  0.09  | 0.6539 \n",
      "400  | 0.05  |  0.09  | 0.6782 \n",
      "425  | 0.07  |  0.08  | 0.7312 \n",
      "450  | 0.07  |  0.08  | 0.7508 \n",
      "475  | 0.06  |  0.08  | 0.7724 \n",
      "500  | 0.07  |  0.07  | 0.7933 \n",
      "525  | 0.05  |  0.06  | 0.8413 \n",
      "550  | 0.05  |  0.05  | 0.8596 \n",
      "575  | 0.04  |  0.06  | 0.8840 \n",
      "600  | 0.04  |  0.05  | 0.9142 \n",
      "625  | 0.04  |  0.05  | 0.9609 \n",
      "650  | 0.04  |  0.05  | 0.9792 \n",
      "675  | 0.03  |  0.04  | 1.0000 \n",
      "700  | 0.09  |  0.05  | 1.0230 \n",
      "725  | 0.03  |  0.07  | 1.0738 \n",
      "750  | 0.03  |  0.04  | 1.1035 \n",
      "775  | 0.02  |  0.04  | 1.1252 \n",
      "800  | 0.02  |  0.05  | 1.1705 \n",
      "825  | 0.02  |  0.04  | 1.1911 \n",
      "850  | 0.02  |  0.03  | 1.2198 \n",
      "875  | 0.02  |  0.03  | 1.2647 \n",
      "900  | 0.02  |  0.03  | 1.2867 \n",
      "925  | 0.02  |  0.03  | 1.3092 \n",
      "950  | 0.02  |  0.03  | 1.3274 \n",
      "975  | 0.01  |  0.03  | 1.3741 \n",
      "1000  | 0.01  |  0.03  | 1.3958 \n",
      "  1.444373 seconds (618.24 k allocations: 651.669 MB, 4.97% gc time)\n"
     ]
    }
   ],
   "source": [
    "# Testing countmin \n",
    "options.max_time = 3; options.restol = 10.0^(-8); \n",
    "options.sketchsize =floor((prob.n)^(1/2));\n",
    "options.skip_error_calculation =25;\n",
    "method_name = \"countmin\";# gradient descent\n",
    "@time output= solveRidge(prob, method_name, options);\n",
    "OUTPUTS = [OUTPUTS ; output];"
   ]
  },
  {
   "cell_type": "code",
   "execution_count": 115,
   "metadata": {},
   "outputs": [
    {
     "name": "stdout",
     "output_type": "stream",
     "text": [
      "CG\n",
      "-------------------\n",
      "It   | Error% | Residual |  Time   \n",
      "-------------------\n",
      " 25  | 0.03  |  0.07  | 0.0009 \n",
      " 50  | 0.00  |  0.06  | 0.0019 \n",
      " 75  | 0.00  |  0.01  | 0.0027 \n",
      "  0.007307 seconds (3.13 k allocations: 728.266 KB)\n"
     ]
    }
   ],
   "source": [
    "# Testing CG \n",
    "options.max_time = 3; options.restol = 10.0^(-8); \n",
    "options.skip_error_calculation =25;\n",
    "method_name = \"CG\";# gradient descent\n",
    "@time output= solveRidge(prob, method_name, options);\n",
    "OUTPUTS = [OUTPUTS ; output];"
   ]
  },
  {
   "cell_type": "code",
   "execution_count": 118,
   "metadata": {},
   "outputs": [
    {
     "name": "stdout",
     "output_type": "stream",
     "text": [
      "CD-11\n",
      "-------------------\n",
      "It   | Error% | Residual |  Time   \n",
      "-------------------\n",
      " 25  | 1.15  |  2.13  | 0.0009 \n",
      " 50  | 0.04  |  0.35  | 0.0017 \n",
      " 75  | 0.02  |  0.10  | 0.0025 \n",
      "100  | 0.01  |  0.06  | 0.0032 \n",
      "125  | 0.01  |  0.04  | 0.0039 \n",
      "150  | 0.01  |  0.06  | 0.0046 \n",
      "175  | 0.01  |  0.04  | 0.0053 \n",
      "200  | 0.01  |  0.06  | 0.0061 \n",
      "225  | 0.01  |  0.04  | 0.0067 \n",
      "250  | 0.01  |  0.04  | 0.0074 \n",
      "275  | 0.00  |  0.03  | 0.0081 \n",
      "300  | 0.00  |  0.04  | 0.0087 \n",
      "325  | 0.00  |  0.03  | 0.0094 \n",
      "350  | 0.00  |  0.03  | 0.0100 \n",
      "375  | 0.00  |  0.03  | 0.0116 \n",
      "400  | 0.00  |  0.02  | 0.0123 \n",
      "425  | 0.00  |  0.02  | 0.0129 \n",
      "450  | 0.00  |  0.02  | 0.0135 \n",
      "475  | 0.00  |  0.01  | 0.0141 \n",
      "  0.087863 seconds (24.87 k allocations: 7.881 MB)\n"
     ]
    }
   ],
   "source": [
    "# Testing CD \n",
    "options.max_time = 3; options.restol = 10.0^(-8); options.maxiter=10^4;\n",
    "method_name = \"CD\";# gradient descent\n",
    "options.sketchsize = floor((prob.n)^(1/2));\n",
    "@time output= solveRidge(prob, method_name, options);\n",
    "OUTPUTS = [OUTPUTS ; output];"
   ]
  },
  {
   "cell_type": "code",
   "execution_count": 119,
   "metadata": {
    "collapsed": true
   },
   "outputs": [],
   "source": [
    "savename = replace(prob.name, r\"[\\/]\", \"-\");\n",
    "save(\"../data/$(savename)-OUTPUTS.jld\", \"OUTPUTS\", OUTPUTS)"
   ]
  },
  {
   "cell_type": "code",
   "execution_count": 120,
   "metadata": {},
   "outputs": [
    {
     "name": "stdout",
     "output_type": "stream",
     "text": [
      "a9a\n"
     ]
    }
   ],
   "source": [
    "#using GR\n",
    "using Plots\n",
    "pgfplots()\n",
    "plot_outputs_Plots(OUTPUTS,savename)"
   ]
  },
  {
   "cell_type": "code",
   "execution_count": 70,
   "metadata": {
    "collapsed": true
   },
   "outputs": [],
   "source": [
    "# Loading saved problem data\n",
    "probname = \"w8a\"#\"gisette_scale-ridge\";  \n",
    "test = load(\"../data/$(probname)-OUTPUTS.jld\")\n",
    "OUTPUTS = test[\"OUTPUTS\"];"
   ]
  },
  {
   "cell_type": "code",
   "execution_count": null,
   "metadata": {
    "collapsed": true
   },
   "outputs": [],
   "source": []
  }
 ],
 "metadata": {
  "anaconda-cloud": {},
  "kernelspec": {
   "display_name": "Julia 0.5.2",
   "language": "julia",
   "name": "julia-0.5"
  },
  "language_info": {
   "file_extension": ".jl",
   "mimetype": "application/julia",
   "name": "julia",
   "version": "0.5.2"
  }
 },
 "nbformat": 4,
 "nbformat_minor": 1
}
