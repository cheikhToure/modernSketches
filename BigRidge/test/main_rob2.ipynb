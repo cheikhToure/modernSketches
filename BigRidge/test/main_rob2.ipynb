{
 "cells": [
  {
   "cell_type": "markdown",
   "metadata": {},
   "source": [
    "The main solving big ridge regression problems"
   ]
  },
  {
   "cell_type": "code",
   "execution_count": 1,
   "metadata": {
    "collapsed": true
   },
   "outputs": [],
   "source": [
    "workspace()"
   ]
  },
  {
   "cell_type": "code",
   "execution_count": 1,
   "metadata": {
    "collapsed": true
   },
   "outputs": [],
   "source": [
    "using Plots"
   ]
  },
  {
   "cell_type": "code",
   "execution_count": 60,
   "metadata": {
    "collapsed": false
   },
   "outputs": [
    {
     "name": "stderr",
     "output_type": "stream",
     "text": [
      "WARNING: Method definition (::Type{Main.MyOptions})(Int64, AbstractString, Float64, Float64, Int64, Int64, Float64, Bool, Bool, Array{Float64, N<:Any}) in module Main at /home/local/rgower/modernSketches/BigRidge/src/BigRidge.jl:13 overwritten at /home/local/rgower/modernSketches/BigRidge/src/BigRidge.jl:13.\n",
      "WARNING: Method definition (::Type{Main.MyOptions})(Any, Any, Any, Any, Any, Any, Any, Any, Any, Any) in module Main at /home/local/rgower/modernSketches/BigRidge/src/BigRidge.jl:13 overwritten at /home/local/rgower/modernSketches/BigRidge/src/BigRidge.jl:13.\n",
      "WARNING: Method definition (::Type{Main.Prob})(Array{Float64, N<:Any}, Array{Float64, N<:Any}, Array{Float64, N<:Any}, Int64, Float64, AbstractString) in module Main at /home/local/rgower/modernSketches/BigRidge/src/BigRidge.jl:27 overwritten at /home/local/rgower/modernSketches/BigRidge/src/BigRidge.jl:27.\n",
      "WARNING: Method definition (::Type{Main.Prob})(Any, Any, Any, Any, Any, Any) in module Main at /home/local/rgower/modernSketches/BigRidge/src/BigRidge.jl:27 overwritten at /home/local/rgower/modernSketches/BigRidge/src/BigRidge.jl:27.\n",
      "WARNING: Method definition (::Type{Main.Method})(Int64, AbstractString, Function, Function, Array{Float64, N<:Any}) in module Main at /home/local/rgower/modernSketches/BigRidge/src/BigRidge.jl:36 overwritten at /home/local/rgower/modernSketches/BigRidge/src/BigRidge.jl:36.\n",
      "WARNING: Method definition (::Type{Main.Method})(Any, Any, Any, Any, Any) in module Main at /home/local/rgower/modernSketches/BigRidge/src/BigRidge.jl:36 overwritten at /home/local/rgower/modernSketches/BigRidge/src/BigRidge.jl:36.\n",
      "WARNING: Method definition (::Type{Main.CGMethod})(Int64, AbstractString, Function, Function, Array{Float64, N<:Any}, Array{Float64, N<:Any}, Float64) in module Main at /home/local/rgower/modernSketches/BigRidge/src/BigRidge.jl:44 overwritten at /home/local/rgower/modernSketches/BigRidge/src/BigRidge.jl:44.\n",
      "WARNING: Method definition (::Type{Main.CGMethod})(Any, Any, Any, Any, Any, Any, Any) in module Main at /home/local/rgower/modernSketches/BigRidge/src/BigRidge.jl:44 overwritten at /home/local/rgower/modernSketches/BigRidge/src/BigRidge.jl:44.\n",
      "WARNING: Method definition (::Type{Main.Output})(Int64, Int64, Array{Float64, N<:Any}, Array{Float64, N<:Any}, Array{Float64, N<:Any}, AbstractString, AbstractString) in module Main at /home/local/rgower/modernSketches/BigRidge/src/BigRidge.jl:56 overwritten at /home/local/rgower/modernSketches/BigRidge/src/BigRidge.jl:56.\n",
      "WARNING: Method definition (::Type{Main.Output})(Any, Any, Any, Any, Any, Any, Any) in module Main at /home/local/rgower/modernSketches/BigRidge/src/BigRidge.jl:56 overwritten at /home/local/rgower/modernSketches/BigRidge/src/BigRidge.jl:56.\n",
      "WARNING: Method definition solveRidge(Main.Prob, Any, Main.MyOptions) in module Main at /home/local/rgower/modernSketches/BigRidge/src/solveRidge.jl:5 overwritten at /home/local/rgower/modernSketches/BigRidge/src/solveRidge.jl:5.\n",
      "WARNING: Method definition boot_method(AbstractString, Any, Main.MyOptions) in module Main at /home/local/rgower/modernSketches/BigRidge/src/boot_method.jl:2 overwritten at /home/local/rgower/modernSketches/BigRidge/src/boot_method.jl:2.\n",
      "WARNING: Method definition initDetails() in module Main at /home/local/rgower/modernSketches/BigRidge/src/dataLoad.jl:26 overwritten at /home/local/rgower/modernSketches/BigRidge/src/dataLoad.jl:26.\n",
      "WARNING: Method definition transformDataJLD(Any) in module Main at /home/local/rgower/modernSketches/BigRidge/src/dataLoad.jl:31 overwritten at /home/local/rgower/modernSketches/BigRidge/src/dataLoad.jl:31.\n",
      "WARNING: Method definition loadDataset(Any) in module Main at /home/local/rgower/modernSketches/BigRidge/src/dataLoad.jl:40 overwritten at /home/local/rgower/modernSketches/BigRidge/src/dataLoad.jl:40.\n",
      "WARNING: Method definition showDetails(Any) in module Main at /home/local/rgower/modernSketches/BigRidge/src/dataLoad.jl:45 overwritten at /home/local/rgower/modernSketches/BigRidge/src/dataLoad.jl:45.\n",
      "WARNING: Method definition readLIBSVM(AbstractString, Bool) in module Main at /home/local/rgower/modernSketches/BigRidge/src/dataLoad.jl:51 overwritten at /home/local/rgower/modernSketches/BigRidge/src/dataLoad.jl:51.\n",
      "WARNING: Method definition defineProb(Any) in module Main at /home/local/rgower/modernSketches/BigRidge/src/defineProb.jl:3 overwritten at /home/local/rgower/modernSketches/BigRidge/src/defineProb.jl:3.\n",
      "WARNING: Method definition get_randProb(Int64) in module Main at /home/local/rgower/modernSketches/BigRidge/src/get_randProb.jl:3 overwritten at /home/local/rgower/modernSketches/BigRidge/src/get_randProb.jl:3.\n",
      "WARNING: Method definition boot_grad(Main.Prob, Main.MyOptions) in module Main at /home/local/rgower/modernSketches/BigRidge/src/grad.jl:4 overwritten at /home/local/rgower/modernSketches/BigRidge/src/grad.jl:4.\n",
      "WARNING: Method definition step_grad(Main.Prob, Array{Float64, N<:Any}, Main.MyOptions) in module Main at /home/local/rgower/modernSketches/BigRidge/src/grad.jl:15 overwritten at /home/local/rgower/modernSketches/BigRidge/src/grad.jl:15.\n",
      "WARNING: Method definition boot_CD(Main.Prob, Main.MyOptions) in module Main at /home/local/rgower/modernSketches/BigRidge/src/CD.jl:5 overwritten at /home/local/rgower/modernSketches/BigRidge/src/CD.jl:5.\n",
      "WARNING: Method definition step_CD(Main.Prob, Array{Float64, N<:Any}, Main.MyOptions, Main.Method) in module Main at /home/local/rgower/modernSketches/BigRidge/src/CD.jl:15 overwritten at /home/local/rgower/modernSketches/BigRidge/src/CD.jl:15.\n",
      "WARNING: Method definition boot_CG(Main.Prob, Main.MyOptions) in module Main at /home/local/rgower/modernSketches/BigRidge/src/CG.jl:5 overwritten at /home/local/rgower/modernSketches/BigRidge/src/CG.jl:5.\n",
      "WARNING: Method definition step_CG(Main.Prob, Array{Float64, N<:Any}, Main.MyOptions, Main.CGMethod) in module Main at /home/local/rgower/modernSketches/BigRidge/src/CG.jl:17 overwritten at /home/local/rgower/modernSketches/BigRidge/src/CG.jl:17.\n",
      "WARNING: Method definition hada(Any, Any) in module Main at /home/local/rgower/modernSketches/BigRidge/src/hada.jl:6 overwritten at /home/local/rgower/modernSketches/BigRidge/src/hada.jl:6.\n",
      "WARNING: Method definition boot_Hadamard(Main.Prob, Main.MyOptions) in module Main at /home/local/rgower/modernSketches/BigRidge/src/Hadamard.jl:4 overwritten at /home/local/rgower/modernSketches/BigRidge/src/Hadamard.jl:4.\n",
      "WARNING: Method definition step_Hadamard(Main.Prob, Array{Float64, N<:Any}, Main.MyOptions, Main.Method) in module Main at /home/local/rgower/modernSketches/BigRidge/src/Hadamard.jl:17 overwritten at /home/local/rgower/modernSketches/BigRidge/src/Hadamard.jl:17.\n",
      "WARNING: Method definition boot_rademacher(Main.Prob, Main.MyOptions) in module Main at /home/local/rgower/modernSketches/BigRidge/src/rademacher.jl:2 overwritten at /home/local/rgower/modernSketches/BigRidge/src/rademacher.jl:2.\n",
      "WARNING: Method definition step_rademacher(Main.Prob, Array{Float64, N<:Any}, Main.MyOptions, Main.Method) in module Main at /home/local/rgower/modernSketches/BigRidge/src/rademacher.jl:26 overwritten at /home/local/rgower/modernSketches/BigRidge/src/rademacher.jl:27.\n",
      "WARNING: Method definition step_rademachertest(Main.Prob, Array{Float64, N<:Any}, Main.MyOptions, Main.Method) in module Main at /home/local/rgower/modernSketches/BigRidge/src/rademacher.jl:66 overwritten at /home/local/rgower/modernSketches/BigRidge/src/rademacher.jl:67.\n",
      "WARNING: Method definition boot_countmin(Main.Prob, Main.MyOptions) in module Main at /home/local/rgower/modernSketches/BigRidge/src/countmin.jl:4 overwritten at /home/local/rgower/modernSketches/BigRidge/src/countmin.jl:4.\n",
      "WARNING: Method definition step_countmin(Main.Prob, Array{Float64, N<:Any}, Main.MyOptions, Main.Method) in module Main at /home/local/rgower/modernSketches/BigRidge/src/countmin.jl:14 overwritten at /home/local/rgower/modernSketches/BigRidge/src/countmin.jl:14.\n",
      "WARNING: Method definition plot_outputs_Plots(Any, Any) in module Main at /home/local/rgower/modernSketches/BigRidge/src/plot_outputs_Plots.jl:3 overwritten at /home/local/rgower/modernSketches/BigRidge/src/plot_outputs_Plots.jl:3.\n"
     ]
    },
    {
     "data": {
      "text/plain": [
       "plot_outputs_Plots (generic function with 1 method)"
      ]
     },
     "execution_count": 60,
     "metadata": {},
     "output_type": "execute_result"
    }
   ],
   "source": [
    "using StatsBase\n",
    "using JLD  \n",
    "include(\"../src/BigRidge.jl\")"
   ]
  },
  {
   "cell_type": "code",
   "execution_count": 61,
   "metadata": {
    "collapsed": true
   },
   "outputs": [],
   "source": [
    "#Basic parameters\n",
    "## Basic parameters\n",
    "maxiter=1000;\n",
    "max_time = 100;\n",
    "max_epocs = 100;\n",
    "printiters = true;\n",
    "exacterror =true; \n",
    "tol = 10.0^(-5.0);\n",
    "restol = 10.0^(-5.0);\n",
    "skip_error_calculation = 25;   # number of iterations where error is not calculated (to save time!) ceil((m)^(1/2))"
   ]
  },
  {
   "cell_type": "code",
   "execution_count": 62,
   "metadata": {
    "collapsed": false
   },
   "outputs": [
    {
     "name": "stdout",
     "output_type": "stream",
     "text": [
      "../data/mnist.scale.jld\n"
     ]
    },
    {
     "data": {
      "text/plain": [
       "Dict{Symbol,Any} with 3 entries:\n",
       "  :sparsity => 0.192183\n",
       "  :dims     => 780\n",
       "  :n        => 60000"
      ]
     },
     "execution_count": 62,
     "metadata": {},
     "output_type": "execute_result"
    }
   ],
   "source": [
    "dataset = \"mnist.scale\"   # mnist.scale  a9a  gisette_scale  rcv1_train.binary\n",
    "prob = defineProb(dataset);\n",
    "showDetails(dataset)"
   ]
  },
  {
   "cell_type": "code",
   "execution_count": 63,
   "metadata": {
    "collapsed": false
   },
   "outputs": [
    {
     "data": {
      "text/plain": [
       "2.2461272716752256e-9"
      ]
     },
     "execution_count": 63,
     "metadata": {},
     "output_type": "execute_result"
    }
   ],
   "source": [
    "norm(prob.A*prob.xsol - prob.b)"
   ]
  },
  {
   "cell_type": "code",
   "execution_count": 64,
   "metadata": {
    "collapsed": true
   },
   "outputs": [],
   "source": [
    "options = MyOptions(0,\"uni\",tol,restol,maxiter,skip_error_calculation,max_time,printiters,exacterror,[]) \n",
    "OUTPUTS = [];"
   ]
  },
  {
   "cell_type": "code",
   "execution_count": 67,
   "metadata": {
    "collapsed": false
   },
   "outputs": [
    {
     "name": "stdout",
     "output_type": "stream",
     "text": [
      "flip signs of rows!\n",
      "rademacher-27\n",
      "-------------------\n",
      "It   | Error% | Residual |  Time   \n",
      "-------------------\n",
      " 25  | 9.56  |  4.70  | 0.1875 \n",
      " 50  | 5.71  |  2.79  | 0.4025 \n",
      " 75  | 4.20  |  2.15  | 0.5666 \n",
      "100  | 3.08  |  1.58  | 0.7181 \n",
      "125  | 2.53  |  1.17  | 0.8915 \n",
      "150  | 2.13  |  1.21  | 1.1447 \n",
      "175  | 1.81  |  0.89  | 1.2822 \n",
      "200  | 1.57  |  0.81  | 1.4232 \n",
      "225  | 1.41  |  0.77  | 1.5549 \n",
      "250  | 1.27  |  0.70  | 1.6910 \n",
      "275  | 1.17  |  0.58  | 1.8274 \n",
      "300  | 1.08  |  0.54  | 1.9756 \n",
      "325  | 0.98  |  0.51  | 2.1166 \n",
      "350  | 0.92  |  0.44  | 2.2653 \n",
      "375  | 0.87  |  0.38  | 2.4057 \n",
      "400  | 0.83  |  0.44  | 2.6133 \n",
      "425  | 0.78  |  0.41  | 2.7512 \n",
      "450  | 0.74  |  0.34  | 2.8809 \n",
      "475  | 0.71  |  0.30  | 3.0527 \n",
      "500  | 0.79  |  0.28  | 3.1938 \n",
      "525  | 0.93  |  0.30  | 3.3295 \n",
      "550  | 0.63  |  0.27  | 3.4698 \n",
      "575  | 0.60  |  0.27  | 3.6122 \n",
      "600  | 0.38  |  0.24  | 3.7798 \n",
      "625  | 0.55  |  0.23  | 3.9504 \n",
      "650  | 0.75  |  0.23  | 4.1455 \n",
      "675  | 0.90  |  0.22  | 4.2940 \n",
      "700  | 0.52  |  0.20  | 4.4300 \n",
      "725  | 0.10  |  0.20  | 4.5690 \n",
      "750  | 0.49  |  0.22  | 4.7270 \n",
      "775  | 0.53  |  0.19  | 4.8986 \n",
      "800  | 0.70  |  0.19  | 5.0600 \n",
      "825  | 0.84  |  0.18  | 5.2023 \n",
      "850  | 0.99  |  0.16  | 5.3484 \n",
      "875  | 0.13  |  0.18  | 5.4877 \n",
      "900  | 0.27  |  0.16  | 5.6273 \n",
      "925  | 0.41  |  0.18  | 5.7569 \n",
      "950  | 0.54  |  0.17  | 5.8895 \n",
      "975  | 0.70  |  0.14  | 6.0466 \n",
      "1000  | 0.39  |  0.16  | 6.2367 \n",
      "  6.370312 seconds (2.04 M allocations: 9.882 GB, 9.85% gc time)\n"
     ]
    }
   ],
   "source": [
    "# Testing Rademarcher Sketch\n",
    "options.AUX = [1.0]; # use sign flipping\n",
    "method_name = \"rademacher\";# ROS\n",
    "options.sketchsize =Int(floor((prob.n)^(1/2)));\n",
    "@time   output= solveRidge(prob, method_name, options);\n",
    "OUTPUTS = [OUTPUTS ; output];"
   ]
  },
  {
   "cell_type": "code",
   "execution_count": 69,
   "metadata": {
    "collapsed": false
   },
   "outputs": [
    {
     "name": "stdout",
     "output_type": "stream",
     "text": [
      "rademacher-27\n",
      "-------------------\n",
      "It   | Error% | Residual |  Time   \n",
      "-------------------\n",
      " 25  | 11.55  |  4.67  | 0.1899 \n",
      " 50  | 6.75  |  2.76  | 0.3464 \n",
      " 75  | 4.81  |  2.12  | 0.5076 \n",
      "100  | 3.73  |  1.72  | 0.6587 \n",
      "125  | 2.87  |  1.66  | 0.8162 \n",
      "150  | 2.30  |  1.08  | 0.9570 \n",
      "175  | 1.93  |  1.01  | 1.1001 \n",
      "200  | 1.68  |  0.84  | 1.2363 \n",
      "225  | 1.46  |  0.84  | 1.3859 \n",
      "250  | 1.32  |  0.66  | 1.5265 \n",
      "275  | 1.18  |  0.62  | 1.6636 \n",
      "300  | 1.08  |  0.55  | 1.8050 \n",
      "325  | 1.00  |  0.58  | 1.9439 \n",
      "350  | 0.93  |  0.47  | 2.0814 \n",
      "375  | 0.87  |  0.43  | 2.2264 \n",
      "400  | 0.83  |  0.41  | 2.3647 \n",
      "425  | 0.78  |  0.36  | 2.5116 \n",
      "450  | 0.75  |  0.39  | 2.6528 \n",
      "475  | 0.71  |  0.34  | 2.7933 \n",
      "500  | 0.68  |  0.31  | 2.9309 \n",
      "525  | 0.65  |  0.30  | 3.0772 \n",
      "550  | 0.80  |  0.28  | 3.2181 \n",
      "575  | 0.94  |  0.27  | 3.3509 \n",
      "600  | 0.86  |  0.25  | 3.4870 \n",
      "625  | 0.57  |  0.23  | 3.6265 \n",
      "650  | 0.55  |  0.25  | 3.7793 \n",
      "675  | 0.54  |  0.24  | 3.9220 \n",
      "700  | 0.70  |  0.22  | 4.0753 \n",
      "725  | 0.84  |  0.23  | 4.2111 \n",
      "750  | 0.90  |  0.19  | 4.3575 \n",
      "775  | 0.48  |  0.20  | 4.4996 \n",
      "800  | 0.28  |  0.20  | 4.6435 \n",
      "825  | 0.46  |  0.20  | 4.7835 \n",
      "850  | 0.57  |  0.19  | 4.9297 \n",
      "875  | 0.70  |  0.17  | 5.0623 \n",
      "900  | 0.85  |  0.17  | 5.2116 \n",
      "925  | 0.99  |  0.17  | 5.3506 \n",
      "950  | 0.14  |  0.16  | 5.4952 \n",
      "975  | 0.28  |  0.15  | 5.6348 \n",
      "1000  | 0.40  |  0.16  | 5.7807 \n",
      "  5.932897 seconds (2.04 M allocations: 9.882 GB, 9.89% gc time)\n"
     ]
    }
   ],
   "source": [
    "options.AUX = [0.0 10]; # don't use sign flipping and use a density of 10 per row\n",
    "method_name = \"rademacher\";# ROS\n",
    "options.sketchsize =floor((prob.n)^(1/2));\n",
    "@time   output= solveRidge(prob, method_name, options);\n",
    "OUTPUTS = [OUTPUTS ; output];"
   ]
  },
  {
   "cell_type": "code",
   "execution_count": 70,
   "metadata": {
    "collapsed": false
   },
   "outputs": [
    {
     "name": "stdout",
     "output_type": "stream",
     "text": [
      "flopsperiter: 25960\n",
      "Hadamard\n",
      "-------------------\n",
      "It   | Error% | Residual |  Time   \n",
      "-------------------\n",
      " 25  | 31.55  |  17.28  | 6.5690 \n",
      " 50  | 22.04  |  10.16  | 12.9013 \n",
      " 75  | 19.03  |  8.22  | 19.1473 \n",
      "100  | 15.57  |  7.10  | 25.4742 \n",
      "125  | 14.31  |  5.97  | 31.7097 \n",
      "150  | 12.63  |  4.60  | 38.0398 \n",
      "175  | 11.63  |  4.63  | 44.2917 \n",
      "200  | 10.76  |  5.08  | 50.6750 \n",
      "225  | 9.06  |  4.46  | 56.9230 \n",
      "250  | 9.34  |  4.04  | 63.2643 \n",
      "275  | 8.75  |  3.93  | 69.4923 \n",
      "300  | 8.25  |  3.52  | 75.8153 \n",
      "325  | 7.73  |  3.12  | 82.0614 \n",
      "350  | 7.37  |  3.17  | 88.3948 \n",
      "375  | 7.07  |  3.29  | 94.6443 \n",
      "397  | 6.85  |  2.80  | 100.1815 \n",
      "100.220228 seconds (1.37 G allocations: 217.372 GB, 33.85% gc time)\n"
     ]
    }
   ],
   "source": [
    "# Testing Hadamard Sketch\n",
    "method_name = \"Hadamard\";# ROS\n",
    "options.sketchsize =10; # Int(floor(log2(prob.n)));\n",
    "options.skip_error_calculation =25;\n",
    "@time  output= solveRidge(prob, method_name, options);\n",
    "OUTPUTS = [OUTPUTS ; output];"
   ]
  },
  {
   "cell_type": "code",
   "execution_count": 71,
   "metadata": {
    "collapsed": false
   },
   "outputs": [
    {
     "name": "stdout",
     "output_type": "stream",
     "text": [
      "countmin\n",
      "-------------------\n",
      "It   | Error% | Residual |  Time   \n",
      "-------------------\n",
      " 25  | 11.64  |  4.72  | 0.2594 \n",
      " 50  | 6.85  |  3.00  | 0.4747 \n",
      " 75  | 4.85  |  2.09  | 0.6864 \n",
      "100  | 3.22  |  1.63  | 0.8900 \n",
      "125  | 3.00  |  1.40  | 1.1024 \n",
      "150  | 2.81  |  1.27  | 1.3071 \n",
      "175  | 2.79  |  1.12  | 1.5185 \n",
      "200  | 1.93  |  0.83  | 1.7233 \n",
      "225  | 1.16  |  0.86  | 1.9307 \n",
      "250  | 1.29  |  0.76  | 2.1406 \n",
      "275  | 1.48  |  0.74  | 2.3498 \n",
      "300  | 1.50  |  0.60  | 2.5486 \n",
      "325  | 1.70  |  0.46  | 2.7553 \n",
      "350  | 1.04  |  0.45  | 2.9697 \n",
      "375  | 0.97  |  0.49  | 3.1806 \n",
      "400  | 0.92  |  0.50  | 3.4115 \n",
      "425  | 0.48  |  0.41  | 3.6254 \n",
      "450  | 0.70  |  0.35  | 3.8314 \n",
      "475  | 0.92  |  0.38  | 4.0408 \n",
      "500  | 0.13  |  0.36  | 4.2542 \n",
      "525  | 0.35  |  0.28  | 4.4675 \n",
      "550  | 0.57  |  0.27  | 4.6781 \n",
      "575  | 0.78  |  0.28  | 4.8867 \n",
      "600  | 0.14  |  0.27  | 5.1003 \n",
      "625  | 0.23  |  0.28  | 5.3137 \n",
      "650  | 0.40  |  0.24  | 5.5279 \n",
      "675  | 0.58  |  0.25  | 5.7429 \n",
      "700  | 0.56  |  0.24  | 5.9608 \n",
      "725  | 0.55  |  0.22  | 6.1645 \n",
      "750  | 0.53  |  0.24  | 6.3827 \n",
      "775  | 0.52  |  0.20  | 6.5927 \n",
      "800  | 0.80  |  0.22  | 6.8273 \n",
      "825  | 0.49  |  0.18  | 7.0564 \n",
      "850  | 0.48  |  0.19  | 7.2861 \n",
      "875  | 0.47  |  0.21  | 7.5195 \n",
      "900  | 0.46  |  0.19  | 7.7485 \n",
      "925  | 0.45  |  0.18  | 7.9790 \n",
      "950  | 0.25  |  0.17  | 8.2129 \n",
      "975  | 0.51  |  0.19  | 8.4506 \n",
      "1000  | 0.86  |  0.16  | 8.7918 \n",
      "  9.176855 seconds (14.96 M allocations: 19.482 GB, 18.18% gc time)\n"
     ]
    }
   ],
   "source": [
    "# Testing countmin \n",
    "options.sketchsize =floor((prob.n)^(1/2));\n",
    "options.skip_error_calculation =25;\n",
    "method_name = \"countmin\";# gradient descent\n",
    "@time output= solveRidge(prob, method_name, options);\n",
    "OUTPUTS = [OUTPUTS ; output];"
   ]
  },
  {
   "cell_type": "code",
   "execution_count": null,
   "metadata": {
    "collapsed": false
   },
   "outputs": [
    {
     "name": "stdout",
     "output_type": "stream",
     "text": [
      "CG\n",
      "-------------------\n",
      "It   | Error% | Residual |  Time   \n",
      "-------------------\n",
      " 25  | 1.25  |  2.94  | 0.0317 \n",
      " 50  | 0.41  |  0.41  | 0.0335 \n",
      " 75  | 0.24  |  0.28  | 0.0354 \n",
      "100  | 0.18  |  0.47  | 0.0372 \n",
      "125  | 0.15  |  0.21  | 0.0391 \n",
      "150  | 0.12  |  0.11  | 0.0409 \n",
      "175  | 0.11  |  0.12  | 0.0428 \n",
      "200  | 0.10  |  0.09  | 0.0447 \n",
      "225  | 0.09  |  0.05  | 0.0465 \n",
      "250  | 0.08  |  0.09  | 0.0483 \n",
      "275  | 0.07  |  0.09  | 0.0501 \n",
      "300  | 0.07  |  0.09  | 0.0520 \n",
      "325  | 0.06  |  0.05  | 0.0538 \n",
      "350  | 0.06  |  0.05  | 0.0556 \n",
      "375  | 0.05  |  0.05  | 0.0596 \n",
      "400  | 0.05  |  0.04  | 0.0615 \n",
      "425  | 0.05  |  0.07  | 0.0632 \n",
      "450  | 0.04  |  0.05  | 0.0650 \n",
      "475  | 0.04  |  0.03  | 0.0668 \n",
      "500  | 0.04  |  0.04  | 0.0686 \n",
      "525  | 0.04  |  0.05  | 0.0704 \n"
     ]
    }
   ],
   "source": [
    "# Testing CG \n",
    "options.skip_error_calculation =25;\n",
    "method_name = \"CG\";# gradient descent\n",
    "@time output= solveRidge(prob, method_name, options);\n",
    "OUTPUTS = [OUTPUTS ; output];"
   ]
  },
  {
   "cell_type": "code",
   "execution_count": null,
   "metadata": {
    "collapsed": true
   },
   "outputs": [],
   "source": [
    "# Testing CD \n",
    "method_name = \"CD\";# gradient descent\n",
    "options.sketchsize = floor((prob.n)^(1/2));\n",
    "@time output= solveRidge(prob, method_name, options);\n",
    "OUTPUTS = [OUTPUTS ; output];"
   ]
  },
  {
   "cell_type": "code",
   "execution_count": 108,
   "metadata": {
    "collapsed": true
   },
   "outputs": [],
   "source": [
    "savename = replace(prob.name, r\"[\\/]\", \"-\");\n",
    "save(\"../data/$(savename)-OUTPUTS.jld\", \"OUTPUTS\", OUTPUTS)"
   ]
  },
  {
   "cell_type": "code",
   "execution_count": 109,
   "metadata": {
    "collapsed": false
   },
   "outputs": [
    {
     "name": "stdout",
     "output_type": "stream",
     "text": [
      "rcv1_train.binary\n"
     ]
    }
   ],
   "source": [
    "#using GR\n",
    "using Plots\n",
    "pgfplots()\n",
    "plot_outputs_Plots(OUTPUTS,savename)"
   ]
  },
  {
   "cell_type": "code",
   "execution_count": 16,
   "metadata": {
    "collapsed": true
   },
   "outputs": [],
   "source": [
    "# Loading saved problem data\n",
    "probname = \"w8a\"#\"gisette_scale-ridge\";  \n",
    "test = load(\"../data/$(probname)-OUTPUTS.jld\")\n",
    "OUTPUTS = test[\"OUTPUTS\"];"
   ]
  },
  {
   "cell_type": "code",
   "execution_count": null,
   "metadata": {
    "collapsed": true
   },
   "outputs": [],
   "source": []
  }
 ],
 "metadata": {
  "anaconda-cloud": {},
  "kernelspec": {
   "display_name": "Julia 0.5.1",
   "language": "julia",
   "name": "julia-0.5"
  },
  "language_info": {
   "file_extension": ".jl",
   "mimetype": "application/julia",
   "name": "julia",
   "version": "0.5.2"
  }
 },
 "nbformat": 4,
 "nbformat_minor": 1
}
