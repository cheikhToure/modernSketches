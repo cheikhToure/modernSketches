{
 "cells": [
  {
   "cell_type": "markdown",
   "metadata": {},
   "source": [
    "The main solving big ridge regression problems"
   ]
  },
  {
   "cell_type": "code",
   "execution_count": 1,
   "metadata": {
    "collapsed": true
   },
   "outputs": [],
   "source": [
    "workspace()"
   ]
  },
  {
   "cell_type": "code",
   "execution_count": 2,
   "metadata": {
    "collapsed": false
   },
   "outputs": [
    {
     "name": "stderr",
     "output_type": "stream",
     "text": [
      "WARNING: Method definition start(Main.Base.Cmd) in module Compat at /home/robert/.julia/v0.5/Compat/src/Compat.jl:608 overwritten in module Compat at /home/robert/.julia/v0.5/Compat/src/Compat.jl:608.\n",
      "WARNING: Method definition expand(Module, ANY<:Any) in module Compat at /home/robert/.julia/v0.5/Compat/src/Compat.jl:575 overwritten in module Compat at /home/robert/.julia/v0.5/Compat/src/Compat.jl:575.\n",
      "WARNING: Method definition isassigned(Main.Base.RefValue) in module Compat at /home/robert/.julia/v0.5/Compat/src/Compat.jl:550 overwritten in module Compat at /home/robert/.julia/v0.5/Compat/src/Compat.jl:550.\n",
      "WARNING: Method definition unsafe_trunc(Type{#T<:Integer}, Integer) in module Compat at /home/robert/.julia/v0.5/Compat/src/Compat.jl:554 overwritten in module Compat at /home/robert/.julia/v0.5/Compat/src/Compat.jl:554.\n",
      "WARNING: Method definition isnull(Any) in module Compat at /home/robert/.julia/v0.5/Compat/src/Compat.jl:410 overwritten in module Compat at /home/robert/.julia/v0.5/Compat/src/Compat.jl:410.\n",
      "WARNING: Method definition eachindex(Main.Base.Cmd) in module Compat at /home/robert/.julia/v0.5/Compat/src/Compat.jl:608 overwritten in module Compat at /home/robert/.julia/v0.5/Compat/src/Compat.jl:608.\n",
      "WARNING: Method definition redirect_stdout(Function, Any) in module Compat at /home/robert/.julia/v0.5/Compat/src/Compat.jl:340 overwritten in module Compat at /home/robert/.julia/v0.5/Compat/src/Compat.jl:340.\n",
      "WARNING: Method definition getindex(Main.Base.Cmd, Any) in module Compat at /home/robert/.julia/v0.5/Compat/src/Compat.jl:611 overwritten in module Compat at /home/robert/.julia/v0.5/Compat/src/Compat.jl:611.\n",
      "WARNING: Method definition redirect_stderr(Function, Any) in module Compat at /home/robert/.julia/v0.5/Compat/src/Compat.jl:340 overwritten in module Compat at /home/robert/.julia/v0.5/Compat/src/Compat.jl:340.\n",
      "WARNING: Method definition bswap(Main.Base.Complex) in module Compat at /home/robert/.julia/v0.5/Compat/src/Compat.jl:559 overwritten in module Compat at /home/robert/.julia/v0.5/Compat/src/Compat.jl:559.\n",
      "WARNING: Method definition redirect_stdin(Function, Any) in module Compat at /home/robert/.julia/v0.5/Compat/src/Compat.jl:340 overwritten in module Compat at /home/robert/.julia/v0.5/Compat/src/Compat.jl:340.\n",
      "WARNING: Method definition eltype(Main.Base.Cmd) in module Compat at /home/robert/.julia/v0.5/Compat/src/Compat.jl:608 overwritten in module Compat at /home/robert/.julia/v0.5/Compat/src/Compat.jl:608.\n",
      "WARNING: Method definition first(Main.Base.Cmd) in module Compat at /home/robert/.julia/v0.5/Compat/src/Compat.jl:608 overwritten in module Compat at /home/robert/.julia/v0.5/Compat/src/Compat.jl:608.\n",
      "WARNING: Method definition macroexpand(Module, ANY<:Any) in module Compat at /home/robert/.julia/v0.5/Compat/src/Compat.jl:576 overwritten in module Compat at /home/robert/.julia/v0.5/Compat/src/Compat.jl:576.\n",
      "WARNING: Method definition ones(AbstractArray) in module Compat at /home/robert/.julia/v0.5/Compat/src/Compat.jl:525 overwritten in module Compat at /home/robert/.julia/v0.5/Compat/src/Compat.jl:525.\n",
      "WARNING: Method definition ones(AbstractArray, Type) in module Compat at /home/robert/.julia/v0.5/Compat/src/Compat.jl:525 overwritten in module Compat at /home/robert/.julia/v0.5/Compat/src/Compat.jl:525.\n",
      "WARNING: Method definition ones(AbstractArray, Type, Tuple) in module Compat at /home/robert/.julia/v0.5/Compat/src/Compat.jl:523 overwritten in module Compat at /home/robert/.julia/v0.5/Compat/src/Compat.jl:523.\n",
      "WARNING: Method definition ones(AbstractArray, Type, Any...) in module Compat at /home/robert/.julia/v0.5/Compat/src/Compat.jl:524 overwritten in module Compat at /home/robert/.julia/v0.5/Compat/src/Compat.jl:524.\n",
      "WARNING: Method definition convert(Type{Main.Base.Set{#T<:Any}}, Main.Base.Set{#T<:Any}) in module Compat at /home/robert/.julia/v0.5/Compat/src/Compat.jl:544 overwritten in module Compat at /home/robert/.julia/v0.5/Compat/src/Compat.jl:544.\n",
      "WARNING: Method definition convert(Type{Main.Base.Set{#T<:Any}}, Main.Base.Set) in module Compat at /home/robert/.julia/v0.5/Compat/src/Compat.jl:545 overwritten in module Compat at /home/robert/.julia/v0.5/Compat/src/Compat.jl:545.\n",
      "WARNING: Method definition broadcast(Any, Tuple{Vararg{T<:Any, #N<:Any}}, Tuple{Vararg{T<:Any, #N<:Any}}...) in module Compat at /home/robert/.julia/v0.5/Compat/src/Compat.jl:395 overwritten in module Compat at /home/robert/.julia/v0.5/Compat/src/Compat.jl:395.\n",
      "WARNING: Method definition zeros(AbstractArray) in module Compat at /home/robert/.julia/v0.5/Compat/src/Compat.jl:525 overwritten in module Compat at /home/robert/.julia/v0.5/Compat/src/Compat.jl:525.\n",
      "WARNING: Method definition zeros(AbstractArray, Type) in module Compat at /home/robert/.julia/v0.5/Compat/src/Compat.jl:525 overwritten in module Compat at /home/robert/.julia/v0.5/Compat/src/Compat.jl:525.\n",
      "WARNING: Method definition zeros(AbstractArray, Type, Tuple) in module Compat at /home/robert/.julia/v0.5/Compat/src/Compat.jl:523 overwritten in module Compat at /home/robert/.julia/v0.5/Compat/src/Compat.jl:523.\n",
      "WARNING: Method definition zeros(AbstractArray, Type, Any...) in module Compat at /home/robert/.julia/v0.5/Compat/src/Compat.jl:524 overwritten in module Compat at /home/robert/.julia/v0.5/Compat/src/Compat.jl:524.\n",
      "WARNING: Method definition next(Main.Base.Cmd, Any) in module Compat at /home/robert/.julia/v0.5/Compat/src/Compat.jl:611 overwritten in module Compat at /home/robert/.julia/v0.5/Compat/src/Compat.jl:611.\n",
      "WARNING: Method definition isless(Union{Main.Base.Dates.Second, Main.Base.Dates.Week, Main.Base.Dates.Day, Main.Base.Dates.Minute, Main.Base.Dates.Hour, Main.Base.Dates.Millisecond}, Union{Main.Base.Dates.Month, Main.Base.Dates.Year}) in module Compat at /home/robert/.julia/v0.5/Compat/src/Compat.jl:625 overwritten in module Compat at /home/robert/.julia/v0.5/Compat/src/Compat.jl:625.\n",
      "WARNING: Method definition isless(Union{Main.Base.Dates.Month, Main.Base.Dates.Year}, Union{Main.Base.Dates.Second, Main.Base.Dates.Week, Main.Base.Dates.Day, Main.Base.Dates.Minute, Main.Base.Dates.Hour, Main.Base.Dates.Millisecond}) in module Compat at /home/robert/.julia/v0.5/Compat/src/Compat.jl:626 overwritten in module Compat at /home/robert/.julia/v0.5/Compat/src/Compat.jl:626.\n",
      "WARNING: Method definition isless(Main.Base.Dates.Period, Main.Base.Dates.Period) in module Compat at /home/robert/.julia/v0.5/Compat/src/Compat.jl:620 overwritten in module Compat at /home/robert/.julia/v0.5/Compat/src/Compat.jl:620.\n",
      "WARNING: Method definition endof(Main.Base.Cmd) in module Compat at /home/robert/.julia/v0.5/Compat/src/Compat.jl:608 overwritten in module Compat at /home/robert/.julia/v0.5/Compat/src/Compat.jl:608.\n",
      "WARNING: Method definition !(Function) in module Compat at /home/robert/.julia/v0.5/Compat/src/Compat.jl:452 overwritten in module Compat at /home/robert/.julia/v0.5/Compat/src/Compat.jl:452.\n",
      "WARNING: Method definition length(Main.Base.Cmd) in module Compat at /home/robert/.julia/v0.5/Compat/src/Compat.jl:608 overwritten in module Compat at /home/robert/.julia/v0.5/Compat/src/Compat.jl:608.\n",
      "WARNING: Method definition last(Main.Base.Cmd) in module Compat at /home/robert/.julia/v0.5/Compat/src/Compat.jl:608 overwritten in module Compat at /home/robert/.julia/v0.5/Compat/src/Compat.jl:608.\n",
      "WARNING: Method definition include_string(Module, String, String) in module Compat at /home/robert/.julia/v0.5/Compat/src/Compat.jl:577 overwritten in module Compat at /home/robert/.julia/v0.5/Compat/src/Compat.jl:577.\n",
      "WARNING: Method definition include_string(Module, AbstractString) in module Compat at /home/robert/.julia/v0.5/Compat/src/Compat.jl:579 overwritten in module Compat at /home/robert/.julia/v0.5/Compat/src/Compat.jl:579.\n",
      "WARNING: Method definition include_string(Module, AbstractString, AbstractString) in module Compat at /home/robert/.julia/v0.5/Compat/src/Compat.jl:579 overwritten in module Compat at /home/robert/.julia/v0.5/Compat/src/Compat.jl:579.\n",
      "WARNING: Method definition logdet(Any) in module Compat at /home/robert/.julia/v0.5/Compat/src/Compat.jl:638 overwritten in module Compat at /home/robert/.julia/v0.5/Compat/src/Compat.jl:638.\n",
      "WARNING: Method definition chol!(Main.Base.LinAlg.UniformScaling, Any) in module Compat at /home/robert/.julia/v0.5/Compat/src/Compat.jl:644 overwritten in module Compat at /home/robert/.julia/v0.5/Compat/src/Compat.jl:644.\n",
      "WARNING: Method definition chol(Main.Base.LinAlg.UniformScaling, Any...) in module Compat at /home/robert/.julia/v0.5/Compat/src/Compat.jl:645 overwritten in module Compat at /home/robert/.julia/v0.5/Compat/src/Compat.jl:645.\n",
      "WARNING: Method definition done(Main.Base.Cmd, Any) in module Compat at /home/robert/.julia/v0.5/Compat/src/Compat.jl:611 overwritten in module Compat at /home/robert/.julia/v0.5/Compat/src/Compat.jl:611.\n",
      "WARNING: Method definition take!(Task) in module Compat at /home/robert/.julia/v0.5/Compat/src/Compat.jl:11 overwritten in module Compat at /home/robert/.julia/v0.5/Compat/src/Compat.jl:11.\n",
      "WARNING: Method definition take!(Main.Base.AbstractIOBuffer) in module Compat at /home/robert/.julia/v0.5/Compat/src/Compat.jl:445 overwritten in module Compat at /home/robert/.julia/v0.5/Compat/src/Compat.jl:445.\n",
      "WARNING: Method definition ==(Union{Main.Base.Dates.Second, Main.Base.Dates.Week, Main.Base.Dates.Day, Main.Base.Dates.Minute, Main.Base.Dates.Hour, Main.Base.Dates.Millisecond}, Union{Main.Base.Dates.Month, Main.Base.Dates.Year}) in module Compat at /home/robert/.julia/v0.5/Compat/src/Compat.jl:623 overwritten in module Compat at /home/robert/.julia/v0.5/Compat/src/Compat.jl:623.\n",
      "WARNING: Method definition ==(Union{Main.Base.Dates.Month, Main.Base.Dates.Year}, Union{Main.Base.Dates.Second, Main.Base.Dates.Week, Main.Base.Dates.Day, Main.Base.Dates.Minute, Main.Base.Dates.Hour, Main.Base.Dates.Millisecond}) in module Compat at /home/robert/.julia/v0.5/Compat/src/Compat.jl:624 overwritten in module Compat at /home/robert/.julia/v0.5/Compat/src/Compat.jl:624.\n",
      "WARNING: Method definition ==(Main.Base.Dates.Period, Main.Base.Dates.Period) in module Compat at /home/robert/.julia/v0.5/Compat/src/Compat.jl:619 overwritten in module Compat at /home/robert/.julia/v0.5/Compat/src/Compat.jl:619.\n",
      "WARNING: Method definition (::Type{Main.Base.LinearIndexing})(Type{#T<:Any}) in module Compat at /home/robert/.julia/v0.5/Compat/src/Compat.jl:515 overwritten in module Compat at /home/robert/.julia/v0.5/Compat/src/Compat.jl:515.\n",
      "WARNING: Method definition (::Type{Main.Base.LinearIndexing})(Any...) in module Compat at /home/robert/.julia/v0.5/Compat/src/Compat.jl:516 overwritten in module Compat at /home/robert/.julia/v0.5/Compat/src/Compat.jl:516.\n",
      "WARNING: Method definition (::Type{Main.Base.Val})(Any) in module Compat at /home/robert/.julia/v0.5/Compat/src/Compat.jl:632 overwritten in module Compat at /home/robert/.julia/v0.5/Compat/src/Compat.jl:632.\n"
     ]
    }
   ],
   "source": [
    "using Plots"
   ]
  },
  {
   "cell_type": "code",
   "execution_count": 3,
   "metadata": {
    "collapsed": false
   },
   "outputs": [
    {
     "data": {
      "text/plain": [
       "plot_outputs_Plots (generic function with 1 method)"
      ]
     },
     "execution_count": 3,
     "metadata": {},
     "output_type": "execute_result"
    }
   ],
   "source": [
    "using StatsBase\n",
    "using JLD  \n",
    "include(\"../src/BigRidge.jl\")"
   ]
  },
  {
   "cell_type": "code",
   "execution_count": 4,
   "metadata": {
    "collapsed": true
   },
   "outputs": [],
   "source": [
    "## Basic parameters\n",
    "maxiter=2000;\n",
    "max_time = 200;\n",
    "max_epocs = 100;\n",
    "printiters = true;\n",
    "exacterror =true; \n",
    "tol = 10.0^(-5.0);\n",
    "restol = 10.0^(-5.0);\n",
    "skip_error_calculation = 25;   # number of iterations where error is not calculated (to save time!) ceil((m)^(1/2))"
   ]
  },
  {
   "cell_type": "code",
   "execution_count": 52,
   "metadata": {
    "collapsed": false
   },
   "outputs": [
    {
     "name": "stdout",
     "output_type": "stream",
     "text": [
      "../data/gisette_scale.jld\n"
     ]
    },
    {
     "ename": "LoadError",
     "evalue": "File ../data/gisette_scale.jld cannot be found",
     "output_type": "error",
     "traceback": [
      "File ../data/gisette_scale.jld cannot be found",
      "",
      " in #jldopen#9(::Bool, ::Bool, ::Bool, ::Function, ::String, ::Bool, ::Bool, ::Bool, ::Bool, ::Bool) at /home/robert/.julia/v0.5/JLD/src/JLD.jl:164",
      " in (::JLD.#kw##jldopen)(::Array{Any,1}, ::JLD.#jldopen, ::String, ::Bool, ::Bool, ::Bool, ::Bool, ::Bool) at ./<missing>:0",
      " in #jldopen#10(::Bool, ::Bool, ::Bool, ::Function, ::String, ::String) at /home/robert/.julia/v0.5/JLD/src/JLD.jl:244",
      " in jldopen(::String, ::String) at /home/robert/.julia/v0.5/JLD/src/JLD.jl:244",
      " in #jldopen#11(::Array{Any,1}, ::Function, ::JLD.##43#45{Tuple{String,String}}, ::String, ::Vararg{String,N}) at /home/robert/.julia/v0.5/JLD/src/JLD.jl:254",
      " in load(::FileIO.File{FileIO.DataFormat{:JLD}}, ::String, ::String, ::Vararg{String,N}) at /home/robert/.julia/v0.5/JLD/src/JLD.jl:1280",
      " in #load#13(::Array{Any,1}, ::Function, ::String, ::String, ::Vararg{String,N}) at /home/robert/.julia/v0.5/FileIO/src/loadsave.jl:52",
      " in defineProb(::String) at /home/robert/git/Toure_cheikh_modernSketches/BigRidge/src/defineProb.jl:3",
      " in include_string(::String, ::String) at ./loading.jl:441"
     ]
    }
   ],
   "source": [
    "dataset = \"gisette_scale\"   # news20.binary  rcv1_train.multiclass rcv1_train.binary mnist.scale  a9a  gisette_scale \n",
    "prob = defineProb(dataset);\n",
    "showDetails(dataset)"
   ]
  },
  {
   "cell_type": "code",
   "execution_count": 43,
   "metadata": {
    "collapsed": false
   },
   "outputs": [
    {
     "data": {
      "text/plain": [
       "1.967333493545081e-11"
      ]
     },
     "execution_count": 43,
     "metadata": {},
     "output_type": "execute_result"
    }
   ],
   "source": [
    "norm(prob.A*prob.xsol - prob.b)"
   ]
  },
  {
   "cell_type": "code",
   "execution_count": 44,
   "metadata": {
    "collapsed": true
   },
   "outputs": [],
   "source": [
    "options = MyOptions(0,\"uni\",tol,restol,maxiter,skip_error_calculation,max_time,printiters,exacterror,[]) \n",
    "OUTPUTS = [];"
   ]
  },
  {
   "cell_type": "code",
   "execution_count": 45,
   "metadata": {
    "collapsed": false
   },
   "outputs": [
    {
     "name": "stdout",
     "output_type": "stream",
     "text": [
      "rademacher-11-2\n",
      "-------------------\n",
      "It   | Error% | Residual |  Time   \n",
      "-------------------\n",
      " 25  | 0.97  |  1.25  | 0.0115 \n",
      " 50  | 0.27  |  0.32  | 0.0153 \n",
      " 75  | 0.18  |  0.19  | 0.0269 \n",
      "100  | 0.12  |  0.18  | 0.0355 \n",
      "125  | 0.09  |  0.12  | 0.0428 \n",
      "150  | 0.07  |  0.12  | 0.0541 \n",
      "175  | 0.06  |  0.12  | 0.0644 \n",
      "200  | 0.05  |  0.11  | 0.0736 \n",
      "225  | 0.03  |  0.08  | 0.0834 \n",
      "250  | 0.02  |  0.07  | 0.1088 \n",
      "275  | 0.02  |  0.07  | 0.1184 \n",
      "300  | 0.01  |  0.06  | 0.1279 \n",
      "325  | 0.06  |  0.06  | 0.1401 \n",
      "350  | 0.01  |  0.04  | 0.1537 \n",
      "375  | 0.01  |  0.05  | 0.1631 \n",
      "400  | 0.01  |  0.04  | 0.1728 \n",
      "425  | 0.01  |  0.05  | 0.1820 \n",
      "450  | 0.00  |  0.03  | 0.1871 \n",
      "475  | 0.00  |  0.03  | 0.1913 \n",
      "500  | 0.00  |  0.03  | 0.1975 \n",
      "525  | 0.00  |  0.02  | 0.2011 \n",
      "550  | 0.00  |  0.02  | 0.2048 \n",
      "575  | 0.00  |  0.02  | 0.2085 \n",
      "600  | 0.00  |  0.02  | 0.2131 \n",
      "625  | 0.00  |  0.01  | 0.2176 \n",
      "650  | 0.00  |  0.01  | 0.2212 \n",
      "  0.262219 seconds (212.28 k allocations: 34.774 MB, 3.25% gc time)\n",
      "change rho density to n/s: 2\n",
      "rademacher-50-5\n",
      "-------------------\n",
      "It   | Error% | Residual |  Time   \n",
      "-------------------\n",
      " 25  | 0.01  |  0.04  | 0.0211 \n",
      " 50  | 0.00  |  0.00  | 0.0633 \n",
      "  0.075124 seconds (67.52 k allocations: 14.899 MB, 6.01% gc time)\n",
      "rademacher-5-10\n",
      "-------------------\n",
      "It   | Error% | Residual |  Time   \n",
      "-------------------\n",
      " 25  | 4.43  |  2.89  | 0.0024 \n",
      " 50  | 2.22  |  1.64  | 0.0047 \n",
      " 75  | 1.20  |  1.22  | 0.0086 \n",
      "100  | 0.80  |  0.81  | 0.0109 \n",
      "125  | 0.60  |  0.52  | 0.0174 \n",
      "150  | 0.49  |  0.44  | 0.0198 \n",
      "175  | 0.41  |  0.45  | 0.0228 \n",
      "200  | 0.32  |  0.29  | 0.0252 \n",
      "225  | 0.28  |  0.27  | 0.0275 \n",
      "250  | 0.24  |  0.26  | 0.0299 \n",
      "275  | 0.22  |  0.24  | 0.0322 \n",
      "300  | 0.20  |  0.19  | 0.0346 \n",
      "325  | 0.18  |  0.21  | 0.0369 \n",
      "350  | 0.16  |  0.17  | 0.0647 \n",
      "375  | 0.15  |  0.14  | 0.0671 \n",
      "400  | 0.14  |  0.14  | 0.0694 \n",
      "425  | 0.13  |  0.13  | 0.0718 \n",
      "450  | 0.12  |  0.13  | 0.0778 \n",
      "475  | 0.12  |  0.12  | 0.0803 \n",
      "500  | 0.11  |  0.12  | 0.0827 \n",
      "525  | 0.10  |  0.09  | 0.0850 \n",
      "550  | 0.10  |  0.14  | 0.0874 \n",
      "575  | 0.09  |  0.11  | 0.0897 \n",
      "600  | 0.08  |  0.09  | 0.0920 \n",
      "625  | 0.08  |  0.09  | 0.0944 \n",
      "650  | 0.08  |  0.09  | 0.0967 \n",
      "675  | 0.07  |  0.08  | 0.0990 \n",
      "700  | 0.07  |  0.07  | 0.1014 \n",
      "725  | 0.07  |  0.08  | 0.1037 \n",
      "750  | 0.06  |  0.08  | 0.1071 \n",
      "775  | 0.06  |  0.07  | 0.1126 \n",
      "800  | 0.06  |  0.08  | 0.1150 \n",
      "825  | 0.06  |  0.07  | 0.1174 \n",
      "850  | 0.05  |  0.07  | 0.1198 \n",
      "875  | 0.09  |  0.06  | 0.1221 \n",
      "900  | 0.05  |  0.06  | 0.1469 \n",
      "925  | 0.05  |  0.05  | 0.1495 \n",
      "950  | 0.05  |  0.05  | 0.1518 \n",
      "975  | 0.04  |  0.06  | 0.1542 \n",
      "1000  | 0.04  |  0.05  | 0.1565 \n",
      "1025  | 0.04  |  0.05  | 0.1613 \n",
      "1050  | 0.04  |  0.05  | 0.1649 \n",
      "1075  | 0.04  |  0.05  | 0.1672 \n",
      "1100  | 0.04  |  0.05  | 0.1727 \n",
      "1125  | 0.04  |  0.05  | 0.1751 \n",
      "1150  | 0.04  |  0.04  | 0.1775 \n",
      "1175  | 0.04  |  0.04  | 0.1799 \n",
      "1200  | 0.03  |  0.04  | 0.1822 \n",
      "1225  | 0.03  |  0.04  | 0.1845 \n",
      "1250  | 0.03  |  0.04  | 0.1869 \n",
      "1275  | 0.03  |  0.04  | 0.1892 \n",
      "1300  | 0.03  |  0.04  | 0.1916 \n",
      "1325  | 0.03  |  0.04  | 0.1939 \n",
      "1350  | 0.03  |  0.03  | 0.1962 \n",
      "1375  | 0.03  |  0.04  | 0.1986 \n",
      "1400  | 0.03  |  0.03  | 0.2009 \n",
      "1425  | 0.03  |  0.03  | 0.2032 \n",
      "1450  | 0.09  |  0.04  | 0.2088 \n",
      "1475  | 0.03  |  0.04  | 0.2393 \n",
      "1500  | 0.03  |  0.03  | 0.2417 \n",
      "1525  | 0.02  |  0.03  | 0.2440 \n",
      "1550  | 0.02  |  0.04  | 0.2498 \n",
      "1575  | 0.02  |  0.03  | 0.2522 \n",
      "1600  | 0.02  |  0.03  | 0.2545 \n",
      "1625  | 0.02  |  0.03  | 0.2569 \n",
      "1650  | 0.02  |  0.03  | 0.2592 \n",
      "1675  | 0.02  |  0.03  | 0.2615 \n",
      "1700  | 0.02  |  0.03  | 0.2639 \n",
      "1725  | 0.02  |  0.03  | 0.2662 \n",
      "1750  | 0.02  |  0.03  | 0.2685 \n",
      "1775  | 0.02  |  0.03  | 0.2741 \n",
      "1800  | 0.02  |  0.03  | 0.2765 \n",
      "1825  | 0.02  |  0.03  | 0.2788 \n",
      "1850  | 0.02  |  0.03  | 0.2812 \n",
      "1875  | 0.02  |  0.03  | 0.2835 \n",
      "1900  | 0.02  |  0.03  | 0.2858 \n",
      "1925  | 0.02  |  0.03  | 0.2882 \n",
      "1950  | 0.02  |  0.02  | 0.2905 \n",
      "1975  | 0.02  |  0.02  | 0.2928 \n",
      "2000  | 0.02  |  0.03  | 0.2952 \n",
      "  0.349931 seconds (338.00 k allocations: 132.745 MB, 5.49% gc time)\n",
      "rademacher-2-50\n",
      "-------------------\n",
      "It   | Error% | Residual |  Time   \n",
      "-------------------\n",
      " 25  | 22.53  |  9.54  | 0.0022 \n",
      " 50  | 13.35  |  6.77  | 0.0043 \n",
      " 75  | 8.61  |  4.61  | 0.0102 \n",
      "100  | 7.21  |  3.67  | 0.0124 \n",
      "125  | 5.43  |  2.79  | 0.0145 \n",
      "150  | 4.99  |  2.90  | 0.0166 \n",
      "175  | 4.05  |  2.25  | 0.0187 \n",
      "200  | 3.47  |  2.10  | 0.0208 \n",
      "225  | 3.02  |  1.75  | 0.0230 \n",
      "250  | 2.60  |  1.72  | 0.0251 \n",
      "275  | 2.29  |  1.68  | 0.0298 \n",
      "300  | 1.97  |  1.37  | 0.0319 \n",
      "325  | 1.80  |  1.28  | 0.0340 \n",
      "350  | 1.67  |  1.07  | 0.0361 \n",
      "375  | 1.58  |  0.98  | 0.0382 \n",
      "400  | 1.43  |  0.94  | 0.0404 \n",
      "425  | 1.31  |  0.98  | 0.0425 \n",
      "450  | 1.25  |  0.98  | 0.0446 \n",
      "475  | 1.12  |  0.88  | 0.0493 \n",
      "500  | 1.08  |  0.77  | 0.0514 \n",
      "525  | 1.00  |  0.69  | 0.0535 \n",
      "550  | 0.93  |  0.68  | 0.0556 \n",
      "575  | 0.86  |  0.62  | 0.0857 \n",
      "600  | 0.84  |  0.57  | 0.0900 \n",
      "625  | 0.80  |  0.64  | 0.0926 \n",
      "650  | 0.75  |  0.53  | 0.0947 \n",
      "675  | 0.73  |  0.53  | 0.0995 \n",
      "700  | 0.70  |  0.47  | 0.1016 \n",
      "725  | 0.67  |  0.41  | 0.1038 \n",
      "750  | 0.64  |  0.43  | 0.1061 \n",
      "775  | 0.63  |  0.40  | 0.1082 \n",
      "800  | 0.61  |  0.38  | 0.1103 \n",
      "825  | 0.60  |  0.36  | 0.1124 \n",
      "850  | 0.58  |  0.38  | 0.1145 \n",
      "875  | 0.57  |  0.41  | 0.1196 \n",
      "900  | 0.55  |  0.35  | 0.1217 \n",
      "925  | 0.54  |  0.35  | 0.1238 \n",
      "950  | 0.53  |  0.32  | 0.1259 \n",
      "975  | 0.52  |  0.33  | 0.1281 \n",
      "1000  | 0.51  |  0.30  | 0.1302 \n",
      "1025  | 0.49  |  0.34  | 0.1323 \n",
      "1050  | 0.48  |  0.29  | 0.1344 \n",
      "1075  | 0.39  |  0.28  | 0.1390 \n",
      "1100  | 0.47  |  0.28  | 0.1676 \n",
      "1125  | 0.46  |  0.29  | 0.1756 \n",
      "1150  | 0.46  |  0.32  | 0.1831 \n",
      "1175  | 0.44  |  0.28  | 0.1906 \n",
      "1200  | 0.44  |  0.27  | 0.1985 \n",
      "1225  | 0.43  |  0.32  | 0.2037 \n",
      "1250  | 0.42  |  0.27  | 0.2135 \n",
      "1275  | 0.42  |  0.29  | 0.2246 \n",
      "1300  | 0.41  |  0.28  | 0.2307 \n",
      "1325  | 0.40  |  0.25  | 0.2385 \n",
      "1350  | 0.39  |  0.25  | 0.2459 \n",
      "1375  | 0.39  |  0.24  | 0.2482 \n",
      "1400  | 0.38  |  0.24  | 0.2507 \n",
      "1425  | 0.38  |  0.23  | 0.2528 \n",
      "1450  | 0.37  |  0.22  | 0.2549 \n",
      "1475  | 0.37  |  0.24  | 0.2596 \n",
      "1500  | 0.36  |  0.24  | 0.2617 \n",
      "1525  | 0.35  |  0.25  | 0.2640 \n",
      "1550  | 0.35  |  0.26  | 0.2662 \n",
      "1575  | 0.35  |  0.22  | 0.2684 \n",
      "1600  | 0.34  |  0.22  | 0.2705 \n",
      "1625  | 0.33  |  0.22  | 0.2726 \n",
      "1650  | 0.33  |  0.21  | 0.2748 \n",
      "1675  | 0.32  |  0.25  | 0.2794 \n",
      "1700  | 0.32  |  0.22  | 0.2826 \n",
      "1725  | 0.31  |  0.20  | 0.2848 \n",
      "1750  | 0.31  |  0.22  | 0.2869 \n",
      "1775  | 0.30  |  0.21  | 0.2890 \n",
      "1800  | 0.30  |  0.21  | 0.2911 \n",
      "1825  | 0.29  |  0.17  | 0.2932 \n",
      "1850  | 0.29  |  0.20  | 0.2954 \n",
      "1875  | 0.28  |  0.18  | 0.3001 \n",
      "1900  | 0.28  |  0.23  | 0.3023 \n",
      "1925  | 0.28  |  0.18  | 0.3045 \n",
      "1950  | 0.27  |  0.18  | 0.3066 \n",
      "1975  | 0.27  |  0.18  | 0.3088 \n",
      "2000  | 0.26  |  0.18  | 0.3109 \n",
      "  0.442962 seconds (184.59 k allocations: 217.608 MB, 5.78% gc time)\n"
     ]
    }
   ],
   "source": [
    "options.AUX = [0 2]; # don't use sign flipping and use a density of 10 per row\n",
    "method_name = \"rademacher\";# ROS\n",
    "options.sketchsize = floor((prob.n)^(1/2)); #\n",
    "@time   output= solveRidge(prob, method_name, options);\n",
    "OUTPUTS = [OUTPUTS ; output];\n",
    "options.AUX = [0 5]; # don't use sign flipping and use a density of 10 per row\n",
    "method_name = \"rademacher\";# ROS\n",
    "options.sketchsize = 50; #floor((prob.n)^(1/2));\n",
    "@time   output= solveRidge(prob, method_name, options);\n",
    "OUTPUTS = [OUTPUTS ; output];\n",
    "options.AUX = [0 10]; # don't use sign flipping and use a density of 10 per row\n",
    "method_name = \"rademacher\";# ROS\n",
    "options.sketchsize = 5; #floor((prob.n)^(1/2));\n",
    "@time   output= solveRidge(prob, method_name, options);\n",
    "OUTPUTS = [OUTPUTS ; output];\n",
    "options.AUX = [0 50]; # don't use sign flipping and use a density of 10 per row\n",
    "method_name = \"rademacher\";# ROS\n",
    "options.sketchsize = 2; #floor((prob.n)^(1/2));\n",
    "@time   output= solveRidge(prob, method_name, options);\n",
    "OUTPUTS = [OUTPUTS ; output];"
   ]
  },
  {
   "cell_type": "code",
   "execution_count": 46,
   "metadata": {
    "collapsed": true
   },
   "outputs": [],
   "source": [
    "# Testing Hadamard Sketch\n",
    "# method_name = \"Hadamard\";# ROS\n",
    "# options.sketchsize =10; # Int(floor(log2(prob.n)));\n",
    "# options.skip_error_calculation =25;\n",
    "# @time  output= solveRidge(prob, method_name, options);\n",
    "# OUTPUTS = [OUTPUTS ; output];"
   ]
  },
  {
   "cell_type": "code",
   "execution_count": 47,
   "metadata": {
    "collapsed": false
   },
   "outputs": [],
   "source": [
    "# Testing countmin \n",
    "# options.sketchsize =10;#floor((prob.n)^(1/2));\n",
    "# options.skip_error_calculation =25;\n",
    "# method_name = \"countmin\";# gradient descent\n",
    "# @time output= solveRidge(prob, method_name, options);\n",
    "# OUTPUTS = [OUTPUTS ; output];"
   ]
  },
  {
   "cell_type": "code",
   "execution_count": 48,
   "metadata": {
    "collapsed": false
   },
   "outputs": [
    {
     "name": "stdout",
     "output_type": "stream",
     "text": [
      "CG\n",
      "-------------------\n",
      "It   | Error% | Residual |  Time   \n",
      "-------------------\n",
      " 25  | 0.03  |  0.06  | 0.0018 \n",
      " 50  | 0.00  |  0.02  | 0.0039 \n",
      " 75  | 0.00  |  0.01  | 0.0044 \n",
      "  0.013195 seconds (3.04 k allocations: 723.672 KB)\n"
     ]
    }
   ],
   "source": [
    "# Testing CG \n",
    "method_name = \"CG\";# gradient descent\n",
    "@time output= solveRidge(prob, method_name, options);\n",
    "OUTPUTS = [OUTPUTS ; output];"
   ]
  },
  {
   "cell_type": "code",
   "execution_count": 49,
   "metadata": {
    "collapsed": false
   },
   "outputs": [
    {
     "name": "stdout",
     "output_type": "stream",
     "text": [
      "CD-10\n",
      "-------------------\n",
      "It   | Error% | Residual |  Time   \n",
      "-------------------\n",
      " 50  | 0.21  |  0.85  | 0.0048 \n",
      "100  | 0.06  |  0.13  | 0.0138 \n",
      "150  | 0.04  |  0.16  | 0.0152 \n",
      "200  | 0.03  |  0.08  | 0.0206 \n",
      "250  | 0.02  |  0.06  | 0.0279 \n",
      "300  | 0.01  |  0.08  | 0.0338 \n",
      "350  | 0.01  |  0.05  | 0.0353 \n",
      "400  | 0.01  |  0.05  | 0.0450 \n",
      "450  | 0.01  |  0.05  | 0.0467 \n",
      "500  | 0.01  |  0.05  | 0.0483 \n",
      "550  | 0.00  |  0.03  | 0.0499 \n",
      "600  | 0.00  |  0.02  | 0.0514 \n",
      "650  | 0.00  |  0.03  | 0.0535 \n",
      "700  | 0.00  |  0.02  | 0.0569 \n",
      "750  | 0.00  |  0.02  | 0.0610 \n",
      "800  | 0.00  |  0.03  | 0.0651 \n",
      "850  | 0.00  |  0.01  | 0.0694 \n",
      "  0.109809 seconds (36.16 k allocations: 12.460 MB, 2.78% gc time)\n",
      "CD-50\n",
      "-------------------\n",
      "It   | Error% | Residual |  Time   \n",
      "-------------------\n",
      "  5  | 0.61  |  1.05  | 0.0025 \n",
      " 10  | 0.08  |  0.29  | 0.0046 \n",
      " 15  | 0.03  |  0.14  | 0.0066 \n",
      " 20  | 0.02  |  0.09  | 0.0085 \n",
      " 25  | 0.02  |  0.07  | 0.0107 \n",
      " 30  | 0.01  |  0.05  | 0.0128 \n",
      " 35  | 0.01  |  0.05  | 0.0148 \n",
      " 40  | 0.01  |  0.04  | 0.0168 \n",
      " 45  | 0.01  |  0.04  | 0.0190 \n",
      " 50  | 0.00  |  0.04  | 0.0232 \n",
      " 55  | 0.00  |  0.05  | 0.0254 \n",
      " 60  | 0.00  |  0.01  | 0.0283 \n",
      "  0.045151 seconds (7.61 k allocations: 5.752 MB)\n"
     ]
    }
   ],
   "source": [
    "# Testing CD \n",
    "options.maxiter=5000;\n",
    "options.skip_error_calculation = 50;\n",
    "method_name = \"CD\";# gradient descent\n",
    "options.sketchsize = 10;#floor((prob.n)^(1/2));\n",
    "@time output= solveRidge(prob, method_name, options);\n",
    "OUTPUTS = [OUTPUTS ; output];\n",
    "method_name = \"CD\";# gradient descent\n",
    "options.skip_error_calculation = 5;\n",
    "options.sketchsize = 50;\n",
    "@time output= solveRidge(prob, method_name, options);\n",
    "OUTPUTS = [OUTPUTS ; output];"
   ]
  },
  {
   "cell_type": "code",
   "execution_count": 50,
   "metadata": {
    "collapsed": true
   },
   "outputs": [],
   "source": [
    "savename = replace(prob.name, r\"[\\/]\", \"-\");\n",
    "save(\"../data/$(savename)-OUTPUTS.jld\", \"OUTPUTS\", OUTPUTS)"
   ]
  },
  {
   "cell_type": "code",
   "execution_count": 51,
   "metadata": {
    "collapsed": false
   },
   "outputs": [
    {
     "name": "stdout",
     "output_type": "stream",
     "text": [
      "a9a\n"
     ]
    }
   ],
   "source": [
    "#using GR\n",
    "using Plots\n",
    "pgfplots()\n",
    "plot_outputs_Plots(OUTPUTS,savename)"
   ]
  }
 ],
 "metadata": {
  "anaconda-cloud": {},
  "kernelspec": {
   "display_name": "Julia 0.5.2",
   "language": "julia",
   "name": "julia-0.5"
  },
  "language_info": {
   "file_extension": ".jl",
   "mimetype": "application/julia",
   "name": "julia",
   "version": "0.5.2"
  }
 },
 "nbformat": 4,
 "nbformat_minor": 1
}
