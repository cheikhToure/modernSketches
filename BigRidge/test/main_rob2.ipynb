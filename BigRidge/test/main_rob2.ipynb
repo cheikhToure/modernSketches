{
 "cells": [
  {
   "cell_type": "markdown",
   "metadata": {},
   "source": [
    "The main solving big ridge regression problems"
   ]
  },
  {
   "cell_type": "code",
   "execution_count": 1,
   "metadata": {},
   "outputs": [],
   "source": [
    "workspace()"
   ]
  },
  {
   "cell_type": "code",
   "execution_count": 2,
   "metadata": {},
   "outputs": [
    {
     "name": "stderr",
     "output_type": "stream",
     "text": [
      "WARNING: Method definition (::Type{Main.Base.LinearIndexing})(Type{#T<:Any}) in module Compat at /home/ROCQ/sierra/rgower/.julia/v0.5/Compat/src/Compat.jl:1430 overwritten in module Compat at /home/ROCQ/sierra/rgower/.julia/v0.5/Compat/src/Compat.jl:1430.\n",
      "WARNING: Method definition (::Type{Main.Base.LinearIndexing})(Any...) in module Compat at /home/ROCQ/sierra/rgower/.julia/v0.5/Compat/src/Compat.jl:1431 overwritten in module Compat at /home/ROCQ/sierra/rgower/.julia/v0.5/Compat/src/Compat.jl:1431.\n",
      "WARNING: Method definition unsafe_trunc(Type{#T<:Integer}, Integer) in module Compat at /home/ROCQ/sierra/rgower/.julia/v0.5/Compat/src/Compat.jl:1469 overwritten in module Compat at /home/ROCQ/sierra/rgower/.julia/v0.5/Compat/src/Compat.jl:1469.\n",
      "WARNING: Method definition convert(Type{Main.Base.Set{#T<:Any}}, Main.Base.Set{#T<:Any}) in module Compat at /home/ROCQ/sierra/rgower/.julia/v0.5/Compat/src/Compat.jl:1459 overwritten in module Compat at /home/ROCQ/sierra/rgower/.julia/v0.5/Compat/src/Compat.jl:1459.\n",
      "WARNING: Method definition convert(Type{Main.Base.Set{#T<:Any}}, Main.Base.Set) in module Compat at /home/ROCQ/sierra/rgower/.julia/v0.5/Compat/src/Compat.jl:1460 overwritten in module Compat at /home/ROCQ/sierra/rgower/.julia/v0.5/Compat/src/Compat.jl:1460.\n",
      "WARNING: Method definition bswap(Main.Base.Complex) in module Compat at /home/ROCQ/sierra/rgower/.julia/v0.5/Compat/src/Compat.jl:1474 overwritten in module Compat at /home/ROCQ/sierra/rgower/.julia/v0.5/Compat/src/Compat.jl:1474.\n",
      "WARNING: Method definition redirect_stderr(Function, Any) in module Compat at /home/ROCQ/sierra/rgower/.julia/v0.5/Compat/src/Compat.jl:1057 overwritten in module Compat at /home/ROCQ/sierra/rgower/.julia/v0.5/Compat/src/Compat.jl:1057.\n",
      "WARNING: Method definition take!(Task) in module Compat at /home/ROCQ/sierra/rgower/.julia/v0.5/Compat/src/Compat.jl:53 overwritten in module Compat at /home/ROCQ/sierra/rgower/.julia/v0.5/Compat/src/Compat.jl:53.\n",
      "WARNING: Method definition take!(Main.Base.AbstractIOBuffer) in module Compat at /home/ROCQ/sierra/rgower/.julia/v0.5/Compat/src/Compat.jl:1172 overwritten in module Compat at /home/ROCQ/sierra/rgower/.julia/v0.5/Compat/src/Compat.jl:1172.\n",
      "WARNING: Method definition macroexpand(Module, ANY<:Any) in module Compat at /home/ROCQ/sierra/rgower/.julia/v0.5/Compat/src/Compat.jl:1491 overwritten in module Compat at /home/ROCQ/sierra/rgower/.julia/v0.5/Compat/src/Compat.jl:1491.\n",
      "WARNING: Method definition isless(Union{Main.Base.Dates.Week, Main.Base.Dates.Hour, Main.Base.Dates.Minute, Main.Base.Dates.Day, Main.Base.Dates.Millisecond, Main.Base.Dates.Second}, Union{Main.Base.Dates.Year, Main.Base.Dates.Month}) in module Compat at /home/ROCQ/sierra/rgower/.julia/v0.5/Compat/src/Compat.jl:1529 overwritten in module Compat at /home/ROCQ/sierra/rgower/.julia/v0.5/Compat/src/Compat.jl:1529.\n",
      "WARNING: Method definition isless(Union{Main.Base.Dates.Year, Main.Base.Dates.Month}, Union{Main.Base.Dates.Week, Main.Base.Dates.Hour, Main.Base.Dates.Minute, Main.Base.Dates.Day, Main.Base.Dates.Millisecond, Main.Base.Dates.Second}) in module Compat at /home/ROCQ/sierra/rgower/.julia/v0.5/Compat/src/Compat.jl:1530 overwritten in module Compat at /home/ROCQ/sierra/rgower/.julia/v0.5/Compat/src/Compat.jl:1530.\n",
      "WARNING: Method definition isless(Main.Base.Dates.Period, Main.Base.Dates.Period) in module Compat at /home/ROCQ/sierra/rgower/.julia/v0.5/Compat/src/Compat.jl:1524 overwritten in module Compat at /home/ROCQ/sierra/rgower/.julia/v0.5/Compat/src/Compat.jl:1524.\n",
      "WARNING: Method definition broadcast(Any, Tuple{Vararg{T<:Any, #N<:Any}}, Tuple{Vararg{T<:Any, #N<:Any}}...) in module Compat at /home/ROCQ/sierra/rgower/.julia/v0.5/Compat/src/Compat.jl:1122 overwritten in module Compat at /home/ROCQ/sierra/rgower/.julia/v0.5/Compat/src/Compat.jl:1122.\n",
      "WARNING: Method definition redirect_stdout(Function, Any) in module Compat at /home/ROCQ/sierra/rgower/.julia/v0.5/Compat/src/Compat.jl:1057 overwritten in module Compat at /home/ROCQ/sierra/rgower/.julia/v0.5/Compat/src/Compat.jl:1057.\n",
      "WARNING: Method definition expand(Module, ANY<:Any) in module Compat at /home/ROCQ/sierra/rgower/.julia/v0.5/Compat/src/Compat.jl:1490 overwritten in module Compat at /home/ROCQ/sierra/rgower/.julia/v0.5/Compat/src/Compat.jl:1490.\n",
      "WARNING: Method definition redirect_stdin(Function, Any) in module Compat at /home/ROCQ/sierra/rgower/.julia/v0.5/Compat/src/Compat.jl:1057 overwritten in module Compat at /home/ROCQ/sierra/rgower/.julia/v0.5/Compat/src/Compat.jl:1057.\n",
      "WARNING: Method definition zeros(AbstractArray) in module Compat at /home/ROCQ/sierra/rgower/.julia/v0.5/Compat/src/Compat.jl:1440 overwritten in module Compat at /home/ROCQ/sierra/rgower/.julia/v0.5/Compat/src/Compat.jl:1440.\n",
      "WARNING: Method definition zeros(AbstractArray, Type) in module Compat at /home/ROCQ/sierra/rgower/.julia/v0.5/Compat/src/Compat.jl:1440 overwritten in module Compat at /home/ROCQ/sierra/rgower/.julia/v0.5/Compat/src/Compat.jl:1440.\n",
      "WARNING: Method definition zeros(AbstractArray, Type, Tuple) in module Compat at /home/ROCQ/sierra/rgower/.julia/v0.5/Compat/src/Compat.jl:1438 overwritten in module Compat at /home/ROCQ/sierra/rgower/.julia/v0.5/Compat/src/Compat.jl:1438.\n",
      "WARNING: Method definition zeros(AbstractArray, Type, Any...) in module Compat at /home/ROCQ/sierra/rgower/.julia/v0.5/Compat/src/Compat.jl:1439 overwritten in module Compat at /home/ROCQ/sierra/rgower/.julia/v0.5/Compat/src/Compat.jl:1439.\n",
      "WARNING: Method definition isassigned(Main.Base.RefValue) in module Compat at /home/ROCQ/sierra/rgower/.julia/v0.5/Compat/src/Compat.jl:1465 overwritten in module Compat at /home/ROCQ/sierra/rgower/.julia/v0.5/Compat/src/Compat.jl:1465.\n",
      "WARNING: Method definition include_string(Module, String, String) in module Compat at /home/ROCQ/sierra/rgower/.julia/v0.5/Compat/src/Compat.jl:1492 overwritten in module Compat at /home/ROCQ/sierra/rgower/.julia/v0.5/Compat/src/Compat.jl:1492.\n",
      "WARNING: Method definition include_string(Module, AbstractString) in module Compat at /home/ROCQ/sierra/rgower/.julia/v0.5/Compat/src/Compat.jl:1494 overwritten in module Compat at /home/ROCQ/sierra/rgower/.julia/v0.5/Compat/src/Compat.jl:1494.\n",
      "WARNING: Method definition include_string(Module, AbstractString, AbstractString) in module Compat at /home/ROCQ/sierra/rgower/.julia/v0.5/Compat/src/Compat.jl:1494 overwritten in module Compat at /home/ROCQ/sierra/rgower/.julia/v0.5/Compat/src/Compat.jl:1494.\n",
      "WARNING: Method definition !(Function) in module Compat at /home/ROCQ/sierra/rgower/.julia/v0.5/Compat/src/Compat.jl:1205 overwritten in module Compat at /home/ROCQ/sierra/rgower/.julia/v0.5/Compat/src/Compat.jl:1205.\n",
      "WARNING: Method definition ==(Union{Main.Base.Dates.Week, Main.Base.Dates.Hour, Main.Base.Dates.Minute, Main.Base.Dates.Day, Main.Base.Dates.Millisecond, Main.Base.Dates.Second}, Union{Main.Base.Dates.Year, Main.Base.Dates.Month}) in module Compat at /home/ROCQ/sierra/rgower/.julia/v0.5/Compat/src/Compat.jl:1527 overwritten in module Compat at /home/ROCQ/sierra/rgower/.julia/v0.5/Compat/src/Compat.jl:1527.\n",
      "WARNING: Method definition ==(Union{Main.Base.Dates.Year, Main.Base.Dates.Month}, Union{Main.Base.Dates.Week, Main.Base.Dates.Hour, Main.Base.Dates.Minute, Main.Base.Dates.Day, Main.Base.Dates.Millisecond, Main.Base.Dates.Second}) in module Compat at /home/ROCQ/sierra/rgower/.julia/v0.5/Compat/src/Compat.jl:1528 overwritten in module Compat at /home/ROCQ/sierra/rgower/.julia/v0.5/Compat/src/Compat.jl:1528.\n",
      "WARNING: Method definition ==(Main.Base.Dates.Period, Main.Base.Dates.Period) in module Compat at /home/ROCQ/sierra/rgower/.julia/v0.5/Compat/src/Compat.jl:1523 overwritten in module Compat at /home/ROCQ/sierra/rgower/.julia/v0.5/Compat/src/Compat.jl:1523.\n",
      "WARNING: Method definition ones(AbstractArray) in module Compat at /home/ROCQ/sierra/rgower/.julia/v0.5/Compat/src/Compat.jl:1440 overwritten in module Compat at /home/ROCQ/sierra/rgower/.julia/v0.5/Compat/src/Compat.jl:1440.\n",
      "WARNING: Method definition ones(AbstractArray, Type) in module Compat at /home/ROCQ/sierra/rgower/.julia/v0.5/Compat/src/Compat.jl:1440 overwritten in module Compat at /home/ROCQ/sierra/rgower/.julia/v0.5/Compat/src/Compat.jl:1440.\n",
      "WARNING: Method definition ones(AbstractArray, Type, Tuple) in module Compat at /home/ROCQ/sierra/rgower/.julia/v0.5/Compat/src/Compat.jl:1438 overwritten in module Compat at /home/ROCQ/sierra/rgower/.julia/v0.5/Compat/src/Compat.jl:1438.\n",
      "WARNING: Method definition ones(AbstractArray, Type, Any...) in module Compat at /home/ROCQ/sierra/rgower/.julia/v0.5/Compat/src/Compat.jl:1439 overwritten in module Compat at /home/ROCQ/sierra/rgower/.julia/v0.5/Compat/src/Compat.jl:1439.\n",
      "WARNING: Method definition isnull(Any) in module Compat at /home/ROCQ/sierra/rgower/.julia/v0.5/Compat/src/Compat.jl:1137 overwritten in module Compat at /home/ROCQ/sierra/rgower/.julia/v0.5/Compat/src/Compat.jl:1137.\n"
     ]
    }
   ],
   "source": [
    "using Plots"
   ]
  },
  {
   "cell_type": "code",
   "execution_count": 3,
   "metadata": {},
   "outputs": [
    {
     "data": {
      "text/plain": [
       "plot_outputs_Plots (generic function with 1 method)"
      ]
     },
     "execution_count": 3,
     "metadata": {},
     "output_type": "execute_result"
    }
   ],
   "source": [
    "using StatsBase\n",
    "using JLD  \n",
    "include(\"../src/BigRidge.jl\")"
   ]
  },
  {
   "cell_type": "code",
   "execution_count": 83,
   "metadata": {
    "collapsed": true
   },
   "outputs": [],
   "source": [
    "#Basic parameters\n",
    "## Basic parameters\n",
    "maxiter=1000;\n",
    "max_time = 100;\n",
    "max_epocs = 100;\n",
    "printiters = true;\n",
    "exacterror =true; \n",
    "tol = 10.0^(-5.0);\n",
    "restol = 10.0^(-5.0);\n",
    "skip_error_calculation = 25;   # number of iterations where error is not calculated (to save time!) ceil((m)^(1/2))"
   ]
  },
  {
   "cell_type": "code",
   "execution_count": 64,
   "metadata": {},
   "outputs": [
    {
     "name": "stdout",
     "output_type": "stream",
     "text": [
      "../data/gisette_scale.jld\n"
     ]
    },
    {
     "data": {
      "text/plain": [
       "Dict{Symbol,Any} with 3 entries:\n",
       "  :sparsity => 0.991\n",
       "  :dims     => 5000\n",
       "  :n        => 6000"
      ]
     },
     "execution_count": 64,
     "metadata": {},
     "output_type": "execute_result"
    }
   ],
   "source": [
    "dataset = \"gisette_scale\"   # mnist.scale  a9a  gisette_scale\n",
    "prob = defineProb(dataset);\n",
    "showDetails(dataset)"
   ]
  },
  {
   "cell_type": "code",
   "execution_count": 84,
   "metadata": {},
   "outputs": [
    {
     "data": {
      "text/plain": [
       "3.554375254672887e-10"
      ]
     },
     "execution_count": 84,
     "metadata": {},
     "output_type": "execute_result"
    }
   ],
   "source": [
    "norm(prob.A*prob.xsol - prob.b)"
   ]
  },
  {
   "cell_type": "code",
   "execution_count": 85,
   "metadata": {
    "collapsed": true
   },
   "outputs": [],
   "source": [
    "options = MyOptions(0,\"uni\",tol,restol,maxiter,skip_error_calculation,max_time,printiters,exacterror) \n",
    "OUTPUTS = [];"
   ]
  },
  {
   "cell_type": "code",
   "execution_count": 86,
   "metadata": {},
   "outputs": [
    {
     "name": "stdout",
     "output_type": "stream",
     "text": [
      "rademacher-10\n",
      "-------------------\n",
      "It   | Error% | Residual |  Time   \n",
      "-------------------\n",
      " 25  | 49.04  |  12.91  | 7.0945 \n",
      " 50  | 43.49  |  10.37  | 13.5076 \n",
      " 75  | 38.66  |  9.42  | 19.9164 \n",
      "100  | 35.63  |  8.48  | 26.4617 \n",
      "125  | 32.47  |  7.79  | 32.8965 \n",
      "150  | 29.51  |  8.06  | 39.3180 \n",
      "175  | 27.39  |  6.84  | 45.7114 \n",
      "200  | 25.34  |  6.35  | 52.1321 \n",
      "225  | 23.26  |  5.78  | 58.5552 \n",
      "250  | 22.80  |  5.43  | 65.2859 \n",
      "275  | 20.60  |  5.31  | 71.7006 \n",
      "300  | 19.31  |  4.70  | 78.8722 \n",
      "325  | 18.81  |  4.78  | 85.2285 \n",
      "350  | 17.92  |  4.29  | 91.6391 \n",
      "375  | 17.92  |  4.23  | 98.1366 \n",
      "383  | 16.91  |  4.00  | 100.1747 \n",
      "101.063765 seconds (308.30 k allocations: 143.500 GB, 6.29% gc time)\n"
     ]
    }
   ],
   "source": [
    "# Testing Rademarcher Sketch\n",
    "method_name = \"rademacher\";# ROS\n",
    "options.sketchsize =10;\n",
    "@time   output= solveRidge(prob, method_name, options);\n",
    "OUTPUTS = [OUTPUTS ; output];"
   ]
  },
  {
   "cell_type": "code",
   "execution_count": 95,
   "metadata": {},
   "outputs": [
    {
     "name": "stdout",
     "output_type": "stream",
     "text": [
      "flopsperiter: 20008\n",
      "Hadamard\n",
      "-------------------\n",
      "It   | Error% | Residual |  Time   \n",
      "-------------------\n",
      "  7  | 99.95  |  100.35  | 15.0460 \n",
      " 15.151344 seconds (165.23 M allocations: 19.126 GB, 56.21% gc time)\n"
     ]
    }
   ],
   "source": [
    "# Testing Hadamard Sketch\n",
    "method_name = \"Hadamard\";# ROS\n",
    "options.sketchsize =2; # Int(floor(log2(prob.n)));\n",
    "options.maxiter=200;\n",
    "options.skip_error_calculation =25;\n",
    "@time  output= solveRidge(prob, method_name, options);\n",
    "OUTPUTS = [OUTPUTS ; output];"
   ]
  },
  {
   "cell_type": "code",
   "execution_count": 88,
   "metadata": {},
   "outputs": [],
   "source": [
    "# Testing countmin \n",
    "# options.sketchsize =floor((prob.n)^(1/2));\n",
    "# options.skip_error_calculation =25;\n",
    "# method_name = \"countmin\";# gradient descent\n",
    "# @time output= solveRidge(prob, method_name, options);\n",
    "# OUTPUTS = [OUTPUTS ; output];"
   ]
  },
  {
   "cell_type": "code",
   "execution_count": 89,
   "metadata": {},
   "outputs": [
    {
     "name": "stdout",
     "output_type": "stream",
     "text": [
      "CG\n",
      "-------------------\n",
      "It   | Error% | Residual |  Time   \n",
      "-------------------\n",
      " 25  | 3.35  |  1.34  | 0.3300 \n",
      " 50  | 1.57  |  1.42  | 1.1144 \n",
      " 75  | 0.98  |  0.37  | 1.7181 \n",
      "100  | 0.71  |  0.28  | 2.2727 \n",
      "125  | 0.54  |  0.19  | 2.8231 \n",
      "150  | 0.43  |  0.19  | 3.3589 \n",
      "175  | 0.35  |  0.47  | 3.9264 \n",
      "200  | 0.29  |  0.25  | 4.4865 \n",
      "225  | 0.24  |  0.16  | 5.0502 \n",
      "250  | 0.20  |  0.18  | 5.6142 \n",
      "275  | 0.42  |  0.13  | 6.1760 \n",
      "300  | 0.14  |  0.08  | 6.7436 \n",
      "325  | 0.65  |  0.07  | 7.3063 \n",
      "350  | 0.11  |  0.11  | 7.8692 \n",
      "375  | 0.08  |  0.10  | 8.4237 \n",
      "400  | 0.04  |  0.08  | 8.9737 \n",
      "425  | 0.07  |  0.19  | 9.5284 \n",
      "450  | 0.06  |  0.08  | 10.0782 \n",
      "475  | 0.02  |  0.05  | 10.6280 \n",
      "500  | 0.05  |  0.04  | 11.1814 \n",
      "525  | 0.04  |  0.06  | 11.7136 \n",
      "550  | 0.04  |  0.05  | 12.2737 \n",
      "575  | 0.04  |  0.04  | 12.7543 \n",
      "600  | 0.03  |  0.04  | 13.1623 \n",
      "625  | 0.03  |  0.06  | 13.5745 \n",
      "650  | 0.03  |  0.11  | 13.9933 \n",
      "675  | 0.03  |  0.04  | 14.4046 \n",
      "700  | 0.08  |  0.03  | 14.8152 \n",
      "725  | 0.02  |  0.03  | 15.2368 \n",
      "750  | 0.07  |  0.19  | 15.6426 \n",
      "775  | 0.01  |  0.05  | 16.0768 \n",
      "800  | 0.01  |  0.03  | 16.5146 \n",
      "825  | 0.01  |  0.04  | 16.9478 \n",
      "850  | 0.05  |  0.03  | 17.3685 \n",
      "875  | 0.01  |  0.02  | 17.7886 \n",
      "900  | 0.01  |  0.02  | 18.2164 \n",
      "925  | 0.01  |  0.04  | 18.6712 \n",
      "950  | 0.01  |  0.01  | 19.1011 \n",
      "975  | 0.01  |  0.03  | 19.5449 \n",
      "1000  | 0.01  |  0.01  | 19.9782 \n",
      " 21.799126 seconds (60.09 k allocations: 316.095 MB, 0.24% gc time)\n"
     ]
    }
   ],
   "source": [
    "# Testing CG \n",
    "options.skip_error_calculation =25;\n",
    "method_name = \"CG\";# gradient descent\n",
    "@time output= solveRidge(prob, method_name, options);\n",
    "OUTPUTS = [OUTPUTS ; output];"
   ]
  },
  {
   "cell_type": "code",
   "execution_count": 90,
   "metadata": {},
   "outputs": [
    {
     "name": "stdout",
     "output_type": "stream",
     "text": [
      "CD-70\n",
      "-------------------\n",
      "It   | Error% | Residual |  Time   \n",
      "-------------------\n",
      " 25  | 21.32  |  5.41  | 0.1719 \n",
      " 50  | 14.60  |  3.56  | 0.3389 \n",
      " 75  | 10.65  |  2.24  | 0.5064 \n",
      "100  | 8.95  |  2.05  | 0.6716 \n",
      "125  | 7.98  |  1.92  | 0.8388 \n",
      "150  | 6.03  |  1.54  | 1.0082 \n",
      "175  | 5.05  |  1.27  | 1.1740 \n",
      "200  | 4.81  |  1.25  | 1.3405 \n",
      "225  | 4.34  |  1.05  | 1.5052 \n",
      "250  | 3.94  |  0.94  | 1.6751 \n",
      "275  | 3.62  |  0.92  | 1.8416 \n",
      "300  | 3.37  |  0.87  | 2.0132 \n",
      "325  | 3.17  |  0.74  | 2.1784 \n",
      "350  | 2.98  |  0.66  | 2.3456 \n",
      "375  | 2.80  |  0.62  | 2.5205 \n",
      "400  | 2.61  |  0.60  | 2.6964 \n",
      "425  | 2.50  |  0.57  | 2.8659 \n",
      "443  | 2.45  |  0.58  | 3.0049 \n",
      "  3.704944 seconds (33.16 k allocations: 1.196 GB, 2.60% gc time)\n"
     ]
    }
   ],
   "source": [
    "# Testing CD \n",
    "method_name = \"CD\";# gradient descent\n",
    "options.sketchsize = floor((prob.n)^(1/2));\n",
    "@time output= solveRidge(prob, method_name, options);\n",
    "OUTPUTS = [OUTPUTS ; output];"
   ]
  },
  {
   "cell_type": "code",
   "execution_count": 93,
   "metadata": {
    "collapsed": true
   },
   "outputs": [],
   "source": [
    "savename = replace(prob.name, r\"[\\/]\", \"-\");\n",
    "save(\"../data/$(savename)-OUTPUTS.jld\", \"OUTPUTS\", OUTPUTS)"
   ]
  },
  {
   "cell_type": "code",
   "execution_count": 94,
   "metadata": {},
   "outputs": [
    {
     "name": "stdout",
     "output_type": "stream",
     "text": [
      "gisette_scale\n"
     ]
    }
   ],
   "source": [
    "#using GR\n",
    "using Plots\n",
    "pgfplots()\n",
    "plot_outputs_Plots(OUTPUTS,savename)"
   ]
  },
  {
   "cell_type": "code",
   "execution_count": 16,
   "metadata": {
    "collapsed": true
   },
   "outputs": [],
   "source": [
    "# Loading saved problem data\n",
    "probname = \"w8a\"#\"gisette_scale-ridge\";  \n",
    "test = load(\"../data/$(probname)-OUTPUTS.jld\")\n",
    "OUTPUTS = test[\"OUTPUTS\"];"
   ]
  },
  {
   "cell_type": "code",
   "execution_count": null,
   "metadata": {
    "collapsed": true
   },
   "outputs": [],
   "source": []
  }
 ],
 "metadata": {
  "anaconda-cloud": {},
  "kernelspec": {
   "display_name": "Julia 0.5.2",
   "language": "julia",
   "name": "julia-0.5"
  },
  "language_info": {
   "file_extension": ".jl",
   "mimetype": "application/julia",
   "name": "julia",
   "version": "0.5.2"
  }
 },
 "nbformat": 4,
 "nbformat_minor": 1
}
