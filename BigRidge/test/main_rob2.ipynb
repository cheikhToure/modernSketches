{
 "cells": [
  {
   "cell_type": "markdown",
   "metadata": {},
   "source": [
    "The main solving big ridge regression problems"
   ]
  },
  {
   "cell_type": "code",
   "execution_count": 1,
   "metadata": {
    "collapsed": true
   },
   "outputs": [],
   "source": [
    "workspace()"
   ]
  },
  {
   "cell_type": "code",
   "execution_count": 2,
   "metadata": {
    "collapsed": false
   },
   "outputs": [
    {
     "name": "stderr",
     "output_type": "stream",
     "text": [
      "WARNING: Method definition start(Main.Base.Cmd) in module Compat at /home/robert/.julia/v0.5/Compat/src/Compat.jl:608 overwritten in module Compat at /home/robert/.julia/v0.5/Compat/src/Compat.jl:608.\n",
      "WARNING: Method definition expand(Module, ANY<:Any) in module Compat at /home/robert/.julia/v0.5/Compat/src/Compat.jl:575 overwritten in module Compat at /home/robert/.julia/v0.5/Compat/src/Compat.jl:575.\n",
      "WARNING: Method definition isassigned(Main.Base.RefValue) in module Compat at /home/robert/.julia/v0.5/Compat/src/Compat.jl:550 overwritten in module Compat at /home/robert/.julia/v0.5/Compat/src/Compat.jl:550.\n",
      "WARNING: Method definition unsafe_trunc(Type{#T<:Integer}, Integer) in module Compat at /home/robert/.julia/v0.5/Compat/src/Compat.jl:554 overwritten in module Compat at /home/robert/.julia/v0.5/Compat/src/Compat.jl:554.\n",
      "WARNING: Method definition isnull(Any) in module Compat at /home/robert/.julia/v0.5/Compat/src/Compat.jl:410 overwritten in module Compat at /home/robert/.julia/v0.5/Compat/src/Compat.jl:410.\n",
      "WARNING: Method definition eachindex(Main.Base.Cmd) in module Compat at /home/robert/.julia/v0.5/Compat/src/Compat.jl:608 overwritten in module Compat at /home/robert/.julia/v0.5/Compat/src/Compat.jl:608.\n",
      "WARNING: Method definition redirect_stdout(Function, Any) in module Compat at /home/robert/.julia/v0.5/Compat/src/Compat.jl:340 overwritten in module Compat at /home/robert/.julia/v0.5/Compat/src/Compat.jl:340.\n",
      "WARNING: Method definition getindex(Main.Base.Cmd, Any) in module Compat at /home/robert/.julia/v0.5/Compat/src/Compat.jl:611 overwritten in module Compat at /home/robert/.julia/v0.5/Compat/src/Compat.jl:611.\n",
      "WARNING: Method definition redirect_stderr(Function, Any) in module Compat at /home/robert/.julia/v0.5/Compat/src/Compat.jl:340 overwritten in module Compat at /home/robert/.julia/v0.5/Compat/src/Compat.jl:340.\n",
      "WARNING: Method definition bswap(Main.Base.Complex) in module Compat at /home/robert/.julia/v0.5/Compat/src/Compat.jl:559 overwritten in module Compat at /home/robert/.julia/v0.5/Compat/src/Compat.jl:559.\n",
      "WARNING: Method definition redirect_stdin(Function, Any) in module Compat at /home/robert/.julia/v0.5/Compat/src/Compat.jl:340 overwritten in module Compat at /home/robert/.julia/v0.5/Compat/src/Compat.jl:340.\n",
      "WARNING: Method definition eltype(Main.Base.Cmd) in module Compat at /home/robert/.julia/v0.5/Compat/src/Compat.jl:608 overwritten in module Compat at /home/robert/.julia/v0.5/Compat/src/Compat.jl:608.\n",
      "WARNING: Method definition first(Main.Base.Cmd) in module Compat at /home/robert/.julia/v0.5/Compat/src/Compat.jl:608 overwritten in module Compat at /home/robert/.julia/v0.5/Compat/src/Compat.jl:608.\n",
      "WARNING: Method definition macroexpand(Module, ANY<:Any) in module Compat at /home/robert/.julia/v0.5/Compat/src/Compat.jl:576 overwritten in module Compat at /home/robert/.julia/v0.5/Compat/src/Compat.jl:576.\n",
      "WARNING: Method definition ones(AbstractArray) in module Compat at /home/robert/.julia/v0.5/Compat/src/Compat.jl:525 overwritten in module Compat at /home/robert/.julia/v0.5/Compat/src/Compat.jl:525.\n",
      "WARNING: Method definition ones(AbstractArray, Type) in module Compat at /home/robert/.julia/v0.5/Compat/src/Compat.jl:525 overwritten in module Compat at /home/robert/.julia/v0.5/Compat/src/Compat.jl:525.\n",
      "WARNING: Method definition ones(AbstractArray, Type, Tuple) in module Compat at /home/robert/.julia/v0.5/Compat/src/Compat.jl:523 overwritten in module Compat at /home/robert/.julia/v0.5/Compat/src/Compat.jl:523.\n",
      "WARNING: Method definition ones(AbstractArray, Type, Any...) in module Compat at /home/robert/.julia/v0.5/Compat/src/Compat.jl:524 overwritten in module Compat at /home/robert/.julia/v0.5/Compat/src/Compat.jl:524.\n",
      "WARNING: Method definition convert(Type{Main.Base.Set{#T<:Any}}, Main.Base.Set{#T<:Any}) in module Compat at /home/robert/.julia/v0.5/Compat/src/Compat.jl:544 overwritten in module Compat at /home/robert/.julia/v0.5/Compat/src/Compat.jl:544.\n",
      "WARNING: Method definition convert(Type{Main.Base.Set{#T<:Any}}, Main.Base.Set) in module Compat at /home/robert/.julia/v0.5/Compat/src/Compat.jl:545 overwritten in module Compat at /home/robert/.julia/v0.5/Compat/src/Compat.jl:545.\n",
      "WARNING: Method definition broadcast(Any, Tuple{Vararg{T<:Any, #N<:Any}}, Tuple{Vararg{T<:Any, #N<:Any}}...) in module Compat at /home/robert/.julia/v0.5/Compat/src/Compat.jl:395 overwritten in module Compat at /home/robert/.julia/v0.5/Compat/src/Compat.jl:395.\n",
      "WARNING: Method definition zeros(AbstractArray) in module Compat at /home/robert/.julia/v0.5/Compat/src/Compat.jl:525 overwritten in module Compat at /home/robert/.julia/v0.5/Compat/src/Compat.jl:525.\n",
      "WARNING: Method definition zeros(AbstractArray, Type) in module Compat at /home/robert/.julia/v0.5/Compat/src/Compat.jl:525 overwritten in module Compat at /home/robert/.julia/v0.5/Compat/src/Compat.jl:525.\n",
      "WARNING: Method definition zeros(AbstractArray, Type, Tuple) in module Compat at /home/robert/.julia/v0.5/Compat/src/Compat.jl:523 overwritten in module Compat at /home/robert/.julia/v0.5/Compat/src/Compat.jl:523.\n",
      "WARNING: Method definition zeros(AbstractArray, Type, Any...) in module Compat at /home/robert/.julia/v0.5/Compat/src/Compat.jl:524 overwritten in module Compat at /home/robert/.julia/v0.5/Compat/src/Compat.jl:524.\n",
      "WARNING: Method definition next(Main.Base.Cmd, Any) in module Compat at /home/robert/.julia/v0.5/Compat/src/Compat.jl:611 overwritten in module Compat at /home/robert/.julia/v0.5/Compat/src/Compat.jl:611.\n",
      "WARNING: Method definition isless(Union{Main.Base.Dates.Second, Main.Base.Dates.Week, Main.Base.Dates.Day, Main.Base.Dates.Minute, Main.Base.Dates.Hour, Main.Base.Dates.Millisecond}, Union{Main.Base.Dates.Month, Main.Base.Dates.Year}) in module Compat at /home/robert/.julia/v0.5/Compat/src/Compat.jl:625 overwritten in module Compat at /home/robert/.julia/v0.5/Compat/src/Compat.jl:625.\n",
      "WARNING: Method definition isless(Union{Main.Base.Dates.Month, Main.Base.Dates.Year}, Union{Main.Base.Dates.Second, Main.Base.Dates.Week, Main.Base.Dates.Day, Main.Base.Dates.Minute, Main.Base.Dates.Hour, Main.Base.Dates.Millisecond}) in module Compat at /home/robert/.julia/v0.5/Compat/src/Compat.jl:626 overwritten in module Compat at /home/robert/.julia/v0.5/Compat/src/Compat.jl:626.\n",
      "WARNING: Method definition isless(Main.Base.Dates.Period, Main.Base.Dates.Period) in module Compat at /home/robert/.julia/v0.5/Compat/src/Compat.jl:620 overwritten in module Compat at /home/robert/.julia/v0.5/Compat/src/Compat.jl:620.\n",
      "WARNING: Method definition endof(Main.Base.Cmd) in module Compat at /home/robert/.julia/v0.5/Compat/src/Compat.jl:608 overwritten in module Compat at /home/robert/.julia/v0.5/Compat/src/Compat.jl:608.\n",
      "WARNING: Method definition !(Function) in module Compat at /home/robert/.julia/v0.5/Compat/src/Compat.jl:452 overwritten in module Compat at /home/robert/.julia/v0.5/Compat/src/Compat.jl:452.\n",
      "WARNING: Method definition length(Main.Base.Cmd) in module Compat at /home/robert/.julia/v0.5/Compat/src/Compat.jl:608 overwritten in module Compat at /home/robert/.julia/v0.5/Compat/src/Compat.jl:608.\n",
      "WARNING: Method definition last(Main.Base.Cmd) in module Compat at /home/robert/.julia/v0.5/Compat/src/Compat.jl:608 overwritten in module Compat at /home/robert/.julia/v0.5/Compat/src/Compat.jl:608.\n",
      "WARNING: Method definition include_string(Module, String, String) in module Compat at /home/robert/.julia/v0.5/Compat/src/Compat.jl:577 overwritten in module Compat at /home/robert/.julia/v0.5/Compat/src/Compat.jl:577.\n",
      "WARNING: Method definition include_string(Module, AbstractString) in module Compat at /home/robert/.julia/v0.5/Compat/src/Compat.jl:579 overwritten in module Compat at /home/robert/.julia/v0.5/Compat/src/Compat.jl:579.\n",
      "WARNING: Method definition include_string(Module, AbstractString, AbstractString) in module Compat at /home/robert/.julia/v0.5/Compat/src/Compat.jl:579 overwritten in module Compat at /home/robert/.julia/v0.5/Compat/src/Compat.jl:579.\n",
      "WARNING: Method definition logdet(Any) in module Compat at /home/robert/.julia/v0.5/Compat/src/Compat.jl:638 overwritten in module Compat at /home/robert/.julia/v0.5/Compat/src/Compat.jl:638.\n",
      "WARNING: Method definition chol!(Main.Base.LinAlg.UniformScaling, Any) in module Compat at /home/robert/.julia/v0.5/Compat/src/Compat.jl:644 overwritten in module Compat at /home/robert/.julia/v0.5/Compat/src/Compat.jl:644.\n",
      "WARNING: Method definition chol(Main.Base.LinAlg.UniformScaling, Any...) in module Compat at /home/robert/.julia/v0.5/Compat/src/Compat.jl:645 overwritten in module Compat at /home/robert/.julia/v0.5/Compat/src/Compat.jl:645.\n",
      "WARNING: Method definition done(Main.Base.Cmd, Any) in module Compat at /home/robert/.julia/v0.5/Compat/src/Compat.jl:611 overwritten in module Compat at /home/robert/.julia/v0.5/Compat/src/Compat.jl:611.\n",
      "WARNING: Method definition take!(Task) in module Compat at /home/robert/.julia/v0.5/Compat/src/Compat.jl:11 overwritten in module Compat at /home/robert/.julia/v0.5/Compat/src/Compat.jl:11.\n",
      "WARNING: Method definition take!(Main.Base.AbstractIOBuffer) in module Compat at /home/robert/.julia/v0.5/Compat/src/Compat.jl:445 overwritten in module Compat at /home/robert/.julia/v0.5/Compat/src/Compat.jl:445.\n",
      "WARNING: Method definition ==(Union{Main.Base.Dates.Second, Main.Base.Dates.Week, Main.Base.Dates.Day, Main.Base.Dates.Minute, Main.Base.Dates.Hour, Main.Base.Dates.Millisecond}, Union{Main.Base.Dates.Month, Main.Base.Dates.Year}) in module Compat at /home/robert/.julia/v0.5/Compat/src/Compat.jl:623 overwritten in module Compat at /home/robert/.julia/v0.5/Compat/src/Compat.jl:623.\n",
      "WARNING: Method definition ==(Union{Main.Base.Dates.Month, Main.Base.Dates.Year}, Union{Main.Base.Dates.Second, Main.Base.Dates.Week, Main.Base.Dates.Day, Main.Base.Dates.Minute, Main.Base.Dates.Hour, Main.Base.Dates.Millisecond}) in module Compat at /home/robert/.julia/v0.5/Compat/src/Compat.jl:624 overwritten in module Compat at /home/robert/.julia/v0.5/Compat/src/Compat.jl:624.\n",
      "WARNING: Method definition ==(Main.Base.Dates.Period, Main.Base.Dates.Period) in module Compat at /home/robert/.julia/v0.5/Compat/src/Compat.jl:619 overwritten in module Compat at /home/robert/.julia/v0.5/Compat/src/Compat.jl:619.\n",
      "WARNING: Method definition (::Type{Main.Base.LinearIndexing})(Type{#T<:Any}) in module Compat at /home/robert/.julia/v0.5/Compat/src/Compat.jl:515 overwritten in module Compat at /home/robert/.julia/v0.5/Compat/src/Compat.jl:515.\n",
      "WARNING: Method definition (::Type{Main.Base.LinearIndexing})(Any...) in module Compat at /home/robert/.julia/v0.5/Compat/src/Compat.jl:516 overwritten in module Compat at /home/robert/.julia/v0.5/Compat/src/Compat.jl:516.\n",
      "WARNING: Method definition (::Type{Main.Base.Val})(Any) in module Compat at /home/robert/.julia/v0.5/Compat/src/Compat.jl:632 overwritten in module Compat at /home/robert/.julia/v0.5/Compat/src/Compat.jl:632.\n"
     ]
    }
   ],
   "source": [
    "using Plots"
   ]
  },
  {
   "cell_type": "code",
   "execution_count": 3,
   "metadata": {
    "collapsed": false
   },
   "outputs": [
    {
     "data": {
      "text/plain": [
       "plot_outputs_Plots (generic function with 1 method)"
      ]
     },
     "execution_count": 3,
     "metadata": {},
     "output_type": "execute_result"
    }
   ],
   "source": [
    "using StatsBase\n",
    "using JLD  \n",
    "include(\"../src/BigRidge.jl\")"
   ]
  },
  {
   "cell_type": "code",
   "execution_count": 4,
   "metadata": {
    "collapsed": true
   },
   "outputs": [],
   "source": [
    "## Basic parameters\n",
    "maxiter=2000;\n",
    "max_time = 200;\n",
    "max_epocs = 100;\n",
    "printiters = true;\n",
    "exacterror =true; \n",
    "tol = 10.0^(-5.0);\n",
    "restol = 10.0^(-5.0);\n",
    "skip_error_calculation = 25;   # number of iterations where error is not calculated (to save time!) ceil((m)^(1/2))"
   ]
  },
  {
   "cell_type": "code",
   "execution_count": 5,
   "metadata": {
    "collapsed": false
   },
   "outputs": [
    {
     "name": "stdout",
     "output_type": "stream",
     "text": [
      "../data/a9a.jld\n"
     ]
    },
    {
     "ename": "LoadError",
     "evalue": "File ../data/details.jld cannot be found",
     "output_type": "error",
     "traceback": [
      "File ../data/details.jld cannot be found",
      "",
      " in #jldopen#9(::Bool, ::Bool, ::Bool, ::Function, ::String, ::Bool, ::Bool, ::Bool, ::Bool, ::Bool) at /home/robert/.julia/v0.5/JLD/src/JLD.jl:164",
      " in (::JLD.#kw##jldopen)(::Array{Any,1}, ::JLD.#jldopen, ::String, ::Bool, ::Bool, ::Bool, ::Bool, ::Bool) at ./<missing>:0",
      " in #jldopen#10(::Bool, ::Bool, ::Bool, ::Function, ::String, ::String) at /home/robert/.julia/v0.5/JLD/src/JLD.jl:244",
      " in jldopen(::String, ::String) at /home/robert/.julia/v0.5/JLD/src/JLD.jl:244",
      " in #jldopen#11(::Array{Any,1}, ::Function, ::JLD.##41#42{String}, ::String, ::Vararg{String,N}) at /home/robert/.julia/v0.5/JLD/src/JLD.jl:254",
      " in load(::FileIO.File{FileIO.DataFormat{:JLD}}, ::String) at /home/robert/.julia/v0.5/JLD/src/JLD.jl:1276",
      " in #load#13(::Array{Any,1}, ::Function, ::String, ::String, ::Vararg{String,N}) at /home/robert/.julia/v0.5/FileIO/src/loadsave.jl:52",
      " in showDetails(::String) at /home/robert/git/Toure_cheikh_modernSketches/BigRidge/src/dataLoad.jl:45",
      " in include_string(::String, ::String) at ./loading.jl:441"
     ]
    }
   ],
   "source": [
    "dataset = \"a9a\"   # news20.binary  rcv1_train.multiclass rcv1_train.binary mnist.scale  a9a  gisette_scale \n",
    "prob = defineProb(dataset);\n",
    "showDetails(dataset)"
   ]
  },
  {
   "cell_type": "code",
   "execution_count": 6,
   "metadata": {
    "collapsed": false
   },
   "outputs": [
    {
     "data": {
      "text/plain": [
       "29961.767653199953"
      ]
     },
     "execution_count": 6,
     "metadata": {},
     "output_type": "execute_result"
    }
   ],
   "source": [
    "norm(prob.A*prob.xsol - prob.b)"
   ]
  },
  {
   "cell_type": "code",
   "execution_count": 7,
   "metadata": {
    "collapsed": true
   },
   "outputs": [],
   "source": [
    "options = MyOptions(0,\"uni\",tol,restol,maxiter,skip_error_calculation,max_time,printiters,exacterror,[]) \n",
    "OUTPUTS = [];"
   ]
  },
  {
   "cell_type": "code",
   "execution_count": 118,
   "metadata": {
    "collapsed": false
   },
   "outputs": [
    {
     "name": "stdout",
     "output_type": "stream",
     "text": [
      "rademacher-217-2\n",
      "-------------------\n",
      "It   | Error% | Residual |  Time   \n",
      "-------------------\n",
      " 25  | 39.90  |  22.08  | 17.8263 \n",
      " 50  | 26.28  |  12.41  | 36.3336 \n",
      " 75  | 19.18  |  8.85  | 53.4713 \n",
      "100  | 14.14  |  7.15  | 71.2183 \n",
      "125  | 11.92  |  6.00  | 90.7484 \n",
      "150  | 9.80  |  4.97  | 107.9083 \n",
      "175  | 8.00  |  4.26  | 123.8179 \n",
      "200  | 7.18  |  3.79  | 139.9509 \n",
      "225  | 6.28  |  3.46  | 155.9391 \n",
      "250  | 5.59  |  3.24  | 172.2164 \n",
      "275  | 4.97  |  2.88  | 188.0398 \n",
      "293  | 4.61  |  2.51  | 200.2195 \n",
      "226.352055 seconds (1.80 M allocations: 67.752 GB, 2.80% gc time)\n",
      "rademacher-50-5\n",
      "-------------------\n",
      "It   | Error% | Residual |  Time   \n",
      "-------------------\n",
      " 25  | 59.03  |  38.60  | 6.8816 \n",
      " 50  | 47.16  |  22.12  | 14.3426 \n",
      " 75  | 39.84  |  16.04  | 21.5649 \n",
      "100  | 33.98  |  12.78  | 28.7581 \n",
      "125  | 30.43  |  11.89  | 35.6075 \n",
      "150  | 27.35  |  10.35  | 42.9313 \n",
      "175  | 24.78  |  9.42  | 49.5897 \n",
      "200  | 22.77  |  8.85  | 56.9936 \n",
      "225  | 21.03  |  8.13  | 63.8718 \n",
      "250  | 19.42  |  7.65  | 71.8641 \n",
      "275  | 18.07  |  7.06  | 78.6265 \n",
      "300  | 16.73  |  6.66  | 85.4801 \n",
      "325  | 15.58  |  6.21  | 92.1325 \n",
      "350  | 14.57  |  5.78  | 98.8148 \n",
      "375  | 13.59  |  5.43  | 105.9988 \n",
      "400  | 12.89  |  5.10  | 113.1763 \n",
      "425  | 12.81  |  4.95  | 119.8252 \n",
      "450  | 11.48  |  4.84  | 126.8693 \n",
      "475  | 10.73  |  4.37  | 133.4022 \n",
      "500  | 10.36  |  4.11  | 139.9881 \n",
      "525  | 9.18  |  3.89  | 146.6388 \n",
      "550  | 9.71  |  3.91  | 153.4598 \n",
      "575  | 8.20  |  3.49  | 160.1787 \n",
      "600  | 8.31  |  3.41  | 166.9545 \n",
      "625  | 7.96  |  3.33  | 173.6436 \n",
      "650  | 7.63  |  3.17  | 180.3340 \n",
      "675  | 7.30  |  3.00  | 186.8803 \n",
      "700  | 6.87  |  2.94  | 193.7399 \n",
      "724  | 6.85  |  2.75  | 200.0727 \n",
      "258.030519 seconds (1.06 M allocations: 76.679 GB, 2.61% gc time)\n",
      "rademacher-5-10\n",
      "-------------------\n",
      "It   | Error% | Residual |  Time   \n",
      "-------------------\n",
      " 25  | 86.62  |  79.82  | 1.2452 \n",
      " 50  | 80.11  |  66.96  | 2.3157 \n",
      " 75  | 73.14  |  53.45  | 3.6044 \n",
      "100  | 70.68  |  50.48  | 5.3218 \n",
      "125  | 68.45  |  47.04  | 6.5465 \n",
      "150  | 65.37  |  42.49  | 7.6123 \n",
      "175  | 63.90  |  41.07  | 9.0270 \n",
      "200  | 61.39  |  35.65  | 10.4058 \n",
      "225  | 59.84  |  33.06  | 11.6757 \n",
      "250  | 57.67  |  30.15  | 12.8136 \n",
      "275  | 55.97  |  27.10  | 14.3572 \n",
      "300  | 54.87  |  26.08  | 16.0268 \n",
      "325  | 52.19  |  23.25  | 17.0919 \n",
      "350  | 51.71  |  22.79  | 18.1566 \n",
      "375  | 50.85  |  21.61  | 20.1770 \n",
      "400  | 49.46  |  21.28  | 21.9886 \n",
      "425  | 48.74  |  20.57  | 23.3389 \n",
      "450  | 47.87  |  19.95  | 25.0814 \n",
      "475  | 47.85  |  19.42  | 26.2973 \n",
      "500  | 46.19  |  18.79  | 27.4015 \n",
      "525  | 45.61  |  18.41  | 28.6074 \n",
      "550  | 44.72  |  17.51  | 30.1620 \n",
      "575  | 44.64  |  17.15  | 31.3146 \n",
      "600  | 43.26  |  16.86  | 32.4174 \n",
      "625  | 42.43  |  16.67  | 33.8838 \n",
      "650  | 42.79  |  15.83  | 35.0895 \n",
      "675  | 41.63  |  15.41  | 36.2495 \n",
      "700  | 41.09  |  15.04  | 37.5352 \n",
      "725  | 40.89  |  14.87  | 38.9012 \n",
      "750  | 40.14  |  14.79  | 39.9619 \n",
      "775  | 39.26  |  14.36  | 41.2128 \n",
      "800  | 38.96  |  14.03  | 42.5388 \n",
      "825  | 38.29  |  13.89  | 43.6024 \n",
      "850  | 37.71  |  13.33  | 44.8087 \n",
      "875  | 36.81  |  12.72  | 45.8831 \n",
      "900  | 36.16  |  12.48  | 47.2132 \n",
      "925  | 36.24  |  12.30  | 48.3202 \n",
      "950  | 35.59  |  12.22  | 49.3876 \n",
      "975  | 35.56  |  12.18  | 50.5422 \n",
      "1000  | 34.64  |  11.74  | 51.8106 \n",
      "1025  | 34.68  |  11.63  | 53.0710 \n",
      "1050  | 33.34  |  11.51  | 54.1484 \n",
      "1075  | 33.39  |  11.19  | 55.8230 \n",
      "1100  | 32.98  |  11.30  | 56.9093 \n",
      "1125  | 32.29  |  11.03  | 57.9671 \n",
      "1150  | 32.18  |  10.80  | 59.0190 \n",
      "1175  | 31.48  |  10.73  | 60.3537 \n",
      "1200  | 31.19  |  10.74  | 61.6811 \n",
      "1225  | 31.12  |  10.51  | 62.7527 \n",
      "1250  | 30.50  |  10.26  | 64.2138 \n",
      "1275  | 30.29  |  10.21  | 65.2890 \n",
      "1300  | 30.00  |  10.05  | 66.3582 \n",
      "1325  | 29.21  |  10.09  | 67.4220 \n",
      "1350  | 29.18  |  9.81  | 68.5722 \n",
      "1375  | 28.87  |  9.53  | 69.8414 \n",
      "1400  | 28.57  |  9.41  | 71.1105 \n",
      "1425  | 28.28  |  9.15  | 72.2086 \n",
      "1450  | 27.96  |  9.15  | 73.3027 \n",
      "1475  | 27.71  |  9.12  | 74.8741 \n",
      "1500  | 27.45  |  9.02  | 76.1653 \n",
      "1525  | 27.18  |  8.82  | 77.2387 \n",
      "1550  | 26.91  |  8.70  | 78.8599 \n",
      "1575  | 26.74  |  8.64  | 80.2102 \n",
      "1600  | 26.87  |  8.43  | 81.3745 \n",
      "1625  | 26.69  |  8.39  | 82.6167 \n",
      "1650  | 25.86  |  8.28  | 84.4722 \n",
      "1675  | 25.23  |  8.23  | 85.7017 \n",
      "1700  | 25.43  |  8.18  | 86.8065 \n",
      "1725  | 25.21  |  8.15  | 88.0488 \n",
      "1750  | 25.72  |  8.18  | 89.8158 \n",
      "1775  | 24.79  |  7.96  | 91.1331 \n",
      "1800  | 24.55  |  7.86  | 92.2407 \n",
      "1825  | 24.31  |  7.89  | 93.3348 \n",
      "1850  | 24.13  |  7.82  | 94.9504 \n",
      "1875  | 23.81  |  7.69  | 96.0784 \n",
      "1900  | 23.13  |  7.67  | 97.3217 \n",
      "1925  | 23.52  |  7.54  | 98.6796 \n",
      "1950  | 23.29  |  7.60  | 99.7642 \n",
      "1975  | 23.08  |  7.50  | 101.2738 \n",
      "2000  | 22.60  |  7.37  | 102.3558 \n",
      "263.310242 seconds (401.14 k allocations: 38.893 GB, 1.41% gc time)\n",
      "rademacher-2-50\n",
      "-------------------\n",
      "It   | Error% | Residual |  Time   \n",
      "-------------------\n",
      " 25  | 92.89  |  86.43  | 1.9538 \n",
      " 50  | 80.66  |  64.23  | 4.3402 \n",
      " 75  | 76.48  |  56.28  | 6.1667 \n",
      "100  | 74.84  |  53.68  | 8.1488 \n",
      "125  | 71.57  |  50.29  | 10.2954 \n",
      "150  | 70.38  |  47.86  | 12.4195 \n",
      "175  | 68.48  |  44.15  | 14.2985 \n",
      "200  | 65.15  |  38.18  | 16.6002 \n",
      "225  | 63.96  |  35.31  | 18.5045 \n",
      "250  | 62.60  |  33.28  | 20.3301 \n",
      "275  | 61.65  |  32.09  | 22.8556 \n",
      "300  | 60.03  |  28.02  | 24.8295 \n",
      "325  | 59.12  |  27.40  | 26.8436 \n",
      "350  | 58.21  |  26.11  | 29.0329 \n",
      "375  | 57.32  |  24.87  | 30.8403 \n",
      "400  | 56.76  |  23.82  | 32.7107 \n",
      "425  | 55.95  |  23.10  | 35.1539 \n",
      "450  | 55.08  |  22.64  | 37.6824 \n",
      "475  | 54.39  |  21.90  | 39.4566 \n",
      "500  | 53.64  |  21.48  | 41.6174 \n",
      "525  | 53.86  |  21.06  | 43.5129 \n",
      "550  | 52.91  |  20.58  | 45.5151 \n",
      "575  | 52.50  |  20.60  | 47.4694 \n",
      "600  | 52.32  |  20.00  | 49.8598 \n",
      "625  | 51.54  |  19.49  | 51.6370 \n",
      "650  | 51.21  |  19.26  | 54.3139 \n",
      "675  | 50.66  |  18.94  | 56.2695 \n",
      "700  | 50.35  |  18.31  | 58.0554 \n",
      "725  | 49.77  |  18.07  | 60.2504 \n",
      "750  | 49.37  |  17.84  | 62.4317 \n",
      "775  | 48.85  |  17.40  | 64.2231 \n",
      "800  | 48.79  |  17.26  | 66.3661 \n",
      "825  | 48.31  |  17.00  | 69.2684 \n",
      "850  | 47.95  |  16.85  | 71.5544 \n",
      "875  | 47.53  |  16.50  | 73.3924 \n",
      "900  | 47.15  |  16.12  | 76.5450 \n",
      "925  | 46.74  |  15.96  | 78.7388 \n",
      "950  | 46.51  |  15.89  | 80.6600 \n",
      "975  | 46.13  |  15.76  | 83.2543 \n",
      "1000  | 45.76  |  15.75  | 85.8784 \n",
      "1025  | 45.38  |  15.17  | 87.8192 \n",
      "1050  | 45.05  |  15.05  | 89.8720 \n",
      "1075  | 44.46  |  14.83  | 92.0904 \n",
      "1100  | 44.29  |  14.70  | 93.9734 \n",
      "1125  | 44.16  |  14.23  | 96.4321 \n",
      "1150  | 43.93  |  14.24  | 98.4458 \n",
      "1175  | 43.63  |  13.94  | 100.4843 \n",
      "1200  | 43.33  |  13.80  | 102.3096 \n",
      "1225  | 43.77  |  13.74  | 104.4419 \n",
      "1250  | 42.54  |  13.53  | 106.3373 \n",
      "1275  | 42.96  |  13.47  | 108.1719 \n",
      "1300  | 42.62  |  13.27  | 110.4092 \n",
      "1325  | 41.76  |  13.23  | 113.2313 \n",
      "1350  | 41.59  |  13.02  | 115.3570 \n",
      "1375  | 41.52  |  12.92  | 117.8440 \n",
      "1400  | 41.12  |  12.65  | 119.7666 \n",
      "1425  | 40.55  |  12.62  | 121.8772 \n",
      "1450  | 40.30  |  12.54  | 124.5054 \n",
      "1475  | 40.49  |  12.43  | 126.7452 \n",
      "1500  | 40.26  |  12.28  | 128.8484 \n",
      "1525  | 40.08  |  12.22  | 131.5751 \n",
      "1550  | 39.84  |  12.01  | 133.9472 \n",
      "1575  | 39.68  |  11.76  | 136.6644 \n",
      "1600  | 39.43  |  11.63  | 138.6413 \n",
      "1625  | 39.20  |  11.61  | 140.9995 \n",
      "1650  | 39.71  |  11.45  | 143.1320 \n",
      "1675  | 38.83  |  11.48  | 145.2554 \n",
      "1700  | 38.65  |  11.34  | 147.3254 \n",
      "1725  | 38.48  |  11.37  | 149.4760 \n",
      "1750  | 38.29  |  11.48  | 151.2870 \n",
      "1775  | 38.07  |  11.35  | 153.4920 \n",
      "1800  | 37.83  |  11.03  | 155.3884 \n",
      "1825  | 37.47  |  10.96  | 157.5175 \n",
      "1850  | 37.14  |  11.07  | 159.3086 \n",
      "1875  | 37.88  |  10.62  | 161.4720 \n",
      "1900  | 37.06  |  10.75  | 163.4262 \n",
      "1925  | 36.91  |  10.50  | 165.3091 \n",
      "1950  | 36.38  |  10.57  | 167.3722 \n",
      "1975  | 36.18  |  10.50  | 169.3710 \n",
      "2000  | 36.12  |  10.33  | 171.5645 \n",
      "335.553405 seconds (233.73 k allocations: 71.977 GB, 1.35% gc time)\n"
     ]
    }
   ],
   "source": [
    "options.AUX = [0 2]; # don't use sign flipping and use a density of 10 per row\n",
    "method_name = \"rademacher\";# ROS\n",
    "options.sketchsize = floor((prob.n)^(1/2)); #\n",
    "@time   output= solveRidge(prob, method_name, options);\n",
    "OUTPUTS = [OUTPUTS ; output];\n",
    "options.AUX = [0 5]; # don't use sign flipping and use a density of 10 per row\n",
    "method_name = \"rademacher\";# ROS\n",
    "options.sketchsize = 50; #floor((prob.n)^(1/2));\n",
    "@time   output= solveRidge(prob, method_name, options);\n",
    "OUTPUTS = [OUTPUTS ; output];\n",
    "options.AUX = [0 10]; # don't use sign flipping and use a density of 10 per row\n",
    "method_name = \"rademacher\";# ROS\n",
    "options.sketchsize = 5; #floor((prob.n)^(1/2));\n",
    "@time   output= solveRidge(prob, method_name, options);\n",
    "OUTPUTS = [OUTPUTS ; output];\n",
    "options.AUX = [0 50]; # don't use sign flipping and use a density of 10 per row\n",
    "method_name = \"rademacher\";# ROS\n",
    "options.sketchsize = 2; #floor((prob.n)^(1/2));\n",
    "@time   output= solveRidge(prob, method_name, options);\n",
    "OUTPUTS = [OUTPUTS ; output];"
   ]
  },
  {
   "cell_type": "code",
   "execution_count": 98,
   "metadata": {
    "collapsed": true
   },
   "outputs": [],
   "source": [
    "# Testing Hadamard Sketch\n",
    "# method_name = \"Hadamard\";# ROS\n",
    "# options.sketchsize =10; # Int(floor(log2(prob.n)));\n",
    "# options.skip_error_calculation =25;\n",
    "# @time  output= solveRidge(prob, method_name, options);\n",
    "# OUTPUTS = [OUTPUTS ; output];"
   ]
  },
  {
   "cell_type": "code",
   "execution_count": 99,
   "metadata": {
    "collapsed": true
   },
   "outputs": [],
   "source": [
    "# Testing countmin \n",
    "options.sketchsize =10;#floor((prob.n)^(1/2));\n",
    "options.skip_error_calculation =25;\n",
    "method_name = \"countmin\";# gradient descent\n",
    "@time output= solveRidge(prob, method_name, options);\n",
    "OUTPUTS = [OUTPUTS ; output];"
   ]
  },
  {
   "cell_type": "code",
   "execution_count": 119,
   "metadata": {
    "collapsed": false
   },
   "outputs": [
    {
     "name": "stdout",
     "output_type": "stream",
     "text": [
      "CG\n",
      "-------------------\n",
      "It   | Error% | Residual |  Time   \n",
      "-------------------\n",
      " 25  | 3.39  |  4.19  | 24.3342 \n",
      " 50  | 1.12  |  1.00  | 49.5141 \n",
      " 75  | 0.60  |  0.55  | 73.9979 \n",
      "100  | 0.39  |  0.38  | 99.0870 \n",
      "125  | 0.98  |  0.31  | 125.1789 \n",
      "150  | 0.61  |  0.29  | 150.9208 \n",
      "175  | 0.98  |  0.18  | 177.3980 \n",
      "200  | 0.14  |  0.16  | 199.8178 \n",
      "201  | 0.14  |  0.19  | 200.5961 \n",
      "222.282549 seconds (23.17 k allocations: 599.786 MB, 0.11% gc time)\n"
     ]
    }
   ],
   "source": [
    "# Testing CG \n",
    "method_name = \"CG\";# gradient descent\n",
    "@time output= solveRidge(prob, method_name, options);\n",
    "OUTPUTS = [OUTPUTS ; output];"
   ]
  },
  {
   "cell_type": "code",
   "execution_count": 120,
   "metadata": {
    "collapsed": false
   },
   "outputs": [
    {
     "name": "stdout",
     "output_type": "stream",
     "text": [
      "CD-10\n",
      "-------------------\n",
      "It   | Error% | Residual |  Time   \n",
      "-------------------\n",
      " 64  | 89.79  |  84.95  | 0.5997 \n",
      "100  | 83.05  |  76.49  | 1.1823 \n",
      "150  | 76.15  |  65.61  | 1.5997 \n",
      "200  | 72.23  |  60.91  | 2.1854 \n",
      "250  | 67.65  |  54.88  | 2.6127 \n",
      "300  | 63.25  |  48.18  | 3.0807 \n",
      "350  | 59.64  |  43.07  | 3.4940 \n",
      "400  | 56.24  |  40.49  | 3.9414 \n",
      "450  | 54.03  |  37.71  | 4.6443 \n",
      "500  | 52.80  |  35.67  | 5.2829 \n",
      "550  | 50.13  |  32.75  | 5.9706 \n",
      "600  | 48.65  |  31.31  | 6.4587 \n",
      "650  | 47.48  |  30.03  | 7.0483 \n",
      "700  | 45.62  |  28.43  | 7.6835 \n",
      "750  | 44.62  |  27.78  | 8.3260 \n",
      "800  | 43.79  |  26.16  | 8.7347 \n",
      "850  | 41.78  |  23.79  | 9.2381 \n",
      "900  | 40.67  |  22.79  | 9.9001 \n",
      "950  | 38.24  |  21.45  | 10.5192 \n",
      "1000  | 37.96  |  20.89  | 11.0188 \n",
      "1050  | 36.13  |  19.75  | 11.8788 \n",
      "1100  | 36.39  |  19.26  | 12.3454 \n",
      "1150  | 35.18  |  18.50  | 13.0246 \n",
      "1200  | 34.10  |  18.14  | 13.4896 \n",
      "1250  | 33.27  |  17.10  | 13.9273 \n",
      "1300  | 32.63  |  16.77  | 14.5026 \n",
      "1350  | 31.96  |  16.48  | 15.3168 \n",
      "1400  | 31.26  |  15.82  | 15.7419 \n",
      "1450  | 30.68  |  15.75  | 16.3542 \n",
      "1500  | 30.10  |  15.39  | 17.2983 \n",
      "1550  | 29.75  |  15.41  | 17.8592 \n",
      "1600  | 28.92  |  15.29  | 18.4764 \n",
      "1650  | 28.78  |  15.20  | 19.2522 \n",
      "1700  | 27.62  |  14.13  | 19.8306 \n",
      "1750  | 27.07  |  13.87  | 20.4363 \n",
      "1800  | 26.68  |  13.76  | 21.0182 \n",
      "1850  | 26.17  |  13.65  | 21.6480 \n",
      "1900  | 25.70  |  13.36  | 22.0649 \n",
      "1950  | 25.27  |  13.39  | 22.7986 \n",
      "2000  | 24.65  |  13.23  | 23.2654 \n",
      "2050  | 24.15  |  13.18  | 23.7044 \n",
      "2100  | 23.78  |  12.98  | 24.2138 \n",
      "2150  | 23.26  |  12.67  | 24.6548 \n",
      "2200  | 22.87  |  12.45  | 25.2330 \n",
      "2250  | 22.43  |  12.60  | 25.6424 \n",
      "2300  | 22.05  |  12.07  | 26.2680 \n",
      "2350  | 21.29  |  12.00  | 26.9669 \n",
      "2400  | 21.33  |  12.01  | 27.3994 \n",
      "2450  | 20.87  |  11.66  | 28.2453 \n",
      "2500  | 20.57  |  11.36  | 28.8639 \n",
      "2550  | 20.19  |  11.29  | 29.5617 \n",
      "2600  | 19.91  |  11.17  | 30.2085 \n",
      "2650  | 19.63  |  11.19  | 30.7384 \n",
      "2700  | 19.32  |  11.12  | 31.6471 \n",
      "2750  | 19.07  |  10.93  | 32.1115 \n",
      "2800  | 18.82  |  10.78  | 32.5188 \n",
      "2850  | 18.56  |  10.49  | 33.1454 \n",
      "2900  | 18.32  |  10.50  | 33.6203 \n",
      "2950  | 18.33  |  10.35  | 34.6854 \n",
      "3000  | 17.88  |  10.08  | 35.3805 \n",
      "3050  | 17.45  |  9.95  | 35.8883 \n",
      "3100  | 17.97  |  9.94  | 36.3576 \n",
      "3150  | 17.39  |  9.78  | 36.8822 \n",
      "3200  | 16.57  |  9.70  | 37.3185 \n",
      "3250  | 16.69  |  9.65  | 37.9119 \n",
      "3300  | 16.47  |  9.63  | 38.5543 \n",
      "3350  | 16.25  |  9.16  | 39.0171 \n",
      "3400  | 16.03  |  9.05  | 39.6011 \n",
      "3450  | 15.69  |  9.25  | 40.1210 \n",
      "3500  | 15.84  |  8.98  | 40.7550 \n",
      "3550  | 15.22  |  8.92  | 41.3929 \n",
      "3600  | 14.98  |  8.71  | 41.8832 \n",
      "3650  | 14.81  |  8.66  | 42.8873 \n",
      "3700  | 14.59  |  8.47  | 43.5970 \n",
      "3750  | 14.91  |  8.36  | 44.0235 \n",
      "3800  | 14.67  |  8.33  | 44.5189 \n",
      "3850  | 14.02  |  8.12  | 45.0802 \n",
      "3900  | 13.56  |  8.03  | 45.4990 \n",
      "3950  | 13.61  |  8.01  | 46.1737 \n",
      "4000  | 13.46  |  7.93  | 46.6785 \n",
      "4050  | 13.31  |  7.87  | 47.2802 \n",
      "4100  | 13.15  |  7.75  | 47.9830 \n",
      "4150  | 12.96  |  7.67  | 48.6170 \n",
      "4200  | 12.84  |  7.74  | 49.2502 \n",
      "4250  | 12.70  |  7.70  | 49.8942 \n",
      "4300  | 12.55  |  7.59  | 50.5284 \n",
      "4350  | 12.44  |  7.55  | 51.1813 \n",
      "4400  | 12.32  |  7.58  | 51.5840 \n",
      "4450  | 12.18  |  7.43  | 52.2361 \n",
      "4500  | 12.66  |  7.38  | 52.9219 \n",
      "4550  | 11.14  |  7.38  | 53.3764 \n",
      "4600  | 11.57  |  7.33  | 54.3235 \n",
      "4650  | 11.85  |  7.34  | 54.7542 \n",
      "4700  | 11.23  |  7.32  | 55.4062 \n",
      "4750  | 11.35  |  7.29  | 55.8214 \n",
      "4800  | 11.23  |  7.40  | 56.3680 \n",
      "4850  | 11.83  |  7.24  | 57.7644 \n",
      "4900  | 11.72  |  6.90  | 58.3940 \n",
      "4950  | 10.60  |  6.88  | 59.0656 \n",
      "5000  | 10.78  |  6.76  | 59.5598 \n",
      "262.260928 seconds (277.69 k allocations: 17.799 GB, 0.96% gc time)\n",
      "CD-50\n",
      "-------------------\n",
      "It   | Error% | Residual |  Time   \n",
      "-------------------\n",
      " 50  | 66.05  |  57.62  | 2.8720 \n",
      "100  | 49.91  |  36.94  | 6.0834 \n",
      "150  | 41.26  |  23.47  | 8.8478 \n",
      "200  | 35.81  |  19.17  | 11.9217 \n",
      "250  | 31.66  |  17.18  | 14.0053 \n",
      "300  | 28.51  |  15.35  | 16.4757 \n",
      "350  | 25.62  |  14.39  | 19.1429 \n",
      "400  | 23.35  |  13.30  | 21.4632 \n",
      "450  | 21.46  |  12.16  | 23.7055 \n",
      "500  | 19.44  |  10.78  | 26.4265 \n",
      "550  | 18.28  |  9.86  | 28.8806 \n",
      "600  | 16.88  |  9.19  | 31.3047 \n",
      "650  | 15.53  |  8.56  | 33.5951 \n",
      "700  | 14.26  |  8.02  | 35.6487 \n",
      "750  | 13.61  |  7.51  | 38.0338 \n",
      "800  | 12.76  |  7.22  | 40.3728 \n",
      "850  | 12.52  |  7.07  | 42.5501 \n",
      "900  | 11.48  |  6.82  | 45.0037 \n",
      "950  | 10.65  |  6.39  | 47.2063 \n",
      "1000  | 10.80  |  6.13  | 49.3938 \n",
      "1050  | 9.64  |  5.97  | 51.4634 \n",
      "1100  | 9.20  |  5.69  | 54.6808 \n",
      "1150  | 8.55  |  5.44  | 57.2082 \n",
      "1200  | 8.67  |  5.16  | 60.2161 \n",
      "1250  | 8.50  |  5.05  | 62.2600 \n",
      "1300  | 7.75  |  4.79  | 64.5544 \n",
      "1350  | 7.43  |  4.57  | 67.4415 \n",
      "1400  | 7.12  |  4.47  | 69.8993 \n",
      "1450  | 6.79  |  4.26  | 71.9990 \n",
      "1500  | 6.15  |  4.18  | 74.1817 \n",
      "1550  | 6.64  |  4.05  | 76.1139 \n",
      "1600  | 6.58  |  4.00  | 78.5023 \n",
      "1650  | 5.87  |  3.73  | 80.5684 \n",
      "1700  | 5.68  |  3.65  | 82.6336 \n",
      "1750  | 5.49  |  3.57  | 85.1841 \n",
      "1800  | 5.34  |  3.47  | 87.5428 \n",
      "1850  | 5.17  |  3.47  | 89.3938 \n",
      "1900  | 5.01  |  3.18  | 91.4161 \n",
      "1950  | 4.84  |  3.25  | 93.7440 \n",
      "2000  | 4.90  |  3.09  | 96.0459 \n",
      "2050  | 4.59  |  3.08  | 98.1380 \n",
      "2100  | 4.97  |  2.90  | 100.5061 \n",
      "2150  | 4.32  |  2.82  | 103.0252 \n",
      "2200  | 4.22  |  2.81  | 105.2339 \n",
      "2250  | 4.11  |  2.75  | 107.8095 \n",
      "2300  | 3.96  |  2.64  | 110.0272 \n",
      "2350  | 3.86  |  2.39  | 112.0151 \n",
      "2400  | 3.78  |  2.33  | 114.1005 \n",
      "2450  | 3.69  |  2.29  | 116.5205 \n",
      "2500  | 3.62  |  2.24  | 118.6651 \n",
      "2550  | 3.52  |  2.17  | 120.8242 \n",
      "2600  | 3.45  |  2.18  | 122.9255 \n",
      "2650  | 3.39  |  2.17  | 125.4783 \n",
      "2700  | 3.33  |  2.15  | 127.5241 \n",
      "2750  | 3.25  |  2.11  | 129.7584 \n",
      "2800  | 3.18  |  2.06  | 132.0901 \n",
      "2850  | 3.11  |  2.11  | 134.4450 \n",
      "2900  | 3.62  |  1.97  | 136.6716 \n",
      "2950  | 3.00  |  1.91  | 139.2424 \n",
      "3000  | 2.94  |  1.89  | 142.0858 \n",
      "3050  | 2.89  |  1.85  | 144.0729 \n",
      "3100  | 2.85  |  1.87  | 146.6521 \n",
      "3150  | 2.79  |  1.87  | 149.2534 \n",
      "3200  | 2.74  |  1.79  | 152.1392 \n",
      "3250  | 2.70  |  1.81  | 154.5019 \n",
      "3300  | 2.66  |  1.82  | 156.5966 \n",
      "3350  | 2.42  |  1.72  | 158.5789 \n",
      "3400  | 2.07  |  1.77  | 161.4891 \n",
      "3450  | 2.73  |  1.69  | 164.2689 \n",
      "3500  | 2.00  |  1.68  | 166.6240 \n",
      "3550  | 2.45  |  1.71  | 169.0025 \n",
      "3600  | 2.37  |  1.61  | 171.1251 \n",
      "3650  | 2.19  |  1.62  | 173.2943 \n",
      "3700  | 2.33  |  1.63  | 176.0080 \n",
      "3750  | 2.32  |  1.59  | 178.5884 \n",
      "3800  | 2.29  |  1.57  | 180.9031 \n",
      "3850  | 2.26  |  1.56  | 183.1070 \n",
      "3900  | 2.23  |  1.51  | 185.8062 \n",
      "3950  | 2.50  |  1.50  | 187.8575 \n",
      "4000  | 2.22  |  1.47  | 189.9936 \n",
      "4050  | 2.67  |  1.45  | 191.8726 \n",
      "4100  | 2.89  |  1.43  | 194.2697 \n",
      "4150  | 2.20  |  1.47  | 197.0772 \n",
      "4200  | 2.07  |  1.47  | 199.4323 \n",
      "4207  | 2.07  |  1.47  | 200.0400 \n",
      "369.594543 seconds (256.19 k allocations: 74.379 GB, 1.38% gc time)\n"
     ]
    }
   ],
   "source": [
    "# Testing CD \n",
    "options.maxiter=5000;\n",
    "options.skip_error_calculation = 250;\n",
    "method_name = \"CD\";# gradient descent\n",
    "options.sketchsize = 10;#floor((prob.n)^(1/2));\n",
    "@time output= solveRidge(prob, method_name, options);\n",
    "OUTPUTS = [OUTPUTS ; output];\n",
    "method_name = \"CD\";# gradient descent\n",
    "options.sketchsize = 50;\n",
    "@time output= solveRidge(prob, method_name, options);\n",
    "OUTPUTS = [OUTPUTS ; output];"
   ]
  },
  {
   "cell_type": "code",
   "execution_count": 121,
   "metadata": {
    "collapsed": true
   },
   "outputs": [],
   "source": [
    "# OUTPUTS =[];\n",
    "# include(\"../src/call_all_methods.jl\")"
   ]
  },
  {
   "cell_type": "code",
   "execution_count": 122,
   "metadata": {
    "collapsed": true
   },
   "outputs": [],
   "source": [
    "savename = replace(prob.name, r\"[\\/]\", \"-\");\n",
    "save(\"../data/$(savename)-OUTPUTS.jld\", \"OUTPUTS\", OUTPUTS)"
   ]
  },
  {
   "cell_type": "code",
   "execution_count": 123,
   "metadata": {
    "collapsed": false
   },
   "outputs": [
    {
     "name": "stdout",
     "output_type": "stream",
     "text": [
      "rcv1_train.multiclass\n"
     ]
    }
   ],
   "source": [
    "#using GR\n",
    "using Plots\n",
    "pgfplots()\n",
    "plot_outputs_Plots(OUTPUTS,savename)"
   ]
  },
  {
   "cell_type": "code",
   "execution_count": 344,
   "metadata": {
    "collapsed": true
   },
   "outputs": [],
   "source": [
    "# Loading saved problem data\n",
    "probname = \"gisette_scale\"#\"gisette_scale\";  \n",
    "test = load(\"../data/$(probname)-OUTPUTS.jld\")\n",
    "OUTPUTS = test[\"OUTPUTS\"];"
   ]
  },
  {
   "cell_type": "code",
   "execution_count": 125,
   "metadata": {
    "collapsed": false
   },
   "outputs": [
    {
     "name": "stdout",
     "output_type": "stream",
     "text": [
      "rademacher-20-4\n",
      "-------------------\n",
      "It   | Error% | Residual |  Time   \n",
      "-------------------\n",
      "100  | 53.59  |  32.15  | 9.8752 \n",
      "200  | 40.72  |  18.19  | 19.2877 \n",
      "300  | 32.43  |  13.76  | 29.8606 \n",
      "400  | 28.10  |  11.28  | 40.1743 \n",
      "500  | 24.14  |  9.74  | 50.1443 \n",
      "600  | 21.41  |  9.03  | 59.9515 \n",
      "700  | 18.70  |  7.48  | 70.1964 \n",
      "800  | 16.30  |  6.57  | 80.9024 \n",
      "900  | 14.79  |  5.97  | 90.2410 \n",
      "1000  | 13.84  |  5.52  | 100.5206 \n",
      "1100  | 12.65  |  5.12  | 111.2109 \n",
      "1200  | 11.32  |  4.75  | 124.0030 \n",
      "1300  | 10.26  |  4.41  | 134.7009 \n",
      "1400  | 9.48  |  4.12  | 144.6959 \n",
      "1500  | 8.78  |  3.86  | 154.1839 \n",
      "1600  | 8.19  |  3.61  | 163.3525 \n",
      "1700  | 7.66  |  3.52  | 172.9010 \n",
      "1800  | 7.64  |  3.28  | 183.0576 \n",
      "1900  | 6.19  |  3.11  | 194.0066 \n",
      "2000  | 6.48  |  2.90  | 203.9059 \n",
      "2100  | 5.89  |  2.71  | 214.1605 \n",
      "2200  | 5.55  |  2.52  | 224.1497 \n",
      "2300  | 5.23  |  2.51  | 233.8348 \n",
      "2400  | 4.98  |  2.34  | 243.3699 \n",
      "2500  | 4.72  |  2.25  | 253.3765 \n",
      "2600  | 4.49  |  2.14  | 263.1168 \n",
      "2700  | 4.28  |  2.01  | 272.9493 \n",
      "2800  | 4.09  |  1.87  | 282.6587 \n",
      "2900  | 3.93  |  1.82  | 293.1325 \n",
      "2971  | 3.82  |  1.76  | 300.1431 \n",
      "363.390124 seconds (1.77 M allocations: 104.773 GB, 2.74% gc time)\n",
      "CG\n",
      "-------------------\n",
      "It   | Error% | Residual |  Time   \n",
      "-------------------\n",
      " 25  | 3.39  |  4.19  | 23.3061 \n",
      " 50  | 1.12  |  1.00  | 47.5004 \n",
      " 75  | 0.60  |  0.55  | 72.3198 \n",
      " 83.156020 seconds (5.07 k allocations: 224.814 MB, 0.11% gc time)\n",
      "CD-10\n",
      "-------------------\n",
      "It   | Error% | Residual |  Time   \n",
      "-------------------\n",
      "250  | 66.48  |  60.90  | 2.3743 \n",
      "500  | 53.62  |  43.16  | 4.9295 \n",
      "750  | 43.40  |  27.57  | 7.1672 \n",
      "1000  | 37.58  |  21.64  | 9.3269 \n",
      "1250  | 32.69  |  18.99  | 11.3822 \n",
      "1500  | 29.00  |  16.71  | 13.7854 \n",
      "1750  | 25.60  |  13.49  | 16.2530 \n",
      "2000  | 23.58  |  12.65  | 18.4847 \n",
      "2250  | 21.65  |  11.55  | 20.9346 \n",
      "2500  | 20.03  |  10.78  | 23.3358 \n",
      "2750  | 18.37  |  9.89  | 25.8463 \n",
      "3000  | 16.96  |  9.83  | 28.2671 \n",
      "3250  | 15.89  |  8.53  | 30.3330 \n",
      "3500  | 14.63  |  8.02  | 33.6139 \n",
      "3750  | 14.54  |  7.71  | 35.9031 \n",
      "4000  | 13.78  |  7.50  | 37.9612 \n",
      "4250  | 12.46  |  7.10  | 40.6315 \n",
      "4500  | 11.17  |  6.82  | 43.7690 \n",
      "4750  | 11.04  |  6.44  | 45.9058 \n",
      "5000  | 10.51  |  6.02  | 49.2611 \n",
      " 93.822579 seconds (201.96 k allocations: 17.654 GB, 1.63% gc time)\n",
      "rcv1_train.multiclass\n"
     ]
    }
   ],
   "source": [
    "OUTPUTS = []\n",
    "options.tol = 10.0^(-2.0);\n",
    "options.restol = 10.0^(-2.0);\n",
    "options.maxiter=9000000;\n",
    "options.max_time = 300;\n",
    "options.skip_error_calculation = 100;\n",
    "options.AUX = [0 10] # don't use sign flipping and use a density of 5 per row\n",
    "method_name = \"rademacher\";# ROS\n",
    "options.sketchsize = 100; #\n",
    "@time   output= solveRidge(prob, method_name, options);\n",
    "OUTPUTS = [OUTPUTS ; output];\n",
    "options.skip_error_calculation = 10;\n",
    "method_name = \"CG\";# gradient descent\n",
    "@time output= solveRidge(prob, method_name, options);\n",
    "OUTPUTS = [OUTPUTS ; output];\n",
    "options.maxiter=5000;\n",
    "options.skip_error_calculation = 500;\n",
    "method_name = \"CD\";# gradient descent\n",
    "options.sketchsize = 100;#floor((prob.n)^(1/2));\n",
    "@time output= solveRidge(prob, method_name, options);\n",
    "OUTPUTS = [OUTPUTS ; output];\n",
    "plot_outputs_Plots(OUTPUTS,savename)"
   ]
  },
  {
   "cell_type": "code",
   "execution_count": 133,
   "metadata": {
    "collapsed": false
   },
   "outputs": [
    {
     "name": "stdout",
     "output_type": "stream",
     "text": [
      "rcv1_train.multiclass\n"
     ]
    }
   ],
   "source": [
    "plot_outputs_Plots(OUTPUTS,savename)"
   ]
  },
  {
   "cell_type": "code",
   "execution_count": null,
   "metadata": {
    "collapsed": false
   },
   "outputs": [
    {
     "name": "stdout",
     "output_type": "stream",
     "text": [
      "CD-100\n",
      "-------------------\n",
      "It   | Error% | Residual |  Time   \n",
      "-------------------\n",
      "500  | 9.33  |  5.29  | 45.1216 \n"
     ]
    }
   ],
   "source": [
    "options.maxiter=20000;\n",
    "options.skip_error_calculation = 500;\n",
    "method_name = \"CD\";# gradient descent\n",
    "options.sketchsize = 100;#floor((prob.n)^(1/2));\n",
    "@time output= solveRidge(prob, method_name, options);\n",
    "OUTPUTS = [OUTPUTS ; output];\n"
   ]
  },
  {
   "cell_type": "code",
   "execution_count": null,
   "metadata": {
    "collapsed": true
   },
   "outputs": [],
   "source": []
  }
 ],
 "metadata": {
  "anaconda-cloud": {},
  "kernelspec": {
   "display_name": "Julia 0.5.2",
   "language": "julia",
   "name": "julia-0.5"
  },
  "language_info": {
   "file_extension": ".jl",
   "mimetype": "application/julia",
   "name": "julia",
   "version": "0.5.2"
  }
 },
 "nbformat": 4,
 "nbformat_minor": 1
}
