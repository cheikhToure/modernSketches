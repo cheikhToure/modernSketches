{
 "cells": [
  {
   "cell_type": "markdown",
   "metadata": {},
   "source": [
    "The main solving big ridge regression problems"
   ]
  },
  {
   "cell_type": "code",
   "execution_count": 1,
   "metadata": {
    "collapsed": true
   },
   "outputs": [],
   "source": [
    "workspace()"
   ]
  },
  {
   "cell_type": "code",
   "execution_count": 45,
   "metadata": {},
   "outputs": [],
   "source": [
    "using Plots"
   ]
  },
  {
   "cell_type": "code",
   "execution_count": 180,
   "metadata": {},
   "outputs": [
    {
     "name": "stderr",
     "output_type": "stream",
     "text": [
      "WARNING: Method definition (::Type{Main.MyOptions})(Int64, AbstractString, Float64, Float64, Int64, Int64, Float64, Bool, Bool) in module Main at /home/local/rgower/modernSketches/BigRidge/src/BigRidge.jl:13 overwritten at /home/local/rgower/modernSketches/BigRidge/src/BigRidge.jl:13.\n",
      "WARNING: Method definition (::Type{Main.MyOptions})(Any, Any, Any, Any, Any, Any, Any, Any, Any) in module Main at /home/local/rgower/modernSketches/BigRidge/src/BigRidge.jl:13 overwritten at /home/local/rgower/modernSketches/BigRidge/src/BigRidge.jl:13.\n",
      "WARNING: Method definition (::Type{Main.Prob})(Array{Float64, N<:Any}, Array{Float64, N<:Any}, Array{Float64, N<:Any}, Int64, Float64, AbstractString) in module Main at /home/local/rgower/modernSketches/BigRidge/src/BigRidge.jl:26 overwritten at /home/local/rgower/modernSketches/BigRidge/src/BigRidge.jl:26.\n",
      "WARNING: Method definition (::Type{Main.Prob})(Any, Any, Any, Any, Any, Any) in module Main at /home/local/rgower/modernSketches/BigRidge/src/BigRidge.jl:26 overwritten at /home/local/rgower/modernSketches/BigRidge/src/BigRidge.jl:26.\n",
      "WARNING: Method definition (::Type{Main.Method})(Int64, AbstractString, Function, Function) in module Main at /home/local/rgower/modernSketches/BigRidge/src/BigRidge.jl:35 overwritten at /home/local/rgower/modernSketches/BigRidge/src/BigRidge.jl:35.\n",
      "WARNING: Method definition (::Type{Main.Method})(Any, Any, Any, Any) in module Main at /home/local/rgower/modernSketches/BigRidge/src/BigRidge.jl:35 overwritten at /home/local/rgower/modernSketches/BigRidge/src/BigRidge.jl:35.\n",
      "WARNING: Method definition (::Type{Main.CGMethod})(Int64, AbstractString, Function, Function, Array{Float64, N<:Any}, Array{Float64, N<:Any}, Float64) in module Main at /home/local/rgower/modernSketches/BigRidge/src/BigRidge.jl:42 overwritten at /home/local/rgower/modernSketches/BigRidge/src/BigRidge.jl:42.\n",
      "WARNING: Method definition (::Type{Main.CGMethod})(Any, Any, Any, Any, Any, Any, Any) in module Main at /home/local/rgower/modernSketches/BigRidge/src/BigRidge.jl:42 overwritten at /home/local/rgower/modernSketches/BigRidge/src/BigRidge.jl:42.\n",
      "WARNING: Method definition (::Type{Main.Output})(Int64, Int64, Array{Float64, N<:Any}, Array{Float64, N<:Any}, Array{Float64, N<:Any}, AbstractString, AbstractString) in module Main at /home/local/rgower/modernSketches/BigRidge/src/BigRidge.jl:54 overwritten at /home/local/rgower/modernSketches/BigRidge/src/BigRidge.jl:54.\n",
      "WARNING: Method definition (::Type{Main.Output})(Any, Any, Any, Any, Any, Any, Any) in module Main at /home/local/rgower/modernSketches/BigRidge/src/BigRidge.jl:54 overwritten at /home/local/rgower/modernSketches/BigRidge/src/BigRidge.jl:54.\n",
      "WARNING: Method definition solveRidge(Main.Prob, Any, Main.MyOptions) in module Main at /home/local/rgower/modernSketches/BigRidge/src/solveRidge.jl:5 overwritten at /home/local/rgower/modernSketches/BigRidge/src/solveRidge.jl:5.\n",
      "WARNING: Method definition boot_method(AbstractString, Any, Main.MyOptions) in module Main at /home/local/rgower/modernSketches/BigRidge/src/boot_method.jl:2 overwritten at /home/local/rgower/modernSketches/BigRidge/src/boot_method.jl:2.\n",
      "WARNING: Method definition initDetails() in module Main at /home/local/rgower/modernSketches/BigRidge/src/dataLoad.jl:26 overwritten at /home/local/rgower/modernSketches/BigRidge/src/dataLoad.jl:26.\n",
      "WARNING: Method definition transformDataJLD(Any) in module Main at /home/local/rgower/modernSketches/BigRidge/src/dataLoad.jl:31 overwritten at /home/local/rgower/modernSketches/BigRidge/src/dataLoad.jl:31.\n",
      "WARNING: Method definition loadDataset(Any) in module Main at /home/local/rgower/modernSketches/BigRidge/src/dataLoad.jl:40 overwritten at /home/local/rgower/modernSketches/BigRidge/src/dataLoad.jl:40.\n",
      "WARNING: Method definition showDetails(Any) in module Main at /home/local/rgower/modernSketches/BigRidge/src/dataLoad.jl:45 overwritten at /home/local/rgower/modernSketches/BigRidge/src/dataLoad.jl:45.\n",
      "WARNING: Method definition readLIBSVM(AbstractString, Bool) in module Main at /home/local/rgower/modernSketches/BigRidge/src/dataLoad.jl:51 overwritten at /home/local/rgower/modernSketches/BigRidge/src/dataLoad.jl:51.\n",
      "WARNING: Method definition defineProb(Any) in module Main at /home/local/rgower/modernSketches/BigRidge/src/defineProb.jl:7 overwritten at /home/local/rgower/modernSketches/BigRidge/src/defineProb.jl:7.\n",
      "WARNING: Method definition get_randProb(Int64) in module Main at /home/local/rgower/modernSketches/BigRidge/src/get_randProb.jl:3 overwritten at /home/local/rgower/modernSketches/BigRidge/src/get_randProb.jl:3.\n",
      "WARNING: Method definition boot_grad(Main.Prob, Main.MyOptions) in module Main at /home/local/rgower/modernSketches/BigRidge/src/grad.jl:4 overwritten at /home/local/rgower/modernSketches/BigRidge/src/grad.jl:4.\n",
      "WARNING: Method definition step_grad(Main.Prob, Array{Float64, N<:Any}, Main.MyOptions) in module Main at /home/local/rgower/modernSketches/BigRidge/src/grad.jl:15 overwritten at /home/local/rgower/modernSketches/BigRidge/src/grad.jl:15.\n",
      "WARNING: Method definition boot_CD(Main.Prob, Main.MyOptions) in module Main at /home/local/rgower/modernSketches/BigRidge/src/CD.jl:5 overwritten at /home/local/rgower/modernSketches/BigRidge/src/CD.jl:5.\n",
      "WARNING: Method definition step_CD(Main.Prob, Array{Float64, N<:Any}, Main.MyOptions) in module Main at /home/local/rgower/modernSketches/BigRidge/src/CD.jl:13 overwritten at /home/local/rgower/modernSketches/BigRidge/src/CD.jl:13.\n",
      "WARNING: Method definition boot_CG(Main.Prob, Main.MyOptions) in module Main at /home/local/rgower/modernSketches/BigRidge/src/CG.jl:5 overwritten at /home/local/rgower/modernSketches/BigRidge/src/CG.jl:5.\n",
      "WARNING: Method definition step_CG(Main.Prob, Array{Float64, N<:Any}, Main.MyOptions, Main.CGMethod) in module Main at /home/local/rgower/modernSketches/BigRidge/src/CG.jl:17 overwritten at /home/local/rgower/modernSketches/BigRidge/src/CG.jl:17.\n",
      "WARNING: Method definition hada(Any, Any) in module Main at /home/local/rgower/modernSketches/BigRidge/src/hada.jl:4 overwritten at /home/local/rgower/modernSketches/BigRidge/src/hada.jl:4.\n",
      "WARNING: Method definition boot_Hadamard(Main.Prob, Main.MyOptions) in module Main at /home/local/rgower/modernSketches/BigRidge/src/Hadamard.jl:4 overwritten at /home/local/rgower/modernSketches/BigRidge/src/Hadamard.jl:4.\n",
      "WARNING: Method definition step_Hadamard(Main.Prob, Array{Float64, N<:Any}, Main.MyOptions) in module Main at /home/local/rgower/modernSketches/BigRidge/src/Hadamard.jl:17 overwritten at /home/local/rgower/modernSketches/BigRidge/src/Hadamard.jl:17.\n",
      "WARNING: Method definition boot_rademacher(Main.Prob, Main.MyOptions) in module Main at /home/local/rgower/modernSketches/BigRidge/src/rademacher.jl:2 overwritten at /home/local/rgower/modernSketches/BigRidge/src/rademacher.jl:2.\n",
      "WARNING: Method definition step_rademacher(Main.Prob, Array{Float64, N<:Any}, Main.MyOptions) in module Main at /home/local/rgower/modernSketches/BigRidge/src/rademacher.jl:16 overwritten at /home/local/rgower/modernSketches/BigRidge/src/rademacher.jl:16.\n",
      "WARNING: Method definition Countstream(Any, Any) in module Main at /home/local/rgower/modernSketches/BigRidge/src/Countstream.jl:2 overwritten at /home/local/rgower/modernSketches/BigRidge/src/Countstream.jl:2.\n",
      "WARNING: Method definition boot_countmin(Main.Prob, Main.MyOptions) in module Main at /home/local/rgower/modernSketches/BigRidge/src/countmin.jl:4 overwritten at /home/local/rgower/modernSketches/BigRidge/src/countmin.jl:4.\n",
      "WARNING: Method definition step_countmin(Main.Prob, Array{Float64, N<:Any}, Main.MyOptions) in module Main at /home/local/rgower/modernSketches/BigRidge/src/countmin.jl:15 overwritten at /home/local/rgower/modernSketches/BigRidge/src/countmin.jl:15.\n",
      "WARNING: Method definition plot_outputs_Plots(Any, Any) in module Main at /home/local/rgower/modernSketches/BigRidge/src/plot_outputs_Plots.jl:3 overwritten at /home/local/rgower/modernSketches/BigRidge/src/plot_outputs_Plots.jl:3.\n"
     ]
    },
    {
     "data": {
      "text/plain": [
       "plot_outputs_Plots (generic function with 1 method)"
      ]
     },
     "execution_count": 180,
     "metadata": {},
     "output_type": "execute_result"
    }
   ],
   "source": [
    "using StatsBase\n",
    "using JLD  \n",
    "include(\"../src/BigRidge.jl\")"
   ]
  },
  {
   "cell_type": "code",
   "execution_count": 181,
   "metadata": {
    "collapsed": true
   },
   "outputs": [],
   "source": [
    "#Basic parameters\n",
    "## Basic parameters\n",
    "maxiter=10^8;\n",
    "max_time = 10;\n",
    "max_epocs = 100;\n",
    "printiters = true;\n",
    "exacterror =true; \n",
    "tol = 10.0^(-5.0);\n",
    "restol = 10.0^(-5.0);\n",
    "skip_error_calculation = 25;   # number of iterations where error is not calculated (to save time!) ceil((m)^(1/2))"
   ]
  },
  {
   "cell_type": "code",
   "execution_count": 182,
   "metadata": {},
   "outputs": [
    {
     "name": "stdout",
     "output_type": "stream",
     "text": [
      "../data/a9a.jld\n",
      "../data/a9a.jld\n"
     ]
    }
   ],
   "source": [
    "dataset = \"a9a\"\n",
    "prob = defineProb(dataset);"
   ]
  },
  {
   "cell_type": "code",
   "execution_count": 183,
   "metadata": {},
   "outputs": [
    {
     "data": {
      "text/plain": [
       "4.459713089533306e-11"
      ]
     },
     "execution_count": 183,
     "metadata": {},
     "output_type": "execute_result"
    }
   ],
   "source": [
    "norm(prob.A*prob.xsol - prob.b)"
   ]
  },
  {
   "cell_type": "code",
   "execution_count": 184,
   "metadata": {
    "collapsed": true
   },
   "outputs": [],
   "source": [
    "options = MyOptions(0,\"uni\",tol,restol,maxiter,skip_error_calculation,max_time,printiters,exacterror) \n",
    "OUTPUTS = [];"
   ]
  },
  {
   "cell_type": "code",
   "execution_count": 200,
   "metadata": {},
   "outputs": [
    {
     "ename": "LoadError",
     "evalue": "DimensionMismatch(\"arrays could not be broadcast to a common size\")",
     "output_type": "error",
     "traceback": [
      "DimensionMismatch(\"arrays could not be broadcast to a common size\")",
      "",
      " in _bcs1(::Base.OneTo{Int64}, ::Base.OneTo{Int64}) at ./broadcast.jl:47",
      " in _bcs at ./broadcast.jl:40 [inlined]",
      " in broadcast_shape(::Tuple{Base.OneTo{Int64}}, ::Tuple{Base.OneTo{Int64},Base.OneTo{Int64}}) at ./broadcast.jl:34 (repeats 2 times)",
      " in broadcast_t at ./broadcast.jl:228 [inlined]",
      " in broadcast at ./broadcast.jl:230 [inlined]",
      " in broadcast_zpreserving at ./sparse/sparsematrix.jl:1681 [inlined]",
      " in .*(::Array{Int64,1}, ::Array{Float64,2}) at ./sparse/sparsematrix.jl:1718",
      " in macro expansion; at ./In[200]:28 [inlined]",
      " in anonymous at ./<missing>:?"
     ]
    }
   ],
   "source": [
    " s = options.sketchsize;\n",
    "    rho = convert(Int64,floor(prob.n/s)); #hard coded density of rows\n",
    "    ind = sample(1:prob.n,prob.n,replace=false); # shuffle all indices\n",
    "    modns = mod(prob.n,s);\n",
    "    divi = prob.n-modns;\n",
    "    sold =s;\n",
    "    if(modns!=0) \n",
    "        s= s+1;\n",
    "    end\n",
    "    indM = Array{Int64}(s,rho);# build a matrix indices with approx equally distributed number of indices over s rows\n",
    "    indM[1:sold,:] =reshape(ind[1:divi], sold,rho);\n",
    "    if(modns!=0)\n",
    "        indM[s,1:modns] = ind[divi+1:end];\n",
    "        indM[s,modns+1:end] =sample(1:prob.n, rho-modns,replace=false);\n",
    "    end\n",
    "    \n",
    "    sigs = sample(1:2,prob.n,replace=true).*2.-3;\n",
    "\n",
    "     SA = zeros(s,prob.n);\n",
    "     Sb = zeros(s);\n",
    "\n",
    "     for i =1:s\n",
    "           SA[i,:] = sum(sigs[indM[i,:]].*prob.A[indM[i,:],:],1)/s;\n",
    "           Sb[i] = sum(sigs[indM[i,:]].*prob.b[indM[i,:]])/s\n",
    "     end\n",
    "     SAS = zeros(s,s); \n",
    "      for i =1:s\n",
    "          SAS[i,:] = sum(sigs[indM[i,:]]'.*SA[:,indM[i,:]],2)/s;\n",
    "     end\n",
    "     y = SAS\\(SA*x-Sb);   # solving (S^TAS) y = (S^TAx-S^Tb)  \n",
    "     for i =1:s #adding on S^T y\n",
    "        x[indM[i,:]] = x[indM[i,:]]-sigs[indM[i,:]].*y[i];\n",
    "     end"
   ]
  },
  {
   "cell_type": "code",
   "execution_count": 210,
   "metadata": {},
   "outputs": [
    {
     "data": {
      "text/plain": [
       "24-element Array{Float64,1}:\n",
       " -0.31475\n",
       "  0.31475\n",
       "  0.31475\n",
       "  0.31475\n",
       " -0.31475\n",
       "  0.31475\n",
       " -0.31475\n",
       " -0.31475\n",
       "  0.31475\n",
       "  0.31475\n",
       " -0.31475\n",
       " -0.31475\n",
       "  0.31475\n",
       "  0.31475\n",
       " -0.31475\n",
       " -0.31475\n",
       " -0.31475\n",
       "  0.31475\n",
       "  0.31475\n",
       "  0.31475\n",
       " -0.31475\n",
       "  0.31475\n",
       " -0.31475\n",
       "  0.31475"
      ]
     },
     "execution_count": 210,
     "metadata": {},
     "output_type": "execute_result"
    }
   ],
   "source": [
    "i =1;\n",
    "sigs[indM[i,:]].*y[i]"
   ]
  },
  {
   "cell_type": "code",
   "execution_count": 191,
   "metadata": {},
   "outputs": [
    {
     "name": "stdout",
     "output_type": "stream",
     "text": [
      "rademacher\n",
      "-------------------\n",
      "It   | Error% | Residual |  Time   \n",
      "-------------------\n",
      " 25  | 4.90  |  2.66  | 0.0058 \n",
      " 50  | 2.48  |  1.67  | 0.0114 \n",
      " 75  | 1.48  |  1.05  | 0.0166 \n",
      "100  | 1.11  |  0.70  | 0.0360 \n",
      "125  | 0.88  |  0.52  | 0.0405 \n",
      "150  | 0.78  |  0.38  | 0.0498 \n",
      "175  | 0.71  |  0.41  | 0.0538 \n",
      "200  | 0.66  |  0.44  | 0.0594 \n",
      "  0.103245 seconds (44.16 k allocations: 36.432 MB, 4.41% gc time)\n"
     ]
    }
   ],
   "source": [
    "# Testing Rademarcher Sketch\n",
    "method_name = \"rademacher\";# ROS\n",
    "options.sketchsize =5;\n",
    "options.maxiter=200;\n",
    "@time   output= solveRidge(prob, method_name, options);\n",
    "OUTPUTS = [OUTPUTS ; output];"
   ]
  },
  {
   "cell_type": "code",
   "execution_count": 162,
   "metadata": {},
   "outputs": [
    {
     "name": "stdout",
     "output_type": "stream",
     "text": [
      "rademacher\n",
      "-------------------\n",
      "It   | Error% | Residual |  Time   \n",
      "-------------------\n",
      " 25  | 4.09  |  3.44  | 0.0065 \n",
      " 50  | 1.61  |  1.65  | 0.0181 \n",
      " 75  | 0.96  |  1.02  | 0.0237 \n",
      "100  | 0.65  |  0.62  | 0.0292 \n",
      "125  | 0.47  |  0.52  | 0.0344 \n",
      "150  | 0.36  |  0.35  | 0.0395 \n",
      "175  | 0.30  |  0.68  | 0.0487 \n",
      "200  | 0.26  |  0.27  | 0.0525 \n",
      "  0.060893 seconds (43.81 k allocations: 36.396 MB, 15.88% gc time)\n"
     ]
    }
   ],
   "source": [
    "# Testing Rademarcher Sketch\n",
    "method_name = \"rademacher\";# ROS\n",
    "options.sketchsize =5;\n",
    "options.maxiter=200;\n",
    "@time   output= solveRidge(prob, method_name, options);\n",
    "OUTPUTS = [OUTPUTS ; output];"
   ]
  },
  {
   "cell_type": "code",
   "execution_count": 77,
   "metadata": {},
   "outputs": [
    {
     "name": "stdout",
     "output_type": "stream",
     "text": [
      "flopsperiter: 247\n",
      "Hadamard\n",
      "-------------------\n",
      "It   | Error% | Residual |  Time   \n",
      "-------------------\n",
      " 25  | 26.22  |  15.76  | 0.2873 \n",
      " 50  | 15.05  |  8.98  | 0.4753 \n",
      " 75  | 12.14  |  7.24  | 0.6627 \n",
      "100  | 9.28  |  5.99  | 0.8511 \n",
      "125  | 6.00  |  4.39  | 1.0246 \n",
      "150  | 5.57  |  4.23  | 1.2168 \n",
      "175  | 5.12  |  3.55  | 1.4131 \n",
      "200  | 4.56  |  3.41  | 1.6115 \n",
      "  1.633492 seconds (15.71 M allocations: 1.651 GB, 23.07% gc time)\n"
     ]
    }
   ],
   "source": [
    "# Testing Hadamard Sketch\n",
    "method_name = \"Hadamard\";# ROS\n",
    "options.sketchsize =1; # Int(floor(log2(prob.n)));\n",
    "options.maxiter=200;\n",
    "options.skip_error_calculation =25;\n",
    "@time  output= solveRidge(prob, method_name, options);\n",
    "OUTPUTS = [OUTPUTS ; output];"
   ]
  },
  {
   "cell_type": "code",
   "execution_count": 78,
   "metadata": {},
   "outputs": [
    {
     "name": "stdout",
     "output_type": "stream",
     "text": [
      "  0.166638 seconds (116.06 k allocations: 6.144 MB)\n"
     ]
    }
   ],
   "source": [
    "y = rand(prob.n) \n",
    "@time hada(y,1:prob.n);"
   ]
  },
  {
   "cell_type": "code",
   "execution_count": 62,
   "metadata": {},
   "outputs": [
    {
     "name": "stdout",
     "output_type": "stream",
     "text": [
      "countmin\n",
      "-------------------\n",
      "It   | Error% | Residual |  Time   \n",
      "-------------------\n"
     ]
    },
    {
     "ename": "LoadError",
     "evalue": "UndefVarError: as not defined",
     "output_type": "error",
     "traceback": [
      "UndefVarError: as not defined",
      "",
      " in step_countmin(::LastMain.Prob, ::Array{Float64,1}, ::LastMain.MyOptions) at /home/local/rgower/modernSketches/BigRidge/src/countmin.jl:21",
      " in solveRidge(::LastMain.Prob, ::String, ::LastMain.MyOptions) at /home/local/rgower/modernSketches/BigRidge/src/solveRidge.jl:41"
     ]
    }
   ],
   "source": [
    "# Testing countmin \n",
    "# options.max_time = 2; options.restol = 10.0^(-8); \n",
    "# options.sketchsize =5;\n",
    "# options.skip_error_calculation =25;\n",
    "# method_name = \"countmin\";# gradient descent\n",
    "# output= solveRidge(prob, method_name, options);\n",
    "# OUTPUTS = [OUTPUTS ; output];"
   ]
  },
  {
   "cell_type": "code",
   "execution_count": 71,
   "metadata": {},
   "outputs": [
    {
     "name": "stdout",
     "output_type": "stream",
     "text": [
      "CG\n",
      "-------------------\n",
      "It   | Error% | Residual |  Time   \n",
      "-------------------\n",
      " 25  | 0.03  |  0.07  | 0.0467 \n",
      " 50  | 0.00  |  0.06  | 0.0473 \n",
      " 75  | 0.00  |  0.01  | 0.0479 \n"
     ]
    }
   ],
   "source": [
    "# Testing CG \n",
    "options.max_time = 2; options.restol = 10.0^(-8); \n",
    "options.skip_error_calculation =25;\n",
    "method_name = \"CG\";# gradient descent\n",
    "output= solveRidge(prob, method_name, options);\n",
    "OUTPUTS = [OUTPUTS ; output];"
   ]
  },
  {
   "cell_type": "code",
   "execution_count": 72,
   "metadata": {},
   "outputs": [
    {
     "name": "stdout",
     "output_type": "stream",
     "text": [
      "CD\n",
      "-------------------\n",
      "It   | Error% | Residual |  Time   \n",
      "-------------------\n",
      " 25  | 6.13  |  4.46  | 0.0451 \n",
      " 50  | 3.73  |  3.35  | 0.0456 \n",
      " 75  | 1.11  |  1.92  | 0.0461 \n",
      "100  | 0.52  |  0.98  | 0.0466 \n",
      "125  | 0.27  |  0.84  | 0.0471 \n",
      "150  | 0.19  |  0.47  | 0.0476 \n",
      "175  | 0.15  |  0.40  | 0.0481 \n",
      "200  | 0.12  |  0.28  | 0.0485 \n"
     ]
    }
   ],
   "source": [
    "# Testing CD \n",
    "options.max_time = 10; options.restol = 10.0^(-8); options.maxiter=200;\n",
    "method_name = \"CD\";# gradient descent\n",
    "options.sketchsize = 5#floor((prob.n)^(1/2));\n",
    "output= solveRidge(prob, method_name, options);\n",
    "OUTPUTS = [OUTPUTS ; output];"
   ]
  },
  {
   "cell_type": "code",
   "execution_count": 73,
   "metadata": {
    "collapsed": true
   },
   "outputs": [],
   "source": [
    "savename = replace(prob.name, r\"[\\/]\", \"-\");\n",
    "save(\"../data/$(savename)-OUTPUTS.jld\", \"OUTPUTS\", OUTPUTS)"
   ]
  },
  {
   "cell_type": "code",
   "execution_count": 74,
   "metadata": {},
   "outputs": [
    {
     "name": "stdout",
     "output_type": "stream",
     "text": [
      "a9a\n"
     ]
    }
   ],
   "source": [
    "#using GR\n",
    "using Plots\n",
    "pgfplots()\n",
    "plot_outputs_Plots(OUTPUTS,savename)"
   ]
  },
  {
   "cell_type": "code",
   "execution_count": 29,
   "metadata": {
    "collapsed": true
   },
   "outputs": [],
   "source": [
    "# Loading saved problem data\n",
    "probname = \"w8a\"#\"gisette_scale-ridge\";  \n",
    "test = load(\"../data/$(probname)-OUTPUTS.jld\")\n",
    "OUTPUTS = test[\"OUTPUTS\"];"
   ]
  },
  {
   "cell_type": "code",
   "execution_count": null,
   "metadata": {
    "collapsed": true
   },
   "outputs": [],
   "source": []
  }
 ],
 "metadata": {
  "anaconda-cloud": {},
  "kernelspec": {
   "display_name": "Julia 0.5.2",
   "language": "julia",
   "name": "julia-0.5"
  },
  "language_info": {
   "file_extension": ".jl",
   "mimetype": "application/julia",
   "name": "julia",
   "version": "0.5.2"
  }
 },
 "nbformat": 4,
 "nbformat_minor": 1
}
