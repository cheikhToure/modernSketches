{
 "cells": [
  {
   "cell_type": "markdown",
   "metadata": {},
   "source": [
    "The main solving big ridge regression problems"
   ]
  },
  {
   "cell_type": "code",
   "execution_count": 1,
   "metadata": {
    "collapsed": true
   },
   "outputs": [],
   "source": [
    "workspace()"
   ]
  },
  {
   "cell_type": "code",
   "execution_count": 2,
   "metadata": {},
   "outputs": [
    {
     "name": "stderr",
     "output_type": "stream",
     "text": [
      "WARNING: Method definition (::Type{Main.Base.LinearIndexing})(Type{#T<:Any}) in module Compat at /home/ROCQ/sierra/rgower/.julia/v0.5/Compat/src/Compat.jl:1430 overwritten in module Compat at /home/ROCQ/sierra/rgower/.julia/v0.5/Compat/src/Compat.jl:1430.\n",
      "WARNING: Method definition (::Type{Main.Base.LinearIndexing})(Any...) in module Compat at /home/ROCQ/sierra/rgower/.julia/v0.5/Compat/src/Compat.jl:1431 overwritten in module Compat at /home/ROCQ/sierra/rgower/.julia/v0.5/Compat/src/Compat.jl:1431.\n",
      "WARNING: Method definition unsafe_trunc(Type{#T<:Integer}, Integer) in module Compat at /home/ROCQ/sierra/rgower/.julia/v0.5/Compat/src/Compat.jl:1469 overwritten in module Compat at /home/ROCQ/sierra/rgower/.julia/v0.5/Compat/src/Compat.jl:1469.\n",
      "WARNING: Method definition convert(Type{Main.Base.Set{#T<:Any}}, Main.Base.Set{#T<:Any}) in module Compat at /home/ROCQ/sierra/rgower/.julia/v0.5/Compat/src/Compat.jl:1459 overwritten in module Compat at /home/ROCQ/sierra/rgower/.julia/v0.5/Compat/src/Compat.jl:1459.\n",
      "WARNING: Method definition convert(Type{Main.Base.Set{#T<:Any}}, Main.Base.Set) in module Compat at /home/ROCQ/sierra/rgower/.julia/v0.5/Compat/src/Compat.jl:1460 overwritten in module Compat at /home/ROCQ/sierra/rgower/.julia/v0.5/Compat/src/Compat.jl:1460.\n",
      "WARNING: Method definition bswap(Main.Base.Complex) in module Compat at /home/ROCQ/sierra/rgower/.julia/v0.5/Compat/src/Compat.jl:1474 overwritten in module Compat at /home/ROCQ/sierra/rgower/.julia/v0.5/Compat/src/Compat.jl:1474.\n",
      "WARNING: Method definition redirect_stderr(Function, Any) in module Compat at /home/ROCQ/sierra/rgower/.julia/v0.5/Compat/src/Compat.jl:1057 overwritten in module Compat at /home/ROCQ/sierra/rgower/.julia/v0.5/Compat/src/Compat.jl:1057.\n",
      "WARNING: Method definition take!(Task) in module Compat at /home/ROCQ/sierra/rgower/.julia/v0.5/Compat/src/Compat.jl:53 overwritten in module Compat at /home/ROCQ/sierra/rgower/.julia/v0.5/Compat/src/Compat.jl:53.\n",
      "WARNING: Method definition take!(Main.Base.AbstractIOBuffer) in module Compat at /home/ROCQ/sierra/rgower/.julia/v0.5/Compat/src/Compat.jl:1172 overwritten in module Compat at /home/ROCQ/sierra/rgower/.julia/v0.5/Compat/src/Compat.jl:1172.\n",
      "WARNING: Method definition macroexpand(Module, ANY<:Any) in module Compat at /home/ROCQ/sierra/rgower/.julia/v0.5/Compat/src/Compat.jl:1491 overwritten in module Compat at /home/ROCQ/sierra/rgower/.julia/v0.5/Compat/src/Compat.jl:1491.\n",
      "WARNING: Method definition isless(Union{Main.Base.Dates.Week, Main.Base.Dates.Hour, Main.Base.Dates.Minute, Main.Base.Dates.Day, Main.Base.Dates.Millisecond, Main.Base.Dates.Second}, Union{Main.Base.Dates.Year, Main.Base.Dates.Month}) in module Compat at /home/ROCQ/sierra/rgower/.julia/v0.5/Compat/src/Compat.jl:1529 overwritten in module Compat at /home/ROCQ/sierra/rgower/.julia/v0.5/Compat/src/Compat.jl:1529.\n",
      "WARNING: Method definition isless(Union{Main.Base.Dates.Year, Main.Base.Dates.Month}, Union{Main.Base.Dates.Week, Main.Base.Dates.Hour, Main.Base.Dates.Minute, Main.Base.Dates.Day, Main.Base.Dates.Millisecond, Main.Base.Dates.Second}) in module Compat at /home/ROCQ/sierra/rgower/.julia/v0.5/Compat/src/Compat.jl:1530 overwritten in module Compat at /home/ROCQ/sierra/rgower/.julia/v0.5/Compat/src/Compat.jl:1530.\n",
      "WARNING: Method definition isless(Main.Base.Dates.Period, Main.Base.Dates.Period) in module Compat at /home/ROCQ/sierra/rgower/.julia/v0.5/Compat/src/Compat.jl:1524 overwritten in module Compat at /home/ROCQ/sierra/rgower/.julia/v0.5/Compat/src/Compat.jl:1524.\n",
      "WARNING: Method definition broadcast(Any, Tuple{Vararg{T<:Any, #N<:Any}}, Tuple{Vararg{T<:Any, #N<:Any}}...) in module Compat at /home/ROCQ/sierra/rgower/.julia/v0.5/Compat/src/Compat.jl:1122 overwritten in module Compat at /home/ROCQ/sierra/rgower/.julia/v0.5/Compat/src/Compat.jl:1122.\n",
      "WARNING: Method definition redirect_stdout(Function, Any) in module Compat at /home/ROCQ/sierra/rgower/.julia/v0.5/Compat/src/Compat.jl:1057 overwritten in module Compat at /home/ROCQ/sierra/rgower/.julia/v0.5/Compat/src/Compat.jl:1057.\n",
      "WARNING: Method definition expand(Module, ANY<:Any) in module Compat at /home/ROCQ/sierra/rgower/.julia/v0.5/Compat/src/Compat.jl:1490 overwritten in module Compat at /home/ROCQ/sierra/rgower/.julia/v0.5/Compat/src/Compat.jl:1490.\n",
      "WARNING: Method definition redirect_stdin(Function, Any) in module Compat at /home/ROCQ/sierra/rgower/.julia/v0.5/Compat/src/Compat.jl:1057 overwritten in module Compat at /home/ROCQ/sierra/rgower/.julia/v0.5/Compat/src/Compat.jl:1057.\n",
      "WARNING: Method definition zeros(AbstractArray) in module Compat at /home/ROCQ/sierra/rgower/.julia/v0.5/Compat/src/Compat.jl:1440 overwritten in module Compat at /home/ROCQ/sierra/rgower/.julia/v0.5/Compat/src/Compat.jl:1440.\n",
      "WARNING: Method definition zeros(AbstractArray, Type) in module Compat at /home/ROCQ/sierra/rgower/.julia/v0.5/Compat/src/Compat.jl:1440 overwritten in module Compat at /home/ROCQ/sierra/rgower/.julia/v0.5/Compat/src/Compat.jl:1440.\n",
      "WARNING: Method definition zeros(AbstractArray, Type, Tuple) in module Compat at /home/ROCQ/sierra/rgower/.julia/v0.5/Compat/src/Compat.jl:1438 overwritten in module Compat at /home/ROCQ/sierra/rgower/.julia/v0.5/Compat/src/Compat.jl:1438.\n",
      "WARNING: Method definition zeros(AbstractArray, Type, Any...) in module Compat at /home/ROCQ/sierra/rgower/.julia/v0.5/Compat/src/Compat.jl:1439 overwritten in module Compat at /home/ROCQ/sierra/rgower/.julia/v0.5/Compat/src/Compat.jl:1439.\n",
      "WARNING: Method definition isassigned(Main.Base.RefValue) in module Compat at /home/ROCQ/sierra/rgower/.julia/v0.5/Compat/src/Compat.jl:1465 overwritten in module Compat at /home/ROCQ/sierra/rgower/.julia/v0.5/Compat/src/Compat.jl:1465.\n",
      "WARNING: Method definition include_string(Module, String, String) in module Compat at /home/ROCQ/sierra/rgower/.julia/v0.5/Compat/src/Compat.jl:1492 overwritten in module Compat at /home/ROCQ/sierra/rgower/.julia/v0.5/Compat/src/Compat.jl:1492.\n",
      "WARNING: Method definition include_string(Module, AbstractString) in module Compat at /home/ROCQ/sierra/rgower/.julia/v0.5/Compat/src/Compat.jl:1494 overwritten in module Compat at /home/ROCQ/sierra/rgower/.julia/v0.5/Compat/src/Compat.jl:1494.\n",
      "WARNING: Method definition include_string(Module, AbstractString, AbstractString) in module Compat at /home/ROCQ/sierra/rgower/.julia/v0.5/Compat/src/Compat.jl:1494 overwritten in module Compat at /home/ROCQ/sierra/rgower/.julia/v0.5/Compat/src/Compat.jl:1494.\n",
      "WARNING: Method definition !(Function) in module Compat at /home/ROCQ/sierra/rgower/.julia/v0.5/Compat/src/Compat.jl:1205 overwritten in module Compat at /home/ROCQ/sierra/rgower/.julia/v0.5/Compat/src/Compat.jl:1205.\n",
      "WARNING: Method definition ==(Union{Main.Base.Dates.Week, Main.Base.Dates.Hour, Main.Base.Dates.Minute, Main.Base.Dates.Day, Main.Base.Dates.Millisecond, Main.Base.Dates.Second}, Union{Main.Base.Dates.Year, Main.Base.Dates.Month}) in module Compat at /home/ROCQ/sierra/rgower/.julia/v0.5/Compat/src/Compat.jl:1527 overwritten in module Compat at /home/ROCQ/sierra/rgower/.julia/v0.5/Compat/src/Compat.jl:1527.\n",
      "WARNING: Method definition ==(Union{Main.Base.Dates.Year, Main.Base.Dates.Month}, Union{Main.Base.Dates.Week, Main.Base.Dates.Hour, Main.Base.Dates.Minute, Main.Base.Dates.Day, Main.Base.Dates.Millisecond, Main.Base.Dates.Second}) in module Compat at /home/ROCQ/sierra/rgower/.julia/v0.5/Compat/src/Compat.jl:1528 overwritten in module Compat at /home/ROCQ/sierra/rgower/.julia/v0.5/Compat/src/Compat.jl:1528.\n",
      "WARNING: Method definition ==(Main.Base.Dates.Period, Main.Base.Dates.Period) in module Compat at /home/ROCQ/sierra/rgower/.julia/v0.5/Compat/src/Compat.jl:1523 overwritten in module Compat at /home/ROCQ/sierra/rgower/.julia/v0.5/Compat/src/Compat.jl:1523.\n",
      "WARNING: Method definition ones(AbstractArray) in module Compat at /home/ROCQ/sierra/rgower/.julia/v0.5/Compat/src/Compat.jl:1440 overwritten in module Compat at /home/ROCQ/sierra/rgower/.julia/v0.5/Compat/src/Compat.jl:1440.\n",
      "WARNING: Method definition ones(AbstractArray, Type) in module Compat at /home/ROCQ/sierra/rgower/.julia/v0.5/Compat/src/Compat.jl:1440 overwritten in module Compat at /home/ROCQ/sierra/rgower/.julia/v0.5/Compat/src/Compat.jl:1440.\n",
      "WARNING: Method definition ones(AbstractArray, Type, Tuple) in module Compat at /home/ROCQ/sierra/rgower/.julia/v0.5/Compat/src/Compat.jl:1438 overwritten in module Compat at /home/ROCQ/sierra/rgower/.julia/v0.5/Compat/src/Compat.jl:1438.\n",
      "WARNING: Method definition ones(AbstractArray, Type, Any...) in module Compat at /home/ROCQ/sierra/rgower/.julia/v0.5/Compat/src/Compat.jl:1439 overwritten in module Compat at /home/ROCQ/sierra/rgower/.julia/v0.5/Compat/src/Compat.jl:1439.\n",
      "WARNING: Method definition isnull(Any) in module Compat at /home/ROCQ/sierra/rgower/.julia/v0.5/Compat/src/Compat.jl:1137 overwritten in module Compat at /home/ROCQ/sierra/rgower/.julia/v0.5/Compat/src/Compat.jl:1137.\n"
     ]
    }
   ],
   "source": [
    "using Plots"
   ]
  },
  {
   "cell_type": "code",
   "execution_count": 3,
   "metadata": {},
   "outputs": [
    {
     "data": {
      "text/plain": [
       "plot_outputs_Plots (generic function with 1 method)"
      ]
     },
     "execution_count": 3,
     "metadata": {},
     "output_type": "execute_result"
    }
   ],
   "source": [
    "using StatsBase\n",
    "using JLD  \n",
    "include(\"../src/BigRidge.jl\")"
   ]
  },
  {
   "cell_type": "code",
   "execution_count": 4,
   "metadata": {
    "collapsed": true
   },
   "outputs": [],
   "source": [
    "## Basic parameters\n",
    "maxiter=2000;\n",
    "max_time = 200;\n",
    "max_epocs = 100;\n",
    "printiters = true;\n",
    "exacterror =true; \n",
    "tol = 10.0^(-5.0);\n",
    "restol = 10.0^(-5.0);\n",
    "skip_error_calculation = 25;   # number of iterations where error is not calculated (to save time!) ceil((m)^(1/2))"
   ]
  },
  {
   "cell_type": "code",
   "execution_count": 31,
   "metadata": {},
   "outputs": [
    {
     "name": "stdout",
     "output_type": "stream",
     "text": [
      "../data/a9a.jld\n"
     ]
    },
    {
     "ename": "LoadError",
     "evalue": "KeyError: key \"a9a\" not found",
     "output_type": "error",
     "traceback": [
      "KeyError: key \"a9a\" not found",
      "",
      " in getindex(::Dict{Any,Any}, ::String) at ./dict.jl:697",
      " in showDetails(::String) at /home/local/rgower/Toure_modernSketches/BigRidge/src/dataLoad.jl:45"
     ]
    }
   ],
   "source": [
    "dataset = \"a9a\"   # news20.binary  rcv1_train.multiclass rcv1_train.binary mnist.scale  a9a  gisette_scale \n",
    "prob = defineProb(dataset);\n",
    "showDetails(dataset)"
   ]
  },
  {
   "cell_type": "code",
   "execution_count": 6,
   "metadata": {},
   "outputs": [
    {
     "data": {
      "text/plain": [
       "2.3005354319649798e-11"
      ]
     },
     "execution_count": 6,
     "metadata": {},
     "output_type": "execute_result"
    }
   ],
   "source": [
    "norm(prob.A*prob.xsol - prob.b)"
   ]
  },
  {
   "cell_type": "code",
   "execution_count": 23,
   "metadata": {
    "collapsed": true
   },
   "outputs": [],
   "source": [
    "options = MyOptions(0,\"uni\",tol,restol,maxiter,skip_error_calculation,max_time,printiters,exacterror,[]) \n",
    "OUTPUTS = [];"
   ]
  },
  {
   "cell_type": "code",
   "execution_count": 24,
   "metadata": {},
   "outputs": [
    {
     "name": "stdout",
     "output_type": "stream",
     "text": [
      "rademacher-11-2\n",
      "-------------------\n",
      "It   | Error% | Residual |  Time   \n",
      "-------------------\n",
      " 25  | 1.38  |  1.38  | 0.0063 \n",
      " 50  | 0.25  |  0.38  | 0.0122 \n",
      " 75  | 0.10  |  0.18  | 0.0192 \n",
      "100  | 0.05  |  0.10  | 0.0260 \n",
      "125  | 0.03  |  0.08  | 0.0325 \n",
      "150  | 0.02  |  0.06  | 0.0403 \n",
      "175  | 0.05  |  0.04  | 0.0486 \n",
      "200  | 0.01  |  0.03  | 0.0538 \n",
      "225  | 0.01  |  0.03  | 0.0588 \n",
      "250  | 0.00  |  0.03  | 0.0637 \n",
      "275  | 0.00  |  0.02  | 0.0728 \n",
      "300  | 0.00  |  0.02  | 0.0772 \n",
      "325  | 0.00  |  0.02  | 0.0889 \n",
      "350  | 0.00  |  0.01  | 0.0930 \n",
      "375  | 0.00  |  0.01  | 0.0970 \n",
      "400  | 0.00  |  0.01  | 0.1009 \n",
      "425  | 0.00  |  0.01  | 0.1051 \n",
      "  0.136263 seconds (138.58 k allocations: 22.690 MB, 5.19% gc time)\n",
      "change rho density to n/s: 2\n",
      "rademacher-50-5\n",
      "-------------------\n",
      "It   | Error% | Residual |  Time   \n",
      "-------------------\n",
      " 25  | 0.01  |  0.03  | 0.0190 \n",
      " 50  | 0.00  |  0.00  | 0.0384 \n",
      "  0.043942 seconds (67.54 k allocations: 14.901 MB)\n",
      "rademacher-5-10\n",
      "-------------------\n",
      "It   | Error% | Residual |  Time   \n",
      "-------------------\n",
      " 25  | 3.89  |  2.52  | 0.0077 \n",
      " 50  | 2.03  |  1.49  | 0.0101 \n",
      " 75  | 1.35  |  1.06  | 0.0126 \n",
      "100  | 0.97  |  0.69  | 0.0150 \n",
      "125  | 0.71  |  0.63  | 0.0174 \n",
      "150  | 0.55  |  0.42  | 0.0198 \n",
      "175  | 0.48  |  0.36  | 0.0222 \n",
      "200  | 0.41  |  0.31  | 0.0245 \n",
      "225  | 0.37  |  0.31  | 0.0268 \n",
      "250  | 0.33  |  0.25  | 0.0292 \n",
      "275  | 0.31  |  0.24  | 0.0315 \n",
      "300  | 0.28  |  0.24  | 0.0338 \n",
      "325  | 0.24  |  0.23  | 0.0363 \n",
      "350  | 0.23  |  0.22  | 0.0424 \n",
      "375  | 0.21  |  0.16  | 0.0446 \n",
      "400  | 0.19  |  0.16  | 0.0468 \n",
      "425  | 0.18  |  0.14  | 0.0491 \n",
      "450  | 0.17  |  0.13  | 0.0514 \n",
      "475  | 0.16  |  0.13  | 0.0536 \n",
      "500  | 0.15  |  0.13  | 0.0560 \n",
      "525  | 0.15  |  0.12  | 0.0584 \n",
      "550  | 0.14  |  0.12  | 0.0607 \n",
      "575  | 0.13  |  0.12  | 0.0629 \n",
      "600  | 0.13  |  0.12  | 0.0654 \n",
      "625  | 0.12  |  0.11  | 0.0787 \n",
      "650  | 0.11  |  0.11  | 0.0701 \n",
      "675  | 0.11  |  0.10  | 0.0926 \n",
      "700  | 0.10  |  0.10  | 0.0948 \n",
      "725  | 0.10  |  0.10  | 0.0971 \n",
      "750  | 0.10  |  0.09  | 0.0995 \n",
      "775  | 0.09  |  0.08  | 0.1017 \n",
      "800  | 0.09  |  0.08  | 0.1040 \n",
      "825  | 0.09  |  0.08  | 0.1065 \n",
      "850  | 0.08  |  0.09  | 0.1089 \n",
      "875  | 0.08  |  0.08  | 0.1111 \n",
      "900  | 0.08  |  0.08  | 0.1134 \n",
      "925  | 0.08  |  0.07  | 0.1158 \n",
      "950  | 0.08  |  0.08  | 0.1182 \n",
      "975  | 0.07  |  0.07  | 0.1206 \n",
      "1000  | 0.06  |  0.06  | 0.1286 \n",
      "1025  | 0.06  |  0.06  | 0.1312 \n",
      "1050  | 0.06  |  0.06  | 0.1335 \n",
      "1075  | 0.06  |  0.06  | 0.1357 \n",
      "1100  | 0.06  |  0.05  | 0.1380 \n",
      "1125  | 0.05  |  0.06  | 0.1403 \n",
      "1150  | 0.05  |  0.06  | 0.1425 \n",
      "1175  | 0.05  |  0.06  | 0.1449 \n",
      "1200  | 0.05  |  0.06  | 0.1482 \n",
      "1225  | 0.05  |  0.06  | 0.1507 \n",
      "1250  | 0.05  |  0.05  | 0.1534 \n",
      "1275  | 0.05  |  0.05  | 0.1558 \n",
      "1300  | 0.04  |  0.05  | 0.1581 \n",
      "1325  | 0.04  |  0.05  | 0.1603 \n",
      "1350  | 0.04  |  0.05  | 0.1660 \n",
      "1375  | 0.04  |  0.05  | 0.1681 \n",
      "1400  | 0.04  |  0.04  | 0.1703 \n",
      "1425  | 0.04  |  0.04  | 0.1727 \n",
      "1450  | 0.04  |  0.04  | 0.1751 \n",
      "1475  | 0.04  |  0.04  | 0.1774 \n",
      "1500  | 0.04  |  0.05  | 0.1798 \n",
      "1525  | 0.04  |  0.04  | 0.1822 \n",
      "1550  | 0.03  |  0.04  | 0.1845 \n",
      "1575  | 0.03  |  0.04  | 0.1869 \n",
      "1600  | 0.03  |  0.04  | 0.1891 \n",
      "1625  | 0.09  |  0.04  | 0.1915 \n",
      "1650  | 0.03  |  0.04  | 0.1943 \n",
      "1675  | 0.03  |  0.04  | 0.2006 \n",
      "1700  | 0.03  |  0.03  | 0.2035 \n",
      "1725  | 0.03  |  0.03  | 0.2059 \n",
      "1750  | 0.03  |  0.04  | 0.2110 \n",
      "1775  | 0.03  |  0.03  | 0.2146 \n",
      "1800  | 0.03  |  0.03  | 0.2172 \n",
      "1825  | 0.03  |  0.03  | 0.2200 \n",
      "1850  | 0.02  |  0.03  | 0.2227 \n",
      "1875  | 0.02  |  0.04  | 0.2253 \n",
      "1900  | 0.02  |  0.03  | 0.2283 \n",
      "1925  | 0.02  |  0.04  | 0.2310 \n",
      "1950  | 0.02  |  0.03  | 0.2338 \n",
      "1975  | 0.02  |  0.04  | 0.2370 \n",
      "2000  | 0.02  |  0.03  | 0.2475 \n",
      "  0.457862 seconds (338.53 k allocations: 132.816 MB, 7.56% gc time)\n",
      "rademacher-2-50\n",
      "-------------------\n",
      "It   | Error% | Residual |  Time   \n",
      "-------------------\n",
      " 25  | 14.05  |  7.94  | 0.0023 \n",
      " 50  | 8.68  |  6.35  | 0.0049 \n",
      " 75  | 6.34  |  4.61  | 0.0082 \n",
      "100  | 4.21  |  3.44  | 0.0115 \n",
      "125  | 2.85  |  2.33  | 0.0150 \n",
      "150  | 1.96  |  1.90  | 0.0186 \n",
      "175  | 1.59  |  1.44  | 0.0221 \n",
      "200  | 1.93  |  1.24  | 0.0282 \n",
      "225  | 1.20  |  1.02  | 0.0303 \n",
      "250  | 1.10  |  1.01  | 0.0327 \n",
      "275  | 0.98  |  0.80  | 0.0348 \n",
      "300  | 0.95  |  0.79  | 0.0367 \n",
      "325  | 0.90  |  0.81  | 0.0388 \n",
      "350  | 0.85  |  0.68  | 0.0413 \n",
      "375  | 0.80  |  0.57  | 0.0435 \n",
      "400  | 0.77  |  0.60  | 0.0483 \n",
      "425  | 0.74  |  0.54  | 0.0505 \n",
      "450  | 0.71  |  0.55  | 0.0524 \n",
      "475  | 0.67  |  0.50  | 0.0550 \n",
      "500  | 0.64  |  0.45  | 0.0571 \n",
      "525  | 0.60  |  0.43  | 0.0594 \n",
      "550  | 0.59  |  0.38  | 0.0616 \n",
      "575  | 0.56  |  0.40  | 0.0637 \n",
      "600  | 0.54  |  0.37  | 0.0679 \n",
      "625  | 0.53  |  0.39  | 0.0699 \n",
      "650  | 0.51  |  0.37  | 0.0719 \n",
      "675  | 0.49  |  0.34  | 0.0737 \n",
      "700  | 0.47  |  0.32  | 0.0757 \n",
      "725  | 0.47  |  0.28  | 0.0776 \n",
      "750  | 0.46  |  0.30  | 0.0795 \n",
      "775  | 0.45  |  0.32  | 0.0815 \n",
      "800  | 0.44  |  0.30  | 0.0858 \n",
      "825  | 0.44  |  0.28  | 0.0875 \n",
      "850  | 0.43  |  0.26  | 0.0894 \n",
      "875  | 0.42  |  0.30  | 0.0912 \n",
      "900  | 0.41  |  0.28  | 0.0930 \n",
      "925  | 0.40  |  0.28  | 0.0949 \n",
      "950  | 0.39  |  0.28  | 0.0968 \n",
      "975  | 0.38  |  0.26  | 0.0987 \n",
      "1000  | 0.38  |  0.26  | 0.1027 \n",
      "1025  | 0.37  |  0.27  | 0.1047 \n",
      "1050  | 0.36  |  0.26  | 0.1065 \n",
      "1075  | 0.35  |  0.25  | 0.1084 \n",
      "1100  | 0.35  |  0.22  | 0.1103 \n",
      "1125  | 0.34  |  0.22  | 0.1123 \n",
      "1150  | 0.34  |  0.23  | 0.1142 \n",
      "1175  | 0.33  |  0.21  | 0.1161 \n",
      "1200  | 0.33  |  0.23  | 0.1202 \n",
      "1225  | 0.32  |  0.20  | 0.1221 \n",
      "1250  | 0.32  |  0.21  | 0.1240 \n",
      "1275  | 0.31  |  0.20  | 0.1259 \n",
      "1300  | 0.31  |  0.22  | 0.1278 \n",
      "1325  | 0.30  |  0.24  | 0.1298 \n",
      "1350  | 0.30  |  0.20  | 0.1316 \n",
      "1375  | 0.29  |  0.19  | 0.1336 \n",
      "1400  | 0.29  |  0.19  | 0.1356 \n",
      "1425  | 0.29  |  0.20  | 0.1375 \n",
      "1450  | 0.28  |  0.17  | 0.1402 \n",
      "1475  | 0.28  |  0.18  | 0.1432 \n",
      "1500  | 0.28  |  0.20  | 0.1462 \n",
      "1525  | 0.27  |  0.19  | 0.1492 \n",
      "1550  | 0.27  |  0.18  | 0.1523 \n",
      "1575  | 0.26  |  0.19  | 0.1555 \n",
      "1600  | 0.26  |  0.17  | 0.1587 \n",
      "1625  | 0.26  |  0.18  | 0.1629 \n",
      "1650  | 0.25  |  0.17  | 0.1649 \n",
      "1675  | 0.25  |  0.20  | 0.1668 \n",
      "1700  | 0.24  |  0.16  | 0.1688 \n",
      "1725  | 0.24  |  0.17  | 0.1708 \n",
      "1750  | 0.24  |  0.16  | 0.1731 \n",
      "1775  | 0.23  |  0.18  | 0.1750 \n",
      "1800  | 0.23  |  0.16  | 0.1769 \n",
      "1825  | 0.23  |  0.17  | 0.1810 \n",
      "1850  | 0.22  |  0.16  | 0.1828 \n",
      "1875  | 0.22  |  0.15  | 0.1848 \n",
      "1900  | 0.22  |  0.17  | 0.1867 \n",
      "1925  | 0.22  |  0.16  | 0.1887 \n",
      "1950  | 0.21  |  0.13  | 0.1907 \n",
      "1975  | 0.21  |  0.17  | 0.1926 \n",
      "2000  | 0.21  |  0.16  | 0.1945 \n",
      "  0.297079 seconds (184.54 k allocations: 217.580 MB, 7.01% gc time)\n"
     ]
    }
   ],
   "source": [
    "options.AUX = [0 2]; # don't use sign flipping and use a density of 10 per row\n",
    "method_name = \"rademacher\";# ROS\n",
    "options.sketchsize = floor((prob.n)^(1/2)); #\n",
    "@time   output= solveRidge(prob, method_name, options);\n",
    "OUTPUTS = [OUTPUTS ; output];\n",
    "options.AUX = [0 5]; # don't use sign flipping and use a density of 10 per row\n",
    "method_name = \"rademacher\";# ROS\n",
    "options.sketchsize = 50; #floor((prob.n)^(1/2));\n",
    "@time   output= solveRidge(prob, method_name, options);\n",
    "OUTPUTS = [OUTPUTS ; output];\n",
    "options.AUX = [0 10]; # don't use sign flipping and use a density of 10 per row\n",
    "method_name = \"rademacher\";# ROS\n",
    "options.sketchsize = 5; #floor((prob.n)^(1/2));\n",
    "@time   output= solveRidge(prob, method_name, options);\n",
    "OUTPUTS = [OUTPUTS ; output];\n",
    "options.AUX = [0 50]; # don't use sign flipping and use a density of 10 per row\n",
    "method_name = \"rademacher\";# ROS\n",
    "options.sketchsize = 2; #floor((prob.n)^(1/2));\n",
    "@time   output= solveRidge(prob, method_name, options);\n",
    "OUTPUTS = [OUTPUTS ; output];"
   ]
  },
  {
   "cell_type": "code",
   "execution_count": 25,
   "metadata": {
    "collapsed": true
   },
   "outputs": [],
   "source": [
    "# Testing Hadamard Sketch\n",
    "# method_name = \"Hadamard\";# ROS\n",
    "# options.sketchsize =10; # Int(floor(log2(prob.n)));\n",
    "# options.skip_error_calculation =25;\n",
    "# @time  output= solveRidge(prob, method_name, options);\n",
    "# OUTPUTS = [OUTPUTS ; output];"
   ]
  },
  {
   "cell_type": "code",
   "execution_count": 26,
   "metadata": {},
   "outputs": [],
   "source": [
    "# Testing countmin \n",
    "# options.sketchsize =10;#floor((prob.n)^(1/2));\n",
    "# options.skip_error_calculation =25;\n",
    "# method_name = \"countmin\";# gradient descent\n",
    "# @time output= solveRidge(prob, method_name, options);\n",
    "# OUTPUTS = [OUTPUTS ; output];"
   ]
  },
  {
   "cell_type": "code",
   "execution_count": 27,
   "metadata": {},
   "outputs": [
    {
     "name": "stdout",
     "output_type": "stream",
     "text": [
      "CG\n",
      "-------------------\n",
      "It   | Error% | Residual |  Time   \n",
      "-------------------\n",
      " 25  | 0.03  |  0.06  | 0.0004 \n",
      " 50  | 0.00  |  0.03  | 0.0009 \n",
      " 75  | 0.00  |  0.01  | 0.0016 \n",
      "  0.004994 seconds (3.07 k allocations: 724.266 KB)\n"
     ]
    }
   ],
   "source": [
    "# Testing CG \n",
    "method_name = \"CG\";# gradient descent\n",
    "@time output= solveRidge(prob, method_name, options);\n",
    "OUTPUTS = [OUTPUTS ; output];"
   ]
  },
  {
   "cell_type": "code",
   "execution_count": 28,
   "metadata": {
    "scrolled": true
   },
   "outputs": [
    {
     "name": "stdout",
     "output_type": "stream",
     "text": [
      "CD-10\n",
      "-------------------\n",
      "It   | Error% | Residual |  Time   \n",
      "-------------------\n",
      " 50  | 0.21  |  0.49  | 0.0016 \n",
      "100  | 0.08  |  0.24  | 0.0036 \n",
      "150  | 0.05  |  0.22  | 0.0055 \n",
      "200  | 0.04  |  0.11  | 0.0073 \n",
      "250  | 0.03  |  0.10  | 0.0089 \n",
      "300  | 0.02  |  0.07  | 0.0105 \n",
      "350  | 0.02  |  0.06  | 0.0122 \n",
      "400  | 0.01  |  0.06  | 0.0137 \n",
      "450  | 0.01  |  0.06  | 0.0154 \n",
      "500  | 0.01  |  0.05  | 0.0169 \n",
      "550  | 0.01  |  0.05  | 0.0184 \n",
      "600  | 0.00  |  0.03  | 0.0196 \n",
      "650  | 0.00  |  0.03  | 0.0208 \n",
      "700  | 0.00  |  0.03  | 0.0222 \n",
      "750  | 0.00  |  0.00  | 0.0235 \n",
      "  0.072399 seconds (31.98 k allocations: 11.000 MB)\n",
      "CD-50\n",
      "-------------------\n",
      "It   | Error% | Residual |  Time   \n",
      "-------------------\n",
      "  5  | 0.87  |  1.65  | 0.0148 \n",
      " 10  | 0.05  |  0.26  | 0.0158 \n",
      " 15  | 0.01  |  0.07  | 0.0172 \n",
      " 20  | 0.00  |  0.03  | 0.0202 \n",
      " 25  | 0.00  |  0.03  | 0.0210 \n",
      " 30  | 0.00  |  0.01  | 0.0361 \n",
      "  0.048841 seconds (4.01 k allocations: 2.901 MB)\n"
     ]
    }
   ],
   "source": [
    "# Testing CD \n",
    "options.maxiter=5000;\n",
    "options.skip_error_calculation = 50;\n",
    "method_name = \"CD\";# gradient descent\n",
    "options.sketchsize = 10;#floor((prob.n)^(1/2));\n",
    "@time output= solveRidge(prob, method_name, options);\n",
    "OUTPUTS = [OUTPUTS ; output];\n",
    "method_name = \"CD\";# gradient descent\n",
    "options.skip_error_calculation = 5;\n",
    "options.sketchsize = 50;\n",
    "@time output= solveRidge(prob, method_name, options);\n",
    "OUTPUTS = [OUTPUTS ; output];"
   ]
  },
  {
   "cell_type": "code",
   "execution_count": 29,
   "metadata": {
    "collapsed": true
   },
   "outputs": [],
   "source": [
    "savename = replace(prob.name, r\"[\\/]\", \"-\");\n",
    "save(\"../data/$(savename)-OUTPUTS.jld\", \"OUTPUTS\", OUTPUTS)"
   ]
  },
  {
   "cell_type": "code",
   "execution_count": 30,
   "metadata": {},
   "outputs": [
    {
     "name": "stdout",
     "output_type": "stream",
     "text": [
      "a9a\n"
     ]
    },
    {
     "name": "stderr",
     "output_type": "stream",
     "text": [
      "WARNING: Method definition describe(AbstractArray) in module StatsBase at /home/ROCQ/sierra/rgower/.julia/v0.5/StatsBase/src/scalarstats.jl:573 overwritten in module DataFrames at /home/ROCQ/sierra/rgower/.julia/v0.5/DataFrames/src/abstractdataframe/abstractdataframe.jl:407.\n"
     ]
    }
   ],
   "source": [
    "#using GR\n",
    "using Plots\n",
    "pgfplots()\n",
    "plot_outputs_Plots(OUTPUTS,savename)"
   ]
  },
  {
   "cell_type": "code",
   "execution_count": null,
   "metadata": {
    "collapsed": true
   },
   "outputs": [],
   "source": []
  }
 ],
 "metadata": {
  "anaconda-cloud": {},
  "kernelspec": {
   "display_name": "Julia 0.5.2",
   "language": "julia",
   "name": "julia-0.5"
  },
  "language_info": {
   "file_extension": ".jl",
   "mimetype": "application/julia",
   "name": "julia",
   "version": "0.5.2"
  }
 },
 "nbformat": 4,
 "nbformat_minor": 1
}
