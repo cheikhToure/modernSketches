{
 "cells": [
  {
   "cell_type": "markdown",
   "metadata": {},
   "source": [
    "The main solving big ridge regression problems"
   ]
  },
  {
   "cell_type": "code",
   "execution_count": 1,
   "metadata": {},
   "outputs": [],
   "source": [
    "workspace()"
   ]
  },
  {
   "cell_type": "code",
   "execution_count": 2,
   "metadata": {},
   "outputs": [
    {
     "name": "stderr",
     "output_type": "stream",
     "text": [
      "WARNING: Method definition (::Type{Main.Base.LinearIndexing})(Type{#T<:Any}) in module Compat at /home/ROCQ/sierra/rgower/.julia/v0.5/Compat/src/Compat.jl:1430 overwritten in module Compat at /home/ROCQ/sierra/rgower/.julia/v0.5/Compat/src/Compat.jl:1430.\n",
      "WARNING: Method definition (::Type{Main.Base.LinearIndexing})(Any...) in module Compat at /home/ROCQ/sierra/rgower/.julia/v0.5/Compat/src/Compat.jl:1431 overwritten in module Compat at /home/ROCQ/sierra/rgower/.julia/v0.5/Compat/src/Compat.jl:1431.\n",
      "WARNING: Method definition unsafe_trunc(Type{#T<:Integer}, Integer) in module Compat at /home/ROCQ/sierra/rgower/.julia/v0.5/Compat/src/Compat.jl:1469 overwritten in module Compat at /home/ROCQ/sierra/rgower/.julia/v0.5/Compat/src/Compat.jl:1469.\n",
      "WARNING: Method definition convert(Type{Main.Base.Set{#T<:Any}}, Main.Base.Set{#T<:Any}) in module Compat at /home/ROCQ/sierra/rgower/.julia/v0.5/Compat/src/Compat.jl:1459 overwritten in module Compat at /home/ROCQ/sierra/rgower/.julia/v0.5/Compat/src/Compat.jl:1459.\n",
      "WARNING: Method definition convert(Type{Main.Base.Set{#T<:Any}}, Main.Base.Set) in module Compat at /home/ROCQ/sierra/rgower/.julia/v0.5/Compat/src/Compat.jl:1460 overwritten in module Compat at /home/ROCQ/sierra/rgower/.julia/v0.5/Compat/src/Compat.jl:1460.\n",
      "WARNING: Method definition bswap(Main.Base.Complex) in module Compat at /home/ROCQ/sierra/rgower/.julia/v0.5/Compat/src/Compat.jl:1474 overwritten in module Compat at /home/ROCQ/sierra/rgower/.julia/v0.5/Compat/src/Compat.jl:1474.\n",
      "WARNING: Method definition redirect_stderr(Function, Any) in module Compat at /home/ROCQ/sierra/rgower/.julia/v0.5/Compat/src/Compat.jl:1057 overwritten in module Compat at /home/ROCQ/sierra/rgower/.julia/v0.5/Compat/src/Compat.jl:1057.\n",
      "WARNING: Method definition take!(Task) in module Compat at /home/ROCQ/sierra/rgower/.julia/v0.5/Compat/src/Compat.jl:53 overwritten in module Compat at /home/ROCQ/sierra/rgower/.julia/v0.5/Compat/src/Compat.jl:53.\n",
      "WARNING: Method definition take!(Main.Base.AbstractIOBuffer) in module Compat at /home/ROCQ/sierra/rgower/.julia/v0.5/Compat/src/Compat.jl:1172 overwritten in module Compat at /home/ROCQ/sierra/rgower/.julia/v0.5/Compat/src/Compat.jl:1172.\n",
      "WARNING: Method definition macroexpand(Module, ANY<:Any) in module Compat at /home/ROCQ/sierra/rgower/.julia/v0.5/Compat/src/Compat.jl:1491 overwritten in module Compat at /home/ROCQ/sierra/rgower/.julia/v0.5/Compat/src/Compat.jl:1491.\n",
      "WARNING: Method definition isless(Union{Main.Base.Dates.Week, Main.Base.Dates.Hour, Main.Base.Dates.Minute, Main.Base.Dates.Day, Main.Base.Dates.Millisecond, Main.Base.Dates.Second}, Union{Main.Base.Dates.Year, Main.Base.Dates.Month}) in module Compat at /home/ROCQ/sierra/rgower/.julia/v0.5/Compat/src/Compat.jl:1529 overwritten in module Compat at /home/ROCQ/sierra/rgower/.julia/v0.5/Compat/src/Compat.jl:1529.\n",
      "WARNING: Method definition isless(Union{Main.Base.Dates.Year, Main.Base.Dates.Month}, Union{Main.Base.Dates.Week, Main.Base.Dates.Hour, Main.Base.Dates.Minute, Main.Base.Dates.Day, Main.Base.Dates.Millisecond, Main.Base.Dates.Second}) in module Compat at /home/ROCQ/sierra/rgower/.julia/v0.5/Compat/src/Compat.jl:1530 overwritten in module Compat at /home/ROCQ/sierra/rgower/.julia/v0.5/Compat/src/Compat.jl:1530.\n",
      "WARNING: Method definition isless(Main.Base.Dates.Period, Main.Base.Dates.Period) in module Compat at /home/ROCQ/sierra/rgower/.julia/v0.5/Compat/src/Compat.jl:1524 overwritten in module Compat at /home/ROCQ/sierra/rgower/.julia/v0.5/Compat/src/Compat.jl:1524.\n",
      "WARNING: Method definition broadcast(Any, Tuple{Vararg{T<:Any, #N<:Any}}, Tuple{Vararg{T<:Any, #N<:Any}}...) in module Compat at /home/ROCQ/sierra/rgower/.julia/v0.5/Compat/src/Compat.jl:1122 overwritten in module Compat at /home/ROCQ/sierra/rgower/.julia/v0.5/Compat/src/Compat.jl:1122.\n",
      "WARNING: Method definition redirect_stdout(Function, Any) in module Compat at /home/ROCQ/sierra/rgower/.julia/v0.5/Compat/src/Compat.jl:1057 overwritten in module Compat at /home/ROCQ/sierra/rgower/.julia/v0.5/Compat/src/Compat.jl:1057.\n",
      "WARNING: Method definition expand(Module, ANY<:Any) in module Compat at /home/ROCQ/sierra/rgower/.julia/v0.5/Compat/src/Compat.jl:1490 overwritten in module Compat at /home/ROCQ/sierra/rgower/.julia/v0.5/Compat/src/Compat.jl:1490.\n",
      "WARNING: Method definition redirect_stdin(Function, Any) in module Compat at /home/ROCQ/sierra/rgower/.julia/v0.5/Compat/src/Compat.jl:1057 overwritten in module Compat at /home/ROCQ/sierra/rgower/.julia/v0.5/Compat/src/Compat.jl:1057.\n",
      "WARNING: Method definition zeros(AbstractArray) in module Compat at /home/ROCQ/sierra/rgower/.julia/v0.5/Compat/src/Compat.jl:1440 overwritten in module Compat at /home/ROCQ/sierra/rgower/.julia/v0.5/Compat/src/Compat.jl:1440.\n",
      "WARNING: Method definition zeros(AbstractArray, Type) in module Compat at /home/ROCQ/sierra/rgower/.julia/v0.5/Compat/src/Compat.jl:1440 overwritten in module Compat at /home/ROCQ/sierra/rgower/.julia/v0.5/Compat/src/Compat.jl:1440.\n",
      "WARNING: Method definition zeros(AbstractArray, Type, Tuple) in module Compat at /home/ROCQ/sierra/rgower/.julia/v0.5/Compat/src/Compat.jl:1438 overwritten in module Compat at /home/ROCQ/sierra/rgower/.julia/v0.5/Compat/src/Compat.jl:1438.\n",
      "WARNING: Method definition zeros(AbstractArray, Type, Any...) in module Compat at /home/ROCQ/sierra/rgower/.julia/v0.5/Compat/src/Compat.jl:1439 overwritten in module Compat at /home/ROCQ/sierra/rgower/.julia/v0.5/Compat/src/Compat.jl:1439.\n",
      "WARNING: Method definition isassigned(Main.Base.RefValue) in module Compat at /home/ROCQ/sierra/rgower/.julia/v0.5/Compat/src/Compat.jl:1465 overwritten in module Compat at /home/ROCQ/sierra/rgower/.julia/v0.5/Compat/src/Compat.jl:1465.\n",
      "WARNING: Method definition include_string(Module, String, String) in module Compat at /home/ROCQ/sierra/rgower/.julia/v0.5/Compat/src/Compat.jl:1492 overwritten in module Compat at /home/ROCQ/sierra/rgower/.julia/v0.5/Compat/src/Compat.jl:1492.\n",
      "WARNING: Method definition include_string(Module, AbstractString) in module Compat at /home/ROCQ/sierra/rgower/.julia/v0.5/Compat/src/Compat.jl:1494 overwritten in module Compat at /home/ROCQ/sierra/rgower/.julia/v0.5/Compat/src/Compat.jl:1494.\n",
      "WARNING: Method definition include_string(Module, AbstractString, AbstractString) in module Compat at /home/ROCQ/sierra/rgower/.julia/v0.5/Compat/src/Compat.jl:1494 overwritten in module Compat at /home/ROCQ/sierra/rgower/.julia/v0.5/Compat/src/Compat.jl:1494.\n",
      "WARNING: Method definition !(Function) in module Compat at /home/ROCQ/sierra/rgower/.julia/v0.5/Compat/src/Compat.jl:1205 overwritten in module Compat at /home/ROCQ/sierra/rgower/.julia/v0.5/Compat/src/Compat.jl:1205.\n",
      "WARNING: Method definition ==(Union{Main.Base.Dates.Week, Main.Base.Dates.Hour, Main.Base.Dates.Minute, Main.Base.Dates.Day, Main.Base.Dates.Millisecond, Main.Base.Dates.Second}, Union{Main.Base.Dates.Year, Main.Base.Dates.Month}) in module Compat at /home/ROCQ/sierra/rgower/.julia/v0.5/Compat/src/Compat.jl:1527 overwritten in module Compat at /home/ROCQ/sierra/rgower/.julia/v0.5/Compat/src/Compat.jl:1527.\n",
      "WARNING: Method definition ==(Union{Main.Base.Dates.Year, Main.Base.Dates.Month}, Union{Main.Base.Dates.Week, Main.Base.Dates.Hour, Main.Base.Dates.Minute, Main.Base.Dates.Day, Main.Base.Dates.Millisecond, Main.Base.Dates.Second}) in module Compat at /home/ROCQ/sierra/rgower/.julia/v0.5/Compat/src/Compat.jl:1528 overwritten in module Compat at /home/ROCQ/sierra/rgower/.julia/v0.5/Compat/src/Compat.jl:1528.\n",
      "WARNING: Method definition ==(Main.Base.Dates.Period, Main.Base.Dates.Period) in module Compat at /home/ROCQ/sierra/rgower/.julia/v0.5/Compat/src/Compat.jl:1523 overwritten in module Compat at /home/ROCQ/sierra/rgower/.julia/v0.5/Compat/src/Compat.jl:1523.\n",
      "WARNING: Method definition ones(AbstractArray) in module Compat at /home/ROCQ/sierra/rgower/.julia/v0.5/Compat/src/Compat.jl:1440 overwritten in module Compat at /home/ROCQ/sierra/rgower/.julia/v0.5/Compat/src/Compat.jl:1440.\n",
      "WARNING: Method definition ones(AbstractArray, Type) in module Compat at /home/ROCQ/sierra/rgower/.julia/v0.5/Compat/src/Compat.jl:1440 overwritten in module Compat at /home/ROCQ/sierra/rgower/.julia/v0.5/Compat/src/Compat.jl:1440.\n",
      "WARNING: Method definition ones(AbstractArray, Type, Tuple) in module Compat at /home/ROCQ/sierra/rgower/.julia/v0.5/Compat/src/Compat.jl:1438 overwritten in module Compat at /home/ROCQ/sierra/rgower/.julia/v0.5/Compat/src/Compat.jl:1438.\n",
      "WARNING: Method definition ones(AbstractArray, Type, Any...) in module Compat at /home/ROCQ/sierra/rgower/.julia/v0.5/Compat/src/Compat.jl:1439 overwritten in module Compat at /home/ROCQ/sierra/rgower/.julia/v0.5/Compat/src/Compat.jl:1439.\n",
      "WARNING: Method definition isnull(Any) in module Compat at /home/ROCQ/sierra/rgower/.julia/v0.5/Compat/src/Compat.jl:1137 overwritten in module Compat at /home/ROCQ/sierra/rgower/.julia/v0.5/Compat/src/Compat.jl:1137.\n"
     ]
    }
   ],
   "source": [
    "using Plots"
   ]
  },
  {
   "cell_type": "code",
   "execution_count": 24,
   "metadata": {},
   "outputs": [
    {
     "name": "stderr",
     "output_type": "stream",
     "text": [
      "WARNING: Method definition (::Type{Main.MyOptions})(Int64, AbstractString, Float64, Float64, Int64, Int64, Float64, Bool, Bool) in module Main at /home/local/rgower/modernSketches/BigRidge/src/BigRidge.jl:13 overwritten at /home/local/rgower/modernSketches/BigRidge/src/BigRidge.jl:13.\n",
      "WARNING: Method definition (::Type{Main.MyOptions})(Any, Any, Any, Any, Any, Any, Any, Any, Any) in module Main at /home/local/rgower/modernSketches/BigRidge/src/BigRidge.jl:13 overwritten at /home/local/rgower/modernSketches/BigRidge/src/BigRidge.jl:13.\n",
      "WARNING: Method definition (::Type{Main.Prob})(Array{Float64, N<:Any}, Array{Float64, N<:Any}, Array{Float64, N<:Any}, Int64, Float64, AbstractString) in module Main at /home/local/rgower/modernSketches/BigRidge/src/BigRidge.jl:26 overwritten at /home/local/rgower/modernSketches/BigRidge/src/BigRidge.jl:26.\n",
      "WARNING: Method definition (::Type{Main.Prob})(Any, Any, Any, Any, Any, Any) in module Main at /home/local/rgower/modernSketches/BigRidge/src/BigRidge.jl:26 overwritten at /home/local/rgower/modernSketches/BigRidge/src/BigRidge.jl:26.\n",
      "WARNING: Method definition (::Type{Main.Method})(Int64, AbstractString, Function, Function, Array{Float64, N<:Any}) in module Main at /home/local/rgower/modernSketches/BigRidge/src/BigRidge.jl:35 overwritten at /home/local/rgower/modernSketches/BigRidge/src/BigRidge.jl:35.\n",
      "WARNING: Method definition (::Type{Main.Method})(Any, Any, Any, Any, Any) in module Main at /home/local/rgower/modernSketches/BigRidge/src/BigRidge.jl:35 overwritten at /home/local/rgower/modernSketches/BigRidge/src/BigRidge.jl:35.\n",
      "WARNING: Method definition (::Type{Main.CGMethod})(Int64, AbstractString, Function, Function, Array{Float64, N<:Any}, Array{Float64, N<:Any}, Float64) in module Main at /home/local/rgower/modernSketches/BigRidge/src/BigRidge.jl:43 overwritten at /home/local/rgower/modernSketches/BigRidge/src/BigRidge.jl:43.\n",
      "WARNING: Method definition (::Type{Main.CGMethod})(Any, Any, Any, Any, Any, Any, Any) in module Main at /home/local/rgower/modernSketches/BigRidge/src/BigRidge.jl:43 overwritten at /home/local/rgower/modernSketches/BigRidge/src/BigRidge.jl:43.\n",
      "WARNING: Method definition (::Type{Main.Output})(Int64, Int64, Array{Float64, N<:Any}, Array{Float64, N<:Any}, Array{Float64, N<:Any}, AbstractString, AbstractString) in module Main at /home/local/rgower/modernSketches/BigRidge/src/BigRidge.jl:55 overwritten at /home/local/rgower/modernSketches/BigRidge/src/BigRidge.jl:55.\n",
      "WARNING: Method definition (::Type{Main.Output})(Any, Any, Any, Any, Any, Any, Any) in module Main at /home/local/rgower/modernSketches/BigRidge/src/BigRidge.jl:55 overwritten at /home/local/rgower/modernSketches/BigRidge/src/BigRidge.jl:55.\n",
      "WARNING: Method definition solveRidge(Main.Prob, Any, Main.MyOptions) in module Main at /home/local/rgower/modernSketches/BigRidge/src/solveRidge.jl:5 overwritten at /home/local/rgower/modernSketches/BigRidge/src/solveRidge.jl:5.\n",
      "WARNING: Method definition boot_method(AbstractString, Any, Main.MyOptions) in module Main at /home/local/rgower/modernSketches/BigRidge/src/boot_method.jl:2 overwritten at /home/local/rgower/modernSketches/BigRidge/src/boot_method.jl:2.\n",
      "WARNING: Method definition initDetails() in module Main at /home/local/rgower/modernSketches/BigRidge/src/dataLoad.jl:26 overwritten at /home/local/rgower/modernSketches/BigRidge/src/dataLoad.jl:26.\n",
      "WARNING: Method definition transformDataJLD(Any) in module Main at /home/local/rgower/modernSketches/BigRidge/src/dataLoad.jl:31 overwritten at /home/local/rgower/modernSketches/BigRidge/src/dataLoad.jl:31.\n",
      "WARNING: Method definition loadDataset(Any) in module Main at /home/local/rgower/modernSketches/BigRidge/src/dataLoad.jl:40 overwritten at /home/local/rgower/modernSketches/BigRidge/src/dataLoad.jl:40.\n",
      "WARNING: Method definition showDetails(Any) in module Main at /home/local/rgower/modernSketches/BigRidge/src/dataLoad.jl:45 overwritten at /home/local/rgower/modernSketches/BigRidge/src/dataLoad.jl:45.\n",
      "WARNING: Method definition readLIBSVM(AbstractString, Bool) in module Main at /home/local/rgower/modernSketches/BigRidge/src/dataLoad.jl:51 overwritten at /home/local/rgower/modernSketches/BigRidge/src/dataLoad.jl:51.\n",
      "WARNING: Method definition defineProb(Any) in module Main at /home/local/rgower/modernSketches/BigRidge/src/defineProb.jl:7 overwritten at /home/local/rgower/modernSketches/BigRidge/src/defineProb.jl:7.\n",
      "WARNING: Method definition get_randProb(Int64) in module Main at /home/local/rgower/modernSketches/BigRidge/src/get_randProb.jl:3 overwritten at /home/local/rgower/modernSketches/BigRidge/src/get_randProb.jl:3.\n",
      "WARNING: Method definition boot_grad(Main.Prob, Main.MyOptions) in module Main at /home/local/rgower/modernSketches/BigRidge/src/grad.jl:4 overwritten at /home/local/rgower/modernSketches/BigRidge/src/grad.jl:4.\n",
      "WARNING: Method definition step_grad(Main.Prob, Array{Float64, N<:Any}, Main.MyOptions) in module Main at /home/local/rgower/modernSketches/BigRidge/src/grad.jl:15 overwritten at /home/local/rgower/modernSketches/BigRidge/src/grad.jl:15.\n",
      "WARNING: Method definition boot_CD(Main.Prob, Main.MyOptions) in module Main at /home/local/rgower/modernSketches/BigRidge/src/CD.jl:5 overwritten at /home/local/rgower/modernSketches/BigRidge/src/CD.jl:5.\n",
      "WARNING: Method definition step_CD(Main.Prob, Array{Float64, N<:Any}, Main.MyOptions) in module Main at /home/local/rgower/modernSketches/BigRidge/src/CD.jl:15 overwritten at /home/local/rgower/modernSketches/BigRidge/src/CD.jl:15.\n",
      "WARNING: Method definition boot_CG(Main.Prob, Main.MyOptions) in module Main at /home/local/rgower/modernSketches/BigRidge/src/CG.jl:5 overwritten at /home/local/rgower/modernSketches/BigRidge/src/CG.jl:5.\n",
      "WARNING: Method definition step_CG(Main.Prob, Array{Float64, N<:Any}, Main.MyOptions, Main.CGMethod) in module Main at /home/local/rgower/modernSketches/BigRidge/src/CG.jl:17 overwritten at /home/local/rgower/modernSketches/BigRidge/src/CG.jl:17.\n",
      "WARNING: Method definition hada(Any, Any) in module Main at /home/local/rgower/modernSketches/BigRidge/src/hada.jl:6 overwritten at /home/local/rgower/modernSketches/BigRidge/src/hada.jl:6.\n",
      "WARNING: Method definition boot_Hadamard(Main.Prob, Main.MyOptions) in module Main at /home/local/rgower/modernSketches/BigRidge/src/Hadamard.jl:4 overwritten at /home/local/rgower/modernSketches/BigRidge/src/Hadamard.jl:4.\n",
      "WARNING: Method definition step_Hadamard(Main.Prob, Array{Float64, N<:Any}, Main.MyOptions) in module Main at /home/local/rgower/modernSketches/BigRidge/src/Hadamard.jl:17 overwritten at /home/local/rgower/modernSketches/BigRidge/src/Hadamard.jl:17.\n",
      "WARNING: Method definition boot_rademacher(Main.Prob, Main.MyOptions) in module Main at /home/local/rgower/modernSketches/BigRidge/src/rademacher.jl:2 overwritten at /home/local/rgower/modernSketches/BigRidge/src/rademacher.jl:2.\n",
      "WARNING: Method definition step_rademacher(Main.Prob, Array{Float64, N<:Any}, Main.MyOptions) in module Main at /home/local/rgower/modernSketches/BigRidge/src/rademacher.jl:16 overwritten at /home/local/rgower/modernSketches/BigRidge/src/rademacher.jl:16.\n",
      "WARNING: Method definition Countstream(Any, Any, Any) in module Main at /home/local/rgower/modernSketches/BigRidge/src/Countstream.jl:3 overwritten at /home/local/rgower/modernSketches/BigRidge/src/Countstream.jl:3.\n",
      "WARNING: Method definition boot_countmin(Main.Prob, Main.MyOptions) in module Main at /home/local/rgower/modernSketches/BigRidge/src/countmin.jl:4 overwritten at /home/local/rgower/modernSketches/BigRidge/src/countmin.jl:4.\n",
      "WARNING: Method definition step_countmin(Main.Prob, Array{Float64, N<:Any}, Main.MyOptions) in module Main at /home/local/rgower/modernSketches/BigRidge/src/countmin.jl:14 overwritten at /home/local/rgower/modernSketches/BigRidge/src/countmin.jl:14.\n",
      "WARNING: Method definition plot_outputs_Plots(Any, Any) in module Main at /home/local/rgower/modernSketches/BigRidge/src/plot_outputs_Plots.jl:3 overwritten at /home/local/rgower/modernSketches/BigRidge/src/plot_outputs_Plots.jl:3.\n"
     ]
    },
    {
     "data": {
      "text/plain": [
       "plot_outputs_Plots (generic function with 1 method)"
      ]
     },
     "execution_count": 24,
     "metadata": {},
     "output_type": "execute_result"
    }
   ],
   "source": [
    "using StatsBase\n",
    "using JLD  \n",
    "include(\"../src/BigRidge.jl\")"
   ]
  },
  {
   "cell_type": "code",
   "execution_count": 25,
   "metadata": {
    "collapsed": true
   },
   "outputs": [],
   "source": [
    "#Basic parameters\n",
    "## Basic parameters\n",
    "maxiter=10^8;\n",
    "max_time = 10;\n",
    "max_epocs = 100;\n",
    "printiters = true;\n",
    "exacterror =true; \n",
    "tol = 10.0^(-5.0);\n",
    "restol = 10.0^(-5.0);\n",
    "skip_error_calculation = 25;   # number of iterations where error is not calculated (to save time!) ceil((m)^(1/2))"
   ]
  },
  {
   "cell_type": "code",
   "execution_count": 26,
   "metadata": {},
   "outputs": [
    {
     "name": "stdout",
     "output_type": "stream",
     "text": [
      "../data/a9a.jld\n"
     ]
    }
   ],
   "source": [
    "dataset = \"a9a\"\n",
    "prob = defineProb(dataset);"
   ]
  },
  {
   "cell_type": "code",
   "execution_count": 27,
   "metadata": {},
   "outputs": [
    {
     "data": {
      "text/plain": [
       "4.459713089533306e-11"
      ]
     },
     "execution_count": 27,
     "metadata": {},
     "output_type": "execute_result"
    }
   ],
   "source": [
    "norm(prob.A*prob.xsol - prob.b)"
   ]
  },
  {
   "cell_type": "code",
   "execution_count": 28,
   "metadata": {
    "collapsed": true
   },
   "outputs": [],
   "source": [
    "options = MyOptions(0,\"uni\",tol,restol,maxiter,skip_error_calculation,max_time,printiters,exacterror) \n",
    "OUTPUTS = [];"
   ]
  },
  {
   "cell_type": "code",
   "execution_count": 29,
   "metadata": {},
   "outputs": [
    {
     "ename": "LoadError",
     "evalue": "InexactError()",
     "output_type": "error",
     "traceback": [
      "InexactError()",
      "",
      " in convert(::Type{Int64}, ::Float64) at ./int.jl:239"
     ]
    }
   ],
   "source": [
    " s = options.sketchsize;\n",
    "    rho = convert(Int64,floor(prob.n/s)); #hard coded density of rows\n",
    "    ind = sample(1:prob.n,prob.n,replace=false); # shuffle all indices\n",
    "    modns = mod(prob.n,s);\n",
    "    divi = prob.n-modns;\n",
    "    sold =s;\n",
    "    if(modns!=0) \n",
    "        s= s+1;\n",
    "    end\n",
    "    indM = Array{Int64}(s,rho);# build a matrix indices with approx equally distributed number of indices over s rows\n",
    "    indM[1:sold,:] =reshape(ind[1:divi], sold,rho);\n",
    "    if(modns!=0)\n",
    "        indM[s,1:modns] = ind[divi+1:end];\n",
    "        indM[s,modns+1:end] =sample(1:prob.n, rho-modns,replace=false);\n",
    "    end\n",
    "    \n",
    "    sigs = sample(1:2,prob.n,replace=true).*2.-3;\n",
    "\n",
    "     SA = zeros(s,prob.n);\n",
    "     Sb = zeros(s);\n",
    "\n",
    "     for i =1:s\n",
    "           SA[i,:] = sum(sigs[indM[i,:]].*prob.A[indM[i,:],:],1);\n",
    "           Sb[i] = sum(sigs[indM[i,:]].*prob.b[indM[i,:]])\n",
    "     end\n",
    "     SAS = zeros(s,s); \n",
    "      for i =1:s\n",
    "          SAS[i,:] = sum(sigs[indM[i,:]]'.*SA[:,indM[i,:]],2);\n",
    "     end\n",
    "     y = SAS\\(SA*x-Sb);   # solving (S^TAS) y = (S^TAx-S^Tb)  \n",
    "     for i =1:s #adding on S^T y\n",
    "        x[indM[i,:]] = x[indM[i,:]]-sigs[indM[i,:]].*y[i];\n",
    "     end"
   ]
  },
  {
   "cell_type": "code",
   "execution_count": 30,
   "metadata": {},
   "outputs": [
    {
     "name": "stdout",
     "output_type": "stream",
     "text": [
      "rademacher-5\n",
      "-------------------\n",
      "It   | Error% | Residual |  Time   \n",
      "-------------------\n",
      " 25  | 7.84  |  4.28  | 0.4144 \n",
      " 50  | 3.78  |  2.10  | 0.4210 \n",
      " 75  | 2.16  |  1.38  | 0.4321 \n",
      "100  | 1.56  |  1.20  | 0.4376 \n",
      "125  | 1.24  |  0.82  | 0.4431 \n",
      "150  | 0.96  |  0.64  | 0.4526 \n",
      "175  | 0.77  |  0.53  | 0.4580 \n",
      "200  | 0.69  |  0.40  | 0.4664 \n",
      "  0.916280 seconds (577.59 k allocations: 88.303 MB, 2.06% gc time)\n"
     ]
    }
   ],
   "source": [
    "# Testing Rademarcher Sketch\n",
    "method_name = \"rademacher\";# ROS\n",
    "options.sketchsize =5;\n",
    "options.maxiter=200;\n",
    "@time   output= solveRidge(prob, method_name, options);\n",
    "OUTPUTS = [OUTPUTS ; output];"
   ]
  },
  {
   "cell_type": "code",
   "execution_count": 10,
   "metadata": {},
   "outputs": [
    {
     "name": "stdout",
     "output_type": "stream",
     "text": [
      "flopsperiter: 247\n",
      "Hadamard\n",
      "-------------------\n",
      "It   | Error% | Residual |  Time   \n",
      "-------------------\n",
      " 25  | 27.02  |  16.06  | 1.1688 \n",
      " 50  | 22.04  |  12.26  | 1.4007 \n",
      " 75  | 15.05  |  7.83  | 1.5606 \n",
      "100  | 12.02  |  8.17  | 2.0782 \n",
      "125  | 8.88  |  6.00  | 2.2268 \n",
      "150  | 6.86  |  5.88  | 2.3973 \n",
      "175  | 5.65  |  4.03  | 2.5573 \n",
      "200  | 4.90  |  3.24  | 2.7093 \n",
      "  3.320107 seconds (8.62 M allocations: 1.007 GB, 6.08% gc time)\n"
     ]
    }
   ],
   "source": [
    "# Testing Hadamard Sketch\n",
    "method_name = \"Hadamard\";# ROS\n",
    "options.sketchsize =1; # Int(floor(log2(prob.n)));\n",
    "options.maxiter=200;\n",
    "options.skip_error_calculation =25;\n",
    "@time  output= solveRidge(prob, method_name, options);\n",
    "OUTPUTS = [OUTPUTS ; output];"
   ]
  },
  {
   "cell_type": "code",
   "execution_count": 11,
   "metadata": {},
   "outputs": [
    {
     "name": "stdout",
     "output_type": "stream",
     "text": [
      "countmin\n",
      "-------------------\n",
      "It   | Error% | Residual |  Time   \n",
      "-------------------\n",
      " 25  | 26.21  |  14.28  | 0.4756 \n",
      " 50  | 15.99  |  13.35  | 0.5292 \n",
      " 75  | 10.58  |  8.72  | 0.5706 \n",
      "100  | 7.55  |  6.22  | 0.6037 \n",
      "125  | 5.15  |  4.36  | 0.6231 \n",
      "150  | 3.85  |  3.97  | 0.6415 \n",
      "175  | 3.27  |  2.81  | 0.6607 \n",
      "200  | 2.86  |  2.23  | 0.6799 \n",
      "  0.703309 seconds (303.21 k allocations: 133.760 MB, 3.25% gc time)\n"
     ]
    }
   ],
   "source": [
    "# Testing countmin \n",
    "options.max_time = 2; options.restol = 10.0^(-8); \n",
    "options.sketchsize =1;\n",
    "options.skip_error_calculation =25;\n",
    "method_name = \"countmin\";# gradient descent\n",
    "@time output= solveRidge(prob, method_name, options);\n",
    "OUTPUTS = [OUTPUTS ; output];"
   ]
  },
  {
   "cell_type": "code",
   "execution_count": 12,
   "metadata": {},
   "outputs": [
    {
     "name": "stdout",
     "output_type": "stream",
     "text": [
      "CG\n",
      "-------------------\n",
      "It   | Error% | Residual |  Time   \n",
      "-------------------\n",
      " 25  | 0.03  |  0.07  | 0.0859 \n",
      " 50  | 0.00  |  0.06  | 0.1135 \n",
      " 75  | 0.00  |  0.01  | 0.1139 \n",
      "  0.132333 seconds (59.56 k allocations: 3.229 MB)\n"
     ]
    }
   ],
   "source": [
    "# Testing CG \n",
    "options.max_time = 2; options.restol = 10.0^(-8); \n",
    "options.skip_error_calculation =25;\n",
    "method_name = \"CG\";# gradient descent\n",
    "@time output= solveRidge(prob, method_name, options);\n",
    "OUTPUTS = [OUTPUTS ; output];"
   ]
  },
  {
   "cell_type": "code",
   "execution_count": 13,
   "metadata": {},
   "outputs": [
    {
     "name": "stdout",
     "output_type": "stream",
     "text": [
      "CD-0\n",
      "-------------------\n",
      "It   | Error% | Residual |  Time   \n",
      "-------------------\n",
      " 25  | 7.22  |  5.35  | 0.1365 \n",
      " 50  | 2.36  |  1.73  | 0.1368 \n",
      " 75  | 1.21  |  1.23  | 0.1371 \n",
      "100  | 0.77  |  0.85  | 0.1374 \n",
      "125  | 0.50  |  0.77  | 0.1378 \n",
      "150  | 0.29  |  0.63  | 0.1381 \n",
      "175  | 0.23  |  0.48  | 0.1384 \n",
      "200  | 0.17  |  0.23  | 0.1387 \n",
      "  0.162747 seconds (60.65 k allocations: 3.829 MB)\n"
     ]
    }
   ],
   "source": [
    "# Testing CD \n",
    "options.max_time = 10; options.restol = 10.0^(-8); options.maxiter=200;\n",
    "method_name = \"CD\";# gradient descent\n",
    "options.sketchsize = 5#floor((prob.n)^(1/2));\n",
    "@time output= solveRidge(prob, method_name, options);\n",
    "OUTPUTS = [OUTPUTS ; output];"
   ]
  },
  {
   "cell_type": "code",
   "execution_count": 14,
   "metadata": {
    "collapsed": true
   },
   "outputs": [],
   "source": [
    "savename = replace(prob.name, r\"[\\/]\", \"-\");\n",
    "save(\"../data/$(savename)-OUTPUTS.jld\", \"OUTPUTS\", OUTPUTS)"
   ]
  },
  {
   "cell_type": "code",
   "execution_count": 15,
   "metadata": {},
   "outputs": [
    {
     "name": "stdout",
     "output_type": "stream",
     "text": [
      "a9a\n"
     ]
    },
    {
     "name": "stderr",
     "output_type": "stream",
     "text": [
      "WARNING: Method definition describe(AbstractArray) in module StatsBase at /home/ROCQ/sierra/rgower/.julia/v0.5/StatsBase/src/scalarstats.jl:573 overwritten in module DataFrames at /home/ROCQ/sierra/rgower/.julia/v0.5/DataFrames/src/abstractdataframe/abstractdataframe.jl:407.\n"
     ]
    }
   ],
   "source": [
    "#using GR\n",
    "using Plots\n",
    "pgfplots()\n",
    "plot_outputs_Plots(OUTPUTS,savename)"
   ]
  },
  {
   "cell_type": "code",
   "execution_count": 16,
   "metadata": {
    "collapsed": true
   },
   "outputs": [],
   "source": [
    "# Loading saved problem data\n",
    "probname = \"w8a\"#\"gisette_scale-ridge\";  \n",
    "test = load(\"../data/$(probname)-OUTPUTS.jld\")\n",
    "OUTPUTS = test[\"OUTPUTS\"];"
   ]
  },
  {
   "cell_type": "code",
   "execution_count": null,
   "metadata": {
    "collapsed": true
   },
   "outputs": [],
   "source": []
  }
 ],
 "metadata": {
  "anaconda-cloud": {},
  "kernelspec": {
   "display_name": "Julia 0.5.2",
   "language": "julia",
   "name": "julia-0.5"
  },
  "language_info": {
   "file_extension": ".jl",
   "mimetype": "application/julia",
   "name": "julia",
   "version": "0.5.2"
  }
 },
 "nbformat": 4,
 "nbformat_minor": 1
}
