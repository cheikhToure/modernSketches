{
 "cells": [
  {
   "cell_type": "markdown",
   "metadata": {},
   "source": [
    "The main solving big ridge regression problems"
   ]
  },
  {
   "cell_type": "code",
   "execution_count": null,
   "metadata": {
    "collapsed": true
   },
   "outputs": [],
   "source": [
    "workspace()"
   ]
  },
  {
   "cell_type": "code",
   "execution_count": null,
   "metadata": {},
   "outputs": [],
   "source": [
    "using Plots"
   ]
  },
  {
   "cell_type": "code",
   "execution_count": 313,
   "metadata": {},
   "outputs": [
    {
     "name": "stderr",
     "output_type": "stream",
     "text": [
      "WARNING: Method definition (::Type{Main.MyOptions})(Int64, AbstractString, Float64, Float64, Int64, Int64, Float64, Bool, Bool, Array{Float64, N<:Any}) in module Main at /home/local/rgower/modernSketches/BigRidge/src/BigRidge.jl:13 overwritten at /home/local/rgower/modernSketches/BigRidge/src/BigRidge.jl:13.\n",
      "WARNING: Method definition (::Type{Main.MyOptions})(Any, Any, Any, Any, Any, Any, Any, Any, Any, Any) in module Main at /home/local/rgower/modernSketches/BigRidge/src/BigRidge.jl:13 overwritten at /home/local/rgower/modernSketches/BigRidge/src/BigRidge.jl:13.\n",
      "WARNING: Method definition (::Type{Main.Prob})(Array{Float64, N<:Any}, Array{Float64, N<:Any}, Array{Float64, N<:Any}, Int64, Float64, AbstractString) in module Main at /home/local/rgower/modernSketches/BigRidge/src/BigRidge.jl:27 overwritten at /home/local/rgower/modernSketches/BigRidge/src/BigRidge.jl:27.\n",
      "WARNING: Method definition (::Type{Main.Prob})(Any, Any, Any, Any, Any, Any) in module Main at /home/local/rgower/modernSketches/BigRidge/src/BigRidge.jl:27 overwritten at /home/local/rgower/modernSketches/BigRidge/src/BigRidge.jl:27.\n",
      "WARNING: Method definition (::Type{Main.SketchMethod})(Int64, AbstractString, Function, Function, Array{Float64, N<:Any}, Array{Float64, N<:Any}, Array{Float64, N<:Any}, Array{Int64, N<:Any}, Array{Int64, N<:Any}) in module Main at /home/local/rgower/modernSketches/BigRidge/src/BigRidge.jl:36 overwritten at /home/local/rgower/modernSketches/BigRidge/src/BigRidge.jl:36.\n",
      "WARNING: Method definition (::Type{Main.SketchMethod})(Any, Any, Any, Any, Any, Any, Any, Any, Any) in module Main at /home/local/rgower/modernSketches/BigRidge/src/BigRidge.jl:36 overwritten at /home/local/rgower/modernSketches/BigRidge/src/BigRidge.jl:36.\n",
      "WARNING: Method definition (::Type{Main.CGMethod})(Int64, AbstractString, Function, Function, Array{Float64, N<:Any}, Array{Float64, N<:Any}, Float64) in module Main at /home/local/rgower/modernSketches/BigRidge/src/BigRidge.jl:48 overwritten at /home/local/rgower/modernSketches/BigRidge/src/BigRidge.jl:48.\n",
      "WARNING: Method definition (::Type{Main.CGMethod})(Any, Any, Any, Any, Any, Any, Any) in module Main at /home/local/rgower/modernSketches/BigRidge/src/BigRidge.jl:48 overwritten at /home/local/rgower/modernSketches/BigRidge/src/BigRidge.jl:48.\n",
      "WARNING: Method definition (::Type{Main.Output})(Int64, Int64, Array{Float64, N<:Any}, Array{Float64, N<:Any}, Array{Float64, N<:Any}, AbstractString, AbstractString) in module Main at /home/local/rgower/modernSketches/BigRidge/src/BigRidge.jl:60 overwritten at /home/local/rgower/modernSketches/BigRidge/src/BigRidge.jl:60.\n",
      "WARNING: Method definition (::Type{Main.Output})(Any, Any, Any, Any, Any, Any, Any) in module Main at /home/local/rgower/modernSketches/BigRidge/src/BigRidge.jl:60 overwritten at /home/local/rgower/modernSketches/BigRidge/src/BigRidge.jl:60.\n",
      "WARNING: Method definition solveRidge(Main.Prob, Any, Main.MyOptions) in module Main at /home/local/rgower/modernSketches/BigRidge/src/solveRidge.jl:5 overwritten at /home/local/rgower/modernSketches/BigRidge/src/solveRidge.jl:5.\n",
      "WARNING: Method definition boot_method(AbstractString, Any, Main.MyOptions) in module Main at /home/local/rgower/modernSketches/BigRidge/src/boot_method.jl:2 overwritten at /home/local/rgower/modernSketches/BigRidge/src/boot_method.jl:2.\n",
      "WARNING: Method definition initDetails() in module Main at /home/local/rgower/modernSketches/BigRidge/src/dataLoad.jl:26 overwritten at /home/local/rgower/modernSketches/BigRidge/src/dataLoad.jl:26.\n",
      "WARNING: Method definition transformDataJLD(Any) in module Main at /home/local/rgower/modernSketches/BigRidge/src/dataLoad.jl:31 overwritten at /home/local/rgower/modernSketches/BigRidge/src/dataLoad.jl:31.\n",
      "WARNING: Method definition loadDataset(Any) in module Main at /home/local/rgower/modernSketches/BigRidge/src/dataLoad.jl:40 overwritten at /home/local/rgower/modernSketches/BigRidge/src/dataLoad.jl:40.\n",
      "WARNING: Method definition showDetails(Any) in module Main at /home/local/rgower/modernSketches/BigRidge/src/dataLoad.jl:45 overwritten at /home/local/rgower/modernSketches/BigRidge/src/dataLoad.jl:45.\n",
      "WARNING: Method definition readLIBSVM(AbstractString, Bool) in module Main at /home/local/rgower/modernSketches/BigRidge/src/dataLoad.jl:51 overwritten at /home/local/rgower/modernSketches/BigRidge/src/dataLoad.jl:51.\n",
      "WARNING: Method definition defineProb(Any) in module Main at /home/local/rgower/modernSketches/BigRidge/src/defineProb.jl:3 overwritten at /home/local/rgower/modernSketches/BigRidge/src/defineProb.jl:3.\n",
      "WARNING: Method definition get_randProb(Int64) in module Main at /home/local/rgower/modernSketches/BigRidge/src/get_randProb.jl:3 overwritten at /home/local/rgower/modernSketches/BigRidge/src/get_randProb.jl:3.\n",
      "WARNING: Method definition boot_grad(Main.Prob, Main.MyOptions) in module Main at /home/local/rgower/modernSketches/BigRidge/src/grad.jl:4 overwritten at /home/local/rgower/modernSketches/BigRidge/src/grad.jl:4.\n",
      "WARNING: Method definition step_grad(Main.Prob, Array{Float64, N<:Any}, Main.MyOptions) in module Main at /home/local/rgower/modernSketches/BigRidge/src/grad.jl:15 overwritten at /home/local/rgower/modernSketches/BigRidge/src/grad.jl:15.\n",
      "WARNING: Method definition boot_CD(Main.Prob, Main.MyOptions) in module Main at /home/local/rgower/modernSketches/BigRidge/src/CD.jl:5 overwritten at /home/local/rgower/modernSketches/BigRidge/src/CD.jl:5.\n",
      "WARNING: Method definition step_CD(Main.Prob, Array{Float64, N<:Any}, Main.MyOptions, Main.SketchMethod) in module Main at /home/local/rgower/modernSketches/BigRidge/src/CD.jl:15 overwritten at /home/local/rgower/modernSketches/BigRidge/src/CD.jl:15.\n",
      "WARNING: Method definition boot_CG(Main.Prob, Main.MyOptions) in module Main at /home/local/rgower/modernSketches/BigRidge/src/CG.jl:5 overwritten at /home/local/rgower/modernSketches/BigRidge/src/CG.jl:5.\n",
      "WARNING: Method definition step_CG(Main.Prob, Array{Float64, N<:Any}, Main.MyOptions, Main.CGMethod) in module Main at /home/local/rgower/modernSketches/BigRidge/src/CG.jl:17 overwritten at /home/local/rgower/modernSketches/BigRidge/src/CG.jl:17.\n",
      "WARNING: Method definition hada(Any, Any) in module Main at /home/local/rgower/modernSketches/BigRidge/src/hada.jl:6 overwritten at /home/local/rgower/modernSketches/BigRidge/src/hada.jl:6.\n",
      "WARNING: Method definition boot_Hadamard(Main.Prob, Main.MyOptions) in module Main at /home/local/rgower/modernSketches/BigRidge/src/Hadamard.jl:4 overwritten at /home/local/rgower/modernSketches/BigRidge/src/Hadamard.jl:4.\n",
      "WARNING: Method definition step_Hadamard(Main.Prob, Array{Float64, N<:Any}, Main.MyOptions, Main.Method) in module Main at /home/local/rgower/modernSketches/BigRidge/src/Hadamard.jl:17 overwritten at /home/local/rgower/modernSketches/BigRidge/src/Hadamard.jl:17.\n",
      "WARNING: Method definition boot_rademacher(Main.Prob, Main.MyOptions) in module Main at /home/local/rgower/modernSketches/BigRidge/src/rademacher.jl:2 overwritten at /home/local/rgower/modernSketches/BigRidge/src/rademacher.jl:2.\n",
      "WARNING: Method definition step_rademacher_sign_flip(Main.Prob, Array{Float64, N<:Any}, Main.MyOptions, Main.SketchMethod) in module Main at /home/local/rgower/modernSketches/BigRidge/src/rademacher.jl:32 overwritten at /home/local/rgower/modernSketches/BigRidge/src/rademacher.jl:32.\n",
      "WARNING: Method definition step_rademacher(Main.Prob, Array{Float64, N<:Any}, Main.MyOptions, Main.SketchMethod) in module Main at /home/local/rgower/modernSketches/BigRidge/src/rademacher.jl:55 overwritten at /home/local/rgower/modernSketches/BigRidge/src/rademacher.jl:55.\n",
      "WARNING: Method definition step_rademacher_full_indexed(Main.Prob, Array{Float64, N<:Any}, Main.MyOptions, Main.SketchMethod) in module Main at /home/local/rgower/modernSketches/BigRidge/src/rademacher.jl:75 overwritten at /home/local/rgower/modernSketches/BigRidge/src/rademacher.jl:75.\n",
      "WARNING: Method definition boot_countmin(Main.Prob, Main.MyOptions) in module Main at /home/local/rgower/modernSketches/BigRidge/src/countmin.jl:4 overwritten at /home/local/rgower/modernSketches/BigRidge/src/countmin.jl:4.\n",
      "WARNING: Method definition step_countmin(Main.Prob, Array{Float64, N<:Any}, Main.MyOptions, Main.Method) in module Main at /home/local/rgower/modernSketches/BigRidge/src/countmin.jl:14 overwritten at /home/local/rgower/modernSketches/BigRidge/src/countmin.jl:14.\n",
      "WARNING: Method definition plot_outputs_Plots(Any, Any) in module Main at /home/local/rgower/modernSketches/BigRidge/src/plot_outputs_Plots.jl:3 overwritten at /home/local/rgower/modernSketches/BigRidge/src/plot_outputs_Plots.jl:3.\n"
     ]
    },
    {
     "data": {
      "text/plain": [
       "plot_outputs_Plots (generic function with 1 method)"
      ]
     },
     "execution_count": 313,
     "metadata": {},
     "output_type": "execute_result"
    }
   ],
   "source": [
    "using StatsBase\n",
    "using JLD  \n",
    "include(\"../src/BigRidge.jl\")"
   ]
  },
  {
   "cell_type": "code",
   "execution_count": 314,
   "metadata": {
    "collapsed": true
   },
   "outputs": [],
   "source": [
    "#Basic parameters\n",
    "## Basic parameters\n",
    "maxiter=2000;\n",
    "max_time = 200;\n",
    "max_epocs = 100;\n",
    "printiters = true;\n",
    "exacterror =true; \n",
    "tol = 10.0^(-5.0);\n",
    "restol = 10.0^(-5.0);\n",
    "skip_error_calculation = 25;   # number of iterations where error is not calculated (to save time!) ceil((m)^(1/2))"
   ]
  },
  {
   "cell_type": "code",
   "execution_count": 317,
   "metadata": {},
   "outputs": [
    {
     "name": "stdout",
     "output_type": "stream",
     "text": [
      "../data/gisette_scale.jld\n",
      "ErrorException(\"File ../data/gisette_scale-xsol.jld cannot be found\")\n"
     ]
    }
   ],
   "source": [
    "dataset = \"gisette_scale\"   # news20.binary  rcv1_train.binary mnist.scale  a9a  gisette_scale  rcv1_train.binary\n",
    "prob = defineProb(dataset);"
   ]
  },
  {
   "cell_type": "code",
   "execution_count": 318,
   "metadata": {},
   "outputs": [
    {
     "ename": "LoadError",
     "evalue": "KeyError: key \"gisette_scale\" not found",
     "output_type": "error",
     "traceback": [
      "KeyError: key \"gisette_scale\" not found",
      "",
      " in getindex(::Dict{Any,Any}, ::String) at ./dict.jl:697",
      " in showDetails(::String) at /home/local/rgower/modernSketches/BigRidge/src/dataLoad.jl:45"
     ]
    }
   ],
   "source": [
    "norm(prob.A*prob.xsol - prob.b)\n",
    "showDetails(dataset)"
   ]
  },
  {
   "cell_type": "code",
   "execution_count": 319,
   "metadata": {},
   "outputs": [],
   "source": [
    "options = MyOptions(0,\"uni\",tol,restol,maxiter,skip_error_calculation,max_time,printiters,exacterror,[]) \n",
    "OUTPUTS = [];"
   ]
  },
  {
   "cell_type": "code",
   "execution_count": null,
   "metadata": {
    "collapsed": true
   },
   "outputs": [],
   "source": [
    "options.AUX = [0 1]; # don't use sign flipping and use a density of 10 per row\n",
    "method_name = \"rademacher\";# ROS\n",
    "options.sketchsize = 500; #floor((prob.n)^(1/2));\n",
    "@time   output= solveRidge(prob, method_name, options);\n",
    "OUTPUTS = [OUTPUTS ; output];\n",
    "options.AUX = [0 5]; # don't use sign flipping and use a density of 10 per row\n",
    "method_name = \"rademacher\";# ROS\n",
    "options.sketchsize = 100; #floor((prob.n)^(1/2));\n",
    "@time   output= solveRidge(prob, method_name, options);\n",
    "OUTPUTS = [OUTPUTS ; output];\n",
    "options.AUX = [0 10]; # don't use sign flipping and use a density of 10 per row\n",
    "method_name = \"rademacher\";# ROS\n",
    "options.sketchsize = 50; #floor((prob.n)^(1/2));\n",
    "@time   output= solveRidge(prob, method_name, options);\n",
    "OUTPUTS = [OUTPUTS ; output];\n",
    "options.AUX = [0 50]; # don't use sign flipping and use a density of 10 per row\n",
    "method_name = \"rademacher\";# ROS\n",
    "options.sketchsize = 10; #floor((prob.n)^(1/2));\n",
    "@time   output= solveRidge(prob, method_name, options);\n",
    "OUTPUTS = [OUTPUTS ; output];\n",
    "options.AUX = [0 500]; # don't use sign flipping and use a density of 10 per row\n",
    "method_name = \"rademacher\";# ROS\n",
    "options.sketchsize = 1; #floor((prob.n)^(1/2));\n",
    "@time   output= solveRidge(prob, method_name, options);\n",
    "OUTPUTS = [OUTPUTS ; output];"
   ]
  },
  {
   "cell_type": "code",
   "execution_count": 326,
   "metadata": {},
   "outputs": [
    {
     "name": "stdout",
     "output_type": "stream",
     "text": [
      "flopsperiter: 161000\n",
      "Hadamard\n",
      "-------------------\n",
      "It   | Error% | Residual |  Time   \n",
      "-------------------\n",
      " 13  | 52.34  |  17.49  | 202.0304 \n",
      "202.149252 seconds (2.19 G allocations: 354.684 GB, 46.83% gc time)\n"
     ]
    }
   ],
   "source": [
    "# Testing Hadamard Sketch\n",
    "method_name = \"Hadamard\";# ROS\n",
    "options.sketchsize =10; # Int(floor(log2(prob.n)));\n",
    "options.skip_error_calculation =25;\n",
    "@time  output= solveRidge(prob, method_name, options);\n",
    "OUTPUTS = [OUTPUTS ; output];"
   ]
  },
  {
   "cell_type": "code",
   "execution_count": 325,
   "metadata": {},
   "outputs": [
    {
     "name": "stdout",
     "output_type": "stream",
     "text": [
      "countmin\n",
      "-------------------\n",
      "It   | Error% | Residual |  Time   \n",
      "-------------------\n",
      " 25  | 48.37  |  13.89  | 6.3251 \n",
      " 50  | 41.60  |  9.77  | 11.5942 \n",
      " 75  | 37.19  |  8.57  | 16.8104 \n",
      "100  | 33.78  |  8.55  | 22.1589 \n",
      "125  | 31.68  |  7.18  | 27.3806 \n",
      "150  | 29.63  |  7.18  | 32.7585 \n",
      "175  | 27.53  |  6.81  | 38.0001 \n",
      "200  | 25.57  |  5.97  | 43.2613 \n",
      "225  | 24.93  |  5.46  | 48.4440 \n",
      "250  | 22.70  |  5.81  | 53.7164 \n",
      "275  | 21.17  |  5.96  | 59.6698 \n",
      "300  | 19.88  |  4.50  | 65.9875 \n",
      "325  | 18.37  |  4.76  | 71.1524 \n",
      "350  | 17.45  |  4.15  | 76.4680 \n",
      "375  | 17.65  |  3.91  | 81.5909 \n",
      "400  | 16.72  |  3.86  | 86.9078 \n",
      "425  | 15.86  |  3.78  | 92.1332 \n",
      "450  | 15.49  |  3.31  | 97.4837 \n",
      "475  | 14.76  |  3.58  | 102.7025 \n",
      "500  | 14.60  |  3.12  | 108.0037 \n",
      "525  | 13.80  |  3.44  | 113.2106 \n",
      "550  | 13.40  |  2.97  | 118.5170 \n",
      "575  | 12.35  |  3.04  | 123.8673 \n",
      "600  | 12.27  |  3.05  | 129.0206 \n",
      "625  | 12.17  |  3.69  | 134.4015 \n",
      "650  | 11.45  |  3.67  | 139.6169 \n",
      "675  | 11.53  |  2.63  | 145.2156 \n",
      "700  | 11.84  |  2.60  | 150.7174 \n",
      "725  | 10.93  |  2.78  | 157.4127 \n",
      "750  | 10.68  |  2.40  | 162.7199 \n",
      "775  | 10.46  |  2.34  | 168.0468 \n",
      "800  | 10.11  |  2.35  | 173.2361 \n",
      "825  | 10.00  |  2.31  | 178.6590 \n",
      "850  | 9.78  |  2.25  | 183.8644 \n",
      "875  | 9.59  |  2.05  | 189.2126 \n",
      "900  | 9.63  |  1.91  | 194.8770 \n",
      "921  | 9.97  |  1.88  | 200.0575 \n",
      "202.128354 seconds (113.81 M allocations: 691.646 GB, 30.54% gc time)\n"
     ]
    }
   ],
   "source": [
    "# Testing countmin \n",
    "options.sketchsize =10;#floor((prob.n)^(1/2));\n",
    "options.skip_error_calculation =25;\n",
    "method_name = \"countmin\";# gradient descent\n",
    "@time output= solveRidge(prob, method_name, options);\n",
    "OUTPUTS = [OUTPUTS ; output];"
   ]
  },
  {
   "cell_type": "code",
   "execution_count": 321,
   "metadata": {},
   "outputs": [
    {
     "name": "stdout",
     "output_type": "stream",
     "text": [
      "CG\n",
      "-------------------\n",
      "It   | Error% | Residual |  Time   \n",
      "-------------------\n",
      " 25  | 3.89  |  1.53  | 0.6564 \n",
      " 50  | 1.76  |  0.67  | 1.2130 \n",
      " 75  | 1.10  |  0.49  | 1.7700 \n",
      "100  | 0.77  |  1.21  | 2.3274 \n",
      "125  | 0.57  |  0.25  | 2.8970 \n",
      "150  | 0.30  |  0.38  | 3.4821 \n",
      "175  | 0.92  |  0.18  | 4.0527 \n",
      "200  | 0.48  |  0.20  | 4.5608 \n",
      "225  | 0.23  |  0.13  | 5.0683 \n",
      "250  | 0.19  |  0.82  | 5.5513 \n",
      "275  | 0.16  |  0.22  | 6.0433 \n",
      "300  | 0.13  |  0.16  | 6.5322 \n",
      "325  | 0.11  |  0.22  | 7.0176 \n",
      "350  | 0.09  |  0.16  | 7.4789 \n",
      "375  | 0.02  |  0.10  | 7.9893 \n",
      "400  | 0.07  |  0.11  | 8.4833 \n",
      "425  | 0.05  |  0.29  | 8.9930 \n",
      "450  | 0.04  |  0.07  | 9.5145 \n",
      "475  | 0.04  |  0.07  | 10.0201 \n",
      "500  | 0.03  |  0.04  | 10.5416 \n",
      "525  | 0.03  |  0.04  | 11.0502 \n",
      "550  | 0.02  |  0.03  | 11.5566 \n",
      "575  | 0.02  |  0.08  | 12.0656 \n",
      "600  | 0.02  |  0.03  | 12.5730 \n",
      "625  | 0.09  |  0.03  | 13.2212 \n",
      "650  | 0.05  |  0.03  | 13.7721 \n",
      "675  | 0.06  |  0.03  | 14.2876 \n",
      "700  | 0.06  |  0.03  | 14.7978 \n",
      "725  | 0.01  |  0.70  | 15.3081 \n",
      "750  | 0.07  |  0.02  | 15.8264 \n",
      "775  | 0.02  |  0.03  | 16.3340 \n",
      "800  | 0.01  |  0.02  | 16.8351 \n",
      "825  | 0.01  |  0.02  | 17.3442 \n",
      "850  | 0.00  |  0.17  | 17.8491 \n",
      "875  | 0.00  |  0.03  | 18.3629 \n",
      "900  | 0.00  |  0.02  | 18.8682 \n",
      "925  | 0.00  |  0.02  | 19.3600 \n",
      "950  | 0.00  |  0.01  | 19.8444 \n",
      "975  | 0.00  |  0.14  | 20.3565 \n",
      "1000  | 0.00  |  0.01  | 20.9046 \n",
      "1025  | 0.00  |  0.15  | 21.4600 \n",
      "1050  | 0.00  |  0.01  | 21.9646 \n",
      "1075  | 0.00  |  0.01  | 22.4850 \n",
      "1100  | 0.00  |  0.02  | 22.9946 \n",
      "1125  | 0.00  |  0.01  | 23.4976 \n",
      " 25.642264 seconds (75.82 k allocations: 356.299 MB, 0.17% gc time)\n"
     ]
    }
   ],
   "source": [
    "# Testing CG \n",
    "method_name = \"CG\";# gradient descent\n",
    "@time output= solveRidge(prob, method_name, options);\n",
    "OUTPUTS = [OUTPUTS ; output];"
   ]
  },
  {
   "cell_type": "code",
   "execution_count": 324,
   "metadata": {},
   "outputs": [
    {
     "name": "stdout",
     "output_type": "stream",
     "text": [
      "CD-200\n",
      "-------------------\n",
      "It   | Error% | Residual |  Time   \n",
      "-------------------\n",
      " 25  | 9.17  |  2.93  | 0.5781 \n",
      " 50  | 5.60  |  1.26  | 0.9956 \n",
      " 75  | 4.04  |  0.91  | 1.3728 \n",
      "100  | 3.14  |  0.69  | 1.7714 \n",
      "125  | 2.98  |  0.58  | 2.2041 \n",
      "150  | 2.01  |  0.50  | 2.5667 \n",
      "175  | 1.97  |  0.44  | 2.9538 \n",
      "200  | 1.73  |  0.39  | 3.3187 \n",
      "225  | 1.56  |  0.35  | 3.7083 \n",
      "250  | 1.42  |  0.31  | 4.0870 \n",
      "275  | 1.43  |  0.29  | 4.5077 \n",
      "300  | 1.30  |  0.25  | 4.8632 \n",
      "325  | 1.11  |  0.25  | 5.2580 \n",
      "350  | 1.24  |  0.22  | 5.6639 \n",
      "375  | 0.95  |  0.22  | 6.0942 \n",
      "400  | 0.80  |  0.19  | 6.7400 \n",
      "425  | 0.48  |  0.20  | 7.3766 \n",
      "450  | 0.81  |  0.19  | 7.9461 \n",
      "475  | 0.77  |  0.18  | 8.3899 \n",
      "500  | 0.73  |  0.17  | 8.7675 \n",
      "525  | 0.69  |  0.16  | 9.3750 \n",
      "550  | 0.83  |  0.14  | 9.7314 \n",
      "575  | 0.48  |  0.14  | 10.0909 \n",
      "600  | 0.80  |  0.14  | 10.4560 \n",
      "625  | 0.29  |  0.13  | 10.8139 \n",
      "650  | 0.68  |  0.13  | 11.1680 \n",
      "675  | 0.54  |  0.12  | 11.7558 \n",
      "700  | 0.51  |  0.13  | 12.1280 \n",
      "725  | 0.46  |  0.12  | 12.8184 \n",
      "750  | 0.86  |  0.11  | 13.1704 \n",
      "775  | 0.26  |  0.12  | 13.5304 \n",
      "800  | 0.67  |  0.10  | 13.8958 \n",
      "825  | 0.43  |  0.10  | 14.2616 \n",
      "850  | 0.50  |  0.10  | 14.6255 \n",
      "875  | 0.40  |  0.10  | 14.9433 \n",
      "900  | 0.39  |  0.09  | 15.2586 \n",
      "925  | 0.63  |  0.09  | 15.5740 \n",
      "950  | 0.99  |  0.09  | 15.8870 \n",
      "975  | 0.38  |  0.09  | 16.2228 \n",
      "1000  | 0.35  |  0.08  | 16.5766 \n",
      "1025  | 0.16  |  0.08  | 16.9070 \n",
      "1050  | 0.52  |  0.08  | 17.2215 \n",
      "1075  | 0.32  |  0.08  | 17.5464 \n",
      "1100  | 0.27  |  0.08  | 17.8763 \n",
      "1125  | 0.30  |  0.08  | 18.1934 \n",
      "1150  | 0.29  |  0.08  | 18.5184 \n",
      "1175  | 0.39  |  0.07  | 18.8608 \n",
      "1200  | 0.28  |  0.07  | 19.1740 \n",
      "1225  | 0.27  |  0.07  | 19.5096 \n",
      "1250  | 0.51  |  0.07  | 19.8380 \n",
      "1275  | 0.87  |  0.07  | 20.1532 \n",
      "1300  | 0.25  |  0.06  | 20.4897 \n",
      "1325  | 0.96  |  0.06  | 21.1469 \n",
      "1350  | 0.24  |  0.06  | 21.5247 \n",
      "1375  | 0.77  |  0.06  | 21.8581 \n",
      "1400  | 0.23  |  0.07  | 22.1925 \n",
      "1425  | 0.59  |  0.06  | 22.5587 \n",
      "1450  | 0.22  |  0.06  | 22.9273 \n",
      "1475  | 0.38  |  0.06  | 23.2590 \n",
      "1500  | 0.76  |  0.06  | 23.5805 \n",
      "1525  | 0.20  |  0.06  | 23.9280 \n",
      "1550  | 0.80  |  0.06  | 24.5970 \n",
      "1575  | 0.19  |  0.06  | 25.3624 \n",
      "1600  | 0.47  |  0.05  | 26.0870 \n",
      "1625  | 0.24  |  0.05  | 26.8060 \n",
      "1650  | 0.19  |  0.05  | 27.7057 \n",
      "1675  | 0.18  |  0.05  | 28.2066 \n",
      "1700  | 0.12  |  0.05  | 28.5361 \n",
      "1725  | 0.17  |  0.05  | 28.8501 \n",
      "1750  | 0.85  |  0.05  | 29.1709 \n",
      "1775  | 0.17  |  0.05  | 29.4821 \n",
      "1800  | 0.59  |  0.05  | 29.8118 \n",
      "1825  | 0.16  |  0.05  | 30.1207 \n",
      "1850  | 0.32  |  0.05  | 30.4429 \n",
      "1875  | 0.15  |  0.05  | 30.7529 \n",
      "1900  | 0.58  |  0.05  | 31.0759 \n",
      "1925  | 0.15  |  0.05  | 31.3940 \n",
      "1950  | 0.14  |  0.04  | 31.7180 \n",
      "1975  | 0.14  |  0.04  | 32.0442 \n",
      "2000  | 0.56  |  0.05  | 32.3865 \n",
      " 36.232880 seconds (152.45 k allocations: 16.167 GB, 2.87% gc time)\n"
     ]
    }
   ],
   "source": [
    "# Testing CD \n",
    "method_name = \"CD\";# gradient descent\n",
    "options.sketchsize = 200;#floor((prob.n)^(1/2));\n",
    "@time output= solveRidge(prob, method_name, options);\n",
    "OUTPUTS = [OUTPUTS ; output];"
   ]
  },
  {
   "cell_type": "code",
   "execution_count": 293,
   "metadata": {},
   "outputs": [
    {
     "name": "stdout",
     "output_type": "stream",
     "text": [
      "rademacher-10-10-sgn\n",
      "-------------------\n",
      "It   | Error% | Residual |  Time   \n",
      "-------------------\n",
      " 25  | 22.94  |  10.80  | 0.0881 \n",
      " 50  | 15.23  |  7.68  | 0.1183 \n",
      " 75  | 11.62  |  7.23  | 0.1505 \n",
      "100  | 9.47  |  4.28  | 0.1775 \n",
      "125  | 7.86  |  3.68  | 0.2122 \n",
      "150  | 6.90  |  3.49  | 0.2398 \n",
      "175  | 6.52  |  2.95  | 0.2746 \n",
      "200  | 5.38  |  2.47  | 0.3025 \n",
      "225  | 4.88  |  2.34  | 0.3327 \n",
      "250  | 4.47  |  2.43  | 0.3597 \n",
      "275  | 4.73  |  2.09  | 0.3896 \n",
      "300  | 3.74  |  1.73  | 0.4171 \n",
      "325  | 3.48  |  1.89  | 0.4473 \n",
      "350  | 3.26  |  1.47  | 0.4743 \n",
      "375  | 3.93  |  1.84  | 0.5042 \n",
      "400  | 2.87  |  1.85  | 0.5317 \n",
      "425  | 2.72  |  1.36  | 0.5617 \n",
      "450  | 2.57  |  1.23  | 0.5888 \n",
      "475  | 2.24  |  1.35  | 0.6186 \n",
      "500  | 2.32  |  1.52  | 0.6449 \n",
      "525  | 2.18  |  1.07  | 0.6730 \n",
      "550  | 2.08  |  0.96  | 0.6965 \n",
      "575  | 1.99  |  1.03  | 0.7226 \n",
      "600  | 1.90  |  1.01  | 0.7472 \n",
      "625  | 1.82  |  1.02  | 0.7737 \n",
      "650  | 1.75  |  0.86  | 0.7974 \n",
      "675  | 1.28  |  0.92  | 0.8234 \n",
      "700  | 1.64  |  0.80  | 0.8490 \n",
      "725  | 1.57  |  0.85  | 0.8750 \n",
      "750  | 1.51  |  0.77  | 0.8986 \n",
      "775  | 1.46  |  0.83  | 0.9245 \n",
      "800  | 1.41  |  0.85  | 0.9494 \n",
      "825  | 1.36  |  0.79  | 0.9757 \n",
      "850  | 1.32  |  0.66  | 0.9992 \n",
      "875  | 1.28  |  0.70  | 1.0251 \n",
      "900  | 1.24  |  0.66  | 1.0519 \n",
      "925  | 1.20  |  0.69  | 1.0814 \n",
      "950  | 1.18  |  0.66  | 1.1058 \n",
      "975  | 1.15  |  0.55  | 1.1328 \n",
      "1000  | 1.12  |  0.55  | 1.1670 \n",
      "  1.256677 seconds (669.15 k allocations: 1.285 GB, 12.80% gc time)\n",
      "rademacher-10-10\n",
      "-------------------\n",
      "It   | Error% | Residual |  Time   \n",
      "-------------------\n",
      " 25  | 23.45  |  11.11  | 0.0158 \n",
      " 50  | 16.32  |  7.21  | 0.0318 \n",
      " 75  | 13.34  |  6.11  | 0.0472 \n",
      "100  | 10.90  |  4.78  | 0.0630 \n",
      "125  | 9.14  |  3.89  | 0.0856 \n",
      "150  | 7.95  |  3.37  | 0.1061 \n",
      "175  | 7.07  |  3.27  | 0.1232 \n",
      "200  | 6.19  |  3.03  | 0.1386 \n",
      "225  | 5.57  |  2.60  | 0.1518 \n",
      "250  | 5.05  |  2.21  | 0.1681 \n",
      "275  | 4.57  |  2.14  | 0.1838 \n",
      "300  | 4.19  |  2.05  | 0.2004 \n",
      "325  | 3.92  |  2.03  | 0.2154 \n",
      "350  | 3.94  |  1.69  | 0.2292 \n",
      "375  | 3.40  |  1.53  | 0.2446 \n",
      "400  | 3.16  |  1.64  | 0.2598 \n",
      "425  | 2.98  |  1.38  | 0.2749 \n",
      "450  | 2.85  |  1.34  | 0.2863 \n",
      "475  | 2.71  |  1.28  | 0.2977 \n",
      "500  | 2.58  |  1.17  | 0.3090 \n",
      "525  | 2.99  |  1.16  | 0.3237 \n",
      "550  | 2.34  |  1.21  | 0.3402 \n",
      "575  | 2.23  |  1.15  | 0.3526 \n",
      "600  | 2.13  |  1.08  | 0.3679 \n",
      "625  | 2.04  |  1.04  | 0.3828 \n",
      "650  | 1.97  |  1.08  | 0.3979 \n",
      "675  | 1.14  |  0.93  | 0.4128 \n",
      "700  | 1.81  |  0.81  | 0.4255 \n",
      "725  | 1.75  |  0.88  | 0.4414 \n",
      "750  | 1.69  |  0.74  | 0.4563 \n",
      "775  | 1.64  |  0.77  | 0.4718 \n",
      "800  | 1.59  |  0.74  | 0.4870 \n",
      "825  | 1.55  |  0.72  | 0.4995 \n",
      "850  | 1.50  |  0.72  | 0.5148 \n",
      "875  | 1.46  |  0.71  | 0.5271 \n",
      "900  | 1.42  |  0.71  | 0.5403 \n",
      "925  | 1.38  |  0.71  | 0.5526 \n",
      "950  | 1.34  |  0.60  | 0.5674 \n",
      "975  | 1.31  |  0.66  | 0.5821 \n",
      "1000  | 1.27  |  0.64  | 0.5970 \n",
      "  0.722071 seconds (310.82 k allocations: 692.037 MB, 10.64% gc time)\n",
      "CG\n",
      "-------------------\n",
      "It   | Error% | Residual |  Time   \n",
      "-------------------\n",
      " 25  | 1.25  |  2.94  | 0.0019 \n",
      " 50  | 0.41  |  0.41  | 0.0039 \n",
      " 75  | 0.24  |  0.28  | 0.0105 \n",
      "100  | 0.18  |  0.47  | 0.0196 \n",
      "125  | 0.15  |  0.21  | 0.0215 \n",
      "150  | 0.12  |  0.11  | 0.0240 \n",
      "175  | 0.11  |  0.12  | 0.0275 \n",
      "200  | 0.10  |  0.09  | 0.0310 \n",
      "225  | 0.09  |  0.05  | 0.0337 \n",
      "250  | 0.08  |  0.09  | 0.0370 \n",
      "275  | 0.07  |  0.09  | 0.0689 \n",
      "300  | 0.07  |  0.09  | 0.1027 \n",
      "325  | 0.06  |  0.05  | 0.1630 \n",
      "350  | 0.06  |  0.05  | 0.1808 \n",
      "375  | 0.05  |  0.05  | 0.1857 \n",
      "400  | 0.05  |  0.04  | 0.1927 \n",
      "425  | 0.05  |  0.07  | 0.2006 \n",
      "450  | 0.04  |  0.05  | 0.2025 \n",
      "475  | 0.04  |  0.03  | 0.2044 \n",
      "500  | 0.04  |  0.04  | 0.2161 \n",
      "525  | 0.04  |  0.05  | 0.2192 \n",
      "550  | 0.03  |  0.10  | 0.2212 \n",
      "575  | 0.03  |  0.04  | 0.2232 \n",
      "600  | 0.03  |  0.03  | 0.2252 \n",
      "625  | 0.03  |  0.06  | 0.2326 \n",
      "650  | 0.03  |  0.06  | 0.2425 \n",
      "675  | 0.02  |  0.08  | 0.2447 \n",
      "700  | 0.02  |  0.03  | 0.2469 \n",
      "725  | 0.02  |  0.03  | 0.2498 \n",
      "750  | 0.02  |  0.03  | 0.2523 \n",
      "775  | 0.02  |  0.03  | 0.2549 \n",
      "800  | 0.02  |  0.03  | 0.2574 \n",
      "825  | 0.02  |  0.09  | 0.2599 \n",
      "850  | 0.02  |  0.02  | 0.2623 \n",
      "875  | 0.02  |  0.05  | 0.2648 \n",
      "900  | 0.01  |  0.02  | 0.2672 \n",
      "925  | 0.01  |  0.01  | 0.2698 \n",
      "950  | 0.01  |  0.03  | 0.2723 \n",
      "975  | 0.01  |  0.03  | 0.2748 \n",
      "1000  | 0.01  |  0.02  | 0.2775 \n",
      "  0.322747 seconds (38.14 k allocations: 51.359 MB, 1.68% gc time)\n",
      "CD-10\n",
      "-------------------\n",
      "It   | Error% | Residual |  Time   \n",
      "-------------------\n",
      " 25  | 26.62  |  16.60  | 0.0019 \n",
      " 50  | 17.27  |  10.61  | 0.0030 \n",
      " 75  | 13.77  |  8.14  | 0.0042 \n",
      "100  | 10.97  |  5.99  | 0.0053 \n",
      "125  | 9.17  |  5.61  | 0.0096 \n",
      "150  | 7.27  |  4.92  | 0.0108 \n",
      "175  | 6.37  |  3.87  | 0.0119 \n",
      "200  | 5.71  |  3.77  | 0.0131 \n",
      "225  | 4.94  |  3.29  | 0.0142 \n",
      "250  | 4.43  |  3.02  | 0.0154 \n",
      "275  | 3.90  |  2.77  | 0.0165 \n",
      "300  | 3.59  |  2.48  | 0.0177 \n",
      "325  | 3.32  |  2.16  | 0.0188 \n",
      "350  | 3.13  |  2.24  | 0.0199 \n",
      "375  | 2.89  |  1.85  | 0.0211 \n",
      "400  | 2.75  |  1.87  | 0.0222 \n",
      "425  | 2.53  |  1.78  | 0.0234 \n",
      "450  | 2.35  |  1.56  | 0.0278 \n",
      "475  | 2.16  |  1.91  | 0.0290 \n",
      "500  | 2.02  |  1.63  | 0.0301 \n",
      "525  | 1.89  |  1.58  | 0.0312 \n",
      "550  | 1.74  |  1.26  | 0.0323 \n",
      "575  | 1.65  |  1.22  | 0.0335 \n",
      "600  | 1.58  |  1.29  | 0.0346 \n",
      "625  | 1.52  |  1.19  | 0.0357 \n",
      "650  | 1.41  |  1.08  | 0.0369 \n",
      "675  | 1.31  |  1.15  | 0.0380 \n",
      "700  | 1.25  |  1.32  | 0.0392 \n",
      "725  | 1.17  |  1.03  | 0.0403 \n",
      "750  | 1.10  |  1.00  | 0.0414 \n",
      "775  | 1.05  |  1.20  | 0.0454 \n",
      "800  | 0.99  |  1.04  | 0.0466 \n",
      "825  | 0.94  |  0.90  | 0.0477 \n",
      "850  | 0.89  |  0.89  | 0.0488 \n",
      "875  | 0.84  |  0.89  | 0.0499 \n",
      "900  | 0.81  |  1.05  | 0.0510 \n",
      "925  | 0.77  |  0.82  | 0.0521 \n",
      "950  | 0.74  |  0.77  | 0.0533 \n",
      "975  | 0.70  |  0.76  | 0.0544 \n",
      "1000  | 0.66  |  0.74  | 0.0555 \n",
      "  0.094011 seconds (55.42 k allocations: 66.046 MB, 8.75% gc time)\n"
     ]
    },
    {
     "data": {
      "text/plain": [
       "4-element Array{Any,1}:\n",
       " LastMain.Output(1000,53085,[0.0 0.0880732 … 1.13277 1.16704],[1.0 0.229355 … 0.011472 0.0112244],[1.0 0.108 … 0.0054965 0.00548314],\"rademacher-10-10-sgn\",\"max_iter\") \n",
       " LastMain.Output(1000,53085,[0.0 0.0158351 … 0.582131 0.59705],[1.0 0.234526 … 0.0131045 0.0127203],[1.0 0.11109 … 0.00662151 0.00636297],\"rademacher-10-10\",\"max_iter\")\n",
       " LastMain.Output(1000,1222260,[0.0 0.00193524 … 0.274848 0.277471],[1.0 0.0124964 … 0.000123463 0.000118088],[1.0 0.0294147 … 0.000262751 0.000209458],\"CG\",\"max_iter\") \n",
       " LastMain.Output(1000,8820,[0.0 0.00185541 … 0.054431 0.0555454],[1.0 0.266163 … 0.00702874 0.00662517],[1.0 0.166018 … 0.00757432 0.00744022],\"CD-10\",\"max_iter\")      "
      ]
     },
     "execution_count": 293,
     "metadata": {},
     "output_type": "execute_result"
    }
   ],
   "source": [
    "OUTPUTS =[];\n",
    "include(\"../src/call_all_methods.jl\")"
   ]
  },
  {
   "cell_type": "code",
   "execution_count": 305,
   "metadata": {
    "collapsed": true
   },
   "outputs": [],
   "source": [
    "savename = replace(prob.name, r\"[\\/]\", \"-\");\n",
    "save(\"../data/$(savename)-OUTPUTS.jld\", \"OUTPUTS\", OUTPUTS)"
   ]
  },
  {
   "cell_type": "code",
   "execution_count": 306,
   "metadata": {},
   "outputs": [
    {
     "name": "stdout",
     "output_type": "stream",
     "text": [
      "rcv1_train.binary\n"
     ]
    }
   ],
   "source": [
    "#using GR\n",
    "using Plots\n",
    "pgfplots()\n",
    "plot_outputs_Plots(OUTPUTS,savename)"
   ]
  },
  {
   "cell_type": "code",
   "execution_count": null,
   "metadata": {
    "collapsed": true
   },
   "outputs": [],
   "source": [
    "# Loading saved problem data\n",
    "probname = \"w8a\"#\"gisette_scale-ridge\";  \n",
    "test = load(\"../data/$(probname)-OUTPUTS.jld\")\n",
    "OUTPUTS = test[\"OUTPUTS\"];"
   ]
  },
  {
   "cell_type": "code",
   "execution_count": null,
   "metadata": {
    "collapsed": true
   },
   "outputs": [],
   "source": []
  }
 ],
 "metadata": {
  "anaconda-cloud": {},
  "kernelspec": {
   "display_name": "Julia 0.5.2",
   "language": "julia",
   "name": "julia-0.5"
  },
  "language_info": {
   "file_extension": ".jl",
   "mimetype": "application/julia",
   "name": "julia",
   "version": "0.5.2"
  }
 },
 "nbformat": 4,
 "nbformat_minor": 1
}
