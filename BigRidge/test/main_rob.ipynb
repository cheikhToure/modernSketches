{
 "cells": [
  {
   "cell_type": "markdown",
   "metadata": {},
   "source": [
    "The main solving big ridge regression problems"
   ]
  },
  {
   "cell_type": "code",
   "execution_count": 1,
   "metadata": {
    "collapsed": true
   },
   "outputs": [],
   "source": [
    "workspace()"
   ]
  },
  {
   "cell_type": "code",
   "execution_count": 2,
   "metadata": {
    "collapsed": false
   },
   "outputs": [
    {
     "name": "stderr",
     "output_type": "stream",
     "text": [
      "WARNING: Method definition expand(Module, ANY<:Any) in module Compat at /home/robert/.julia/v0.5/Compat/src/Compat.jl:1490 overwritten in module Compat at /home/robert/.julia/v0.5/Compat/src/Compat.jl:1490.\n",
      "WARNING: Method definition isless(Union{Main.Base.Dates.Second, Main.Base.Dates.Week, Main.Base.Dates.Day, Main.Base.Dates.Minute, Main.Base.Dates.Hour, Main.Base.Dates.Millisecond}, Union{Main.Base.Dates.Month, Main.Base.Dates.Year}) in module Compat at /home/robert/.julia/v0.5/Compat/src/Compat.jl:1529 overwritten in module Compat at /home/robert/.julia/v0.5/Compat/src/Compat.jl:1529.\n",
      "WARNING: Method definition isless(Union{Main.Base.Dates.Month, Main.Base.Dates.Year}, Union{Main.Base.Dates.Second, Main.Base.Dates.Week, Main.Base.Dates.Day, Main.Base.Dates.Minute, Main.Base.Dates.Hour, Main.Base.Dates.Millisecond}) in module Compat at /home/robert/.julia/v0.5/Compat/src/Compat.jl:1530 overwritten in module Compat at /home/robert/.julia/v0.5/Compat/src/Compat.jl:1530.\n",
      "WARNING: Method definition isless(Main.Base.Dates.Period, Main.Base.Dates.Period) in module Compat at /home/robert/.julia/v0.5/Compat/src/Compat.jl:1524 overwritten in module Compat at /home/robert/.julia/v0.5/Compat/src/Compat.jl:1524.\n",
      "WARNING: Method definition redirect_stderr(Function, Any) in module Compat at /home/robert/.julia/v0.5/Compat/src/Compat.jl:1057 overwritten in module Compat at /home/robert/.julia/v0.5/Compat/src/Compat.jl:1057.\n",
      "WARNING: Method definition zeros(AbstractArray) in module Compat at /home/robert/.julia/v0.5/Compat/src/Compat.jl:1440 overwritten in module Compat at /home/robert/.julia/v0.5/Compat/src/Compat.jl:1440.\n",
      "WARNING: Method definition zeros(AbstractArray, Type) in module Compat at /home/robert/.julia/v0.5/Compat/src/Compat.jl:1440 overwritten in module Compat at /home/robert/.julia/v0.5/Compat/src/Compat.jl:1440.\n",
      "WARNING: Method definition zeros(AbstractArray, Type, Tuple) in module Compat at /home/robert/.julia/v0.5/Compat/src/Compat.jl:1438 overwritten in module Compat at /home/robert/.julia/v0.5/Compat/src/Compat.jl:1438.\n",
      "WARNING: Method definition zeros(AbstractArray, Type, Any...) in module Compat at /home/robert/.julia/v0.5/Compat/src/Compat.jl:1439 overwritten in module Compat at /home/robert/.julia/v0.5/Compat/src/Compat.jl:1439.\n",
      "WARNING: Method definition include_string(Module, String, String) in module Compat at /home/robert/.julia/v0.5/Compat/src/Compat.jl:1492 overwritten in module Compat at /home/robert/.julia/v0.5/Compat/src/Compat.jl:1492.\n",
      "WARNING: Method definition include_string(Module, AbstractString) in module Compat at /home/robert/.julia/v0.5/Compat/src/Compat.jl:1494 overwritten in module Compat at /home/robert/.julia/v0.5/Compat/src/Compat.jl:1494.\n",
      "WARNING: Method definition include_string(Module, AbstractString, AbstractString) in module Compat at /home/robert/.julia/v0.5/Compat/src/Compat.jl:1494 overwritten in module Compat at /home/robert/.julia/v0.5/Compat/src/Compat.jl:1494.\n",
      "WARNING: Method definition redirect_stdin(Function, Any) in module Compat at /home/robert/.julia/v0.5/Compat/src/Compat.jl:1057 overwritten in module Compat at /home/robert/.julia/v0.5/Compat/src/Compat.jl:1057.\n",
      "WARNING: Method definition !(Function) in module Compat at /home/robert/.julia/v0.5/Compat/src/Compat.jl:1205 overwritten in module Compat at /home/robert/.julia/v0.5/Compat/src/Compat.jl:1205.\n",
      "WARNING: Method definition take!(Task) in module Compat at /home/robert/.julia/v0.5/Compat/src/Compat.jl:53 overwritten in module Compat at /home/robert/.julia/v0.5/Compat/src/Compat.jl:53.\n",
      "WARNING: Method definition take!(Main.Base.AbstractIOBuffer) in module Compat at /home/robert/.julia/v0.5/Compat/src/Compat.jl:1172 overwritten in module Compat at /home/robert/.julia/v0.5/Compat/src/Compat.jl:1172.\n",
      "WARNING: Method definition convert(Type{Main.Base.Set{#T<:Any}}, Main.Base.Set{#T<:Any}) in module Compat at /home/robert/.julia/v0.5/Compat/src/Compat.jl:1459 overwritten in module Compat at /home/robert/.julia/v0.5/Compat/src/Compat.jl:1459.\n",
      "WARNING: Method definition convert(Type{Main.Base.Set{#T<:Any}}, Main.Base.Set) in module Compat at /home/robert/.julia/v0.5/Compat/src/Compat.jl:1460 overwritten in module Compat at /home/robert/.julia/v0.5/Compat/src/Compat.jl:1460.\n",
      "WARNING: Method definition isnull(Any) in module Compat at /home/robert/.julia/v0.5/Compat/src/Compat.jl:1137 overwritten in module Compat at /home/robert/.julia/v0.5/Compat/src/Compat.jl:1137.\n",
      "WARNING: Method definition isassigned(Main.Base.RefValue) in module Compat at /home/robert/.julia/v0.5/Compat/src/Compat.jl:1465 overwritten in module Compat at /home/robert/.julia/v0.5/Compat/src/Compat.jl:1465.\n",
      "WARNING: Method definition unsafe_trunc(Type{#T<:Integer}, Integer) in module Compat at /home/robert/.julia/v0.5/Compat/src/Compat.jl:1469 overwritten in module Compat at /home/robert/.julia/v0.5/Compat/src/Compat.jl:1469.\n",
      "WARNING: Method definition ==(Union{Main.Base.Dates.Second, Main.Base.Dates.Week, Main.Base.Dates.Day, Main.Base.Dates.Minute, Main.Base.Dates.Hour, Main.Base.Dates.Millisecond}, Union{Main.Base.Dates.Month, Main.Base.Dates.Year}) in module Compat at /home/robert/.julia/v0.5/Compat/src/Compat.jl:1527 overwritten in module Compat at /home/robert/.julia/v0.5/Compat/src/Compat.jl:1527.\n",
      "WARNING: Method definition ==(Union{Main.Base.Dates.Month, Main.Base.Dates.Year}, Union{Main.Base.Dates.Second, Main.Base.Dates.Week, Main.Base.Dates.Day, Main.Base.Dates.Minute, Main.Base.Dates.Hour, Main.Base.Dates.Millisecond}) in module Compat at /home/robert/.julia/v0.5/Compat/src/Compat.jl:1528 overwritten in module Compat at /home/robert/.julia/v0.5/Compat/src/Compat.jl:1528.\n",
      "WARNING: Method definition ==(Main.Base.Dates.Period, Main.Base.Dates.Period) in module Compat at /home/robert/.julia/v0.5/Compat/src/Compat.jl:1523 overwritten in module Compat at /home/robert/.julia/v0.5/Compat/src/Compat.jl:1523.\n",
      "WARNING: Method definition bswap(Main.Base.Complex) in module Compat at /home/robert/.julia/v0.5/Compat/src/Compat.jl:1474 overwritten in module Compat at /home/robert/.julia/v0.5/Compat/src/Compat.jl:1474.\n",
      "WARNING: Method definition macroexpand(Module, ANY<:Any) in module Compat at /home/robert/.julia/v0.5/Compat/src/Compat.jl:1491 overwritten in module Compat at /home/robert/.julia/v0.5/Compat/src/Compat.jl:1491.\n",
      "WARNING: Method definition broadcast(Any, Tuple{Vararg{T<:Any, #N<:Any}}, Tuple{Vararg{T<:Any, #N<:Any}}...) in module Compat at /home/robert/.julia/v0.5/Compat/src/Compat.jl:1122 overwritten in module Compat at /home/robert/.julia/v0.5/Compat/src/Compat.jl:1122.\n",
      "WARNING: Method definition ones(AbstractArray) in module Compat at /home/robert/.julia/v0.5/Compat/src/Compat.jl:1440 overwritten in module Compat at /home/robert/.julia/v0.5/Compat/src/Compat.jl:1440.\n",
      "WARNING: Method definition ones(AbstractArray, Type) in module Compat at /home/robert/.julia/v0.5/Compat/src/Compat.jl:1440 overwritten in module Compat at /home/robert/.julia/v0.5/Compat/src/Compat.jl:1440.\n",
      "WARNING: Method definition ones(AbstractArray, Type, Tuple) in module Compat at /home/robert/.julia/v0.5/Compat/src/Compat.jl:1438 overwritten in module Compat at /home/robert/.julia/v0.5/Compat/src/Compat.jl:1438.\n",
      "WARNING: Method definition ones(AbstractArray, Type, Any...) in module Compat at /home/robert/.julia/v0.5/Compat/src/Compat.jl:1439 overwritten in module Compat at /home/robert/.julia/v0.5/Compat/src/Compat.jl:1439.\n",
      "WARNING: Method definition redirect_stdout(Function, Any) in module Compat at /home/robert/.julia/v0.5/Compat/src/Compat.jl:1057 overwritten in module Compat at /home/robert/.julia/v0.5/Compat/src/Compat.jl:1057.\n",
      "WARNING: Method definition (::Type{Main.Base.LinearIndexing})(Type{#T<:Any}) in module Compat at /home/robert/.julia/v0.5/Compat/src/Compat.jl:1430 overwritten in module Compat at /home/robert/.julia/v0.5/Compat/src/Compat.jl:1430.\n",
      "WARNING: Method definition (::Type{Main.Base.LinearIndexing})(Any...) in module Compat at /home/robert/.julia/v0.5/Compat/src/Compat.jl:1431 overwritten in module Compat at /home/robert/.julia/v0.5/Compat/src/Compat.jl:1431.\n",
      "\u001b[1m\u001b[34mINFO: Recompiling stale cache file /home/robert/.julia/lib/v0.5/FixedSizeArrays.ji for module FixedSizeArrays.\n",
      "\u001b[0m\u001b[1m\u001b[34mINFO: Recompiling stale cache file /home/robert/.julia/lib/v0.5/PlotUtils.ji for module PlotUtils.\n",
      "\u001b[0m\u001b[1m\u001b[34mINFO: Recompiling stale cache file /home/robert/.julia/lib/v0.5/PlotThemes.ji for module PlotThemes.\n",
      "\u001b[0m\u001b[1m\u001b[34mINFO: Recompiling stale cache file /home/robert/.julia/lib/v0.5/Showoff.ji for module Showoff.\n",
      "\u001b[0m\u001b[1m\u001b[34mINFO: Recompiling stale cache file /home/robert/.julia/lib/v0.5/StatsBase.ji for module StatsBase.\n",
      "\u001b[0m\u001b[1m\u001b[34mINFO: Recompiling stale cache file /home/robert/.julia/lib/v0.5/NaNMath.ji for module NaNMath.\n",
      "\u001b[0m\u001b[1m\u001b[34mINFO: Recompiling stale cache file /home/robert/.julia/lib/v0.5/FileIO.ji for module FileIO.\n",
      "\u001b[0m"
     ]
    }
   ],
   "source": [
    "using Plots"
   ]
  },
  {
   "cell_type": "code",
   "execution_count": 3,
   "metadata": {
    "collapsed": false
   },
   "outputs": [
    {
     "name": "stderr",
     "output_type": "stream",
     "text": [
      "\u001b[1m\u001b[34mINFO: Recompiling stale cache file /home/robert/.julia/lib/v0.5/HDF5.ji for module HDF5.\n",
      "\u001b[0m\u001b[1m\u001b[34mINFO: Recompiling stale cache file /home/robert/.julia/lib/v0.5/JLD.ji for module JLD.\n",
      "\u001b[0m"
     ]
    },
    {
     "data": {
      "text/plain": [
       "plot_outputs_Plots (generic function with 1 method)"
      ]
     },
     "execution_count": 3,
     "metadata": {},
     "output_type": "execute_result"
    }
   ],
   "source": [
    "using StatsBase\n",
    "using JLD  \n",
    "include(\"../src/BigRidge.jl\")"
   ]
  },
  {
   "cell_type": "code",
   "execution_count": 14,
   "metadata": {
    "collapsed": true
   },
   "outputs": [],
   "source": [
    "#Basic parameters\n",
    "## Basic parameters\n",
    "maxiter=10^8;\n",
    "max_time = 350;\n",
    "max_epocs = 6;\n",
    "printiters = true;\n",
    "exacterror =true; \n",
    "tol = 10.0^(-3.0);\n",
    "restol = 10.0^(-4.0);\n",
    "skip_error_calculation = 25;   # number of iterations where error is not calculated (to save time!) ceil((m)^(1/2))"
   ]
  },
  {
   "cell_type": "code",
   "execution_count": 15,
   "metadata": {
    "collapsed": false
   },
   "outputs": [
    {
     "name": "stdout",
     "output_type": "stream",
     "text": [
      "../data/w8a.jld\n"
     ]
    }
   ],
   "source": [
    "dataset = \"w8a\"\n",
    "X,y  = loadDataset(dataset);\n",
    "#Make this into a function, includes file in BigRidge.\n",
    "# Return A = X'*X +lambda I.  b= X'*y\n",
    "prob = Prob([],[],[],0,0,dataset);\n",
    "sX = size(X);\n",
    "prob.n=  sX[1];\n",
    "lambda = 1/sX[2] ;\n",
    "prob.A = X*X'+eye(prob.n)*lambda;"
   ]
  },
  {
   "cell_type": "code",
   "execution_count": 16,
   "metadata": {
    "collapsed": true
   },
   "outputs": [],
   "source": [
    "prob.b = X*y;\n",
    "prob.xsol = prob.A\\prob.b;\n",
    "prob.lambda = lambda;"
   ]
  },
  {
   "cell_type": "code",
   "execution_count": 17,
   "metadata": {
    "collapsed": true
   },
   "outputs": [],
   "source": [
    "options = MyOptions(0,\"uni\",tol,restol,maxiter,skip_error_calculation,max_time,printiters,exacterror) \n",
    "OUTPUTS = [];"
   ]
  },
  {
   "cell_type": "code",
   "execution_count": 18,
   "metadata": {
    "collapsed": false
   },
   "outputs": [
    {
     "name": "stdout",
     "output_type": "stream",
     "text": [
      "CG\n",
      "-------------------\n",
      "It   | Error% | Residual |  Time   \n",
      "-------------------\n",
      " 25  | 52.63  |  0.26  | 0.0021 \n",
      " 50  | 36.20  |  0.06  | 0.0041 \n",
      " 75  | 27.95  |  0.03  | 0.0061 \n",
      "100  | 16.05  |  0.02  | 0.0079 \n",
      "125  | 12.31  |  0.02  | 0.0101 \n",
      "150  | 8.11  |  0.01  | 0.0119 \n",
      "175  | 5.45  |  0.01  | 0.0137 \n",
      "200  | 2.18  |  0.00  | 0.0155 \n",
      "225  | 1.32  |  0.00  | 0.0173 \n",
      "250  | 0.85  |  0.00  | 0.0191 \n",
      "275  | 0.46  |  0.00  | 0.0216 \n",
      "300  | 0.18  |  0.00  | 0.0234 \n",
      "325  | 0.10  |  0.00  | 0.0252 \n"
     ]
    }
   ],
   "source": [
    "# Testing CG \n",
    "options.max_time = 2; options.restol = 10.0^(-8); \n",
    "method_name = \"CG\";# gradient descent\n",
    "output= solveRidge(prob, method_name, options);\n",
    "OUTPUTS = [OUTPUTS ; output];"
   ]
  },
  {
   "cell_type": "code",
   "execution_count": 19,
   "metadata": {
    "collapsed": false
   },
   "outputs": [
    {
     "name": "stdout",
     "output_type": "stream",
     "text": [
      "grad\n",
      "-------------------\n",
      "It   | Error% | Residual |  Time   \n",
      "-------------------\n",
      " 25  | 94.99  |  0.92  | 0.0087 \n",
      " 50  | 92.02  |  1.60  | 0.0149 \n",
      " 75  | 89.66  |  0.48  | 0.0210 \n",
      "100  | 87.45  |  1.08  | 0.0282 \n",
      "125  | 85.57  |  0.36  | 0.0343 \n",
      "150  | 83.73  |  0.86  | 0.0409 \n",
      "175  | 82.12  |  0.29  | 0.0470 \n",
      "200  | 80.52  |  0.72  | 0.0531 \n",
      "225  | 79.11  |  0.25  | 0.0592 \n",
      "250  | 77.69  |  0.63  | 0.0656 \n",
      "275  | 76.43  |  0.22  | 0.0716 \n",
      "300  | 75.16  |  0.56  | 0.0777 \n",
      "325  | 74.01  |  0.20  | 0.0837 \n",
      "350  | 72.86  |  0.51  | 0.0899 \n",
      "375  | 71.81  |  0.18  | 0.0960 \n",
      "400  | 70.76  |  0.47  | 0.1020 \n",
      "425  | 69.80  |  0.17  | 0.1083 \n",
      "450  | 68.83  |  0.43  | 0.1155 \n",
      "475  | 67.95  |  0.16  | 0.1212 \n",
      "500  | 67.05  |  0.40  | 0.1273 \n",
      "525  | 66.24  |  0.15  | 0.1333 \n",
      "550  | 65.41  |  0.37  | 0.1394 \n",
      "575  | 64.66  |  0.14  | 0.1457 \n",
      "600  | 63.89  |  0.35  | 0.1517 \n",
      "625  | 63.19  |  0.13  | 0.1578 \n",
      "650  | 62.48  |  0.33  | 0.1638 \n",
      "675  | 61.82  |  0.12  | 0.1739 \n",
      "700  | 61.16  |  0.31  | 0.1945 \n",
      "725  | 60.55  |  0.11  | 0.1980 \n",
      "750  | 59.93  |  0.29  | 0.2012 \n",
      "775  | 59.36  |  0.11  | 0.2098 \n",
      "800  | 58.78  |  0.27  | 0.2130 \n",
      "825  | 58.24  |  0.10  | 0.2163 \n",
      "850  | 57.70  |  0.26  | 0.2195 \n",
      "875  | 57.20  |  0.09  | 0.2238 \n",
      "900  | 56.68  |  0.24  | 0.2272 \n",
      "925  | 56.22  |  0.09  | 0.2325 \n",
      "950  | 55.73  |  0.23  | 0.2357 \n",
      "975  | 55.29  |  0.08  | 0.2421 \n",
      "1000  | 54.84  |  0.22  | 0.2467 \n"
     ]
    }
   ],
   "source": [
    "# Testing grad descent\n",
    "options.max_time = 2; options.restol = 10.0^(-8); options.maxiter=1000;\n",
    "method_name = \"grad\";# gradient descent\n",
    "output= solveRidge(prob, method_name, options);\n",
    "OUTPUTS = [OUTPUTS ; output];"
   ]
  },
  {
   "cell_type": "code",
   "execution_count": 20,
   "metadata": {
    "collapsed": false
   },
   "outputs": [
    {
     "name": "stdout",
     "output_type": "stream",
     "text": [
      "CD\n",
      "-------------------\n",
      "It   | Error% | Residual |  Time   \n",
      "-------------------\n",
      " 25  | 69.21  |  7.94  | 0.0159 \n",
      " 50  | 52.38  |  6.15  | 0.0236 \n",
      " 75  | 47.85  |  3.94  | 0.0339 \n",
      "100  | 41.82  |  1.92  | 0.0490 \n",
      "125  | 38.61  |  1.65  | 0.0659 \n",
      "150  | 34.40  |  0.49  | 0.0720 \n",
      "175  | 33.51  |  0.18  | 0.0780 \n",
      "200  | 31.27  |  0.09  | 0.0841 \n",
      "225  | 29.26  |  0.06  | 0.0899 \n",
      "250  | 28.68  |  0.04  | 0.0957 \n",
      "275  | 25.56  |  0.03  | 0.1015 \n",
      "300  | 24.46  |  0.03  | 0.1095 \n",
      "325  | 23.15  |  0.02  | 0.3093 \n",
      "350  | 22.16  |  0.02  | 0.3373 \n",
      "375  | 22.01  |  0.02  | 0.3513 \n",
      "400  | 20.96  |  0.01  | 0.3573 \n",
      "425  | 20.51  |  0.01  | 0.3597 \n",
      "450  | 19.56  |  0.01  | 0.3621 \n",
      "475  | 19.40  |  0.00  | 0.3644 \n",
      "500  | 19.22  |  0.00  | 0.3710 \n",
      "525  | 19.17  |  0.00  | 0.3733 \n",
      "550  | 18.12  |  0.00  | 0.3758 \n",
      "575  | 8.77  |  0.01  | 0.3782 \n",
      "600  | 8.77  |  0.00  | 0.3814 \n"
     ]
    }
   ],
   "source": [
    "# Testing CD \n",
    "options.max_time = 2; options.restol = 10.0^(-8); options.maxiter=600;\n",
    "method_name = \"CD\";# gradient descent\n",
    "options.sketchsize = floor((prob.n)^(1/2));\n",
    "output= solveRidge(prob, method_name, options);\n",
    "OUTPUTS = [OUTPUTS ; output];"
   ]
  },
  {
   "cell_type": "code",
   "execution_count": 21,
   "metadata": {
    "collapsed": true
   },
   "outputs": [],
   "source": [
    "savename = replace(prob.name, r\"[\\/]\", \"-\");\n",
    "save(\"../data/$(savename)-OUTPUTS.jld\", \"OUTPUTS\", OUTPUTS)"
   ]
  },
  {
   "cell_type": "code",
   "execution_count": 26,
   "metadata": {
    "collapsed": false
   },
   "outputs": [
    {
     "name": "stdout",
     "output_type": "stream",
     "text": [
      "w8a\n"
     ]
    }
   ],
   "source": [
    "#using GR\n",
    "using Plots\n",
    "pgfplots()\n",
    "plot_outputs_Plots(OUTPUTS,savename)"
   ]
  },
  {
   "cell_type": "code",
   "execution_count": 13,
   "metadata": {
    "collapsed": false
   },
   "outputs": [],
   "source": [
    "# Loading saved problem data\n",
    "probname = \"w8a\"#\"gisette_scale-ridge\";  \n",
    "test = load(\"../data/$(probname)-OUTPUTS.jld\")\n",
    "OUTPUTS = test[\"OUTPUTS\"];\n",
    "# mask = [1,3,5]\n",
    "# OUTPUTS[mask]"
   ]
  },
  {
   "cell_type": "code",
   "execution_count": null,
   "metadata": {
    "collapsed": true
   },
   "outputs": [],
   "source": []
  }
 ],
 "metadata": {
  "anaconda-cloud": {},
  "kernelspec": {
   "display_name": "Julia 0.5.2",
   "language": "julia",
   "name": "julia-0.5"
  },
  "language_info": {
   "file_extension": ".jl",
   "mimetype": "application/julia",
   "name": "julia",
   "version": "0.5.2"
  }
 },
 "nbformat": 4,
 "nbformat_minor": 1
}
