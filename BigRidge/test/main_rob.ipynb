{
 "cells": [
  {
   "cell_type": "markdown",
   "metadata": {},
   "source": [
    "The main solving big ridge regression problems"
   ]
  },
  {
   "cell_type": "code",
   "execution_count": 1,
   "metadata": {
    "collapsed": true
   },
   "outputs": [],
   "source": [
    "workspace()"
   ]
  },
  {
   "cell_type": "code",
   "execution_count": 2,
   "metadata": {},
   "outputs": [
    {
     "name": "stderr",
     "output_type": "stream",
     "text": [
      "WARNING: Method definition (::Type{Main.Base.LinearIndexing})(Type{#T<:Any}) in module Compat at /home/ROCQ/sierra/rgower/.julia/v0.5/Compat/src/Compat.jl:1430 overwritten in module Compat at /home/ROCQ/sierra/rgower/.julia/v0.5/Compat/src/Compat.jl:1430.\n",
      "WARNING: Method definition (::Type{Main.Base.LinearIndexing})(Any...) in module Compat at /home/ROCQ/sierra/rgower/.julia/v0.5/Compat/src/Compat.jl:1431 overwritten in module Compat at /home/ROCQ/sierra/rgower/.julia/v0.5/Compat/src/Compat.jl:1431.\n",
      "WARNING: Method definition take!(Task) in module Compat at /home/ROCQ/sierra/rgower/.julia/v0.5/Compat/src/Compat.jl:53 overwritten in module Compat at /home/ROCQ/sierra/rgower/.julia/v0.5/Compat/src/Compat.jl:53.\n",
      "WARNING: Method definition take!(Main.Base.AbstractIOBuffer) in module Compat at /home/ROCQ/sierra/rgower/.julia/v0.5/Compat/src/Compat.jl:1172 overwritten in module Compat at /home/ROCQ/sierra/rgower/.julia/v0.5/Compat/src/Compat.jl:1172.\n",
      "WARNING: Method definition redirect_stderr(Function, Any) in module Compat at /home/ROCQ/sierra/rgower/.julia/v0.5/Compat/src/Compat.jl:1057 overwritten in module Compat at /home/ROCQ/sierra/rgower/.julia/v0.5/Compat/src/Compat.jl:1057.\n",
      "WARNING: Method definition redirect_stdout(Function, Any) in module Compat at /home/ROCQ/sierra/rgower/.julia/v0.5/Compat/src/Compat.jl:1057 overwritten in module Compat at /home/ROCQ/sierra/rgower/.julia/v0.5/Compat/src/Compat.jl:1057.\n",
      "WARNING: Method definition ones(AbstractArray) in module Compat at /home/ROCQ/sierra/rgower/.julia/v0.5/Compat/src/Compat.jl:1440 overwritten in module Compat at /home/ROCQ/sierra/rgower/.julia/v0.5/Compat/src/Compat.jl:1440.\n",
      "WARNING: Method definition ones(AbstractArray, Type) in module Compat at /home/ROCQ/sierra/rgower/.julia/v0.5/Compat/src/Compat.jl:1440 overwritten in module Compat at /home/ROCQ/sierra/rgower/.julia/v0.5/Compat/src/Compat.jl:1440.\n",
      "WARNING: Method definition ones(AbstractArray, Type, Tuple) in module Compat at /home/ROCQ/sierra/rgower/.julia/v0.5/Compat/src/Compat.jl:1438 overwritten in module Compat at /home/ROCQ/sierra/rgower/.julia/v0.5/Compat/src/Compat.jl:1438.\n",
      "WARNING: Method definition ones(AbstractArray, Type, Any...) in module Compat at /home/ROCQ/sierra/rgower/.julia/v0.5/Compat/src/Compat.jl:1439 overwritten in module Compat at /home/ROCQ/sierra/rgower/.julia/v0.5/Compat/src/Compat.jl:1439.\n",
      "WARNING: Method definition bswap(Main.Base.Complex) in module Compat at /home/ROCQ/sierra/rgower/.julia/v0.5/Compat/src/Compat.jl:1474 overwritten in module Compat at /home/ROCQ/sierra/rgower/.julia/v0.5/Compat/src/Compat.jl:1474.\n",
      "WARNING: Method definition isless(Union{Main.Base.Dates.Week, Main.Base.Dates.Hour, Main.Base.Dates.Minute, Main.Base.Dates.Day, Main.Base.Dates.Millisecond, Main.Base.Dates.Second}, Union{Main.Base.Dates.Year, Main.Base.Dates.Month}) in module Compat at /home/ROCQ/sierra/rgower/.julia/v0.5/Compat/src/Compat.jl:1515 overwritten in module Compat at /home/ROCQ/sierra/rgower/.julia/v0.5/Compat/src/Compat.jl:1515.\n",
      "WARNING: Method definition isless(Union{Main.Base.Dates.Year, Main.Base.Dates.Month}, Union{Main.Base.Dates.Week, Main.Base.Dates.Hour, Main.Base.Dates.Minute, Main.Base.Dates.Day, Main.Base.Dates.Millisecond, Main.Base.Dates.Second}) in module Compat at /home/ROCQ/sierra/rgower/.julia/v0.5/Compat/src/Compat.jl:1516 overwritten in module Compat at /home/ROCQ/sierra/rgower/.julia/v0.5/Compat/src/Compat.jl:1516.\n",
      "WARNING: Method definition isless(Main.Base.Dates.Period, Main.Base.Dates.Period) in module Compat at /home/ROCQ/sierra/rgower/.julia/v0.5/Compat/src/Compat.jl:1510 overwritten in module Compat at /home/ROCQ/sierra/rgower/.julia/v0.5/Compat/src/Compat.jl:1510.\n",
      "WARNING: Method definition broadcast(Any, Tuple{Vararg{T<:Any, #N<:Any}}, Tuple{Vararg{T<:Any, #N<:Any}}...) in module Compat at /home/ROCQ/sierra/rgower/.julia/v0.5/Compat/src/Compat.jl:1122 overwritten in module Compat at /home/ROCQ/sierra/rgower/.julia/v0.5/Compat/src/Compat.jl:1122.\n",
      "WARNING: Method definition !(Function) in module Compat at /home/ROCQ/sierra/rgower/.julia/v0.5/Compat/src/Compat.jl:1205 overwritten in module Compat at /home/ROCQ/sierra/rgower/.julia/v0.5/Compat/src/Compat.jl:1205.\n",
      "WARNING: Method definition redirect_stdin(Function, Any) in module Compat at /home/ROCQ/sierra/rgower/.julia/v0.5/Compat/src/Compat.jl:1057 overwritten in module Compat at /home/ROCQ/sierra/rgower/.julia/v0.5/Compat/src/Compat.jl:1057.\n",
      "WARNING: Method definition isnull(Any) in module Compat at /home/ROCQ/sierra/rgower/.julia/v0.5/Compat/src/Compat.jl:1137 overwritten in module Compat at /home/ROCQ/sierra/rgower/.julia/v0.5/Compat/src/Compat.jl:1137.\n",
      "WARNING: Method definition convert(Type{Main.Base.Set{#T<:Any}}, Main.Base.Set{#T<:Any}) in module Compat at /home/ROCQ/sierra/rgower/.julia/v0.5/Compat/src/Compat.jl:1459 overwritten in module Compat at /home/ROCQ/sierra/rgower/.julia/v0.5/Compat/src/Compat.jl:1459.\n",
      "WARNING: Method definition convert(Type{Main.Base.Set{#T<:Any}}, Main.Base.Set) in module Compat at /home/ROCQ/sierra/rgower/.julia/v0.5/Compat/src/Compat.jl:1460 overwritten in module Compat at /home/ROCQ/sierra/rgower/.julia/v0.5/Compat/src/Compat.jl:1460.\n",
      "WARNING: Method definition ==(Union{Main.Base.Dates.Week, Main.Base.Dates.Hour, Main.Base.Dates.Minute, Main.Base.Dates.Day, Main.Base.Dates.Millisecond, Main.Base.Dates.Second}, Union{Main.Base.Dates.Year, Main.Base.Dates.Month}) in module Compat at /home/ROCQ/sierra/rgower/.julia/v0.5/Compat/src/Compat.jl:1513 overwritten in module Compat at /home/ROCQ/sierra/rgower/.julia/v0.5/Compat/src/Compat.jl:1513.\n",
      "WARNING: Method definition ==(Union{Main.Base.Dates.Year, Main.Base.Dates.Month}, Union{Main.Base.Dates.Week, Main.Base.Dates.Hour, Main.Base.Dates.Minute, Main.Base.Dates.Day, Main.Base.Dates.Millisecond, Main.Base.Dates.Second}) in module Compat at /home/ROCQ/sierra/rgower/.julia/v0.5/Compat/src/Compat.jl:1514 overwritten in module Compat at /home/ROCQ/sierra/rgower/.julia/v0.5/Compat/src/Compat.jl:1514.\n",
      "WARNING: Method definition ==(Main.Base.Dates.Period, Main.Base.Dates.Period) in module Compat at /home/ROCQ/sierra/rgower/.julia/v0.5/Compat/src/Compat.jl:1509 overwritten in module Compat at /home/ROCQ/sierra/rgower/.julia/v0.5/Compat/src/Compat.jl:1509.\n",
      "WARNING: Method definition isassigned(Main.Base.RefValue) in module Compat at /home/ROCQ/sierra/rgower/.julia/v0.5/Compat/src/Compat.jl:1465 overwritten in module Compat at /home/ROCQ/sierra/rgower/.julia/v0.5/Compat/src/Compat.jl:1465.\n",
      "WARNING: Method definition unsafe_trunc(Type{#T<:Integer}, Integer) in module Compat at /home/ROCQ/sierra/rgower/.julia/v0.5/Compat/src/Compat.jl:1469 overwritten in module Compat at /home/ROCQ/sierra/rgower/.julia/v0.5/Compat/src/Compat.jl:1469.\n",
      "WARNING: Method definition zeros(AbstractArray) in module Compat at /home/ROCQ/sierra/rgower/.julia/v0.5/Compat/src/Compat.jl:1440 overwritten in module Compat at /home/ROCQ/sierra/rgower/.julia/v0.5/Compat/src/Compat.jl:1440.\n",
      "WARNING: Method definition zeros(AbstractArray, Type) in module Compat at /home/ROCQ/sierra/rgower/.julia/v0.5/Compat/src/Compat.jl:1440 overwritten in module Compat at /home/ROCQ/sierra/rgower/.julia/v0.5/Compat/src/Compat.jl:1440.\n",
      "WARNING: Method definition zeros(AbstractArray, Type, Tuple) in module Compat at /home/ROCQ/sierra/rgower/.julia/v0.5/Compat/src/Compat.jl:1438 overwritten in module Compat at /home/ROCQ/sierra/rgower/.julia/v0.5/Compat/src/Compat.jl:1438.\n",
      "WARNING: Method definition zeros(AbstractArray, Type, Any...) in module Compat at /home/ROCQ/sierra/rgower/.julia/v0.5/Compat/src/Compat.jl:1439 overwritten in module Compat at /home/ROCQ/sierra/rgower/.julia/v0.5/Compat/src/Compat.jl:1439.\n"
     ]
    }
   ],
   "source": [
    "using Plots"
   ]
  },
  {
   "cell_type": "code",
   "execution_count": 51,
   "metadata": {},
   "outputs": [
    {
     "name": "stderr",
     "output_type": "stream",
     "text": [
      "WARNING: Method definition (::Type{Main.MyOptions})(Int64, AbstractString, Float64, Float64, Int64, Int64, Float64, Bool, Bool) in module Main at /home/local/rgower/modernSketches/BigRidge/src/BigRidge.jl:13 overwritten at /home/local/rgower/modernSketches/BigRidge/src/BigRidge.jl:13.\n",
      "WARNING: Method definition (::Type{Main.MyOptions})(Any, Any, Any, Any, Any, Any, Any, Any, Any) in module Main at /home/local/rgower/modernSketches/BigRidge/src/BigRidge.jl:13 overwritten at /home/local/rgower/modernSketches/BigRidge/src/BigRidge.jl:13.\n",
      "WARNING: Method definition (::Type{Main.Prob})(Array{Float64, N<:Any}, Array{Float64, N<:Any}, Array{Float64, N<:Any}, Int64, Float64, AbstractString) in module Main at /home/local/rgower/modernSketches/BigRidge/src/BigRidge.jl:26 overwritten at /home/local/rgower/modernSketches/BigRidge/src/BigRidge.jl:26.\n",
      "WARNING: Method definition (::Type{Main.Prob})(Any, Any, Any, Any, Any, Any) in module Main at /home/local/rgower/modernSketches/BigRidge/src/BigRidge.jl:26 overwritten at /home/local/rgower/modernSketches/BigRidge/src/BigRidge.jl:26.\n",
      "WARNING: Method definition (::Type{Main.Method})(Int64, AbstractString, Function, Function) in module Main at /home/local/rgower/modernSketches/BigRidge/src/BigRidge.jl:35 overwritten at /home/local/rgower/modernSketches/BigRidge/src/BigRidge.jl:35.\n",
      "WARNING: Method definition (::Type{Main.Method})(Any, Any, Any, Any) in module Main at /home/local/rgower/modernSketches/BigRidge/src/BigRidge.jl:35 overwritten at /home/local/rgower/modernSketches/BigRidge/src/BigRidge.jl:35.\n",
      "WARNING: Method definition (::Type{Main.CGMethod})(Int64, AbstractString, Function, Function, Array{Float64, N<:Any}, Array{Float64, N<:Any}, Float64) in module Main at /home/local/rgower/modernSketches/BigRidge/src/BigRidge.jl:42 overwritten at /home/local/rgower/modernSketches/BigRidge/src/BigRidge.jl:42.\n",
      "WARNING: Method definition (::Type{Main.CGMethod})(Any, Any, Any, Any, Any, Any, Any) in module Main at /home/local/rgower/modernSketches/BigRidge/src/BigRidge.jl:42 overwritten at /home/local/rgower/modernSketches/BigRidge/src/BigRidge.jl:42.\n",
      "WARNING: Method definition (::Type{Main.Output})(Int64, Int64, Array{Float64, N<:Any}, Array{Float64, N<:Any}, Array{Float64, N<:Any}, AbstractString, AbstractString) in module Main at /home/local/rgower/modernSketches/BigRidge/src/BigRidge.jl:54 overwritten at /home/local/rgower/modernSketches/BigRidge/src/BigRidge.jl:54.\n",
      "WARNING: Method definition (::Type{Main.Output})(Any, Any, Any, Any, Any, Any, Any) in module Main at /home/local/rgower/modernSketches/BigRidge/src/BigRidge.jl:54 overwritten at /home/local/rgower/modernSketches/BigRidge/src/BigRidge.jl:54.\n",
      "WARNING: Method definition solveRidge(Main.Prob, Any, Main.MyOptions) in module Main at /home/local/rgower/modernSketches/BigRidge/src/solveRidge.jl:5 overwritten at /home/local/rgower/modernSketches/BigRidge/src/solveRidge.jl:5.\n",
      "WARNING: Method definition boot_method(AbstractString, Any, Main.MyOptions) in module Main at /home/local/rgower/modernSketches/BigRidge/src/boot_method.jl:2 overwritten at /home/local/rgower/modernSketches/BigRidge/src/boot_method.jl:2.\n",
      "WARNING: Method definition initDetails() in module Main at /home/local/rgower/modernSketches/BigRidge/src/dataLoad.jl:26 overwritten at /home/local/rgower/modernSketches/BigRidge/src/dataLoad.jl:26.\n",
      "WARNING: Method definition transformDataJLD(Any) in module Main at /home/local/rgower/modernSketches/BigRidge/src/dataLoad.jl:31 overwritten at /home/local/rgower/modernSketches/BigRidge/src/dataLoad.jl:31.\n",
      "WARNING: Method definition loadDataset(Any) in module Main at /home/local/rgower/modernSketches/BigRidge/src/dataLoad.jl:40 overwritten at /home/local/rgower/modernSketches/BigRidge/src/dataLoad.jl:40.\n",
      "WARNING: Method definition showDetails(Any) in module Main at /home/local/rgower/modernSketches/BigRidge/src/dataLoad.jl:45 overwritten at /home/local/rgower/modernSketches/BigRidge/src/dataLoad.jl:45.\n",
      "WARNING: Method definition readLIBSVM(AbstractString, Bool) in module Main at /home/local/rgower/modernSketches/BigRidge/src/dataLoad.jl:51 overwritten at /home/local/rgower/modernSketches/BigRidge/src/dataLoad.jl:51.\n",
      "WARNING: Method definition defineProb(Any) in module Main at /home/local/rgower/modernSketches/BigRidge/src/defineProb.jl:5 overwritten at /home/local/rgower/modernSketches/BigRidge/src/defineProb.jl:5.\n",
      "WARNING: Method definition boot_grad(Main.Prob, Main.MyOptions) in module Main at /home/local/rgower/modernSketches/BigRidge/src/grad.jl:4 overwritten at /home/local/rgower/modernSketches/BigRidge/src/grad.jl:4.\n",
      "WARNING: Method definition step_grad(Main.Prob, Array{Float64, N<:Any}, Main.MyOptions) in module Main at /home/local/rgower/modernSketches/BigRidge/src/grad.jl:15 overwritten at /home/local/rgower/modernSketches/BigRidge/src/grad.jl:15.\n",
      "WARNING: Method definition boot_CD(Main.Prob, Main.MyOptions) in module Main at /home/local/rgower/modernSketches/BigRidge/src/CD.jl:4 overwritten at /home/local/rgower/modernSketches/BigRidge/src/CD.jl:4.\n",
      "WARNING: Method definition step_CD(Main.Prob, Array{Float64, N<:Any}, Main.MyOptions) in module Main at /home/local/rgower/modernSketches/BigRidge/src/CD.jl:12 overwritten at /home/local/rgower/modernSketches/BigRidge/src/CD.jl:12.\n",
      "WARNING: Method definition boot_CG(Main.Prob, Main.MyOptions) in module Main at /home/local/rgower/modernSketches/BigRidge/src/CG.jl:5 overwritten at /home/local/rgower/modernSketches/BigRidge/src/CG.jl:5.\n",
      "WARNING: Method definition step_CG(Main.Prob, Array{Float64, N<:Any}, Main.MyOptions, Main.CGMethod) in module Main at /home/local/rgower/modernSketches/BigRidge/src/CG.jl:17 overwritten at /home/local/rgower/modernSketches/BigRidge/src/CG.jl:17.\n",
      "WARNING: Method definition hada(Any, Any) in module Main at /home/local/rgower/modernSketches/BigRidge/src/hada.jl:5 overwritten at /home/local/rgower/modernSketches/BigRidge/src/hada.jl:5.\n",
      "WARNING: Method definition boot_Hadamard(Main.Prob, Main.MyOptions) in module Main at /home/local/rgower/modernSketches/BigRidge/src/Hadamard.jl:5 overwritten at /home/local/rgower/modernSketches/BigRidge/src/Hadamard.jl:5.\n",
      "WARNING: Method definition step_Hadamard(Main.Prob, Array{Float64, N<:Any}, Main.MyOptions) in module Main at /home/local/rgower/modernSketches/BigRidge/src/Hadamard.jl:15 overwritten at /home/local/rgower/modernSketches/BigRidge/src/Hadamard.jl:15.\n",
      "WARNING: Method definition boot_countmin(Main.Prob, Main.MyOptions) in module Main at /home/local/rgower/modernSketches/BigRidge/src/countmin.jl:4 overwritten at /home/local/rgower/modernSketches/BigRidge/src/countmin.jl:4.\n",
      "WARNING: Method definition step_countmin(Main.Prob, Array{Float64, N<:Any}, Array{Float64, N<:Any}, Main.MyOptions) in module Main at /home/local/rgower/modernSketches/BigRidge/src/countmin.jl:12 overwritten at /home/local/rgower/modernSketches/BigRidge/src/countmin.jl:12.\n",
      "WARNING: Method definition plot_outputs_Plots(Any, Any) in module Main at /home/local/rgower/modernSketches/BigRidge/src/plot_outputs_Plots.jl:3 overwritten at /home/local/rgower/modernSketches/BigRidge/src/plot_outputs_Plots.jl:3.\n"
     ]
    },
    {
     "data": {
      "text/plain": [
       "plot_outputs_Plots (generic function with 1 method)"
      ]
     },
     "execution_count": 51,
     "metadata": {},
     "output_type": "execute_result"
    }
   ],
   "source": [
    "using StatsBase\n",
    "using JLD  \n",
    "include(\"../src/BigRidge.jl\")"
   ]
  },
  {
   "cell_type": "code",
   "execution_count": 52,
   "metadata": {
    "collapsed": true
   },
   "outputs": [],
   "source": [
    "#Basic parameters\n",
    "## Basic parameters\n",
    "maxiter=10^8;\n",
    "max_time = 10;\n",
    "max_epocs = 100;\n",
    "printiters = true;\n",
    "exacterror =true; \n",
    "tol = 10.0^(-5.0);\n",
    "restol = 10.0^(-5.0);\n",
    "skip_error_calculation = 25;   # number of iterations where error is not calculated (to save time!) ceil((m)^(1/2))"
   ]
  },
  {
   "cell_type": "code",
   "execution_count": 53,
   "metadata": {},
   "outputs": [
    {
     "name": "stdout",
     "output_type": "stream",
     "text": [
      "../data/w8a.jld\n"
     ]
    }
   ],
   "source": [
    "dataset = \"w8a\"\n",
    "prob = defineProb(dataset);"
   ]
  },
  {
   "cell_type": "code",
   "execution_count": 54,
   "metadata": {
    "collapsed": true
   },
   "outputs": [],
   "source": [
    "options = MyOptions(0,\"uni\",tol,restol,maxiter,skip_error_calculation,max_time,printiters,exacterror) \n",
    "OUTPUTS = [];"
   ]
  },
  {
   "cell_type": "code",
   "execution_count": 66,
   "metadata": {},
   "outputs": [
    {
     "data": {
      "text/plain": [
       "1.0081635971830879e-14"
      ]
     },
     "execution_count": 66,
     "metadata": {},
     "output_type": "execute_result"
    }
   ],
   "source": [
    "# Pkg.add(\"Hadamard\")\n",
    "# using Hadamard \n",
    "\n",
    "m = 64;\n",
    "idx = sample(1:m,10,replace=true);\n",
    "A = rand(m,m)\n",
    "mat = hada(A,idx);\n",
    "\n",
    "\n",
    "H = hadamard(m);\n",
    "HA =H*A;\n",
    "error = norm(HA[idx,:] -mat)"
   ]
  },
  {
   "cell_type": "code",
   "execution_count": 59,
   "metadata": {},
   "outputs": [
    {
     "name": "stdout",
     "output_type": "stream",
     "text": [
      "Hadamard\n",
      "-------------------\n",
      "It   | Error% | Residual |  Time   \n",
      "-------------------\n",
      " 15  | 2128915606517.06  |  63575495100.66  | 10.3650 \n"
     ]
    }
   ],
   "source": [
    "# Testing Hadamard Sketch\n",
    "method_name = \"Hadamard\";# ROS\n",
    "options.sketchsize =prob.n; # Int(floor(log2(prob.n)));\n",
    "\n",
    "output= solveRidge(prob, method_name, options);\n",
    "OUTPUTS = [OUTPUTS ; output];"
   ]
  },
  {
   "cell_type": "code",
   "execution_count": 29,
   "metadata": {},
   "outputs": [
    {
     "name": "stdout",
     "output_type": "stream",
     "text": [
      "CG\n",
      "-------------------\n",
      "It   | Error% | Residual |  Time   \n",
      "-------------------\n",
      "  5  | 95.41  |  1.61  | 0.3709 \n",
      " 10  | 83.15  |  0.74  | 0.3733 \n",
      " 15  | 71.34  |  0.56  | 0.3734 \n",
      " 20  | 57.75  |  0.40  | 0.3736 \n",
      " 25  | 52.65  |  0.24  | 0.3738 \n",
      " 30  | 47.07  |  0.20  | 0.3740 \n",
      " 35  | 43.81  |  0.13  | 0.3742 \n",
      " 40  | 41.34  |  0.09  | 0.3743 \n",
      " 45  | 39.50  |  0.08  | 0.3745 \n",
      " 50  | 36.20  |  0.06  | 0.3747 \n",
      " 55  | 34.79  |  0.05  | 0.3749 \n",
      " 60  | 33.18  |  0.04  | 0.3751 \n",
      " 65  | 31.92  |  0.03  | 0.3753 \n",
      " 70  | 30.06  |  0.03  | 0.3755 \n",
      " 75  | 27.95  |  0.03  | 0.3757 \n",
      " 80  | 25.21  |  0.03  | 0.3759 \n",
      " 85  | 22.48  |  0.04  | 0.3760 \n",
      " 90  | 19.45  |  0.03  | 0.3762 \n",
      " 95  | 17.52  |  0.03  | 0.3763 \n",
      "100  | 16.05  |  0.02  | 0.3765 \n",
      "105  | 15.52  |  0.02  | 0.3767 \n",
      "110  | 14.85  |  0.01  | 0.3769 \n",
      "115  | 14.03  |  0.02  | 0.3770 \n",
      "120  | 13.10  |  0.04  | 0.3772 \n",
      "125  | 12.45  |  0.01  | 0.3774 \n",
      "130  | 11.38  |  0.03  | 0.3838 \n",
      "135  | 10.64  |  0.01  | 0.3865 \n",
      "140  | 9.55  |  0.01  | 0.3886 \n",
      "145  | 8.70  |  0.01  | 0.3912 \n",
      "150  | 8.21  |  0.01  | 0.3918 \n",
      "155  | 7.67  |  0.01  | 0.3920 \n",
      "160  | 7.10  |  0.01  | 0.3922 \n",
      "165  | 6.57  |  0.01  | 0.3924 \n",
      "170  | 6.01  |  0.01  | 0.3925 \n",
      "175  | 5.38  |  0.01  | 0.3930 \n",
      "180  | 4.75  |  0.01  | 0.3932 \n",
      "185  | 4.00  |  0.00  | 0.3933 \n",
      "190  | 3.26  |  0.01  | 0.3936 \n",
      "195  | 2.54  |  0.00  | 0.3937 \n",
      "200  | 2.17  |  0.00  | 0.3939 \n",
      "205  | 1.93  |  0.00  | 0.3941 \n",
      "210  | 1.75  |  0.00  | 0.3943 \n",
      "215  | 1.56  |  0.00  | 0.3944 \n",
      "220  | 1.48  |  0.00  | 0.3946 \n",
      "225  | 1.34  |  0.00  | 0.3948 \n",
      "230  | 1.15  |  0.00  | 0.3950 \n",
      "235  | 1.04  |  0.00  | 0.3960 \n",
      "240  | 0.98  |  0.00  | 0.3961 \n",
      "245  | 0.91  |  0.00  | 0.3963 \n",
      "250  | 0.84  |  0.00  | 0.3965 \n",
      "255  | 0.72  |  0.00  | 0.3966 \n",
      "260  | 0.67  |  0.00  | 0.3968 \n",
      "265  | 0.62  |  0.00  | 0.3973 \n",
      "270  | 0.57  |  0.00  | 0.3975 \n",
      "275  | 0.46  |  0.00  | 0.3977 \n",
      "280  | 0.40  |  0.00  | 0.3979 \n",
      "285  | 0.35  |  0.00  | 0.3999 \n",
      "290  | 0.27  |  0.00  | 0.4000 \n",
      "295  | 0.21  |  0.00  | 0.4002 \n",
      "300  | 0.18  |  0.00  | 0.4004 \n",
      "305  | 0.17  |  0.00  | 0.4005 \n",
      "310  | 0.14  |  0.00  | 0.4007 \n",
      "315  | 0.12  |  0.00  | 0.4009 \n",
      "320  | 0.11  |  0.00  | 0.4011 \n",
      "325  | 0.10  |  0.00  | 0.4013 \n",
      "330  | 0.09  |  0.00  | 0.4015 \n",
      "335  | 0.08  |  0.00  | 0.4017 \n",
      "340  | 0.08  |  0.00  | 0.4018 \n",
      "345  | 0.07  |  0.00  | 0.4020 \n",
      "350  | 0.07  |  0.00  | 0.4021 \n",
      "355  | 0.06  |  0.00  | 0.4023 \n",
      "360  | 0.06  |  0.00  | 0.4025 \n",
      "365  | 0.06  |  0.00  | 0.4026 \n",
      "370  | 0.05  |  0.00  | 0.4028 \n",
      "375  | 0.05  |  0.00  | 0.4030 \n",
      "380  | 0.04  |  0.00  | 0.4031 \n",
      "385  | 0.04  |  0.00  | 0.4033 \n",
      "390  | 0.04  |  0.00  | 0.4035 \n",
      "395  | 0.04  |  0.00  | 0.4036 \n",
      "400  | 0.03  |  0.00  | 0.4038 \n",
      "405  | 0.03  |  0.00  | 0.4039 \n",
      "410  | 0.03  |  0.00  | 0.4041 \n",
      "415  | 0.02  |  0.00  | 0.4042 \n",
      "420  | 0.02  |  0.00  | 0.4044 \n",
      "425  | 0.02  |  0.00  | 0.4046 \n",
      "430  | 0.02  |  0.00  | 0.4048 \n",
      "435  | 0.01  |  0.00  | 0.4105 \n",
      "440  | 0.01  |  0.00  | 0.4108 \n",
      "445  | 0.01  |  0.00  | 0.4109 \n",
      "450  | 0.01  |  0.00  | 0.4111 \n",
      "455  | 0.00  |  0.00  | 0.4113 \n",
      "460  | 0.00  |  0.00  | 0.4114 \n",
      "465  | 0.00  |  0.00  | 0.4116 \n",
      "470  | 0.00  |  0.00  | 0.4118 \n",
      "475  | 0.00  |  0.00  | 0.4119 \n",
      "480  | 0.00  |  0.00  | 0.4121 \n",
      "485  | 0.00  |  0.00  | 0.4122 \n",
      "490  | 0.00  |  0.00  | 0.4124 \n",
      "495  | 0.00  |  0.00  | 0.4125 \n",
      "500  | 0.00  |  0.00  | 0.4127 \n",
      "505  | 0.00  |  0.00  | 0.4128 \n",
      "510  | 0.00  |  0.00  | 0.4130 \n",
      "515  | 0.00  |  0.00  | 0.4132 \n"
     ]
    }
   ],
   "source": [
    "# Testing CG \n",
    "options.max_time = 2; options.restol = 10.0^(-8); \n",
    "method_name = \"CG\";# gradient descent\n",
    "output= solveRidge(prob, method_name, options);\n",
    "OUTPUTS = [OUTPUTS ; output];"
   ]
  },
  {
   "cell_type": "code",
   "execution_count": 30,
   "metadata": {},
   "outputs": [
    {
     "name": "stdout",
     "output_type": "stream",
     "text": [
      "grad\n",
      "-------------------\n",
      "It   | Error% | Residual |  Time   \n",
      "-------------------\n",
      "  5  | 98.18  |  3.14  | 0.0325 \n",
      " 10  | 97.08  |  4.72  | 0.0374 \n",
      " 15  | 96.39  |  1.33  | 0.0381 \n",
      " 20  | 95.56  |  2.82  | 0.0388 \n",
      " 25  | 94.99  |  0.92  | 0.0398 \n",
      " 30  | 94.27  |  2.16  | 0.0404 \n",
      " 35  | 93.76  |  0.75  | 0.0500 \n",
      " 40  | 93.10  |  1.82  | 0.0643 \n",
      " 45  | 92.63  |  0.64  | 0.0673 \n",
      " 50  | 92.02  |  1.60  | 0.0679 \n",
      " 55  | 91.58  |  0.57  | 0.0685 \n",
      " 60  | 91.01  |  1.45  | 0.0690 \n",
      " 65  | 90.59  |  0.52  | 0.0696 \n",
      " 70  | 90.05  |  1.33  | 0.0701 \n",
      " 75  | 89.66  |  0.48  | 0.0707 \n",
      " 80  | 89.14  |  1.23  | 0.0713 \n",
      " 85  | 88.77  |  0.45  | 0.0718 \n",
      " 90  | 88.28  |  1.15  | 0.0724 \n",
      " 95  | 87.92  |  0.42  | 0.0731 \n",
      "100  | 87.45  |  1.08  | 0.0750 \n",
      "105  | 87.11  |  0.40  | 0.0755 \n",
      "110  | 86.65  |  1.03  | 0.0760 \n",
      "115  | 86.32  |  0.38  | 0.0765 \n",
      "120  | 85.88  |  0.98  | 0.0770 \n",
      "125  | 85.57  |  0.36  | 0.0776 \n",
      "130  | 85.14  |  0.93  | 0.0781 \n",
      "135  | 84.83  |  0.34  | 0.0785 \n",
      "140  | 84.42  |  0.89  | 0.0790 \n",
      "145  | 84.12  |  0.33  | 0.0827 \n",
      "150  | 83.73  |  0.86  | 0.0836 \n",
      "155  | 83.44  |  0.32  | 0.0861 \n",
      "160  | 83.05  |  0.82  | 0.0866 \n",
      "165  | 82.77  |  0.31  | 0.0871 \n",
      "170  | 82.39  |  0.80  | 0.0882 \n",
      "175  | 82.12  |  0.29  | 0.0886 \n",
      "180  | 81.75  |  0.77  | 0.0891 \n",
      "185  | 81.49  |  0.29  | 0.0896 \n",
      "190  | 81.13  |  0.74  | 0.0901 \n",
      "195  | 80.87  |  0.28  | 0.0905 \n",
      "200  | 80.52  |  0.72  | 0.0910 \n",
      "205  | 80.27  |  0.27  | 0.0915 \n",
      "210  | 79.93  |  0.70  | 0.0920 \n",
      "215  | 79.68  |  0.26  | 0.0926 \n",
      "220  | 79.35  |  0.68  | 0.0930 \n",
      "225  | 79.11  |  0.25  | 0.0935 \n",
      "230  | 78.79  |  0.66  | 0.0940 \n",
      "235  | 78.55  |  0.25  | 0.0944 \n",
      "240  | 78.24  |  0.65  | 0.0948 \n",
      "245  | 78.00  |  0.24  | 0.0953 \n",
      "250  | 77.69  |  0.63  | 0.0958 \n",
      "255  | 77.47  |  0.23  | 0.0962 \n",
      "260  | 77.17  |  0.62  | 0.0967 \n",
      "265  | 76.94  |  0.23  | 0.0972 \n",
      "270  | 76.65  |  0.60  | 0.0999 \n",
      "275  | 76.43  |  0.22  | 0.1004 \n",
      "280  | 76.14  |  0.59  | 0.1008 \n",
      "285  | 75.93  |  0.22  | 0.1013 \n",
      "290  | 75.64  |  0.58  | 0.1017 \n",
      "295  | 75.44  |  0.21  | 0.1024 \n",
      "300  | 75.16  |  0.56  | 0.1029 \n",
      "305  | 74.95  |  0.21  | 0.1033 \n",
      "310  | 74.68  |  0.55  | 0.1041 \n",
      "315  | 74.48  |  0.21  | 0.1046 \n",
      "320  | 74.21  |  0.54  | 0.1050 \n",
      "325  | 74.01  |  0.20  | 0.1055 \n",
      "330  | 73.75  |  0.53  | 0.1060 \n",
      "335  | 73.56  |  0.20  | 0.1064 \n",
      "340  | 73.30  |  0.52  | 0.1069 \n",
      "345  | 73.11  |  0.19  | 0.1073 \n",
      "350  | 72.86  |  0.51  | 0.1079 \n",
      "355  | 72.67  |  0.19  | 0.1083 \n",
      "360  | 72.42  |  0.50  | 0.1088 \n",
      "365  | 72.24  |  0.19  | 0.1092 \n",
      "370  | 71.99  |  0.49  | 0.1097 \n",
      "375  | 71.81  |  0.18  | 0.1101 \n",
      "380  | 71.57  |  0.48  | 0.1106 \n",
      "385  | 71.40  |  0.18  | 0.1110 \n",
      "390  | 71.16  |  0.48  | 0.1114 \n",
      "395  | 70.99  |  0.18  | 0.1119 \n",
      "400  | 70.76  |  0.47  | 0.1123 \n",
      "405  | 70.59  |  0.17  | 0.1128 \n",
      "410  | 70.36  |  0.46  | 0.1132 \n",
      "415  | 70.19  |  0.17  | 0.1136 \n",
      "420  | 69.97  |  0.45  | 0.1141 \n",
      "425  | 69.80  |  0.17  | 0.1145 \n",
      "430  | 69.58  |  0.44  | 0.1150 \n",
      "435  | 69.42  |  0.17  | 0.1154 \n",
      "440  | 69.20  |  0.44  | 0.1158 \n",
      "445  | 69.04  |  0.16  | 0.1162 \n",
      "450  | 68.83  |  0.43  | 0.1166 \n",
      "455  | 68.67  |  0.16  | 0.1171 \n",
      "460  | 68.46  |  0.42  | 0.1175 \n",
      "465  | 68.31  |  0.16  | 0.1179 \n",
      "470  | 68.10  |  0.42  | 0.1183 \n",
      "475  | 67.95  |  0.16  | 0.1188 \n",
      "480  | 67.75  |  0.41  | 0.1192 \n",
      "485  | 67.60  |  0.15  | 0.1196 \n",
      "490  | 67.40  |  0.41  | 0.1201 \n",
      "495  | 67.25  |  0.15  | 0.1205 \n",
      "500  | 67.05  |  0.40  | 0.1209 \n",
      "505  | 66.91  |  0.15  | 0.1214 \n",
      "510  | 66.72  |  0.39  | 0.1218 \n",
      "515  | 66.57  |  0.15  | 0.1223 \n",
      "520  | 66.38  |  0.39  | 0.1227 \n",
      "525  | 66.24  |  0.15  | 0.1231 \n",
      "530  | 66.05  |  0.38  | 0.1235 \n",
      "535  | 65.92  |  0.14  | 0.1239 \n",
      "540  | 65.73  |  0.38  | 0.1244 \n",
      "545  | 65.59  |  0.14  | 0.1248 \n",
      "550  | 65.41  |  0.37  | 0.1252 \n",
      "555  | 65.28  |  0.14  | 0.1256 \n",
      "560  | 65.10  |  0.37  | 0.1261 \n",
      "565  | 64.97  |  0.14  | 0.1266 \n",
      "570  | 64.79  |  0.36  | 0.1270 \n",
      "575  | 64.66  |  0.14  | 0.1864 \n",
      "580  | 64.49  |  0.36  | 0.1927 \n",
      "585  | 64.36  |  0.13  | 0.1933 \n",
      "590  | 64.19  |  0.35  | 0.1936 \n",
      "595  | 64.06  |  0.13  | 0.1943 \n",
      "600  | 63.89  |  0.35  | 0.1965 \n",
      "605  | 63.77  |  0.13  | 0.1969 \n",
      "610  | 63.60  |  0.34  | 0.1974 \n",
      "615  | 63.48  |  0.13  | 0.1979 \n",
      "620  | 63.31  |  0.34  | 0.1983 \n",
      "625  | 63.19  |  0.13  | 0.1987 \n",
      "630  | 63.03  |  0.33  | 0.1992 \n",
      "635  | 62.91  |  0.13  | 0.1997 \n",
      "640  | 62.75  |  0.33  | 0.2001 \n",
      "645  | 62.63  |  0.12  | 0.2006 \n",
      "650  | 62.48  |  0.33  | 0.2010 \n",
      "655  | 62.36  |  0.12  | 0.2023 \n",
      "660  | 62.20  |  0.32  | 0.2027 \n",
      "665  | 62.09  |  0.12  | 0.2082 \n",
      "670  | 61.94  |  0.32  | 0.2087 \n",
      "675  | 61.82  |  0.12  | 0.2092 \n",
      "680  | 61.67  |  0.31  | 0.2104 \n",
      "685  | 61.56  |  0.12  | 0.2108 \n",
      "690  | 61.41  |  0.31  | 0.2113 \n",
      "695  | 61.30  |  0.12  | 0.2117 \n",
      "700  | 61.16  |  0.31  | 0.2121 \n",
      "705  | 61.05  |  0.11  | 0.2126 \n",
      "710  | 60.90  |  0.30  | 0.2130 \n",
      "715  | 60.80  |  0.11  | 0.2135 \n",
      "720  | 60.66  |  0.30  | 0.2139 \n",
      "725  | 60.55  |  0.11  | 0.2434 \n",
      "730  | 60.41  |  0.29  | 0.2440 \n",
      "735  | 60.31  |  0.11  | 0.2444 \n",
      "740  | 60.17  |  0.29  | 0.2449 \n",
      "745  | 60.06  |  0.11  | 0.2461 \n",
      "750  | 59.93  |  0.29  | 0.2467 \n",
      "755  | 59.83  |  0.11  | 0.2488 \n",
      "760  | 59.69  |  0.28  | 0.2494 \n",
      "765  | 59.59  |  0.11  | 0.2499 \n",
      "770  | 59.46  |  0.28  | 0.2503 \n",
      "775  | 59.36  |  0.11  | 0.2507 \n",
      "780  | 59.23  |  0.28  | 0.2511 \n",
      "785  | 59.13  |  0.10  | 0.2515 \n",
      "790  | 59.00  |  0.27  | 0.2519 \n",
      "795  | 58.90  |  0.10  | 0.2523 \n",
      "800  | 58.78  |  0.27  | 0.2527 \n",
      "805  | 58.68  |  0.10  | 0.2543 \n",
      "810  | 58.55  |  0.27  | 0.2548 \n",
      "815  | 58.46  |  0.10  | 0.2634 \n",
      "820  | 58.34  |  0.27  | 0.2638 \n",
      "825  | 58.24  |  0.10  | 0.2642 \n",
      "830  | 58.12  |  0.26  | 0.2646 \n",
      "835  | 58.03  |  0.10  | 0.2650 \n",
      "840  | 57.91  |  0.26  | 0.2654 \n",
      "845  | 57.82  |  0.10  | 0.2658 \n",
      "850  | 57.70  |  0.26  | 0.2662 \n",
      "855  | 57.61  |  0.10  | 0.2667 \n",
      "860  | 57.49  |  0.25  | 0.2671 \n",
      "865  | 57.40  |  0.10  | 0.2675 \n",
      "870  | 57.28  |  0.25  | 0.2679 \n",
      "875  | 57.20  |  0.09  | 0.2683 \n",
      "880  | 57.08  |  0.25  | 0.2687 \n",
      "885  | 57.00  |  0.09  | 0.2691 \n",
      "890  | 56.88  |  0.25  | 0.2697 \n",
      "895  | 56.80  |  0.09  | 0.2700 \n",
      "900  | 56.68  |  0.24  | 0.2704 \n",
      "905  | 56.60  |  0.09  | 0.2708 \n",
      "910  | 56.49  |  0.24  | 0.2712 \n",
      "915  | 56.41  |  0.09  | 0.2717 \n",
      "920  | 56.30  |  0.24  | 0.2721 \n",
      "925  | 56.22  |  0.09  | 0.2725 \n",
      "930  | 56.11  |  0.23  | 0.2729 \n",
      "935  | 56.03  |  0.09  | 0.2733 \n",
      "940  | 55.92  |  0.23  | 0.2738 \n",
      "945  | 55.84  |  0.09  | 0.2742 \n",
      "950  | 55.73  |  0.23  | 0.2746 \n",
      "955  | 55.65  |  0.09  | 0.2750 \n",
      "960  | 55.55  |  0.23  | 0.2754 \n",
      "965  | 55.47  |  0.09  | 0.2758 \n",
      "970  | 55.37  |  0.23  | 0.2762 \n",
      "975  | 55.29  |  0.08  | 0.2766 \n",
      "980  | 55.19  |  0.22  | 0.2770 \n",
      "985  | 55.11  |  0.08  | 0.2774 \n",
      "990  | 55.01  |  0.22  | 0.2778 \n",
      "995  | 54.94  |  0.08  | 0.2782 \n",
      "1000  | 54.84  |  0.22  | 0.2786 \n"
     ]
    }
   ],
   "source": [
    "# Testing grad descent\n",
    "options.max_time = 2; options.restol = 10.0^(-8); options.maxiter=1000;\n",
    "method_name = \"grad\";# gradient descent\n",
    "output= solveRidge(prob, method_name, options);\n",
    "OUTPUTS = [OUTPUTS ; output];"
   ]
  },
  {
   "cell_type": "code",
   "execution_count": 20,
   "metadata": {},
   "outputs": [
    {
     "name": "stdout",
     "output_type": "stream",
     "text": [
      "CD\n",
      "-------------------\n",
      "It   | Error% | Residual |  Time   \n",
      "-------------------\n",
      " 25  | 69.21  |  7.94  | 0.0159 \n",
      " 50  | 52.38  |  6.15  | 0.0236 \n",
      " 75  | 47.85  |  3.94  | 0.0339 \n",
      "100  | 41.82  |  1.92  | 0.0490 \n",
      "125  | 38.61  |  1.65  | 0.0659 \n",
      "150  | 34.40  |  0.49  | 0.0720 \n",
      "175  | 33.51  |  0.18  | 0.0780 \n",
      "200  | 31.27  |  0.09  | 0.0841 \n",
      "225  | 29.26  |  0.06  | 0.0899 \n",
      "250  | 28.68  |  0.04  | 0.0957 \n",
      "275  | 25.56  |  0.03  | 0.1015 \n",
      "300  | 24.46  |  0.03  | 0.1095 \n",
      "325  | 23.15  |  0.02  | 0.3093 \n",
      "350  | 22.16  |  0.02  | 0.3373 \n",
      "375  | 22.01  |  0.02  | 0.3513 \n",
      "400  | 20.96  |  0.01  | 0.3573 \n",
      "425  | 20.51  |  0.01  | 0.3597 \n",
      "450  | 19.56  |  0.01  | 0.3621 \n",
      "475  | 19.40  |  0.00  | 0.3644 \n",
      "500  | 19.22  |  0.00  | 0.3710 \n",
      "525  | 19.17  |  0.00  | 0.3733 \n",
      "550  | 18.12  |  0.00  | 0.3758 \n",
      "575  | 8.77  |  0.01  | 0.3782 \n",
      "600  | 8.77  |  0.00  | 0.3814 \n"
     ]
    }
   ],
   "source": [
    "# Testing CD \n",
    "options.max_time = 2; options.restol = 10.0^(-8); options.maxiter=600;\n",
    "method_name = \"CD\";# gradient descent\n",
    "options.sketchsize = floor((prob.n)^(1/2));\n",
    "output= solveRidge(prob, method_name, options);\n",
    "OUTPUTS = [OUTPUTS ; output];"
   ]
  },
  {
   "cell_type": "code",
   "execution_count": 21,
   "metadata": {
    "collapsed": true
   },
   "outputs": [],
   "source": [
    "savename = replace(prob.name, r\"[\\/]\", \"-\");\n",
    "save(\"../data/$(savename)-OUTPUTS.jld\", \"OUTPUTS\", OUTPUTS)"
   ]
  },
  {
   "cell_type": "code",
   "execution_count": 26,
   "metadata": {},
   "outputs": [
    {
     "name": "stdout",
     "output_type": "stream",
     "text": [
      "w8a\n"
     ]
    }
   ],
   "source": [
    "#using GR\n",
    "using Plots\n",
    "pgfplots()\n",
    "plot_outputs_Plots(OUTPUTS,savename)"
   ]
  },
  {
   "cell_type": "code",
   "execution_count": 13,
   "metadata": {},
   "outputs": [],
   "source": [
    "# Loading saved problem data\n",
    "probname = \"w8a\"#\"gisette_scale-ridge\";  \n",
    "test = load(\"../data/$(probname)-OUTPUTS.jld\")\n",
    "OUTPUTS = test[\"OUTPUTS\"];\n",
    "# mask = [1,3,5]\n",
    "# OUTPUTS[mask]"
   ]
  },
  {
   "cell_type": "code",
   "execution_count": null,
   "metadata": {
    "collapsed": true
   },
   "outputs": [],
   "source": []
  }
 ],
 "metadata": {
  "anaconda-cloud": {},
  "kernelspec": {
   "display_name": "Julia 0.5.2",
   "language": "julia",
   "name": "julia-0.5"
  },
  "language_info": {
   "file_extension": ".jl",
   "mimetype": "application/julia",
   "name": "julia",
   "version": "0.5.2"
  }
 },
 "nbformat": 4,
 "nbformat_minor": 1
}
