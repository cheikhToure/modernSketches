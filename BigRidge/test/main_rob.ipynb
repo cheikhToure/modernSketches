{
 "cells": [
  {
   "cell_type": "markdown",
   "metadata": {},
   "source": [
    "The main solving big ridge regression problems"
   ]
  },
  {
   "cell_type": "code",
   "execution_count": 1,
   "metadata": {
    "collapsed": true
   },
   "outputs": [],
   "source": [
    "workspace()"
   ]
  },
  {
   "cell_type": "code",
   "execution_count": 10,
   "metadata": {
    "collapsed": false
   },
   "outputs": [],
   "source": [
    "using Plots"
   ]
  },
  {
   "cell_type": "code",
   "execution_count": 142,
   "metadata": {
    "collapsed": false
   },
   "outputs": [
    {
     "name": "stderr",
     "output_type": "stream",
     "text": [
      "WARNING: Method definition (::Type{Main.MyOptions})(Int64, AbstractString, Float64, Float64, Int64, Int64, Float64, Bool, Bool) in module Main at /home/robert/git/Modernsketches_Toure_cheikh/BigRidge/src/BigRidge.jl:13 overwritten at /home/robert/git/Modernsketches_Toure_cheikh/BigRidge/src/BigRidge.jl:13.\n",
      "WARNING: Method definition (::Type{Main.MyOptions})(Any, Any, Any, Any, Any, Any, Any, Any, Any) in module Main at /home/robert/git/Modernsketches_Toure_cheikh/BigRidge/src/BigRidge.jl:13 overwritten at /home/robert/git/Modernsketches_Toure_cheikh/BigRidge/src/BigRidge.jl:13.\n",
      "WARNING: Method definition (::Type{Main.Prob})(Array{Float64, N<:Any}, Array{Float64, N<:Any}, Array{Float64, N<:Any}, Int64, Float64, AbstractString) in module Main at /home/robert/git/Modernsketches_Toure_cheikh/BigRidge/src/BigRidge.jl:26 overwritten at /home/robert/git/Modernsketches_Toure_cheikh/BigRidge/src/BigRidge.jl:26.\n",
      "WARNING: Method definition (::Type{Main.Prob})(Any, Any, Any, Any, Any, Any) in module Main at /home/robert/git/Modernsketches_Toure_cheikh/BigRidge/src/BigRidge.jl:26 overwritten at /home/robert/git/Modernsketches_Toure_cheikh/BigRidge/src/BigRidge.jl:26.\n",
      "WARNING: Method definition (::Type{Main.Method})(Int64, AbstractString, Function, Function) in module Main at /home/robert/git/Modernsketches_Toure_cheikh/BigRidge/src/BigRidge.jl:35 overwritten at /home/robert/git/Modernsketches_Toure_cheikh/BigRidge/src/BigRidge.jl:35.\n",
      "WARNING: Method definition (::Type{Main.Method})(Any, Any, Any, Any) in module Main at /home/robert/git/Modernsketches_Toure_cheikh/BigRidge/src/BigRidge.jl:35 overwritten at /home/robert/git/Modernsketches_Toure_cheikh/BigRidge/src/BigRidge.jl:35.\n",
      "WARNING: Method definition (::Type{Main.CGMethod})(Int64, AbstractString, Function, Function, Array{Float64, N<:Any}, Array{Float64, N<:Any}, Float64) in module Main at /home/robert/git/Modernsketches_Toure_cheikh/BigRidge/src/BigRidge.jl:42 overwritten at /home/robert/git/Modernsketches_Toure_cheikh/BigRidge/src/BigRidge.jl:42.\n",
      "WARNING: Method definition (::Type{Main.CGMethod})(Any, Any, Any, Any, Any, Any, Any) in module Main at /home/robert/git/Modernsketches_Toure_cheikh/BigRidge/src/BigRidge.jl:42 overwritten at /home/robert/git/Modernsketches_Toure_cheikh/BigRidge/src/BigRidge.jl:42.\n",
      "WARNING: Method definition (::Type{Main.Output})(Int64, Int64, Array{Float64, N<:Any}, Array{Float64, N<:Any}, Array{Float64, N<:Any}, AbstractString, AbstractString) in module Main at /home/robert/git/Modernsketches_Toure_cheikh/BigRidge/src/BigRidge.jl:54 overwritten at /home/robert/git/Modernsketches_Toure_cheikh/BigRidge/src/BigRidge.jl:54.\n",
      "WARNING: Method definition (::Type{Main.Output})(Any, Any, Any, Any, Any, Any, Any) in module Main at /home/robert/git/Modernsketches_Toure_cheikh/BigRidge/src/BigRidge.jl:54 overwritten at /home/robert/git/Modernsketches_Toure_cheikh/BigRidge/src/BigRidge.jl:54.\n",
      "WARNING: Method definition solveRidge(Main.Prob, Any, Main.MyOptions) in module Main at /home/robert/git/Modernsketches_Toure_cheikh/BigRidge/src/solveRidge.jl:5 overwritten at /home/robert/git/Modernsketches_Toure_cheikh/BigRidge/src/solveRidge.jl:5.\n",
      "WARNING: Method definition boot_method(AbstractString, Any, Main.MyOptions) in module Main at /home/robert/git/Modernsketches_Toure_cheikh/BigRidge/src/boot_method.jl:2 overwritten at /home/robert/git/Modernsketches_Toure_cheikh/BigRidge/src/boot_method.jl:2.\n",
      "WARNING: Method definition initDetails() in module Main at /home/robert/git/Modernsketches_Toure_cheikh/BigRidge/src/dataLoad.jl:26 overwritten at /home/robert/git/Modernsketches_Toure_cheikh/BigRidge/src/dataLoad.jl:26.\n",
      "WARNING: Method definition transformDataJLD(Any) in module Main at /home/robert/git/Modernsketches_Toure_cheikh/BigRidge/src/dataLoad.jl:31 overwritten at /home/robert/git/Modernsketches_Toure_cheikh/BigRidge/src/dataLoad.jl:31.\n",
      "WARNING: Method definition loadDataset(Any) in module Main at /home/robert/git/Modernsketches_Toure_cheikh/BigRidge/src/dataLoad.jl:40 overwritten at /home/robert/git/Modernsketches_Toure_cheikh/BigRidge/src/dataLoad.jl:40.\n",
      "WARNING: Method definition showDetails(Any) in module Main at /home/robert/git/Modernsketches_Toure_cheikh/BigRidge/src/dataLoad.jl:45 overwritten at /home/robert/git/Modernsketches_Toure_cheikh/BigRidge/src/dataLoad.jl:45.\n",
      "WARNING: Method definition readLIBSVM(AbstractString, Bool) in module Main at /home/robert/git/Modernsketches_Toure_cheikh/BigRidge/src/dataLoad.jl:51 overwritten at /home/robert/git/Modernsketches_Toure_cheikh/BigRidge/src/dataLoad.jl:51.\n",
      "WARNING: Method definition defineProb(Any) in module Main at /home/robert/git/Modernsketches_Toure_cheikh/BigRidge/src/defineProb.jl:5 overwritten at /home/robert/git/Modernsketches_Toure_cheikh/BigRidge/src/defineProb.jl:5.\n",
      "WARNING: Method definition boot_grad(Main.Prob, Main.MyOptions) in module Main at /home/robert/git/Modernsketches_Toure_cheikh/BigRidge/src/grad.jl:4 overwritten at /home/robert/git/Modernsketches_Toure_cheikh/BigRidge/src/grad.jl:4.\n",
      "WARNING: Method definition step_grad(Main.Prob, Array{Float64, N<:Any}, Main.MyOptions) in module Main at /home/robert/git/Modernsketches_Toure_cheikh/BigRidge/src/grad.jl:15 overwritten at /home/robert/git/Modernsketches_Toure_cheikh/BigRidge/src/grad.jl:15.\n",
      "WARNING: Method definition boot_CD(Main.Prob, Main.MyOptions) in module Main at /home/robert/git/Modernsketches_Toure_cheikh/BigRidge/src/CD.jl:5 overwritten at /home/robert/git/Modernsketches_Toure_cheikh/BigRidge/src/CD.jl:5.\n",
      "WARNING: Method definition step_CD(Main.Prob, Array{Float64, N<:Any}, Main.MyOptions) in module Main at /home/robert/git/Modernsketches_Toure_cheikh/BigRidge/src/CD.jl:13 overwritten at /home/robert/git/Modernsketches_Toure_cheikh/BigRidge/src/CD.jl:13.\n",
      "WARNING: Method definition boot_CG(Main.Prob, Main.MyOptions) in module Main at /home/robert/git/Modernsketches_Toure_cheikh/BigRidge/src/CG.jl:5 overwritten at /home/robert/git/Modernsketches_Toure_cheikh/BigRidge/src/CG.jl:5.\n",
      "WARNING: Method definition step_CG(Main.Prob, Array{Float64, N<:Any}, Main.MyOptions, Main.CGMethod) in module Main at /home/robert/git/Modernsketches_Toure_cheikh/BigRidge/src/CG.jl:17 overwritten at /home/robert/git/Modernsketches_Toure_cheikh/BigRidge/src/CG.jl:17.\n",
      "WARNING: Method definition hada(Any, Any) in module Main at /home/robert/git/Modernsketches_Toure_cheikh/BigRidge/src/hada.jl:5 overwritten at /home/robert/git/Modernsketches_Toure_cheikh/BigRidge/src/hada.jl:5.\n",
      "WARNING: Method definition boot_Hadamard(Main.Prob, Main.MyOptions) in module Main at /home/robert/git/Modernsketches_Toure_cheikh/BigRidge/src/Hadamard.jl:4 overwritten at /home/robert/git/Modernsketches_Toure_cheikh/BigRidge/src/Hadamard.jl:4.\n",
      "WARNING: Method definition step_Hadamard(Main.Prob, Array{Float64, N<:Any}, Main.MyOptions) in module Main at /home/robert/git/Modernsketches_Toure_cheikh/BigRidge/src/Hadamard.jl:15 overwritten at /home/robert/git/Modernsketches_Toure_cheikh/BigRidge/src/Hadamard.jl:15.\n",
      "WARNING: Method definition boot_countmin(Main.Prob, Main.MyOptions) in module Main at /home/robert/git/Modernsketches_Toure_cheikh/BigRidge/src/countmin.jl:4 overwritten at /home/robert/git/Modernsketches_Toure_cheikh/BigRidge/src/countmin.jl:4.\n",
      "WARNING: Method definition step_countmin(Main.Prob, Array{Float64, N<:Any}, Array{Float64, N<:Any}, Main.MyOptions) in module Main at /home/robert/git/Modernsketches_Toure_cheikh/BigRidge/src/countmin.jl:12 overwritten at /home/robert/git/Modernsketches_Toure_cheikh/BigRidge/src/countmin.jl:12.\n",
      "WARNING: Method definition plot_outputs_Plots(Any, Any) in module Main at /home/robert/git/Modernsketches_Toure_cheikh/BigRidge/src/plot_outputs_Plots.jl:3 overwritten at /home/robert/git/Modernsketches_Toure_cheikh/BigRidge/src/plot_outputs_Plots.jl:3.\n"
     ]
    },
    {
     "data": {
      "text/plain": [
       "plot_outputs_Plots (generic function with 1 method)"
      ]
     },
     "execution_count": 142,
     "metadata": {},
     "output_type": "execute_result"
    }
   ],
   "source": [
    "using StatsBase\n",
    "using JLD  \n",
    "include(\"../src/BigRidge.jl\")"
   ]
  },
  {
   "cell_type": "code",
   "execution_count": 143,
   "metadata": {
    "collapsed": true
   },
   "outputs": [],
   "source": [
    "#Basic parameters\n",
    "## Basic parameters\n",
    "maxiter=10^8;\n",
    "max_time = 10;\n",
    "max_epocs = 100;\n",
    "printiters = true;\n",
    "exacterror =true; \n",
    "tol = 10.0^(-5.0);\n",
    "restol = 10.0^(-5.0);\n",
    "skip_error_calculation = 25;   # number of iterations where error is not calculated (to save time!) ceil((m)^(1/2))"
   ]
  },
  {
   "cell_type": "code",
   "execution_count": 144,
   "metadata": {
    "collapsed": false
   },
   "outputs": [
    {
     "name": "stdout",
     "output_type": "stream",
     "text": [
      "../data/a9a.jld\n"
     ]
    }
   ],
   "source": [
    "dataset = \"a9a\"\n",
    "prob = defineProb(dataset);"
   ]
  },
  {
   "cell_type": "code",
   "execution_count": 145,
   "metadata": {
    "collapsed": true
   },
   "outputs": [],
   "source": [
    "options = MyOptions(0,\"uni\",tol,restol,maxiter,skip_error_calculation,max_time,printiters,exacterror) \n",
    "OUTPUTS = [];"
   ]
  },
  {
   "cell_type": "code",
   "execution_count": 146,
   "metadata": {
    "collapsed": false
   },
   "outputs": [
    {
     "name": "stderr",
     "output_type": "stream",
     "text": [
      "\u001b[1m\u001b[34mINFO: Nothing to be done\n",
      "\u001b[0m"
     ]
    },
    {
     "name": "stdout",
     "output_type": "stream",
     "text": [
      "1.568041059865695e-11\n"
     ]
    }
   ],
   "source": [
    "Pkg.add(\"Hadamard\")\n",
    "using Hadamard \n",
    "\n",
    "m = 64;\n",
    "A = rand(m,m); b = A'*rand(m); A = A'*A;  # positive definite\n",
    "\n",
    "\n",
    "# Solving in one hit\n",
    "H = hadamard(m);\n",
    "HA =H*A\n",
    "Hb =H*b;\n",
    "xs2 = HA\\Hb;\n",
    "xs1 = A\\b;\n",
    "xs1-xs2; # ok\n",
    "\n",
    "# Solving in one hit with Newton\n",
    "x = rand(m);\n",
    "idx = sample(1:m,m,replace=false);\n",
    "sa = hada(A,idx);  # S * A\n",
    "sb = hada(b,idx);  # S * b \n",
    "sas = hada(sa',idx); \n",
    " vect = sa*x-sb;\n",
    " ST = hada(eye(m),idx);\n",
    " y = sas\\vect;\n",
    " Sy = ST'*y; \n",
    " x[:] = x[:] -Sy;\n",
    " println(norm(x-xs2)/norm(xs2))\n"
   ]
  },
  {
   "cell_type": "code",
   "execution_count": 154,
   "metadata": {
    "collapsed": false
   },
   "outputs": [
    {
     "data": {
      "text/plain": [
       "12-element Array{Int64,1}:\n",
       " 2\n",
       " 1\n",
       " 6\n",
       " 1\n",
       " 6\n",
       " 5\n",
       " 4\n",
       " 5\n",
       " 2\n",
       " 3\n",
       " 4\n",
       " 3"
      ]
     },
     "execution_count": 154,
     "metadata": {},
     "output_type": "execute_result"
    }
   ],
   "source": [
    "m = 12;\n",
    "x = rand(m)\n",
    "\n",
    "idx = sample(1:m,m,replace=false);\n",
    "n  = size(x,1)\n",
    "p  = size(x,2)\n",
    "s = length(idx);\n",
    "\n",
    "m = Int(floor(n/2));\n",
    "\n",
    "   # idx_new = idx.*(idx.<=m)+(idx-m).*(idx.>m);\n",
    "\n",
    "idx_new = idx - m*(idx .> m);\n",
    "idx_new"
   ]
  },
  {
   "cell_type": "code",
   "execution_count": 147,
   "metadata": {
    "collapsed": false
   },
   "outputs": [
    {
     "name": "stdout",
     "output_type": "stream",
     "text": [
      "flopsperiter: 1936758\n",
      "Hadamard\n",
      "-------------------\n",
      "It   | Error% | Residual |  Time   \n",
      "-------------------\n",
      "abs error: 1.434392412706409\n",
      "size of sa(123,64)\n",
      "size of sb(123,1)\n",
      "size of sas(123,123)\n",
      "size of x(123,)\n"
     ]
    },
    {
     "ename": "LoadError",
     "evalue": "DimensionMismatch(\"second dimension of A, 64, does not match length of x, 123\")",
     "output_type": "error",
     "traceback": [
      "DimensionMismatch(\"second dimension of A, 64, does not match length of x, 123\")",
      "",
      " in gemv!(::Array{Float64,1}, ::Char, ::Array{Float64,2}, ::Array{Float64,1}) at ./linalg/matmul.jl:219",
      " in *(::Array{Float64,2}, ::Array{Float64,1}) at ./linalg/matmul.jl:80",
      " in step_Hadamard(::Prob, ::Array{Float64,1}, ::MyOptions) at /home/robert/git/Modernsketches_Toure_cheikh/BigRidge/src/Hadamard.jl:29",
      " in solveRidge(::Prob, ::String, ::MyOptions) at /home/robert/git/Modernsketches_Toure_cheikh/BigRidge/src/solveRidge.jl:37"
     ]
    }
   ],
   "source": [
    "# Testing Hadamard Sketch\n",
    "method_name = \"Hadamard\";# ROS\n",
    "options.sketchsize =prob.n; # Int(floor(log2(prob.n)));\n",
    "options.maxiter=100;\n",
    "options.skip_error_calculation =1;\n",
    "output= solveRidge(prob, method_name, options);\n",
    "OUTPUTS = [OUTPUTS ; output];"
   ]
  },
  {
   "cell_type": "code",
   "execution_count": 93,
   "metadata": {
    "collapsed": false
   },
   "outputs": [
    {
     "name": "stdout",
     "output_type": "stream",
     "text": [
      "CG\n",
      "-------------------\n",
      "It   | Error% | Residual |  Time   \n",
      "-------------------\n",
      "abs error: 1.434392412706409\n",
      "  1  | 96.60  |  29.70  | 0.1243 \n",
      "abs error: 1.3855765470454868\n",
      "  2  | 87.44  |  7.62  | 0.1268 \n",
      "abs error: 1.2541697814483534\n",
      "  3  | 79.30  |  4.40  | 0.1277 \n",
      "abs error: 1.1374867345424353\n",
      "  4  | 74.71  |  2.09  | 0.1286 \n",
      "abs error: 1.0715711079996741\n",
      "  5  | 71.27  |  1.68  | 0.1293 \n",
      "abs error: 1.0223519585221452\n",
      "  6  | 67.91  |  0.98  | 0.1301 \n",
      "abs error: 0.9740288288584328\n",
      "  7  | 65.10  |  0.72  | 0.1309 \n",
      "abs error: 0.9337198437920716\n",
      "  8  | 63.25  |  0.57  | 0.1317 \n",
      "abs error: 0.907246435024017\n",
      "  9  | 61.39  |  0.38  | 0.1401 \n",
      "abs error: 0.8805295143472361\n",
      " 10  | 59.93  |  0.34  | 0.1410 \n",
      "abs error: 0.8596842125555337\n",
      " 11  | 58.59  |  0.44  | 0.1418 \n",
      "abs error: 0.8404447972971131\n",
      " 12  | 58.51  |  0.27  | 0.1426 \n",
      "abs error: 0.8392294992058815\n",
      " 13  | 56.83  |  0.20  | 0.1433 \n",
      "abs error: 0.8152069386282013\n",
      " 14  | 54.78  |  0.20  | 0.1441 \n",
      "abs error: 0.7857572313810305\n",
      " 15  | 51.92  |  0.18  | 0.1449 \n",
      "abs error: 0.7448073458838816\n",
      " 16  | 49.78  |  0.17  | 0.1453 \n",
      "abs error: 0.7139760455166775\n",
      " 17  | 47.47  |  0.15  | 0.1461 \n",
      "abs error: 0.680885223087141\n",
      " 18  | 45.39  |  0.15  | 0.1468 \n",
      "abs error: 0.6511359950883594\n",
      " 19  | 42.67  |  0.12  | 0.1476 \n",
      "abs error: 0.6120467545782253\n",
      " 20  | 40.28  |  0.21  | 0.1483 \n",
      "abs error: 0.5778057138199809\n",
      " 21  | 40.20  |  0.11  | 0.1491 \n",
      "abs error: 0.5766328639704692\n",
      " 22  | 38.68  |  0.19  | 0.1501 \n",
      "abs error: 0.5548216475308864\n",
      " 23  | 37.97  |  0.10  | 0.1509 \n",
      "abs error: 0.5445778098726031\n",
      " 24  | 36.40  |  0.07  | 0.1517 \n",
      "abs error: 0.5220963317621411\n",
      " 25  | 35.08  |  0.06  | 0.1525 \n",
      "abs error: 0.5031767400684677\n",
      " 26  | 33.42  |  0.07  | 0.1533 \n",
      "abs error: 0.47932645409578334\n",
      " 27  | 31.52  |  0.06  | 0.1541 \n",
      "abs error: 0.45213820947144523\n",
      " 28  | 29.24  |  0.07  | 0.1549 \n",
      "abs error: 0.4194492588325868\n",
      " 29  | 28.17  |  0.11  | 0.1554 \n",
      "abs error: 0.4040231912741319\n",
      " 30  | 27.72  |  0.26  | 0.1566 \n",
      "abs error: 0.3976837286507374\n",
      " 31  | 26.62  |  0.06  | 0.1575 \n",
      "abs error: 0.3818154491303743\n",
      " 32  | 24.87  |  0.06  | 0.1586 \n",
      "abs error: 0.356677859376609\n",
      " 33  | 23.30  |  0.05  | 0.1596 \n",
      "abs error: 0.3341458623177391\n",
      " 34  | 21.59  |  0.04  | 0.1607 \n",
      "abs error: 0.3097021898699542\n",
      " 35  | 19.98  |  0.05  | 0.1618 \n",
      "abs error: 0.28654197382400715\n",
      " 36  | 19.39  |  0.05  | 0.1632 \n",
      "abs error: 0.2781583539409634\n",
      " 37  | 18.53  |  0.04  | 0.1683 \n",
      "abs error: 0.26578411182241707\n",
      " 38  | 17.54  |  0.04  | 0.1698 \n",
      "abs error: 0.2516447650559816\n",
      " 39  | 17.48  |  0.08  | 0.1842 \n",
      "abs error: 0.25077095977457947\n",
      " 40  | 15.92  |  0.07  | 0.1853 \n",
      "abs error: 0.2283045208517991\n",
      " 41  | 15.50  |  0.04  | 0.1931 \n",
      "abs error: 0.22229477775863452\n",
      " 42  | 13.98  |  0.04  | 0.1939 \n",
      "abs error: 0.20047373764141277\n",
      " 43  | 13.01  |  0.04  | 0.1944 \n",
      "abs error: 0.18657310109809103\n",
      " 44  | 12.64  |  0.03  | 0.1952 \n",
      "abs error: 0.18123975556313252\n",
      " 45  | 12.28  |  0.02  | 0.1960 \n",
      "abs error: 0.17613734809025064\n",
      " 46  | 11.88  |  0.02  | 0.1968 \n",
      "abs error: 0.17041304944900162\n",
      " 47  | 11.02  |  0.02  | 0.1976 \n",
      "abs error: 0.15809104292756274\n",
      " 48  | 10.96  |  0.06  | 0.1984 \n",
      "abs error: 0.15724789950135193\n",
      " 49  | 10.25  |  0.02  | 0.1989 \n",
      "abs error: 0.14708717532545254\n",
      " 50  | 9.86  |  0.03  | 0.1993 \n",
      "abs error: 0.14144751665459407\n",
      " 51  | 9.35  |  0.02  | 0.1997 \n",
      "abs error: 0.13410018934760684\n",
      " 52  | 9.12  |  0.01  | 0.2009 \n",
      "abs error: 0.13087622318141998\n",
      " 53  | 8.82  |  0.01  | 0.2018 \n",
      "abs error: 0.12649137066107397\n",
      " 54  | 8.75  |  0.01  | 0.2027 \n",
      "abs error: 0.1254783809758321\n",
      " 55  | 8.46  |  0.01  | 0.2035 \n",
      "abs error: 0.12131497381416649\n",
      " 56  | 8.18  |  0.01  | 0.2044 \n",
      "abs error: 0.117323617372777\n",
      " 57  | 8.15  |  0.03  | 0.2052 \n",
      "abs error: 0.11691684262017217\n",
      " 58  | 7.56  |  0.03  | 0.2059 \n",
      "abs error: 0.10844853716733845\n",
      " 59  | 7.18  |  0.01  | 0.2067 \n",
      "abs error: 0.10300691366113528\n",
      " 60  | 6.52  |  0.01  | 0.2076 \n",
      "abs error: 0.09353886901920368\n",
      " 61  | 6.03  |  0.01  | 0.2084 \n",
      "abs error: 0.08644160871300566\n",
      " 62  | 5.77  |  0.01  | 0.2093 \n",
      "abs error: 0.08271433816321114\n",
      " 63  | 5.43  |  0.01  | 0.2094 \n",
      "abs error: 0.07793119414557835\n",
      " 64  | 5.22  |  0.01  | 0.2102 \n",
      "abs error: 0.07493129628227048\n",
      " 65  | 5.13  |  0.00  | 0.2110 \n",
      "abs error: 0.07365257560858046\n",
      " 66  | 5.13  |  0.01  | 0.2119 \n",
      "abs error: 0.07360209182562422\n",
      " 67  | 5.05  |  0.01  | 0.2127 \n",
      "abs error: 0.07250726335888524\n",
      " 68  | 4.92  |  0.00  | 0.2135 \n",
      "abs error: 0.07052179855737488\n",
      " 69  | 4.72  |  0.00  | 0.2138 \n",
      "abs error: 0.06776436014289916\n",
      " 70  | 4.50  |  0.00  | 0.2146 \n",
      "abs error: 0.06451076277290872\n",
      " 71  | 4.29  |  0.01  | 0.2163 \n",
      "abs error: 0.06149417454590834\n",
      " 72  | 4.25  |  0.00  | 0.2166 \n",
      "abs error: 0.06093199443993796\n",
      " 73  | 4.16  |  0.01  | 0.2203 \n",
      "abs error: 0.05961970972502759\n",
      " 74  | 4.13  |  0.01  | 0.2210 \n",
      "abs error: 0.05929506676671154\n",
      " 75  | 4.13  |  0.01  | 0.2260 \n",
      "abs error: 0.059199317936803005\n",
      " 76  | 4.09  |  0.00  | 0.2327 \n",
      "abs error: 0.05872019429914952\n",
      " 77  | 4.06  |  0.01  | 0.2356 \n",
      "abs error: 0.05826038483484921\n",
      " 78  | 3.97  |  0.00  | 0.2422 \n",
      "abs error: 0.05690879693620053\n",
      " 79  | 3.82  |  0.00  | 0.2450 \n",
      "abs error: 0.05473426417291838\n",
      " 80  | 3.70  |  0.00  | 0.2481 \n",
      "abs error: 0.053118210610236326\n",
      " 81  | 3.69  |  0.00  | 0.2528 \n",
      "abs error: 0.05294250581952093\n",
      " 82  | 3.62  |  0.00  | 0.2528 \n",
      "abs error: 0.05196120354537707\n",
      " 83  | 3.59  |  0.02  | 0.2549 \n",
      "abs error: 0.05150411715163688\n",
      " 84  | 3.55  |  0.00  | 0.2549 \n",
      "abs error: 0.05086364013507321\n",
      " 85  | 3.51  |  0.00  | 0.2550 \n",
      "abs error: 0.05031444315916992\n",
      " 86  | 3.42  |  0.00  | 0.2612 \n",
      "abs error: 0.049016687590248825\n",
      " 87  | 3.36  |  0.00  | 0.2680 \n",
      "abs error: 0.04819843268590026\n",
      " 88  | 3.34  |  0.00  | 0.2680 \n",
      "abs error: 0.047961642932715313\n",
      " 89  | 3.34  |  0.00  | 0.2681 \n",
      "abs error: 0.04788191308323844\n",
      " 90  | 3.31  |  0.00  | 0.2712 \n",
      "abs error: 0.04743483921815588\n",
      " 91  | 3.30  |  0.00  | 0.2712 \n",
      "abs error: 0.047354437794824566\n",
      " 92  | 3.28  |  0.00  | 0.2713 \n",
      "abs error: 0.0470247241676914\n",
      " 93  | 3.28  |  0.00  | 0.2713 \n",
      "abs error: 0.04699947943465199\n",
      " 94  | 3.21  |  0.00  | 0.2714 \n",
      "abs error: 0.04610223928058889\n",
      " 95  | 3.20  |  0.00  | 0.2714 \n",
      "abs error: 0.04593936184757553\n",
      " 96  | 3.19  |  0.00  | 0.2715 \n",
      "abs error: 0.04568768396477777\n",
      " 97  | 3.18  |  0.00  | 0.2715 \n",
      "abs error: 0.04564922027867374\n",
      " 98  | 3.16  |  0.00  | 0.2722 \n",
      "abs error: 0.04528100645317022\n",
      " 99  | 3.13  |  0.00  | 0.2725 \n",
      "abs error: 0.04495860838439488\n",
      "100  | 3.12  |  0.00  | 0.2725 \n"
     ]
    }
   ],
   "source": [
    "# Testing CG \n",
    "options.max_time = 2; options.restol = 10.0^(-8); \n",
    "method_name = \"CG\";# gradient descent\n",
    "output= solveRidge(prob, method_name, options);\n",
    "OUTPUTS = [OUTPUTS ; output];"
   ]
  },
  {
   "cell_type": "code",
   "execution_count": 73,
   "metadata": {
    "collapsed": false
   },
   "outputs": [
    {
     "name": "stdout",
     "output_type": "stream",
     "text": [
      "grad\n",
      "-------------------\n",
      "It   | Error% | Residual |  Time   \n",
      "-------------------\n",
      " 25  | 73.17  |  1.45  | 0.0249 \n",
      " 50  | 67.96  |  1.54  | 0.0291 \n",
      " 75  | 65.17  |  0.44  | 0.0313 \n",
      "100  | 63.12  |  0.71  | 0.0331 \n",
      "125  | 61.61  |  0.24  | 0.0347 \n",
      "150  | 60.29  |  0.43  | 0.0364 \n",
      "175  | 59.19  |  0.16  | 0.0381 \n",
      "200  | 58.15  |  0.31  | 0.0398 \n",
      "225  | 57.25  |  0.12  | 0.0621 \n",
      "250  | 56.36  |  0.24  | 0.0724 \n",
      "275  | 55.56  |  0.10  | 0.0738 \n",
      "300  | 54.77  |  0.20  | 0.0765 \n",
      "325  | 54.05  |  0.08  | 0.0780 \n",
      "350  | 53.33  |  0.18  | 0.0794 \n",
      "375  | 52.67  |  0.08  | 0.0825 \n",
      "400  | 52.00  |  0.16  | 0.0840 \n",
      "425  | 51.39  |  0.07  | 0.0854 \n",
      "450  | 50.76  |  0.15  | 0.0868 \n",
      "475  | 50.19  |  0.06  | 0.0881 \n",
      "500  | 49.61  |  0.14  | 0.0900 \n",
      "525  | 49.07  |  0.06  | 0.0913 \n",
      "550  | 48.52  |  0.13  | 0.0950 \n",
      "575  | 48.01  |  0.06  | 0.1022 \n",
      "600  | 47.49  |  0.12  | 0.1085 \n",
      "625  | 47.01  |  0.05  | 0.1097 \n",
      "650  | 46.51  |  0.11  | 0.1189 \n",
      "675  | 46.06  |  0.05  | 0.1200 \n",
      "700  | 45.59  |  0.11  | 0.1350 \n",
      "725  | 45.15  |  0.05  | 0.1363 \n",
      "750  | 44.70  |  0.10  | 0.1373 \n",
      "775  | 44.29  |  0.04  | 0.1384 \n",
      "800  | 43.86  |  0.10  | 0.1395 \n",
      "825  | 43.46  |  0.04  | 0.1406 \n",
      "850  | 43.05  |  0.09  | 0.1417 \n",
      "875  | 42.66  |  0.04  | 0.1428 \n",
      "900  | 42.27  |  0.09  | 0.1438 \n",
      "925  | 41.90  |  0.04  | 0.1449 \n",
      "950  | 41.52  |  0.08  | 0.1463 \n",
      "975  | 41.17  |  0.04  | 0.1474 \n",
      "1000  | 40.80  |  0.08  | 0.1486 \n"
     ]
    }
   ],
   "source": [
    "# Testing grad descent\n",
    "options.max_time = 2; options.restol = 10.0^(-8); options.maxiter=1000;\n",
    "method_name = \"grad\";# gradient descent\n",
    "output= solveRidge(prob, method_name, options);\n",
    "OUTPUTS = [OUTPUTS ; output];"
   ]
  },
  {
   "cell_type": "code",
   "execution_count": 81,
   "metadata": {
    "collapsed": false
   },
   "outputs": [
    {
     "name": "stdout",
     "output_type": "stream",
     "text": [
      "CD\n",
      "-------------------\n",
      "It   | Error% | Residual |  Time   \n",
      "-------------------\n",
      " 25  | 125.40  |  3.06  | 0.0010 \n",
      " 50  | 122.14  |  1.19  | 0.0019 \n",
      " 75  | 117.73  |  0.41  | 0.0028 \n",
      "100  | 113.81  |  0.22  | 0.0036 \n",
      "125  | 111.34  |  0.30  | 0.0045 \n",
      "150  | 109.36  |  0.20  | 0.0053 \n",
      "175  | 105.00  |  0.18  | 0.0061 \n",
      "200  | 101.98  |  0.23  | 0.0070 \n",
      "225  | 100.53  |  0.16  | 0.0079 \n",
      "250  | 99.47  |  0.15  | 0.0087 \n",
      "275  | 98.22  |  0.23  | 0.0095 \n",
      "300  | 96.61  |  0.14  | 0.0104 \n",
      "325  | 95.79  |  0.14  | 0.0113 \n",
      "350  | 94.98  |  0.11  | 0.0121 \n",
      "375  | 94.65  |  0.13  | 0.0129 \n",
      "400  | 94.95  |  0.08  | 0.0137 \n",
      "425  | 94.64  |  0.09  | 0.0146 \n",
      "450  | 94.68  |  0.12  | 0.0154 \n",
      "475  | 94.73  |  0.10  | 0.0163 \n",
      "500  | 99.00  |  0.07  | 0.0171 \n",
      "525  | 100.87  |  0.03  | 0.0179 \n",
      "550  | 100.83  |  0.02  | 0.0186 \n",
      "575  | 100.73  |  0.02  | 0.0194 \n",
      "600  | 100.72  |  0.02  | 0.0213 \n",
      "625  | 100.79  |  0.01  | 0.0221 \n",
      "650  | 100.78  |  0.01  | 0.0229 \n",
      "675  | 100.73  |  0.01  | 0.0237 \n",
      "700  | 100.69  |  0.01  | 0.0303 \n",
      "725  | 100.67  |  0.01  | 0.0309 \n",
      "750  | 100.68  |  0.01  | 0.0316 \n",
      "775  | 100.66  |  0.01  | 0.0324 \n",
      "800  | 100.63  |  0.01  | 0.0330 \n",
      "825  | 100.60  |  0.01  | 0.0338 \n",
      "850  | 100.60  |  0.01  | 0.0344 \n",
      "875  | 100.59  |  0.01  | 0.0351 \n",
      "900  | 100.56  |  0.01  | 0.0417 \n",
      "925  | 100.54  |  0.01  | 0.0422 \n",
      "950  | 100.50  |  0.01  | 0.0427 \n",
      "975  | 100.47  |  0.01  | 0.0432 \n",
      "1000  | 100.48  |  0.01  | 0.0437 \n",
      "1025  | 100.44  |  0.01  | 0.0442 \n",
      "1050  | 100.49  |  0.00  | 0.0448 \n",
      "1075  | 100.49  |  0.00  | 0.0453 \n",
      "1100  | 100.48  |  0.00  | 0.0458 \n",
      "1125  | 100.51  |  0.00  | 0.0462 \n",
      "1150  | 100.53  |  0.00  | 0.0468 \n",
      "1175  | 100.52  |  0.00  | 0.0473 \n",
      "1200  | 100.51  |  0.00  | 0.0477 \n",
      "1225  | 100.50  |  0.00  | 0.0482 \n",
      "1250  | 100.49  |  0.00  | 0.0489 \n",
      "1275  | 100.50  |  0.00  | 0.0494 \n",
      "1300  | 100.49  |  0.00  | 0.0498 \n",
      "1325  | 100.52  |  0.00  | 0.0503 \n",
      "1350  | 100.51  |  0.00  | 0.0508 \n",
      "1375  | 100.50  |  0.00  | 0.0512 \n",
      "1400  | 100.49  |  0.00  | 0.0517 \n",
      "1425  | 100.49  |  0.00  | 0.0522 \n",
      "1450  | 100.48  |  0.00  | 0.0527 \n",
      "1475  | 100.48  |  0.00  | 0.0531 \n",
      "1500  | 100.48  |  0.00  | 0.0536 \n",
      "1525  | 100.48  |  0.00  | 0.0542 \n",
      "1550  | 100.48  |  0.00  | 0.0547 \n",
      "1575  | 100.47  |  0.00  | 0.0552 \n",
      "1600  | 100.47  |  0.00  | 0.0558 \n",
      "1625  | 100.47  |  0.00  | 0.0563 \n",
      "1650  | 100.47  |  0.00  | 0.0568 \n",
      "1675  | 100.47  |  0.00  | 0.0574 \n",
      "1700  | 100.46  |  0.00  | 0.0579 \n",
      "1725  | 100.45  |  0.00  | 0.0584 \n",
      "1750  | 100.44  |  0.00  | 0.0590 \n",
      "1775  | 100.44  |  0.00  | 0.0595 \n",
      "1800  | 100.44  |  0.00  | 0.0601 \n",
      "1825  | 100.44  |  0.00  | 0.0607 \n",
      "1850  | 100.44  |  0.00  | 0.0613 \n",
      "1875  | 100.44  |  0.00  | 0.0618 \n",
      "1900  | 100.44  |  0.00  | 0.0623 \n",
      "1925  | 100.43  |  0.00  | 0.0629 \n",
      "1950  | 100.43  |  0.00  | 0.0634 \n",
      "1975  | 100.43  |  0.00  | 0.0639 \n",
      "2000  | 100.42  |  0.00  | 0.0645 \n",
      "2025  | 100.42  |  0.00  | 0.0650 \n",
      "2050  | 100.41  |  0.00  | 0.0655 \n",
      "2075  | 100.41  |  0.00  | 0.0660 \n",
      "2100  | 100.41  |  0.00  | 0.0666 \n",
      "2125  | 100.41  |  0.00  | 0.0671 \n",
      "2150  | 100.42  |  0.00  | 0.0676 \n",
      "2175  | 100.42  |  0.00  | 0.0681 \n",
      "2200  | 100.42  |  0.00  | 0.0686 \n",
      "2225  | 100.42  |  0.00  | 0.0691 \n",
      "2250  | 100.41  |  0.00  | 0.0735 \n",
      "2275  | 100.41  |  0.00  | 0.0739 \n",
      "2300  | 100.41  |  0.00  | 0.0744 \n",
      "2325  | 100.41  |  0.00  | 0.0748 \n",
      "2350  | 100.41  |  0.00  | 0.0752 \n",
      "2375  | 100.41  |  0.00  | 0.0757 \n",
      "2400  | 100.41  |  0.00  | 0.0761 \n",
      "2425  | 100.41  |  0.00  | 0.0765 \n",
      "2450  | 100.41  |  0.00  | 0.0770 \n",
      "2475  | 100.41  |  0.00  | 0.0774 \n",
      "2500  | 100.41  |  0.00  | 0.0779 \n",
      "2525  | 100.41  |  0.00  | 0.0783 \n",
      "2550  | 100.41  |  0.00  | 0.0787 \n",
      "2575  | 100.41  |  0.00  | 0.0792 \n",
      "2600  | 100.41  |  0.00  | 0.0796 \n",
      "2625  | 100.41  |  0.00  | 0.0800 \n",
      "2650  | 100.41  |  0.00  | 0.0805 \n",
      "2675  | 100.41  |  0.00  | 0.0809 \n",
      "2700  | 100.41  |  0.00  | 0.0813 \n",
      "2725  | 100.41  |  0.00  | 0.0818 \n",
      "2750  | 100.41  |  0.00  | 0.0823 \n",
      "2775  | 100.41  |  0.00  | 0.0827 \n",
      "2800  | 100.41  |  0.00  | 0.0831 \n",
      "2825  | 100.41  |  0.00  | 0.0835 \n",
      "2850  | 100.41  |  0.00  | 0.0840 \n",
      "2875  | 100.41  |  0.00  | 0.0845 \n",
      "2900  | 100.41  |  0.00  | 0.0850 \n",
      "2925  | 100.41  |  0.00  | 0.0856 \n",
      "2950  | 100.41  |  0.00  | 0.0861 \n",
      "2975  | 100.41  |  0.00  | 0.0866 \n",
      "3000  | 100.41  |  0.00  | 0.0871 \n",
      "3025  | 100.41  |  0.00  | 0.0876 \n",
      "3050  | 100.41  |  0.00  | 0.0881 \n",
      "3075  | 100.41  |  0.00  | 0.0887 \n",
      "3100  | 100.41  |  0.00  | 0.0892 \n",
      "3125  | 100.41  |  0.00  | 0.0897 \n",
      "3150  | 100.41  |  0.00  | 0.0902 \n",
      "3175  | 100.41  |  0.00  | 0.0907 \n",
      "3200  | 100.41  |  0.00  | 0.0913 \n",
      "3225  | 100.41  |  0.00  | 0.0918 \n",
      "3250  | 100.41  |  0.00  | 0.0923 \n",
      "3275  | 100.41  |  0.00  | 0.0928 \n",
      "3300  | 100.41  |  0.00  | 0.0933 \n",
      "3325  | 100.41  |  0.00  | 0.0938 \n",
      "3350  | 100.41  |  0.00  | 0.0943 \n",
      "3375  | 100.41  |  0.00  | 0.0948 \n",
      "3400  | 100.28  |  0.00  | 0.0954 \n",
      "3425  | 100.28  |  0.00  | 0.0959 \n",
      "3450  | 100.28  |  0.00  | 0.0964 \n",
      "3475  | 100.28  |  0.00  | 0.0969 \n",
      "3500  | 100.28  |  0.00  | 0.0974 \n",
      "3525  | 100.28  |  0.00  | 0.0979 \n",
      "3550  | 100.28  |  0.00  | 0.0984 \n",
      "3575  | 100.28  |  0.00  | 0.0989 \n",
      "3600  | 100.28  |  0.00  | 0.1032 \n",
      "3625  | 100.28  |  0.00  | 0.1036 \n",
      "3650  | 100.28  |  0.00  | 0.1041 \n",
      "3675  | 100.28  |  0.00  | 0.1045 \n",
      "3700  | 100.28  |  0.00  | 0.1049 \n",
      "3725  | 100.28  |  0.00  | 0.1054 \n",
      "3750  | 100.28  |  0.00  | 0.1059 \n",
      "3775  | 100.28  |  0.00  | 0.1063 \n",
      "3800  | 100.28  |  0.00  | 0.1068 \n",
      "3825  | 100.28  |  0.00  | 0.1072 \n",
      "3850  | 100.28  |  0.00  | 0.1077 \n",
      "3875  | 100.28  |  0.00  | 0.1081 \n",
      "3900  | 100.28  |  0.00  | 0.1086 \n",
      "3925  | 100.28  |  0.00  | 0.1090 \n",
      "3950  | 100.28  |  0.00  | 0.1095 \n"
     ]
    }
   ],
   "source": [
    "# Testing CD \n",
    "options.max_time = 10; options.restol = 10.0^(-8); options.maxiter=10000;\n",
    "method_name = \"CD\";# gradient descent\n",
    "options.sketchsize = 11#floor((prob.n)^(1/2));\n",
    "output= solveRidge(prob, method_name, options);\n",
    "OUTPUTS = [OUTPUTS ; output];"
   ]
  },
  {
   "cell_type": "code",
   "execution_count": null,
   "metadata": {
    "collapsed": true
   },
   "outputs": [],
   "source": [
    "savename = replace(prob.name, r\"[\\/]\", \"-\");\n",
    "save(\"../data/$(savename)-OUTPUTS.jld\", \"OUTPUTS\", OUTPUTS)"
   ]
  },
  {
   "cell_type": "code",
   "execution_count": null,
   "metadata": {
    "collapsed": true
   },
   "outputs": [],
   "source": [
    "#using GR\n",
    "using Plots\n",
    "pgfplots()\n",
    "plot_outputs_Plots(OUTPUTS,savename)"
   ]
  },
  {
   "cell_type": "code",
   "execution_count": null,
   "metadata": {
    "collapsed": true
   },
   "outputs": [],
   "source": [
    "# Loading saved problem data\n",
    "probname = \"w8a\"#\"gisette_scale-ridge\";  \n",
    "test = load(\"../data/$(probname)-OUTPUTS.jld\")\n",
    "OUTPUTS = test[\"OUTPUTS\"];\n",
    "# mask = [1,3,5]\n",
    "# OUTPUTS[mask]"
   ]
  },
  {
   "cell_type": "code",
   "execution_count": null,
   "metadata": {
    "collapsed": true
   },
   "outputs": [],
   "source": []
  }
 ],
 "metadata": {
  "anaconda-cloud": {},
  "kernelspec": {
   "display_name": "Julia 0.5.1",
   "language": "julia",
   "name": "julia-0.5"
  },
  "language_info": {
   "file_extension": ".jl",
   "mimetype": "application/julia",
   "name": "julia",
   "version": "0.5.2"
  }
 },
 "nbformat": 4,
 "nbformat_minor": 1
}
