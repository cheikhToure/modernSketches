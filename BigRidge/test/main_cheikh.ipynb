{
 "cells": [
  {
   "cell_type": "code",
   "execution_count": 10,
   "metadata": {
    "collapsed": false
   },
   "outputs": [],
   "source": [
    "workspace()"
   ]
  },
  {
   "cell_type": "code",
   "execution_count": 11,
   "metadata": {
    "collapsed": false
   },
   "outputs": [
    {
     "name": "stderr",
     "output_type": "stream",
     "text": [
      "WARNING: Method definition (::Type{Main.Base.LinearIndexing})(Type{#T<:Any}) in module Compat at /home/juser/.julia/v0.5/Compat/src/Compat.jl:1430 overwritten in module Compat at /home/juser/.julia/v0.5/Compat/src/Compat.jl:1430.\n",
      "WARNING: Method definition (::Type{Main.Base.LinearIndexing})(Any...) in module Compat at /home/juser/.julia/v0.5/Compat/src/Compat.jl:1431 overwritten in module Compat at /home/juser/.julia/v0.5/Compat/src/Compat.jl:1431.\n",
      "WARNING: Method definition redirect_stdout(Function, Any) in module Compat at /home/juser/.julia/v0.5/Compat/src/Compat.jl:1057 overwritten in module Compat at /home/juser/.julia/v0.5/Compat/src/Compat.jl:1057.\n",
      "WARNING: Method definition broadcast(Any, Tuple{Vararg{T<:Any, #N<:Any}}, Tuple{Vararg{T<:Any, #N<:Any}}...) in module Compat at /home/juser/.julia/v0.5/Compat/src/Compat.jl:1122 overwritten in module Compat at /home/juser/.julia/v0.5/Compat/src/Compat.jl:1122.\n",
      "WARNING: Method definition unsafe_trunc(Type{#T<:Integer}, Integer) in module Compat at /home/juser/.julia/v0.5/Compat/src/Compat.jl:1469 overwritten in module Compat at /home/juser/.julia/v0.5/Compat/src/Compat.jl:1469.\n",
      "WARNING: Method definition macroexpand(Module, ANY<:Any) in module Compat at /home/juser/.julia/v0.5/Compat/src/Compat.jl:1491 overwritten in module Compat at /home/juser/.julia/v0.5/Compat/src/Compat.jl:1491.\n",
      "WARNING: Method definition !(Function) in module Compat at /home/juser/.julia/v0.5/Compat/src/Compat.jl:1205 overwritten in module Compat at /home/juser/.julia/v0.5/Compat/src/Compat.jl:1205.\n",
      "WARNING: Method definition isless(Union{Main.Base.Dates.Millisecond, Main.Base.Dates.Minute, Main.Base.Dates.Week, Main.Base.Dates.Second, Main.Base.Dates.Day, Main.Base.Dates.Hour}, Union{Main.Base.Dates.Year, Main.Base.Dates.Month}) in module Compat at /home/juser/.julia/v0.5/Compat/src/Compat.jl:1529 overwritten in module Compat at /home/juser/.julia/v0.5/Compat/src/Compat.jl:1529.\n",
      "WARNING: Method definition isless(Union{Main.Base.Dates.Year, Main.Base.Dates.Month}, Union{Main.Base.Dates.Millisecond, Main.Base.Dates.Minute, Main.Base.Dates.Week, Main.Base.Dates.Second, Main.Base.Dates.Day, Main.Base.Dates.Hour}) in module Compat at /home/juser/.julia/v0.5/Compat/src/Compat.jl:1530 overwritten in module Compat at /home/juser/.julia/v0.5/Compat/src/Compat.jl:1530.\n",
      "WARNING: Method definition isless(Main.Base.Dates.Period, Main.Base.Dates.Period) in module Compat at /home/juser/.julia/v0.5/Compat/src/Compat.jl:1524 overwritten in module Compat at /home/juser/.julia/v0.5/Compat/src/Compat.jl:1524.\n",
      "WARNING: Method definition expand(Module, ANY<:Any) in module Compat at /home/juser/.julia/v0.5/Compat/src/Compat.jl:1490 overwritten in module Compat at /home/juser/.julia/v0.5/Compat/src/Compat.jl:1490.\n",
      "WARNING: Method definition redirect_stderr(Function, Any) in module Compat at /home/juser/.julia/v0.5/Compat/src/Compat.jl:1057 overwritten in module Compat at /home/juser/.julia/v0.5/Compat/src/Compat.jl:1057.\n",
      "WARNING: Method definition ones(AbstractArray) in module Compat at /home/juser/.julia/v0.5/Compat/src/Compat.jl:1440 overwritten in module Compat at /home/juser/.julia/v0.5/Compat/src/Compat.jl:1440.\n",
      "WARNING: Method definition ones(AbstractArray, Type) in module Compat at /home/juser/.julia/v0.5/Compat/src/Compat.jl:1440 overwritten in module Compat at /home/juser/.julia/v0.5/Compat/src/Compat.jl:1440.\n",
      "WARNING: Method definition ones(AbstractArray, Type, Tuple) in module Compat at /home/juser/.julia/v0.5/Compat/src/Compat.jl:1438 overwritten in module Compat at /home/juser/.julia/v0.5/Compat/src/Compat.jl:1438.\n",
      "WARNING: Method definition ones(AbstractArray, Type, Any...) in module Compat at /home/juser/.julia/v0.5/Compat/src/Compat.jl:1439 overwritten in module Compat at /home/juser/.julia/v0.5/Compat/src/Compat.jl:1439.\n",
      "WARNING: Method definition bswap(Main.Base.Complex) in module Compat at /home/juser/.julia/v0.5/Compat/src/Compat.jl:1474 overwritten in module Compat at /home/juser/.julia/v0.5/Compat/src/Compat.jl:1474.\n",
      "WARNING: Method definition convert(Type{Main.Base.Set{#T<:Any}}, Main.Base.Set{#T<:Any}) in module Compat at /home/juser/.julia/v0.5/Compat/src/Compat.jl:1459 overwritten in module Compat at /home/juser/.julia/v0.5/Compat/src/Compat.jl:1459.\n",
      "WARNING: Method definition convert(Type{Main.Base.Set{#T<:Any}}, Main.Base.Set) in module Compat at /home/juser/.julia/v0.5/Compat/src/Compat.jl:1460 overwritten in module Compat at /home/juser/.julia/v0.5/Compat/src/Compat.jl:1460.\n",
      "WARNING: Method definition redirect_stdin(Function, Any) in module Compat at /home/juser/.julia/v0.5/Compat/src/Compat.jl:1057 overwritten in module Compat at /home/juser/.julia/v0.5/Compat/src/Compat.jl:1057.\n",
      "WARNING: Method definition ==(Union{Main.Base.Dates.Millisecond, Main.Base.Dates.Minute, Main.Base.Dates.Week, Main.Base.Dates.Second, Main.Base.Dates.Day, Main.Base.Dates.Hour}, Union{Main.Base.Dates.Year, Main.Base.Dates.Month}) in module Compat at /home/juser/.julia/v0.5/Compat/src/Compat.jl:1527 overwritten in module Compat at /home/juser/.julia/v0.5/Compat/src/Compat.jl:1527.\n",
      "WARNING: Method definition ==(Union{Main.Base.Dates.Year, Main.Base.Dates.Month}, Union{Main.Base.Dates.Millisecond, Main.Base.Dates.Minute, Main.Base.Dates.Week, Main.Base.Dates.Second, Main.Base.Dates.Day, Main.Base.Dates.Hour}) in module Compat at /home/juser/.julia/v0.5/Compat/src/Compat.jl:1528 overwritten in module Compat at /home/juser/.julia/v0.5/Compat/src/Compat.jl:1528.\n",
      "WARNING: Method definition ==(Main.Base.Dates.Period, Main.Base.Dates.Period) in module Compat at /home/juser/.julia/v0.5/Compat/src/Compat.jl:1523 overwritten in module Compat at /home/juser/.julia/v0.5/Compat/src/Compat.jl:1523.\n",
      "WARNING: Method definition include_string(Module, String, String) in module Compat at /home/juser/.julia/v0.5/Compat/src/Compat.jl:1492 overwritten in module Compat at /home/juser/.julia/v0.5/Compat/src/Compat.jl:1492.\n",
      "WARNING: Method definition include_string(Module, AbstractString) in module Compat at /home/juser/.julia/v0.5/Compat/src/Compat.jl:1494 overwritten in module Compat at /home/juser/.julia/v0.5/Compat/src/Compat.jl:1494.\n",
      "WARNING: Method definition include_string(Module, AbstractString, AbstractString) in module Compat at /home/juser/.julia/v0.5/Compat/src/Compat.jl:1494 overwritten in module Compat at /home/juser/.julia/v0.5/Compat/src/Compat.jl:1494.\n",
      "WARNING: Method definition isnull(Any) in module Compat at /home/juser/.julia/v0.5/Compat/src/Compat.jl:1137 overwritten in module Compat at /home/juser/.julia/v0.5/Compat/src/Compat.jl:1137.\n",
      "WARNING: Method definition zeros(AbstractArray) in module Compat at /home/juser/.julia/v0.5/Compat/src/Compat.jl:1440 overwritten in module Compat at /home/juser/.julia/v0.5/Compat/src/Compat.jl:1440.\n",
      "WARNING: Method definition zeros(AbstractArray, Type) in module Compat at /home/juser/.julia/v0.5/Compat/src/Compat.jl:1440 overwritten in module Compat at /home/juser/.julia/v0.5/Compat/src/Compat.jl:1440.\n",
      "WARNING: Method definition zeros(AbstractArray, Type, Tuple) in module Compat at /home/juser/.julia/v0.5/Compat/src/Compat.jl:1438 overwritten in module Compat at /home/juser/.julia/v0.5/Compat/src/Compat.jl:1438.\n",
      "WARNING: Method definition zeros(AbstractArray, Type, Any...) in module Compat at /home/juser/.julia/v0.5/Compat/src/Compat.jl:1439 overwritten in module Compat at /home/juser/.julia/v0.5/Compat/src/Compat.jl:1439.\n",
      "WARNING: Method definition isassigned(Main.Base.RefValue) in module Compat at /home/juser/.julia/v0.5/Compat/src/Compat.jl:1465 overwritten in module Compat at /home/juser/.julia/v0.5/Compat/src/Compat.jl:1465.\n",
      "WARNING: Method definition take!(Task) in module Compat at /home/juser/.julia/v0.5/Compat/src/Compat.jl:53 overwritten in module Compat at /home/juser/.julia/v0.5/Compat/src/Compat.jl:53.\n",
      "WARNING: Method definition take!(Main.Base.AbstractIOBuffer) in module Compat at /home/juser/.julia/v0.5/Compat/src/Compat.jl:1172 overwritten in module Compat at /home/juser/.julia/v0.5/Compat/src/Compat.jl:1172.\n",
      "WARNING: Method definition sort(Main.Base.Dict) in module DataStructures at /home/juser/.julia/v0.5/DataStructures/src/dict_sorting.jl:27 overwritten in module DataStructures at /home/juser/.julia/v0.5/DataStructures/src/dict_sorting.jl:27.\n",
      "WARNING: Method definition #sort(Array{Any, 1}, Main.Base.#sort, Main.Base.Dict) in module DataStructures overwritten in module DataStructures.\n",
      "WARNING: Method definition #stdm(Array{Any, 1}, Main.Base.#stdm, AbstractArray{T<:Real, N<:Any}, AbstractArray{T<:Real, N<:Any}, Int64) in module StatsBase overwritten in module StatsBase.\n",
      "WARNING: Method definition stdm(AbstractArray{T<:Real, N<:Any}, AbstractArray{T<:Real, N<:Any}, Int64) in module StatsBase at /home/juser/.julia/v0.5/StatsBase/src/moments.jl:153 overwritten in module StatsBase at /home/juser/.julia/v0.5/StatsBase/src/moments.jl:153.\n",
      "WARNING: Method definition quantile(AbstractArray{#T<:Real, N<:Any}) in module StatsBase at /home/juser/.julia/v0.5/StatsBase/src/scalarstats.jl:213 overwritten in module StatsBase at /home/juser/.julia/v0.5/StatsBase/src/scalarstats.jl:213.\n",
      "WARNING: Method definition isvalid(Array{Char, 1}) in module LegacyStrings at /home/juser/.julia/v0.5/LegacyStrings/src/utf32.jl:194 overwritten in module LegacyStrings at /home/juser/.julia/v0.5/LegacyStrings/src/utf32.jl:194.\n",
      "WARNING: Method definition convert(Type{#T<:AbstractString}, AbstractArray{#S<:Union{Char, Int32, UInt32}, 1}) in module LegacyStrings at /home/juser/.julia/v0.5/LegacyStrings/src/utf32.jl:133 overwritten in module LegacyStrings at /home/juser/.julia/v0.5/LegacyStrings/src/utf32.jl:133.\n",
      "WARNING: Method definition ismatch(Main.Base.Range{#R<:Number}, Number) in module Match at /home/juser/.julia/v0.5/Match/src/matchutils.jl:8 overwritten in module Match at /home/juser/.julia/v0.5/Match/src/matchutils.jl:8.\n",
      "WARNING: Method definition ismatch(Main.Base.Range{#T<:Any}, #T<:Any) in module Match at /home/juser/.julia/v0.5/Match/src/matchutils.jl:9 overwritten in module Match at /home/juser/.julia/v0.5/Match/src/matchutils.jl:9.\n",
      "WARNING: Method definition ismatch(Char, Number) in module Match at /home/juser/.julia/v0.5/Match/src/matchutils.jl:10 overwritten in module Match at /home/juser/.julia/v0.5/Match/src/matchutils.jl:10.\n",
      "WARNING: Method definition ismatch(Number, Char) in module Match at /home/juser/.julia/v0.5/Match/src/matchutils.jl:11 overwritten in module Match at /home/juser/.julia/v0.5/Match/src/matchutils.jl:11.\n",
      "WARNING: Method definition ismatch(Any, Any) in module Match at /home/juser/.julia/v0.5/Match/src/matchutils.jl:12 overwritten in module Match at /home/juser/.julia/v0.5/Match/src/matchutils.jl:12.\n"
     ]
    },
    {
     "data": {
      "text/plain": [
       "plot_outputs_Plots (generic function with 1 method)"
      ]
     },
     "execution_count": 11,
     "metadata": {},
     "output_type": "execute_result"
    }
   ],
   "source": [
    "using StatsBase\n",
    "using JLD  \n",
    "include(\"../src/BigRidge.jl\")"
   ]
  },
  {
   "cell_type": "code",
   "execution_count": 12,
   "metadata": {
    "collapsed": true
   },
   "outputs": [],
   "source": [
    "\n",
    "\n",
    "#Basic parameters\n",
    "## Basic parameters\n",
    "maxiter=10^8;\n",
    "max_time = 2;\n",
    "max_epocs = 100;\n",
    "printiters = true;\n",
    "exacterror =true; \n",
    "tol = 10.0^(-8.0);\n",
    "restol = 10.0^(-5.0);\n",
    "#tol = 0;\n",
    "#restol = 0;\n",
    "skip_error_calculation = 25;   # number of iterations where error is not calculated (to save time!) ceil((m)^(1/2))"
   ]
  },
  {
   "cell_type": "code",
   "execution_count": 13,
   "metadata": {
    "collapsed": false
   },
   "outputs": [
    {
     "name": "stdout",
     "output_type": "stream",
     "text": [
      "../data/a9a.jld\n"
     ]
    }
   ],
   "source": [
    "dataset = \"a9a\"\n",
    "prob = defineProb(dataset);"
   ]
  },
  {
   "cell_type": "code",
   "execution_count": 14,
   "metadata": {
    "collapsed": false
   },
   "outputs": [],
   "source": [
    "options = MyOptions(0,\"uni\",tol,restol,maxiter,skip_error_calculation,max_time,printiters,exacterror,[]) \n",
    "OUTPUTS = [];"
   ]
  },
  {
   "cell_type": "code",
   "execution_count": 17,
   "metadata": {
    "collapsed": false
   },
   "outputs": [
    {
     "name": "stdout",
     "output_type": "stream",
     "text": [
      "countmin\n",
      "-------------------\n",
      "It   | Error% | Residual |  Time   \n",
      "-------------------\n",
      " 25  | 52.95  |  7.48  | 0.0362 \n",
      " 50  | 50.78  |  7.10  | 0.0583 \n",
      " 75  | 51.48  |  6.54  | 0.0751 \n",
      "100  | 51.32  |  6.03  | 0.0917 \n",
      "125  | 51.36  |  6.10  | 0.1104 \n",
      "150  | 51.38  |  6.06  | 0.1270 \n",
      "175  | 51.47  |  5.65  | 0.1464 \n",
      "200  | 50.88  |  5.67  | 0.1654 \n",
      "225  | 50.91  |  5.44  | 0.1824 \n",
      "250  | 51.11  |  5.58  | 0.1989 \n",
      "275  | 51.03  |  5.41  | 0.2154 \n",
      "300  | 50.94  |  5.22  | 0.2320 \n",
      "325  | 50.90  |  4.96  | 0.2489 \n",
      "350  | 50.51  |  4.77  | 0.2680 \n",
      "375  | 50.23  |  4.74  | 0.2848 \n",
      "400  | 50.39  |  4.77  | 0.3011 \n",
      "425  | 50.33  |  4.83  | 0.3174 \n",
      "450  | 50.21  |  4.76  | 0.3335 \n",
      "475  | 50.02  |  4.68  | 0.3498 \n",
      "500  | 50.40  |  4.79  | 0.3663 \n",
      "525  | 50.31  |  4.90  | 0.3854 \n",
      "550  | 50.10  |  4.58  | 0.4019 \n",
      "575  | 50.06  |  4.59  | 0.4185 \n",
      "600  | 50.03  |  4.59  | 0.4376 \n",
      "625  | 50.02  |  4.63  | 0.4539 \n",
      "650  | 49.98  |  4.59  | 0.4703 \n",
      "675  | 49.78  |  4.66  | 0.4864 \n",
      "700  | 49.74  |  4.74  | 0.5026 \n",
      "725  | 49.57  |  4.75  | 0.5191 \n",
      "750  | 49.61  |  4.69  | 0.5356 \n",
      "775  | 49.47  |  4.68  | 0.5523 \n",
      "800  | 49.44  |  4.75  | 0.5693 \n",
      "825  | 49.46  |  4.86  | 0.5856 \n",
      "850  | 49.22  |  5.05  | 0.6042 \n",
      "875  | 49.11  |  4.86  | 0.6206 \n",
      "900  | 49.03  |  4.95  | 0.6370 \n",
      "925  | 48.93  |  5.02  | 0.6533 \n",
      "950  | 48.74  |  5.18  | 0.6696 \n",
      "975  | 48.67  |  5.19  | 0.6859 \n",
      "1000  | 48.79  |  4.92  | 0.7024 \n",
      "1025  | 48.85  |  4.84  | 0.7188 \n",
      "1050  | 48.68  |  4.79  | 0.7358 \n",
      "1075  | 48.72  |  4.67  | 0.7543 \n",
      "1100  | 48.75  |  4.66  | 0.7708 \n",
      "1125  | 48.79  |  4.67  | 0.7874 \n",
      "1150  | 48.69  |  4.59  | 0.8041 \n",
      "1175  | 48.59  |  4.70  | 0.8205 \n",
      "1200  | 48.61  |  4.72  | 0.8371 \n",
      "1225  | 48.57  |  4.96  | 0.8537 \n",
      "1250  | 48.70  |  5.02  | 0.8703 \n",
      "1275  | 48.70  |  5.05  | 0.8866 \n",
      "1300  | 48.55  |  5.23  | 0.9031 \n",
      "1325  | 48.67  |  5.30  | 0.9217 \n",
      "1350  | 48.82  |  5.11  | 0.9382 \n",
      "1375  | 48.93  |  4.86  | 0.9544 \n",
      "1400  | 48.94  |  4.93  | 0.9709 \n",
      "1425  | 48.90  |  5.01  | 0.9905 \n",
      "1450  | 48.82  |  5.13  | 1.0057 \n",
      "1475  | 48.96  |  5.07  | 1.0190 \n",
      "1500  | 48.96  |  5.08  | 1.0318 \n",
      "1525  | 49.05  |  5.06  | 1.0439 \n",
      "1550  | 49.08  |  5.07  | 1.0564 \n",
      "1575  | 49.04  |  4.99  | 1.0712 \n",
      "1600  | 48.89  |  5.08  | 1.0849 \n",
      "1625  | 48.74  |  5.15  | 1.1000 \n",
      "1650  | 48.51  |  5.30  | 1.1159 \n",
      "1675  | 48.57  |  5.25  | 1.1320 \n",
      "1700  | 48.48  |  5.26  | 1.1519 \n",
      "1725  | 48.39  |  5.20  | 1.1725 \n",
      "1750  | 48.43  |  5.20  | 1.1899 \n",
      "1775  | 48.49  |  5.19  | 1.2121 \n",
      "1800  | 48.49  |  5.11  | 1.2305 \n",
      "1825  | 48.40  |  5.07  | 1.2531 \n",
      "1850  | 48.51  |  4.95  | 1.2666 \n",
      "1875  | 48.43  |  5.04  | 1.2795 \n",
      "1900  | 48.41  |  5.08  | 1.2921 \n",
      "1925  | 48.44  |  5.03  | 1.3054 \n",
      "1950  | 48.51  |  4.81  | 1.3189 \n",
      "1975  | 48.54  |  4.67  | 1.3314 \n",
      "2000  | 48.49  |  4.66  | 1.3444 \n",
      "2025  | 48.52  |  4.59  | 1.3613 \n",
      "2050  | 48.54  |  4.53  | 1.3777 \n",
      "2075  | 48.60  |  4.58  | 1.3904 \n",
      "2100  | 48.59  |  4.57  | 1.4027 \n",
      "2125  | 48.62  |  4.58  | 1.4151 \n",
      "2150  | 48.70  |  4.55  | 1.4340 \n",
      "2175  | 48.68  |  4.49  | 1.4523 \n",
      "2200  | 48.70  |  4.43  | 1.4674 \n",
      "2225  | 48.69  |  4.41  | 1.4820 \n",
      "2250  | 48.55  |  4.39  | 1.4949 \n",
      "2275  | 48.59  |  4.43  | 1.5092 \n",
      "2300  | 48.49  |  4.53  | 1.5241 \n",
      "2325  | 48.42  |  4.56  | 1.5373 \n",
      "2350  | 48.40  |  4.48  | 1.5507 \n",
      "2375  | 48.41  |  4.42  | 1.5641 \n",
      "2400  | 48.38  |  4.37  | 1.5769 \n",
      "2425  | 48.43  |  4.38  | 1.5899 \n",
      "2450  | 48.47  |  4.41  | 1.6028 \n",
      "2475  | 48.54  |  4.40  | 1.6156 \n",
      "2500  | 48.51  |  4.43  | 1.6292 \n",
      "2525  | 48.48  |  4.36  | 1.6416 \n",
      "2550  | 48.46  |  4.33  | 1.6582 \n",
      "2575  | 48.56  |  4.28  | 1.6729 \n",
      "2600  | 48.60  |  4.23  | 1.6870 \n",
      "2625  | 48.63  |  4.26  | 1.7012 \n",
      "2650  | 48.60  |  4.27  | 1.7173 \n",
      "2675  | 48.62  |  4.21  | 1.7338 \n",
      "2700  | 48.62  |  4.18  | 1.7504 \n",
      "2725  | 48.65  |  4.14  | 1.7672 \n",
      "2750  | 48.58  |  4.11  | 1.7838 \n",
      "2775  | 48.63  |  4.09  | 1.8031 \n",
      "2800  | 48.68  |  4.11  | 1.8195 \n",
      "2825  | 48.69  |  4.04  | 1.8361 \n",
      "2850  | 48.74  |  4.02  | 1.8534 \n",
      "2875  | 48.81  |  4.00  | 1.8701 \n",
      "2900  | 48.82  |  3.98  | 1.8866 \n",
      "2925  | 48.76  |  3.89  | 1.9231 \n",
      "2950  | 48.84  |  3.85  | 1.9401 \n",
      "2975  | 48.97  |  3.82  | 1.9570 \n",
      "3000  | 48.99  |  3.83  | 1.9739 \n",
      "3025  | 49.00  |  3.81  | 1.9934 \n",
      "3037  | 49.00  |  3.80  | 2.0003 \n",
      "  2.121414 seconds (7.23 M allocations: 2.863 GB, 14.41% gc time)\n"
     ]
    }
   ],
   "source": [
    "# Testing countmin \n",
    " options.sketchsize =Int(floor((prob.n)^(1/2)));\n",
    "#options.sketchsize = 25;\n",
    " method_name = \"countmin\";# gradient descent\n",
    "\n",
    " @time output= solveRidge(prob, method_name, options);\n",
    " OUTPUTS = [OUTPUTS ; output];"
   ]
  },
  {
   "cell_type": "code",
   "execution_count": 15,
   "metadata": {
    "collapsed": false,
    "scrolled": true
   },
   "outputs": [
    {
     "name": "stdout",
     "output_type": "stream",
     "text": [
      "CG\n",
      "-------------------\n",
      "It   | Error% | Residual |  Time   \n",
      "-------------------\n",
      " 25  | 48.61  |  0.07  | 0.0509 \n",
      " 50  | 48.59  |  0.02  | 0.0518 \n",
      " 75  | 48.59  |  0.00  | 0.0527 \n",
      "100  | 48.59  |  0.00  | 0.0536 \n",
      "125  | 48.59  |  0.00  | 0.0545 \n",
      "150  | 48.59  |  0.00  | 0.0553 \n",
      "175  | 48.59  |  0.00  | 0.0561 \n",
      "200  | 48.59  |  0.00  | 0.0570 \n",
      "225  | 48.59  |  0.00  | 0.0578 \n",
      "250  | 48.59  |  0.00  | 0.0586 \n",
      "  0.569794 seconds (401.37 k allocations: 17.688 MB)\n"
     ]
    }
   ],
   "source": [
    "# Testing CG \n",
    "options.max_time = 2; options.restol = 10.0^(-8); \n",
    "method_name = \"CG\";# gradient descent\n",
    "@time output= solveRidge(prob, method_name, options);\n",
    "OUTPUTS = [OUTPUTS ; output];"
   ]
  },
  {
   "cell_type": "code",
   "execution_count": null,
   "metadata": {
    "collapsed": true
   },
   "outputs": [],
   "source": []
  }
 ],
 "metadata": {
  "kernelspec": {
   "display_name": "Julia 0.5.2",
   "language": "julia",
   "name": "julia-0.5"
  },
  "language_info": {
   "file_extension": ".jl",
   "mimetype": "application/julia",
   "name": "julia",
   "version": "0.5.2"
  }
 },
 "nbformat": 4,
 "nbformat_minor": 2
}
