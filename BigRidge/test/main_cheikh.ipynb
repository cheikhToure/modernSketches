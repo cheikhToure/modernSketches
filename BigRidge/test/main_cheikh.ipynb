{
 "cells": [
  {
   "cell_type": "markdown",
   "metadata": {},
   "source": [
    "The main solving big ridge regression problems"
   ]
  },
  {
   "cell_type": "code",
   "execution_count": 1,
   "metadata": {
    "collapsed": false
   },
   "outputs": [
    {
     "name": "stderr",
     "output_type": "stream",
     "text": [
      "WARNING: Method definition (::Type{Main.Base.LinearIndexing})(Type{#T<:Any}) in module Compat at /home/juser/.julia/v0.5/Compat/src/Compat.jl:1430 overwritten in module Compat at /home/juser/.julia/v0.5/Compat/src/Compat.jl:1430.\n",
      "WARNING: Method definition (::Type{Main.Base.LinearIndexing})(Any...) in module Compat at /home/juser/.julia/v0.5/Compat/src/Compat.jl:1431 overwritten in module Compat at /home/juser/.julia/v0.5/Compat/src/Compat.jl:1431.\n",
      "WARNING: Method definition redirect_stdout(Function, Any) in module Compat at /home/juser/.julia/v0.5/Compat/src/Compat.jl:1057 overwritten in module Compat at /home/juser/.julia/v0.5/Compat/src/Compat.jl:1057.\n",
      "WARNING: Method definition broadcast(Any, Tuple{Vararg{T<:Any, #N<:Any}}, Tuple{Vararg{T<:Any, #N<:Any}}...) in module Compat at /home/juser/.julia/v0.5/Compat/src/Compat.jl:1122 overwritten in module Compat at /home/juser/.julia/v0.5/Compat/src/Compat.jl:1122.\n",
      "WARNING: Method definition unsafe_trunc(Type{#T<:Integer}, Integer) in module Compat at /home/juser/.julia/v0.5/Compat/src/Compat.jl:1469 overwritten in module Compat at /home/juser/.julia/v0.5/Compat/src/Compat.jl:1469.\n",
      "WARNING: Method definition macroexpand(Module, ANY<:Any) in module Compat at /home/juser/.julia/v0.5/Compat/src/Compat.jl:1491 overwritten in module Compat at /home/juser/.julia/v0.5/Compat/src/Compat.jl:1491.\n",
      "WARNING: Method definition !(Function) in module Compat at /home/juser/.julia/v0.5/Compat/src/Compat.jl:1205 overwritten in module Compat at /home/juser/.julia/v0.5/Compat/src/Compat.jl:1205.\n",
      "WARNING: Method definition isless(Union{Main.Base.Dates.Millisecond, Main.Base.Dates.Minute, Main.Base.Dates.Week, Main.Base.Dates.Second, Main.Base.Dates.Day, Main.Base.Dates.Hour}, Union{Main.Base.Dates.Year, Main.Base.Dates.Month}) in module Compat at /home/juser/.julia/v0.5/Compat/src/Compat.jl:1529 overwritten in module Compat at /home/juser/.julia/v0.5/Compat/src/Compat.jl:1529.\n",
      "WARNING: Method definition isless(Union{Main.Base.Dates.Year, Main.Base.Dates.Month}, Union{Main.Base.Dates.Millisecond, Main.Base.Dates.Minute, Main.Base.Dates.Week, Main.Base.Dates.Second, Main.Base.Dates.Day, Main.Base.Dates.Hour}) in module Compat at /home/juser/.julia/v0.5/Compat/src/Compat.jl:1530 overwritten in module Compat at /home/juser/.julia/v0.5/Compat/src/Compat.jl:1530.\n",
      "WARNING: Method definition isless(Main.Base.Dates.Period, Main.Base.Dates.Period) in module Compat at /home/juser/.julia/v0.5/Compat/src/Compat.jl:1524 overwritten in module Compat at /home/juser/.julia/v0.5/Compat/src/Compat.jl:1524.\n",
      "WARNING: Method definition expand(Module, ANY<:Any) in module Compat at /home/juser/.julia/v0.5/Compat/src/Compat.jl:1490 overwritten in module Compat at /home/juser/.julia/v0.5/Compat/src/Compat.jl:1490.\n",
      "WARNING: Method definition redirect_stderr(Function, Any) in module Compat at /home/juser/.julia/v0.5/Compat/src/Compat.jl:1057 overwritten in module Compat at /home/juser/.julia/v0.5/Compat/src/Compat.jl:1057.\n",
      "WARNING: Method definition ones(AbstractArray) in module Compat at /home/juser/.julia/v0.5/Compat/src/Compat.jl:1440 overwritten in module Compat at /home/juser/.julia/v0.5/Compat/src/Compat.jl:1440.\n",
      "WARNING: Method definition ones(AbstractArray, Type) in module Compat at /home/juser/.julia/v0.5/Compat/src/Compat.jl:1440 overwritten in module Compat at /home/juser/.julia/v0.5/Compat/src/Compat.jl:1440.\n",
      "WARNING: Method definition ones(AbstractArray, Type, Tuple) in module Compat at /home/juser/.julia/v0.5/Compat/src/Compat.jl:1438 overwritten in module Compat at /home/juser/.julia/v0.5/Compat/src/Compat.jl:1438.\n",
      "WARNING: Method definition ones(AbstractArray, Type, Any...) in module Compat at /home/juser/.julia/v0.5/Compat/src/Compat.jl:1439 overwritten in module Compat at /home/juser/.julia/v0.5/Compat/src/Compat.jl:1439.\n",
      "WARNING: Method definition bswap(Main.Base.Complex) in module Compat at /home/juser/.julia/v0.5/Compat/src/Compat.jl:1474 overwritten in module Compat at /home/juser/.julia/v0.5/Compat/src/Compat.jl:1474.\n",
      "WARNING: Method definition convert(Type{Main.Base.Set{#T<:Any}}, Main.Base.Set{#T<:Any}) in module Compat at /home/juser/.julia/v0.5/Compat/src/Compat.jl:1459 overwritten in module Compat at /home/juser/.julia/v0.5/Compat/src/Compat.jl:1459.\n",
      "WARNING: Method definition convert(Type{Main.Base.Set{#T<:Any}}, Main.Base.Set) in module Compat at /home/juser/.julia/v0.5/Compat/src/Compat.jl:1460 overwritten in module Compat at /home/juser/.julia/v0.5/Compat/src/Compat.jl:1460.\n",
      "WARNING: Method definition redirect_stdin(Function, Any) in module Compat at /home/juser/.julia/v0.5/Compat/src/Compat.jl:1057 overwritten in module Compat at /home/juser/.julia/v0.5/Compat/src/Compat.jl:1057.\n",
      "WARNING: Method definition ==(Union{Main.Base.Dates.Millisecond, Main.Base.Dates.Minute, Main.Base.Dates.Week, Main.Base.Dates.Second, Main.Base.Dates.Day, Main.Base.Dates.Hour}, Union{Main.Base.Dates.Year, Main.Base.Dates.Month}) in module Compat at /home/juser/.julia/v0.5/Compat/src/Compat.jl:1527 overwritten in module Compat at /home/juser/.julia/v0.5/Compat/src/Compat.jl:1527.\n",
      "WARNING: Method definition ==(Union{Main.Base.Dates.Year, Main.Base.Dates.Month}, Union{Main.Base.Dates.Millisecond, Main.Base.Dates.Minute, Main.Base.Dates.Week, Main.Base.Dates.Second, Main.Base.Dates.Day, Main.Base.Dates.Hour}) in module Compat at /home/juser/.julia/v0.5/Compat/src/Compat.jl:1528 overwritten in module Compat at /home/juser/.julia/v0.5/Compat/src/Compat.jl:1528.\n",
      "WARNING: Method definition ==(Main.Base.Dates.Period, Main.Base.Dates.Period) in module Compat at /home/juser/.julia/v0.5/Compat/src/Compat.jl:1523 overwritten in module Compat at /home/juser/.julia/v0.5/Compat/src/Compat.jl:1523.\n",
      "WARNING: Method definition include_string(Module, String, String) in module Compat at /home/juser/.julia/v0.5/Compat/src/Compat.jl:1492 overwritten in module Compat at /home/juser/.julia/v0.5/Compat/src/Compat.jl:1492.\n",
      "WARNING: Method definition include_string(Module, AbstractString) in module Compat at /home/juser/.julia/v0.5/Compat/src/Compat.jl:1494 overwritten in module Compat at /home/juser/.julia/v0.5/Compat/src/Compat.jl:1494.\n",
      "WARNING: Method definition include_string(Module, AbstractString, AbstractString) in module Compat at /home/juser/.julia/v0.5/Compat/src/Compat.jl:1494 overwritten in module Compat at /home/juser/.julia/v0.5/Compat/src/Compat.jl:1494.\n",
      "WARNING: Method definition isnull(Any) in module Compat at /home/juser/.julia/v0.5/Compat/src/Compat.jl:1137 overwritten in module Compat at /home/juser/.julia/v0.5/Compat/src/Compat.jl:1137.\n",
      "WARNING: Method definition zeros(AbstractArray) in module Compat at /home/juser/.julia/v0.5/Compat/src/Compat.jl:1440 overwritten in module Compat at /home/juser/.julia/v0.5/Compat/src/Compat.jl:1440.\n",
      "WARNING: Method definition zeros(AbstractArray, Type) in module Compat at /home/juser/.julia/v0.5/Compat/src/Compat.jl:1440 overwritten in module Compat at /home/juser/.julia/v0.5/Compat/src/Compat.jl:1440.\n",
      "WARNING: Method definition zeros(AbstractArray, Type, Tuple) in module Compat at /home/juser/.julia/v0.5/Compat/src/Compat.jl:1438 overwritten in module Compat at /home/juser/.julia/v0.5/Compat/src/Compat.jl:1438.\n",
      "WARNING: Method definition zeros(AbstractArray, Type, Any...) in module Compat at /home/juser/.julia/v0.5/Compat/src/Compat.jl:1439 overwritten in module Compat at /home/juser/.julia/v0.5/Compat/src/Compat.jl:1439.\n",
      "WARNING: Method definition isassigned(Main.Base.RefValue) in module Compat at /home/juser/.julia/v0.5/Compat/src/Compat.jl:1465 overwritten in module Compat at /home/juser/.julia/v0.5/Compat/src/Compat.jl:1465.\n",
      "WARNING: Method definition take!(Task) in module Compat at /home/juser/.julia/v0.5/Compat/src/Compat.jl:53 overwritten in module Compat at /home/juser/.julia/v0.5/Compat/src/Compat.jl:53.\n",
      "WARNING: Method definition take!(Main.Base.AbstractIOBuffer) in module Compat at /home/juser/.julia/v0.5/Compat/src/Compat.jl:1172 overwritten in module Compat at /home/juser/.julia/v0.5/Compat/src/Compat.jl:1172.\n"
     ]
    }
   ],
   "source": [
    "workspace()\n",
    "using Plots"
   ]
  },
  {
   "cell_type": "code",
   "execution_count": 2,
   "metadata": {
    "collapsed": false
   },
   "outputs": [
    {
     "data": {
      "text/plain": [
       "plot_outputs_Plots (generic function with 1 method)"
      ]
     },
     "execution_count": 2,
     "metadata": {},
     "output_type": "execute_result"
    }
   ],
   "source": [
    "using StatsBase\n",
    "using JLD  \n",
    "include(\"../src/BigRidge.jl\")"
   ]
  },
  {
   "cell_type": "code",
   "execution_count": 3,
   "metadata": {
    "collapsed": true
   },
   "outputs": [],
   "source": [
    "#Basic parameters\n",
    "## Basic parameters\n",
    "maxiter=10^8;\n",
    "max_time = 350;\n",
    "max_epocs = 6;\n",
    "printiters = true;\n",
    "exacterror =true; \n",
    "tol = 10.0^(-3.0);\n",
    "restol = 10.0^(-4.0);\n",
    "skip_error_calculation = 25;   # number of iterations where error is not calculated (to save time!) ceil((m)^(1/2))\n",
    "dataset = \"w8a\""
   ]
  },
  {
   "cell_type": "code",
   "execution_count": 4,
   "metadata": {
    "collapsed": false
   },
   "outputs": [],
   "source": [
    "options = MyOptions(0,\"uni\",tol,restol,maxiter,skip_error_calculation,max_time,printiters,exacterror) \n",
    "OUTPUTS = [];"
   ]
  },
  {
   "cell_type": "code",
   "execution_count": 5,
   "metadata": {
    "collapsed": false
   },
   "outputs": [
    {
     "name": "stdout",
     "output_type": "stream",
     "text": [
      "../data/w8a.jld\n",
      "CG\n",
      "-------------------\n",
      "It   | Error% | Residual |  Time   \n",
      "-------------------\n",
      " 25  | 52.65  |  0.24  | 0.2780 \n",
      " 50  | 36.20  |  0.06  | 0.2791 \n",
      " 75  | 27.95  |  0.03  | 0.2802 \n",
      "100  | 16.06  |  0.02  | 0.2877 \n",
      "125  | 12.24  |  0.02  | 0.2882 \n",
      "150  | 8.08  |  0.01  | 0.2887 \n",
      "175  | 5.38  |  0.01  | 0.2892 \n",
      "200  | 2.19  |  0.01  | 0.2897 \n",
      "225  | 1.32  |  0.00  | 0.2902 \n",
      "250  | 0.85  |  0.00  | 0.2906 \n",
      "275  | 0.47  |  0.00  | 0.2912 \n",
      "300  | 0.18  |  0.00  | 0.2918 \n",
      "325  | 0.10  |  0.00  | 0.2923 \n"
     ]
    }
   ],
   "source": [
    "# Testing CG \n",
    "\n",
    "prob = defineProb(dataset,\"CG\");\n",
    "\n",
    "options.max_time = 2; options.restol = 10.0^(-8); \n",
    "method_name = \"CG\";# gradient descent\n",
    "output= solveRidge(prob, method_name, options);\n",
    "OUTPUTS = [OUTPUTS ; output];"
   ]
  },
  {
   "cell_type": "code",
   "execution_count": 6,
   "metadata": {
    "collapsed": false
   },
   "outputs": [
    {
     "name": "stdout",
     "output_type": "stream",
     "text": [
      "../data/w8a.jld\n",
      "grad\n",
      "-------------------\n",
      "It   | Error% | Residual |  Time   \n",
      "-------------------\n",
      " 25  | 94.99  |  0.92  | 0.0410 \n",
      " 50  | 92.02  |  1.60  | 0.0473 \n",
      " 75  | 89.66  |  0.48  | 0.0506 \n",
      "100  | 87.45  |  1.08  | 0.0541 \n",
      "125  | 85.57  |  0.36  | 0.0597 \n",
      "150  | 83.73  |  0.86  | 0.0743 \n",
      "175  | 82.12  |  0.29  | 0.0770 \n",
      "200  | 80.52  |  0.72  | 0.0787 \n",
      "225  | 79.11  |  0.25  | 0.0896 \n",
      "250  | 77.69  |  0.63  | 0.0937 \n",
      "275  | 76.43  |  0.22  | 0.0967 \n",
      "300  | 75.16  |  0.56  | 0.0997 \n",
      "325  | 74.01  |  0.20  | 0.1036 \n",
      "350  | 72.86  |  0.51  | 0.1065 \n",
      "375  | 71.81  |  0.18  | 0.1093 \n",
      "400  | 70.76  |  0.47  | 0.1121 \n",
      "425  | 69.80  |  0.17  | 0.1148 \n",
      "450  | 68.83  |  0.43  | 0.1176 \n",
      "475  | 67.95  |  0.16  | 0.1205 \n",
      "500  | 67.05  |  0.40  | 0.1233 \n",
      "525  | 66.24  |  0.15  | 0.1261 \n",
      "550  | 65.41  |  0.37  | 0.1288 \n",
      "575  | 64.66  |  0.14  | 0.1318 \n",
      "600  | 63.89  |  0.35  | 0.1387 \n",
      "625  | 63.19  |  0.13  | 0.1420 \n",
      "650  | 62.48  |  0.33  | 0.1449 \n",
      "675  | 61.82  |  0.12  | 0.1475 \n",
      "700  | 61.16  |  0.31  | 0.1501 \n",
      "725  | 60.55  |  0.11  | 0.1528 \n",
      "750  | 59.93  |  0.29  | 0.1554 \n",
      "775  | 59.36  |  0.11  | 0.1593 \n",
      "800  | 58.78  |  0.27  | 0.1621 \n",
      "825  | 58.24  |  0.10  | 0.1647 \n",
      "850  | 57.70  |  0.26  | 0.1675 \n",
      "875  | 57.20  |  0.09  | 0.1714 \n",
      "900  | 56.68  |  0.24  | 0.1727 \n",
      "925  | 56.22  |  0.09  | 0.1740 \n",
      "950  | 55.73  |  0.23  | 0.1753 \n",
      "975  | 55.29  |  0.08  | 0.1766 \n",
      "1000  | 54.84  |  0.22  | 0.1793 \n"
     ]
    }
   ],
   "source": [
    "# Testing grad descent\n",
    "\n",
    "prob = defineProb(dataset,\"grad\");\n",
    "\n",
    "options.max_time = 2; options.restol = 10.0^(-8); options.maxiter=1000;\n",
    "method_name = \"grad\";# gradient descent\n",
    "output= solveRidge(prob, method_name, options);\n",
    "OUTPUTS = [OUTPUTS ; output];"
   ]
  },
  {
   "cell_type": "code",
   "execution_count": 7,
   "metadata": {
    "collapsed": false
   },
   "outputs": [
    {
     "name": "stdout",
     "output_type": "stream",
     "text": [
      "../data/w8a.jld\n",
      "CD\n",
      "-------------------\n",
      "It   | Error% | Residual |  Time   \n",
      "-------------------\n",
      " 25  | 82.25  |  4.43  | 0.4416 \n",
      " 50  | 68.42  |  2.74  | 0.4804 \n",
      " 75  | 53.77  |  1.31  | 0.4819 \n",
      "100  | 49.71  |  0.45  | 0.4833 \n",
      "125  | 43.97  |  0.30  | 0.4852 \n",
      "150  | 41.60  |  0.24  | 0.4866 \n",
      "175  | 39.24  |  0.11  | 0.4879 \n",
      "200  | 37.37  |  0.07  | 0.4894 \n",
      "225  | 33.49  |  0.05  | 0.4909 \n",
      "250  | 32.09  |  0.04  | 0.4923 \n",
      "275  | 12.98  |  0.03  | 0.4937 \n",
      "300  | 11.93  |  0.02  | 0.4954 \n",
      "325  | 10.38  |  0.02  | 0.4968 \n",
      "350  | 8.30  |  0.01  | 0.5043 \n",
      "375  | 7.60  |  0.01  | 0.5057 \n",
      "400  | 6.58  |  0.01  | 0.5071 \n",
      "425  | 6.39  |  0.01  | 0.5085 \n",
      "450  | 6.06  |  0.00  | 0.5099 \n",
      "475  | 5.88  |  0.00  | 0.5113 \n",
      "500  | 5.69  |  0.00  | 0.5127 \n",
      "525  | 5.62  |  0.00  | 0.5142 \n",
      "550  | 5.60  |  0.00  | 0.5155 \n",
      "575  | 5.57  |  0.00  | 0.5169 \n",
      "600  | 5.53  |  0.00  | 0.5183 \n"
     ]
    }
   ],
   "source": [
    "# Testing CD \n",
    "\n",
    "prob = defineProb(dataset,\"CD\");\n",
    "\n",
    "options.max_time = 2; options.restol = 10.0^(-8); options.maxiter=600;\n",
    "method_name = \"CD\";# gradient descent\n",
    "options.sketchsize = floor((prob.n)^(1/2));\n",
    "output= solveRidge(prob, method_name, options);\n",
    "OUTPUTS = [OUTPUTS ; output];"
   ]
  },
  {
   "cell_type": "code",
   "execution_count": 8,
   "metadata": {
    "collapsed": false
   },
   "outputs": [
    {
     "name": "stdout",
     "output_type": "stream",
     "text": [
      "../data/w8a.jld\n",
      "Hadamard\n",
      "-------------------\n",
      "It   | Error% | Residual |  Time   \n",
      "-------------------\n",
      " 25  | 98.69  |  2.91  | 2.8183 \n",
      " 50  | 98.42  |  2.43  | 4.5891 \n",
      " 75  | 98.25  |  1.98  | 6.3113 \n",
      "100  | 98.13  |  1.85  | 8.2105 \n",
      "125  | 98.04  |  1.68  | 9.9722 \n",
      "150  | 97.95  |  1.72  | 11.8385 \n",
      "175  | 97.86  |  1.34  | 13.6904 \n",
      "200  | 97.80  |  1.43  | 16.0663 \n",
      "225  | 97.75  |  1.82  | 18.5190 \n",
      "250  | 97.70  |  1.34  | 20.3936 \n",
      "275  | 97.65  |  1.46  | 22.3097 \n",
      "300  | 97.60  |  1.19  | 24.2999 \n",
      "325  | 97.56  |  1.28  | 26.0348 \n",
      "350  | 97.50  |  1.44  | 27.8932 \n",
      "375  | 97.44  |  1.58  | 29.6802 \n",
      "400  | 97.40  |  1.15  | 31.4911 \n",
      "425  | 97.35  |  1.96  | 33.2073 \n",
      "450  | 97.31  |  1.20  | 35.0437 \n",
      "475  | 97.27  |  1.24  | 36.9110 \n",
      "500  | 97.23  |  1.90  | 38.9238 \n",
      "525  | 97.20  |  1.20  | 40.7251 \n",
      "550  | 97.17  |  1.38  | 42.5810 \n",
      "575  | 97.13  |  1.34  | 44.3020 \n",
      "600  | 97.10  |  1.66  | 46.1774 \n"
     ]
    }
   ],
   "source": [
    "# Testing Hadamard sketch\n",
    "\n",
    "prob = defineProb(dataset,\"Hadamard\");\n",
    "\n",
    "options.max_time = 60; options.restol = 10.0^(-8); options.maxiter=600;\n",
    "method_name = \"Hadamard\";# ROS\n",
    "options.sketchsize = Int(floor(log2(prob.n)));\n",
    "\n",
    "output= solveRidge(prob, method_name, options);\n",
    "OUTPUTS = [OUTPUTS ; output];"
   ]
  },
  {
   "cell_type": "code",
   "execution_count": 9,
   "metadata": {
    "collapsed": true
   },
   "outputs": [],
   "source": [
    "savename = replace(prob.name, r\"[\\/]\", \"-\");\n",
    "save(\"../data/$(savename)-OUTPUTS.jld\", \"OUTPUTS\", OUTPUTS)"
   ]
  },
  {
   "cell_type": "code",
   "execution_count": 10,
   "metadata": {
    "collapsed": false
   },
   "outputs": [
    {
     "name": "stdout",
     "output_type": "stream",
     "text": [
      "w8a\n"
     ]
    },
    {
     "name": "stderr",
     "output_type": "stream",
     "text": [
      "WARNING: Method definition describe(AbstractArray) in module StatsBase at /home/juser/.julia/v0.5/StatsBase/src/scalarstats.jl:573 overwritten in module DataFrames at /home/juser/.julia/v0.5/DataFrames/src/abstractdataframe/abstractdataframe.jl:407.\n",
      "WARNING: Method definition macroexpand(Module, Any) in module Compat at /home/juser/.julia/v0.5/Compat/src/Compat.jl:1491 overwritten in module MacroTools at /home/juser/.julia/v0.5/MacroTools/src/utils.jl:64.\n"
     ]
    }
   ],
   "source": [
    "#using GR\n",
    "using Plots\n",
    "pgfplots()\n",
    "plot_outputs_Plots(OUTPUTS,savename)"
   ]
  },
  {
   "cell_type": "code",
   "execution_count": 11,
   "metadata": {
    "collapsed": false
   },
   "outputs": [],
   "source": [
    "# Loading saved problem data\n",
    "probname = \"w8a\"#\"gisette_scale-ridge\";  \n",
    "test = load(\"../data/$(probname)-OUTPUTS.jld\")\n",
    "OUTPUTS = test[\"OUTPUTS\"];\n",
    "# mask = [1,3,5]\n",
    "# OUTPUTS[mask]"
   ]
  },
  {
   "cell_type": "code",
   "execution_count": null,
   "metadata": {
    "collapsed": true
   },
   "outputs": [],
   "source": []
  }
 ],
 "metadata": {
  "anaconda-cloud": {},
  "kernelspec": {
   "display_name": "Julia 0.5.2",
   "language": "julia",
   "name": "julia-0.5"
  },
  "language_info": {
   "file_extension": ".jl",
   "mimetype": "application/julia",
   "name": "julia",
   "version": "0.5.2"
  }
 },
 "nbformat": 4,
 "nbformat_minor": 1
}
