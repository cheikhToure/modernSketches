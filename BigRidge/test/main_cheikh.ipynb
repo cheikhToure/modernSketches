{
 "cells": [
  {
   "cell_type": "code",
   "execution_count": 105,
   "metadata": {
    "collapsed": false
   },
   "outputs": [],
   "source": [
    "workspace()"
   ]
  },
  {
   "cell_type": "code",
   "execution_count": 106,
   "metadata": {
    "collapsed": false
   },
   "outputs": [
    {
     "name": "stderr",
     "output_type": "stream",
     "text": [
      "WARNING: Method definition (::Type{Main.Base.LinearIndexing})(Type{#T<:Any}) in module Compat at /home/juser/.julia/v0.5/Compat/src/Compat.jl:1430 overwritten in module Compat at /home/juser/.julia/v0.5/Compat/src/Compat.jl:1430.\n",
      "WARNING: Method definition (::Type{Main.Base.LinearIndexing})(Any...) in module Compat at /home/juser/.julia/v0.5/Compat/src/Compat.jl:1431 overwritten in module Compat at /home/juser/.julia/v0.5/Compat/src/Compat.jl:1431.\n",
      "WARNING: Method definition redirect_stdout(Function, Any) in module Compat at /home/juser/.julia/v0.5/Compat/src/Compat.jl:1057 overwritten in module Compat at /home/juser/.julia/v0.5/Compat/src/Compat.jl:1057.\n",
      "WARNING: Method definition broadcast(Any, Tuple{Vararg{T<:Any, #N<:Any}}, Tuple{Vararg{T<:Any, #N<:Any}}...) in module Compat at /home/juser/.julia/v0.5/Compat/src/Compat.jl:1122 overwritten in module Compat at /home/juser/.julia/v0.5/Compat/src/Compat.jl:1122.\n",
      "WARNING: Method definition unsafe_trunc(Type{#T<:Integer}, Integer) in module Compat at /home/juser/.julia/v0.5/Compat/src/Compat.jl:1469 overwritten in module Compat at /home/juser/.julia/v0.5/Compat/src/Compat.jl:1469.\n",
      "WARNING: Method definition macroexpand(Module, ANY<:Any) in module Compat at /home/juser/.julia/v0.5/Compat/src/Compat.jl:1491 overwritten in module Compat at /home/juser/.julia/v0.5/Compat/src/Compat.jl:1491.\n",
      "WARNING: Method definition !(Function) in module Compat at /home/juser/.julia/v0.5/Compat/src/Compat.jl:1205 overwritten in module Compat at /home/juser/.julia/v0.5/Compat/src/Compat.jl:1205.\n",
      "WARNING: Method definition isless(Union{Main.Base.Dates.Millisecond, Main.Base.Dates.Minute, Main.Base.Dates.Week, Main.Base.Dates.Second, Main.Base.Dates.Day, Main.Base.Dates.Hour}, Union{Main.Base.Dates.Year, Main.Base.Dates.Month}) in module Compat at /home/juser/.julia/v0.5/Compat/src/Compat.jl:1529 overwritten in module Compat at /home/juser/.julia/v0.5/Compat/src/Compat.jl:1529.\n",
      "WARNING: Method definition isless(Union{Main.Base.Dates.Year, Main.Base.Dates.Month}, Union{Main.Base.Dates.Millisecond, Main.Base.Dates.Minute, Main.Base.Dates.Week, Main.Base.Dates.Second, Main.Base.Dates.Day, Main.Base.Dates.Hour}) in module Compat at /home/juser/.julia/v0.5/Compat/src/Compat.jl:1530 overwritten in module Compat at /home/juser/.julia/v0.5/Compat/src/Compat.jl:1530.\n",
      "WARNING: Method definition isless(Main.Base.Dates.Period, Main.Base.Dates.Period) in module Compat at /home/juser/.julia/v0.5/Compat/src/Compat.jl:1524 overwritten in module Compat at /home/juser/.julia/v0.5/Compat/src/Compat.jl:1524.\n",
      "WARNING: Method definition expand(Module, ANY<:Any) in module Compat at /home/juser/.julia/v0.5/Compat/src/Compat.jl:1490 overwritten in module Compat at /home/juser/.julia/v0.5/Compat/src/Compat.jl:1490.\n",
      "WARNING: Method definition redirect_stderr(Function, Any) in module Compat at /home/juser/.julia/v0.5/Compat/src/Compat.jl:1057 overwritten in module Compat at /home/juser/.julia/v0.5/Compat/src/Compat.jl:1057.\n",
      "WARNING: Method definition ones(AbstractArray) in module Compat at /home/juser/.julia/v0.5/Compat/src/Compat.jl:1440 overwritten in module Compat at /home/juser/.julia/v0.5/Compat/src/Compat.jl:1440.\n",
      "WARNING: Method definition ones(AbstractArray, Type) in module Compat at /home/juser/.julia/v0.5/Compat/src/Compat.jl:1440 overwritten in module Compat at /home/juser/.julia/v0.5/Compat/src/Compat.jl:1440.\n",
      "WARNING: Method definition ones(AbstractArray, Type, Tuple) in module Compat at /home/juser/.julia/v0.5/Compat/src/Compat.jl:1438 overwritten in module Compat at /home/juser/.julia/v0.5/Compat/src/Compat.jl:1438.\n",
      "WARNING: Method definition ones(AbstractArray, Type, Any...) in module Compat at /home/juser/.julia/v0.5/Compat/src/Compat.jl:1439 overwritten in module Compat at /home/juser/.julia/v0.5/Compat/src/Compat.jl:1439.\n",
      "WARNING: Method definition bswap(Main.Base.Complex) in module Compat at /home/juser/.julia/v0.5/Compat/src/Compat.jl:1474 overwritten in module Compat at /home/juser/.julia/v0.5/Compat/src/Compat.jl:1474.\n",
      "WARNING: Method definition convert(Type{Main.Base.Set{#T<:Any}}, Main.Base.Set{#T<:Any}) in module Compat at /home/juser/.julia/v0.5/Compat/src/Compat.jl:1459 overwritten in module Compat at /home/juser/.julia/v0.5/Compat/src/Compat.jl:1459.\n",
      "WARNING: Method definition convert(Type{Main.Base.Set{#T<:Any}}, Main.Base.Set) in module Compat at /home/juser/.julia/v0.5/Compat/src/Compat.jl:1460 overwritten in module Compat at /home/juser/.julia/v0.5/Compat/src/Compat.jl:1460.\n",
      "WARNING: Method definition redirect_stdin(Function, Any) in module Compat at /home/juser/.julia/v0.5/Compat/src/Compat.jl:1057 overwritten in module Compat at /home/juser/.julia/v0.5/Compat/src/Compat.jl:1057.\n",
      "WARNING: Method definition ==(Union{Main.Base.Dates.Millisecond, Main.Base.Dates.Minute, Main.Base.Dates.Week, Main.Base.Dates.Second, Main.Base.Dates.Day, Main.Base.Dates.Hour}, Union{Main.Base.Dates.Year, Main.Base.Dates.Month}) in module Compat at /home/juser/.julia/v0.5/Compat/src/Compat.jl:1527 overwritten in module Compat at /home/juser/.julia/v0.5/Compat/src/Compat.jl:1527.\n",
      "WARNING: Method definition ==(Union{Main.Base.Dates.Year, Main.Base.Dates.Month}, Union{Main.Base.Dates.Millisecond, Main.Base.Dates.Minute, Main.Base.Dates.Week, Main.Base.Dates.Second, Main.Base.Dates.Day, Main.Base.Dates.Hour}) in module Compat at /home/juser/.julia/v0.5/Compat/src/Compat.jl:1528 overwritten in module Compat at /home/juser/.julia/v0.5/Compat/src/Compat.jl:1528.\n",
      "WARNING: Method definition ==(Main.Base.Dates.Period, Main.Base.Dates.Period) in module Compat at /home/juser/.julia/v0.5/Compat/src/Compat.jl:1523 overwritten in module Compat at /home/juser/.julia/v0.5/Compat/src/Compat.jl:1523.\n",
      "WARNING: Method definition include_string(Module, String, String) in module Compat at /home/juser/.julia/v0.5/Compat/src/Compat.jl:1492 overwritten in module Compat at /home/juser/.julia/v0.5/Compat/src/Compat.jl:1492.\n",
      "WARNING: Method definition include_string(Module, AbstractString) in module Compat at /home/juser/.julia/v0.5/Compat/src/Compat.jl:1494 overwritten in module Compat at /home/juser/.julia/v0.5/Compat/src/Compat.jl:1494.\n",
      "WARNING: Method definition include_string(Module, AbstractString, AbstractString) in module Compat at /home/juser/.julia/v0.5/Compat/src/Compat.jl:1494 overwritten in module Compat at /home/juser/.julia/v0.5/Compat/src/Compat.jl:1494.\n",
      "WARNING: Method definition isnull(Any) in module Compat at /home/juser/.julia/v0.5/Compat/src/Compat.jl:1137 overwritten in module Compat at /home/juser/.julia/v0.5/Compat/src/Compat.jl:1137.\n",
      "WARNING: Method definition zeros(AbstractArray) in module Compat at /home/juser/.julia/v0.5/Compat/src/Compat.jl:1440 overwritten in module Compat at /home/juser/.julia/v0.5/Compat/src/Compat.jl:1440.\n",
      "WARNING: Method definition zeros(AbstractArray, Type) in module Compat at /home/juser/.julia/v0.5/Compat/src/Compat.jl:1440 overwritten in module Compat at /home/juser/.julia/v0.5/Compat/src/Compat.jl:1440.\n",
      "WARNING: Method definition zeros(AbstractArray, Type, Tuple) in module Compat at /home/juser/.julia/v0.5/Compat/src/Compat.jl:1438 overwritten in module Compat at /home/juser/.julia/v0.5/Compat/src/Compat.jl:1438.\n",
      "WARNING: Method definition zeros(AbstractArray, Type, Any...) in module Compat at /home/juser/.julia/v0.5/Compat/src/Compat.jl:1439 overwritten in module Compat at /home/juser/.julia/v0.5/Compat/src/Compat.jl:1439.\n",
      "WARNING: Method definition isassigned(Main.Base.RefValue) in module Compat at /home/juser/.julia/v0.5/Compat/src/Compat.jl:1465 overwritten in module Compat at /home/juser/.julia/v0.5/Compat/src/Compat.jl:1465.\n",
      "WARNING: Method definition take!(Task) in module Compat at /home/juser/.julia/v0.5/Compat/src/Compat.jl:53 overwritten in module Compat at /home/juser/.julia/v0.5/Compat/src/Compat.jl:53.\n",
      "WARNING: Method definition take!(Main.Base.AbstractIOBuffer) in module Compat at /home/juser/.julia/v0.5/Compat/src/Compat.jl:1172 overwritten in module Compat at /home/juser/.julia/v0.5/Compat/src/Compat.jl:1172.\n",
      "WARNING: Method definition sort(Main.Base.Dict) in module DataStructures at /home/juser/.julia/v0.5/DataStructures/src/dict_sorting.jl:27 overwritten in module DataStructures at /home/juser/.julia/v0.5/DataStructures/src/dict_sorting.jl:27.\n",
      "WARNING: Method definition #sort(Array{Any, 1}, Main.Base.#sort, Main.Base.Dict) in module DataStructures overwritten in module DataStructures.\n",
      "WARNING: Method definition #stdm(Array{Any, 1}, Main.Base.#stdm, AbstractArray{T<:Real, N<:Any}, AbstractArray{T<:Real, N<:Any}, Int64) in module StatsBase overwritten in module StatsBase.\n",
      "WARNING: Method definition stdm(AbstractArray{T<:Real, N<:Any}, AbstractArray{T<:Real, N<:Any}, Int64) in module StatsBase at /home/juser/.julia/v0.5/StatsBase/src/moments.jl:153 overwritten in module StatsBase at /home/juser/.julia/v0.5/StatsBase/src/moments.jl:153.\n",
      "WARNING: Method definition quantile(AbstractArray{#T<:Real, N<:Any}) in module StatsBase at /home/juser/.julia/v0.5/StatsBase/src/scalarstats.jl:213 overwritten in module StatsBase at /home/juser/.julia/v0.5/StatsBase/src/scalarstats.jl:213.\n",
      "WARNING: Method definition isvalid(Array{Char, 1}) in module LegacyStrings at /home/juser/.julia/v0.5/LegacyStrings/src/utf32.jl:194 overwritten in module LegacyStrings at /home/juser/.julia/v0.5/LegacyStrings/src/utf32.jl:194.\n",
      "WARNING: Method definition convert(Type{#T<:AbstractString}, AbstractArray{#S<:Union{Char, Int32, UInt32}, 1}) in module LegacyStrings at /home/juser/.julia/v0.5/LegacyStrings/src/utf32.jl:133 overwritten in module LegacyStrings at /home/juser/.julia/v0.5/LegacyStrings/src/utf32.jl:133.\n",
      "WARNING: Method definition ismatch(Main.Base.Range{#R<:Number}, Number) in module Match at /home/juser/.julia/v0.5/Match/src/matchutils.jl:8 overwritten in module Match at /home/juser/.julia/v0.5/Match/src/matchutils.jl:8.\n",
      "WARNING: Method definition ismatch(Main.Base.Range{#T<:Any}, #T<:Any) in module Match at /home/juser/.julia/v0.5/Match/src/matchutils.jl:9 overwritten in module Match at /home/juser/.julia/v0.5/Match/src/matchutils.jl:9.\n",
      "WARNING: Method definition ismatch(Char, Number) in module Match at /home/juser/.julia/v0.5/Match/src/matchutils.jl:10 overwritten in module Match at /home/juser/.julia/v0.5/Match/src/matchutils.jl:10.\n",
      "WARNING: Method definition ismatch(Number, Char) in module Match at /home/juser/.julia/v0.5/Match/src/matchutils.jl:11 overwritten in module Match at /home/juser/.julia/v0.5/Match/src/matchutils.jl:11.\n",
      "WARNING: Method definition ismatch(Any, Any) in module Match at /home/juser/.julia/v0.5/Match/src/matchutils.jl:12 overwritten in module Match at /home/juser/.julia/v0.5/Match/src/matchutils.jl:12.\n"
     ]
    },
    {
     "data": {
      "text/plain": [
       "plot_outputs_Plots (generic function with 1 method)"
      ]
     },
     "execution_count": 106,
     "metadata": {},
     "output_type": "execute_result"
    }
   ],
   "source": [
    "using StatsBase\n",
    "using JLD  \n",
    "include(\"../src/BigRidge.jl\")"
   ]
  },
  {
   "cell_type": "code",
   "execution_count": 107,
   "metadata": {
    "collapsed": true
   },
   "outputs": [],
   "source": [
    "\n",
    "#Basic parameters\n",
    "## Basic parameters\n",
    "maxiter=10^8;\n",
    "max_time = 15;\n",
    "max_epocs = 100;\n",
    "printiters = true;\n",
    "exacterror =true; \n",
    "tol = 10.0^(-8.0);\n",
    "restol = 10.0^(-5.0);\n",
    "#tol = 0;\n",
    "#restol = 0;\n",
    "skip_error_calculation = 25;   # number of iterations where error is not calculated (to save time!) ceil((m)^(1/2))"
   ]
  },
  {
   "cell_type": "code",
   "execution_count": 108,
   "metadata": {
    "collapsed": false
   },
   "outputs": [
    {
     "name": "stdout",
     "output_type": "stream",
     "text": [
      "../data/a9a.jld\n"
     ]
    }
   ],
   "source": [
    "dataset = \"a9a\"\n",
    "prob = defineProb(dataset);"
   ]
  },
  {
   "cell_type": "code",
   "execution_count": 109,
   "metadata": {
    "collapsed": true
   },
   "outputs": [],
   "source": [
    "options = MyOptions(0,\"uni\",tol,restol,maxiter,skip_error_calculation,max_time,printiters,exacterror) \n",
    "OUTPUTS = [];"
   ]
  },
  {
   "cell_type": "code",
   "execution_count": 110,
   "metadata": {
    "collapsed": false
   },
   "outputs": [],
   "source": [
    "#prob.n = 128;\n",
    "#mat = prob.lambda * eye(128);\n",
    "#mat[1:123,1:123]= prob.A;\n",
    "#prob.A = mat;\n",
    "#prob.b = [prob.b;0;0;0;0;0];\n",
    "#prob.xsol = prob.A\\prob.b;"
   ]
  },
  {
   "cell_type": "code",
   "execution_count": 111,
   "metadata": {
    "collapsed": false
   },
   "outputs": [],
   "source": [
    "N = 128;\n",
    "prob.n = N;\n",
    "A = rand(N,N);\n",
    "lambda = 1/N;\n",
    "prob.A = A'*A + eye(N);\n",
    "prob.b = rand(N,1);\n",
    "prob.xsol = prob.A\\prob.b;\n"
   ]
  },
  {
   "cell_type": "code",
   "execution_count": 112,
   "metadata": {
    "collapsed": false,
    "scrolled": true
   },
   "outputs": [
    {
     "name": "stdout",
     "output_type": "stream",
     "text": [
      "CG\n",
      "-------------------\n",
      "It   | Error% | Residual |  Time   \n",
      "-------------------\n",
      " 25  | 0.14  |  0.07  | 0.0313 \n",
      " 50  | 0.00  |  0.00  | 0.0333 \n",
      " 75  | 0.00  |  0.00  | 0.0377 \n"
     ]
    }
   ],
   "source": [
    "# Testing CG \n",
    "options.max_time = 2; options.restol = 10.0^(-8); \n",
    "method_name = \"CG\";# gradient descent\n",
    "output= solveRidge(prob, method_name, options);\n",
    "OUTPUTS = [OUTPUTS ; output];"
   ]
  },
  {
   "cell_type": "code",
   "execution_count": 116,
   "metadata": {
    "collapsed": false
   },
   "outputs": [
    {
     "name": "stdout",
     "output_type": "stream",
     "text": [
      "flopsperiter: 257\n",
      "Hadamard\n",
      "-------------------\n",
      "It   | Error% | Residual |  Time   \n",
      "-------------------\n",
      " 25  | 97.85  |  104.00  | 0.3904 \n",
      " 50  | 95.01  |  48.54  | 0.7004 \n",
      " 75  | 92.53  |  48.29  | 0.9894 \n",
      "100  | 90.00  |  45.00  | 1.2856 \n",
      "125  | 88.80  |  47.98  | 1.5791 \n",
      "150  | 87.41  |  54.25  | 1.8940 \n",
      "175  | 86.61  |  59.94  | 2.1163 \n",
      "200  | 84.24  |  69.14  | 2.4273 \n",
      "225  | 81.83  |  81.98  | 2.7184 \n",
      "250  | 81.30  |  62.05  | 2.9270 \n",
      "275  | 79.93  |  87.51  | 3.1381 \n",
      "300  | 78.73  |  98.10  | 3.3360 \n",
      "325  | 78.07  |  100.28  | 3.5364 \n",
      "350  | 75.74  |  112.81  | 3.7386 \n",
      "375  | 73.40  |  139.00  | 3.9560 \n",
      "400  | 72.11  |  116.70  | 4.1716 \n",
      "425  | 71.04  |  122.49  | 4.3747 \n",
      "450  | 69.58  |  27.71  | 4.5787 \n",
      "475  | 66.90  |  42.85  | 4.7707 \n",
      "500  | 64.82  |  47.80  | 4.9772 \n",
      "525  | 63.22  |  50.72  | 5.1828 \n",
      "550  | 61.63  |  73.75  | 5.3960 \n",
      "575  | 60.79  |  68.81  | 5.5973 \n",
      "600  | 58.75  |  99.63  | 5.8137 \n",
      "625  | 57.92  |  87.21  | 6.0223 \n",
      "650  | 57.16  |  61.40  | 6.2179 \n",
      "675  | 55.60  |  65.26  | 6.4176 \n",
      "700  | 53.69  |  76.68  | 6.6166 \n",
      "725  | 52.41  |  17.45  | 6.8254 \n",
      "750  | 51.87  |  25.66  | 7.0358 \n",
      "775  | 50.70  |  42.61  | 7.2415 \n",
      "800  | 50.20  |  17.29  | 7.4376 \n",
      "825  | 49.09  |  25.40  | 7.6360 \n",
      "850  | 47.79  |  41.88  | 7.8354 \n",
      "875  | 46.81  |  48.60  | 8.0356 \n",
      "900  | 46.30  |  44.95  | 8.2380 \n",
      "925  | 45.81  |  38.19  | 8.4348 \n",
      "950  | 43.77  |  28.78  | 8.6334 \n",
      "975  | 42.80  |  29.26  | 8.8352 \n",
      "1000  | 42.02  |  33.63  | 9.0443 \n",
      "1025  | 40.78  |  42.80  | 9.2468 \n",
      "1050  | 39.89  |  49.98  | 9.4506 \n",
      "1075  | 38.98  |  38.07  | 9.6553 \n",
      "1100  | 37.52  |  53.05  | 9.8577 \n",
      "1120  | 37.07  |  37.78  | 10.0070 \n"
     ]
    }
   ],
   "source": [
    "# Testing Hadamard Sketch\n",
    "method_name = \"Hadamard\";# ROS\n",
    "options.max_time = 10;\n",
    "options.sketchsize =8; # Int(floor(log2(prob.n)));\n",
    "#options.skip_error_calculation =1;\n",
    "output= solveRidge(prob, method_name, options);\n",
    "OUTPUTS = [OUTPUTS ; output];"
   ]
  },
  {
   "cell_type": "code",
   "execution_count": 114,
   "metadata": {
    "collapsed": false
   },
   "outputs": [
    {
     "name": "stdout",
     "output_type": "stream",
     "text": [
      "flopsperiter: 3840\n",
      "Hadamard\n",
      "-------------------\n",
      "It   | Error% | Residual |  Time   \n",
      "-------------------\n",
      " 25  | 84.15  |  39.36  | 0.4357 \n",
      " 50  | 67.25  |  42.93  | 0.7720 \n",
      " 75  | 56.38  |  63.40  | 1.2465 \n",
      "100  | 48.90  |  15.17  | 1.5962 \n",
      "125  | 40.27  |  46.39  | 2.0182 \n",
      "150  | 34.64  |  18.65  | 2.4958 \n",
      "175  | 29.48  |  14.14  | 2.8674 \n",
      "200  | 24.34  |  8.78  | 3.1917 \n",
      "225  | 19.53  |  7.87  | 3.5641 \n",
      "250  | 15.94  |  5.69  | 3.9554 \n",
      "275  | 13.89  |  10.68  | 4.3380 \n",
      "300  | 12.05  |  16.71  | 4.7161 \n",
      "325  | 10.10  |  3.57  | 5.0305 \n",
      "350  | 8.47  |  12.85  | 5.3939 \n",
      "375  | 7.20  |  7.79  | 5.8156 \n",
      "400  | 6.20  |  7.66  | 6.1801 \n",
      "425  | 5.22  |  1.91  | 6.6075 \n",
      "450  | 4.48  |  2.72  | 7.0063 \n",
      "475  | 3.75  |  1.53  | 7.2959 \n",
      "500  | 3.16  |  6.18  | 7.6744 \n",
      "525  | 2.65  |  0.83  | 8.0405 \n",
      "550  | 2.29  |  3.58  | 8.4118 \n",
      "575  | 1.91  |  2.17  | 8.7920 \n",
      "600  | 1.66  |  0.50  | 9.1978 \n",
      "625  | 1.42  |  0.43  | 9.5602 \n",
      "650  | 1.22  |  0.81  | 9.8732 \n",
      "660  | 1.17  |  0.33  | 10.0136 \n"
     ]
    }
   ],
   "source": [
    "# Testing Hadamard Sketch\n",
    "method_name = \"Hadamard\";# ROS\n",
    "options.max_time = 10;\n",
    "options.sketchsize =8; # Int(floor(log2(prob.n)));\n",
    "#options.skip_error_calculation =1;\n",
    "output= solveRidge(prob, method_name, options);\n",
    "OUTPUTS = [OUTPUTS ; output];"
   ]
  },
  {
   "cell_type": "code",
   "execution_count": 19,
   "metadata": {
    "collapsed": false
   },
   "outputs": [
    {
     "name": "stdout",
     "output_type": "stream",
     "text": [
      "countmin\n",
      "-------------------\n",
      "It   | Error% | Residual |  Time   \n",
      "-------------------\n",
      " 25  | 100.00  |  47.04  | 0.0122 \n",
      " 50  | 100.00  |  47.04  | 0.0206 \n",
      " 75  | 100.00  |  47.04  | 0.0291 \n",
      "100  | 100.00  |  47.04  | 0.0394 \n",
      "125  | 100.00  |  47.04  | 0.0481 \n",
      "150  | 100.00  |  47.04  | 0.0571 \n",
      "175  | 100.00  |  47.04  | 0.0667 \n",
      "200  | 100.00  |  47.04  | 0.0773 \n",
      "225  | 100.00  |  47.04  | 0.0863 \n",
      "250  | 100.00  |  47.04  | 0.0957 \n",
      "275  | 100.00  |  47.04  | 0.1063 \n",
      "300  | 100.00  |  47.04  | 0.1156 \n",
      "325  | 100.00  |  47.04  | 0.1242 \n",
      "350  | 100.00  |  47.04  | 0.1332 \n",
      "375  | 100.00  |  47.04  | 0.1426 \n",
      "400  | 100.00  |  47.04  | 0.1516 \n",
      "425  | 100.00  |  47.04  | 0.1605 \n",
      "450  | 100.00  |  47.04  | 0.1727 \n",
      "475  | 100.00  |  47.04  | 0.1820 \n",
      "500  | 100.00  |  47.04  | 0.1916 \n",
      "525  | 100.00  |  47.04  | 0.2029 \n",
      "550  | 100.00  |  47.04  | 0.2122 \n",
      "575  | 100.00  |  47.04  | 0.2212 \n",
      "600  | 100.00  |  47.04  | 0.2306 \n",
      "625  | 100.00  |  47.04  | 0.2414 \n",
      "650  | 100.00  |  47.04  | 0.2504 \n",
      "675  | 100.00  |  47.04  | 0.2591 \n",
      "700  | 100.00  |  47.04  | 0.2701 \n",
      "725  | 100.00  |  47.04  | 0.2788 \n",
      "750  | 100.00  |  47.04  | 0.2881 \n",
      "775  | 100.00  |  47.04  | 0.2975 \n",
      "800  | 100.00  |  47.04  | 0.3080 \n",
      "825  | 100.00  |  47.04  | 0.3170 \n",
      "850  | 100.00  |  47.04  | 0.3257 \n",
      "875  | 100.00  |  47.04  | 0.3368 \n",
      "900  | 100.00  |  47.04  | 0.3457 \n",
      "925  | 100.00  |  47.04  | 0.3547 \n",
      "950  | 100.00  |  47.04  | 0.3639 \n",
      "975  | 100.00  |  47.04  | 0.3745 \n",
      "1000  | 100.00  |  47.04  | 0.3850 \n"
     ]
    }
   ],
   "source": [
    "# Testing Count min Sketch\n",
    "method_name = \"countmin\";# Count min sketch\n",
    "options.sketchsize =1; # Int(floor(log2(prob.n)));\n",
    "options.max_time = 20;\n",
    "options.maxiter=1000;\n",
    "#options.skip_error_calculation =1;\n",
    "output= solveRidge(prob, method_name, options);\n",
    "OUTPUTS = [OUTPUTS ; output];"
   ]
  },
  {
   "cell_type": "code",
   "execution_count": 40,
   "metadata": {
    "collapsed": false
   },
   "outputs": [
    {
     "data": {
      "text/plain": [
       "4×4 Array{Float64,2}:\n",
       " 2.0  1.0  1.0  1.0\n",
       " 1.0  2.0  1.0  1.0\n",
       " 1.0  1.0  2.0  1.0\n",
       " 1.0  1.0  1.0  2.0"
      ]
     },
     "execution_count": 40,
     "metadata": {},
     "output_type": "execute_result"
    }
   ],
   "source": [
    "n=4\n",
    "A = eye(n) + ones(n,n)"
   ]
  },
  {
   "cell_type": "code",
   "execution_count": 44,
   "metadata": {
    "collapsed": false
   },
   "outputs": [
    {
     "data": {
      "text/plain": [
       "1×4 Array{Int64,2}:\n",
       " 1  -1  -1  1"
      ]
     },
     "execution_count": 44,
     "metadata": {},
     "output_type": "execute_result"
    }
   ],
   "source": [
    "\n",
    "sgn = reshape(sample(1:2,n) * 2 - 3, 1,n)\n"
   ]
  },
  {
   "cell_type": "code",
   "execution_count": 57,
   "metadata": {
    "collapsed": false
   },
   "outputs": [
    {
     "data": {
      "text/plain": [
       "3×4 Array{Float64,2}:\n",
       " 1.0   1.0   1.0   1.0\n",
       " 1.0  -1.0   1.0  -1.0\n",
       " 1.0   1.0  -1.0  -1.0"
      ]
     },
     "execution_count": 57,
     "metadata": {},
     "output_type": "execute_result"
    }
   ],
   "source": [
    "S = hada(eye(n),1:3)"
   ]
  },
  {
   "cell_type": "code",
   "execution_count": null,
   "metadata": {
    "collapsed": true
   },
   "outputs": [],
   "source": []
  }
 ],
 "metadata": {
  "kernelspec": {
   "display_name": "Julia 0.5.2",
   "language": "julia",
   "name": "julia-0.5"
  },
  "language_info": {
   "file_extension": ".jl",
   "mimetype": "application/julia",
   "name": "julia",
   "version": "0.5.2"
  }
 },
 "nbformat": 4,
 "nbformat_minor": 2
}
