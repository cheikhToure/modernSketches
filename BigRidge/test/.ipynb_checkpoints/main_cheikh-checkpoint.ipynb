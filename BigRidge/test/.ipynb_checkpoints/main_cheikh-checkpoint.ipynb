{
 "cells": [
  {
   "cell_type": "code",
   "execution_count": 135,
   "metadata": {
    "collapsed": false
   },
   "outputs": [],
   "source": [
    "workspace()"
   ]
  },
  {
   "cell_type": "code",
   "execution_count": 136,
   "metadata": {
    "collapsed": false
   },
   "outputs": [
    {
     "name": "stderr",
     "output_type": "stream",
     "text": [
      "WARNING: Method definition (::Type{Main.Base.LinearIndexing})(Type{#T<:Any}) in module Compat at /home/juser/.julia/v0.5/Compat/src/Compat.jl:1430 overwritten in module Compat at /home/juser/.julia/v0.5/Compat/src/Compat.jl:1430.\n",
      "WARNING: Method definition (::Type{Main.Base.LinearIndexing})(Any...) in module Compat at /home/juser/.julia/v0.5/Compat/src/Compat.jl:1431 overwritten in module Compat at /home/juser/.julia/v0.5/Compat/src/Compat.jl:1431.\n",
      "WARNING: Method definition redirect_stdout(Function, Any) in module Compat at /home/juser/.julia/v0.5/Compat/src/Compat.jl:1057 overwritten in module Compat at /home/juser/.julia/v0.5/Compat/src/Compat.jl:1057.\n",
      "WARNING: Method definition broadcast(Any, Tuple{Vararg{T<:Any, #N<:Any}}, Tuple{Vararg{T<:Any, #N<:Any}}...) in module Compat at /home/juser/.julia/v0.5/Compat/src/Compat.jl:1122 overwritten in module Compat at /home/juser/.julia/v0.5/Compat/src/Compat.jl:1122.\n",
      "WARNING: Method definition unsafe_trunc(Type{#T<:Integer}, Integer) in module Compat at /home/juser/.julia/v0.5/Compat/src/Compat.jl:1469 overwritten in module Compat at /home/juser/.julia/v0.5/Compat/src/Compat.jl:1469.\n",
      "WARNING: Method definition macroexpand(Module, ANY<:Any) in module Compat at /home/juser/.julia/v0.5/Compat/src/Compat.jl:1491 overwritten in module Compat at /home/juser/.julia/v0.5/Compat/src/Compat.jl:1491.\n",
      "WARNING: Method definition !(Function) in module Compat at /home/juser/.julia/v0.5/Compat/src/Compat.jl:1205 overwritten in module Compat at /home/juser/.julia/v0.5/Compat/src/Compat.jl:1205.\n",
      "WARNING: Method definition isless(Union{Main.Base.Dates.Millisecond, Main.Base.Dates.Minute, Main.Base.Dates.Week, Main.Base.Dates.Second, Main.Base.Dates.Day, Main.Base.Dates.Hour}, Union{Main.Base.Dates.Year, Main.Base.Dates.Month}) in module Compat at /home/juser/.julia/v0.5/Compat/src/Compat.jl:1529 overwritten in module Compat at /home/juser/.julia/v0.5/Compat/src/Compat.jl:1529.\n",
      "WARNING: Method definition isless(Union{Main.Base.Dates.Year, Main.Base.Dates.Month}, Union{Main.Base.Dates.Millisecond, Main.Base.Dates.Minute, Main.Base.Dates.Week, Main.Base.Dates.Second, Main.Base.Dates.Day, Main.Base.Dates.Hour}) in module Compat at /home/juser/.julia/v0.5/Compat/src/Compat.jl:1530 overwritten in module Compat at /home/juser/.julia/v0.5/Compat/src/Compat.jl:1530.\n",
      "WARNING: Method definition isless(Main.Base.Dates.Period, Main.Base.Dates.Period) in module Compat at /home/juser/.julia/v0.5/Compat/src/Compat.jl:1524 overwritten in module Compat at /home/juser/.julia/v0.5/Compat/src/Compat.jl:1524.\n",
      "WARNING: Method definition expand(Module, ANY<:Any) in module Compat at /home/juser/.julia/v0.5/Compat/src/Compat.jl:1490 overwritten in module Compat at /home/juser/.julia/v0.5/Compat/src/Compat.jl:1490.\n",
      "WARNING: Method definition redirect_stderr(Function, Any) in module Compat at /home/juser/.julia/v0.5/Compat/src/Compat.jl:1057 overwritten in module Compat at /home/juser/.julia/v0.5/Compat/src/Compat.jl:1057.\n",
      "WARNING: Method definition ones(AbstractArray) in module Compat at /home/juser/.julia/v0.5/Compat/src/Compat.jl:1440 overwritten in module Compat at /home/juser/.julia/v0.5/Compat/src/Compat.jl:1440.\n",
      "WARNING: Method definition ones(AbstractArray, Type) in module Compat at /home/juser/.julia/v0.5/Compat/src/Compat.jl:1440 overwritten in module Compat at /home/juser/.julia/v0.5/Compat/src/Compat.jl:1440.\n",
      "WARNING: Method definition ones(AbstractArray, Type, Tuple) in module Compat at /home/juser/.julia/v0.5/Compat/src/Compat.jl:1438 overwritten in module Compat at /home/juser/.julia/v0.5/Compat/src/Compat.jl:1438.\n",
      "WARNING: Method definition ones(AbstractArray, Type, Any...) in module Compat at /home/juser/.julia/v0.5/Compat/src/Compat.jl:1439 overwritten in module Compat at /home/juser/.julia/v0.5/Compat/src/Compat.jl:1439.\n",
      "WARNING: Method definition bswap(Main.Base.Complex) in module Compat at /home/juser/.julia/v0.5/Compat/src/Compat.jl:1474 overwritten in module Compat at /home/juser/.julia/v0.5/Compat/src/Compat.jl:1474.\n",
      "WARNING: Method definition convert(Type{Main.Base.Set{#T<:Any}}, Main.Base.Set{#T<:Any}) in module Compat at /home/juser/.julia/v0.5/Compat/src/Compat.jl:1459 overwritten in module Compat at /home/juser/.julia/v0.5/Compat/src/Compat.jl:1459.\n",
      "WARNING: Method definition convert(Type{Main.Base.Set{#T<:Any}}, Main.Base.Set) in module Compat at /home/juser/.julia/v0.5/Compat/src/Compat.jl:1460 overwritten in module Compat at /home/juser/.julia/v0.5/Compat/src/Compat.jl:1460.\n",
      "WARNING: Method definition redirect_stdin(Function, Any) in module Compat at /home/juser/.julia/v0.5/Compat/src/Compat.jl:1057 overwritten in module Compat at /home/juser/.julia/v0.5/Compat/src/Compat.jl:1057.\n",
      "WARNING: Method definition ==(Union{Main.Base.Dates.Millisecond, Main.Base.Dates.Minute, Main.Base.Dates.Week, Main.Base.Dates.Second, Main.Base.Dates.Day, Main.Base.Dates.Hour}, Union{Main.Base.Dates.Year, Main.Base.Dates.Month}) in module Compat at /home/juser/.julia/v0.5/Compat/src/Compat.jl:1527 overwritten in module Compat at /home/juser/.julia/v0.5/Compat/src/Compat.jl:1527.\n",
      "WARNING: Method definition ==(Union{Main.Base.Dates.Year, Main.Base.Dates.Month}, Union{Main.Base.Dates.Millisecond, Main.Base.Dates.Minute, Main.Base.Dates.Week, Main.Base.Dates.Second, Main.Base.Dates.Day, Main.Base.Dates.Hour}) in module Compat at /home/juser/.julia/v0.5/Compat/src/Compat.jl:1528 overwritten in module Compat at /home/juser/.julia/v0.5/Compat/src/Compat.jl:1528.\n",
      "WARNING: Method definition ==(Main.Base.Dates.Period, Main.Base.Dates.Period) in module Compat at /home/juser/.julia/v0.5/Compat/src/Compat.jl:1523 overwritten in module Compat at /home/juser/.julia/v0.5/Compat/src/Compat.jl:1523.\n",
      "WARNING: Method definition include_string(Module, String, String) in module Compat at /home/juser/.julia/v0.5/Compat/src/Compat.jl:1492 overwritten in module Compat at /home/juser/.julia/v0.5/Compat/src/Compat.jl:1492.\n",
      "WARNING: Method definition include_string(Module, AbstractString) in module Compat at /home/juser/.julia/v0.5/Compat/src/Compat.jl:1494 overwritten in module Compat at /home/juser/.julia/v0.5/Compat/src/Compat.jl:1494.\n",
      "WARNING: Method definition include_string(Module, AbstractString, AbstractString) in module Compat at /home/juser/.julia/v0.5/Compat/src/Compat.jl:1494 overwritten in module Compat at /home/juser/.julia/v0.5/Compat/src/Compat.jl:1494.\n",
      "WARNING: Method definition isnull(Any) in module Compat at /home/juser/.julia/v0.5/Compat/src/Compat.jl:1137 overwritten in module Compat at /home/juser/.julia/v0.5/Compat/src/Compat.jl:1137.\n",
      "WARNING: Method definition zeros(AbstractArray) in module Compat at /home/juser/.julia/v0.5/Compat/src/Compat.jl:1440 overwritten in module Compat at /home/juser/.julia/v0.5/Compat/src/Compat.jl:1440.\n",
      "WARNING: Method definition zeros(AbstractArray, Type) in module Compat at /home/juser/.julia/v0.5/Compat/src/Compat.jl:1440 overwritten in module Compat at /home/juser/.julia/v0.5/Compat/src/Compat.jl:1440.\n",
      "WARNING: Method definition zeros(AbstractArray, Type, Tuple) in module Compat at /home/juser/.julia/v0.5/Compat/src/Compat.jl:1438 overwritten in module Compat at /home/juser/.julia/v0.5/Compat/src/Compat.jl:1438.\n",
      "WARNING: Method definition zeros(AbstractArray, Type, Any...) in module Compat at /home/juser/.julia/v0.5/Compat/src/Compat.jl:1439 overwritten in module Compat at /home/juser/.julia/v0.5/Compat/src/Compat.jl:1439.\n",
      "WARNING: Method definition isassigned(Main.Base.RefValue) in module Compat at /home/juser/.julia/v0.5/Compat/src/Compat.jl:1465 overwritten in module Compat at /home/juser/.julia/v0.5/Compat/src/Compat.jl:1465.\n",
      "WARNING: Method definition take!(Task) in module Compat at /home/juser/.julia/v0.5/Compat/src/Compat.jl:53 overwritten in module Compat at /home/juser/.julia/v0.5/Compat/src/Compat.jl:53.\n",
      "WARNING: Method definition take!(Main.Base.AbstractIOBuffer) in module Compat at /home/juser/.julia/v0.5/Compat/src/Compat.jl:1172 overwritten in module Compat at /home/juser/.julia/v0.5/Compat/src/Compat.jl:1172.\n",
      "WARNING: Method definition sort(Main.Base.Dict) in module DataStructures at /home/juser/.julia/v0.5/DataStructures/src/dict_sorting.jl:27 overwritten in module DataStructures at /home/juser/.julia/v0.5/DataStructures/src/dict_sorting.jl:27.\n",
      "WARNING: Method definition #sort(Array{Any, 1}, Main.Base.#sort, Main.Base.Dict) in module DataStructures overwritten in module DataStructures.\n",
      "WARNING: Method definition #stdm(Array{Any, 1}, Main.Base.#stdm, AbstractArray{T<:Real, N<:Any}, AbstractArray{T<:Real, N<:Any}, Int64) in module StatsBase overwritten in module StatsBase.\n",
      "WARNING: Method definition stdm(AbstractArray{T<:Real, N<:Any}, AbstractArray{T<:Real, N<:Any}, Int64) in module StatsBase at /home/juser/.julia/v0.5/StatsBase/src/moments.jl:153 overwritten in module StatsBase at /home/juser/.julia/v0.5/StatsBase/src/moments.jl:153.\n",
      "WARNING: Method definition quantile(AbstractArray{#T<:Real, N<:Any}) in module StatsBase at /home/juser/.julia/v0.5/StatsBase/src/scalarstats.jl:213 overwritten in module StatsBase at /home/juser/.julia/v0.5/StatsBase/src/scalarstats.jl:213.\n",
      "WARNING: Method definition isvalid(Array{Char, 1}) in module LegacyStrings at /home/juser/.julia/v0.5/LegacyStrings/src/utf32.jl:194 overwritten in module LegacyStrings at /home/juser/.julia/v0.5/LegacyStrings/src/utf32.jl:194.\n",
      "WARNING: Method definition convert(Type{#T<:AbstractString}, AbstractArray{#S<:Union{Char, Int32, UInt32}, 1}) in module LegacyStrings at /home/juser/.julia/v0.5/LegacyStrings/src/utf32.jl:133 overwritten in module LegacyStrings at /home/juser/.julia/v0.5/LegacyStrings/src/utf32.jl:133.\n",
      "WARNING: Method definition ismatch(Main.Base.Range{#R<:Number}, Number) in module Match at /home/juser/.julia/v0.5/Match/src/matchutils.jl:8 overwritten in module Match at /home/juser/.julia/v0.5/Match/src/matchutils.jl:8.\n",
      "WARNING: Method definition ismatch(Main.Base.Range{#T<:Any}, #T<:Any) in module Match at /home/juser/.julia/v0.5/Match/src/matchutils.jl:9 overwritten in module Match at /home/juser/.julia/v0.5/Match/src/matchutils.jl:9.\n",
      "WARNING: Method definition ismatch(Char, Number) in module Match at /home/juser/.julia/v0.5/Match/src/matchutils.jl:10 overwritten in module Match at /home/juser/.julia/v0.5/Match/src/matchutils.jl:10.\n",
      "WARNING: Method definition ismatch(Number, Char) in module Match at /home/juser/.julia/v0.5/Match/src/matchutils.jl:11 overwritten in module Match at /home/juser/.julia/v0.5/Match/src/matchutils.jl:11.\n",
      "WARNING: Method definition ismatch(Any, Any) in module Match at /home/juser/.julia/v0.5/Match/src/matchutils.jl:12 overwritten in module Match at /home/juser/.julia/v0.5/Match/src/matchutils.jl:12.\n"
     ]
    },
    {
     "data": {
      "text/plain": [
       "plot_outputs_Plots (generic function with 1 method)"
      ]
     },
     "execution_count": 136,
     "metadata": {},
     "output_type": "execute_result"
    }
   ],
   "source": [
    "using StatsBase\n",
    "using JLD  \n",
    "include(\"../src/BigRidge.jl\")"
   ]
  },
  {
   "cell_type": "code",
   "execution_count": 137,
   "metadata": {
    "collapsed": true
   },
   "outputs": [],
   "source": [
    "\n",
    "\n",
    "#Basic parameters\n",
    "## Basic parameters\n",
    "maxiter=10^8;\n",
    "max_time = 15;\n",
    "max_epocs = 100;\n",
    "printiters = true;\n",
    "exacterror =true; \n",
    "tol = 10.0^(-8.0);\n",
    "restol = 10.0^(-5.0);\n",
    "#tol = 0;\n",
    "#restol = 0;\n",
    "skip_error_calculation = 25;   # number of iterations where error is not calculated (to save time!) ceil((m)^(1/2))"
   ]
  },
  {
   "cell_type": "code",
   "execution_count": 138,
   "metadata": {
    "collapsed": false
   },
   "outputs": [
    {
     "name": "stdout",
     "output_type": "stream",
     "text": [
      "../data/a9a.jld\n"
     ]
    }
   ],
   "source": [
    "dataset = \"a9a\"\n",
    "prob = defineProb(dataset);"
   ]
  },
  {
   "cell_type": "code",
   "execution_count": 139,
   "metadata": {
    "collapsed": true
   },
   "outputs": [],
   "source": [
    "options = MyOptions(0,\"uni\",tol,restol,maxiter,skip_error_calculation,max_time,printiters,exacterror) \n",
    "OUTPUTS = [];"
   ]
  },
  {
   "cell_type": "code",
   "execution_count": 140,
   "metadata": {
    "collapsed": false,
    "scrolled": true
   },
   "outputs": [
    {
     "name": "stdout",
     "output_type": "stream",
     "text": [
      "CG\n",
      "-------------------\n",
      "It   | Error% | Residual |  Time   \n",
      "-------------------\n",
      " 25  | 0.03  |  0.07  | 0.0155 \n",
      " 50  | 0.00  |  0.04  | 0.0158 \n",
      " 75  | 0.00  |  0.00  | 0.0161 \n",
      "100  | 0.00  |  0.00  | 0.0168 \n",
      "125  | 0.00  |  0.00  | 0.0171 \n",
      "150  | 0.00  |  0.00  | 0.0173 \n",
      "175  | 0.00  |  0.00  | 0.0176 \n"
     ]
    }
   ],
   "source": [
    "# Testing CG \n",
    "options.max_time = 2; options.restol = 10.0^(-8); \n",
    "method_name = \"CG\";# gradient descent\n",
    "output= solveRidge(prob, method_name, options);\n",
    "OUTPUTS = [OUTPUTS ; output];"
   ]
  },
  {
   "cell_type": "code",
   "execution_count": 141,
   "metadata": {
    "collapsed": false
   },
   "outputs": [
    {
     "data": {
      "text/plain": [
       "0.0009367034181996877"
      ]
     },
     "execution_count": 141,
     "metadata": {},
     "output_type": "execute_result"
    }
   ],
   "source": [
    "prob.lambda"
   ]
  },
  {
   "cell_type": "code",
   "execution_count": 142,
   "metadata": {
    "collapsed": false,
    "scrolled": false
   },
   "outputs": [],
   "source": [
    "# Testing Hadamard Sketch\n",
    "method_name = \"Hadamard\";# ROS\n",
    "options.sketchsize =2; # Int(floor(log2(prob.n)));\n",
    "options.maxiter=200;\n",
    "options.skip_error_calculation =25;"
   ]
  },
  {
   "cell_type": "code",
   "execution_count": 143,
   "metadata": {
    "collapsed": false
   },
   "outputs": [
    {
     "name": "stdout",
     "output_type": "stream",
     "text": [
      "flopsperiter: 500\n",
      "Hadamard\n",
      "-------------------\n",
      "It   | Error% | Residual |  Time   \n",
      "-------------------\n",
      " 25  | 14.96  |  10.25  | 0.7332 \n",
      " 50  | 7.82  |  5.45  | 0.9226 \n",
      " 75  | 5.70  |  4.13  | 1.1103 \n",
      "100  | 3.82  |  3.74  | 1.2916 \n",
      "125  | 3.24  |  2.57  | 1.4728 \n",
      "150  | 2.40  |  2.98  | 1.6524 \n",
      "175  | 1.71  |  1.51  | 1.8397 \n",
      "197  | 1.54  |  1.21  | 2.0031 \n",
      "  2.027379 seconds (15.91 M allocations: 1.764 GB, 29.64% gc time)\n"
     ]
    }
   ],
   "source": [
    "@time  output= solveRidge(prob, method_name, options);\n",
    "OUTPUTS = [OUTPUTS ; output];"
   ]
  },
  {
   "cell_type": "code",
   "execution_count": 144,
   "metadata": {
    "collapsed": false
   },
   "outputs": [],
   "source": [
    "# Testing countmin \n",
    " options.sketchsize =Int(floor((prob.n)^(1/2)));\n",
    " options.skip_error_calculation =25;\n",
    " method_name = \"countmin\";# gradient descent\n"
   ]
  },
  {
   "cell_type": "code",
   "execution_count": 146,
   "metadata": {
    "collapsed": false
   },
   "outputs": [
    {
     "name": "stdout",
     "output_type": "stream",
     "text": [
      "countmin\n",
      "-------------------\n",
      "It   | Error% | Residual |  Time   \n",
      "-------------------\n",
      " 25  | 1.81  |  1.49  | 0.0202 \n",
      " 50  | 0.83  |  0.65  | 0.0545 \n",
      " 75  | 0.58  |  0.40  | 0.0957 \n",
      "100  | 0.46  |  0.36  | 0.1213 \n",
      "125  | 0.36  |  0.27  | 0.1538 \n",
      "150  | 0.30  |  0.20  | 0.1872 \n",
      "175  | 0.25  |  0.20  | 0.2189 \n",
      "200  | 0.22  |  0.18  | 0.2419 \n",
      "  0.259406 seconds (457.52 k allocations: 125.006 MB, 7.99% gc time)\n"
     ]
    }
   ],
   "source": [
    " @time output= solveRidge(prob, method_name, options);\n",
    " OUTPUTS = [OUTPUTS ; output];"
   ]
  },
  {
   "cell_type": "code",
   "execution_count": null,
   "metadata": {
    "collapsed": true
   },
   "outputs": [],
   "source": []
  }
 ],
 "metadata": {
  "kernelspec": {
   "display_name": "Julia 0.5.2",
   "language": "julia",
   "name": "julia-0.5"
  },
  "language_info": {
   "file_extension": ".jl",
   "mimetype": "application/julia",
   "name": "julia",
   "version": "0.5.2"
  }
 },
 "nbformat": 4,
 "nbformat_minor": 2
}
