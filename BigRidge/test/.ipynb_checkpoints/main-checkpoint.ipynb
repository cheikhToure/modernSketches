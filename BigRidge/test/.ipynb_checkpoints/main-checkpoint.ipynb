{
 "cells": [
  {
   "cell_type": "markdown",
   "metadata": {},
   "source": [
    "The main solving big ridge regression problems"
   ]
  },
  {
   "cell_type": "code",
   "execution_count": 22,
   "metadata": {
    "collapsed": true
   },
   "outputs": [],
   "source": [
    "workspace()"
   ]
  },
  {
   "cell_type": "code",
   "execution_count": 26,
   "metadata": {},
   "outputs": [
    {
     "name": "stderr",
     "output_type": "stream",
     "text": [
      "WARNING: Method definition #sort(Array{Any, 1}, Main.Base.#sort, Main.Base.Dict) in module DataStructures overwritten in module DataStructures.\n",
      "WARNING: Method definition sort(Main.Base.Dict) in module DataStructures at /home/ROCQ/sierra/rgower/.julia/v0.5/DataStructures/src/dict_sorting.jl:27 overwritten in module DataStructures at /home/ROCQ/sierra/rgower/.julia/v0.5/DataStructures/src/dict_sorting.jl:27.\n",
      "WARNING: Method definition stdm(AbstractArray{T<:Real, N<:Any}, AbstractArray{T<:Real, N<:Any}, Int64) in module StatsBase at /home/ROCQ/sierra/rgower/.julia/v0.5/StatsBase/src/moments.jl:153 overwritten in module StatsBase at /home/ROCQ/sierra/rgower/.julia/v0.5/StatsBase/src/moments.jl:153.\n",
      "WARNING: Method definition #stdm(Array{Any, 1}, Main.Base.#stdm, AbstractArray{T<:Real, N<:Any}, AbstractArray{T<:Real, N<:Any}, Int64) in module StatsBase overwritten in module StatsBase.\n",
      "WARNING: Method definition quantile(AbstractArray{#T<:Real, N<:Any}) in module StatsBase at /home/ROCQ/sierra/rgower/.julia/v0.5/StatsBase/src/scalarstats.jl:213 overwritten in module StatsBase at /home/ROCQ/sierra/rgower/.julia/v0.5/StatsBase/src/scalarstats.jl:213.\n",
      "WARNING: Method definition isvalid(Array{Char, 1}) in module LegacyStrings at /home/ROCQ/sierra/rgower/.julia/v0.5/LegacyStrings/src/utf32.jl:194 overwritten in module LegacyStrings at /home/ROCQ/sierra/rgower/.julia/v0.5/LegacyStrings/src/utf32.jl:194.\n",
      "WARNING: Method definition convert(Type{#T<:AbstractString}, AbstractArray{#S<:Union{UInt32, Int32, Char}, 1}) in module LegacyStrings at /home/ROCQ/sierra/rgower/.julia/v0.5/LegacyStrings/src/utf32.jl:133 overwritten in module LegacyStrings at /home/ROCQ/sierra/rgower/.julia/v0.5/LegacyStrings/src/utf32.jl:133.\n",
      "WARNING: Method definition ismatch(Main.Base.Range{#R<:Number}, Number) in module Match at /home/ROCQ/sierra/rgower/.julia/v0.5/Match/src/matchutils.jl:8 overwritten in module Match at /home/ROCQ/sierra/rgower/.julia/v0.5/Match/src/matchutils.jl:8.\n",
      "WARNING: Method definition ismatch(Main.Base.Range{#T<:Any}, #T<:Any) in module Match at /home/ROCQ/sierra/rgower/.julia/v0.5/Match/src/matchutils.jl:9 overwritten in module Match at /home/ROCQ/sierra/rgower/.julia/v0.5/Match/src/matchutils.jl:9.\n",
      "WARNING: Method definition ismatch(Char, Number) in module Match at /home/ROCQ/sierra/rgower/.julia/v0.5/Match/src/matchutils.jl:10 overwritten in module Match at /home/ROCQ/sierra/rgower/.julia/v0.5/Match/src/matchutils.jl:10.\n",
      "WARNING: Method definition ismatch(Number, Char) in module Match at /home/ROCQ/sierra/rgower/.julia/v0.5/Match/src/matchutils.jl:11 overwritten in module Match at /home/ROCQ/sierra/rgower/.julia/v0.5/Match/src/matchutils.jl:11.\n",
      "WARNING: Method definition ismatch(Any, Any) in module Match at /home/ROCQ/sierra/rgower/.julia/v0.5/Match/src/matchutils.jl:12 overwritten in module Match at /home/ROCQ/sierra/rgower/.julia/v0.5/Match/src/matchutils.jl:12.\n"
     ]
    },
    {
     "data": {
      "text/plain": [
       "plot_outputs_Plots (generic function with 1 method)"
      ]
     },
     "execution_count": 26,
     "metadata": {},
     "output_type": "execute_result"
    }
   ],
   "source": [
    "using Plots\n",
    "using StatsBase\n",
    "using JLD  \n",
    "include(\"../src/BigRidge.jl\")"
   ]
  },
  {
   "cell_type": "code",
   "execution_count": 27,
   "metadata": {
    "collapsed": true
   },
   "outputs": [],
   "source": [
    "#Basic parameters\n",
    "## Basic parameters\n",
    "maxiter=10^8;\n",
    "max_time = 350;\n",
    "max_epocs = 6;\n",
    "printiters = true;\n",
    "exacterror =true; \n",
    "tol = 10.0^(-3.0);\n",
    "skip_error_calculation = 1;   # number of iterations where error is not calculated (to save time!) ceil((m)^(1/2))"
   ]
  },
  {
   "cell_type": "code",
   "execution_count": null,
   "metadata": {},
   "outputs": [],
   "source": [
    "dataset = \"w8a\"\n",
    "X,y  = loadDataset(dataset);\n",
    "#Make this into a function, includes file in BigRidge.\n",
    "# Return A = X'*X +lambda I.  b= X'*y\n",
    "prob = Prob([],[],[],0,0,\"dataset\");\n",
    "sX = size(X);\n",
    "prob.n=  sX[1];\n",
    "lambda = 1/sX[2] ;\n",
    "prob.A = X'*X+eye(prob.numfeatures)*lambda;\n",
    "prob.b = X'*y;\n",
    "prob.xsol = A\\b;\n",
    "prob.lambda = lambda;\n",
    "#prob.A = X'*X+"
   ]
  },
  {
   "cell_type": "code",
   "execution_count": 5,
   "metadata": {},
   "outputs": [
    {
     "ename": "LoadError",
     "evalue": "UndefVarError: n not defined",
     "output_type": "error",
     "traceback": [
      "UndefVarError: n not defined",
      ""
     ]
    }
   ],
   "source": [
    "options = MyOptions(0.0,\"uni\",tol,restol,maxiter,skip_error_calculation,max_time,printiters,exacterror, \"none\") "
   ]
  },
  {
   "cell_type": "code",
   "execution_count": null,
   "metadata": {
    "collapsed": true
   },
   "outputs": [],
   "source": [
    "# Testing three methods\n",
    "options.max_time = 20; options.restol = 10.0^(-8);\n",
    "OUTPUTS = [];\n",
    "method_name = \"grad\";# gradient descent\n",
    "output= solveRidge(prob, method_name, options);\n",
    "OUTPUTS = [OUTPUTS ; output];\n"
   ]
  },
  {
   "cell_type": "code",
   "execution_count": 22,
   "metadata": {
    "collapsed": true
   },
   "outputs": [],
   "source": [
    "savename = replace(prob.name, r\"[\\/]\", \"-\");\n",
    "save(\"../data/$(savename).jld\", \"OUTPUTS\", OUTPUTS)"
   ]
  },
  {
   "cell_type": "code",
   "execution_count": 32,
   "metadata": {},
   "outputs": [
    {
     "ename": "LoadError",
     "evalue": "LoadError: UndefVarError: pgfplots not defined\nwhile loading In[32], in expression starting on line 1",
     "output_type": "error",
     "traceback": [
      "LoadError: UndefVarError: pgfplots not defined\nwhile loading In[32], in expression starting on line 1",
      ""
     ]
    }
   ],
   "source": [
    "pgfplots()\n",
    "plot_outputs_Plots(OUTPUTS,savename)"
   ]
  },
  {
   "cell_type": "code",
   "execution_count": 3,
   "metadata": {
    "collapsed": true
   },
   "outputs": [],
   "source": [
    "# Loading saved problem data\n",
    "probname = \"rcv1_train.binary-ridge\"#\"gisette_scale-ridge\";  \n",
    "test = load(\"./data/$(probname).jld\")\n",
    "OUTPUTS = test[\"OUTPUTS\"];\n",
    "# mask = [1,3,5]\n",
    "# OUTPUTS[mask]"
   ]
  },
  {
   "cell_type": "code",
   "execution_count": null,
   "metadata": {
    "collapsed": true
   },
   "outputs": [],
   "source": []
  }
 ],
 "metadata": {
  "anaconda-cloud": {},
  "kernelspec": {
   "display_name": "Julia 0.5.2",
   "language": "julia",
   "name": "julia-0.5"
  },
  "language_info": {
   "file_extension": ".jl",
   "mimetype": "application/julia",
   "name": "julia",
   "version": "0.5.2"
  }
 },
 "nbformat": 4,
 "nbformat_minor": 1
}
