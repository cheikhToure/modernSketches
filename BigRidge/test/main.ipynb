{
 "cells": [
  {
   "cell_type": "markdown",
   "metadata": {},
   "source": [
    "The main solving big ridge regression problems"
   ]
  },
  {
   "cell_type": "code",
   "execution_count": 15,
   "metadata": {},
   "outputs": [],
   "source": [
    "workspace()"
   ]
  },
  {
   "cell_type": "code",
   "execution_count": 6,
   "metadata": {},
   "outputs": [
    {
     "name": "stderr",
     "output_type": "stream",
     "text": [
      "WARNING: Method definition (::Type{Main.MyOptions})(Int64, Int64, Int64, AbstractString, Float64, Float64, Int64, Int64, Float64, Bool, Bool) in module Main at /home/local/rgower/modernSketches/julia-BigRidge/src/BigRidge.jl:13 overwritten at /home/local/rgower/modernSketches/julia-BigRidge/src/BigRidge.jl:13.\n",
      "WARNING: Method definition (::Type{Main.MyOptions})(Any, Any, Any, Any, Any, Any, Any, Any, Any, Any, Any) in module Main at /home/local/rgower/modernSketches/julia-BigRidge/src/BigRidge.jl:13 overwritten at /home/local/rgower/modernSketches/julia-BigRidge/src/BigRidge.jl:13.\n",
      "WARNING: Method definition (::Type{Main.Prob})(Array{Float64, N<:Any}, Array{Float64, N<:Any}, Array{Float64, N<:Any}, AbstractString) in module Main at /home/local/rgower/modernSketches/julia-BigRidge/src/BigRidge.jl:28 overwritten at /home/local/rgower/modernSketches/julia-BigRidge/src/BigRidge.jl:28.\n",
      "WARNING: Method definition (::Type{Main.Prob})(Any, Any, Any, Any) in module Main at /home/local/rgower/modernSketches/julia-BigRidge/src/BigRidge.jl:28 overwritten at /home/local/rgower/modernSketches/julia-BigRidge/src/BigRidge.jl:28.\n",
      "WARNING: Method definition (::Type{Main.Method})(Int64, AbstractString, Function, Function) in module Main at /home/local/rgower/modernSketches/julia-BigRidge/src/BigRidge.jl:35 overwritten at /home/local/rgower/modernSketches/julia-BigRidge/src/BigRidge.jl:35.\n",
      "WARNING: Method definition (::Type{Main.Method})(Any, Any, Any, Any) in module Main at /home/local/rgower/modernSketches/julia-BigRidge/src/BigRidge.jl:35 overwritten at /home/local/rgower/modernSketches/julia-BigRidge/src/BigRidge.jl:35.\n",
      "WARNING: Method definition (::Type{Main.Output})(Int64, Int64, Array{Float64, N<:Any}, Array{Float64, N<:Any}, Array{Float64, N<:Any}, AbstractString, AbstractString) in module Main at /home/local/rgower/modernSketches/julia-BigRidge/src/BigRidge.jl:42 overwritten at /home/local/rgower/modernSketches/julia-BigRidge/src/BigRidge.jl:42.\n",
      "WARNING: Method definition (::Type{Main.Output})(Any, Any, Any, Any, Any, Any, Any) in module Main at /home/local/rgower/modernSketches/julia-BigRidge/src/BigRidge.jl:42 overwritten at /home/local/rgower/modernSketches/julia-BigRidge/src/BigRidge.jl:42.\n",
      "WARNING: Method definition solveRidge(Main.Prob, Any, Main.MyOptions) in module Main at /home/local/rgower/modernSketches/julia-BigRidge/src/solveRidge.jl:5 overwritten at /home/local/rgower/modernSketches/julia-BigRidge/src/solveRidge.jl:5.\n"
     ]
    },
    {
     "ename": "LoadError",
     "evalue": "ArgumentError: Module BigRidge not found in current path.\nRun `Pkg.add(\"BigRidge\")` to install the BigRidge package.",
     "output_type": "error",
     "traceback": [
      "ArgumentError: Module BigRidge not found in current path.\nRun `Pkg.add(\"BigRidge\")` to install the BigRidge package.",
      "",
      " in require(::Symbol) at ./loading.jl:365"
     ]
    }
   ],
   "source": [
    "using Plots\n",
    "using StatsBase\n",
    "using JLD  \n",
    "include(\"../src/BigRidge.jl\")\n",
    "importall BigRidge"
   ]
  },
  {
   "cell_type": "code",
   "execution_count": 3,
   "metadata": {},
   "outputs": [
    {
     "name": "stderr",
     "output_type": "stream",
     "text": [
      "\u001b[1m\u001b[34mINFO: Cloning cache of Match from https://github.com/kmsquire/Match.jl.git\n",
      "\u001b[0m\u001b[1m\u001b[34mINFO: Installing Match v0.3.0\n",
      "\u001b[0m\u001b[1m\u001b[34mINFO: Package database updated\n",
      "\u001b[0m\u001b[1m\u001b[34mINFO: METADATA is out-of-date — you may not have the latest version of Match\n",
      "\u001b[0m\u001b[1m\u001b[34mINFO: Use `Pkg.update()` to get the latest versions of your packages\n",
      "\u001b[0m"
     ]
    }
   ],
   "source": [
    "Pkg.add(\"Match\")"
   ]
  },
  {
   "cell_type": "code",
   "execution_count": 27,
   "metadata": {
    "collapsed": true
   },
   "outputs": [],
   "source": [
    "#Basic parameters\n",
    "## Basic parameters\n",
    "maxiter=10^8;\n",
    "max_time = 350;\n",
    "max_epocs = 6;\n",
    "printiters = true;\n",
    "exacterror =true; \n",
    "tol = 10.0^(-3.0);\n",
    "skip_error_calculation = 1;   # number of iterations where error is not calculated (to save time!) ceil((m)^(1/2))"
   ]
  },
  {
   "cell_type": "code",
   "execution_count": 28,
   "metadata": {},
   "outputs": [
    {
     "data": {
      "text/plain": [
       "Pseudoinverse.MyOptions(860,1690,0,\"uni\",0.01,1.0e-5,1000,1,100.0,true,false,\"none\")"
      ]
     },
     "execution_count": 28,
     "metadata": {},
     "output_type": "execute_result"
    }
   ],
   "source": [
    "options = MyOptions(n,m,0,\"uni\",tol,restol,maxiter,skip_error_calculation,max_time,printiters,exacterror, \"none\") "
   ]
  },
  {
   "cell_type": "code",
   "execution_count": null,
   "metadata": {},
   "outputs": [],
   "source": [
    "# Testing three methods\n",
    "options.max_time = 20; options.restol = 10.0^(-8);\n",
    "OUTPUTS = [];\n",
    "method_name = \"grad\";# gradient descent\n",
    "output= pseudoinvert_matrix(prob, method_name, options);\n",
    "OUTPUTS = [OUTPUTS ; output];\n"
   ]
  },
  {
   "cell_type": "code",
   "execution_count": 22,
   "metadata": {},
   "outputs": [],
   "source": [
    "savename = replace(prob.name, r\"[\\/]\", \"-\");\n",
    "save(\"../data/$(savename).jld\", \"OUTPUTS\", OUTPUTS)"
   ]
  },
  {
   "cell_type": "code",
   "execution_count": 32,
   "metadata": {},
   "outputs": [
    {
     "ename": "LoadError",
     "evalue": "LoadError: UndefVarError: pgfplots not defined\nwhile loading In[32], in expression starting on line 1",
     "output_type": "error",
     "traceback": [
      "LoadError: UndefVarError: pgfplots not defined\nwhile loading In[32], in expression starting on line 1",
      ""
     ]
    }
   ],
   "source": [
    "pgfplots()\n",
    "plot_outputs_Plots(OUTPUTS,savename)"
   ]
  },
  {
   "cell_type": "code",
   "execution_count": 3,
   "metadata": {},
   "outputs": [],
   "source": [
    "# Loading saved problem data\n",
    "probname = \"rcv1_train.binary-ridge\"#\"gisette_scale-ridge\";  \n",
    "test = load(\"./data/$(probname).jld\")\n",
    "OUTPUTS = test[\"OUTPUTS\"];\n",
    "# mask = [1,3,5]\n",
    "# OUTPUTS[mask]"
   ]
  },
  {
   "cell_type": "code",
   "execution_count": null,
   "metadata": {
    "collapsed": true
   },
   "outputs": [],
   "source": []
  }
 ],
 "metadata": {
  "anaconda-cloud": {},
  "kernelspec": {
   "display_name": "Julia 0.5.2",
   "language": "julia",
   "name": "julia-0.5"
  },
  "language_info": {
   "file_extension": ".jl",
   "mimetype": "application/julia",
   "name": "julia",
   "version": "0.5.2"
  }
 },
 "nbformat": 4,
 "nbformat_minor": 1
}
