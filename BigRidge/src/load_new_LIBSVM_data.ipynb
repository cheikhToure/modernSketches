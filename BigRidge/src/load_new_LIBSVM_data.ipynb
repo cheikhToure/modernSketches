{
 "cells": [
  {
   "cell_type": "code",
   "execution_count": 1,
   "metadata": {
    "collapsed": false
   },
   "outputs": [],
   "source": [
    "include(\"dataLoad.jl\")\n",
    "initDetails()"
   ]
  },
  {
   "cell_type": "code",
   "execution_count": 2,
   "metadata": {
    "collapsed": false
   },
   "outputs": [],
   "source": [
    "dataset = \"a9a\" #   covtype, connect-4, mushrooms\n",
    "transformDataJLD(dataset)"
   ]
  },
  {
   "cell_type": "code",
   "execution_count": 3,
   "metadata": {
    "collapsed": false
   },
   "outputs": [
    {
     "name": "stdout",
     "output_type": "stream",
     "text": [
      "../data/a9a.jld\n"
     ]
    },
    {
     "data": {
      "text/plain": [
       "(\n",
       "\n",
       "\t[3    ,     1]  =  1.0\n",
       "\t[11   ,     1]  =  1.0\n",
       "\t[14   ,     1]  =  1.0\n",
       "\t[19   ,     1]  =  1.0\n",
       "\t[39   ,     1]  =  1.0\n",
       "\t[42   ,     1]  =  1.0\n",
       "\t[55   ,     1]  =  1.0\n",
       "\t[64   ,     1]  =  1.0\n",
       "\t[67   ,     1]  =  1.0\n",
       "\t[73   ,     1]  =  1.0\n",
       "\t⋮\n",
       "\t[22   , 32561]  =  1.0\n",
       "\t[36   , 32561]  =  1.0\n",
       "\t[40   , 32561]  =  1.0\n",
       "\t[51   , 32561]  =  1.0\n",
       "\t[61   , 32561]  =  1.0\n",
       "\t[67   , 32561]  =  1.0\n",
       "\t[72   , 32561]  =  1.0\n",
       "\t[75   , 32561]  =  1.0\n",
       "\t[76   , 32561]  =  1.0\n",
       "\t[80   , 32561]  =  1.0\n",
       "\t[83   , 32561]  =  1.0,\n",
       "\n",
       "[-1.0,-1.0,-1.0,-1.0,-1.0,-1.0,-1.0,1.0,1.0,1.0  …  -1.0,-1.0,-1.0,1.0,-1.0,-1.0,1.0,-1.0,-1.0,1.0])"
      ]
     },
     "execution_count": 3,
     "metadata": {},
     "output_type": "execute_result"
    }
   ],
   "source": [
    "X,y = loadDataset(dataset) # a9a, gisette, SUSY, covtype"
   ]
  },
  {
   "cell_type": "code",
   "execution_count": 4,
   "metadata": {
    "collapsed": false
   },
   "outputs": [
    {
     "data": {
      "text/plain": [
       "Dict{Symbol,Any} with 3 entries:\n",
       "  :sparsity => 0.112757\n",
       "  :dims     => 123\n",
       "  :n        => 32561"
      ]
     },
     "execution_count": 4,
     "metadata": {},
     "output_type": "execute_result"
    }
   ],
   "source": [
    "showDetails(dataset)"
   ]
  },
  {
   "cell_type": "code",
   "execution_count": null,
   "metadata": {
    "collapsed": true
   },
   "outputs": [],
   "source": []
  }
 ],
 "metadata": {
  "anaconda-cloud": {},
  "kernelspec": {
   "display_name": "Julia 0.5.2",
   "language": "julia",
   "name": "julia-0.5"
  },
  "language_info": {
   "file_extension": ".jl",
   "mimetype": "application/julia",
   "name": "julia",
   "version": "0.5.2"
  }
 },
 "nbformat": 4,
 "nbformat_minor": 1
}
