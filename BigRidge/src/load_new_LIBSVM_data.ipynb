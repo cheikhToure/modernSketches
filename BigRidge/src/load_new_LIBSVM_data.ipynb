{
 "cells": [
  {
   "cell_type": "code",
   "execution_count": 1,
   "metadata": {},
   "outputs": [],
   "source": [
    "include(\"dataLoad.jl\")\n",
    "initDetails()"
   ]
  },
  {
   "cell_type": "code",
   "execution_count": 2,
   "metadata": {},
   "outputs": [
    {
     "data": {
      "text/plain": [
       "Dict{Any,Any} with 0 entries"
      ]
     },
     "execution_count": 2,
     "metadata": {},
     "output_type": "execute_result"
    }
   ],
   "source": [
    "dataset = \"rcv1_train.multiclass\" # rcv1_regions_train   rcv1_train.binary mnist.scale\n",
    "#transformDataJLD(dataset)\n",
    "default_path = \"../data/\";\n",
    "details = load( \"$(default_path)details.jld\", \"details\")"
   ]
  },
  {
   "cell_type": "code",
   "execution_count": 3,
   "metadata": {
    "collapsed": true
   },
   "outputs": [],
   "source": [
    "string(default_path, \"$(dataset)\")\n",
    "X,y = readLIBSVM(string(default_path, \"$(dataset)\"), true) # false leads to regression\n",
    "save(\"$(default_path)$(dataset).jld\", \"X\", X, \"y\", y)\n",
    "detail = Dict(:dims => size(X,1), :n => size(X,2), :sparsity => nnz(X)/(size(X,1)*size(X,2)))\n",
    "details[dataset] = detail\n",
    "save(\"$(default_path)details.jld\",\"details\", details)"
   ]
  },
  {
   "cell_type": "code",
   "execution_count": 4,
   "metadata": {
    "scrolled": true
   },
   "outputs": [
    {
     "name": "stdout",
     "output_type": "stream",
     "text": [
      "../data/rcv1_train.multiclass.jld\n"
     ]
    }
   ],
   "source": [
    "X,y = loadDataset(dataset); # a9a, gisette, SUSY, covtype"
   ]
  },
  {
   "cell_type": "code",
   "execution_count": 5,
   "metadata": {},
   "outputs": [
    {
     "ename": "LoadError",
     "evalue": "KeyError: key \"rcv1_regions_train\" not found",
     "output_type": "error",
     "traceback": [
      "KeyError: key \"rcv1_regions_train\" not found",
      "",
      " in getindex(::Dict{Any,Any}, ::String) at ./dict.jl:697",
      " in showDetails(::String) at /home/local/rgower/modernSketches/BigRidge/src/dataLoad.jl:45"
     ]
    }
   ],
   "source": [
    "showDetails(dataset)"
   ]
  },
  {
   "cell_type": "code",
   "execution_count": null,
   "metadata": {
    "collapsed": true
   },
   "outputs": [],
   "source": []
  }
 ],
 "metadata": {
  "anaconda-cloud": {},
  "kernelspec": {
   "display_name": "Julia 0.5.2",
   "language": "julia",
   "name": "julia-0.5"
  },
  "language_info": {
   "file_extension": ".jl",
   "mimetype": "application/julia",
   "name": "julia",
   "version": "0.5.2"
  }
 },
 "nbformat": 4,
 "nbformat_minor": 1
}
