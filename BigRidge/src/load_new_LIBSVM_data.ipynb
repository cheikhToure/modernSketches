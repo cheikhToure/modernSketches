{
 "cells": [
  {
   "cell_type": "code",
   "execution_count": 14,
   "metadata": {},
   "outputs": [
    {
     "name": "stderr",
     "output_type": "stream",
     "text": [
      "WARNING: Method definition initDetails() in module Main at /home/local/rgower/modernSketches/BigRidge/src/dataLoad.jl:26 overwritten at /home/local/rgower/modernSketches/BigRidge/src/dataLoad.jl:26.\n",
      "WARNING: Method definition transformDataJLD(Any) in module Main at /home/local/rgower/modernSketches/BigRidge/src/dataLoad.jl:31 overwritten at /home/local/rgower/modernSketches/BigRidge/src/dataLoad.jl:31.\n",
      "WARNING: Method definition loadDataset(Any) in module Main at /home/local/rgower/modernSketches/BigRidge/src/dataLoad.jl:40 overwritten at /home/local/rgower/modernSketches/BigRidge/src/dataLoad.jl:40.\n",
      "WARNING: Method definition showDetails(Any) in module Main at /home/local/rgower/modernSketches/BigRidge/src/dataLoad.jl:45 overwritten at /home/local/rgower/modernSketches/BigRidge/src/dataLoad.jl:45.\n",
      "WARNING: Method definition readLIBSVM(AbstractString, Bool) in module Main at /home/local/rgower/modernSketches/BigRidge/src/dataLoad.jl:51 overwritten at /home/local/rgower/modernSketches/BigRidge/src/dataLoad.jl:51.\n"
     ]
    }
   ],
   "source": [
    "include(\"dataLoad.jl\")\n",
    "initDetails()"
   ]
  },
  {
   "cell_type": "code",
   "execution_count": 15,
   "metadata": {},
   "outputs": [
    {
     "data": {
      "text/plain": [
       "Dict{Any,Any} with 0 entries"
      ]
     },
     "execution_count": 15,
     "metadata": {},
     "output_type": "execute_result"
    }
   ],
   "source": [
    "dataset = \"mnist.scale\" #   covtype, connect-4, mushrooms\n",
    "#transformDataJLD(dataset)\n",
    "default_path = \"../data/\";\n",
    "details = load( \"$(default_path)details.jld\", \"details\")"
   ]
  },
  {
   "cell_type": "code",
   "execution_count": null,
   "metadata": {},
   "outputs": [],
   "source": [
    "string(default_path, \"$(dataset)\")\n",
    "X,y = readLIBSVM(string(default_path, \"$(dataset)\"), true) # false leads to regression\n",
    "save(\"$(default_path)$(dataset).jld\", \"X\", X, \"y\", y)\n",
    "detail = Dict(:dims => size(X,1), :n => size(X,2), :sparsity => nnz(X)/(size(X,1)*size(X,2)))\n",
    "details[dataset] = detail\n",
    "save(\"$(default_path)details.jld\",\"details\", details)"
   ]
  },
  {
   "cell_type": "code",
   "execution_count": 3,
   "metadata": {},
   "outputs": [
    {
     "name": "stdout",
     "output_type": "stream",
     "text": [
      "../data/protein.jld\n"
     ]
    },
    {
     "ename": "LoadError",
     "evalue": "File ../data/protein.jld cannot be found",
     "output_type": "error",
     "traceback": [
      "File ../data/protein.jld cannot be found",
      "",
      " in #jldopen#9(::Bool, ::Bool, ::Bool, ::Function, ::String, ::Bool, ::Bool, ::Bool, ::Bool, ::Bool) at /home/ROCQ/sierra/rgower/.julia/v0.5/JLD/src/JLD.jl:164",
      " in (::JLD.#kw##jldopen)(::Array{Any,1}, ::JLD.#jldopen, ::String, ::Bool, ::Bool, ::Bool, ::Bool, ::Bool) at ./<missing>:0",
      " in #jldopen#10(::Bool, ::Bool, ::Bool, ::Function, ::String, ::String) at /home/ROCQ/sierra/rgower/.julia/v0.5/JLD/src/JLD.jl:244",
      " in jldopen(::String, ::String) at /home/ROCQ/sierra/rgower/.julia/v0.5/JLD/src/JLD.jl:244",
      " in #jldopen#11(::Array{Any,1}, ::Function, ::JLD.##43#45{Tuple{String,String}}, ::String, ::Vararg{String,N}) at /home/ROCQ/sierra/rgower/.julia/v0.5/JLD/src/JLD.jl:254",
      " in load(::FileIO.File{FileIO.DataFormat{:JLD}}, ::String, ::String, ::Vararg{String,N}) at /home/ROCQ/sierra/rgower/.julia/v0.5/JLD/src/JLD.jl:1280",
      " in #load#13(::Array{Any,1}, ::Function, ::String, ::String, ::Vararg{String,N}) at /home/ROCQ/sierra/rgower/.julia/v0.5/FileIO/src/loadsave.jl:47",
      " in loadDataset(::String) at /home/local/rgower/modernSketches/BigRidge/src/dataLoad.jl:41"
     ]
    }
   ],
   "source": [
    "X,y = loadDataset(dataset); # a9a, gisette, SUSY, covtype"
   ]
  },
  {
   "cell_type": "code",
   "execution_count": 4,
   "metadata": {},
   "outputs": [
    {
     "ename": "LoadError",
     "evalue": "KeyError: key \"protein\" not found",
     "output_type": "error",
     "traceback": [
      "KeyError: key \"protein\" not found",
      "",
      " in getindex(::Dict{Any,Any}, ::String) at ./dict.jl:697",
      " in showDetails(::String) at /home/local/rgower/modernSketches/BigRidge/src/dataLoad.jl:45"
     ]
    }
   ],
   "source": [
    "showDetails(dataset)"
   ]
  }
 ],
 "metadata": {
  "anaconda-cloud": {},
  "kernelspec": {
   "display_name": "Julia 0.5.2",
   "language": "julia",
   "name": "julia-0.5"
  },
  "language_info": {
   "file_extension": ".jl",
   "mimetype": "application/julia",
   "name": "julia",
   "version": "0.5.2"
  }
 },
 "nbformat": 4,
 "nbformat_minor": 1
}
