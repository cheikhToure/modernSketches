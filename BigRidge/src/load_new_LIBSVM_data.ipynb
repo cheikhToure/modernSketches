{
 "cells": [
  {
   "cell_type": "code",
   "execution_count": 25,
   "metadata": {},
   "outputs": [
    {
     "name": "stderr",
     "output_type": "stream",
     "text": [
      "WARNING: Method definition initDetails() in module Main at /home/local/rgower/modernSketches/BigRidge/src/dataLoad.jl:26 overwritten at /home/local/rgower/modernSketches/BigRidge/src/dataLoad.jl:26.\n",
      "WARNING: Method definition transformDataJLD(Any) in module Main at /home/local/rgower/modernSketches/BigRidge/src/dataLoad.jl:31 overwritten at /home/local/rgower/modernSketches/BigRidge/src/dataLoad.jl:31.\n",
      "WARNING: Method definition loadDataset(Any) in module Main at /home/local/rgower/modernSketches/BigRidge/src/dataLoad.jl:40 overwritten at /home/local/rgower/modernSketches/BigRidge/src/dataLoad.jl:40.\n",
      "WARNING: Method definition showDetails(Any) in module Main at /home/local/rgower/modernSketches/BigRidge/src/dataLoad.jl:45 overwritten at /home/local/rgower/modernSketches/BigRidge/src/dataLoad.jl:45.\n",
      "WARNING: Method definition readLIBSVM(AbstractString, Bool) in module Main at /home/local/rgower/modernSketches/BigRidge/src/dataLoad.jl:51 overwritten at /home/local/rgower/modernSketches/BigRidge/src/dataLoad.jl:51.\n"
     ]
    }
   ],
   "source": [
    "include(\"dataLoad.jl\")\n",
    "initDetails()"
   ]
  },
  {
   "cell_type": "code",
   "execution_count": 26,
   "metadata": {},
   "outputs": [
    {
     "data": {
      "text/plain": [
       "Dict{Any,Any} with 0 entries"
      ]
     },
     "execution_count": 26,
     "metadata": {},
     "output_type": "execute_result"
    }
   ],
   "source": [
    "dataset = \"rcv1_train.binary\" #   rcv1_train.binary\n",
    "#transformDataJLD(dataset)\n",
    "default_path = \"../data/\";\n",
    "details = load( \"$(default_path)details.jld\", \"details\")"
   ]
  },
  {
   "cell_type": "code",
   "execution_count": 27,
   "metadata": {},
   "outputs": [],
   "source": [
    "string(default_path, \"$(dataset)\")\n",
    "X,y = readLIBSVM(string(default_path, \"$(dataset)\"), true) # false leads to regression\n",
    "save(\"$(default_path)$(dataset).jld\", \"X\", X, \"y\", y)\n",
    "detail = Dict(:dims => size(X,1), :n => size(X,2), :sparsity => nnz(X)/(size(X,1)*size(X,2)))\n",
    "details[dataset] = detail\n",
    "save(\"$(default_path)details.jld\",\"details\", details)"
   ]
  },
  {
   "cell_type": "code",
   "execution_count": 28,
   "metadata": {},
   "outputs": [
    {
     "name": "stdout",
     "output_type": "stream",
     "text": [
      "../data/rcv1_train.binary.jld\n"
     ]
    }
   ],
   "source": [
    "X,y = loadDataset(dataset); # a9a, gisette, SUSY, covtype"
   ]
  },
  {
   "cell_type": "code",
   "execution_count": 29,
   "metadata": {},
   "outputs": [
    {
     "data": {
      "text/plain": [
       "Dict{Symbol,Any} with 3 entries:\n",
       "  :sparsity => 0.00156769\n",
       "  :dims     => 47236\n",
       "  :n        => 20242"
      ]
     },
     "execution_count": 29,
     "metadata": {},
     "output_type": "execute_result"
    }
   ],
   "source": [
    "showDetails(dataset)"
   ]
  },
  {
   "cell_type": "code",
   "execution_count": null,
   "metadata": {
    "collapsed": true
   },
   "outputs": [],
   "source": []
  }
 ],
 "metadata": {
  "anaconda-cloud": {},
  "kernelspec": {
   "display_name": "Julia 0.5.2",
   "language": "julia",
   "name": "julia-0.5"
  },
  "language_info": {
   "file_extension": ".jl",
   "mimetype": "application/julia",
   "name": "julia",
   "version": "0.5.2"
  }
 },
 "nbformat": 4,
 "nbformat_minor": 1
}
