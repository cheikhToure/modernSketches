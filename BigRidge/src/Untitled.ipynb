{
 "cells": [
  {
   "cell_type": "code",
   "execution_count": 1,
   "metadata": {
    "collapsed": false
   },
   "outputs": [
    {
     "name": "stdout",
     "output_type": "stream",
     "text": [
      "../data/w8a.jld\n"
     ]
    },
    {
     "data": {
      "text/plain": [
       "Dict{Symbol,Any} with 3 entries:\n",
       "  :sparsity => 0.038834\n",
       "  :dims     => 300\n",
       "  :n        => 49749"
      ]
     },
     "execution_count": 1,
     "metadata": {},
     "output_type": "execute_result"
    }
   ],
   "source": [
    "include(\"BigRidge.jl\")\n",
    "\n",
    "#include(\"dataLoad.jl\")\n",
    "initDetails()\n",
    "\n",
    "dataset = \"w8a\" #  w1a, SUSY,\n",
    "#for  dataset in datasets\n",
    "transformDataJLD(dataset)\n",
    "X,y = loadDataset(dataset) #\n",
    "showDetails(dataset)\n",
    "#end\n",
    "\n"
   ]
  },
  {
   "cell_type": "code",
   "execution_count": 26,
   "metadata": {
    "collapsed": false
   },
   "outputs": [
    {
     "name": "stdout",
     "output_type": "stream",
     "text": [
      "CD\n",
      "-------------------\n",
      "It   | Error% | Residual |  Time   \n",
      "-------------------\n"
     ]
    },
    {
     "ename": "LoadError",
     "evalue": "Base.LinAlg.SingularException(52)",
     "output_type": "error",
     "traceback": [
      "Base.LinAlg.SingularException(52)",
      "",
      " in A_ldiv_B! at ./linalg/lu.jl:176 [inlined]",
      " in \\(::Base.LinAlg.LU{Float64,Array{Float64,2}}, ::Array{Float64,1}) at ./linalg/factorization.jl:39",
      " in \\(::Array{Float64,2}, ::Array{Float64,1}) at ./linalg/generic.jl:361",
      " in step_CD(::Prob, ::Array{Float64,1}, ::Array{Float64,1}, ::MyOptions) at /home/juser/modernSketches/BigRidge/src/CD.jl:13",
      " in solveRidge(::Prob, ::String, ::MyOptions) at /home/juser/modernSketches/BigRidge/src/solveRidge.jl:36"
     ]
    }
   ],
   "source": [
    "mat = X*X';\n",
    "bias = X*y;\n",
    "n,~ = size(mat);\n",
    "lambda = 0.1;\n",
    "xsolCD = zeros(bias);\n",
    "\n",
    "prob = Prob(mat,bias,xsolCD,n,lambda,\"CD\");\n",
    "\n",
    "sketchCD = n-100;\n",
    "tolCD = 0.0;\n",
    "restolCD = 0.0;\n",
    "maxiterCD = 10;\n",
    "skipCD = 2;\n",
    "max_timeCD = 10000.0;\n",
    "\n",
    "\n",
    "\n",
    "options = MyOptions(sketchCD,\"CD\",tolCD,restolCD,maxiterCD, skipCD,max_timeCD,true,true)\n",
    "\n",
    "\n",
    "method_name = \"CD\";\n",
    "\n",
    "solveRidge(prob, method_name, options )"
   ]
  },
  {
   "cell_type": "code",
   "execution_count": null,
   "metadata": {
    "collapsed": true
   },
   "outputs": [],
   "source": []
  }
 ],
 "metadata": {
  "kernelspec": {
   "display_name": "Julia 0.5.2",
   "language": "julia",
   "name": "julia-0.5"
  },
  "language_info": {
   "file_extension": ".jl",
   "mimetype": "application/julia",
   "name": "julia",
   "version": "0.5.2"
  }
 },
 "nbformat": 4,
 "nbformat_minor": 2
}
