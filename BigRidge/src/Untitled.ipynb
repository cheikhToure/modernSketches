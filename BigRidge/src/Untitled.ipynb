{
 "cells": [
  {
   "cell_type": "code",
   "execution_count": 111,
   "metadata": {
    "collapsed": true
   },
   "outputs": [],
   "source": [
    "workspace()"
   ]
  },
  {
   "cell_type": "code",
   "execution_count": 112,
   "metadata": {
    "collapsed": false
   },
   "outputs": [
    {
     "name": "stderr",
     "output_type": "stream",
     "text": [
      "WARNING: Method definition (::Type{Main.Base.LinearIndexing})(Type{#T<:Any}) in module Compat at /home/juser/.julia/v0.5/Compat/src/Compat.jl:1430 overwritten in module Compat at /home/juser/.julia/v0.5/Compat/src/Compat.jl:1430.\n",
      "WARNING: Method definition (::Type{Main.Base.LinearIndexing})(Any...) in module Compat at /home/juser/.julia/v0.5/Compat/src/Compat.jl:1431 overwritten in module Compat at /home/juser/.julia/v0.5/Compat/src/Compat.jl:1431.\n",
      "WARNING: Method definition redirect_stdout(Function, Any) in module Compat at /home/juser/.julia/v0.5/Compat/src/Compat.jl:1057 overwritten in module Compat at /home/juser/.julia/v0.5/Compat/src/Compat.jl:1057.\n",
      "WARNING: Method definition broadcast(Any, Tuple{Vararg{T<:Any, #N<:Any}}, Tuple{Vararg{T<:Any, #N<:Any}}...) in module Compat at /home/juser/.julia/v0.5/Compat/src/Compat.jl:1122 overwritten in module Compat at /home/juser/.julia/v0.5/Compat/src/Compat.jl:1122.\n",
      "WARNING: Method definition unsafe_trunc(Type{#T<:Integer}, Integer) in module Compat at /home/juser/.julia/v0.5/Compat/src/Compat.jl:1469 overwritten in module Compat at /home/juser/.julia/v0.5/Compat/src/Compat.jl:1469.\n",
      "WARNING: Method definition macroexpand(Module, ANY<:Any) in module Compat at /home/juser/.julia/v0.5/Compat/src/Compat.jl:1491 overwritten in module Compat at /home/juser/.julia/v0.5/Compat/src/Compat.jl:1491.\n",
      "WARNING: Method definition !(Function) in module Compat at /home/juser/.julia/v0.5/Compat/src/Compat.jl:1205 overwritten in module Compat at /home/juser/.julia/v0.5/Compat/src/Compat.jl:1205.\n",
      "WARNING: Method definition isless(Union{Main.Base.Dates.Millisecond, Main.Base.Dates.Minute, Main.Base.Dates.Week, Main.Base.Dates.Second, Main.Base.Dates.Day, Main.Base.Dates.Hour}, Union{Main.Base.Dates.Year, Main.Base.Dates.Month}) in module Compat at /home/juser/.julia/v0.5/Compat/src/Compat.jl:1529 overwritten in module Compat at /home/juser/.julia/v0.5/Compat/src/Compat.jl:1529.\n",
      "WARNING: Method definition isless(Union{Main.Base.Dates.Year, Main.Base.Dates.Month}, Union{Main.Base.Dates.Millisecond, Main.Base.Dates.Minute, Main.Base.Dates.Week, Main.Base.Dates.Second, Main.Base.Dates.Day, Main.Base.Dates.Hour}) in module Compat at /home/juser/.julia/v0.5/Compat/src/Compat.jl:1530 overwritten in module Compat at /home/juser/.julia/v0.5/Compat/src/Compat.jl:1530.\n",
      "WARNING: Method definition isless(Main.Base.Dates.Period, Main.Base.Dates.Period) in module Compat at /home/juser/.julia/v0.5/Compat/src/Compat.jl:1524 overwritten in module Compat at /home/juser/.julia/v0.5/Compat/src/Compat.jl:1524.\n",
      "WARNING: Method definition expand(Module, ANY<:Any) in module Compat at /home/juser/.julia/v0.5/Compat/src/Compat.jl:1490 overwritten in module Compat at /home/juser/.julia/v0.5/Compat/src/Compat.jl:1490.\n",
      "WARNING: Method definition redirect_stderr(Function, Any) in module Compat at /home/juser/.julia/v0.5/Compat/src/Compat.jl:1057 overwritten in module Compat at /home/juser/.julia/v0.5/Compat/src/Compat.jl:1057.\n",
      "WARNING: Method definition ones(AbstractArray) in module Compat at /home/juser/.julia/v0.5/Compat/src/Compat.jl:1440 overwritten in module Compat at /home/juser/.julia/v0.5/Compat/src/Compat.jl:1440.\n",
      "WARNING: Method definition ones(AbstractArray, Type) in module Compat at /home/juser/.julia/v0.5/Compat/src/Compat.jl:1440 overwritten in module Compat at /home/juser/.julia/v0.5/Compat/src/Compat.jl:1440.\n",
      "WARNING: Method definition ones(AbstractArray, Type, Tuple) in module Compat at /home/juser/.julia/v0.5/Compat/src/Compat.jl:1438 overwritten in module Compat at /home/juser/.julia/v0.5/Compat/src/Compat.jl:1438.\n",
      "WARNING: Method definition ones(AbstractArray, Type, Any...) in module Compat at /home/juser/.julia/v0.5/Compat/src/Compat.jl:1439 overwritten in module Compat at /home/juser/.julia/v0.5/Compat/src/Compat.jl:1439.\n",
      "WARNING: Method definition bswap(Main.Base.Complex) in module Compat at /home/juser/.julia/v0.5/Compat/src/Compat.jl:1474 overwritten in module Compat at /home/juser/.julia/v0.5/Compat/src/Compat.jl:1474.\n",
      "WARNING: Method definition convert(Type{Main.Base.Set{#T<:Any}}, Main.Base.Set{#T<:Any}) in module Compat at /home/juser/.julia/v0.5/Compat/src/Compat.jl:1459 overwritten in module Compat at /home/juser/.julia/v0.5/Compat/src/Compat.jl:1459.\n",
      "WARNING: Method definition convert(Type{Main.Base.Set{#T<:Any}}, Main.Base.Set) in module Compat at /home/juser/.julia/v0.5/Compat/src/Compat.jl:1460 overwritten in module Compat at /home/juser/.julia/v0.5/Compat/src/Compat.jl:1460.\n",
      "WARNING: Method definition redirect_stdin(Function, Any) in module Compat at /home/juser/.julia/v0.5/Compat/src/Compat.jl:1057 overwritten in module Compat at /home/juser/.julia/v0.5/Compat/src/Compat.jl:1057.\n",
      "WARNING: Method definition ==(Union{Main.Base.Dates.Millisecond, Main.Base.Dates.Minute, Main.Base.Dates.Week, Main.Base.Dates.Second, Main.Base.Dates.Day, Main.Base.Dates.Hour}, Union{Main.Base.Dates.Year, Main.Base.Dates.Month}) in module Compat at /home/juser/.julia/v0.5/Compat/src/Compat.jl:1527 overwritten in module Compat at /home/juser/.julia/v0.5/Compat/src/Compat.jl:1527.\n",
      "WARNING: Method definition ==(Union{Main.Base.Dates.Year, Main.Base.Dates.Month}, Union{Main.Base.Dates.Millisecond, Main.Base.Dates.Minute, Main.Base.Dates.Week, Main.Base.Dates.Second, Main.Base.Dates.Day, Main.Base.Dates.Hour}) in module Compat at /home/juser/.julia/v0.5/Compat/src/Compat.jl:1528 overwritten in module Compat at /home/juser/.julia/v0.5/Compat/src/Compat.jl:1528.\n",
      "WARNING: Method definition ==(Main.Base.Dates.Period, Main.Base.Dates.Period) in module Compat at /home/juser/.julia/v0.5/Compat/src/Compat.jl:1523 overwritten in module Compat at /home/juser/.julia/v0.5/Compat/src/Compat.jl:1523.\n",
      "WARNING: Method definition include_string(Module, String, String) in module Compat at /home/juser/.julia/v0.5/Compat/src/Compat.jl:1492 overwritten in module Compat at /home/juser/.julia/v0.5/Compat/src/Compat.jl:1492.\n",
      "WARNING: Method definition include_string(Module, AbstractString) in module Compat at /home/juser/.julia/v0.5/Compat/src/Compat.jl:1494 overwritten in module Compat at /home/juser/.julia/v0.5/Compat/src/Compat.jl:1494.\n",
      "WARNING: Method definition include_string(Module, AbstractString, AbstractString) in module Compat at /home/juser/.julia/v0.5/Compat/src/Compat.jl:1494 overwritten in module Compat at /home/juser/.julia/v0.5/Compat/src/Compat.jl:1494.\n",
      "WARNING: Method definition isnull(Any) in module Compat at /home/juser/.julia/v0.5/Compat/src/Compat.jl:1137 overwritten in module Compat at /home/juser/.julia/v0.5/Compat/src/Compat.jl:1137.\n",
      "WARNING: Method definition zeros(AbstractArray) in module Compat at /home/juser/.julia/v0.5/Compat/src/Compat.jl:1440 overwritten in module Compat at /home/juser/.julia/v0.5/Compat/src/Compat.jl:1440.\n",
      "WARNING: Method definition zeros(AbstractArray, Type) in module Compat at /home/juser/.julia/v0.5/Compat/src/Compat.jl:1440 overwritten in module Compat at /home/juser/.julia/v0.5/Compat/src/Compat.jl:1440.\n",
      "WARNING: Method definition zeros(AbstractArray, Type, Tuple) in module Compat at /home/juser/.julia/v0.5/Compat/src/Compat.jl:1438 overwritten in module Compat at /home/juser/.julia/v0.5/Compat/src/Compat.jl:1438.\n",
      "WARNING: Method definition zeros(AbstractArray, Type, Any...) in module Compat at /home/juser/.julia/v0.5/Compat/src/Compat.jl:1439 overwritten in module Compat at /home/juser/.julia/v0.5/Compat/src/Compat.jl:1439.\n",
      "WARNING: Method definition isassigned(Main.Base.RefValue) in module Compat at /home/juser/.julia/v0.5/Compat/src/Compat.jl:1465 overwritten in module Compat at /home/juser/.julia/v0.5/Compat/src/Compat.jl:1465.\n",
      "WARNING: Method definition take!(Task) in module Compat at /home/juser/.julia/v0.5/Compat/src/Compat.jl:53 overwritten in module Compat at /home/juser/.julia/v0.5/Compat/src/Compat.jl:53.\n",
      "WARNING: Method definition take!(Main.Base.AbstractIOBuffer) in module Compat at /home/juser/.julia/v0.5/Compat/src/Compat.jl:1172 overwritten in module Compat at /home/juser/.julia/v0.5/Compat/src/Compat.jl:1172.\n",
      "WARNING: Method definition sort(Main.Base.Dict) in module DataStructures at /home/juser/.julia/v0.5/DataStructures/src/dict_sorting.jl:27 overwritten in module DataStructures at /home/juser/.julia/v0.5/DataStructures/src/dict_sorting.jl:27.\n",
      "WARNING: Method definition #sort(Array{Any, 1}, Main.Base.#sort, Main.Base.Dict) in module DataStructures overwritten in module DataStructures.\n",
      "WARNING: Method definition #stdm(Array{Any, 1}, Main.Base.#stdm, AbstractArray{T<:Real, N<:Any}, AbstractArray{T<:Real, N<:Any}, Int64) in module StatsBase overwritten in module StatsBase.\n",
      "WARNING: Method definition stdm(AbstractArray{T<:Real, N<:Any}, AbstractArray{T<:Real, N<:Any}, Int64) in module StatsBase at /home/juser/.julia/v0.5/StatsBase/src/moments.jl:153 overwritten in module StatsBase at /home/juser/.julia/v0.5/StatsBase/src/moments.jl:153.\n",
      "WARNING: Method definition quantile(AbstractArray{#T<:Real, N<:Any}) in module StatsBase at /home/juser/.julia/v0.5/StatsBase/src/scalarstats.jl:213 overwritten in module StatsBase at /home/juser/.julia/v0.5/StatsBase/src/scalarstats.jl:213.\n",
      "WARNING: Method definition isvalid(Array{Char, 1}) in module LegacyStrings at /home/juser/.julia/v0.5/LegacyStrings/src/utf32.jl:194 overwritten in module LegacyStrings at /home/juser/.julia/v0.5/LegacyStrings/src/utf32.jl:194.\n",
      "WARNING: Method definition convert(Type{#T<:AbstractString}, AbstractArray{#S<:Union{Char, Int32, UInt32}, 1}) in module LegacyStrings at /home/juser/.julia/v0.5/LegacyStrings/src/utf32.jl:133 overwritten in module LegacyStrings at /home/juser/.julia/v0.5/LegacyStrings/src/utf32.jl:133.\n",
      "WARNING: Method definition ismatch(Main.Base.Range{#R<:Number}, Number) in module Match at /home/juser/.julia/v0.5/Match/src/matchutils.jl:8 overwritten in module Match at /home/juser/.julia/v0.5/Match/src/matchutils.jl:8.\n",
      "WARNING: Method definition ismatch(Main.Base.Range{#T<:Any}, #T<:Any) in module Match at /home/juser/.julia/v0.5/Match/src/matchutils.jl:9 overwritten in module Match at /home/juser/.julia/v0.5/Match/src/matchutils.jl:9.\n",
      "WARNING: Method definition ismatch(Char, Number) in module Match at /home/juser/.julia/v0.5/Match/src/matchutils.jl:10 overwritten in module Match at /home/juser/.julia/v0.5/Match/src/matchutils.jl:10.\n",
      "WARNING: Method definition ismatch(Number, Char) in module Match at /home/juser/.julia/v0.5/Match/src/matchutils.jl:11 overwritten in module Match at /home/juser/.julia/v0.5/Match/src/matchutils.jl:11.\n",
      "WARNING: Method definition ismatch(Any, Any) in module Match at /home/juser/.julia/v0.5/Match/src/matchutils.jl:12 overwritten in module Match at /home/juser/.julia/v0.5/Match/src/matchutils.jl:12.\n"
     ]
    },
    {
     "data": {
      "text/plain": [
       "plot_outputs_Plots (generic function with 1 method)"
      ]
     },
     "execution_count": 112,
     "metadata": {},
     "output_type": "execute_result"
    }
   ],
   "source": [
    "using StatsBase\n",
    "using JLD  \n",
    "include(\"../src/BigRidge.jl\")"
   ]
  },
  {
   "cell_type": "code",
   "execution_count": 113,
   "metadata": {
    "collapsed": true
   },
   "outputs": [],
   "source": [
    "#Basic parameters\n",
    "## Basic parameters\n",
    "maxiter=10^8;\n",
    "max_time = 10;\n",
    "max_epocs = 100;\n",
    "printiters = true;\n",
    "exacterror =true; \n",
    "tol = 10.0^(-5.0);\n",
    "restol = 10.0^(-5.0);\n",
    "skip_error_calculation = 25;   # number of iterations where error is not calculated (to save time!) ceil((m)^(1/2))"
   ]
  },
  {
   "cell_type": "code",
   "execution_count": 114,
   "metadata": {
    "collapsed": false
   },
   "outputs": [
    {
     "name": "stdout",
     "output_type": "stream",
     "text": [
      "../data/a9a.jld\n"
     ]
    }
   ],
   "source": [
    "dataset = \"a9a\"\n",
    "prob = defineProb(dataset);"
   ]
  },
  {
   "cell_type": "code",
   "execution_count": 115,
   "metadata": {
    "collapsed": false
   },
   "outputs": [
    {
     "data": {
      "text/plain": [
       "3.9795914751582206e-11"
      ]
     },
     "execution_count": 115,
     "metadata": {},
     "output_type": "execute_result"
    }
   ],
   "source": [
    "norm(prob.A*prob.xsol - prob.b)"
   ]
  },
  {
   "cell_type": "code",
   "execution_count": 116,
   "metadata": {
    "collapsed": true
   },
   "outputs": [],
   "source": [
    "options = MyOptions(0,\"uni\",tol,restol,maxiter,skip_error_calculation,max_time,printiters,exacterror) \n",
    "OUTPUTS = [];"
   ]
  },
  {
   "cell_type": "code",
   "execution_count": 118,
   "metadata": {
    "collapsed": false,
    "scrolled": true
   },
   "outputs": [
    {
     "name": "stdout",
     "output_type": "stream",
     "text": [
      "flopsperiter: 247\n",
      "Hadamard\n",
      "-------------------\n",
      "It   | Error% | Residual |  Time   \n",
      "-------------------\n",
      " 25  | 68.82  |  29.25  | 0.2173 \n",
      " 50  | 103.37  |  29.46  | 0.4221 \n",
      " 75  | 131.05  |  42.13  | 0.6329 \n",
      "100  | 3224.42  |  234.87  | 0.8489 \n",
      "125  | 13199.60  |  1198.63  | 1.0582 \n",
      "150  | 7897.73  |  244.29  | 1.2683 \n",
      "175  | 10574.99  |  490.55  | 1.4798 \n",
      "200  | 32947.44  |  547.46  | 1.9046 \n",
      "  2.046934 seconds (16.04 M allocations: 1.869 GB, 29.52% gc time)\n"
     ]
    }
   ],
   "source": [
    "# Testing Hadamard Sketch\n",
    "method_name = \"Hadamard\";# ROS\n",
    "options.sketchsize =1; # Int(floor(log2(prob.n)));\n",
    "options.maxiter=200;\n",
    "options.skip_error_calculation =25;\n",
    "@time  output= solveRidge(prob, method_name, options);\n",
    "OUTPUTS = [OUTPUTS ; output];"
   ]
  },
  {
   "cell_type": "code",
   "execution_count": 101,
   "metadata": {
    "collapsed": false
   },
   "outputs": [
    {
     "name": "stdout",
     "output_type": "stream",
     "text": [
      "countmin\n",
      "-------------------\n",
      "It   | Error% | Residual |  Time   \n",
      "-------------------\n",
      " 25  | 1443.61  |  136.25  | 0.0670 \n",
      " 50  | 2487.99  |  221.32  | 0.0976 \n",
      " 75  | 2288.15  |  158.16  | 0.1193 \n",
      "100  | 2658.04  |  164.84  | 0.1391 \n",
      "125  | 2233.38  |  167.09  | 0.1578 \n",
      "150  | 2317.26  |  145.59  | 0.1792 \n",
      "175  | 3048.05  |  154.43  | 0.2042 \n",
      "200  | 2843.23  |  177.12  | 0.2629 \n",
      "  0.388885 seconds (322.46 k allocations: 252.722 MB, 16.05% gc time)\n"
     ]
    }
   ],
   "source": [
    "# Testing countmin \n",
    "options.max_time = 2; options.restol = 10.0^(-8); \n",
    "options.sketchsize =5;\n",
    "options.maxiter=200;\n",
    "\n",
    "options.skip_error_calculation =25;\n",
    "method_name = \"countmin\";# gradient descent\n",
    "@time output= solveRidge(prob, method_name, options);\n",
    "OUTPUTS = [OUTPUTS ; output];"
   ]
  },
  {
   "cell_type": "code",
   "execution_count": 87,
   "metadata": {
    "collapsed": false
   },
   "outputs": [],
   "source": [
    "sgn = reshape(sample(1:2,prob.n) * 2 - 3,prob.n,1); # one half are +1 and the rest are −1\n",
    "\n"
   ]
  },
  {
   "cell_type": "code",
   "execution_count": null,
   "metadata": {
    "collapsed": true
   },
   "outputs": [],
   "source": []
  }
 ],
 "metadata": {
  "kernelspec": {
   "display_name": "Julia 0.5.2",
   "language": "julia",
   "name": "julia-0.5"
  },
  "language_info": {
   "file_extension": ".jl",
   "mimetype": "application/julia",
   "name": "julia",
   "version": "0.5.2"
  }
 },
 "nbformat": 4,
 "nbformat_minor": 2
}
