{
 "cells": [
  {
   "cell_type": "code",
   "execution_count": 11,
   "metadata": {
    "collapsed": true
   },
   "outputs": [],
   "source": [
    "workspace()"
   ]
  },
  {
   "cell_type": "code",
   "execution_count": 12,
   "metadata": {
    "collapsed": false
   },
   "outputs": [
    {
     "name": "stderr",
     "output_type": "stream",
     "text": [
      "WARNING: Method definition (::Type{Main.Base.LinearIndexing})(Type{#T<:Any}) in module Compat at /home/juser/.julia/v0.5/Compat/src/Compat.jl:1430 overwritten in module Compat at /home/juser/.julia/v0.5/Compat/src/Compat.jl:1430.\n",
      "WARNING: Method definition (::Type{Main.Base.LinearIndexing})(Any...) in module Compat at /home/juser/.julia/v0.5/Compat/src/Compat.jl:1431 overwritten in module Compat at /home/juser/.julia/v0.5/Compat/src/Compat.jl:1431.\n",
      "WARNING: Method definition redirect_stdout(Function, Any) in module Compat at /home/juser/.julia/v0.5/Compat/src/Compat.jl:1057 overwritten in module Compat at /home/juser/.julia/v0.5/Compat/src/Compat.jl:1057.\n",
      "WARNING: Method definition broadcast(Any, Tuple{Vararg{T<:Any, #N<:Any}}, Tuple{Vararg{T<:Any, #N<:Any}}...) in module Compat at /home/juser/.julia/v0.5/Compat/src/Compat.jl:1122 overwritten in module Compat at /home/juser/.julia/v0.5/Compat/src/Compat.jl:1122.\n",
      "WARNING: Method definition unsafe_trunc(Type{#T<:Integer}, Integer) in module Compat at /home/juser/.julia/v0.5/Compat/src/Compat.jl:1469 overwritten in module Compat at /home/juser/.julia/v0.5/Compat/src/Compat.jl:1469.\n",
      "WARNING: Method definition macroexpand(Module, ANY<:Any) in module Compat at /home/juser/.julia/v0.5/Compat/src/Compat.jl:1491 overwritten in module Compat at /home/juser/.julia/v0.5/Compat/src/Compat.jl:1491.\n",
      "WARNING: Method definition !(Function) in module Compat at /home/juser/.julia/v0.5/Compat/src/Compat.jl:1205 overwritten in module Compat at /home/juser/.julia/v0.5/Compat/src/Compat.jl:1205.\n",
      "WARNING: Method definition isless(Union{Main.Base.Dates.Millisecond, Main.Base.Dates.Minute, Main.Base.Dates.Week, Main.Base.Dates.Second, Main.Base.Dates.Day, Main.Base.Dates.Hour}, Union{Main.Base.Dates.Year, Main.Base.Dates.Month}) in module Compat at /home/juser/.julia/v0.5/Compat/src/Compat.jl:1529 overwritten in module Compat at /home/juser/.julia/v0.5/Compat/src/Compat.jl:1529.\n",
      "WARNING: Method definition isless(Union{Main.Base.Dates.Year, Main.Base.Dates.Month}, Union{Main.Base.Dates.Millisecond, Main.Base.Dates.Minute, Main.Base.Dates.Week, Main.Base.Dates.Second, Main.Base.Dates.Day, Main.Base.Dates.Hour}) in module Compat at /home/juser/.julia/v0.5/Compat/src/Compat.jl:1530 overwritten in module Compat at /home/juser/.julia/v0.5/Compat/src/Compat.jl:1530.\n",
      "WARNING: Method definition isless(Main.Base.Dates.Period, Main.Base.Dates.Period) in module Compat at /home/juser/.julia/v0.5/Compat/src/Compat.jl:1524 overwritten in module Compat at /home/juser/.julia/v0.5/Compat/src/Compat.jl:1524.\n",
      "WARNING: Method definition expand(Module, ANY<:Any) in module Compat at /home/juser/.julia/v0.5/Compat/src/Compat.jl:1490 overwritten in module Compat at /home/juser/.julia/v0.5/Compat/src/Compat.jl:1490.\n",
      "WARNING: Method definition redirect_stderr(Function, Any) in module Compat at /home/juser/.julia/v0.5/Compat/src/Compat.jl:1057 overwritten in module Compat at /home/juser/.julia/v0.5/Compat/src/Compat.jl:1057.\n",
      "WARNING: Method definition ones(AbstractArray) in module Compat at /home/juser/.julia/v0.5/Compat/src/Compat.jl:1440 overwritten in module Compat at /home/juser/.julia/v0.5/Compat/src/Compat.jl:1440.\n",
      "WARNING: Method definition ones(AbstractArray, Type) in module Compat at /home/juser/.julia/v0.5/Compat/src/Compat.jl:1440 overwritten in module Compat at /home/juser/.julia/v0.5/Compat/src/Compat.jl:1440.\n",
      "WARNING: Method definition ones(AbstractArray, Type, Tuple) in module Compat at /home/juser/.julia/v0.5/Compat/src/Compat.jl:1438 overwritten in module Compat at /home/juser/.julia/v0.5/Compat/src/Compat.jl:1438.\n",
      "WARNING: Method definition ones(AbstractArray, Type, Any...) in module Compat at /home/juser/.julia/v0.5/Compat/src/Compat.jl:1439 overwritten in module Compat at /home/juser/.julia/v0.5/Compat/src/Compat.jl:1439.\n",
      "WARNING: Method definition bswap(Main.Base.Complex) in module Compat at /home/juser/.julia/v0.5/Compat/src/Compat.jl:1474 overwritten in module Compat at /home/juser/.julia/v0.5/Compat/src/Compat.jl:1474.\n",
      "WARNING: Method definition convert(Type{Main.Base.Set{#T<:Any}}, Main.Base.Set{#T<:Any}) in module Compat at /home/juser/.julia/v0.5/Compat/src/Compat.jl:1459 overwritten in module Compat at /home/juser/.julia/v0.5/Compat/src/Compat.jl:1459.\n",
      "WARNING: Method definition convert(Type{Main.Base.Set{#T<:Any}}, Main.Base.Set) in module Compat at /home/juser/.julia/v0.5/Compat/src/Compat.jl:1460 overwritten in module Compat at /home/juser/.julia/v0.5/Compat/src/Compat.jl:1460.\n",
      "WARNING: Method definition redirect_stdin(Function, Any) in module Compat at /home/juser/.julia/v0.5/Compat/src/Compat.jl:1057 overwritten in module Compat at /home/juser/.julia/v0.5/Compat/src/Compat.jl:1057.\n",
      "WARNING: Method definition ==(Union{Main.Base.Dates.Millisecond, Main.Base.Dates.Minute, Main.Base.Dates.Week, Main.Base.Dates.Second, Main.Base.Dates.Day, Main.Base.Dates.Hour}, Union{Main.Base.Dates.Year, Main.Base.Dates.Month}) in module Compat at /home/juser/.julia/v0.5/Compat/src/Compat.jl:1527 overwritten in module Compat at /home/juser/.julia/v0.5/Compat/src/Compat.jl:1527.\n",
      "WARNING: Method definition ==(Union{Main.Base.Dates.Year, Main.Base.Dates.Month}, Union{Main.Base.Dates.Millisecond, Main.Base.Dates.Minute, Main.Base.Dates.Week, Main.Base.Dates.Second, Main.Base.Dates.Day, Main.Base.Dates.Hour}) in module Compat at /home/juser/.julia/v0.5/Compat/src/Compat.jl:1528 overwritten in module Compat at /home/juser/.julia/v0.5/Compat/src/Compat.jl:1528.\n",
      "WARNING: Method definition ==(Main.Base.Dates.Period, Main.Base.Dates.Period) in module Compat at /home/juser/.julia/v0.5/Compat/src/Compat.jl:1523 overwritten in module Compat at /home/juser/.julia/v0.5/Compat/src/Compat.jl:1523.\n",
      "WARNING: Method definition include_string(Module, String, String) in module Compat at /home/juser/.julia/v0.5/Compat/src/Compat.jl:1492 overwritten in module Compat at /home/juser/.julia/v0.5/Compat/src/Compat.jl:1492.\n",
      "WARNING: Method definition include_string(Module, AbstractString) in module Compat at /home/juser/.julia/v0.5/Compat/src/Compat.jl:1494 overwritten in module Compat at /home/juser/.julia/v0.5/Compat/src/Compat.jl:1494.\n",
      "WARNING: Method definition include_string(Module, AbstractString, AbstractString) in module Compat at /home/juser/.julia/v0.5/Compat/src/Compat.jl:1494 overwritten in module Compat at /home/juser/.julia/v0.5/Compat/src/Compat.jl:1494.\n",
      "WARNING: Method definition isnull(Any) in module Compat at /home/juser/.julia/v0.5/Compat/src/Compat.jl:1137 overwritten in module Compat at /home/juser/.julia/v0.5/Compat/src/Compat.jl:1137.\n",
      "WARNING: Method definition zeros(AbstractArray) in module Compat at /home/juser/.julia/v0.5/Compat/src/Compat.jl:1440 overwritten in module Compat at /home/juser/.julia/v0.5/Compat/src/Compat.jl:1440.\n",
      "WARNING: Method definition zeros(AbstractArray, Type) in module Compat at /home/juser/.julia/v0.5/Compat/src/Compat.jl:1440 overwritten in module Compat at /home/juser/.julia/v0.5/Compat/src/Compat.jl:1440.\n",
      "WARNING: Method definition zeros(AbstractArray, Type, Tuple) in module Compat at /home/juser/.julia/v0.5/Compat/src/Compat.jl:1438 overwritten in module Compat at /home/juser/.julia/v0.5/Compat/src/Compat.jl:1438.\n",
      "WARNING: Method definition zeros(AbstractArray, Type, Any...) in module Compat at /home/juser/.julia/v0.5/Compat/src/Compat.jl:1439 overwritten in module Compat at /home/juser/.julia/v0.5/Compat/src/Compat.jl:1439.\n",
      "WARNING: Method definition isassigned(Main.Base.RefValue) in module Compat at /home/juser/.julia/v0.5/Compat/src/Compat.jl:1465 overwritten in module Compat at /home/juser/.julia/v0.5/Compat/src/Compat.jl:1465.\n",
      "WARNING: Method definition take!(Task) in module Compat at /home/juser/.julia/v0.5/Compat/src/Compat.jl:53 overwritten in module Compat at /home/juser/.julia/v0.5/Compat/src/Compat.jl:53.\n",
      "WARNING: Method definition take!(Main.Base.AbstractIOBuffer) in module Compat at /home/juser/.julia/v0.5/Compat/src/Compat.jl:1172 overwritten in module Compat at /home/juser/.julia/v0.5/Compat/src/Compat.jl:1172.\n",
      "WARNING: Method definition sort(Main.Base.Dict) in module DataStructures at /home/juser/.julia/v0.5/DataStructures/src/dict_sorting.jl:27 overwritten in module DataStructures at /home/juser/.julia/v0.5/DataStructures/src/dict_sorting.jl:27.\n",
      "WARNING: Method definition #sort(Array{Any, 1}, Main.Base.#sort, Main.Base.Dict) in module DataStructures overwritten in module DataStructures.\n",
      "WARNING: Method definition #stdm(Array{Any, 1}, Main.Base.#stdm, AbstractArray{T<:Real, N<:Any}, AbstractArray{T<:Real, N<:Any}, Int64) in module StatsBase overwritten in module StatsBase.\n",
      "WARNING: Method definition stdm(AbstractArray{T<:Real, N<:Any}, AbstractArray{T<:Real, N<:Any}, Int64) in module StatsBase at /home/juser/.julia/v0.5/StatsBase/src/moments.jl:153 overwritten in module StatsBase at /home/juser/.julia/v0.5/StatsBase/src/moments.jl:153.\n",
      "WARNING: Method definition quantile(AbstractArray{#T<:Real, N<:Any}) in module StatsBase at /home/juser/.julia/v0.5/StatsBase/src/scalarstats.jl:213 overwritten in module StatsBase at /home/juser/.julia/v0.5/StatsBase/src/scalarstats.jl:213.\n",
      "WARNING: Method definition isvalid(Array{Char, 1}) in module LegacyStrings at /home/juser/.julia/v0.5/LegacyStrings/src/utf32.jl:194 overwritten in module LegacyStrings at /home/juser/.julia/v0.5/LegacyStrings/src/utf32.jl:194.\n",
      "WARNING: Method definition convert(Type{#T<:AbstractString}, AbstractArray{#S<:Union{Char, Int32, UInt32}, 1}) in module LegacyStrings at /home/juser/.julia/v0.5/LegacyStrings/src/utf32.jl:133 overwritten in module LegacyStrings at /home/juser/.julia/v0.5/LegacyStrings/src/utf32.jl:133.\n",
      "WARNING: Method definition ismatch(Main.Base.Range{#R<:Number}, Number) in module Match at /home/juser/.julia/v0.5/Match/src/matchutils.jl:8 overwritten in module Match at /home/juser/.julia/v0.5/Match/src/matchutils.jl:8.\n",
      "WARNING: Method definition ismatch(Main.Base.Range{#T<:Any}, #T<:Any) in module Match at /home/juser/.julia/v0.5/Match/src/matchutils.jl:9 overwritten in module Match at /home/juser/.julia/v0.5/Match/src/matchutils.jl:9.\n",
      "WARNING: Method definition ismatch(Char, Number) in module Match at /home/juser/.julia/v0.5/Match/src/matchutils.jl:10 overwritten in module Match at /home/juser/.julia/v0.5/Match/src/matchutils.jl:10.\n",
      "WARNING: Method definition ismatch(Number, Char) in module Match at /home/juser/.julia/v0.5/Match/src/matchutils.jl:11 overwritten in module Match at /home/juser/.julia/v0.5/Match/src/matchutils.jl:11.\n",
      "WARNING: Method definition ismatch(Any, Any) in module Match at /home/juser/.julia/v0.5/Match/src/matchutils.jl:12 overwritten in module Match at /home/juser/.julia/v0.5/Match/src/matchutils.jl:12.\n"
     ]
    },
    {
     "data": {
      "text/plain": [
       "plot_outputs_Plots (generic function with 1 method)"
      ]
     },
     "execution_count": 12,
     "metadata": {},
     "output_type": "execute_result"
    }
   ],
   "source": [
    "using StatsBase\n",
    "using JLD  \n",
    "include(\"../src/BigRidge.jl\")"
   ]
  },
  {
   "cell_type": "code",
   "execution_count": 13,
   "metadata": {
    "collapsed": true
   },
   "outputs": [],
   "source": [
    "#Basic parameters\n",
    "## Basic parameters\n",
    "maxiter=10^8;\n",
    "max_time = 10;\n",
    "max_epocs = 100;\n",
    "printiters = true;\n",
    "exacterror =true; \n",
    "tol = 10.0^(-5.0);\n",
    "restol = 10.0^(-5.0);\n",
    "skip_error_calculation = 25;   # number of iterations where error is not calculated (to save time!) ceil((m)^(1/2))"
   ]
  },
  {
   "cell_type": "code",
   "execution_count": 14,
   "metadata": {
    "collapsed": false
   },
   "outputs": [
    {
     "name": "stdout",
     "output_type": "stream",
     "text": [
      "../data/a9a.jld\n"
     ]
    }
   ],
   "source": [
    "dataset = \"a9a\"\n",
    "prob = defineProb(dataset);"
   ]
  },
  {
   "cell_type": "code",
   "execution_count": 15,
   "metadata": {
    "collapsed": false
   },
   "outputs": [
    {
     "data": {
      "text/plain": [
       "3.9795914751582206e-11"
      ]
     },
     "execution_count": 15,
     "metadata": {},
     "output_type": "execute_result"
    }
   ],
   "source": [
    "norm(prob.A*prob.xsol - prob.b)"
   ]
  },
  {
   "cell_type": "code",
   "execution_count": 16,
   "metadata": {
    "collapsed": true
   },
   "outputs": [],
   "source": [
    "options = MyOptions(0,\"uni\",tol,restol,maxiter,skip_error_calculation,max_time,printiters,exacterror) \n",
    "OUTPUTS = [];"
   ]
  },
  {
   "cell_type": "code",
   "execution_count": 8,
   "metadata": {
    "collapsed": false
   },
   "outputs": [
    {
     "name": "stdout",
     "output_type": "stream",
     "text": [
      "flopsperiter: 247\n",
      "Hadamard\n",
      "-------------------\n",
      "It   | Error% | Residual |  Time   \n",
      "-------------------\n",
      " 25  | 34.12  |  17.34  | 0.1715 \n",
      " 50  | 23.56  |  16.66  | 0.3048 \n",
      " 75  | 17.03  |  10.56  | 0.4333 \n",
      "100  | 11.76  |  6.22  | 0.5693 \n",
      "125  | 9.47  |  5.94  | 0.7031 \n",
      "150  | 8.03  |  4.01  | 0.8335 \n",
      "175  | 7.10  |  3.46  | 0.9647 \n",
      "200  | 6.09  |  5.37  | 1.0987 \n",
      "  1.140029 seconds (7.58 M allocations: 988.797 MB, 14.34% gc time)\n"
     ]
    }
   ],
   "source": [
    "# Testing Hadamard Sketch\n",
    "method_name = \"Hadamard\";# ROS\n",
    "options.sketchsize =1; # Int(floor(log2(prob.n)));\n",
    "options.maxiter=200;\n",
    "options.skip_error_calculation =25;\n",
    "@time  output= solveRidge(prob, method_name, options);\n",
    "OUTPUTS = [OUTPUTS ; output];"
   ]
  },
  {
   "cell_type": "code",
   "execution_count": 18,
   "metadata": {
    "collapsed": false
   },
   "outputs": [
    {
     "name": "stdout",
     "output_type": "stream",
     "text": [
      "countmin\n",
      "-------------------\n",
      "It   | Error% | Residual |  Time   \n",
      "-------------------\n",
      " 25  | 5.88  |  3.94  | 0.0396 \n",
      " 50  | 2.83  |  2.36  | 0.0584 \n",
      " 75  | 1.56  |  1.50  | 0.0744 \n",
      "100  | 0.95  |  0.91  | 0.0935 \n",
      "125  | 0.73  |  0.62  | 0.1107 \n",
      "150  | 0.60  |  0.72  | 0.1256 \n",
      "175  | 0.52  |  0.45  | 0.1434 \n",
      "200  | 0.45  |  0.36  | 0.1610 \n",
      "225  | 0.41  |  0.30  | 0.1791 \n",
      "250  | 0.38  |  0.31  | 0.1953 \n",
      "275  | 0.35  |  0.26  | 0.2136 \n",
      "300  | 0.33  |  0.26  | 0.2308 \n",
      "325  | 0.30  |  0.42  | 0.2479 \n",
      "350  | 0.28  |  0.20  | 0.2634 \n",
      "375  | 0.27  |  0.23  | 0.2813 \n",
      "400  | 0.25  |  0.20  | 0.2985 \n",
      "425  | 0.23  |  0.20  | 0.3150 \n",
      "450  | 0.22  |  0.17  | 0.3320 \n",
      "475  | 0.20  |  0.20  | 0.3489 \n",
      "500  | 0.19  |  0.20  | 0.3659 \n",
      "525  | 0.18  |  0.16  | 0.3823 \n",
      "550  | 0.17  |  0.14  | 0.4031 \n",
      "575  | 0.16  |  0.14  | 0.4200 \n",
      "600  | 0.15  |  0.12  | 0.4373 \n",
      "625  | 0.15  |  0.12  | 0.4523 \n",
      "650  | 0.14  |  0.13  | 0.4693 \n",
      "675  | 0.13  |  0.12  | 0.4873 \n",
      "700  | 0.13  |  0.11  | 0.5067 \n",
      "725  | 0.12  |  0.12  | 0.5246 \n",
      "750  | 0.12  |  0.12  | 0.5418 \n",
      "775  | 0.11  |  0.12  | 0.5587 \n",
      "800  | 0.11  |  0.10  | 0.5740 \n",
      "825  | 0.10  |  0.10  | 0.5916 \n",
      "850  | 0.10  |  0.10  | 0.6105 \n",
      "875  | 0.10  |  0.10  | 0.6317 \n",
      "900  | 0.09  |  0.08  | 0.6472 \n",
      "925  | 0.09  |  0.09  | 0.6650 \n",
      "950  | 0.09  |  0.09  | 0.6820 \n",
      "975  | 0.08  |  0.08  | 0.7011 \n",
      "1000  | 0.08  |  0.08  | 0.7184 \n",
      "1025  | 0.08  |  0.08  | 0.7358 \n",
      "1050  | 0.08  |  0.09  | 0.7526 \n",
      "1075  | 0.07  |  0.08  | 0.7678 \n",
      "1100  | 0.07  |  0.08  | 0.7854 \n",
      "1125  | 0.07  |  0.08  | 0.8040 \n",
      "1150  | 0.07  |  0.07  | 0.8218 \n",
      "1175  | 0.07  |  0.06  | 0.8373 \n",
      "1200  | 0.06  |  0.07  | 0.8547 \n",
      "1225  | 0.06  |  0.10  | 0.8717 \n",
      "1250  | 0.06  |  0.07  | 0.8868 \n",
      "1275  | 0.06  |  0.07  | 0.9039 \n",
      "1300  | 0.06  |  0.07  | 0.9211 \n",
      "1325  | 0.05  |  0.07  | 0.9383 \n",
      "1350  | 0.05  |  0.05  | 0.9535 \n",
      "1375  | 0.05  |  0.06  | 0.9756 \n",
      "1400  | 0.05  |  0.05  | 0.9927 \n",
      "1425  | 0.05  |  0.05  | 1.0104 \n",
      "1450  | 0.05  |  0.07  | 1.0257 \n",
      "1475  | 0.05  |  0.06  | 1.0425 \n",
      "1500  | 0.05  |  0.06  | 1.0597 \n",
      "1525  | 0.04  |  0.08  | 1.0766 \n",
      "1550  | 0.04  |  0.06  | 1.0916 \n",
      "1575  | 0.04  |  0.05  | 1.1095 \n",
      "1600  | 0.04  |  0.05  | 1.1273 \n",
      "1625  | 0.04  |  0.06  | 1.1426 \n",
      "1650  | 0.04  |  0.05  | 1.1631 \n",
      "1675  | 0.04  |  0.04  | 1.1802 \n",
      "1700  | 0.04  |  0.05  | 1.1974 \n",
      "1725  | 0.04  |  0.04  | 1.2134 \n",
      "1750  | 0.04  |  0.04  | 1.2307 \n",
      "1775  | 0.04  |  0.04  | 1.2481 \n",
      "1800  | 0.03  |  0.04  | 1.2659 \n",
      "1825  | 0.03  |  0.04  | 1.2808 \n",
      "1850  | 0.03  |  0.04  | 1.2977 \n",
      "1875  | 0.03  |  0.04  | 1.3156 \n",
      "1900  | 0.03  |  0.04  | 1.3306 \n",
      "1925  | 0.03  |  0.04  | 1.3484 \n",
      "1950  | 0.03  |  0.04  | 1.3654 \n",
      "1975  | 0.03  |  0.04  | 1.3825 \n",
      "2000  | 0.03  |  0.04  | 1.3977 \n",
      "2025  | 0.03  |  0.04  | 1.4158 \n",
      "2050  | 0.03  |  0.04  | 1.4328 \n",
      "2075  | 0.03  |  0.04  | 1.4516 \n",
      "2100  | 0.03  |  0.04  | 1.4692 \n",
      "2125  | 0.03  |  0.04  | 1.4862 \n",
      "2150  | 0.03  |  0.04  | 1.5037 \n",
      "2175  | 0.03  |  0.04  | 1.5195 \n",
      "2200  | 0.03  |  0.04  | 1.5369 \n",
      "2225  | 0.02  |  0.03  | 1.5540 \n",
      "2250  | 0.02  |  0.03  | 1.5737 \n",
      "2275  | 0.02  |  0.04  | 1.5908 \n",
      "2300  | 0.02  |  0.03  | 1.6080 \n",
      "2325  | 0.02  |  0.03  | 1.6257 \n",
      "2350  | 0.02  |  0.03  | 1.6428 \n",
      "2375  | 0.02  |  0.04  | 1.6577 \n",
      "2400  | 0.02  |  0.03  | 1.6751 \n",
      "2425  | 0.02  |  0.03  | 1.6919 \n",
      "2450  | 0.02  |  0.04  | 1.7068 \n",
      "2475  | 0.02  |  0.03  | 1.7245 \n",
      "2500  | 0.02  |  0.03  | 1.7413 \n",
      "2525  | 0.02  |  0.03  | 1.7582 \n",
      "2550  | 0.02  |  0.03  | 1.7729 \n",
      "2575  | 0.02  |  0.05  | 1.7898 \n",
      "2600  | 0.02  |  0.03  | 1.8068 \n",
      "2625  | 0.02  |  0.03  | 1.8245 \n",
      "2650  | 0.02  |  0.03  | 1.8393 \n",
      "2675  | 0.02  |  0.03  | 1.8563 \n",
      "2700  | 0.02  |  0.03  | 1.8732 \n",
      "2725  | 0.02  |  0.03  | 1.8882 \n",
      "2750  | 0.02  |  0.03  | 1.9053 \n",
      "2775  | 0.02  |  0.02  | 1.9230 \n",
      "2800  | 0.02  |  0.03  | 1.9400 \n",
      "2825  | 0.02  |  0.03  | 1.9549 \n",
      "2850  | 0.02  |  0.03  | 1.9719 \n",
      "2875  | 0.02  |  0.03  | 1.9890 \n",
      "2894  | 0.01  |  0.03  | 2.0003 \n",
      "  2.109437 seconds (1.67 M allocations: 1.802 GB, 7.78% gc time)\n"
     ]
    }
   ],
   "source": [
    "# Testing countmin \n",
    "options.max_time = 2; options.restol = 10.0^(-8); \n",
    "options.sketchsize =5;\n",
    "options.skip_error_calculation =25;\n",
    "method_name = \"countmin\";# gradient descent\n",
    "@time output= solveRidge(prob, method_name, options);\n",
    "OUTPUTS = [OUTPUTS ; output];"
   ]
  },
  {
   "cell_type": "code",
   "execution_count": null,
   "metadata": {
    "collapsed": true
   },
   "outputs": [],
   "source": []
  }
 ],
 "metadata": {
  "kernelspec": {
   "display_name": "Julia 0.5.2",
   "language": "julia",
   "name": "julia-0.5"
  },
  "language_info": {
   "file_extension": ".jl",
   "mimetype": "application/julia",
   "name": "julia",
   "version": "0.5.2"
  }
 },
 "nbformat": 4,
 "nbformat_minor": 2
}
