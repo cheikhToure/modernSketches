{
 "cells": [
  {
   "cell_type": "code",
   "execution_count": 55,
   "metadata": {
    "collapsed": true
   },
   "outputs": [],
   "source": [
    "workspace()"
   ]
  },
  {
   "cell_type": "code",
   "execution_count": 56,
   "metadata": {
    "collapsed": false
   },
   "outputs": [
    {
     "name": "stderr",
     "output_type": "stream",
     "text": [
      "WARNING: Method definition (::Type{Main.Base.LinearIndexing})(Type{#T<:Any}) in module Compat at /home/juser/.julia/v0.5/Compat/src/Compat.jl:1430 overwritten in module Compat at /home/juser/.julia/v0.5/Compat/src/Compat.jl:1430.\n",
      "WARNING: Method definition (::Type{Main.Base.LinearIndexing})(Any...) in module Compat at /home/juser/.julia/v0.5/Compat/src/Compat.jl:1431 overwritten in module Compat at /home/juser/.julia/v0.5/Compat/src/Compat.jl:1431.\n",
      "WARNING: Method definition redirect_stdout(Function, Any) in module Compat at /home/juser/.julia/v0.5/Compat/src/Compat.jl:1057 overwritten in module Compat at /home/juser/.julia/v0.5/Compat/src/Compat.jl:1057.\n",
      "WARNING: Method definition broadcast(Any, Tuple{Vararg{T<:Any, #N<:Any}}, Tuple{Vararg{T<:Any, #N<:Any}}...) in module Compat at /home/juser/.julia/v0.5/Compat/src/Compat.jl:1122 overwritten in module Compat at /home/juser/.julia/v0.5/Compat/src/Compat.jl:1122.\n",
      "WARNING: Method definition unsafe_trunc(Type{#T<:Integer}, Integer) in module Compat at /home/juser/.julia/v0.5/Compat/src/Compat.jl:1469 overwritten in module Compat at /home/juser/.julia/v0.5/Compat/src/Compat.jl:1469.\n",
      "WARNING: Method definition macroexpand(Module, ANY<:Any) in module Compat at /home/juser/.julia/v0.5/Compat/src/Compat.jl:1491 overwritten in module Compat at /home/juser/.julia/v0.5/Compat/src/Compat.jl:1491.\n",
      "WARNING: Method definition !(Function) in module Compat at /home/juser/.julia/v0.5/Compat/src/Compat.jl:1205 overwritten in module Compat at /home/juser/.julia/v0.5/Compat/src/Compat.jl:1205.\n",
      "WARNING: Method definition isless(Union{Main.Base.Dates.Millisecond, Main.Base.Dates.Minute, Main.Base.Dates.Week, Main.Base.Dates.Second, Main.Base.Dates.Day, Main.Base.Dates.Hour}, Union{Main.Base.Dates.Year, Main.Base.Dates.Month}) in module Compat at /home/juser/.julia/v0.5/Compat/src/Compat.jl:1529 overwritten in module Compat at /home/juser/.julia/v0.5/Compat/src/Compat.jl:1529.\n",
      "WARNING: Method definition isless(Union{Main.Base.Dates.Year, Main.Base.Dates.Month}, Union{Main.Base.Dates.Millisecond, Main.Base.Dates.Minute, Main.Base.Dates.Week, Main.Base.Dates.Second, Main.Base.Dates.Day, Main.Base.Dates.Hour}) in module Compat at /home/juser/.julia/v0.5/Compat/src/Compat.jl:1530 overwritten in module Compat at /home/juser/.julia/v0.5/Compat/src/Compat.jl:1530.\n",
      "WARNING: Method definition isless(Main.Base.Dates.Period, Main.Base.Dates.Period) in module Compat at /home/juser/.julia/v0.5/Compat/src/Compat.jl:1524 overwritten in module Compat at /home/juser/.julia/v0.5/Compat/src/Compat.jl:1524.\n",
      "WARNING: Method definition expand(Module, ANY<:Any) in module Compat at /home/juser/.julia/v0.5/Compat/src/Compat.jl:1490 overwritten in module Compat at /home/juser/.julia/v0.5/Compat/src/Compat.jl:1490.\n",
      "WARNING: Method definition redirect_stderr(Function, Any) in module Compat at /home/juser/.julia/v0.5/Compat/src/Compat.jl:1057 overwritten in module Compat at /home/juser/.julia/v0.5/Compat/src/Compat.jl:1057.\n",
      "WARNING: Method definition ones(AbstractArray) in module Compat at /home/juser/.julia/v0.5/Compat/src/Compat.jl:1440 overwritten in module Compat at /home/juser/.julia/v0.5/Compat/src/Compat.jl:1440.\n",
      "WARNING: Method definition ones(AbstractArray, Type) in module Compat at /home/juser/.julia/v0.5/Compat/src/Compat.jl:1440 overwritten in module Compat at /home/juser/.julia/v0.5/Compat/src/Compat.jl:1440.\n",
      "WARNING: Method definition ones(AbstractArray, Type, Tuple) in module Compat at /home/juser/.julia/v0.5/Compat/src/Compat.jl:1438 overwritten in module Compat at /home/juser/.julia/v0.5/Compat/src/Compat.jl:1438.\n",
      "WARNING: Method definition ones(AbstractArray, Type, Any...) in module Compat at /home/juser/.julia/v0.5/Compat/src/Compat.jl:1439 overwritten in module Compat at /home/juser/.julia/v0.5/Compat/src/Compat.jl:1439.\n",
      "WARNING: Method definition bswap(Main.Base.Complex) in module Compat at /home/juser/.julia/v0.5/Compat/src/Compat.jl:1474 overwritten in module Compat at /home/juser/.julia/v0.5/Compat/src/Compat.jl:1474.\n",
      "WARNING: Method definition convert(Type{Main.Base.Set{#T<:Any}}, Main.Base.Set{#T<:Any}) in module Compat at /home/juser/.julia/v0.5/Compat/src/Compat.jl:1459 overwritten in module Compat at /home/juser/.julia/v0.5/Compat/src/Compat.jl:1459.\n",
      "WARNING: Method definition convert(Type{Main.Base.Set{#T<:Any}}, Main.Base.Set) in module Compat at /home/juser/.julia/v0.5/Compat/src/Compat.jl:1460 overwritten in module Compat at /home/juser/.julia/v0.5/Compat/src/Compat.jl:1460.\n",
      "WARNING: Method definition redirect_stdin(Function, Any) in module Compat at /home/juser/.julia/v0.5/Compat/src/Compat.jl:1057 overwritten in module Compat at /home/juser/.julia/v0.5/Compat/src/Compat.jl:1057.\n",
      "WARNING: Method definition ==(Union{Main.Base.Dates.Millisecond, Main.Base.Dates.Minute, Main.Base.Dates.Week, Main.Base.Dates.Second, Main.Base.Dates.Day, Main.Base.Dates.Hour}, Union{Main.Base.Dates.Year, Main.Base.Dates.Month}) in module Compat at /home/juser/.julia/v0.5/Compat/src/Compat.jl:1527 overwritten in module Compat at /home/juser/.julia/v0.5/Compat/src/Compat.jl:1527.\n",
      "WARNING: Method definition ==(Union{Main.Base.Dates.Year, Main.Base.Dates.Month}, Union{Main.Base.Dates.Millisecond, Main.Base.Dates.Minute, Main.Base.Dates.Week, Main.Base.Dates.Second, Main.Base.Dates.Day, Main.Base.Dates.Hour}) in module Compat at /home/juser/.julia/v0.5/Compat/src/Compat.jl:1528 overwritten in module Compat at /home/juser/.julia/v0.5/Compat/src/Compat.jl:1528.\n",
      "WARNING: Method definition ==(Main.Base.Dates.Period, Main.Base.Dates.Period) in module Compat at /home/juser/.julia/v0.5/Compat/src/Compat.jl:1523 overwritten in module Compat at /home/juser/.julia/v0.5/Compat/src/Compat.jl:1523.\n",
      "WARNING: Method definition include_string(Module, String, String) in module Compat at /home/juser/.julia/v0.5/Compat/src/Compat.jl:1492 overwritten in module Compat at /home/juser/.julia/v0.5/Compat/src/Compat.jl:1492.\n",
      "WARNING: Method definition include_string(Module, AbstractString) in module Compat at /home/juser/.julia/v0.5/Compat/src/Compat.jl:1494 overwritten in module Compat at /home/juser/.julia/v0.5/Compat/src/Compat.jl:1494.\n",
      "WARNING: Method definition include_string(Module, AbstractString, AbstractString) in module Compat at /home/juser/.julia/v0.5/Compat/src/Compat.jl:1494 overwritten in module Compat at /home/juser/.julia/v0.5/Compat/src/Compat.jl:1494.\n",
      "WARNING: Method definition isnull(Any) in module Compat at /home/juser/.julia/v0.5/Compat/src/Compat.jl:1137 overwritten in module Compat at /home/juser/.julia/v0.5/Compat/src/Compat.jl:1137.\n",
      "WARNING: Method definition zeros(AbstractArray) in module Compat at /home/juser/.julia/v0.5/Compat/src/Compat.jl:1440 overwritten in module Compat at /home/juser/.julia/v0.5/Compat/src/Compat.jl:1440.\n",
      "WARNING: Method definition zeros(AbstractArray, Type) in module Compat at /home/juser/.julia/v0.5/Compat/src/Compat.jl:1440 overwritten in module Compat at /home/juser/.julia/v0.5/Compat/src/Compat.jl:1440.\n",
      "WARNING: Method definition zeros(AbstractArray, Type, Tuple) in module Compat at /home/juser/.julia/v0.5/Compat/src/Compat.jl:1438 overwritten in module Compat at /home/juser/.julia/v0.5/Compat/src/Compat.jl:1438.\n",
      "WARNING: Method definition zeros(AbstractArray, Type, Any...) in module Compat at /home/juser/.julia/v0.5/Compat/src/Compat.jl:1439 overwritten in module Compat at /home/juser/.julia/v0.5/Compat/src/Compat.jl:1439.\n",
      "WARNING: Method definition isassigned(Main.Base.RefValue) in module Compat at /home/juser/.julia/v0.5/Compat/src/Compat.jl:1465 overwritten in module Compat at /home/juser/.julia/v0.5/Compat/src/Compat.jl:1465.\n",
      "WARNING: Method definition take!(Task) in module Compat at /home/juser/.julia/v0.5/Compat/src/Compat.jl:53 overwritten in module Compat at /home/juser/.julia/v0.5/Compat/src/Compat.jl:53.\n",
      "WARNING: Method definition take!(Main.Base.AbstractIOBuffer) in module Compat at /home/juser/.julia/v0.5/Compat/src/Compat.jl:1172 overwritten in module Compat at /home/juser/.julia/v0.5/Compat/src/Compat.jl:1172.\n",
      "WARNING: Method definition sort(Main.Base.Dict) in module DataStructures at /home/juser/.julia/v0.5/DataStructures/src/dict_sorting.jl:27 overwritten in module DataStructures at /home/juser/.julia/v0.5/DataStructures/src/dict_sorting.jl:27.\n",
      "WARNING: Method definition #sort(Array{Any, 1}, Main.Base.#sort, Main.Base.Dict) in module DataStructures overwritten in module DataStructures.\n",
      "WARNING: Method definition #stdm(Array{Any, 1}, Main.Base.#stdm, AbstractArray{T<:Real, N<:Any}, AbstractArray{T<:Real, N<:Any}, Int64) in module StatsBase overwritten in module StatsBase.\n",
      "WARNING: Method definition stdm(AbstractArray{T<:Real, N<:Any}, AbstractArray{T<:Real, N<:Any}, Int64) in module StatsBase at /home/juser/.julia/v0.5/StatsBase/src/moments.jl:153 overwritten in module StatsBase at /home/juser/.julia/v0.5/StatsBase/src/moments.jl:153.\n",
      "WARNING: Method definition quantile(AbstractArray{#T<:Real, N<:Any}) in module StatsBase at /home/juser/.julia/v0.5/StatsBase/src/scalarstats.jl:213 overwritten in module StatsBase at /home/juser/.julia/v0.5/StatsBase/src/scalarstats.jl:213.\n",
      "WARNING: Method definition isvalid(Array{Char, 1}) in module LegacyStrings at /home/juser/.julia/v0.5/LegacyStrings/src/utf32.jl:194 overwritten in module LegacyStrings at /home/juser/.julia/v0.5/LegacyStrings/src/utf32.jl:194.\n",
      "WARNING: Method definition convert(Type{#T<:AbstractString}, AbstractArray{#S<:Union{Char, Int32, UInt32}, 1}) in module LegacyStrings at /home/juser/.julia/v0.5/LegacyStrings/src/utf32.jl:133 overwritten in module LegacyStrings at /home/juser/.julia/v0.5/LegacyStrings/src/utf32.jl:133.\n",
      "WARNING: Method definition ismatch(Main.Base.Range{#R<:Number}, Number) in module Match at /home/juser/.julia/v0.5/Match/src/matchutils.jl:8 overwritten in module Match at /home/juser/.julia/v0.5/Match/src/matchutils.jl:8.\n",
      "WARNING: Method definition ismatch(Main.Base.Range{#T<:Any}, #T<:Any) in module Match at /home/juser/.julia/v0.5/Match/src/matchutils.jl:9 overwritten in module Match at /home/juser/.julia/v0.5/Match/src/matchutils.jl:9.\n",
      "WARNING: Method definition ismatch(Char, Number) in module Match at /home/juser/.julia/v0.5/Match/src/matchutils.jl:10 overwritten in module Match at /home/juser/.julia/v0.5/Match/src/matchutils.jl:10.\n",
      "WARNING: Method definition ismatch(Number, Char) in module Match at /home/juser/.julia/v0.5/Match/src/matchutils.jl:11 overwritten in module Match at /home/juser/.julia/v0.5/Match/src/matchutils.jl:11.\n",
      "WARNING: Method definition ismatch(Any, Any) in module Match at /home/juser/.julia/v0.5/Match/src/matchutils.jl:12 overwritten in module Match at /home/juser/.julia/v0.5/Match/src/matchutils.jl:12.\n"
     ]
    },
    {
     "data": {
      "text/plain": [
       "plot_outputs_Plots (generic function with 1 method)"
      ]
     },
     "execution_count": 56,
     "metadata": {},
     "output_type": "execute_result"
    }
   ],
   "source": [
    "using StatsBase\n",
    "using JLD  \n",
    "include(\"../src/BigRidge.jl\")"
   ]
  },
  {
   "cell_type": "code",
   "execution_count": 57,
   "metadata": {
    "collapsed": true
   },
   "outputs": [],
   "source": [
    "#Basic parameters\n",
    "## Basic parameters\n",
    "maxiter=10^8;\n",
    "max_time = 10;\n",
    "max_epocs = 100;\n",
    "printiters = true;\n",
    "exacterror =true; \n",
    "tol = 10.0^(-5.0);\n",
    "restol = 10.0^(-5.0);\n",
    "skip_error_calculation = 25;   # number of iterations where error is not calculated (to save time!) ceil((m)^(1/2))"
   ]
  },
  {
   "cell_type": "code",
   "execution_count": 58,
   "metadata": {
    "collapsed": false
   },
   "outputs": [
    {
     "name": "stdout",
     "output_type": "stream",
     "text": [
      "../data/a9a.jld\n"
     ]
    }
   ],
   "source": [
    "dataset = \"a9a\"\n",
    "prob = defineProb(dataset);"
   ]
  },
  {
   "cell_type": "code",
   "execution_count": 59,
   "metadata": {
    "collapsed": true
   },
   "outputs": [],
   "source": [
    "options = MyOptions(0,\"uni\",tol,restol,maxiter,skip_error_calculation,max_time,printiters,exacterror) \n",
    "OUTPUTS = [];"
   ]
  },
  {
   "cell_type": "code",
   "execution_count": 60,
   "metadata": {
    "collapsed": false
   },
   "outputs": [
    {
     "name": "stdout",
     "output_type": "stream",
     "text": [
      "countmin\n",
      "-------------------\n",
      "It   | Error% | Residual |  Time   \n",
      "-------------------\n",
      "  1  | 99.19  |  101.92  | 0.0848 \n",
      "  2  | 174.38  |  55.55  | 0.0852 \n",
      "  3  | 250.44  |  32.31  | 0.0855 \n",
      "  4  | 262.46  |  58.31  | 0.0859 \n",
      "  5  | 265.55  |  50.12  | 0.0863 \n",
      "  6  | 265.82  |  39.80  | 0.0866 \n",
      "  7  | 739.03  |  73.79  | 0.0869 \n",
      "  8  | 741.13  |  181.63  | 0.0872 \n",
      "  9  | 6176.86  |  1202.71  | 0.0876 \n",
      " 10  | 10012.78  |  1169.05  | 0.0879 \n",
      " 11  | 10463.29  |  878.60  | 0.0882 \n",
      " 12  | 12061.52  |  6978.96  | 0.0885 \n",
      " 13  | 28488.47  |  5505.90  | 0.0888 \n",
      " 14  | 81515.63  |  21598.49  | 0.0892 \n",
      " 15  | 111081.82  |  21648.59  | 0.0895 \n"
     ]
    }
   ],
   "source": [
    "# Testing Count min Sketch\n",
    "method_name = \"countmin\";# Count min sketch\n",
    "options.sketchsize =1; # Int(floor(log2(prob.n)));\n",
    "options.maxiter=100;\n",
    "options.skip_error_calculation =1;\n",
    "output= solveRidge(prob, method_name, options);\n",
    "OUTPUTS = [OUTPUTS ; output];"
   ]
  },
  {
   "cell_type": "code",
   "execution_count": null,
   "metadata": {
    "collapsed": true
   },
   "outputs": [],
   "source": []
  }
 ],
 "metadata": {
  "kernelspec": {
   "display_name": "Julia 0.5.2",
   "language": "julia",
   "name": "julia-0.5"
  },
  "language_info": {
   "file_extension": ".jl",
   "mimetype": "application/julia",
   "name": "julia",
   "version": "0.5.2"
  }
 },
 "nbformat": 4,
 "nbformat_minor": 2
}
