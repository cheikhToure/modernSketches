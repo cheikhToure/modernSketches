{
 "cells": [
  {
   "cell_type": "code",
   "execution_count": 1,
   "metadata": {
    "collapsed": false
   },
   "outputs": [
    {
     "name": "stdout",
     "output_type": "stream",
     "text": [
      "../data/w8a.jld\n"
     ]
    },
    {
     "data": {
      "text/plain": [
       "Dict{Symbol,Any} with 3 entries:\n",
       "  :sparsity => 0.038834\n",
       "  :dims     => 300\n",
       "  :n        => 49749"
      ]
     },
     "execution_count": 1,
     "metadata": {},
     "output_type": "execute_result"
    }
   ],
   "source": [
    "include(\"BigRidge.jl\")\n",
    "\n",
    "#include(\"dataLoad.jl\")\n",
    "initDetails()\n",
    "\n",
    "dataset = \"w8a\" #  w1a, SUSY,\n",
    "#for  dataset in datasets\n",
    "transformDataJLD(dataset)\n",
    "X,y = loadDataset(dataset) #\n",
    "showDetails(dataset)\n",
    "#end\n",
    "\n"
   ]
  },
  {
   "cell_type": "code",
   "execution_count": 9,
   "metadata": {
    "collapsed": false
   },
   "outputs": [
    {
     "ename": "LoadError",
     "evalue": "MethodError: Cannot `convert` an object of type Array{Float64,1} to an object of type Float64\nThis may have arisen from a call to the constructor Float64(...),\nsince type constructors fall back to convert methods.",
     "output_type": "error",
     "traceback": [
      "MethodError: Cannot `convert` an object of type Array{Float64,1} to an object of type Float64\nThis may have arisen from a call to the constructor Float64(...),\nsince type constructors fall back to convert methods.",
      "",
      " in MyOptions(::Int64, ::String, ::Float64, ::Array{Float64,1}, ::Int64, ::Int64, ::Float64, ::Bool, ::Bool) at /home/juser/modernSketches/BigRidge/src/BigRidge.jl:13"
     ]
    }
   ],
   "source": [
    "mat = X*X';\n",
    "bias = X*y;\n",
    "n,~ = size(mat);\n",
    "lambda = 0.01;\n",
    "xsolCD = zeros(bias);\n",
    "\n",
    "prob = Prob(mat,bias,xsolCD,n,lambda,\"CG\");\n",
    "\n",
    "sketchCD = n-100;\n",
    "tolCD = 0.0;\n",
    "restolCD = 0.0;\n",
    "maxiterCD = 10;\n",
    "skipCD = 1;\n",
    "max_timeCD = 1000.0;\n",
    "\n",
    "\n",
    "\n",
    "options = MyOptions(sketchCD,\"CG\",tolCD,restolCD,maxiterCD, skipCD,max_timeCD,true,true)\n",
    "\n",
    "\n",
    "method_name = \"CG\";\n",
    "\n",
    "solveRidge(prob, method_name, options )"
   ]
  },
  {
   "cell_type": "code",
   "execution_count": 6,
   "metadata": {
    "collapsed": false
   },
   "outputs": [
    {
     "data": {
      "text/plain": [
       "MyOptions(150,\"CD\",0.0,0.0,100,0,0.0,true,true)"
      ]
     },
     "execution_count": 6,
     "metadata": {},
     "output_type": "execute_result"
    }
   ],
   "source": [
    "options"
   ]
  },
  {
   "cell_type": "code",
   "execution_count": 10,
   "metadata": {
    "collapsed": false
   },
   "outputs": [
    {
     "data": {
      "text/plain": [
       "0-element Array{Float64,1}"
      ]
     },
     "execution_count": 10,
     "metadata": {},
     "output_type": "execute_result"
    }
   ],
   "source": [
    "Array(Float64,0)"
   ]
  },
  {
   "cell_type": "code",
   "execution_count": null,
   "metadata": {
    "collapsed": true
   },
   "outputs": [],
   "source": []
  }
 ],
 "metadata": {
  "kernelspec": {
   "display_name": "Julia 0.5.2",
   "language": "julia",
   "name": "julia-0.5"
  },
  "language_info": {
   "file_extension": ".jl",
   "mimetype": "application/julia",
   "name": "julia",
   "version": "0.5.2"
  }
 },
 "nbformat": 4,
 "nbformat_minor": 2
}
