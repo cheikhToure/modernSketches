{
 "cells": [
  {
   "cell_type": "code",
   "execution_count": 50,
   "metadata": {
    "collapsed": true
   },
   "outputs": [],
   "source": [
    "workspace()"
   ]
  },
  {
   "cell_type": "code",
   "execution_count": 51,
   "metadata": {
    "collapsed": false
   },
   "outputs": [
    {
     "name": "stderr",
     "output_type": "stream",
     "text": [
      "WARNING: Method definition (::Type{Main.Base.LinearIndexing})(Type{#T<:Any}) in module Compat at /home/juser/.julia/v0.5/Compat/src/Compat.jl:1430 overwritten in module Compat at /home/juser/.julia/v0.5/Compat/src/Compat.jl:1430.\n",
      "WARNING: Method definition (::Type{Main.Base.LinearIndexing})(Any...) in module Compat at /home/juser/.julia/v0.5/Compat/src/Compat.jl:1431 overwritten in module Compat at /home/juser/.julia/v0.5/Compat/src/Compat.jl:1431.\n",
      "WARNING: Method definition redirect_stdout(Function, Any) in module Compat at /home/juser/.julia/v0.5/Compat/src/Compat.jl:1057 overwritten in module Compat at /home/juser/.julia/v0.5/Compat/src/Compat.jl:1057.\n",
      "WARNING: Method definition broadcast(Any, Tuple{Vararg{T<:Any, #N<:Any}}, Tuple{Vararg{T<:Any, #N<:Any}}...) in module Compat at /home/juser/.julia/v0.5/Compat/src/Compat.jl:1122 overwritten in module Compat at /home/juser/.julia/v0.5/Compat/src/Compat.jl:1122.\n",
      "WARNING: Method definition unsafe_trunc(Type{#T<:Integer}, Integer) in module Compat at /home/juser/.julia/v0.5/Compat/src/Compat.jl:1469 overwritten in module Compat at /home/juser/.julia/v0.5/Compat/src/Compat.jl:1469.\n",
      "WARNING: Method definition macroexpand(Module, ANY<:Any) in module Compat at /home/juser/.julia/v0.5/Compat/src/Compat.jl:1491 overwritten in module Compat at /home/juser/.julia/v0.5/Compat/src/Compat.jl:1491.\n",
      "WARNING: Method definition !(Function) in module Compat at /home/juser/.julia/v0.5/Compat/src/Compat.jl:1205 overwritten in module Compat at /home/juser/.julia/v0.5/Compat/src/Compat.jl:1205.\n",
      "WARNING: Method definition isless(Union{Main.Base.Dates.Millisecond, Main.Base.Dates.Minute, Main.Base.Dates.Week, Main.Base.Dates.Second, Main.Base.Dates.Day, Main.Base.Dates.Hour}, Union{Main.Base.Dates.Year, Main.Base.Dates.Month}) in module Compat at /home/juser/.julia/v0.5/Compat/src/Compat.jl:1529 overwritten in module Compat at /home/juser/.julia/v0.5/Compat/src/Compat.jl:1529.\n",
      "WARNING: Method definition isless(Union{Main.Base.Dates.Year, Main.Base.Dates.Month}, Union{Main.Base.Dates.Millisecond, Main.Base.Dates.Minute, Main.Base.Dates.Week, Main.Base.Dates.Second, Main.Base.Dates.Day, Main.Base.Dates.Hour}) in module Compat at /home/juser/.julia/v0.5/Compat/src/Compat.jl:1530 overwritten in module Compat at /home/juser/.julia/v0.5/Compat/src/Compat.jl:1530.\n",
      "WARNING: Method definition isless(Main.Base.Dates.Period, Main.Base.Dates.Period) in module Compat at /home/juser/.julia/v0.5/Compat/src/Compat.jl:1524 overwritten in module Compat at /home/juser/.julia/v0.5/Compat/src/Compat.jl:1524.\n",
      "WARNING: Method definition expand(Module, ANY<:Any) in module Compat at /home/juser/.julia/v0.5/Compat/src/Compat.jl:1490 overwritten in module Compat at /home/juser/.julia/v0.5/Compat/src/Compat.jl:1490.\n",
      "WARNING: Method definition redirect_stderr(Function, Any) in module Compat at /home/juser/.julia/v0.5/Compat/src/Compat.jl:1057 overwritten in module Compat at /home/juser/.julia/v0.5/Compat/src/Compat.jl:1057.\n",
      "WARNING: Method definition ones(AbstractArray) in module Compat at /home/juser/.julia/v0.5/Compat/src/Compat.jl:1440 overwritten in module Compat at /home/juser/.julia/v0.5/Compat/src/Compat.jl:1440.\n",
      "WARNING: Method definition ones(AbstractArray, Type) in module Compat at /home/juser/.julia/v0.5/Compat/src/Compat.jl:1440 overwritten in module Compat at /home/juser/.julia/v0.5/Compat/src/Compat.jl:1440.\n",
      "WARNING: Method definition ones(AbstractArray, Type, Tuple) in module Compat at /home/juser/.julia/v0.5/Compat/src/Compat.jl:1438 overwritten in module Compat at /home/juser/.julia/v0.5/Compat/src/Compat.jl:1438.\n",
      "WARNING: Method definition ones(AbstractArray, Type, Any...) in module Compat at /home/juser/.julia/v0.5/Compat/src/Compat.jl:1439 overwritten in module Compat at /home/juser/.julia/v0.5/Compat/src/Compat.jl:1439.\n",
      "WARNING: Method definition bswap(Main.Base.Complex) in module Compat at /home/juser/.julia/v0.5/Compat/src/Compat.jl:1474 overwritten in module Compat at /home/juser/.julia/v0.5/Compat/src/Compat.jl:1474.\n",
      "WARNING: Method definition convert(Type{Main.Base.Set{#T<:Any}}, Main.Base.Set{#T<:Any}) in module Compat at /home/juser/.julia/v0.5/Compat/src/Compat.jl:1459 overwritten in module Compat at /home/juser/.julia/v0.5/Compat/src/Compat.jl:1459.\n",
      "WARNING: Method definition convert(Type{Main.Base.Set{#T<:Any}}, Main.Base.Set) in module Compat at /home/juser/.julia/v0.5/Compat/src/Compat.jl:1460 overwritten in module Compat at /home/juser/.julia/v0.5/Compat/src/Compat.jl:1460.\n",
      "WARNING: Method definition redirect_stdin(Function, Any) in module Compat at /home/juser/.julia/v0.5/Compat/src/Compat.jl:1057 overwritten in module Compat at /home/juser/.julia/v0.5/Compat/src/Compat.jl:1057.\n",
      "WARNING: Method definition ==(Union{Main.Base.Dates.Millisecond, Main.Base.Dates.Minute, Main.Base.Dates.Week, Main.Base.Dates.Second, Main.Base.Dates.Day, Main.Base.Dates.Hour}, Union{Main.Base.Dates.Year, Main.Base.Dates.Month}) in module Compat at /home/juser/.julia/v0.5/Compat/src/Compat.jl:1527 overwritten in module Compat at /home/juser/.julia/v0.5/Compat/src/Compat.jl:1527.\n",
      "WARNING: Method definition ==(Union{Main.Base.Dates.Year, Main.Base.Dates.Month}, Union{Main.Base.Dates.Millisecond, Main.Base.Dates.Minute, Main.Base.Dates.Week, Main.Base.Dates.Second, Main.Base.Dates.Day, Main.Base.Dates.Hour}) in module Compat at /home/juser/.julia/v0.5/Compat/src/Compat.jl:1528 overwritten in module Compat at /home/juser/.julia/v0.5/Compat/src/Compat.jl:1528.\n",
      "WARNING: Method definition ==(Main.Base.Dates.Period, Main.Base.Dates.Period) in module Compat at /home/juser/.julia/v0.5/Compat/src/Compat.jl:1523 overwritten in module Compat at /home/juser/.julia/v0.5/Compat/src/Compat.jl:1523.\n",
      "WARNING: Method definition include_string(Module, String, String) in module Compat at /home/juser/.julia/v0.5/Compat/src/Compat.jl:1492 overwritten in module Compat at /home/juser/.julia/v0.5/Compat/src/Compat.jl:1492.\n",
      "WARNING: Method definition include_string(Module, AbstractString) in module Compat at /home/juser/.julia/v0.5/Compat/src/Compat.jl:1494 overwritten in module Compat at /home/juser/.julia/v0.5/Compat/src/Compat.jl:1494.\n",
      "WARNING: Method definition include_string(Module, AbstractString, AbstractString) in module Compat at /home/juser/.julia/v0.5/Compat/src/Compat.jl:1494 overwritten in module Compat at /home/juser/.julia/v0.5/Compat/src/Compat.jl:1494.\n",
      "WARNING: Method definition isnull(Any) in module Compat at /home/juser/.julia/v0.5/Compat/src/Compat.jl:1137 overwritten in module Compat at /home/juser/.julia/v0.5/Compat/src/Compat.jl:1137.\n",
      "WARNING: Method definition zeros(AbstractArray) in module Compat at /home/juser/.julia/v0.5/Compat/src/Compat.jl:1440 overwritten in module Compat at /home/juser/.julia/v0.5/Compat/src/Compat.jl:1440.\n",
      "WARNING: Method definition zeros(AbstractArray, Type) in module Compat at /home/juser/.julia/v0.5/Compat/src/Compat.jl:1440 overwritten in module Compat at /home/juser/.julia/v0.5/Compat/src/Compat.jl:1440.\n",
      "WARNING: Method definition zeros(AbstractArray, Type, Tuple) in module Compat at /home/juser/.julia/v0.5/Compat/src/Compat.jl:1438 overwritten in module Compat at /home/juser/.julia/v0.5/Compat/src/Compat.jl:1438.\n",
      "WARNING: Method definition zeros(AbstractArray, Type, Any...) in module Compat at /home/juser/.julia/v0.5/Compat/src/Compat.jl:1439 overwritten in module Compat at /home/juser/.julia/v0.5/Compat/src/Compat.jl:1439.\n",
      "WARNING: Method definition isassigned(Main.Base.RefValue) in module Compat at /home/juser/.julia/v0.5/Compat/src/Compat.jl:1465 overwritten in module Compat at /home/juser/.julia/v0.5/Compat/src/Compat.jl:1465.\n",
      "WARNING: Method definition take!(Task) in module Compat at /home/juser/.julia/v0.5/Compat/src/Compat.jl:53 overwritten in module Compat at /home/juser/.julia/v0.5/Compat/src/Compat.jl:53.\n",
      "WARNING: Method definition take!(Main.Base.AbstractIOBuffer) in module Compat at /home/juser/.julia/v0.5/Compat/src/Compat.jl:1172 overwritten in module Compat at /home/juser/.julia/v0.5/Compat/src/Compat.jl:1172.\n",
      "WARNING: Method definition sort(Main.Base.Dict) in module DataStructures at /home/juser/.julia/v0.5/DataStructures/src/dict_sorting.jl:27 overwritten in module DataStructures at /home/juser/.julia/v0.5/DataStructures/src/dict_sorting.jl:27.\n",
      "WARNING: Method definition #sort(Array{Any, 1}, Main.Base.#sort, Main.Base.Dict) in module DataStructures overwritten in module DataStructures.\n",
      "WARNING: Method definition #stdm(Array{Any, 1}, Main.Base.#stdm, AbstractArray{T<:Real, N<:Any}, AbstractArray{T<:Real, N<:Any}, Int64) in module StatsBase overwritten in module StatsBase.\n",
      "WARNING: Method definition stdm(AbstractArray{T<:Real, N<:Any}, AbstractArray{T<:Real, N<:Any}, Int64) in module StatsBase at /home/juser/.julia/v0.5/StatsBase/src/moments.jl:153 overwritten in module StatsBase at /home/juser/.julia/v0.5/StatsBase/src/moments.jl:153.\n",
      "WARNING: Method definition quantile(AbstractArray{#T<:Real, N<:Any}) in module StatsBase at /home/juser/.julia/v0.5/StatsBase/src/scalarstats.jl:213 overwritten in module StatsBase at /home/juser/.julia/v0.5/StatsBase/src/scalarstats.jl:213.\n",
      "WARNING: Method definition isvalid(Array{Char, 1}) in module LegacyStrings at /home/juser/.julia/v0.5/LegacyStrings/src/utf32.jl:194 overwritten in module LegacyStrings at /home/juser/.julia/v0.5/LegacyStrings/src/utf32.jl:194.\n",
      "WARNING: Method definition convert(Type{#T<:AbstractString}, AbstractArray{#S<:Union{Char, Int32, UInt32}, 1}) in module LegacyStrings at /home/juser/.julia/v0.5/LegacyStrings/src/utf32.jl:133 overwritten in module LegacyStrings at /home/juser/.julia/v0.5/LegacyStrings/src/utf32.jl:133.\n",
      "WARNING: Method definition ismatch(Main.Base.Range{#R<:Number}, Number) in module Match at /home/juser/.julia/v0.5/Match/src/matchutils.jl:8 overwritten in module Match at /home/juser/.julia/v0.5/Match/src/matchutils.jl:8.\n",
      "WARNING: Method definition ismatch(Main.Base.Range{#T<:Any}, #T<:Any) in module Match at /home/juser/.julia/v0.5/Match/src/matchutils.jl:9 overwritten in module Match at /home/juser/.julia/v0.5/Match/src/matchutils.jl:9.\n",
      "WARNING: Method definition ismatch(Char, Number) in module Match at /home/juser/.julia/v0.5/Match/src/matchutils.jl:10 overwritten in module Match at /home/juser/.julia/v0.5/Match/src/matchutils.jl:10.\n",
      "WARNING: Method definition ismatch(Number, Char) in module Match at /home/juser/.julia/v0.5/Match/src/matchutils.jl:11 overwritten in module Match at /home/juser/.julia/v0.5/Match/src/matchutils.jl:11.\n",
      "WARNING: Method definition ismatch(Any, Any) in module Match at /home/juser/.julia/v0.5/Match/src/matchutils.jl:12 overwritten in module Match at /home/juser/.julia/v0.5/Match/src/matchutils.jl:12.\n"
     ]
    },
    {
     "data": {
      "text/plain": [
       "plot_outputs_Plots (generic function with 1 method)"
      ]
     },
     "execution_count": 51,
     "metadata": {},
     "output_type": "execute_result"
    }
   ],
   "source": [
    "using StatsBase\n",
    "using JLD  \n",
    "include(\"../src/BigRidge.jl\")"
   ]
  },
  {
   "cell_type": "code",
   "execution_count": 52,
   "metadata": {
    "collapsed": true
   },
   "outputs": [],
   "source": [
    "#Basic parameters\n",
    "## Basic parameters\n",
    "maxiter=10^8;\n",
    "max_time = 10;\n",
    "max_epocs = 100;\n",
    "printiters = true;\n",
    "exacterror =true; \n",
    "tol = 10.0^(-5.0);\n",
    "restol = 10.0^(-5.0);\n",
    "skip_error_calculation = 25;   # number of iterations where error is not calculated (to save time!) ceil((m)^(1/2))"
   ]
  },
  {
   "cell_type": "code",
   "execution_count": 53,
   "metadata": {
    "collapsed": false
   },
   "outputs": [
    {
     "name": "stdout",
     "output_type": "stream",
     "text": [
      "../data/a9a.jld\n"
     ]
    }
   ],
   "source": [
    "dataset = \"a9a\"\n",
    "prob = defineProb(dataset);"
   ]
  },
  {
   "cell_type": "code",
   "execution_count": 54,
   "metadata": {
    "collapsed": false
   },
   "outputs": [
    {
     "data": {
      "text/plain": [
       "3.9795914751582206e-11"
      ]
     },
     "execution_count": 54,
     "metadata": {},
     "output_type": "execute_result"
    }
   ],
   "source": [
    "norm(prob.A*prob.xsol - prob.b)"
   ]
  },
  {
   "cell_type": "code",
   "execution_count": 55,
   "metadata": {
    "collapsed": true
   },
   "outputs": [],
   "source": [
    "options = MyOptions(0,\"uni\",tol,restol,maxiter,skip_error_calculation,max_time,printiters,exacterror) \n",
    "OUTPUTS = [];"
   ]
  },
  {
   "cell_type": "code",
   "execution_count": 25,
   "metadata": {
    "collapsed": false
   },
   "outputs": [
    {
     "name": "stdout",
     "output_type": "stream",
     "text": [
      "flopsperiter: 247\n",
      "Hadamard\n",
      "-------------------\n",
      "It   | Error% | Residual |  Time   \n",
      "-------------------\n",
      " 25  | 20.38  |  13.84  | 0.6999 \n",
      " 50  | 12.64  |  9.12  | 0.7991 \n",
      " 75  | 9.13  |  5.40  | 0.9026 \n",
      "100  | 7.28  |  4.56  | 1.0163 \n",
      "125  | 6.09  |  3.88  | 1.1508 \n",
      "150  | 5.40  |  3.93  | 1.2461 \n",
      "175  | 4.29  |  2.86  | 1.3421 \n",
      "200  | 3.99  |  2.95  | 1.4466 \n",
      "  1.792943 seconds (8.01 M allocations: 1005.513 MB, 14.37% gc time)\n"
     ]
    }
   ],
   "source": [
    "# Testing Hadamard Sketch\n",
    "method_name = \"Hadamard\";# ROS\n",
    "options.sketchsize =1; # Int(floor(log2(prob.n)));\n",
    "options.maxiter=200;\n",
    "options.skip_error_calculation =25;\n",
    "@time  output= solveRidge(prob, method_name, options);\n",
    "OUTPUTS = [OUTPUTS ; output];"
   ]
  },
  {
   "cell_type": "code",
   "execution_count": 57,
   "metadata": {
    "collapsed": false
   },
   "outputs": [
    {
     "name": "stdout",
     "output_type": "stream",
     "text": [
      "countmin\n",
      "-------------------\n",
      "It   | Error% | Residual |  Time   \n",
      "-------------------\n",
      " 25  | 1506.80  |  117.75  | 0.0272 \n",
      " 50  | 2141.57  |  171.73  | 0.0709 \n",
      " 75  | 1775.92  |  86.06  | 0.0924 \n",
      "100  | 2229.37  |  214.21  | 0.1100 \n",
      "125  | 1897.06  |  165.04  | 0.1305 \n",
      "150  | 2038.49  |  150.49  | 0.1481 \n",
      "175  | 2212.20  |  106.53  | 0.1688 \n",
      "200  | 2383.08  |  105.89  | 0.1871 \n",
      "225  | 2108.25  |  80.33  | 0.2078 \n",
      "250  | 2595.01  |  126.97  | 0.2255 \n",
      "275  | 2612.43  |  162.48  | 0.2429 \n",
      "300  | 2405.52  |  137.63  | 0.2635 \n",
      "325  | 3100.08  |  145.18  | 0.2817 \n",
      "350  | 2599.27  |  240.97  | 0.3023 \n",
      "375  | 2303.21  |  165.60  | 0.3197 \n",
      "400  | 1857.85  |  143.75  | 0.3399 \n",
      "425  | 2483.52  |  112.69  | 0.3575 \n",
      "450  | 2965.06  |  124.41  | 0.3774 \n",
      "475  | 2855.55  |  121.64  | 0.3951 \n",
      "500  | 3084.36  |  156.45  | 0.4125 \n",
      "525  | 2986.18  |  153.23  | 0.4324 \n",
      "550  | 2895.34  |  140.74  | 0.4497 \n",
      "575  | 2992.63  |  148.29  | 0.4695 \n",
      "600  | 3038.18  |  168.28  | 0.4868 \n",
      "625  | 3296.83  |  165.93  | 0.5079 \n",
      "650  | 2278.69  |  170.98  | 0.5256 \n",
      "675  | 2669.61  |  101.24  | 0.5452 \n",
      "700  | 2454.39  |  107.08  | 0.5627 \n",
      "725  | 2952.39  |  181.63  | 0.5800 \n",
      "750  | 2901.10  |  202.73  | 0.6012 \n",
      "775  | 2756.58  |  108.22  | 0.6189 \n",
      "800  | 2919.34  |  112.23  | 0.6394 \n",
      "825  | 2634.86  |  111.75  | 0.6577 \n",
      "850  | 2505.00  |  110.03  | 0.6778 \n",
      "875  | 2742.59  |  193.85  | 0.6955 \n",
      "900  | 2850.85  |  140.81  | 0.7154 \n",
      "925  | 2039.54  |  110.94  | 0.7330 \n",
      "950  | 2718.39  |  111.55  | 0.7506 \n",
      "975  | 2789.98  |  139.55  | 0.7709 \n",
      "1000  | 3064.20  |  131.87  | 0.7885 \n",
      "1025  | 2533.28  |  140.44  | 0.8086 \n",
      "1050  | 2269.13  |  87.94  | 0.8262 \n",
      "1075  | 3045.11  |  191.11  | 0.8466 \n",
      "1100  | 2571.41  |  150.19  | 0.8640 \n",
      "1125  | 2893.62  |  123.73  | 0.8816 \n",
      "1150  | 3214.95  |  175.20  | 0.9017 \n",
      "1175  | 2584.14  |  119.74  | 0.9190 \n",
      "1200  | 2937.22  |  222.47  | 0.9391 \n",
      "1225  | 2376.67  |  184.37  | 0.9563 \n",
      "1250  | 3451.67  |  199.52  | 0.9763 \n",
      "1275  | 2797.73  |  80.93  | 0.9940 \n",
      "1300  | 3270.02  |  129.23  | 1.0137 \n",
      "1325  | 3079.48  |  124.37  | 1.0309 \n",
      "1350  | 2698.14  |  105.43  | 1.0481 \n",
      "1375  | 2508.09  |  135.13  | 1.0677 \n",
      "1400  | 2609.49  |  132.97  | 1.0852 \n",
      "1425  | 2542.48  |  173.18  | 1.1051 \n",
      "1450  | 2599.21  |  152.79  | 1.1225 \n",
      "1475  | 1981.65  |  144.74  | 1.1425 \n",
      "1500  | 2684.76  |  87.58  | 1.1604 \n",
      "1525  | 2874.10  |  169.50  | 1.1805 \n",
      "1550  | 2956.86  |  122.79  | 1.1982 \n",
      "1575  | 2541.65  |  143.47  | 1.2156 \n",
      "1600  | 2469.15  |  134.47  | 1.2355 \n",
      "1625  | 2520.31  |  149.00  | 1.2526 \n",
      "1650  | 2535.11  |  126.94  | 1.2728 \n",
      "1675  | 2821.49  |  99.47  | 1.2902 \n",
      "1700  | 3196.42  |  105.53  | 1.3100 \n",
      "1725  | 2426.23  |  90.10  | 1.3271 \n",
      "1750  | 2884.70  |  174.59  | 1.3439 \n",
      "1775  | 2928.30  |  97.90  | 1.3610 \n",
      "1800  | 3228.63  |  93.76  | 1.3781 \n",
      "1825  | 3013.75  |  140.87  | 1.3977 \n",
      "1850  | 2672.45  |  97.28  | 1.4151 \n",
      "1875  | 2339.55  |  111.43  | 1.4352 \n",
      "1900  | 2458.33  |  118.93  | 1.4530 \n",
      "1925  | 2942.58  |  78.26  | 1.4733 \n",
      "1950  | 3409.57  |  115.03  | 1.4908 \n",
      "1975  | 2992.82  |  167.95  | 1.5105 \n",
      "2000  | 2586.13  |  112.65  | 1.5280 \n",
      "2025  | 2475.70  |  155.79  | 1.5453 \n",
      "2050  | 2722.91  |  91.69  | 1.5650 \n",
      "2075  | 2845.63  |  111.09  | 1.5821 \n",
      "2100  | 3270.55  |  118.69  | 1.6022 \n",
      "2125  | 3646.01  |  156.37  | 1.6194 \n",
      "2150  | 3845.68  |  122.23  | 1.6394 \n",
      "2175  | 3764.99  |  112.08  | 1.6568 \n",
      "2200  | 3198.98  |  107.74  | 1.6765 \n",
      "2225  | 4035.06  |  141.40  | 1.6937 \n",
      "2250  | 3588.87  |  200.59  | 1.7109 \n",
      "2275  | 2972.25  |  109.35  | 1.7310 \n",
      "2300  | 3588.10  |  157.37  | 1.7486 \n",
      "2325  | 2991.46  |  134.19  | 1.7684 \n",
      "2350  | 3468.07  |  153.02  | 1.7857 \n",
      "2375  | 3506.42  |  133.50  | 1.8057 \n",
      "2400  | 3014.77  |  140.05  | 1.8233 \n",
      "2425  | 2876.07  |  94.98  | 1.8406 \n",
      "2450  | 3203.49  |  119.04  | 1.8605 \n",
      "2475  | 3631.71  |  184.94  | 1.8776 \n",
      "2500  | 2774.24  |  108.37  | 1.8983 \n",
      "2525  | 2997.83  |  164.55  | 1.9159 \n",
      "2550  | 2546.13  |  138.03  | 1.9361 \n",
      "2575  | 3383.59  |  136.40  | 1.9533 \n",
      "2600  | 3894.41  |  114.72  | 1.9730 \n",
      "2625  | 3656.36  |  80.16  | 1.9904 \n",
      "2638  | 4500.57  |  145.60  | 2.0006 \n",
      "  2.221055 seconds (4.23 M allocations: 3.254 GB, 18.40% gc time)\n"
     ]
    }
   ],
   "source": [
    "# Testing countmin \n",
    "options.max_time = 2; options.restol = 10.0^(-8); \n",
    "options.sketchsize =5;\n",
    "options.maxiter=200;\n",
    "\n",
    "\n",
    "options.skip_error_calculation =25;\n",
    "method_name = \"countmin\";# gradient descent\n",
    "@time output= solveRidge(prob, method_name, options);\n",
    "OUTPUTS = [OUTPUTS ; output];"
   ]
  },
  {
   "cell_type": "code",
   "execution_count": null,
   "metadata": {
    "collapsed": true
   },
   "outputs": [],
   "source": []
  }
 ],
 "metadata": {
  "kernelspec": {
   "display_name": "Julia 0.5.2",
   "language": "julia",
   "name": "julia-0.5"
  },
  "language_info": {
   "file_extension": ".jl",
   "mimetype": "application/julia",
   "name": "julia",
   "version": "0.5.2"
  }
 },
 "nbformat": 4,
 "nbformat_minor": 2
}
